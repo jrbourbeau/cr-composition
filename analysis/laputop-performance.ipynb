{
 "cells": [
  {
   "cell_type": "markdown",
   "metadata": {
    "deletable": true,
    "editable": true
   },
   "source": [
    "<a id='top'> </a>\n",
    "Author: [James Bourbeau](http://www.jamesbourbeau.com)"
   ]
  },
  {
   "cell_type": "code",
   "execution_count": 1,
   "metadata": {
    "collapsed": false,
    "deletable": true,
    "editable": true
   },
   "outputs": [
    {
     "name": "stdout",
     "output_type": "stream",
     "text": [
      "last updated: 2017-03-13 \n",
      "\n",
      "CPython 2.7.10\n",
      "IPython 5.3.0\n",
      "\n",
      "numpy 1.12.0\n",
      "matplotlib 2.0.0\n",
      "scipy 0.15.1\n",
      "pandas 0.19.2\n",
      "sklearn 0.18.1\n",
      "mlxtend 0.5.1\n"
     ]
    }
   ],
   "source": [
    "%load_ext watermark\n",
    "%watermark -u -d -v -p numpy,matplotlib,scipy,pandas,sklearn,mlxtend"
   ]
  },
  {
   "cell_type": "markdown",
   "metadata": {
    "deletable": true,
    "editable": true
   },
   "source": [
    "# Laputop reconstruction performance\n",
    "### Table of contents\n",
    "1. [Load simulation DataFrame and apply quality cuts](#Load-simulation-DataFrame-and-apply-quality-cuts)\n",
    "2. [Define functions to be fit to effective area](#Define-functions-to-be-fit-to-effective-area)\n",
    "3. [Calculate effective areas](#Calculate-effective-areas)\n",
    "4. [Plot result](#Plot-result)"
   ]
  },
  {
   "cell_type": "code",
   "execution_count": 2,
   "metadata": {
    "collapsed": false,
    "deletable": true,
    "editable": true
   },
   "outputs": [
    {
     "name": "stderr",
     "output_type": "stream",
     "text": [
      "/home/jbourbeau/.local/lib/python2.7/site-packages/sklearn/cross_validation.py:44: DeprecationWarning: This module was deprecated in version 0.18 in favor of the model_selection module into which all the refactored classes and functions are moved. Also note that the interface of the new CV iterators are different from that of this module. This module will be removed in 0.20.\n",
      "  \"This module will be removed in 0.20.\", DeprecationWarning)\n"
     ]
    }
   ],
   "source": [
    "%matplotlib inline\n",
    "from __future__ import division, print_function\n",
    "from collections import defaultdict\n",
    "import numpy as np\n",
    "from scipy import optimize\n",
    "from scipy.stats import chisquare\n",
    "import pandas as pd\n",
    "import matplotlib.pyplot as plt\n",
    "import seaborn.apionly as sns\n",
    "\n",
    "import composition as comp\n",
    "import composition.analysis.plotting as plotting\n",
    "\n",
    "color_dict = comp.analysis.get_color_dict()"
   ]
  },
  {
   "cell_type": "markdown",
   "metadata": {
    "deletable": true,
    "editable": true
   },
   "source": [
    "### Load simulation DataFrame and apply quality cuts\n",
    "[ [back to top](#top) ]"
   ]
  },
  {
   "cell_type": "code",
   "execution_count": 3,
   "metadata": {
    "collapsed": false,
    "deletable": true,
    "editable": true
   },
   "outputs": [
    {
     "name": "stderr",
     "output_type": "stream",
     "text": [
      "/home/jbourbeau/cr-composition/composition/dataframe_functions.py:137: RuntimeWarning: divide by zero encountered in log10\n",
      "  df['log_dEdX'] = np.log10(df['eloss_1500_standard'])\n",
      "/home/jbourbeau/cr-composition/composition/dataframe_functions.py:137: RuntimeWarning: invalid value encountered in log10\n",
      "  df['log_dEdX'] = np.log10(df['eloss_1500_standard'])\n"
     ]
    },
    {
     "name": "stdout",
     "output_type": "stream",
     "text": [
      "IceTopQualityCuts 398044\n",
      "lap_InIce_containment 308917\n",
      "InIceQualityCuts_MilliNCascAbove2 303722\n",
      "InIceQualityCuts_MilliQtotRatio 298477\n",
      "InIceQualityCuts_MilliRloglBelow2 298477\n",
      "InIceQualityCuts_StochRecoSucceeded 298476\n"
     ]
    }
   ],
   "source": [
    "df_sim, cut_dict_sim = comp.load_dataframe(datatype='sim', config='IC79', return_cut_dict=True)\n",
    "selection_mask = np.array([True] * len(df_sim))\n",
    "standard_cut_keys = ['IceTopQualityCuts', 'lap_InIce_containment']\n",
    "#                 'num_hits_1_60', 'max_qfrac_1_60',\n",
    "#                 'InIceQualityCuts']\n",
    "for cut in ['MilliNCascAbove2', 'MilliQtotRatio', 'MilliRloglBelow2', 'StochRecoSucceeded']:\n",
    "    standard_cut_keys += ['InIceQualityCuts_{}'.format(cut)]\n",
    "    \n",
    "for key in standard_cut_keys:\n",
    "    selection_mask *= cut_dict_sim[key]\n",
    "    print(key, np.sum(selection_mask))\n",
    "\n",
    "df_sim = df_sim[selection_mask]"
   ]
  },
  {
   "cell_type": "markdown",
   "metadata": {
    "deletable": true,
    "editable": true
   },
   "source": [
    "#### Define energy binning for this analysis"
   ]
  },
  {
   "cell_type": "code",
   "execution_count": 4,
   "metadata": {
    "collapsed": false,
    "deletable": true,
    "editable": true
   },
   "outputs": [],
   "source": [
    "energy_bins = 10**np.arange(5.0, 9.51, 0.1)\n",
    "energy_midpoints = (energy_bins[1:] + energy_bins[:-1]) / 2\n",
    "\n",
    "energy_min_fit, energy_max_fit = 5.8, 9.5\n",
    "midpoints_fitmask = (energy_midpoints >= 10**energy_min_fit) & (energy_midpoints <= 10**energy_max_fit)"
   ]
  },
  {
   "cell_type": "code",
   "execution_count": 5,
   "metadata": {
    "collapsed": false,
    "deletable": true,
    "editable": true
   },
   "outputs": [
    {
     "data": {
      "text/plain": [
       "array([ 5. ,  5.1,  5.2,  5.3,  5.4,  5.5,  5.6,  5.7,  5.8,  5.9,  6. ,\n",
       "        6.1,  6.2,  6.3,  6.4,  6.5,  6.6,  6.7,  6.8,  6.9,  7. ,  7.1,\n",
       "        7.2,  7.3,  7.4,  7.5,  7.6,  7.7,  7.8,  7.9,  8. ,  8.1,  8.2,\n",
       "        8.3,  8.4,  8.5,  8.6,  8.7,  8.8,  8.9,  9. ,  9.1,  9.2,  9.3,\n",
       "        9.4,  9.5])"
      ]
     },
     "execution_count": 5,
     "metadata": {},
     "output_type": "execute_result"
    }
   ],
   "source": [
    "np.log10(energy_bins)"
   ]
  },
  {
   "cell_type": "code",
   "execution_count": 6,
   "metadata": {
    "collapsed": false,
    "deletable": true,
    "editable": true
   },
   "outputs": [
    {
     "data": {
      "text/plain": [
       "array([ 5.8528719,  5.9528719,  6.0528719,  6.1528719,  6.2528719,\n",
       "        6.3528719,  6.4528719,  6.5528719,  6.6528719,  6.7528719,\n",
       "        6.8528719,  6.9528719,  7.0528719,  7.1528719,  7.2528719,\n",
       "        7.3528719,  7.4528719,  7.5528719,  7.6528719,  7.7528719,\n",
       "        7.8528719,  7.9528719,  8.0528719,  8.1528719,  8.2528719,\n",
       "        8.3528719,  8.4528719,  8.5528719,  8.6528719,  8.7528719,\n",
       "        8.8528719,  8.9528719,  9.0528719,  9.1528719,  9.2528719,\n",
       "        9.3528719,  9.4528719])"
      ]
     },
     "execution_count": 6,
     "metadata": {},
     "output_type": "execute_result"
    }
   ],
   "source": [
    "np.log10(energy_midpoints[midpoints_fitmask])"
   ]
  },
  {
   "cell_type": "markdown",
   "metadata": {
    "deletable": true,
    "editable": true
   },
   "source": [
    "### Energy resolution"
   ]
  },
  {
   "cell_type": "code",
   "execution_count": 7,
   "metadata": {
    "collapsed": true,
    "deletable": true,
    "editable": true
   },
   "outputs": [],
   "source": [
    "energybins = comp.analysis.get_energybins()"
   ]
  },
  {
   "cell_type": "code",
   "execution_count": 8,
   "metadata": {
    "collapsed": true,
    "deletable": true,
    "editable": true
   },
   "outputs": [],
   "source": [
    "energy_res = df_sim['lap_log_energy'] - df_sim['MC_log_energy']\n",
    "light_mask = df_sim['MC_comp_class'] == 'light'\n",
    "heavy_mask = df_sim['MC_comp_class'] == 'heavy'\n",
    "_, bin_medians_light, error_light = comp.analysis.data_functions.get_medians(df_sim['MC_log_energy'][light_mask],\n",
    "                                                                           energy_res[light_mask],\n",
    "                                                                           energybins.log_energy_bins)\n",
    "_, bin_medians_heavy, error_heavy = comp.analysis.data_functions.get_medians(df_sim['MC_log_energy'][heavy_mask],\n",
    "                                                                           energy_res[heavy_mask],\n",
    "                                                                           energybins.log_energy_bins)"
   ]
  },
  {
   "cell_type": "code",
   "execution_count": 10,
   "metadata": {
    "collapsed": false,
    "deletable": true,
    "editable": true
   },
   "outputs": [
    {
     "data": {
      "image/png": "[encoded data removed]",
      "text/plain": [
       "<matplotlib.figure.Figure at 0x7f9810299810>"
      ]
     },
     "metadata": {},
     "output_type": "display_data"
    }
   ],
   "source": [
    "fig, ax = plt.subplots()\n",
    "# ax.errorbar(energybins.log_energy_midpoints, bin_medians_light, yerr=error_light,\n",
    "#             marker='.', ls='None', label='light')\n",
    "# ax.errorbar(energybins.log_energy_midpoints, bin_medians_heavy, yerr=error_heavy,\n",
    "#             marker='.', ls='None', label='heavy')\n",
    "plotting.plot_steps(energybins.log_energy_midpoints, bin_medians_light, np.array(error_light), ax,\n",
    "                        color_dict['light'], 'light')\n",
    "plotting.plot_steps(energybins.log_energy_midpoints, bin_medians_heavy, np.array(error_heavy), ax,\n",
    "                        color_dict['heavy'], 'heavy')\n",
    "ax.axhline(0, marker='None', linestyle='-.')\n",
    "ax.set_xlabel('$\\log_{10}(E_{\\mathrm{MC}}/\\mathrm{GeV})$')\n",
    "ax.set_ylabel('$\\log_{10}(E_{\\mathrm{reco}}/E_{\\mathrm{MC}})$')\n",
    "ax.set_xlim([6.4, 9.0])\n",
    "ax.set_ylim([-0.15, 0.15])\n",
    "ax.legend()\n",
    "ax2 = ax.twinx()\n",
    "ax2.set_ylabel('$E_{\\mathrm{reco}}/E_{\\mathrm{MC}}$')\n",
    "ax2.set_ylim(list(ax.get_ylim()))\n",
    "# ax2.axhline(0.1, marker='None', linestyle='-.', color='gray')\n",
    "# ax2.axhline(-0.1, marker='None', linestyle='-.', color='gray')\n",
    "plt.yticks(list(ax.get_yticks())[1:-1], ['{:0.2f}'.format(10**x) for x in ax.get_yticks()[1:-1]])\n",
    "plt.grid()\n",
    "plt.savefig('/home/jbourbeau/public_html/figures/lap-energyres.png')\n",
    "plt.show()"
   ]
  },
  {
   "cell_type": "markdown",
   "metadata": {
    "deletable": true,
    "editable": true
   },
   "source": [
    "### Core resolution"
   ]
  },
  {
   "cell_type": "code",
   "execution_count": 11,
   "metadata": {
    "collapsed": true,
    "deletable": true,
    "editable": true
   },
   "outputs": [],
   "source": [
    "core_res = np.sqrt((df_sim['lap_x'] - df_sim['MC_x'])**2+(df_sim['lap_y'] - df_sim['MC_y'])**2)\n",
    "_, bin_medians_light, error_light = comp.analysis.data_functions.get_medians(df_sim['MC_log_energy'][light_mask],\n",
    "                                                                           core_res[light_mask],\n",
    "                                                                           energybins.log_energy_bins)\n",
    "_, bin_medians_heavy, error_heavy = comp.analysis.data_functions.get_medians(df_sim['MC_log_energy'][heavy_mask],\n",
    "                                                                           core_res[heavy_mask],\n",
    "                                                                           energybins.log_energy_bins)"
   ]
  },
  {
   "cell_type": "code",
   "execution_count": 12,
   "metadata": {
    "collapsed": false,
    "deletable": true,
    "editable": true
   },
   "outputs": [
    {
     "data": {
      "image/png": "[encoded data removed]",
      "text/plain": [
       "<matplotlib.figure.Figure at 0x7f98100f4c50>"
      ]
     },
     "metadata": {},
     "output_type": "display_data"
    }
   ],
   "source": [
    "fig, ax = plt.subplots()\n",
    "ax.errorbar(energybins.log_energy_midpoints, bin_medians_light, yerr=np.array(error_light),\n",
    "            marker='.', ls='None', label='light')\n",
    "ax.errorbar(energybins.log_energy_midpoints, bin_medians_heavy, yerr=np.array(error_heavy),\n",
    "            marker='.', ls='None', label='heavy')\n",
    "ax.axhline(0, marker='None', linestyle='-.')\n",
    "ax.set_xlabel('$\\log_{10}(E_{\\mathrm{MC}}/\\mathrm{GeV})$')\n",
    "ax.set_ylabel('$\\\\vec{x}_{\\mathrm{reco}}-\\\\vec{x}_{\\mathrm{MC}} \\ [m]$')\n",
    "ax.set_ylim([0, 15])\n",
    "ax.legend()\n",
    "# ax2 = ax.twinx()\n",
    "# ax2.set_ylabel('$E_{\\mathrm{reco}}/E_{\\mathrm{MC}}$')\n",
    "# ax2.set_ylim(list(ax.get_ylim()))\n",
    "# # ax2.axhline(0.1, marker='None', linestyle='-.', color='gray')\n",
    "# # ax2.axhline(-0.1, marker='None', linestyle='-.', color='gray')\n",
    "# plt.yticks(list(ax.get_yticks())[1:-1], ['{:0.2f}'.format(10**x) for x in ax.get_yticks()[1:-1]])\n",
    "plt.grid()\n",
    "plt.savefig('/home/jbourbeau/public_html/figures/lap-coreres.png')\n",
    "plt.show()"
   ]
  },
  {
   "cell_type": "markdown",
   "metadata": {
    "deletable": true,
    "editable": true
   },
   "source": [
    "### S125 resolution"
   ]
  },
  {
   "cell_type": "code",
   "execution_count": 13,
   "metadata": {
    "collapsed": false,
    "deletable": true,
    "editable": true
   },
   "outputs": [],
   "source": [
    "energybins = comp.analysis.get_energybins()"
   ]
  },
  {
   "cell_type": "code",
   "execution_count": 27,
   "metadata": {
    "collapsed": false,
    "deletable": true,
    "editable": true
   },
   "outputs": [],
   "source": [
    "log_s125 = df_sim['log_s125']\n",
    "light_mask = df_sim['MC_comp_class'] == 'light'\n",
    "heavy_mask = df_sim['MC_comp_class'] == 'heavy'\n",
    "_, bin_medians_light, error_light = comp.analysis.data_functions.get_medians(df_sim['MC_log_energy'][light_mask],\n",
    "                                                                           log_s125[light_mask],\n",
    "                                                                           energybins.log_energy_bins)\n",
    "_, bin_medians_heavy, error_heavy = comp.analysis.data_functions.get_medians(df_sim['MC_log_energy'][heavy_mask],\n",
    "                                                                           log_s125[heavy_mask],\n",
    "                                                                           energybins.log_energy_bins)"
   ]
  },
  {
   "cell_type": "code",
   "execution_count": 28,
   "metadata": {
    "collapsed": false,
    "deletable": true,
    "editable": true,
    "scrolled": true
   },
   "outputs": [
    {
     "data": {
      "image/png": "[encoded data removed]",
      "text/plain": [
       "<matplotlib.figure.Figure at 0x7f980fc24b50>"
      ]
     },
     "metadata": {},
     "output_type": "display_data"
    }
   ],
   "source": [
    "fig, ax = plt.subplots()\n",
    "# ax.errorbar(energybins.log_energy_midpoints, bin_medians_light, yerr=error_light,\n",
    "#             marker='.', ls='None', label='light')\n",
    "# ax.errorbar(energybins.log_energy_midpoints, bin_medians_heavy, yerr=error_heavy,\n",
    "#             marker='.', ls='None', label='heavy')\n",
    "plotting.plot_steps(energybins.log_energy_midpoints, bin_medians_light, np.array(error_light), ax,\n",
    "                        color_dict['light'], 'light')\n",
    "plotting.plot_steps(energybins.log_energy_midpoints, bin_medians_heavy, np.array(error_heavy), ax,\n",
    "                        color_dict['heavy'], 'heavy')\n",
    "# ax.axhline(0, marker='None', linestyle='-.')\n",
    "ax.set_xlabel('$\\log_{10}(E_{\\mathrm{MC}}/\\mathrm{GeV})$')\n",
    "ax.set_ylabel('$\\log_{10}(S_{\\mathrm{125}})$')\n",
    "ax.set_xlim([6.4, 9.0])\n",
    "# ax.set_ylim([-0.15, 0.15])\n",
    "ax.legend()\n",
    "# ax2 = ax.twinx()\n",
    "# ax2.set_ylabel('$E_{\\mathrm{reco}}/E_{\\mathrm{MC}}$')\n",
    "# ax2.set_ylim(list(ax.get_ylim()))\n",
    "# # ax2.axhline(0.1, marker='None', linestyle='-.', color='gray')\n",
    "# # ax2.axhline(-0.1, marker='None', linestyle='-.', color='gray')\n",
    "# plt.yticks(list(ax.get_yticks())[1:-1], ['{:0.2f}'.format(10**x) for x in ax.get_yticks()[1:-1]])\n",
    "ax.grid()\n",
    "plt.savefig('/home/jbourbeau/public_html/figures/lap-energyres.png')\n",
    "plt.show()"
   ]
  },
  {
   "cell_type": "code",
   "execution_count": null,
   "metadata": {
    "collapsed": true,
    "deletable": true,
    "editable": true
   },
   "outputs": [],
   "source": []
  },
  {
   "cell_type": "code",
   "execution_count": null,
   "metadata": {
    "collapsed": true
   },
   "outputs": [],
   "source": []
  }
 ],
 "metadata": {
  "kernelspec": {
   "display_name": "Python 2",
   "language": "python",
   "name": "python2"
  }
 },
 "nbformat": 4,
 "nbformat_minor": 1
}
