{
 "cells": [
  {
   "cell_type": "code",
   "execution_count": 1,
   "metadata": {
    "collapsed": false,
    "deletable": true,
    "editable": true
   },
   "outputs": [
    {
     "data": {
      "text/plain": [
       "['',\n",
       " '/cvmfs/icecube.opensciencegrid.org/py2-v1/RHEL_6_x86_64/lib/python2.7/site-packages/setuptools-15.2-py2.7.egg',\n",
       " '/home/jbourbeau/.local/lib/python2.7/site-packages',\n",
       " '/opt/rh/devtoolset-2/root/usr/lib64/python2.7/site-packages',\n",
       " '/opt/rh/devtoolset-2/root/usr/lib/python2.7/site-packages',\n",
       " '/cvmfs/icecube.opensciencegrid.org/py2-v2/RHEL_6_x86_64/i3ports/root-v5.34.18/lib',\n",
       " '/cvmfs/icecube.opensciencegrid.org/py2-v2/RHEL_6_x86_64/lib/python2.7/site-packages',\n",
       " '/cvmfs/icecube.opensciencegrid.org/py2-v2/RHEL_6_x86_64/i3ports/lib/python2.7/site-packages',\n",
       " '/data/user/jbourbeau/metaprojects/icerec/trunk/build/lib',\n",
       " '/home/jbourbeau/cr-composition/analysis',\n",
       " '/home/jbourbeau',\n",
       " '/home/jbourbeau/useful',\n",
       " '/home/jbourbeau/anisotropy',\n",
       " '/home/jbourbeau/ShowerLLH_scripts',\n",
       " '/home/jbourbeau/cr-composition',\n",
       " '/home/jbourbeau/dagmanager',\n",
       " '/home/jbourbeau/pycondor',\n",
       " '/cvmfs/icecube.opensciencegrid.org/py2-v1/RHEL_6_x86_64/lib/python27.zip',\n",
       " '/cvmfs/icecube.opensciencegrid.org/py2-v1/RHEL_6_x86_64/lib/python2.7',\n",
       " '/cvmfs/icecube.opensciencegrid.org/py2-v1/RHEL_6_x86_64/lib/python2.7/plat-linux2',\n",
       " '/cvmfs/icecube.opensciencegrid.org/py2-v1/RHEL_6_x86_64/lib/python2.7/lib-tk',\n",
       " '/cvmfs/icecube.opensciencegrid.org/py2-v1/RHEL_6_x86_64/lib/python2.7/lib-old',\n",
       " '/cvmfs/icecube.opensciencegrid.org/py2-v1/RHEL_6_x86_64/lib/python2.7/lib-dynload',\n",
       " '/cvmfs/icecube.opensciencegrid.org/py2-v1/RHEL_6_x86_64/lib/python2.7/site-packages',\n",
       " '/opt/rh/devtoolset-2/root/usr/lib64/python2.7/site-packages',\n",
       " '/opt/rh/devtoolset-2/root/usr/lib/python2.7/site-packages',\n",
       " '/opt/rh/devtoolset-2/root/usr/lib64/python2.7/site-packages',\n",
       " '/opt/rh/devtoolset-2/root/usr/lib/python2.7/site-packages',\n",
       " '/home/jbourbeau/pycondor',\n",
       " '/home/jbourbeau/pycondor',\n",
       " '/home/jbourbeau/.local/lib/python2.7/site-packages/IPython/extensions',\n",
       " '/home/jbourbeau/.ipython',\n",
       " '/home/jbourbeau/cr-composition',\n",
       " '/home/jbourbeau/cr-composition']"
      ]
     },
     "execution_count": 1,
     "metadata": {},
     "output_type": "execute_result"
    }
   ],
   "source": [
    "import sys\n",
    "sys.path.append('/home/jbourbeau/cr-composition')\n",
    "sys.path"
   ]
  },
  {
   "cell_type": "code",
   "execution_count": 2,
   "metadata": {
    "collapsed": false,
    "deletable": true,
    "editable": true
   },
   "outputs": [
    {
     "name": "stderr",
     "output_type": "stream",
     "text": [
      "/home/jbourbeau/.local/lib/python2.7/site-packages/sklearn/cross_validation.py:44: DeprecationWarning: This module was deprecated in version 0.18 in favor of the model_selection module into which all the refactored classes and functions are moved. Also note that the interface of the new CV iterators are different from that of this module. This module will be removed in 0.20.\n",
      "  \"This module will be removed in 0.20.\", DeprecationWarning)\n"
     ]
    }
   ],
   "source": [
    "import numpy as np\n",
    "import pandas as pd\n",
    "from pandas.tools.plotting import radviz\n",
    "import matplotlib.pyplot as plt\n",
    "from matplotlib.colors import ListedColormap\n",
    "import seaborn.apionly as sns\n",
    "from collections import defaultdict\n",
    "\n",
    "from sklearn.metrics import accuracy_score\n",
    "from sklearn.model_selection import validation_curve, GridSearchCV, cross_val_score, ParameterGrid\n",
    "from sklearn.neighbors import KNeighborsClassifier\n",
    "\n",
    "import composition as comp\n",
    "\n",
    "# Plotting-related\n",
    "sns.set_palette('muted')\n",
    "sns.set_color_codes()\n",
    "color_dict = defaultdict()\n",
    "for i, composition in enumerate(['light', 'heavy', 'total']):\n",
    "    color_dict[composition] = sns.color_palette('muted').as_hex()[i]\n",
    "%matplotlib inline"
   ]
  },
  {
   "cell_type": "code",
   "execution_count": 3,
   "metadata": {
    "collapsed": true,
    "deletable": true,
    "editable": true
   },
   "outputs": [],
   "source": [
    "sns.set_palette('muted')\n",
    "sns.set_color_codes()"
   ]
  },
  {
   "cell_type": "code",
   "execution_count": 4,
   "metadata": {
    "collapsed": false,
    "deletable": true,
    "editable": true
   },
   "outputs": [
    {
     "name": "stdout",
     "output_type": "stream",
     "text": [
      "sim quality cut event flow:\n",
      "             IceTopQualityCuts:    1.0    1.0\n",
      "         lap_InIce_containment:  0.776  0.776\n",
      "             reco_energy_range:  0.654  0.493\n",
      "                 num_hits_1_60:  0.996  0.493\n",
      "                max_qfrac_1_60:  0.998  0.493\n",
      "              InIceQualityCuts:  0.784  0.486\n",
      "\n",
      "\n"
     ]
    },
    {
     "name": "stderr",
     "output_type": "stream",
     "text": [
      "/home/jbourbeau/cr-composition/composition/dataframe_functions.py:124: RuntimeWarning: divide by zero encountered in log10\n",
      "  df['log_NChannels_'+i] = np.log10(df['NChannels_'+i])\n",
      "/home/jbourbeau/cr-composition/composition/dataframe_functions.py:125: RuntimeWarning: divide by zero encountered in log10\n",
      "  df['log_NHits_'+i] = np.log10(df['NHits_'+i])\n"
     ]
    },
    {
     "name": "stdout",
     "output_type": "stream",
     "text": [
      "training features = ['lap_cos_zenith', 'log_s125', 'InIce_log_charge_1_30', 'charge_nchannels_ratio', 'nhits_nchannels_ratio', 'eloss_1500_standard']\n"
     ]
    },
    {
     "ename": "AttributeError",
     "evalue": "'module' object has no attribute 'get_train_test_sets'",
     "output_type": "error",
     "traceback": [
      "\u001b[0;31m\u001b[0m",
      "\u001b[0;31mAttributeError\u001b[0mTraceback (most recent call last)",
      "\u001b[0;32m<ipython-input-4-921ca10311e5>\u001b[0m in \u001b[0;36m<module>\u001b[0;34m()\u001b[0m\n\u001b[1;32m      3\u001b[0m \u001b[0mfeature_list\u001b[0m\u001b[0;34m,\u001b[0m \u001b[0mfeature_labels\u001b[0m \u001b[0;34m=\u001b[0m \u001b[0mcomp\u001b[0m\u001b[0;34m.\u001b[0m\u001b[0mget_training_features\u001b[0m\u001b[0;34m(\u001b[0m\u001b[0;34m)\u001b[0m\u001b[0;34m\u001b[0m\u001b[0m\n\u001b[1;32m      4\u001b[0m \u001b[0;32mprint\u001b[0m\u001b[0;34m(\u001b[0m\u001b[0;34m'training features = {}'\u001b[0m\u001b[0;34m.\u001b[0m\u001b[0mformat\u001b[0m\u001b[0;34m(\u001b[0m\u001b[0mfeature_list\u001b[0m\u001b[0;34m)\u001b[0m\u001b[0;34m)\u001b[0m\u001b[0;34m\u001b[0m\u001b[0m\n\u001b[0;32m----> 5\u001b[0;31m \u001b[0mX_train\u001b[0m\u001b[0;34m,\u001b[0m \u001b[0mX_test\u001b[0m\u001b[0;34m,\u001b[0m \u001b[0my_train\u001b[0m\u001b[0;34m,\u001b[0m \u001b[0my_test\u001b[0m\u001b[0;34m,\u001b[0m \u001b[0mle\u001b[0m \u001b[0;34m=\u001b[0m \u001b[0mcomp\u001b[0m\u001b[0;34m.\u001b[0m\u001b[0mget_train_test_sets\u001b[0m\u001b[0;34m(\u001b[0m\u001b[0mdf_sim\u001b[0m\u001b[0;34m,\u001b[0m \u001b[0mfeature_list\u001b[0m\u001b[0;34m)\u001b[0m\u001b[0;34m\u001b[0m\u001b[0m\n\u001b[0m\u001b[1;32m      6\u001b[0m \u001b[0;34m\u001b[0m\u001b[0m\n\u001b[1;32m      7\u001b[0m \u001b[0;32mprint\u001b[0m\u001b[0;34m(\u001b[0m\u001b[0;34m'number training events = '\u001b[0m \u001b[0;34m+\u001b[0m \u001b[0mstr\u001b[0m\u001b[0;34m(\u001b[0m\u001b[0my_train\u001b[0m\u001b[0;34m.\u001b[0m\u001b[0mshape\u001b[0m\u001b[0;34m[\u001b[0m\u001b[0;36m0\u001b[0m\u001b[0;34m]\u001b[0m\u001b[0;34m)\u001b[0m\u001b[0;34m)\u001b[0m\u001b[0;34m\u001b[0m\u001b[0m\n",
      "\u001b[0;31mAttributeError\u001b[0m: 'module' object has no attribute 'get_train_test_sets'"
     ]
    }
   ],
   "source": [
    "df_sim = comp.load_dataframe(datatype='sim', config='IC79')\n",
    "\n",
    "feature_list, feature_labels = comp.get_training_features()\n",
    "print('training features = {}'.format(feature_list))\n",
    "X_train, X_test, y_train, y_test, le = comp.get_train_test_sets(df_sim, feature_list)\n",
    "\n",
    "print('number training events = ' + str(y_train.shape[0]))"
   ]
  },
  {
   "cell_type": "code",
   "execution_count": 4,
   "metadata": {
    "collapsed": false,
    "deletable": true,
    "editable": true
   },
   "outputs": [
    {
     "data": {
      "text/plain": [
       "array([ -1.30412476,  -1.57385901,  -1.01663487,  -1.58376905,\n",
       "        -1.00989601,  -0.71455711,  -0.77886031,  -1.07185769,\n",
       "        -1.11143146,  -0.89604376,  -1.38911762,  -1.20401424,\n",
       "        -1.20485737,  -1.81987366,  -0.83622682,  -1.22611465,\n",
       "        -1.32099059,  -1.303859  ,  -1.02379808,  -0.86396626,\n",
       "        -1.24409283,  -0.78822118,  -1.32140157,  -1.2752146 ,\n",
       "        -1.17789774,  -0.87541731,  -0.6868446 ,  -1.2386133 ,\n",
       "        -1.24929963,  -1.25692267,  -1.28884625,  -1.06075043,\n",
       "        -1.44815366,  -1.11459266,  -1.14262954,  -1.35282971,\n",
       "        -1.05475907,  -1.25123389,  -0.94833348,  -1.44373246,\n",
       "        -0.82509381,  -0.90234551,  -1.20284723,  -1.22963704,\n",
       "        -1.15737421,  -1.40724228,  -1.2004617 , -14.0718421 ,\n",
       "        -1.13867399,  -7.8605686 ,  -1.20722066,  -1.25087001,\n",
       "        -1.19948892,  -1.12484307,  -1.12562165,  -1.43004042,\n",
       "        -1.29763623,  -1.12405603,  -0.99147217,  -1.07910855,\n",
       "        -0.9915201 ,  -1.35868033,  -1.05577945,  -1.0688829 ,\n",
       "        -1.08744379, -23.7301137 ,  -0.60468364,  -0.79969379,\n",
       "        -1.12572358,  -1.10519008,  -1.08187172,  -0.91637737,\n",
       "        -1.39109197,  -1.00758127,  -1.05167974,  -1.10779541,\n",
       "        -1.0679517 ,  -1.49922055, -10.58233753,  -1.29005919,\n",
       "        -1.22685588,  -0.91163581,  -1.2396261 ,  -1.38794313,\n",
       "        -1.15159629,  -0.91462401,  -1.09586125,  -1.13948414,\n",
       "        -1.27842676,  -1.00552904,  -1.2460979 ,  -1.32977021,\n",
       "        -1.29440453,  -5.43547544,  -1.17594452,  -1.30668755,\n",
       "        -1.12376158,  -0.85342431,  -0.99471434,  -1.37416626])"
      ]
     },
     "execution_count": 4,
     "metadata": {},
     "output_type": "execute_result"
    }
   ],
   "source": [
    "df['lap_likelihood'][df['MC_comp'] == 'He'].values[:100]"
   ]
  },
  {
   "cell_type": "code",
   "execution_count": 8,
   "metadata": {
    "collapsed": false,
    "deletable": true,
    "editable": true
   },
   "outputs": [
    {
     "data": {
      "image/png": "[encoded data removed]",
      "text/plain": [
       "<matplotlib.figure.Figure at 0x7f221c90f5d0>"
      ]
     },
     "metadata": {},
     "output_type": "display_data"
    }
   ],
   "source": [
    "fig, ax = plt.subplots()\n",
    "comp_list = ['light', 'heavy']\n",
    "for composition in comp_list:\n",
    "    llhratio = df_sim['eloss_'][df_sim['MC_comp_class'] == composition]\n",
    "#     print(np.isnan(llhratio.values))\n",
    "#     print(np.argwhere(np.isnan(llhratio.values)))\n",
    "    ax.hist(llhratio.values, bins=np.linspace(0, 25, 25), log=True, label=composition, alpha=0.75)\n",
    "    ax.set_xlabel('dE/dX (X=1500 m)')\n",
    "    ax.set_ylabel('Counts')\n",
    "plt.legend(title='MC composition class')\n",
    "plt.show()"
   ]
  },
  {
   "cell_type": "code",
   "execution_count": null,
   "metadata": {
    "collapsed": false,
    "deletable": true,
    "editable": true
   },
   "outputs": [],
   "source": [
    "fig, ax = plt.subplots()\n",
    "comp_list = ['P', 'He', 'Fe']\n",
    "for composition in comp_list:\n",
    "    energy = df['lap_log_energy'][df['MC_comp'] == composition]\n",
    "    ax.hist(energy, bins=np.linspace(6.2, 8, 100), log=True, label=composition, alpha=0.75)\n",
    "plt.legend()\n",
    "plt.show()"
   ]
  },
  {
   "cell_type": "code",
   "execution_count": null,
   "metadata": {
    "collapsed": false,
    "deletable": true,
    "editable": true
   },
   "outputs": [],
   "source": [
    "fig, ax = plt.subplots()\n",
    "comp_list = ['P', 'He', 'Fe']\n",
    "for composition in comp_list:\n",
    "    charge = df['InIce_log_charge_1_30'][df['MC_comp'] == composition]\n",
    "    ax.hist(charge, bins=np.linspace(0, 6, 100), log=True, label=composition, alpha=0.75)\n",
    "plt.legend()\n",
    "plt.show()"
   ]
  },
  {
   "cell_type": "code",
   "execution_count": null,
   "metadata": {
    "collapsed": false,
    "deletable": true,
    "editable": true
   },
   "outputs": [],
   "source": [
    "df, cut_dict = comp.load_sim(return_cut_dict=True)\n",
    "selection_mask = np.array([True] * len(df))\n",
    "standard_cut_keys = ['lap_reco_success', 'lap_zenith', 'num_hits_45_60', 'IT_signal',\n",
    "                     'StationDensity', 'max_qfrac_45_60', 'lap_containment', 'energy_range_lap']\n",
    "for key in standard_cut_keys:\n",
    "    selection_mask *= cut_dict[key]\n",
    "\n",
    "df = df[selection_mask]\n",
    "\n",
    "fig, ax = plt.subplots()\n",
    "comp_list = ['P', 'He', 'Fe']\n",
    "for composition in comp_list:\n",
    "    charge = df['InIce_log_charge_45_60'][df['MC_comp'] == composition]\n",
    "    ax.hist(charge, bins=np.linspace(0, 6, 100), log=True, label=composition, alpha=0.75)\n",
    "plt.legend()\n",
    "plt.show()"
   ]
  },
  {
   "cell_type": "code",
   "execution_count": null,
   "metadata": {
    "collapsed": false,
    "deletable": true,
    "editable": true
   },
   "outputs": [],
   "source": [
    "fig, ax = plt.subplots()\n",
    "comp_list = ['P', 'He', 'Fe']\n",
    "for composition in comp_list:\n",
    "    nchannels = df['log_NChannels_1_30'][df['MC_comp'] == composition]\n",
    "    ax.hist(nchannels, bins=np.linspace(0, 3, 100), log=True, label=composition, alpha=0.75)\n",
    "plt.legend()\n",
    "plt.show()"
   ]
  },
  {
   "cell_type": "code",
   "execution_count": null,
   "metadata": {
    "collapsed": false,
    "deletable": true,
    "editable": true
   },
   "outputs": [],
   "source": [
    "fig, ax = plt.subplots()\n",
    "comp_list = ['P', 'He', 'Fe']\n",
    "for composition in comp_list:\n",
    "    s125 = df['log_s125'][df['MC_comp'] == composition]\n",
    "    ax.hist(s125, bins=np.linspace(0, 3, 100), log=True, label=composition, alpha=0.75)\n",
    "plt.legend()\n",
    "plt.show()"
   ]
  },
  {
   "cell_type": "code",
   "execution_count": null,
   "metadata": {
    "collapsed": true,
    "deletable": true,
    "editable": true
   },
   "outputs": [],
   "source": []
  }
 ],
 "metadata": {
  "kernelspec": {
   "display_name": "Python 2",
   "language": "python",
   "name": "python2"
  },
  "language_info": {
   "codemirror_mode": {
    "name": "ipython",
    "version": 2
   },
   "file_extension": ".py",
   "mimetype": "text/x-python",
   "name": "python",
   "nbconvert_exporter": "python",
   "pygments_lexer": "ipython2",
   "version": "2.7.10"
  }
 },
 "nbformat": 4,
 "nbformat_minor": 1
}
