{
 "cells": [
  {
   "cell_type": "markdown",
   "metadata": {
    "deletable": true,
    "editable": true
   },
   "source": [
    "<a id='top'> </a>\n",
    "Author: [James Bourbeau](http://www.jamesbourbeau.com)"
   ]
  },
  {
   "cell_type": "code",
   "execution_count": 1,
   "metadata": {
    "collapsed": false,
    "deletable": true,
    "editable": true
   },
   "outputs": [
    {
     "name": "stdout",
     "output_type": "stream",
     "text": [
      "last updated: 2017-03-13 \n",
      "\n",
      "CPython 2.7.10\n",
      "IPython 5.3.0\n",
      "\n",
      "numpy 1.12.0\n",
      "matplotlib 2.0.0\n",
      "scipy 0.15.1\n",
      "pandas 0.19.2\n",
      "sklearn 0.18.1\n",
      "mlxtend 0.5.1\n"
     ]
    }
   ],
   "source": [
    "%load_ext watermark\n",
    "%watermark -u -d -v -p numpy,matplotlib,scipy,pandas,sklearn,mlxtend"
   ]
  },
  {
   "cell_type": "markdown",
   "metadata": {
    "deletable": true,
    "editable": true
   },
   "source": [
    "# Cosmic-ray composition effective area analysis\n",
    "### Table of contents\n",
    "1. [Load simulation DataFrame and apply quality cuts](#Load-simulation-DataFrame-and-apply-quality-cuts)\n",
    "2. [Define functions to be fit to effective area](#Define-functions-to-be-fit-to-effective-area)\n",
    "3. [Calculate effective areas](#Calculate-effective-areas)\n",
    "4. [Plot result](#Plot-result)"
   ]
  },
  {
   "cell_type": "code",
   "execution_count": 2,
   "metadata": {
    "collapsed": false,
    "deletable": true,
    "editable": true
   },
   "outputs": [
    {
     "name": "stderr",
     "output_type": "stream",
     "text": [
      "/home/jbourbeau/.local/lib/python2.7/site-packages/sklearn/cross_validation.py:44: DeprecationWarning: This module was deprecated in version 0.18 in favor of the model_selection module into which all the refactored classes and functions are moved. Also note that the interface of the new CV iterators are different from that of this module. This module will be removed in 0.20.\n",
      "  \"This module will be removed in 0.20.\", DeprecationWarning)\n"
     ]
    }
   ],
   "source": [
    "%matplotlib inline\n",
    "from __future__ import division, print_function\n",
    "from collections import defaultdict\n",
    "import numpy as np\n",
    "from scipy import optimize\n",
    "from scipy.stats import chisquare\n",
    "import pandas as pd\n",
    "import matplotlib.pyplot as plt\n",
    "import seaborn.apionly as sns\n",
    "\n",
    "import composition as comp\n",
    "\n",
    "color_dict = comp.analysis.get_color_dict()"
   ]
  },
  {
   "cell_type": "markdown",
   "metadata": {
    "deletable": true,
    "editable": true
   },
   "source": [
    "### Load simulation DataFrame and apply quality cuts\n",
    "[ [back to top](#top) ]"
   ]
  },
  {
   "cell_type": "code",
   "execution_count": 3,
   "metadata": {
    "collapsed": false,
    "deletable": true,
    "editable": true
   },
   "outputs": [
    {
     "name": "stderr",
     "output_type": "stream",
     "text": [
      "/home/jbourbeau/cr-composition/composition/dataframe_functions.py:137: RuntimeWarning: divide by zero encountered in log10\n",
      "  df['log_dEdX'] = np.log10(df['eloss_1500_standard'])\n",
      "/home/jbourbeau/cr-composition/composition/dataframe_functions.py:137: RuntimeWarning: invalid value encountered in log10\n",
      "  df['log_dEdX'] = np.log10(df['eloss_1500_standard'])\n"
     ]
    },
    {
     "name": "stdout",
     "output_type": "stream",
     "text": [
      "IceTopQualityCuts 398044\n",
      "lap_InIce_containment 308917\n",
      "InIceQualityCuts 298476\n",
      "num_hits_1_60 298466\n"
     ]
    }
   ],
   "source": [
    "df_sim, cut_dict_sim = comp.load_dataframe(datatype='sim', config='IC79', return_cut_dict=True)\n",
    "selection_mask = np.array([True] * len(df_sim))\n",
    "standard_cut_keys = ['IceTopQualityCuts', 'lap_InIce_containment',\n",
    "#                 'num_hits_1_60', 'max_qfrac_1_60',\n",
    "                'InIceQualityCuts', 'num_hits_1_60']\n",
    "# for cut in ['MilliNCascAbove2', 'MilliQtotRatio', 'MilliRloglBelow2', 'StochRecoSucceeded']:\n",
    "#     standard_cut_keys += ['InIceQualityCuts_{}'.format(cut)]\n",
    "    \n",
    "for key in standard_cut_keys:\n",
    "    selection_mask *= cut_dict_sim[key]\n",
    "    print(key, np.sum(selection_mask))\n",
    "\n",
    "df_sim = df_sim[selection_mask]"
   ]
  },
  {
   "cell_type": "markdown",
   "metadata": {
    "deletable": true,
    "editable": true
   },
   "source": [
    "#### Define energy binning for this analysis"
   ]
  },
  {
   "cell_type": "code",
   "execution_count": 4,
   "metadata": {
    "collapsed": false,
    "deletable": true,
    "editable": true
   },
   "outputs": [],
   "source": [
    "energy_bins = 10**np.arange(5.0, 9.51, 0.1)\n",
    "energy_midpoints = (energy_bins[1:] + energy_bins[:-1]) / 2\n",
    "\n",
    "energy_min_fit, energy_max_fit = 5.8, 9.5\n",
    "midpoints_fitmask = (energy_midpoints >= 10**energy_min_fit) & (energy_midpoints <= 10**energy_max_fit)"
   ]
  },
  {
   "cell_type": "code",
   "execution_count": 5,
   "metadata": {
    "collapsed": false,
    "deletable": true,
    "editable": true
   },
   "outputs": [
    {
     "data": {
      "text/plain": [
       "array([ 5. ,  5.1,  5.2,  5.3,  5.4,  5.5,  5.6,  5.7,  5.8,  5.9,  6. ,\n",
       "        6.1,  6.2,  6.3,  6.4,  6.5,  6.6,  6.7,  6.8,  6.9,  7. ,  7.1,\n",
       "        7.2,  7.3,  7.4,  7.5,  7.6,  7.7,  7.8,  7.9,  8. ,  8.1,  8.2,\n",
       "        8.3,  8.4,  8.5,  8.6,  8.7,  8.8,  8.9,  9. ,  9.1,  9.2,  9.3,\n",
       "        9.4,  9.5])"
      ]
     },
     "execution_count": 5,
     "metadata": {},
     "output_type": "execute_result"
    }
   ],
   "source": [
    "np.log10(energy_bins)"
   ]
  },
  {
   "cell_type": "code",
   "execution_count": 6,
   "metadata": {
    "collapsed": false,
    "deletable": true,
    "editable": true
   },
   "outputs": [
    {
     "data": {
      "text/plain": [
       "array([ 5.8528719,  5.9528719,  6.0528719,  6.1528719,  6.2528719,\n",
       "        6.3528719,  6.4528719,  6.5528719,  6.6528719,  6.7528719,\n",
       "        6.8528719,  6.9528719,  7.0528719,  7.1528719,  7.2528719,\n",
       "        7.3528719,  7.4528719,  7.5528719,  7.6528719,  7.7528719,\n",
       "        7.8528719,  7.9528719,  8.0528719,  8.1528719,  8.2528719,\n",
       "        8.3528719,  8.4528719,  8.5528719,  8.6528719,  8.7528719,\n",
       "        8.8528719,  8.9528719,  9.0528719,  9.1528719,  9.2528719,\n",
       "        9.3528719,  9.4528719])"
      ]
     },
     "execution_count": 6,
     "metadata": {},
     "output_type": "execute_result"
    }
   ],
   "source": [
    "np.log10(energy_midpoints[midpoints_fitmask])"
   ]
  },
  {
   "cell_type": "markdown",
   "metadata": {
    "deletable": true,
    "editable": true
   },
   "source": [
    "### Define functions to be fit to effective area"
   ]
  },
  {
   "cell_type": "code",
   "execution_count": 7,
   "metadata": {
    "collapsed": true,
    "deletable": true,
    "editable": true
   },
   "outputs": [],
   "source": [
    "def constant(energy, c):\n",
    "    return c\n",
    "\n",
    "def linefit(energy, m, b):\n",
    "    return m*np.log10(energy) + b\n",
    "\n",
    "def sigmoid_flat(energy, p0, p1, p2):\n",
    "    return p0 / (1 + np.exp(-p1*np.log10(energy) + p2))\n",
    "\n",
    "def sigmoid_slant(energy, p0, p1, p2, p3):\n",
    "    return (p0 + p3*np.log10(energy)) / (1 + np.exp(-p1*np.log10(energy) + p2))"
   ]
  },
  {
   "cell_type": "code",
   "execution_count": 8,
   "metadata": {
    "collapsed": false,
    "deletable": true,
    "editable": true
   },
   "outputs": [],
   "source": [
    "def red_chisquared(obs, fit, sigma, n_params):\n",
    "    return np.sum(((obs - fit)/sigma) ** 2) / (len(obs) - n_params)\n",
    "#     return np.sum(((obs - fit)/sigma) ** 2) / (len(obs) - 1 - n_params)"
   ]
  },
  {
   "cell_type": "code",
   "execution_count": 9,
   "metadata": {
    "collapsed": false,
    "deletable": true,
    "editable": true
   },
   "outputs": [
    {
     "data": {
      "text/plain": [
       "34"
      ]
     },
     "execution_count": 9,
     "metadata": {},
     "output_type": "execute_result"
    }
   ],
   "source": [
    "np.sum(midpoints_fitmask)-3"
   ]
  },
  {
   "cell_type": "markdown",
   "metadata": {
    "deletable": true,
    "editable": true
   },
   "source": [
    "### Calculate effective areas"
   ]
  },
  {
   "cell_type": "code",
   "execution_count": 10,
   "metadata": {
    "collapsed": false,
    "deletable": true,
    "editable": true
   },
   "outputs": [],
   "source": [
    "eff_area, eff_area_error = comp.analysis.effective_area.effective_area(df_sim, np.arange(5.0, 9.51, 0.1))\n",
    "eff_area_light, eff_area_error_light = comp.analysis.effective_area.effective_area(df_sim[df_sim.MC_comp_class == 'light'], np.arange(5.0, 9.51, 0.1))\n",
    "eff_area_heavy, eff_area_error_heavy = comp.analysis.effective_area.effective_area(df_sim[df_sim.MC_comp_class == 'heavy'], np.arange(5.0, 9.51, 0.1))"
   ]
  },
  {
   "cell_type": "code",
   "execution_count": 17,
   "metadata": {
    "collapsed": false,
    "deletable": true,
    "editable": true
   },
   "outputs": [
    {
     "name": "stdout",
     "output_type": "stream",
     "text": [
      "Calculating effective area...\n",
      "Simulation set 7006: 30000 files\n",
      "Simulation set 7007: 30000 files\n",
      "Simulation set 7241: 10000 files\n",
      "Simulation set 7242: 10000 files\n",
      "Simulation set 7262: 19999 files\n",
      "Simulation set 7263: 19998 files\n",
      "Simulation set 7579: 12000 files\n",
      "Simulation set 7784: 12000 files\n",
      "Simulation set 7791: 12000 files\n",
      "Simulation set 7851: 12000 files\n",
      "Calculating effective area...\n",
      "Simulation set 7006: 30000 files\n",
      "Simulation set 7241: 10000 files\n",
      "Simulation set 7263: 19998 files\n",
      "Simulation set 7579: 12000 files\n",
      "Simulation set 7791: 12000 files\n",
      "Calculating effective area...\n",
      "Simulation set 7007: 30000 files\n",
      "Simulation set 7242: 10000 files\n",
      "Simulation set 7262: 19999 files\n",
      "Simulation set 7784: 12000 files\n",
      "Simulation set 7851: 12000 files\n"
     ]
    }
   ],
   "source": [
    "eff_area, eff_area_error, _ = comp.analysis.get_effective_area(df_sim,\n",
    "                                                                energy_bins, energy='MC')\n",
    "eff_area_light, eff_area_error_light, _ = comp.analysis.get_effective_area(\n",
    "                                                                df_sim[df_sim.MC_comp_class == 'light'],\n",
    "                                                                energy_bins, energy='MC')\n",
    "eff_area_heavy, eff_area_error_heavy, _ = comp.analysis.get_effective_area(\n",
    "                                                                df_sim[df_sim.MC_comp_class == 'heavy'],\n",
    "                                                                energy_bins, energy='MC')"
   ]
  },
  {
   "cell_type": "markdown",
   "metadata": {
    "deletable": true,
    "editable": true
   },
   "source": [
    "#### Fit functions to effective area data"
   ]
  },
  {
   "cell_type": "code",
   "execution_count": 18,
   "metadata": {
    "collapsed": false,
    "deletable": true,
    "editable": true
   },
   "outputs": [],
   "source": [
    "p0 = [1.4e7, 8.0, 50.0]\n",
    "popt_light, pcov_light = optimize.curve_fit(sigmoid_flat, energy_midpoints[midpoints_fitmask],\n",
    "                                            eff_area_light[midpoints_fitmask], p0=p0,\n",
    "                                            sigma=eff_area_error_light[midpoints_fitmask])\n",
    "popt_heavy, pcov_heavy = optimize.curve_fit(sigmoid_flat, energy_midpoints[midpoints_fitmask],\n",
    "                                            eff_area_heavy[midpoints_fitmask], p0=p0,\n",
    "                                            sigma=eff_area_error_heavy[midpoints_fitmask])"
   ]
  },
  {
   "cell_type": "code",
   "execution_count": 19,
   "metadata": {
    "collapsed": false,
    "deletable": true,
    "editable": true
   },
   "outputs": [
    {
     "name": "stdout",
     "output_type": "stream",
     "text": [
      "[  1.25888598e+05   8.59930892e+00   5.02314798e+01]\n",
      "[  1.27235578e+05   7.69915243e+00   4.57050006e+01]\n"
     ]
    }
   ],
   "source": [
    "print(popt_light)\n",
    "print(popt_heavy)"
   ]
  },
  {
   "cell_type": "code",
   "execution_count": 20,
   "metadata": {
    "collapsed": false,
    "deletable": true,
    "editable": true
   },
   "outputs": [
    {
     "name": "stdout",
     "output_type": "stream",
     "text": [
      "[  7.89729063e+02   6.35717757e-01   3.74180395e+00]\n",
      "[  6.65334290e+02   2.96703535e-01   1.75439599e+00]\n"
     ]
    }
   ],
   "source": [
    "perr_light = np.sqrt(np.diag(pcov_light))\n",
    "print(perr_light)\n",
    "perr_heavy = np.sqrt(np.diag(pcov_heavy))\n",
    "print(perr_heavy)"
   ]
  },
  {
   "cell_type": "code",
   "execution_count": 21,
   "metadata": {
    "collapsed": false,
    "deletable": true,
    "editable": true
   },
   "outputs": [
    {
     "name": "stdout",
     "output_type": "stream",
     "text": [
      "avg eff area = 126562.087918\n"
     ]
    }
   ],
   "source": [
    "avg = (popt_light[0] + popt_heavy[0]) / 2\n",
    "print('avg eff area = {}'.format(avg))"
   ]
  },
  {
   "cell_type": "code",
   "execution_count": 22,
   "metadata": {
    "collapsed": false,
    "deletable": true,
    "editable": true
   },
   "outputs": [
    {
     "name": "stdout",
     "output_type": "stream",
     "text": [
      "4.17268710475\n",
      "2.72824985623\n"
     ]
    }
   ],
   "source": [
    "light_chi2 = red_chisquared(eff_area_light[midpoints_fitmask],\n",
    "               sigmoid_flat(energy_midpoints[midpoints_fitmask], *popt_light),\n",
    "               eff_area_error_light[midpoints_fitmask], len(popt_light))\n",
    "print(light_chi2)\n",
    "heavy_chi2 = red_chisquared(eff_area_heavy[midpoints_fitmask],\n",
    "               sigmoid_flat(energy_midpoints[midpoints_fitmask], *popt_heavy),\n",
    "               eff_area_error_heavy[midpoints_fitmask], len(popt_heavy))\n",
    "print(heavy_chi2)"
   ]
  },
  {
   "cell_type": "markdown",
   "metadata": {
    "deletable": true,
    "editable": true
   },
   "source": [
    "### Plot result"
   ]
  },
  {
   "cell_type": "code",
   "execution_count": 23,
   "metadata": {
    "collapsed": false,
    "deletable": true,
    "editable": true
   },
   "outputs": [
    {
     "data": {
      "image/png": "[encoded data removed]",
      "text/plain": [
       "<matplotlib.figure.Figure at 0x7fcabe8df3d0>"
      ]
     },
     "metadata": {},
     "output_type": "display_data"
    }
   ],
   "source": [
    "fig, ax = plt.subplots()\n",
    "# plot effective area data points with poisson errors\n",
    "ax.errorbar(np.log10(energy_midpoints), eff_area_light, yerr=eff_area_error_light,\n",
    "            ls='None', marker='.')\n",
    "ax.errorbar(np.log10(energy_midpoints), eff_area_heavy, yerr=eff_area_error_heavy,\n",
    "            ls='None', marker='.')\n",
    "\n",
    "# plot corresponding sigmoid fits to effective area\n",
    "x = 10**np.arange(5.0, 9.5, 0.01)\n",
    "ax.plot(np.log10(x), sigmoid_flat(x, *popt_light),\n",
    "        color=color_dict['light'], label='light', marker='None')\n",
    "ax.plot(np.log10(x), sigmoid_flat(x, *popt_heavy),\n",
    "        color=color_dict['heavy'], label='heavy', marker='None')\n",
    "\n",
    "\n",
    "avg_eff_area = (sigmoid_flat(x, *popt_light) + sigmoid_flat(x, *popt_heavy)) / 2\n",
    "ax.plot(np.log10(x), avg_eff_area,\n",
    "        color=color_dict['total'], label='avg', marker='None')\n",
    "ax.fill_between(np.log10(x),\n",
    "        avg_eff_area-0.01*avg_eff_area,\n",
    "        avg_eff_area+0.01*avg_eff_area,\n",
    "        color=color_dict['total'], alpha=0.5)\n",
    "\n",
    "ax.set_ylabel('Effective area [m$^2$]')\n",
    "ax.set_xlabel('$\\log_{10}(E_{\\mathrm{MC}}/\\mathrm{GeV})$')\n",
    "ax.grid()\n",
    "# ax.set_ylim([0, 180000])\n",
    "ax.set_xlim([5.4, 9.6])\n",
    "\n",
    "#set label style        \n",
    "ax.ticklabel_format(style='sci',axis='y')\n",
    "ax.yaxis.major.formatter.set_powerlimits((0,0))\n",
    "\n",
    "leg = plt.legend()\n",
    "for legobj in leg.legendHandles:\n",
    "    legobj.set_linewidth(3.0)\n",
    "\n",
    "plt.savefig('/home/jbourbeau/public_html/figures/effective-area.png')\n",
    "plt.show()"
   ]
  },
  {
   "cell_type": "markdown",
   "metadata": {
    "deletable": true,
    "editable": true
   },
   "source": [
    "Effective area as quality cuts are sequentially applied"
   ]
  },
  {
   "cell_type": "code",
   "execution_count": 22,
   "metadata": {
    "collapsed": false,
    "deletable": true,
    "editable": true
   },
   "outputs": [
    {
     "name": "stdout",
     "output_type": "stream",
     "text": [
      "num_hits_1_60 397466\n",
      "Calculating effective area...\n",
      "Simulation set 7006: 30000 files\n",
      "Simulation set 7007: 30000 files\n",
      "Simulation set 7241: 10000 files\n",
      "Simulation set 7242: 10000 files\n",
      "Simulation set 7262: 19999 files\n",
      "Simulation set 7263: 19998 files\n",
      "Simulation set 7579: 12000 files\n",
      "Simulation set 7784: 12000 files\n",
      "Simulation set 7791: 12000 files\n",
      "Simulation set 7851: 12000 files\n",
      "max_zenith (deg) = 39.8868533377\n",
      "IceTopQualityCuts 397466\n",
      "Calculating effective area...\n",
      "Simulation set 7006: 30000 files\n",
      "Simulation set 7007: 30000 files\n",
      "Simulation set 7241: 10000 files\n",
      "Simulation set 7242: 10000 files\n",
      "Simulation set 7262: 19999 files\n",
      "Simulation set 7263: 19998 files\n",
      "Simulation set 7579: 12000 files\n",
      "Simulation set 7784: 12000 files\n",
      "Simulation set 7791: 12000 files\n",
      "Simulation set 7851: 12000 files\n",
      "max_zenith (deg) = 39.8868533377\n",
      "lap_InIce_containment 308874\n",
      "Calculating effective area...\n",
      "Simulation set 7006: 30000 files\n",
      "Simulation set 7007: 30000 files\n",
      "Simulation set 7241: 10000 files\n",
      "Simulation set 7242: 10000 files\n",
      "Simulation set 7262: 19999 files\n",
      "Simulation set 7263: 19998 files\n",
      "Simulation set 7579: 12000 files\n",
      "Simulation set 7784: 12000 files\n",
      "Simulation set 7791: 12000 files\n",
      "Simulation set 7851: 12000 files\n",
      "max_zenith (deg) = 36.8723356871\n",
      "InIceQualityCuts 298466\n",
      "Calculating effective area...\n",
      "Simulation set 7006: 30000 files\n",
      "Simulation set 7007: 30000 files\n",
      "Simulation set 7241: 10000 files\n",
      "Simulation set 7242: 10000 files\n",
      "Simulation set 7262: 19999 files\n",
      "Simulation set 7263: 19998 files\n",
      "Simulation set 7579: 12000 files\n",
      "Simulation set 7784: 12000 files\n",
      "Simulation set 7791: 12000 files\n",
      "Simulation set 7851: 12000 files\n",
      "max_zenith (deg) = 36.0396263443\n"
     ]
    }
   ],
   "source": [
    "df_sim, cut_dict_sim = comp.load_dataframe(datatype='sim', config='IC79', return_cut_dict=True)\n",
    "standard_cut_keys = ['num_hits_1_60', 'IceTopQualityCuts', 'lap_InIce_containment',\n",
    "#                 'num_hits_1_60', 'max_qfrac_1_60',\n",
    "                'InIceQualityCuts']\n",
    "# for cut in ['MilliNCascAbove2', 'MilliQtotRatio', 'MilliRloglBelow2', 'StochRecoSucceeded']:\n",
    "#     standard_cut_keys += ['InIceQualityCuts_{}'.format(cut)]\n",
    "\n",
    "eff_area_dict = {}\n",
    "eff_area_err_dict = {}\n",
    "selection_mask = np.array([True] * len(df_sim))\n",
    "for key in standard_cut_keys:\n",
    "    selection_mask *= cut_dict_sim[key]\n",
    "    print(key, np.sum(selection_mask))\n",
    "    eff_area, eff_area_error, _ = comp.analysis.get_effective_area(df_sim[selection_mask],\n",
    "                                                                energy_bins, energy='MC')\n",
    "#     eff_area, eff_area_error = comp.analysis.effective_area.effective_area(df_sim[selection_mask],\n",
    "#                                                                            np.arange(5.0, 9.51, 0.1))\n",
    "    eff_area_dict[key] = eff_area\n",
    "    eff_area_err_dict[key] = eff_area_error"
   ]
  },
  {
   "cell_type": "code",
   "execution_count": 23,
   "metadata": {
    "collapsed": false,
    "deletable": true,
    "editable": true
   },
   "outputs": [
    {
     "data": {
      "image/png": "[encoded data removed]",
      "text/plain": [
       "<matplotlib.figure.Figure at 0x7f3451429950>"
      ]
     },
     "metadata": {},
     "output_type": "display_data"
    }
   ],
   "source": [
    "fig, ax = plt.subplots()\n",
    "cut_labels = {'num_hits_1_60': 'NStations/NChannels', 'IceTopQualityCuts': 'IceTopQualityCuts',\n",
    "             'lap_InIce_containment': 'InIce containment', 'InIceQualityCuts': 'InIceQualityCuts'}\n",
    "for key in standard_cut_keys:\n",
    "# plot effective area data points with poisson errors\n",
    "    ax.errorbar(np.log10(energy_midpoints), eff_area_dict[key], yerr=eff_area_err_dict[key],\n",
    "                ls='None', marker='.', label=cut_labels[key], alpha=0.75)\n",
    "\n",
    "ax.set_ylabel('Effective area [m$^2$]')\n",
    "ax.set_xlabel('$\\log_{10}(E_{\\mathrm{MC}}/\\mathrm{GeV})$')\n",
    "ax.grid()\n",
    "# ax.set_ylim([0, 180000])\n",
    "ax.set_xlim([5.4, 9.6])\n",
    "\n",
    "#set label style        \n",
    "ax.ticklabel_format(style='sci',axis='y')\n",
    "ax.yaxis.major.formatter.set_powerlimits((0,0))\n",
    "\n",
    "leg = plt.legend()\n",
    "\n",
    "plt.savefig('/home/jbourbeau/public_html/figures/effective-area-cuts.png')\n",
    "plt.show()"
   ]
  },
  {
   "cell_type": "code",
   "execution_count": 25,
   "metadata": {
    "collapsed": false,
    "deletable": true,
    "editable": true
   },
   "outputs": [
    {
     "data": {
      "text/plain": [
       "0         0.977565\n",
       "1         0.977565\n",
       "2         0.977565\n",
       "3         0.977565\n",
       "4         0.977565\n",
       "5         0.977565\n",
       "6         0.930691\n",
       "7         0.930691\n",
       "8         0.930691\n",
       "9         0.877416\n",
       "10        0.882823\n",
       "11        0.882823\n",
       "12        0.882823\n",
       "13        0.933905\n",
       "14        0.961793\n",
       "15        0.961793\n",
       "16        0.961793\n",
       "17        0.961793\n",
       "18        0.984030\n",
       "19        0.984030\n",
       "20        0.984030\n",
       "21        0.984030\n",
       "22        0.984030\n",
       "23        0.978673\n",
       "24        0.978673\n",
       "25        0.960052\n",
       "26        0.984591\n",
       "27        0.984591\n",
       "28        0.984591\n",
       "29        0.963559\n",
       "            ...   \n",
       "398014    0.987897\n",
       "398015    0.987897\n",
       "398016    0.987897\n",
       "398017    0.987897\n",
       "398018    0.847435\n",
       "398019    0.925616\n",
       "398020    0.925616\n",
       "398021    0.925616\n",
       "398022    0.922552\n",
       "398023    0.922552\n",
       "398024    0.922552\n",
       "398025    0.922552\n",
       "398026    0.877174\n",
       "398027    0.877174\n",
       "398028    0.877174\n",
       "398029    0.877174\n",
       "398030    0.960051\n",
       "398031    0.960051\n",
       "398032    0.960051\n",
       "398033    0.981109\n",
       "398034    0.981109\n",
       "398035    0.981109\n",
       "398036    0.981109\n",
       "398037    0.981109\n",
       "398038    0.981109\n",
       "398039    0.981109\n",
       "398040    0.908991\n",
       "398041    0.908991\n",
       "398042    0.923625\n",
       "398043    0.923625\n",
       "Name: MC_zenith, dtype: float64"
      ]
     },
     "execution_count": 25,
     "metadata": {},
     "output_type": "execute_result"
    }
   ],
   "source": [
    "np.cos(df_sim.MC_zenith)"
   ]
  },
  {
   "cell_type": "code",
   "execution_count": null,
   "metadata": {
    "collapsed": true,
    "deletable": true,
    "editable": true
   },
   "outputs": [],
   "source": []
  },
  {
   "cell_type": "code",
   "execution_count": null,
   "metadata": {
    "collapsed": true,
    "deletable": true,
    "editable": true
   },
   "outputs": [],
   "source": []
  }
 ],
 "metadata": {
  "kernelspec": {
   "display_name": "Python 2",
   "language": "python",
   "name": "python2"
  },
  "language_info": {
   "codemirror_mode": {
    "name": "ipython",
    "version": 2
   },
   "file_extension": ".py",
   "mimetype": "text/x-python",
   "name": "python",
   "nbconvert_exporter": "python",
   "pygments_lexer": "ipython2",
   "version": "2.7.10"
  }
 },
 "nbformat": 4,
 "nbformat_minor": 1
}
