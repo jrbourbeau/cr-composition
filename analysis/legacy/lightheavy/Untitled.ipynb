{
 "cells": [
  {
   "cell_type": "code",
   "execution_count": 1,
   "metadata": {
    "collapsed": false
   },
   "outputs": [
    {
     "name": "stdout",
     "output_type": "stream",
     "text": [
      "last updated: 2017-02-21 \n",
      "\n",
      "CPython 2.7.10\n",
      "IPython 5.2.2\n",
      "\n",
      "numpy 1.12.0\n",
      "matplotlib 2.0.0\n",
      "scipy 0.15.1\n",
      "pandas 0.19.2\n",
      "sklearn 0.18.1\n",
      "mlxtend 0.5.1\n"
     ]
    }
   ],
   "source": [
    "%load_ext watermark\n",
    "%watermark -u -d -v -p numpy,matplotlib,scipy,pandas,sklearn,mlxtend"
   ]
  },
  {
   "cell_type": "code",
   "execution_count": 2,
   "metadata": {
    "collapsed": false
   },
   "outputs": [
    {
     "name": "stderr",
     "output_type": "stream",
     "text": [
      "/home/jbourbeau/.local/lib/python2.7/site-packages/sklearn/cross_validation.py:44: DeprecationWarning: This module was deprecated in version 0.18 in favor of the model_selection module into which all the refactored classes and functions are moved. Also note that the interface of the new CV iterators are different from that of this module. This module will be removed in 0.20.\n",
      "  \"This module will be removed in 0.20.\", DeprecationWarning)\n"
     ]
    }
   ],
   "source": [
    "%matplotlib inline\n",
    "from __future__ import division, print_function\n",
    "from collections import defaultdict\n",
    "import itertools\n",
    "import numpy as np\n",
    "from scipy import interp\n",
    "import pandas as pd\n",
    "import matplotlib.pyplot as plt\n",
    "from matplotlib.colors import ListedColormap\n",
    "import seaborn.apionly as sns\n",
    "\n",
    "from sklearn.metrics import accuracy_score, confusion_matrix, roc_curve, auc, classification_report\n",
    "from sklearn.model_selection import cross_val_score, StratifiedShuffleSplit, KFold, StratifiedKFold\n",
    "from mlxtend.feature_selection import SequentialFeatureSelector as SFS\n",
    "\n",
    "import composition as comp\n",
    "import composition.analysis.plotting as plotting\n",
    "    \n",
    "color_dict = {'light': 'C0', 'heavy': 'C1', 'total': 'C2',\n",
    "             'P': 'C0', 'He': 'C1', 'O': 'C3', 'Fe':'C4'}"
   ]
  },
  {
   "cell_type": "code",
   "execution_count": null,
   "metadata": {
    "collapsed": true
   },
   "outputs": [],
   "source": [
    "comp_class = True\n",
    "comp_list = ['light', 'heavy'] if comp_class else ['P', 'He', 'O', 'Fe']"
   ]
  }
 ],
 "metadata": {
  "kernelspec": {
   "display_name": "Python 2",
   "language": "python",
   "name": "python2"
  },
  "language_info": {
   "codemirror_mode": {
    "name": "ipython",
    "version": 2
   },
   "file_extension": ".py",
   "mimetype": "text/x-python",
   "name": "python",
   "nbconvert_exporter": "python",
   "pygments_lexer": "ipython2",
   "version": "2.7.10"
  }
 },
 "nbformat": 4,
 "nbformat_minor": 2
}
