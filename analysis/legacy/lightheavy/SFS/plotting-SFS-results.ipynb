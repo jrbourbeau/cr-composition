{
 "cells": [
  {
   "cell_type": "code",
   "execution_count": 1,
   "metadata": {
    "collapsed": false,
    "deletable": true,
    "editable": true
   },
   "outputs": [
    {
     "name": "stderr",
     "output_type": "stream",
     "text": [
      "/home/jbourbeau/.local/lib/python2.7/site-packages/sklearn/cross_validation.py:44: DeprecationWarning: This module was deprecated in version 0.18 in favor of the model_selection module into which all the refactored classes and functions are moved. Also note that the interface of the new CV iterators are different from that of this module. This module will be removed in 0.20.\n",
      "  \"This module will be removed in 0.20.\", DeprecationWarning)\n"
     ]
    }
   ],
   "source": [
    "import matplotlib.pyplot as plt\n",
    "import numpy as np\n",
    "import pandas as pd\n",
    "\n",
    "import composition as comp\n",
    "\n",
    "%matplotlib inline"
   ]
  },
  {
   "cell_type": "code",
   "execution_count": 2,
   "metadata": {
    "collapsed": true,
    "deletable": true,
    "editable": true
   },
   "outputs": [],
   "source": [
    "feature_list, feature_labels = comp.get_training_features()"
   ]
  },
  {
   "cell_type": "code",
   "execution_count": 3,
   "metadata": {
    "collapsed": true,
    "deletable": true,
    "editable": true
   },
   "outputs": [],
   "source": [
    "pipeline_str = 'xgboost'\n",
    "scoring = 'accuracy'\n",
    "cv = 10"
   ]
  },
  {
   "cell_type": "code",
   "execution_count": 4,
   "metadata": {
    "collapsed": false,
    "deletable": true,
    "editable": true
   },
   "outputs": [],
   "source": [
    "sfs = pd.read_csv('SFS-results/{}_forward_nofloat_{}_cv{}.csv'.format(pipeline_str, scoring, cv))\n",
    "sffs = pd.read_csv('SFS-results/{}_forward_floating_{}_cv{}.csv'.format(pipeline_str, scoring, cv))\n",
    "sbs = pd.read_csv('SFS-results/{}_backward_nofloat_{}_cv{}.csv'.format(pipeline_str, scoring, cv))\n",
    "sfbs = pd.read_csv('SFS-results/{}_backward_floating_{}_cv{}.csv'.format(pipeline_str, scoring, cv))"
   ]
  },
  {
   "cell_type": "code",
   "execution_count": 5,
   "metadata": {
    "collapsed": false,
    "deletable": true,
    "editable": true
   },
   "outputs": [
    {
     "data": {
      "text/html": [
       "<div>\n",
       "<table border=\"1\" class=\"dataframe\">\n",
       "  <thead>\n",
       "    <tr style=\"text-align: right;\">\n",
       "      <th></th>\n",
       "      <th>Unnamed: 0</th>\n",
       "      <th>avg_score</th>\n",
       "      <th>ci_bound</th>\n",
       "      <th>cv_scores</th>\n",
       "      <th>feature_idx</th>\n",
       "      <th>std_dev</th>\n",
       "      <th>std_err</th>\n",
       "    </tr>\n",
       "  </thead>\n",
       "  <tbody>\n",
       "    <tr>\n",
       "      <th>0</th>\n",
       "      <td>1</td>\n",
       "      <td>0.615184</td>\n",
       "      <td>0.002381</td>\n",
       "      <td>[ 0.61324942  0.62146406  0.61371315  0.609738...</td>\n",
       "      <td>(12,)</td>\n",
       "      <td>0.003206</td>\n",
       "      <td>0.001069</td>\n",
       "    </tr>\n",
       "    <tr>\n",
       "      <th>1</th>\n",
       "      <td>2</td>\n",
       "      <td>0.770208</td>\n",
       "      <td>0.002141</td>\n",
       "      <td>[ 0.76442531  0.76787016  0.77250745  0.773964...</td>\n",
       "      <td>(9, 12)</td>\n",
       "      <td>0.002882</td>\n",
       "      <td>0.000961</td>\n",
       "    </tr>\n",
       "    <tr>\n",
       "      <th>2</th>\n",
       "      <td>3</td>\n",
       "      <td>0.777038</td>\n",
       "      <td>0.002104</td>\n",
       "      <td>[ 0.77310368  0.7736999   0.77793972  0.782378...</td>\n",
       "      <td>(9, 12, 5)</td>\n",
       "      <td>0.002833</td>\n",
       "      <td>0.000944</td>\n",
       "    </tr>\n",
       "    <tr>\n",
       "      <th>3</th>\n",
       "      <td>4</td>\n",
       "      <td>0.780642</td>\n",
       "      <td>0.002175</td>\n",
       "      <td>[ 0.77575356  0.77913216  0.78032461  0.783040...</td>\n",
       "      <td>(9, 12, 5, 4)</td>\n",
       "      <td>0.002928</td>\n",
       "      <td>0.000976</td>\n",
       "    </tr>\n",
       "    <tr>\n",
       "      <th>4</th>\n",
       "      <td>5</td>\n",
       "      <td>0.782477</td>\n",
       "      <td>0.002080</td>\n",
       "      <td>[ 0.77827095  0.7783372   0.78403445  0.785226...</td>\n",
       "      <td>(9, 2, 12, 5, 4)</td>\n",
       "      <td>0.002800</td>\n",
       "      <td>0.000933</td>\n",
       "    </tr>\n",
       "    <tr>\n",
       "      <th>5</th>\n",
       "      <td>6</td>\n",
       "      <td>0.783491</td>\n",
       "      <td>0.002046</td>\n",
       "      <td>[ 0.77873468  0.77972839  0.78363697  0.786684...</td>\n",
       "      <td>(1, 2, 4, 5, 9, 12)</td>\n",
       "      <td>0.002754</td>\n",
       "      <td>0.000918</td>\n",
       "    </tr>\n",
       "    <tr>\n",
       "      <th>6</th>\n",
       "      <td>7</td>\n",
       "      <td>0.784206</td>\n",
       "      <td>0.002183</td>\n",
       "      <td>[ 0.77899967  0.77999338  0.78482941  0.787810...</td>\n",
       "      <td>(1, 2, 4, 5, 9, 12, 14)</td>\n",
       "      <td>0.002940</td>\n",
       "      <td>0.000980</td>\n",
       "    </tr>\n",
       "    <tr>\n",
       "      <th>7</th>\n",
       "      <td>8</td>\n",
       "      <td>0.784511</td>\n",
       "      <td>0.001996</td>\n",
       "      <td>[ 0.77966214  0.78078834  0.78376946  0.787810...</td>\n",
       "      <td>(1, 2, 4, 5, 9, 11, 12, 14)</td>\n",
       "      <td>0.002687</td>\n",
       "      <td>0.000896</td>\n",
       "    </tr>\n",
       "    <tr>\n",
       "      <th>8</th>\n",
       "      <td>9</td>\n",
       "      <td>0.784564</td>\n",
       "      <td>0.002013</td>\n",
       "      <td>[ 0.77966214  0.78025836  0.78575687  0.788075...</td>\n",
       "      <td>(0, 1, 2, 4, 5, 9, 11, 12, 14)</td>\n",
       "      <td>0.002710</td>\n",
       "      <td>0.000903</td>\n",
       "    </tr>\n",
       "    <tr>\n",
       "      <th>9</th>\n",
       "      <td>10</td>\n",
       "      <td>0.784564</td>\n",
       "      <td>0.002028</td>\n",
       "      <td>[ 0.77959589  0.78025836  0.78575687  0.788141...</td>\n",
       "      <td>(0, 1, 2, 4, 5, 6, 9, 11, 12, 14)</td>\n",
       "      <td>0.002731</td>\n",
       "      <td>0.000910</td>\n",
       "    </tr>\n",
       "    <tr>\n",
       "      <th>10</th>\n",
       "      <td>11</td>\n",
       "      <td>0.784564</td>\n",
       "      <td>0.002028</td>\n",
       "      <td>[ 0.77959589  0.78025836  0.78575687  0.788141...</td>\n",
       "      <td>(0, 1, 2, 4, 5, 6, 9, 11, 12, 13, 14)</td>\n",
       "      <td>0.002731</td>\n",
       "      <td>0.000910</td>\n",
       "    </tr>\n",
       "    <tr>\n",
       "      <th>11</th>\n",
       "      <td>12</td>\n",
       "      <td>0.784564</td>\n",
       "      <td>0.002028</td>\n",
       "      <td>[ 0.77959589  0.78025836  0.78575687  0.788141...</td>\n",
       "      <td>(0, 1, 2, 4, 5, 6, 9, 11, 12, 13, 14, 15)</td>\n",
       "      <td>0.002731</td>\n",
       "      <td>0.000910</td>\n",
       "    </tr>\n",
       "    <tr>\n",
       "      <th>12</th>\n",
       "      <td>13</td>\n",
       "      <td>0.784233</td>\n",
       "      <td>0.002003</td>\n",
       "      <td>[ 0.7793309   0.78045711  0.78476317  0.788141...</td>\n",
       "      <td>(0, 1, 2, 4, 5, 6, 7, 9, 11, 12, 13, 14, 15)</td>\n",
       "      <td>0.002696</td>\n",
       "      <td>0.000899</td>\n",
       "    </tr>\n",
       "    <tr>\n",
       "      <th>13</th>\n",
       "      <td>14</td>\n",
       "      <td>0.784716</td>\n",
       "      <td>0.002262</td>\n",
       "      <td>[ 0.78019212  0.78138456  0.7852269   0.788605...</td>\n",
       "      <td>(0, 1, 2, 4, 5, 6, 7, 8, 9, 11, 12, 13, 14, 15)</td>\n",
       "      <td>0.003046</td>\n",
       "      <td>0.001015</td>\n",
       "    </tr>\n",
       "    <tr>\n",
       "      <th>14</th>\n",
       "      <td>15</td>\n",
       "      <td>0.784756</td>\n",
       "      <td>0.002156</td>\n",
       "      <td>[ 0.77986088  0.78191454  0.78535939  0.789069...</td>\n",
       "      <td>(0, 1, 2, 4, 5, 6, 7, 8, 9, 10, 11, 12, 13, 14...</td>\n",
       "      <td>0.002902</td>\n",
       "      <td>0.000967</td>\n",
       "    </tr>\n",
       "    <tr>\n",
       "      <th>15</th>\n",
       "      <td>16</td>\n",
       "      <td>0.784756</td>\n",
       "      <td>0.002156</td>\n",
       "      <td>[ 0.77986088  0.78191454  0.78535939  0.789069...</td>\n",
       "      <td>(0, 1, 2, 3, 4, 5, 6, 7, 8, 9, 10, 11, 12, 13,...</td>\n",
       "      <td>0.002902</td>\n",
       "      <td>0.000967</td>\n",
       "    </tr>\n",
       "  </tbody>\n",
       "</table>\n",
       "</div>"
      ],
      "text/plain": [
       "    Unnamed: 0  avg_score  ci_bound  \\\n",
       "0            1   0.615184  0.002381   \n",
       "1            2   0.770208  0.002141   \n",
       "2            3   0.777038  0.002104   \n",
       "3            4   0.780642  0.002175   \n",
       "4            5   0.782477  0.002080   \n",
       "5            6   0.783491  0.002046   \n",
       "6            7   0.784206  0.002183   \n",
       "7            8   0.784511  0.001996   \n",
       "8            9   0.784564  0.002013   \n",
       "9           10   0.784564  0.002028   \n",
       "10          11   0.784564  0.002028   \n",
       "11          12   0.784564  0.002028   \n",
       "12          13   0.784233  0.002003   \n",
       "13          14   0.784716  0.002262   \n",
       "14          15   0.784756  0.002156   \n",
       "15          16   0.784756  0.002156   \n",
       "\n",
       "                                            cv_scores  \\\n",
       "0   [ 0.61324942  0.62146406  0.61371315  0.609738...   \n",
       "1   [ 0.76442531  0.76787016  0.77250745  0.773964...   \n",
       "2   [ 0.77310368  0.7736999   0.77793972  0.782378...   \n",
       "3   [ 0.77575356  0.77913216  0.78032461  0.783040...   \n",
       "4   [ 0.77827095  0.7783372   0.78403445  0.785226...   \n",
       "5   [ 0.77873468  0.77972839  0.78363697  0.786684...   \n",
       "6   [ 0.77899967  0.77999338  0.78482941  0.787810...   \n",
       "7   [ 0.77966214  0.78078834  0.78376946  0.787810...   \n",
       "8   [ 0.77966214  0.78025836  0.78575687  0.788075...   \n",
       "9   [ 0.77959589  0.78025836  0.78575687  0.788141...   \n",
       "10  [ 0.77959589  0.78025836  0.78575687  0.788141...   \n",
       "11  [ 0.77959589  0.78025836  0.78575687  0.788141...   \n",
       "12  [ 0.7793309   0.78045711  0.78476317  0.788141...   \n",
       "13  [ 0.78019212  0.78138456  0.7852269   0.788605...   \n",
       "14  [ 0.77986088  0.78191454  0.78535939  0.789069...   \n",
       "15  [ 0.77986088  0.78191454  0.78535939  0.789069...   \n",
       "\n",
       "                                          feature_idx   std_dev   std_err  \n",
       "0                                               (12,)  0.003206  0.001069  \n",
       "1                                             (9, 12)  0.002882  0.000961  \n",
       "2                                          (9, 12, 5)  0.002833  0.000944  \n",
       "3                                       (9, 12, 5, 4)  0.002928  0.000976  \n",
       "4                                    (9, 2, 12, 5, 4)  0.002800  0.000933  \n",
       "5                                 (1, 2, 4, 5, 9, 12)  0.002754  0.000918  \n",
       "6                             (1, 2, 4, 5, 9, 12, 14)  0.002940  0.000980  \n",
       "7                         (1, 2, 4, 5, 9, 11, 12, 14)  0.002687  0.000896  \n",
       "8                      (0, 1, 2, 4, 5, 9, 11, 12, 14)  0.002710  0.000903  \n",
       "9                   (0, 1, 2, 4, 5, 6, 9, 11, 12, 14)  0.002731  0.000910  \n",
       "10              (0, 1, 2, 4, 5, 6, 9, 11, 12, 13, 14)  0.002731  0.000910  \n",
       "11          (0, 1, 2, 4, 5, 6, 9, 11, 12, 13, 14, 15)  0.002731  0.000910  \n",
       "12       (0, 1, 2, 4, 5, 6, 7, 9, 11, 12, 13, 14, 15)  0.002696  0.000899  \n",
       "13    (0, 1, 2, 4, 5, 6, 7, 8, 9, 11, 12, 13, 14, 15)  0.003046  0.001015  \n",
       "14  (0, 1, 2, 4, 5, 6, 7, 8, 9, 10, 11, 12, 13, 14...  0.002902  0.000967  \n",
       "15  (0, 1, 2, 3, 4, 5, 6, 7, 8, 9, 10, 11, 12, 13,...  0.002902  0.000967  "
      ]
     },
     "execution_count": 5,
     "metadata": {},
     "output_type": "execute_result"
    }
   ],
   "source": [
    "sfs"
   ]
  },
  {
   "cell_type": "code",
   "execution_count": 6,
   "metadata": {
    "collapsed": false,
    "deletable": true,
    "editable": true
   },
   "outputs": [
    {
     "name": "stderr",
     "output_type": "stream",
     "text": [
      "/home/jbourbeau/.local/lib/python2.7/site-packages/matplotlib/figure.py:1742: UserWarning: This figure includes Axes that are not compatible with tight_layout, so its results might be incorrect.\n",
      "  warnings.warn(\"This figure includes Axes that are not \"\n"
     ]
    },
    {
     "data": {
      "image/png": "[encoded data removed]",
      "text/plain": [
       "<matplotlib.figure.Figure at 0x7f237db25510>"
      ]
     },
     "metadata": {},
     "output_type": "display_data"
    }
   ],
   "source": [
    "selector_list = [sfs, sffs, sbs, sfbs]\n",
    "selector_label = ['SFS', 'SFFS', 'SBS', 'SFBS']\n",
    "fig, ax = plt.subplots()\n",
    "for idx, selector in enumerate(selector_list):\n",
    "    scores = [row['avg_score'] for index, row in selector.iterrows()]\n",
    "    errs = [row['std_dev'] for index, row in selector.iterrows()]\n",
    "    ax.errorbar(range(1, len(selector)+1), scores, yerr=errs,\n",
    "                marker='.', linestyle='-', lw=1, alpha=0.75,\n",
    "                label=selector_label[idx])\n",
    "plt.xlabel('Feature subset size')\n",
    "plt.ylabel('Accurary')\n",
    "plt.title('XGBoost')\n",
    "plt.grid()\n",
    "plt.legend(title='Selection algorithm', loc='lower right')\n",
    "plt.show()"
   ]
  },
  {
   "cell_type": "code",
   "execution_count": 15,
   "metadata": {
    "collapsed": false,
    "deletable": true,
    "editable": true
   },
   "outputs": [
    {
     "name": "stdout",
     "output_type": "stream",
     "text": [
      "SFS: (k = 8)\n",
      "['$\\\\cos(\\\\theta_{\\\\mathrm{Lap}})$' '$\\\\log_{10}$(NChannels (top 50\\\\%))'\n",
      " '$\\\\log_{10}$(NHits (top 50\\\\%))' '$\\\\log_{10}(S_{\\\\mathrm{500}})$'\n",
      " '$\\\\log_{10}(S_{\\\\mathrm{50}})$' '$r\\\\log_{10}(l)$'\n",
      " 'Num HE stochastics (standard)' 'dE/dX (standard)']\n",
      "SFFS: (k = 8)\n",
      "['$\\\\cos(\\\\theta_{\\\\mathrm{Lap}})$' '$\\\\log_{10}$(NChannels (top 50\\\\%))'\n",
      " '$\\\\log_{10}$(NHits (top 50\\\\%))' '$\\\\log_{10}(S_{\\\\mathrm{500}})$'\n",
      " '$\\\\log_{10}(S_{\\\\mathrm{50}})$' '$r\\\\log_{10}(l)$'\n",
      " 'Num HE stochastics (standard)' 'dE/dX (standard)']\n",
      "SBS: (k = 8)\n",
      "['$\\\\cos(\\\\theta_{\\\\mathrm{Lap}})$' '$\\\\log_{10}$(NChannels (top 50\\\\%))'\n",
      " '$\\\\log_{10}(E_{\\\\mathrm{Lap}}/\\\\mathrm{GeV})$'\n",
      " '$\\\\log_{10}(S_{\\\\mathrm{50}})$' '$r\\\\log_{10}(l)$' 'NChannels/NHits'\n",
      " 'Num HE stochastics (standard)' 'dE/dX (standard)']\n",
      "SFBS: (k = 8)\n",
      "['$\\\\cos(\\\\theta_{\\\\mathrm{Lap}})$' '$\\\\log_{10}$(NChannels (top 50\\\\%))'\n",
      " '$\\\\log_{10}(E_{\\\\mathrm{Lap}}/\\\\mathrm{GeV})$'\n",
      " '$\\\\log_{10}(S_{\\\\mathrm{50}})$' '$r\\\\log_{10}(l)$' 'NChannels/NHits'\n",
      " 'Num HE stochastics (standard)' 'dE/dX (standard)']\n"
     ]
    }
   ],
   "source": [
    "k_features = 8\n",
    "for idx, selector in enumerate(selector_list):\n",
    "    indices_str = selector['feature_idx'][k_features-1]\n",
    "    indices_str = indices_str.replace('(','')\n",
    "    indices_str = indices_str.replace(')','')\n",
    "    indices_str = indices_str.replace(',','')\n",
    "    indices = [int(i) for i in indices_str.split()]\n",
    "    print(selector_label[idx]+': (k = {})'.format(k_features))\n",
    "    indices = [int(i) for i in indices_str.split()]\n",
    "    print(np.sort(feature_labels[list(indices)]))"
   ]
  },
  {
   "cell_type": "code",
   "execution_count": null,
   "metadata": {
    "collapsed": true,
    "deletable": true,
    "editable": true
   },
   "outputs": [],
   "source": []
  },
  {
   "cell_type": "code",
   "execution_count": null,
   "metadata": {
    "collapsed": true,
    "deletable": true,
    "editable": true
   },
   "outputs": [],
   "source": []
  }
 ],
 "metadata": {
  "kernelspec": {
   "display_name": "Python 2",
   "language": "python",
   "name": "python2"
  },
  "language_info": {
   "codemirror_mode": {
    "name": "ipython",
    "version": 2
   },
   "file_extension": ".py",
   "mimetype": "text/x-python",
   "name": "python",
   "nbconvert_exporter": "python",
   "pygments_lexer": "ipython2",
   "version": "2.7.10"
  }
 },
 "nbformat": 4,
 "nbformat_minor": 2
}
