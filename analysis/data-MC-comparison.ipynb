{
 "cells": [
  {
   "cell_type": "markdown",
   "metadata": {
    "deletable": true,
    "editable": true
   },
   "source": [
    "<a id='top'> </a>\n",
    "Author: [James Bourbeau](http://www.jamesbourbeau.com)"
   ]
  },
  {
   "cell_type": "code",
   "execution_count": 1,
   "metadata": {
    "collapsed": false,
    "deletable": true,
    "editable": true
   },
   "outputs": [
    {
     "name": "stdout",
     "output_type": "stream",
     "text": [
      "last updated: 2017-03-22 \n",
      "\n",
      "CPython 2.7.10\n",
      "IPython 5.3.0\n",
      "\n",
      "numpy 1.12.0\n",
      "scipy 0.15.1\n",
      "pandas 0.19.2\n",
      "sklearn 0.18.1\n",
      "mlxtend 0.5.1\n"
     ]
    }
   ],
   "source": [
    "%load_ext watermark\n",
    "%watermark -u -d -v -p numpy,scipy,pandas,sklearn,mlxtend"
   ]
  },
  {
   "cell_type": "markdown",
   "metadata": {
    "deletable": true,
    "editable": true
   },
   "source": [
    "# Data-MC comparison\n",
    "### Table of contents\n",
    "1. [Data preprocessing](#Data-preprocessing)\n",
    "2. [Weight simulation events to spectrum](#Weight-simulation-events-to-spectrum)\n",
    "3. [S125 verification](#S125-verification)\n",
    "4. [$\\log_{10}(\\mathrm{dE/dX})$ verification](#$\\log_{10}(\\mathrm{dE/dX})$-verification)"
   ]
  },
  {
   "cell_type": "code",
   "execution_count": null,
   "metadata": {
    "collapsed": false,
    "deletable": true,
    "editable": true
   },
   "outputs": [],
   "source": [
    "from __future__ import division, print_function\n",
    "import numpy as np\n",
    "import pandas as pd\n",
    "import matplotlib.pyplot as plt\n",
    "import matplotlib.gridspec as gridspec\n",
    "\n",
    "from icecube.weighting.weighting import from_simprod\n",
    "\n",
    "import composition as comp\n",
    "import composition.analysis.plotting as plotting\n",
    "\n",
    "color_dict = comp.analysis.get_color_dict()\n",
    "\n",
    "%matplotlib inline"
   ]
  },
  {
   "cell_type": "markdown",
   "metadata": {
    "deletable": true,
    "editable": true
   },
   "source": [
    "# Data preprocessing\n",
    "[ [back to top](#top) ]\n",
    "1. Load simulation/data dataframe and apply specified quality cuts\n",
    "2. Extract desired features from dataframe\n",
    "3. Get separate testing and training datasets\n",
    "4. Feature selection"
   ]
  },
  {
   "cell_type": "markdown",
   "metadata": {
    "deletable": true,
    "editable": true
   },
   "source": [
    "### Load simulation, format feature and target matrices"
   ]
  },
  {
   "cell_type": "code",
   "execution_count": null,
   "metadata": {
    "collapsed": false,
    "deletable": true,
    "editable": true
   },
   "outputs": [],
   "source": [
    "df_sim = comp.load_dataframe(datatype='sim', config='IC79')\n",
    "df_data = comp.load_dataframe(datatype='data', config='IC79')\n",
    "\n",
    "n_sim = len(df_sim)\n",
    "n_data = len(df_data)\n",
    "print('{} simulation events'.format(n_sim))\n",
    "print('{} data events'.format(n_data))"
   ]
  },
  {
   "cell_type": "code",
   "execution_count": null,
   "metadata": {
    "collapsed": false,
    "deletable": true,
    "editable": true
   },
   "outputs": [],
   "source": [
    "df_data = df_data[np.isfinite(df_data['log_dEdX'])]"
   ]
  },
  {
   "cell_type": "markdown",
   "metadata": {
    "deletable": true,
    "editable": true
   },
   "source": [
    "# Weight simulation events to spectrum \n",
    "\n",
    "[ [back to top](#top) ]\n",
    "\n",
    "For more information, see the [IT73-IC79 Data-MC comparison wiki page](https://wiki.icecube.wisc.edu/index.php/IT73-IC79_Data-MC_Comparison).\n",
    "\n",
    "First, we'll need to define a 'realistic' flux model"
   ]
  },
  {
   "cell_type": "code",
   "execution_count": null,
   "metadata": {
    "collapsed": true,
    "deletable": true,
    "editable": true
   },
   "outputs": [],
   "source": [
    "phi_0 = 2.95e-6\n",
    "gamma_1 = -2.7\n",
    "gamma_2 = -3.1\n",
    "eps = 100\n",
    "def flux(E):\n",
    "    E = np.array(E) * 1e-6 \n",
    "    return (1e-6) * phi_0 * E**gamma_1 *(1+(E/3.)**eps)**((gamma_2-gamma_1)/eps)"
   ]
  },
  {
   "cell_type": "code",
   "execution_count": null,
   "metadata": {
    "collapsed": true,
    "deletable": true,
    "editable": true
   },
   "outputs": [],
   "source": [
    "from icecube.weighting.fluxes import GaisserH3a, GaisserH4a, Hoerandel5\n",
    "flux_h4a = GaisserH4a()"
   ]
  },
  {
   "cell_type": "code",
   "execution_count": null,
   "metadata": {
    "collapsed": false,
    "deletable": true,
    "editable": true
   },
   "outputs": [],
   "source": [
    "energy_points = np.logspace(6.0, 9.0, 100)\n",
    "fig, ax = plt.subplots()\n",
    "ax.plot(np.log10(energy_points), energy_points**2.7*flux_h4a(energy_points, 2212),\n",
    "       marker='None', ls='-', lw=2, label='H4a proton')\n",
    "ax.plot(np.log10(energy_points), energy_points**2.7*flux_h4a(energy_points, 1000260560),\n",
    "       marker='None', ls='-', lw=2, label='H4a iron')\n",
    "ax.plot(np.log10(energy_points), energy_points**2.7*flux(energy_points),\n",
    "       marker='None', ls='-', lw=2, label='Simple knee')\n",
    "ax.set_yscale('log', nonposy='clip')\n",
    "ax.set_xlabel('$\\log_{10}(E/\\mathrm{GeV})$')\n",
    "ax.set_ylabel('$\\mathrm{E}^{2.7} \\ J(E) \\ [\\mathrm{GeV}^{1.7} \\mathrm{m}^{-2} \\mathrm{sr}^{-1} \\mathrm{s}^{-1}]$')\n",
    "ax.grid()\n",
    "ax.legend()\n",
    "plt.show()"
   ]
  },
  {
   "cell_type": "code",
   "execution_count": null,
   "metadata": {
    "collapsed": false,
    "deletable": true,
    "editable": true
   },
   "outputs": [],
   "source": [
    "simlist = np.unique(df_sim['sim'])\n",
    "for i, sim in enumerate(simlist):\n",
    "    gcd_file, sim_files = comp.simfunctions.get_level3_sim_files(sim)\n",
    "    num_files = len(sim_files)\n",
    "    print('Simulation set {}: {} files'.format(sim, num_files))\n",
    "    if i == 0:\n",
    "        generator = num_files*from_simprod(int(sim))\n",
    "    else:\n",
    "        generator += num_files*from_simprod(int(sim))\n",
    "energy = df_sim['MC_energy'].values\n",
    "ptype = df_sim['MC_type'].values\n",
    "num_ptypes = np.unique(ptype).size\n",
    "cos_theta = np.cos(df_sim['MC_zenith']).values\n",
    "weights = 1.0/generator(energy, ptype, cos_theta)\n",
    "# weights = weights*num_ptypes"
   ]
  },
  {
   "cell_type": "code",
   "execution_count": null,
   "metadata": {
    "collapsed": true,
    "deletable": true,
    "editable": true
   },
   "outputs": [],
   "source": [
    "# df_sim['weights'] = flux(df_sim['MC_energy'])*weights\n",
    "df_sim['weights'] = flux_h4a(df_sim['MC_energy'], df_sim['MC_type'])*weights"
   ]
  },
  {
   "cell_type": "code",
   "execution_count": null,
   "metadata": {
    "collapsed": false,
    "deletable": true,
    "editable": true
   },
   "outputs": [],
   "source": [
    "livetime = 27114012.\n",
    "# livetime = 310.2 * (60*60*24)\n",
    "print(livetime)"
   ]
  },
  {
   "cell_type": "code",
   "execution_count": null,
   "metadata": {
    "collapsed": true,
    "deletable": true,
    "editable": true
   },
   "outputs": [],
   "source": [
    "# comp_list = ['light', 'heavy']\n",
    "comp_list = ['P', 'Fe']\n",
    "MC_comp_mask = {}\n",
    "for composition in comp_list:\n",
    "    MC_comp_mask[composition] = df_sim['MC_comp'] == composition\n",
    "#     MC_comp_mask[composition] = df_sim['MC_comp_class'] == composition"
   ]
  },
  {
   "cell_type": "code",
   "execution_count": null,
   "metadata": {
    "collapsed": true,
    "deletable": true,
    "editable": true
   },
   "outputs": [],
   "source": [
    "def plot_rate(array, weights, bins, xlabel=None, color='C0', label=None, legend=True, ax=None):\n",
    "    \n",
    "    if ax is None:\n",
    "        ax = plt.gca()\n",
    "\n",
    "    rate = np.histogram(array, bins=bins, weights=weights)[0]\n",
    "    rate_err = np.sqrt(np.histogram(array, bins=bins, weights=weights**2)[0])\n",
    "    plotting.plot_steps(bins, rate, yerr=rate_err, color=color,\n",
    "                        label=label, ax=ax)\n",
    "    ax.set_yscale('log', nonposy='clip')\n",
    "    ax.set_ylabel('Rate [Hz]')\n",
    "    if xlabel:\n",
    "        ax.set_xlabel(xlabel)\n",
    "    if legend:\n",
    "        ax.legend()\n",
    "    ax.grid(True)\n",
    "    \n",
    "    return ax"
   ]
  },
  {
   "cell_type": "code",
   "execution_count": null,
   "metadata": {
    "collapsed": false,
    "deletable": true,
    "editable": true
   },
   "outputs": [],
   "source": [
    "def plot_data_MC_ratio(sim_array, sim_weights, data_array, data_weights, bins,\n",
    "                       xlabel=None, color='C0', label=None, legend=False, ylim=None, ax=None):\n",
    "    \n",
    "    if ax is None:\n",
    "        ax = plt.gca()\n",
    "\n",
    "    sim_rate = np.histogram(sim_array, bins=bins, weights=sim_weights)[0]\n",
    "    sim_rate_err = np.sqrt(np.histogram(sim_array, bins=bins, weights=sim_weights**2)[0])\n",
    "    \n",
    "    data_rate = np.histogram(data_array, bins=bins, weights=data_weights)[0]\n",
    "    data_rate_err = np.sqrt(np.histogram(data_array, bins=bins, weights=data_weights**2)[0])\n",
    "    \n",
    "    ratio, ratio_err = comp.analysis.ratio_error(data_rate, data_rate_err, sim_rate, sim_rate_err)\n",
    "    \n",
    "    plotting.plot_steps(bins, ratio, yerr=ratio_err,\n",
    "                        color=color, label=label, ax=ax)\n",
    "    ax.grid(True)\n",
    "    ax.set_ylabel('Data/MC')\n",
    "    if xlabel:\n",
    "        ax.set_xlabel(xlabel)\n",
    "    if ylim:\n",
    "        ax.set_ylim(ylim)\n",
    "    if legend:\n",
    "        ax.legend()\n",
    "\n",
    "    ax.axhline(1, marker='None', ls='-.', color='k')\n",
    "    \n",
    "    return ax"
   ]
  },
  {
   "cell_type": "markdown",
   "metadata": {
    "deletable": true,
    "editable": true
   },
   "source": [
    "## $\\log_{10}(\\mathrm{S_{125}})$ verification\n",
    "\n",
    "[ [back to top](#top) ]"
   ]
  },
  {
   "cell_type": "code",
   "execution_count": null,
   "metadata": {
    "collapsed": false,
    "deletable": true,
    "editable": true
   },
   "outputs": [],
   "source": [
    "df_sim['log_s125'].plot(kind='hist', bins=100)"
   ]
  },
  {
   "cell_type": "code",
   "execution_count": null,
   "metadata": {
    "collapsed": false,
    "deletable": true,
    "editable": true
   },
   "outputs": [],
   "source": [
    "log_s125_bins = np.linspace(-2, 4, 75)\n",
    "\n",
    "gs = gridspec.GridSpec(2, 1, height_ratios=[2,1], hspace=0.0)\n",
    "ax1 = plt.subplot(gs[0])\n",
    "ax2 = plt.subplot(gs[1], sharex=ax1)\n",
    "for composition in comp_list:\n",
    "    sim_s125 = df_sim[MC_comp_mask[composition]]['log_s125']\n",
    "    sim_weights = df_sim[MC_comp_mask[composition]]['weights']\n",
    "    plot_rate(sim_s125, sim_weights, bins=log_s125_bins,\n",
    "              color=color_dict[composition], label=composition, ax=ax1)\n",
    "data_weights = np.array([1/livetime]*len(df_data['log_s125']))\n",
    "plot_rate(df_data['log_s125'], data_weights, bins=log_s125_bins,\n",
    "          color=color_dict['data'], label='data', ax=ax1)\n",
    "\n",
    "for composition in comp_list:\n",
    "    sim_s125 = df_sim[MC_comp_mask[composition]]['log_s125']\n",
    "    sim_weights = df_sim[MC_comp_mask[composition]]['weights']\n",
    "    ax2 = plot_data_MC_ratio(sim_s125, sim_weights, \n",
    "                       df_data['log_s125'], data_weights, log_s125_bins,\n",
    "                       xlabel='$\\log_{10}(\\mathrm{S}_{125})$', color=color_dict[composition],\n",
    "                       label=composition, ax=ax2)\n",
    "\n",
    "plt.savefig('/home/jbourbeau/public_html/figures/data-MC-comparison-s125.png')\n",
    "plt.show()"
   ]
  },
  {
   "cell_type": "markdown",
   "metadata": {
    "deletable": true,
    "editable": true
   },
   "source": [
    "##  $\\log_{10}(\\mathrm{dE/dX})$ verification"
   ]
  },
  {
   "cell_type": "code",
   "execution_count": 153,
   "metadata": {
    "collapsed": false,
    "deletable": true,
    "editable": true
   },
   "outputs": [
    {
     "data": {
      "text/plain": [
       "<matplotlib.axes._subplots.AxesSubplot at 0x7f9d3380b110>"
      ]
     },
     "execution_count": 153,
     "metadata": {},
     "output_type": "execute_result"
    },
    {
     "data": {
      "image/png": "[encoded data removed]",
      "text/plain": [
       "<matplotlib.figure.Figure at 0x7f9d2ddc5cd0>"
      ]
     },
     "metadata": {},
     "output_type": "display_data"
    }
   ],
   "source": [
    "df_sim['log_dEdX'].plot(kind='hist', bins=100)"
   ]
  },
  {
   "cell_type": "code",
   "execution_count": 233,
   "metadata": {
    "collapsed": false,
    "deletable": true,
    "editable": true
   },
   "outputs": [
    {
     "data": {
      "image/png": "[encoded data removed]",
      "text/plain": [
       "<matplotlib.figure.Figure at 0x7f9d3339fad0>"
      ]
     },
     "metadata": {},
     "output_type": "display_data"
    }
   ],
   "source": [
    "log_dEdX_bins = np.linspace(-3, 5, 75)\n",
    "\n",
    "gs = gridspec.GridSpec(2, 1, height_ratios=[2,1], hspace=0.0)\n",
    "ax1 = plt.subplot(gs[0])\n",
    "ax2 = plt.subplot(gs[1], sharex=ax1)\n",
    "for composition in comp_list:\n",
    "    sim_dEdX = df_sim[MC_comp_mask[composition]]['log_dEdX']\n",
    "    sim_weights = df_sim[MC_comp_mask[composition]]['weights']\n",
    "    plot_rate(sim_dEdX, sim_weights, bins=log_dEdX_bins,\n",
    "              color=color_dict[composition], label=composition, ax=ax1)\n",
    "data_weights = np.array([1/livetime]*len(df_data))\n",
    "plot_rate(df_data['log_dEdX'], data_weights, bins=log_dEdX_bins,\n",
    "          color=color_dict['data'], label='data', ax=ax1)\n",
    "\n",
    "for composition in comp_list:\n",
    "    sim_dEdX = df_sim[MC_comp_mask[composition]]['log_dEdX']\n",
    "    sim_weights = df_sim[MC_comp_mask[composition]]['weights']\n",
    "    ax2 = plot_data_MC_ratio(sim_dEdX, sim_weights,\n",
    "                       df_data['log_dEdX'], data_weights, log_dEdX_bins,\n",
    "                       xlabel='$\\log_{10}(\\mathrm{dE/dX})$', color=color_dict[composition],\n",
    "                       label=composition, ylim=[0, 5.5], ax=ax2)\n",
    "\n",
    "plt.savefig('/home/jbourbeau/public_html/figures/data-MC-comparison-dE_dX.png')\n",
    "plt.show()"
   ]
  },
  {
   "cell_type": "markdown",
   "metadata": {
    "deletable": true,
    "editable": true
   },
   "source": [
    "## $\\cos(\\theta)$ verification"
   ]
  },
  {
   "cell_type": "code",
   "execution_count": 155,
   "metadata": {
    "collapsed": false,
    "deletable": true,
    "editable": true
   },
   "outputs": [
    {
     "data": {
      "text/plain": [
       "<matplotlib.axes._subplots.AxesSubplot at 0x7f9d2d55f9d0>"
      ]
     },
     "execution_count": 155,
     "metadata": {},
     "output_type": "execute_result"
    },
    {
     "data": {
      "image/png": "[encoded data removed]",
      "text/plain": [
       "<matplotlib.figure.Figure at 0x7f9d2d7dc5d0>"
      ]
     },
     "metadata": {},
     "output_type": "display_data"
    }
   ],
   "source": [
    "df_sim['lap_cos_zenith'].plot(kind='hist', bins=100)"
   ]
  },
  {
   "cell_type": "code",
   "execution_count": 232,
   "metadata": {
    "collapsed": false,
    "deletable": true,
    "editable": true
   },
   "outputs": [
    {
     "data": {
      "image/png": "[encoded data removed]",
      "text/plain": [
       "<matplotlib.figure.Figure at 0x7f9d2efec210>"
      ]
     },
     "metadata": {},
     "output_type": "display_data"
    }
   ],
   "source": [
    "cos_zenith_bins = np.linspace(0.8, 1.0, 75)\n",
    "\n",
    "gs = gridspec.GridSpec(2, 1, height_ratios=[2,1], hspace=0.0)\n",
    "ax1 = plt.subplot(gs[0])\n",
    "ax2 = plt.subplot(gs[1], sharex=ax1)\n",
    "for composition in comp_list:\n",
    "    sim_cos_zenith = df_sim[MC_comp_mask[composition]]['lap_cos_zenith']\n",
    "    sim_weights = df_sim[MC_comp_mask[composition]]['weights']\n",
    "    plot_rate(sim_cos_zenith, sim_weights, bins=cos_zenith_bins,\n",
    "              color=color_dict[composition], label=composition, ax=ax1)\n",
    "data_weights = np.array([1/livetime]*len(df_data))\n",
    "plot_rate(df_data['lap_cos_zenith'], data_weights, bins=cos_zenith_bins,\n",
    "          color=color_dict['data'], label='data', ax=ax1)\n",
    "\n",
    "for composition in comp_list:\n",
    "    sim_cos_zenith = df_sim[MC_comp_mask[composition]]['lap_cos_zenith']\n",
    "    sim_weights = df_sim[MC_comp_mask[composition]]['weights']\n",
    "    ax2 = plot_data_MC_ratio(sim_cos_zenith, sim_weights,\n",
    "                       df_data['lap_cos_zenith'], data_weights, cos_zenith_bins,\n",
    "                       xlabel='$\\cos(\\\\theta_{\\mathrm{reco}})$', color=color_dict[composition],\n",
    "                       label=composition, ylim=[0, 3], ax=ax2)\n",
    "\n",
    "plt.savefig('/home/jbourbeau/public_html/figures/data-MC-comparison-zenith.png')\n",
    "plt.show()"
   ]
  },
  {
   "cell_type": "code",
   "execution_count": null,
   "metadata": {
    "collapsed": true,
    "deletable": true,
    "editable": true
   },
   "outputs": [],
   "source": []
  },
  {
   "cell_type": "code",
   "execution_count": null,
   "metadata": {
    "collapsed": true,
    "deletable": true,
    "editable": true
   },
   "outputs": [],
   "source": []
  },
  {
   "cell_type": "code",
   "execution_count": null,
   "metadata": {
    "collapsed": true,
    "deletable": true,
    "editable": true
   },
   "outputs": [],
   "source": []
  },
  {
   "cell_type": "code",
   "execution_count": null,
   "metadata": {
    "collapsed": true,
    "deletable": true,
    "editable": true
   },
   "outputs": [],
   "source": []
  },
  {
   "cell_type": "code",
   "execution_count": null,
   "metadata": {
    "collapsed": true,
    "deletable": true,
    "editable": true
   },
   "outputs": [],
   "source": []
  },
  {
   "cell_type": "code",
   "execution_count": null,
   "metadata": {
    "collapsed": true,
    "deletable": true,
    "editable": true
   },
   "outputs": [],
   "source": []
  },
  {
   "cell_type": "code",
   "execution_count": null,
   "metadata": {
    "collapsed": true,
    "deletable": true,
    "editable": true
   },
   "outputs": [],
   "source": []
  },
  {
   "cell_type": "code",
   "execution_count": null,
   "metadata": {
    "collapsed": true,
    "deletable": true,
    "editable": true
   },
   "outputs": [],
   "source": []
  },
  {
   "cell_type": "code",
   "execution_count": null,
   "metadata": {
    "collapsed": true,
    "deletable": true,
    "editable": true
   },
   "outputs": [],
   "source": []
  },
  {
   "cell_type": "code",
   "execution_count": null,
   "metadata": {
    "collapsed": true,
    "deletable": true,
    "editable": true
   },
   "outputs": [],
   "source": []
  }
 ],
 "metadata": {
  "kernelspec": {
   "display_name": "Python 2",
   "language": "python",
   "name": "python2"
  },
  "language_info": {
   "codemirror_mode": {
    "name": "ipython",
    "version": 2
   },
   "file_extension": ".py",
   "mimetype": "text/x-python",
   "name": "python",
   "nbconvert_exporter": "python",
   "pygments_lexer": "ipython2",
   "version": "2.7.10"
  }
 },
 "nbformat": 4,
 "nbformat_minor": 1
}
