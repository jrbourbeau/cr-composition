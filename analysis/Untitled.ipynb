{
 "cells": [
  {
   "cell_type": "code",
   "execution_count": 1,
   "metadata": {},
   "outputs": [
    {
     "name": "stdout",
     "output_type": "stream",
     "text": [
      "last updated: 2017-04-20 \n",
      "\n",
      "CPython 2.7.10\n",
      "IPython 5.3.0\n",
      "\n",
      "numpy 1.12.1\n",
      "matplotlib 2.0.0\n",
      "scipy 0.19.0\n",
      "pandas 0.19.2\n",
      "sklearn 0.18.1\n",
      "mlxtend 0.5.1\n"
     ]
    }
   ],
   "source": [
    "%load_ext watermark\n",
    "%watermark -u -d -v -p numpy,matplotlib,scipy,pandas,sklearn,mlxtend"
   ]
  },
  {
   "cell_type": "code",
   "execution_count": 8,
   "metadata": {},
   "outputs": [],
   "source": [
    "%matplotlib inline\n",
    "from __future__ import division, print_function\n",
    "import numpy as np\n",
    "from scipy import optimize\n",
    "import pandas as pd\n",
    "import matplotlib.pyplot as plt\n",
    "import seaborn.apionly as sns\n",
    "\n",
    "import composition as comp\n",
    "import composition.analysis.plotting as plotting"
   ]
  },
  {
   "cell_type": "code",
   "execution_count": 3,
   "metadata": {
    "collapsed": true
   },
   "outputs": [],
   "source": [
    "comp_class = True\n",
    "comp_list = ['light', 'heavy'] if comp_class else ['P', 'He', 'O', 'Fe']"
   ]
  },
  {
   "cell_type": "code",
   "execution_count": 4,
   "metadata": {},
   "outputs": [
    {
     "name": "stdout",
     "output_type": "stream",
     "text": [
      "sim quality cut event flow:\n",
      "             IceTopQualityCuts:    1.0    1.0\n",
      "         lap_InIce_containment:  0.776  0.776\n",
      "              InIceQualityCuts:  0.786   0.75\n",
      "                 num_hits_1_60:  0.999   0.75\n",
      "             reco_energy_range:  0.837  0.623\n",
      "                 IceTop_charge:  0.896  0.562\n",
      "\n",
      "\n"
     ]
    },
    {
     "name": "stderr",
     "output_type": "stream",
     "text": [
      "/home/jbourbeau/cr-composition/composition/dataframe_functions.py:145: RuntimeWarning: divide by zero encountered in log10\n",
      "  df['log_IceTop_charge_175m'] = np.log10(df['IceTop_charge_175m'])\n"
     ]
    }
   ],
   "source": [
    "df_sim = comp.load_dataframe(datatype='sim')"
   ]
  },
  {
   "cell_type": "code",
   "execution_count": 10,
   "metadata": {
    "scrolled": false
   },
   "outputs": [
    {
     "data": {
      "text/plain": [
       "0         3.519844\n",
       "1         3.323477\n",
       "3         3.458115\n",
       "4         3.194459\n",
       "5         3.250745\n",
       "6         3.059247\n",
       "7         3.325705\n",
       "8         3.149160\n",
       "13        3.342805\n",
       "14        3.189697\n",
       "17        3.392250\n",
       "18        3.340039\n",
       "19        3.437743\n",
       "21        3.324724\n",
       "22        3.273614\n",
       "27        3.532846\n",
       "35        2.990313\n",
       "36        3.067966\n",
       "38        3.167077\n",
       "39        3.267866\n",
       "40        3.147007\n",
       "41        3.367651\n",
       "42        3.194450\n",
       "44        3.126853\n",
       "45        2.952732\n",
       "46        3.050624\n",
       "47        3.188828\n",
       "49        2.912476\n",
       "50        3.412437\n",
       "51        3.263967\n",
       "            ...   \n",
       "397987    3.031989\n",
       "397989    2.677845\n",
       "398000    3.232594\n",
       "398001    3.279692\n",
       "398002    2.874440\n",
       "398003    2.821055\n",
       "398004    2.943548\n",
       "398005    3.119237\n",
       "398007    3.079967\n",
       "398008    2.778261\n",
       "398010    3.459358\n",
       "398011    3.546341\n",
       "398012    2.813934\n",
       "398014    2.992454\n",
       "398015    3.221567\n",
       "398016    2.872395\n",
       "398017    3.156017\n",
       "398020    2.910178\n",
       "398021    2.887417\n",
       "398022    2.960273\n",
       "398023    2.892069\n",
       "398024    2.945574\n",
       "398028    3.011779\n",
       "398030    3.132147\n",
       "398031    2.849296\n",
       "398035    2.974460\n",
       "398038    3.012601\n",
       "398040    3.048326\n",
       "398041    3.123943\n",
       "398042    2.992060\n",
       "Name: lap_beta, dtype: float64"
      ]
     },
     "execution_count": 10,
     "metadata": {},
     "output_type": "execute_result"
    }
   ],
   "source": [
    "df_sim['lap_beta']"
   ]
  },
  {
   "cell_type": "code",
   "execution_count": 42,
   "metadata": {
    "collapsed": true
   },
   "outputs": [],
   "source": [
    "def fit_beta(charges, distances, log_s125, lap_beta):\n",
    "\n",
    "    charges = np.asarray(charges)\n",
    "    distances = np.asarray(distances)\n",
    "    print('charges = {}'.format(charges))\n",
    "    print('distances = {}'.format(distances))\n",
    "    print('log_s125 = {}'.format(log_s125))\n",
    "    print('lap_beta = {}'.format(lap_beta))\n",
    "\n",
    "    def LDF(dists, beta):\n",
    "        return 10**log_s125 * (dists/125)**(-beta-0.303*np.log10(dists/125))\n",
    "#         return log_s125 - beta*np.log10(dists/125) - 0.303*np.log10(np.log10(dists/125))\n",
    "\n",
    "    popt, pcov = optimize.curve_fit(LDF, distances, np.log10(charges))\n",
    "#     popt, pcov = optimize.curve_fit(LDF, distances, np.log10(charges), p0=lap_beta-1)\n",
    "    print(popt)"
   ]
  },
  {
   "cell_type": "code",
   "execution_count": 43,
   "metadata": {},
   "outputs": [
    {
     "data": {
      "text/plain": [
       "array([ 563.19205409,  728.49952746,  597.57259199,  502.87094917,\n",
       "        360.81235537,  341.88334214,  486.27225865,  488.75861346,\n",
       "        345.31191548,  272.50841185,  278.50628564,  381.40689465,\n",
       "        397.40017885,  217.60213822,  134.96804375,  126.1607868 ,\n",
       "        184.98520993,  175.21405068,  306.44667554,  200.66732924,\n",
       "        210.26010017,   99.47640616,  104.17753637,   68.28022341,\n",
       "         58.88122516,  195.86382601,  189.26460486,  397.49789313,\n",
       "        251.46569843,  259.43667521,  137.74640939,  146.61478985,\n",
       "         74.31949249,   82.34447256,  135.79599198,  127.29198893,\n",
       "        249.79335454,  240.31324681,  244.0123336 ,  250.63420275,\n",
       "        172.22679976,  168.84823934,  166.75610549,  174.90084695,\n",
       "        238.9441929 ,  359.87787381])"
      ]
     },
     "execution_count": 43,
     "metadata": {},
     "output_type": "execute_result"
    }
   ],
   "source": [
    "df_sim['tank_dists'][3]"
   ]
  },
  {
   "cell_type": "code",
   "execution_count": 44,
   "metadata": {},
   "outputs": [
    {
     "data": {
      "text/plain": [
       "array([ 0.65374651,  0.76551926,  0.67948066,  0.60454653,  0.46037139,\n",
       "        0.43696793,  0.58996948,  0.59218441,  0.44130155,  0.3384699 ,\n",
       "        0.34792499,  0.48447853,  0.50231805,  0.24075315,  0.03332094,\n",
       "        0.00401438,  0.17022699,  0.14665892,  0.3894449 ,  0.20556666,\n",
       "        0.22584685, -0.09918993, -0.07913593, -0.26261508, -0.32693318,\n",
       "        0.19504422,  0.18015939,  0.50242482,  0.30356874,  0.31712136,\n",
       "        0.04217027,  0.06926777, -0.22580728, -0.18127556,  0.03597694,\n",
       "        0.00789106,  0.30067087,  0.2838677 ,  0.29050177,  0.30213032,\n",
       "        0.13919072,  0.13058652,  0.12517173,  0.1458819 ,  0.28138647,\n",
       "        0.45924513])"
      ]
     },
     "execution_count": 44,
     "metadata": {},
     "output_type": "execute_result"
    }
   ],
   "source": [
    "np.log10(df_sim['tank_dists'][3]/125)"
   ]
  },
  {
   "cell_type": "code",
   "execution_count": 45,
   "metadata": {},
   "outputs": [
    {
     "name": "stdout",
     "output_type": "stream",
     "text": [
      "charges = [  1.1489253    0.14102778   0.74507076   0.25572646   0.18200278\n",
      "   0.45130467   0.54038841   0.26852089   0.22046663   1.03550625\n",
      "   1.51601493   0.31989381   0.15767671   1.04164982   2.05677414\n",
      "   7.54050732   1.68407524   1.83120334   0.81869787   0.21163651\n",
      "   1.94171214   6.6918025   14.103755    53.04872513  81.28752899\n",
      "   2.57384896   1.91906309   0.13023351   1.65206754   2.56118107\n",
      "   1.74762833   2.67273593  21.19219398  21.02318764   4.47604799\n",
      "   5.14276934   1.68159831   0.95564413   4.39349222   0.69666201\n",
      "   2.64331651   3.85827303   1.49899232   2.27820587   1.17120278\n",
      "   0.227301  ]\n",
      "distances = [ 563.19205409  728.49952746  597.57259199  502.87094917  360.81235537\n",
      "  341.88334214  486.27225865  488.75861346  345.31191548  272.50841185\n",
      "  278.50628564  381.40689465  397.40017885  217.60213822  134.96804375\n",
      "  126.1607868   184.98520993  175.21405068  306.44667554  200.66732924\n",
      "  210.26010017   99.47640616  104.17753637   68.28022341   58.88122516\n",
      "  195.86382601  189.26460486  397.49789313  251.46569843  259.43667521\n",
      "  137.74640939  146.61478985   74.31949249   82.34447256  135.79599198\n",
      "  127.29198893  249.79335454  240.31324681  244.0123336   250.63420275\n",
      "  172.22679976  168.84823934  166.75610549  174.90084695  238.9441929\n",
      "  359.87787381]\n",
      "log_s125 = 0.843307351744\n",
      "lap_beta = 3.45811535972\n",
      "[ 0.86563224]\n"
     ]
    }
   ],
   "source": [
    "fit_beta(df_sim['tank_charges'][3], df_sim['tank_dists'][3], df_sim['log_s125'][3], df_sim['lap_beta'][3])"
   ]
  },
  {
   "cell_type": "code",
   "execution_count": 11,
   "metadata": {
    "collapsed": true
   },
   "outputs": [],
   "source": [
    "dist_bins = np.logspace(-2, 4, 50)\n",
    "charge_bins = np.logspace(-2, 1, 50)\n",
    "def make_charge_dist_hist(charges, dists):\n",
    "    # Create charge vs distance histogram\n",
    "    hist, _ , _ = np.histogram2d(dists, charges, bins=(dist_bins, charge_bins))\n",
    "    return hist"
   ]
  },
  {
   "cell_type": "code",
   "execution_count": null,
   "metadata": {
    "collapsed": true
   },
   "outputs": [],
   "source": [
    "y, x = np.meshgrid(charge_bins, dist_bins)"
   ]
  },
  {
   "cell_type": "code",
   "execution_count": null,
   "metadata": {
    "collapsed": true
   },
   "outputs": [],
   "source": []
  },
  {
   "cell_type": "code",
   "execution_count": null,
   "metadata": {
    "collapsed": true
   },
   "outputs": [],
   "source": [
    "np.logspace(-2, 1, 50)"
   ]
  },
  {
   "cell_type": "code",
   "execution_count": 8,
   "metadata": {
    "collapsed": true
   },
   "outputs": [],
   "source": [
    "hist = make_charge_dist_hist(df_sim['tank_charges'].values[0], df_sim['tank_dists'][0])"
   ]
  },
  {
   "cell_type": "code",
   "execution_count": 32,
   "metadata": {},
   "outputs": [
    {
     "name": "stdout",
     "output_type": "stream",
     "text": [
      "14.0\n",
      "23.0\n",
      "14.0\n",
      "17.0\n"
     ]
    },
    {
     "data": {
      "image/png": "[encoded data removed]",
      "text/plain": [
       "<matplotlib.figure.Figure at 0x7f41cf780e10>"
      ]
     },
     "metadata": {},
     "output_type": "display_data"
    }
   ],
   "source": [
    "n_side = 2\n",
    "fig, axarr = plt.subplots(n_side, n_side, sharex=True, sharey=True)\n",
    "for i, ax in zip(range(n_side**2), axarr.flat):\n",
    "#     plotting.histogram_2D(df_sim['tank_dists'].values[i], df_sim['tank_charges'].values[i],\n",
    "#                           bins=(np.logspace(-2, 4, 50), np.logspace(0, 3, 50)), ax=ax,\n",
    "#                           log_counts=False, logx=False, logy=False, colorbar=False)\n",
    "    hist = make_charge_dist_hist(df_sim['tank_charges'].values[i], df_sim['tank_dists'].values[i])\n",
    "    print(hist.sum())\n",
    "    hist = np.ma.masked_where(hist == 0, hist)\n",
    "    im = ax.pcolormesh(dist_bins, charge_bins, hist)\n",
    "    cb = plt.colorbar(im)\n",
    "#     ax = sns.heatmap(hist, ax=ax, xticklabels=dist_bins[:-1].astype(str))\n",
    "#     ax.imshow(hist)\n",
    "#     ax.scatter(np.log10(df_sim['tank_dists'].values[i]),\n",
    "#                np.log10(df_sim['tank_charges'].values[i]))\n",
    "ax.set_yscale(\"log\", nonposy='clip')\n",
    "ax.set_xscale(\"log\")\n",
    "# plt.tight_layout()\n",
    "plt.show()"
   ]
  },
  {
   "cell_type": "code",
   "execution_count": 6,
   "metadata": {},
   "outputs": [
    {
     "name": "stderr",
     "output_type": "stream",
     "text": [
      "/home/jbourbeau/.local/lib/python2.7/site-packages/matplotlib/figure.py:1742: UserWarning: This figure includes Axes that are not compatible with tight_layout, so its results might be incorrect.\n",
      "  warnings.warn(\"This figure includes Axes that are not \"\n"
     ]
    },
    {
     "data": {
      "image/png": "[encoded data removed]",
      "text/plain": [
       "<matplotlib.figure.Figure at 0x7f2054a01a90>"
      ]
     },
     "metadata": {},
     "output_type": "display_data"
    }
   ],
   "source": [
    "num_samples = 50\n",
    "with sns.color_palette(\"Blues_d\", num_samples):\n",
    "    fig, ax = plt.subplots()\n",
    "    for i in range(num_samples):\n",
    "        ax.scatter(df_sim['tank_dists'].values[i],\n",
    "                   df_sim['tank_charges'].values[i], alpha=0.2)\n",
    "    ax.set_xlim([1e0, 1e4])        \n",
    "    ax.set_ylim([1e-3, 1e4])        \n",
    "    ax.set_yscale(\"log\", nonposy='clip')\n",
    "    ax.set_xscale(\"log\")\n",
    "    # plt.tight_layout()\n",
    "    plt.show()"
   ]
  },
  {
   "cell_type": "code",
   "execution_count": 7,
   "metadata": {},
   "outputs": [
    {
     "data": {
      "image/png": "[encoded data removed]",
      "text/plain": [
       "<matplotlib.figure.Figure at 0x7f2035a0d4d0>"
      ]
     },
     "metadata": {},
     "output_type": "display_data"
    }
   ],
   "source": [
    "n_side = 3\n",
    "# with sns.color_palette(\"Blues_d\", num_samples):\n",
    "fig, axarr = plt.subplots(n_side, n_side)\n",
    "for i, ax in zip(range(n_side**2), axarr.flatten()):\n",
    "    ax.scatter(df_sim['tank_dists'].values[i],\n",
    "               df_sim['tank_charges'].values[i], alpha=0.2, marker='.')        \n",
    "    ax.set_yscale(\"log\", nonposy='clip')\n",
    "    ax.set_xscale(\"log\")\n",
    "    ax.set_xlim([1e0, 1e4])        \n",
    "    ax.set_ylim([1e-3, 1e4])\n",
    "#     ax.grid(which='both')\n",
    "plt.tight_layout()\n",
    "plt.savefig('/home/jbourbeau/public_html/figures/charge-vs-dist-example.png')\n",
    "plt.show()"
   ]
  },
  {
   "cell_type": "code",
   "execution_count": 14,
   "metadata": {},
   "outputs": [
    {
     "data": {
      "text/plain": [
       "0        20.058378\n",
       "1        29.236588\n",
       "3        24.653706\n",
       "4        43.553578\n",
       "5        26.962508\n",
       "6       116.140023\n",
       "7        69.885908\n",
       "8        94.203468\n",
       "9       114.925585\n",
       "13      144.763668\n",
       "14      593.937967\n",
       "15             NaN\n",
       "16      493.189828\n",
       "17      296.621447\n",
       "18      560.180260\n",
       "19      512.185095\n",
       "20      515.754776\n",
       "21      814.693836\n",
       "22      666.467974\n",
       "24             NaN\n",
       "25     3144.262996\n",
       "27     2094.893203\n",
       "28             NaN\n",
       "29        2.371916\n",
       "31        2.053227\n",
       "32        1.679182\n",
       "33        2.909671\n",
       "34        3.304956\n",
       "35        2.357022\n",
       "36        2.519217\n",
       "          ...     \n",
       "552      35.772240\n",
       "553      39.260871\n",
       "554      15.444319\n",
       "555      39.700688\n",
       "556      20.924497\n",
       "557      49.848645\n",
       "558      39.834411\n",
       "559      49.287796\n",
       "560      18.366836\n",
       "561      35.622564\n",
       "562      45.618567\n",
       "563      53.811592\n",
       "564      32.396299\n",
       "566      17.402792\n",
       "567      47.127543\n",
       "569      50.945199\n",
       "571      47.886598\n",
       "573      46.608904\n",
       "574      68.289053\n",
       "575      41.533198\n",
       "576      57.789352\n",
       "577      15.979683\n",
       "578      59.115301\n",
       "579      51.219272\n",
       "580      68.777920\n",
       "583      39.958076\n",
       "584      42.429021\n",
       "585      73.504170\n",
       "586      51.962047\n",
       "587      63.272065\n",
       "Name: IceTop_charge_175m, dtype: float64"
      ]
     },
     "execution_count": 14,
     "metadata": {},
     "output_type": "execute_result"
    }
   ],
   "source": [
    "df_sim['IceTop_charge_175m']"
   ]
  },
  {
   "cell_type": "code",
   "execution_count": null,
   "metadata": {
    "collapsed": true
   },
   "outputs": [],
   "source": []
  }
 ],
 "metadata": {
  "kernelspec": {
   "display_name": "Python 2",
   "language": "python",
   "name": "python2"
  },
  "language_info": {
   "codemirror_mode": {
    "name": "ipython",
    "version": 2
   },
   "file_extension": ".py",
   "mimetype": "text/x-python",
   "name": "python",
   "nbconvert_exporter": "python",
   "pygments_lexer": "ipython2",
   "version": "2.7.10"
  }
 },
 "nbformat": 4,
 "nbformat_minor": 2
}
