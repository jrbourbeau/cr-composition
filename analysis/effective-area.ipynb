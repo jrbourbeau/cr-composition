{
 "cells": [
  {
   "cell_type": "markdown",
   "metadata": {
    "deletable": true,
    "editable": true
   },
   "source": [
    "<a id='top'> </a>\n",
    "Author: [James Bourbeau](http://www.jamesbourbeau.com)"
   ]
  },
  {
   "cell_type": "code",
   "execution_count": 1,
   "metadata": {
    "collapsed": false,
    "deletable": true,
    "editable": true
   },
   "outputs": [
    {
     "name": "stdout",
     "output_type": "stream",
     "text": [
      "last updated: 2017-03-29 \n",
      "\n",
      "CPython 2.7.10\n",
      "IPython 5.3.0\n",
      "\n",
      "numpy 1.12.0\n",
      "matplotlib 2.0.0\n",
      "scipy 0.15.1\n",
      "pandas 0.19.2\n",
      "sklearn 0.18.1\n",
      "mlxtend 0.5.1\n"
     ]
    }
   ],
   "source": [
    "%load_ext watermark\n",
    "%watermark -u -d -v -p numpy,matplotlib,scipy,pandas,sklearn,mlxtend"
   ]
  },
  {
   "cell_type": "markdown",
   "metadata": {
    "deletable": true,
    "editable": true
   },
   "source": [
    "# Cosmic-ray composition effective area analysis\n",
    "### Table of contents\n",
    "1. [Load simulation DataFrame and apply quality cuts](#Load-simulation-DataFrame-and-apply-quality-cuts)\n",
    "2. [Define functions to be fit to effective area](#Define-functions-to-be-fit-to-effective-area)\n",
    "3. [Calculate effective areas](#Calculate-effective-areas)\n",
    "4. [Plot result](#Plot-result)"
   ]
  },
  {
   "cell_type": "code",
   "execution_count": 2,
   "metadata": {
    "collapsed": false,
    "deletable": true,
    "editable": true
   },
   "outputs": [
    {
     "name": "stderr",
     "output_type": "stream",
     "text": [
      "/home/jbourbeau/.local/lib/python2.7/site-packages/sklearn/cross_validation.py:44: DeprecationWarning: This module was deprecated in version 0.18 in favor of the model_selection module into which all the refactored classes and functions are moved. Also note that the interface of the new CV iterators are different from that of this module. This module will be removed in 0.20.\n",
      "  \"This module will be removed in 0.20.\", DeprecationWarning)\n"
     ]
    }
   ],
   "source": [
    "%matplotlib inline\n",
    "from __future__ import division, print_function\n",
    "from collections import defaultdict\n",
    "import numpy as np\n",
    "from scipy import optimize\n",
    "from scipy.stats import chisquare\n",
    "import pandas as pd\n",
    "import matplotlib.pyplot as plt\n",
    "import seaborn.apionly as sns\n",
    "\n",
    "import composition as comp\n",
    "\n",
    "color_dict = comp.analysis.get_color_dict()"
   ]
  },
  {
   "cell_type": "markdown",
   "metadata": {
    "deletable": true,
    "editable": true
   },
   "source": [
    "### Load simulation DataFrame and apply quality cuts\n",
    "[ [back to top](#top) ]"
   ]
  },
  {
   "cell_type": "code",
   "execution_count": 3,
   "metadata": {
    "collapsed": false,
    "deletable": true,
    "editable": true
   },
   "outputs": [
    {
     "name": "stderr",
     "output_type": "stream",
     "text": [
      "/home/jbourbeau/cr-composition/composition/dataframe_functions.py:137: RuntimeWarning: divide by zero encountered in log10\n",
      "  df['log_dEdX'] = np.log10(df['eloss_1500_standard'])\n",
      "/home/jbourbeau/cr-composition/composition/dataframe_functions.py:137: RuntimeWarning: invalid value encountered in log10\n",
      "  df['log_dEdX'] = np.log10(df['eloss_1500_standard'])\n"
     ]
    },
    {
     "name": "stdout",
     "output_type": "stream",
     "text": [
      "IceTopQualityCuts 398044\n",
      "lap_InIce_containment 308917\n",
      "InIceQualityCuts 298476\n",
      "num_hits_1_60 298466\n"
     ]
    }
   ],
   "source": [
    "df_sim, cut_dict_sim = comp.load_dataframe(datatype='sim', config='IC79', return_cut_dict=True)\n",
    "selection_mask = np.array([True] * len(df_sim))\n",
    "standard_cut_keys = ['IceTopQualityCuts', 'lap_InIce_containment',\n",
    "#                 'num_hits_1_60', 'max_qfrac_1_60',\n",
    "                'InIceQualityCuts', 'num_hits_1_60']\n",
    "# for cut in ['MilliNCascAbove2', 'MilliQtotRatio', 'MilliRloglBelow2', 'StochRecoSucceeded']:\n",
    "#     standard_cut_keys += ['InIceQualityCuts_{}'.format(cut)]\n",
    "    \n",
    "for key in standard_cut_keys:\n",
    "    selection_mask *= cut_dict_sim[key]\n",
    "    print(key, np.sum(selection_mask))\n",
    "\n",
    "df_sim = df_sim[selection_mask]"
   ]
  },
  {
   "cell_type": "markdown",
   "metadata": {
    "deletable": true,
    "editable": true
   },
   "source": [
    "#### Define energy binning for this analysis"
   ]
  },
  {
   "cell_type": "code",
   "execution_count": 4,
   "metadata": {
    "collapsed": false,
    "deletable": true,
    "editable": true
   },
   "outputs": [],
   "source": [
    "log_energy_bins = np.arange(5.0, 9.51, 0.1)\n",
    "energy_bins = 10**log_energy_bins\n",
    "energy_midpoints = (energy_bins[1:] + energy_bins[:-1]) / 2\n",
    "\n",
    "energy_min_fit, energy_max_fit = 5.8, 9.5\n",
    "midpoints_fitmask = (energy_midpoints >= 10**energy_min_fit) & (energy_midpoints <= 10**energy_max_fit)"
   ]
  },
  {
   "cell_type": "code",
   "execution_count": 5,
   "metadata": {
    "collapsed": false,
    "deletable": true,
    "editable": true
   },
   "outputs": [
    {
     "data": {
      "text/plain": [
       "array([ 5. ,  5.1,  5.2,  5.3,  5.4,  5.5,  5.6,  5.7,  5.8,  5.9,  6. ,\n",
       "        6.1,  6.2,  6.3,  6.4,  6.5,  6.6,  6.7,  6.8,  6.9,  7. ,  7.1,\n",
       "        7.2,  7.3,  7.4,  7.5,  7.6,  7.7,  7.8,  7.9,  8. ,  8.1,  8.2,\n",
       "        8.3,  8.4,  8.5,  8.6,  8.7,  8.8,  8.9,  9. ,  9.1,  9.2,  9.3,\n",
       "        9.4,  9.5])"
      ]
     },
     "execution_count": 5,
     "metadata": {},
     "output_type": "execute_result"
    }
   ],
   "source": [
    "log_energy_bins"
   ]
  },
  {
   "cell_type": "code",
   "execution_count": 6,
   "metadata": {
    "collapsed": false,
    "deletable": true,
    "editable": true
   },
   "outputs": [
    {
     "data": {
      "text/plain": [
       "array([ 5.8528719,  5.9528719,  6.0528719,  6.1528719,  6.2528719,\n",
       "        6.3528719,  6.4528719,  6.5528719,  6.6528719,  6.7528719,\n",
       "        6.8528719,  6.9528719,  7.0528719,  7.1528719,  7.2528719,\n",
       "        7.3528719,  7.4528719,  7.5528719,  7.6528719,  7.7528719,\n",
       "        7.8528719,  7.9528719,  8.0528719,  8.1528719,  8.2528719,\n",
       "        8.3528719,  8.4528719,  8.5528719,  8.6528719,  8.7528719,\n",
       "        8.8528719,  8.9528719,  9.0528719,  9.1528719,  9.2528719,\n",
       "        9.3528719,  9.4528719])"
      ]
     },
     "execution_count": 6,
     "metadata": {},
     "output_type": "execute_result"
    }
   ],
   "source": [
    "np.log10(energy_midpoints[midpoints_fitmask])"
   ]
  },
  {
   "cell_type": "markdown",
   "metadata": {
    "deletable": true,
    "editable": true
   },
   "source": [
    "### Define functions to be fit to effective area"
   ]
  },
  {
   "cell_type": "code",
   "execution_count": 7,
   "metadata": {
    "collapsed": true,
    "deletable": true,
    "editable": true
   },
   "outputs": [],
   "source": [
    "def constant(energy, c):\n",
    "    return c\n",
    "\n",
    "def linefit(energy, m, b):\n",
    "    return m*np.log10(energy) + b\n",
    "\n",
    "def sigmoid_flat(energy, p0, p1, p2):\n",
    "    return p0 / (1 + np.exp(-p1*np.log10(energy) + p2))\n",
    "\n",
    "def sigmoid_slant(energy, p0, p1, p2, p3):\n",
    "    return (p0 + p3*np.log10(energy)) / (1 + np.exp(-p1*np.log10(energy) + p2))"
   ]
  },
  {
   "cell_type": "code",
   "execution_count": 8,
   "metadata": {
    "collapsed": false,
    "deletable": true,
    "editable": true
   },
   "outputs": [],
   "source": [
    "def red_chisquared(obs, fit, sigma, n_params):\n",
    "    return np.sum(((obs - fit)/sigma) ** 2) / (len(obs) - n_params)\n",
    "#     return np.sum(((obs - fit)/sigma) ** 2) / (len(obs) - 1 - n_params)"
   ]
  },
  {
   "cell_type": "code",
   "execution_count": 9,
   "metadata": {
    "collapsed": false,
    "deletable": true,
    "editable": true
   },
   "outputs": [
    {
     "data": {
      "text/plain": [
       "34"
      ]
     },
     "execution_count": 9,
     "metadata": {},
     "output_type": "execute_result"
    }
   ],
   "source": [
    "np.sum(midpoints_fitmask)-3"
   ]
  },
  {
   "cell_type": "markdown",
   "metadata": {
    "deletable": true,
    "editable": true
   },
   "source": [
    "### Calculate effective areas"
   ]
  },
  {
   "cell_type": "code",
   "execution_count": 10,
   "metadata": {
    "collapsed": false,
    "deletable": true,
    "editable": true
   },
   "outputs": [
    {
     "name": "stdout",
     "output_type": "stream",
     "text": [
      "[ 7.00561438  7.00561438  7.00561438 ...,  7.72806866  7.72806866\n",
      "  7.84396691]\n",
      "[ 94.57502884  94.57502884  94.57502884 ...,  45.39601384  45.39601384\n",
      "  45.39601384]\n",
      "[ 7.00561438  7.00561438  7.00561438 ...,  5.99320701  5.99320701\n",
      "  5.99320701]\n",
      "[ 94.57502884  94.57502884  94.57502884 ...,  20.10619298  20.10619298\n",
      "  20.10619298]\n",
      "[ 7.10245765  7.10245765  7.10245765 ...,  7.72806866  7.72806866\n",
      "  7.84396691]\n",
      "[ 94.57502884  94.57502884  94.57502884 ...,  45.39601384  45.39601384\n",
      "  45.39601384]\n"
     ]
    }
   ],
   "source": [
    "eff_area, eff_area_error = comp.analysis.effective_area.effective_area(df_sim, log_energy_bins)\n",
    "eff_area_light, eff_area_error_light = comp.analysis.effective_area.effective_area(df_sim[df_sim.MC_comp_class == 'light'], log_energy_bins)\n",
    "eff_area_heavy, eff_area_error_heavy = comp.analysis.effective_area.effective_area(df_sim[df_sim.MC_comp_class == 'heavy'], log_energy_bins)"
   ]
  },
  {
   "cell_type": "code",
   "execution_count": 12,
   "metadata": {
    "collapsed": false,
    "deletable": true,
    "editable": true
   },
   "outputs": [
    {
     "name": "stdout",
     "output_type": "stream",
     "text": [
      "Calculating effective area...\n",
      "Simulation set 7006: 30000 files\n",
      "Simulation set 7007: 30000 files\n",
      "Simulation set 7241: 10000 files\n",
      "Simulation set 7242: 10000 files\n",
      "Simulation set 7262: 19999 files\n",
      "Simulation set 7263: 19998 files\n",
      "Simulation set 7579: 12000 files\n",
      "Simulation set 7784: 12000 files\n",
      "Simulation set 7791: 12000 files\n",
      "Simulation set 7851: 12000 files\n",
      "Calculating effective area...\n",
      "Simulation set 7006: 30000 files\n",
      "Simulation set 7241: 10000 files\n",
      "Simulation set 7263: 19998 files\n",
      "Simulation set 7579: 12000 files\n",
      "Simulation set 7791: 12000 files\n",
      "Calculating effective area...\n",
      "Simulation set 7007: 30000 files\n",
      "Simulation set 7242: 10000 files\n",
      "Simulation set 7262: 19999 files\n",
      "Simulation set 7784: 12000 files\n",
      "Simulation set 7851: 12000 files\n"
     ]
    }
   ],
   "source": [
    "eff_area, eff_area_error, _ = comp.analysis.get_effective_area(df_sim,\n",
    "                                                                energy_bins, energy='MC')\n",
    "eff_area_light, eff_area_error_light, _ = comp.analysis.get_effective_area(\n",
    "                                                                df_sim[df_sim.MC_comp_class == 'light'],\n",
    "                                                                energy_bins, energy='MC')\n",
    "eff_area_heavy, eff_area_error_heavy, _ = comp.analysis.get_effective_area(\n",
    "                                                                df_sim[df_sim.MC_comp_class == 'heavy'],\n",
    "                                                                energy_bins, energy='MC')"
   ]
  },
  {
   "cell_type": "code",
   "execution_count": 11,
   "metadata": {
    "collapsed": false,
    "deletable": true,
    "editable": true
   },
   "outputs": [
    {
     "data": {
      "text/plain": [
       "array([  0.00000000e+00,   1.00530965e+01,   1.30694276e+02,\n",
       "         9.24897948e+02,   3.18693112e+03,   1.00835333e+04,\n",
       "         2.16651458e+04,   4.80955961e+04,   7.31789979e+04,\n",
       "         1.06867870e+05,   1.15849101e+05,   1.28090224e+05,\n",
       "         1.43371852e+05,   1.44417323e+05,   1.41395120e+05,\n",
       "         1.38943330e+05,   1.45462509e+05,   1.39912596e+05,\n",
       "         1.44949720e+05,   1.36833221e+05,   1.36428818e+05,\n",
       "         1.38028766e+05,   1.44354269e+05,   1.47696527e+05,\n",
       "         1.45224459e+05,   1.42882565e+05,   1.43253520e+05,\n",
       "         1.39929978e+05,   1.48188063e+05,   1.43497246e+05,\n",
       "         1.43350873e+05,   1.51536031e+05,   1.38705243e+05,\n",
       "         1.53527015e+05,   1.45563078e+05,   1.45120637e+05,\n",
       "         1.47111621e+05,   1.23219809e+05,   1.39590125e+05,\n",
       "         1.49987487e+05,   1.40360469e+05,   1.56047816e+05,\n",
       "         1.46690451e+05,   1.45039152e+05,   1.22196173e+05])"
      ]
     },
     "execution_count": 11,
     "metadata": {},
     "output_type": "execute_result"
    }
   ],
   "source": [
    "eff_area_light"
   ]
  },
  {
   "cell_type": "markdown",
   "metadata": {
    "deletable": true,
    "editable": true
   },
   "source": [
    "#### Fit functions to effective area data"
   ]
  },
  {
   "cell_type": "code",
   "execution_count": 12,
   "metadata": {
    "collapsed": false,
    "deletable": true,
    "editable": true
   },
   "outputs": [],
   "source": [
    "p0 = [1.4e5, 8.0, 50.0]\n",
    "popt_light, pcov_light = optimize.curve_fit(sigmoid_flat, energy_midpoints[midpoints_fitmask],\n",
    "                                            eff_area_light[midpoints_fitmask], p0=p0,\n",
    "                                            sigma=eff_area_error_light[midpoints_fitmask])\n",
    "popt_heavy, pcov_heavy = optimize.curve_fit(sigmoid_flat, energy_midpoints[midpoints_fitmask],\n",
    "                                            eff_area_heavy[midpoints_fitmask], p0=p0,\n",
    "                                            sigma=eff_area_error_heavy[midpoints_fitmask])"
   ]
  },
  {
   "cell_type": "code",
   "execution_count": 13,
   "metadata": {
    "collapsed": false,
    "deletable": true,
    "editable": true
   },
   "outputs": [
    {
     "name": "stdout",
     "output_type": "stream",
     "text": [
      "[  1.42310223e+05   8.59758980e+00   5.02313289e+01]\n",
      "[  1.44043593e+05   7.72100146e+00   4.58503628e+01]\n"
     ]
    }
   ],
   "source": [
    "print(popt_light)\n",
    "print(popt_heavy)"
   ]
  },
  {
   "cell_type": "code",
   "execution_count": 14,
   "metadata": {
    "collapsed": false,
    "deletable": true,
    "editable": true
   },
   "outputs": [
    {
     "name": "stdout",
     "output_type": "stream",
     "text": [
      "[  9.55907938e+02   6.58725783e-01   3.87702597e+00]\n",
      "[  7.77422331e+02   2.95650806e-01   1.74795977e+00]\n"
     ]
    }
   ],
   "source": [
    "perr_light = np.sqrt(np.diag(pcov_light))\n",
    "print(perr_light)\n",
    "perr_heavy = np.sqrt(np.diag(pcov_heavy))\n",
    "print(perr_heavy)"
   ]
  },
  {
   "cell_type": "code",
   "execution_count": 15,
   "metadata": {
    "collapsed": false,
    "deletable": true,
    "editable": true
   },
   "outputs": [
    {
     "name": "stdout",
     "output_type": "stream",
     "text": [
      "avg eff area = 143176.908047\n"
     ]
    }
   ],
   "source": [
    "avg = (popt_light[0] + popt_heavy[0]) / 2\n",
    "print('avg eff area = {}'.format(avg))"
   ]
  },
  {
   "cell_type": "code",
   "execution_count": 16,
   "metadata": {
    "collapsed": false,
    "deletable": true,
    "editable": true
   },
   "outputs": [
    {
     "name": "stdout",
     "output_type": "stream",
     "text": [
      "4.54570904496\n",
      "2.75141874206\n"
     ]
    }
   ],
   "source": [
    "light_chi2 = red_chisquared(eff_area_light[midpoints_fitmask],\n",
    "               sigmoid_flat(energy_midpoints[midpoints_fitmask], *popt_light),\n",
    "               eff_area_error_light[midpoints_fitmask], len(popt_light))\n",
    "print(light_chi2)\n",
    "heavy_chi2 = red_chisquared(eff_area_heavy[midpoints_fitmask],\n",
    "               sigmoid_flat(energy_midpoints[midpoints_fitmask], *popt_heavy),\n",
    "               eff_area_error_heavy[midpoints_fitmask], len(popt_heavy))\n",
    "print(heavy_chi2)"
   ]
  },
  {
   "cell_type": "markdown",
   "metadata": {
    "deletable": true,
    "editable": true
   },
   "source": [
    "### Plot result"
   ]
  },
  {
   "cell_type": "code",
   "execution_count": 34,
   "metadata": {
    "collapsed": false,
    "deletable": true,
    "editable": true
   },
   "outputs": [
    {
     "name": "stdout",
     "output_type": "stream",
     "text": [
      "1431.77\n"
     ]
    },
    {
     "data": {
      "image/png": "[encoded data removed]",
      "text/plain": [
       "<matplotlib.figure.Figure at 0x7f92794e3390>"
      ]
     },
     "metadata": {},
     "output_type": "display_data"
    }
   ],
   "source": [
    "fig, ax = plt.subplots()\n",
    "# plot effective area data points with poisson errors\n",
    "ax.errorbar(np.log10(energy_midpoints), eff_area_light, yerr=eff_area_error_light,\n",
    "            ls='None', marker='.')\n",
    "ax.errorbar(np.log10(energy_midpoints), eff_area_heavy, yerr=eff_area_error_heavy,\n",
    "            ls='None', marker='.')\n",
    "\n",
    "# plot corresponding sigmoid fits to effective area\n",
    "x = 10**np.arange(5.0, 9.5, 0.01)\n",
    "ax.plot(np.log10(x), sigmoid_flat(x, *popt_light),\n",
    "        color=color_dict['light'], label='light', marker='None')\n",
    "ax.plot(np.log10(x), sigmoid_flat(x, *popt_heavy),\n",
    "        color=color_dict['heavy'], label='heavy', marker='None')\n",
    "\n",
    "\n",
    "avg_eff_area = (sigmoid_flat(x, *popt_light) + sigmoid_flat(x, *popt_heavy)) / 2\n",
    "ax.plot(np.log10(x), avg_eff_area,\n",
    "        color=color_dict['total'], label='avg', marker='None')\n",
    "ax.fill_between(np.log10(x),\n",
    "        avg_eff_area-0.01*avg_eff_area,\n",
    "        avg_eff_area+0.01*avg_eff_area,\n",
    "        color=color_dict['total'], alpha=0.5)\n",
    "\n",
    "ax.axvline(6.4, marker='None', ls='-.', color='k')\n",
    "\n",
    "ax.set_ylabel('Effective area [m$^2$]')\n",
    "ax.set_xlabel('$\\mathrm{\\log_{10}(E_{true}/GeV)}$')\n",
    "print(143177.*0.01)\n",
    "# ax.set_title('$\\mathrm{A_{eff} = 143177 \\pm 1431.77 \\ m^2}$')\n",
    "ax.grid()\n",
    "# ax.set_ylim([0, 180000])\n",
    "ax.set_xlim([5.4, 9.6])\n",
    "\n",
    "#set label style        \n",
    "ax.ticklabel_format(style='sci',axis='y')\n",
    "ax.yaxis.major.formatter.set_powerlimits((0,0))\n",
    "\n",
    "leg = plt.legend(title='True composition')\n",
    "for legobj in leg.legendHandles:\n",
    "    legobj.set_linewidth(2.0)\n",
    "\n",
    "plt.savefig('/home/jbourbeau/public_html/figures/effective-area.png')\n",
    "plt.show()"
   ]
  },
  {
   "cell_type": "markdown",
   "metadata": {
    "deletable": true,
    "editable": true
   },
   "source": [
    "Effective area as quality cuts are sequentially applied"
   ]
  },
  {
   "cell_type": "code",
   "execution_count": 19,
   "metadata": {
    "collapsed": false,
    "deletable": true,
    "editable": true
   },
   "outputs": [
    {
     "name": "stdout",
     "output_type": "stream",
     "text": [
      "num_hits_1_60 397466\n",
      "Calculating effective area...\n",
      "Simulation set 7006: 30000 files\n",
      "Simulation set 7007: 30000 files\n",
      "Simulation set 7241: 10000 files\n",
      "Simulation set 7242: 10000 files\n",
      "Simulation set 7262: 19999 files\n",
      "Simulation set 7263: 19998 files\n",
      "Simulation set 7579: 12000 files\n",
      "Simulation set 7784: 12000 files\n",
      "Simulation set 7791: 12000 files\n",
      "Simulation set 7851: 12000 files\n",
      "IceTopQualityCuts 397466\n",
      "Calculating effective area...\n",
      "Simulation set 7006: 30000 files\n",
      "Simulation set 7007: 30000 files\n",
      "Simulation set 7241: 10000 files\n",
      "Simulation set 7242: 10000 files\n",
      "Simulation set 7262: 19999 files\n",
      "Simulation set 7263: 19998 files\n",
      "Simulation set 7579: 12000 files\n",
      "Simulation set 7784: 12000 files\n",
      "Simulation set 7791: 12000 files\n",
      "Simulation set 7851: 12000 files\n",
      "lap_InIce_containment 308874\n",
      "Calculating effective area...\n",
      "Simulation set 7006: 30000 files\n",
      "Simulation set 7007: 30000 files\n",
      "Simulation set 7241: 10000 files\n",
      "Simulation set 7242: 10000 files\n",
      "Simulation set 7262: 19999 files\n",
      "Simulation set 7263: 19998 files\n",
      "Simulation set 7579: 12000 files\n",
      "Simulation set 7784: 12000 files\n",
      "Simulation set 7791: 12000 files\n",
      "Simulation set 7851: 12000 files\n",
      "InIceQualityCuts 298466\n",
      "Calculating effective area...\n",
      "Simulation set 7006: 30000 files\n",
      "Simulation set 7007: 30000 files\n",
      "Simulation set 7241: 10000 files\n",
      "Simulation set 7242: 10000 files\n",
      "Simulation set 7262: 19999 files\n",
      "Simulation set 7263: 19998 files\n",
      "Simulation set 7579: 12000 files\n",
      "Simulation set 7784: 12000 files\n",
      "Simulation set 7791: 12000 files\n",
      "Simulation set 7851: 12000 files\n"
     ]
    }
   ],
   "source": [
    "df_sim, cut_dict_sim = comp.load_dataframe(datatype='sim', config='IC79', return_cut_dict=True)\n",
    "standard_cut_keys = ['num_hits_1_60', 'IceTopQualityCuts', 'lap_InIce_containment',\n",
    "#                 'num_hits_1_60', 'max_qfrac_1_60',\n",
    "                'InIceQualityCuts']\n",
    "# for cut in ['MilliNCascAbove2', 'MilliQtotRatio', 'MilliRloglBelow2', 'StochRecoSucceeded']:\n",
    "#     standard_cut_keys += ['InIceQualityCuts_{}'.format(cut)]\n",
    "\n",
    "eff_area_dict = {}\n",
    "eff_area_err_dict = {}\n",
    "selection_mask = np.array([True] * len(df_sim))\n",
    "for key in standard_cut_keys:\n",
    "    selection_mask *= cut_dict_sim[key]\n",
    "    print(key, np.sum(selection_mask))\n",
    "    eff_area, eff_area_error, _ = comp.analysis.get_effective_area(df_sim[selection_mask],\n",
    "                                                                energy_bins, energy='MC')\n",
    "#     eff_area, eff_area_error = comp.analysis.effective_area.effective_area(df_sim[selection_mask],\n",
    "#                                                                            np.arange(5.0, 9.51, 0.1))\n",
    "    eff_area_dict[key] = eff_area\n",
    "    eff_area_err_dict[key] = eff_area_error"
   ]
  },
  {
   "cell_type": "code",
   "execution_count": 20,
   "metadata": {
    "collapsed": false,
    "deletable": true,
    "editable": true
   },
   "outputs": [
    {
     "data": {
      "image/png": "[encoded data removed]",
      "text/plain": [
       "<matplotlib.figure.Figure at 0x7fd07c1ab110>"
      ]
     },
     "metadata": {},
     "output_type": "display_data"
    }
   ],
   "source": [
    "fig, ax = plt.subplots()\n",
    "cut_labels = {'num_hits_1_60': 'NStations/NChannels', 'IceTopQualityCuts': 'IceTopQualityCuts',\n",
    "             'lap_InIce_containment': 'InIce containment', 'InIceQualityCuts': 'InIceQualityCuts'}\n",
    "for key in standard_cut_keys:\n",
    "# plot effective area data points with poisson errors\n",
    "    ax.errorbar(np.log10(energy_midpoints), eff_area_dict[key], yerr=eff_area_err_dict[key],\n",
    "                ls='None', marker='.', label=cut_labels[key], alpha=0.75)\n",
    "\n",
    "ax.set_ylabel('Effective area [m$^2$]')\n",
    "ax.set_xlabel('$\\log_{10}(E_{\\mathrm{MC}}/\\mathrm{GeV})$')\n",
    "ax.grid()\n",
    "# ax.set_ylim([0, 180000])\n",
    "ax.set_xlim([5.4, 9.6])\n",
    "\n",
    "#set label style        \n",
    "ax.ticklabel_format(style='sci',axis='y')\n",
    "ax.yaxis.major.formatter.set_powerlimits((0,0))\n",
    "\n",
    "leg = plt.legend()\n",
    "\n",
    "plt.savefig('/home/jbourbeau/public_html/figures/effective-area-cuts.png')\n",
    "plt.show()"
   ]
  },
  {
   "cell_type": "code",
   "execution_count": null,
   "metadata": {
    "collapsed": true,
    "deletable": true,
    "editable": true
   },
   "outputs": [],
   "source": []
  },
  {
   "cell_type": "code",
   "execution_count": null,
   "metadata": {
    "collapsed": true,
    "deletable": true,
    "editable": true
   },
   "outputs": [],
   "source": []
  }
 ],
 "metadata": {
  "kernelspec": {
   "display_name": "Python 2",
   "language": "python",
   "name": "python2"
  },
  "language_info": {
   "codemirror_mode": {
    "name": "ipython",
    "version": 2
   },
   "file_extension": ".py",
   "mimetype": "text/x-python",
   "name": "python",
   "nbconvert_exporter": "python",
   "pygments_lexer": "ipython2",
   "version": "2.7.10"
  }
 },
 "nbformat": 4,
 "nbformat_minor": 1
}
