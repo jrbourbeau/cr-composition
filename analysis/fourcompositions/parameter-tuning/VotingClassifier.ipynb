{
 "cells": [
  {
   "cell_type": "code",
   "execution_count": 1,
   "metadata": {
    "collapsed": false
   },
   "outputs": [
    {
     "name": "stderr",
     "output_type": "stream",
     "text": [
      "/home/jbourbeau/.local/lib/python2.7/site-packages/matplotlib/font_manager.py:273: UserWarning: Matplotlib is building the font cache using fc-list. This may take a moment.\n",
      "  warnings.warn('Matplotlib is building the font cache using fc-list. This may take a moment.')\n"
     ]
    }
   ],
   "source": [
    "from __future__ import division\n",
    "import argparse\n",
    "import numpy as np\n",
    "import pandas as pd\n",
    "import matplotlib.pyplot as plt\n",
    "from matplotlib.colors import ListedColormap\n",
    "import seaborn.apionly as sns\n",
    "\n",
    "from sklearn.metrics import accuracy_score\n",
    "from sklearn.neighbors import KNeighborsClassifier\n",
    "from sklearn.model_selection import validation_curve, GridSearchCV, cross_val_score, ParameterGrid\n",
    "from sklearn.ensemble import VotingClassifier\n",
    "\n",
    "from composition.analysis.load_sim import load_sim\n",
    "from composition.analysis.preprocessing import get_train_test_sets, LabelEncoder\n",
    "from composition.analysis.pipelines import get_pipeline\n",
    "from composition.analysis.features import get_training_features\n",
    "from composition.analysis.plotting_functions import plot_decision_regions\n",
    "import composition.analysis.data_functions as data_functions\n",
    "from composition.support_functions.checkdir import checkdir\n",
    "\n",
    "%matplotlib inline"
   ]
  },
  {
   "cell_type": "code",
   "execution_count": 2,
   "metadata": {
    "collapsed": true
   },
   "outputs": [],
   "source": [
    "sns.set_palette('muted')\n",
    "sns.set_color_codes()"
   ]
  },
  {
   "cell_type": "code",
   "execution_count": 3,
   "metadata": {
    "collapsed": false
   },
   "outputs": [
    {
     "name": "stderr",
     "output_type": "stream",
     "text": [
      "/home/jbourbeau/composition/analysis/load_sim.py:67: RuntimeWarning: divide by zero encountered in log10\n",
      "  df['reco_log_energy'] = np.nan_to_num(np.log10(df['reco_energy']))\n",
      "/home/jbourbeau/composition/analysis/load_sim.py:68: RuntimeWarning: invalid value encountered in log10\n",
      "  df['InIce_log_charge'] = np.nan_to_num(np.log10(df['InIce_charge']))\n"
     ]
    },
    {
     "name": "stdout",
     "output_type": "stream",
     "text": [
      "events = 72644\n"
     ]
    }
   ],
   "source": [
    "df, cut_dict = load_sim(return_cut_dict=True)\n",
    "selection_mask = np.array([True] * len(df))\n",
    "standard_cut_keys = ['reco_exists', 'reco_zenith', 'num_hits', 'IT_signal',\n",
    "                     'StationDensity', 'max_charge_frac', 'reco_containment', 'energy_range']\n",
    "for key in standard_cut_keys:\n",
    "    selection_mask *= cut_dict[key]\n",
    "\n",
    "df = df[selection_mask]\n",
    "\n",
    "feature_list = get_training_features()\n",
    "X_train, X_test, y_train, y_test, le = get_train_test_sets(df, feature_list)\n",
    "\n",
    "print('events = ' + str(y_train.shape[0]))"
   ]
  },
  {
   "cell_type": "code",
   "execution_count": 10,
   "metadata": {
    "collapsed": false,
    "scrolled": true
   },
   "outputs": [],
   "source": [
    "pipeline_RF = get_pipeline('RF')\n",
    "pipeline_KN = get_pipeline('KN')\n",
    "pipeline_GBC = get_pipeline('GBC')\n",
    "eclf = VotingClassifier(estimators=[('RF', pipeline_RF), ('KN', pipeline_KN), ('GBC', pipeline_GBC)], voting='soft')\n",
    "eclf = eclf1.fit(X_train, y_train)"
   ]
  },
  {
   "cell_type": "code",
   "execution_count": 11,
   "metadata": {
    "collapsed": false
   },
   "outputs": [
    {
     "name": "stdout",
     "output_type": "stream",
     "text": [
      "Test accuracy: 79.1835%\n",
      "Train accuracy: 80.2695%\n",
      "CV score: 78.88% (+/- 0.61%)\n"
     ]
    }
   ],
   "source": [
    "test_predictions = eclf.predict(X_test)\n",
    "test_acc = accuracy_score(y_test, test_predictions)\n",
    "print('Test accuracy: {:.4%}'.format(test_acc))\n",
    "train_predictions = eclf.predict(X_train)\n",
    "train_acc = accuracy_score(y_train, train_predictions)\n",
    "print('Train accuracy: {:.4%}'.format(train_acc))\n",
    "scores = cross_val_score(\n",
    "    estimator=eclf, X=X_test, y=y_test, cv=10)\n",
    "print('CV score: {:.2%} (+/- {:.2%})'.format(scores.mean(), scores.std()))"
   ]
  },
  {
   "cell_type": "code",
   "execution_count": null,
   "metadata": {
    "collapsed": true
   },
   "outputs": [],
   "source": []
  }
 ],
 "metadata": {
  "kernelspec": {
   "display_name": "Python 2",
   "language": "python",
   "name": "python2"
  },
  "language_info": {
   "codemirror_mode": {
    "name": "ipython",
    "version": 2
   },
   "file_extension": ".py",
   "mimetype": "text/x-python",
   "name": "python",
   "nbconvert_exporter": "python",
   "pygments_lexer": "ipython2",
   "version": "2.7.3"
  }
 },
 "nbformat": 4,
 "nbformat_minor": 1
}
