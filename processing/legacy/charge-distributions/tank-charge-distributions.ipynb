{
 "cells": [
  {
   "cell_type": "code",
   "execution_count": 1,
   "metadata": {
    "scrolled": false
   },
   "outputs": [
    {
     "name": "stderr",
     "output_type": "stream",
     "text": [
      "/data/user/jbourbeau/miniconda/envs/cr-composition/lib/python3.6/site-packages/h5py/__init__.py:36: FutureWarning: Conversion of the second argument of issubdtype from `float` to `np.floating` is deprecated. In future, it will be treated as `np.float64 == np.dtype(float).type`.\n",
      "  from ._conv import register_converters as _register_converters\n",
      "Using Theano backend.\n"
     ]
    },
    {
     "data": {
      "text/html": [
       "\n",
       "    <div class=\"bk-root\">\n",
       "        <a href=\"https://bokeh.pydata.org\" target=\"_blank\" class=\"bk-logo bk-logo-small bk-logo-notebook\"></a>\n",
       "        <span id=\"c9d96de7-647d-4a76-860a-bbc32047cdfa\">Loading BokehJS ...</span>\n",
       "    </div>"
      ]
     },
     "metadata": {},
     "output_type": "display_data"
    },
    {
     "data": {
      "application/javascript": [
       "\n",
       "(function(root) {\n",
       "  function now() {\n",
       "    return new Date();\n",
       "  }\n",
       "\n",
       "  var force = true;\n",
       "\n",
       "  if (typeof (root._bokeh_onload_callbacks) === \"undefined\" || force === true) {\n",
       "    root._bokeh_onload_callbacks = [];\n",
       "    root._bokeh_is_loading = undefined;\n",
       "  }\n",
       "\n",
       "  var JS_MIME_TYPE = 'application/javascript';\n",
       "  var HTML_MIME_TYPE = 'text/html';\n",
       "  var EXEC_MIME_TYPE = 'application/vnd.bokehjs_exec.v0+json';\n",
       "  var CLASS_NAME = 'output_bokeh rendered_html';\n",
       "\n",
       "  /**\n",
       "   * Render data to the DOM node\n",
       "   */\n",
       "  function render(props, node) {\n",
       "    var script = document.createElement(\"script\");\n",
       "    node.appendChild(script);\n",
       "  }\n",
       "\n",
       "  /**\n",
       "   * Handle when an output is cleared or removed\n",
       "   */\n",
       "  function handleClearOutput(event, handle) {\n",
       "    var cell = handle.cell;\n",
       "\n",
       "    var id = cell.output_area._bokeh_element_id;\n",
       "    var server_id = cell.output_area._bokeh_server_id;\n",
       "    // Clean up Bokeh references\n",
       "    if (id !== undefined) {\n",
       "      Bokeh.index[id].model.document.clear();\n",
       "      delete Bokeh.index[id];\n",
       "    }\n",
       "\n",
       "    if (server_id !== undefined) {\n",
       "      // Clean up Bokeh references\n",
       "      var cmd = \"from bokeh.io.state import curstate; print(curstate().uuid_to_server['\" + server_id + \"'].get_sessions()[0].document.roots[0]._id)\";\n",
       "      cell.notebook.kernel.execute(cmd, {\n",
       "        iopub: {\n",
       "          output: function(msg) {\n",
       "            var element_id = msg.content.text.trim();\n",
       "            Bokeh.index[element_id].model.document.clear();\n",
       "            delete Bokeh.index[element_id];\n",
       "          }\n",
       "        }\n",
       "      });\n",
       "      // Destroy server and session\n",
       "      var cmd = \"import bokeh.io.notebook as ion; ion.destroy_server('\" + server_id + \"')\";\n",
       "      cell.notebook.kernel.execute(cmd);\n",
       "    }\n",
       "  }\n",
       "\n",
       "  /**\n",
       "   * Handle when a new output is added\n",
       "   */\n",
       "  function handleAddOutput(event, handle) {\n",
       "    var output_area = handle.output_area;\n",
       "    var output = handle.output;\n",
       "\n",
       "    // limit handleAddOutput to display_data with EXEC_MIME_TYPE content only\n",
       "    if ((output.output_type != \"display_data\") || (!output.data.hasOwnProperty(EXEC_MIME_TYPE))) {\n",
       "      return\n",
       "    }\n",
       "\n",
       "    var toinsert = output_area.element.find(\".\" + CLASS_NAME.split(' ')[0]);\n",
       "\n",
       "    if (output.metadata[EXEC_MIME_TYPE][\"id\"] !== undefined) {\n",
       "      toinsert[toinsert.length - 1].firstChild.textContent = output.data[JS_MIME_TYPE];\n",
       "      // store reference to embed id on output_area\n",
       "      output_area._bokeh_element_id = output.metadata[EXEC_MIME_TYPE][\"id\"];\n",
       "    }\n",
       "    if (output.metadata[EXEC_MIME_TYPE][\"server_id\"] !== undefined) {\n",
       "      var bk_div = document.createElement(\"div\");\n",
       "      bk_div.innerHTML = output.data[HTML_MIME_TYPE];\n",
       "      var script_attrs = bk_div.children[0].attributes;\n",
       "      for (var i = 0; i < script_attrs.length; i++) {\n",
       "        toinsert[toinsert.length - 1].firstChild.setAttribute(script_attrs[i].name, script_attrs[i].value);\n",
       "      }\n",
       "      // store reference to server id on output_area\n",
       "      output_area._bokeh_server_id = output.metadata[EXEC_MIME_TYPE][\"server_id\"];\n",
       "    }\n",
       "  }\n",
       "\n",
       "  function register_renderer(events, OutputArea) {\n",
       "\n",
       "    function append_mime(data, metadata, element) {\n",
       "      // create a DOM node to render to\n",
       "      var toinsert = this.create_output_subarea(\n",
       "        metadata,\n",
       "        CLASS_NAME,\n",
       "        EXEC_MIME_TYPE\n",
       "      );\n",
       "      this.keyboard_manager.register_events(toinsert);\n",
       "      // Render to node\n",
       "      var props = {data: data, metadata: metadata[EXEC_MIME_TYPE]};\n",
       "      render(props, toinsert[toinsert.length - 1]);\n",
       "      element.append(toinsert);\n",
       "      return toinsert\n",
       "    }\n",
       "\n",
       "    /* Handle when an output is cleared or removed */\n",
       "    events.on('clear_output.CodeCell', handleClearOutput);\n",
       "    events.on('delete.Cell', handleClearOutput);\n",
       "\n",
       "    /* Handle when a new output is added */\n",
       "    events.on('output_added.OutputArea', handleAddOutput);\n",
       "\n",
       "    /**\n",
       "     * Register the mime type and append_mime function with output_area\n",
       "     */\n",
       "    OutputArea.prototype.register_mime_type(EXEC_MIME_TYPE, append_mime, {\n",
       "      /* Is output safe? */\n",
       "      safe: true,\n",
       "      /* Index of renderer in `output_area.display_order` */\n",
       "      index: 0\n",
       "    });\n",
       "  }\n",
       "\n",
       "  // register the mime type if in Jupyter Notebook environment and previously unregistered\n",
       "  if (root.Jupyter !== undefined) {\n",
       "    var events = require('base/js/events');\n",
       "    var OutputArea = require('notebook/js/outputarea').OutputArea;\n",
       "\n",
       "    if (OutputArea.prototype.mime_types().indexOf(EXEC_MIME_TYPE) == -1) {\n",
       "      register_renderer(events, OutputArea);\n",
       "    }\n",
       "  }\n",
       "\n",
       "  \n",
       "  if (typeof (root._bokeh_timeout) === \"undefined\" || force === true) {\n",
       "    root._bokeh_timeout = Date.now() + 5000;\n",
       "    root._bokeh_failed_load = false;\n",
       "  }\n",
       "\n",
       "  var NB_LOAD_WARNING = {'data': {'text/html':\n",
       "     \"<div style='background-color: #fdd'>\\n\"+\n",
       "     \"<p>\\n\"+\n",
       "     \"BokehJS does not appear to have successfully loaded. If loading BokehJS from CDN, this \\n\"+\n",
       "     \"may be due to a slow or bad network connection. Possible fixes:\\n\"+\n",
       "     \"</p>\\n\"+\n",
       "     \"<ul>\\n\"+\n",
       "     \"<li>re-rerun `output_notebook()` to attempt to load from CDN again, or</li>\\n\"+\n",
       "     \"<li>use INLINE resources instead, as so:</li>\\n\"+\n",
       "     \"</ul>\\n\"+\n",
       "     \"<code>\\n\"+\n",
       "     \"from bokeh.resources import INLINE\\n\"+\n",
       "     \"output_notebook(resources=INLINE)\\n\"+\n",
       "     \"</code>\\n\"+\n",
       "     \"</div>\"}};\n",
       "\n",
       "  function display_loaded() {\n",
       "    var el = document.getElementById(\"c9d96de7-647d-4a76-860a-bbc32047cdfa\");\n",
       "    if (el != null) {\n",
       "      el.textContent = \"BokehJS is loading...\";\n",
       "    }\n",
       "    if (root.Bokeh !== undefined) {\n",
       "      if (el != null) {\n",
       "        el.textContent = \"BokehJS \" + root.Bokeh.version + \" successfully loaded.\";\n",
       "      }\n",
       "    } else if (Date.now() < root._bokeh_timeout) {\n",
       "      setTimeout(display_loaded, 100)\n",
       "    }\n",
       "  }\n",
       "\n",
       "\n",
       "  function run_callbacks() {\n",
       "    try {\n",
       "      root._bokeh_onload_callbacks.forEach(function(callback) { callback() });\n",
       "    }\n",
       "    finally {\n",
       "      delete root._bokeh_onload_callbacks\n",
       "    }\n",
       "    console.info(\"Bokeh: all callbacks have finished\");\n",
       "  }\n",
       "\n",
       "  function load_libs(js_urls, callback) {\n",
       "    root._bokeh_onload_callbacks.push(callback);\n",
       "    if (root._bokeh_is_loading > 0) {\n",
       "      console.log(\"Bokeh: BokehJS is being loaded, scheduling callback at\", now());\n",
       "      return null;\n",
       "    }\n",
       "    if (js_urls == null || js_urls.length === 0) {\n",
       "      run_callbacks();\n",
       "      return null;\n",
       "    }\n",
       "    console.log(\"Bokeh: BokehJS not loaded, scheduling load and callback at\", now());\n",
       "    root._bokeh_is_loading = js_urls.length;\n",
       "    for (var i = 0; i < js_urls.length; i++) {\n",
       "      var url = js_urls[i];\n",
       "      var s = document.createElement('script');\n",
       "      s.src = url;\n",
       "      s.async = false;\n",
       "      s.onreadystatechange = s.onload = function() {\n",
       "        root._bokeh_is_loading--;\n",
       "        if (root._bokeh_is_loading === 0) {\n",
       "          console.log(\"Bokeh: all BokehJS libraries loaded\");\n",
       "          run_callbacks()\n",
       "        }\n",
       "      };\n",
       "      s.onerror = function() {\n",
       "        console.warn(\"failed to load library \" + url);\n",
       "      };\n",
       "      console.log(\"Bokeh: injecting script tag for BokehJS library: \", url);\n",
       "      document.getElementsByTagName(\"head\")[0].appendChild(s);\n",
       "    }\n",
       "  };var element = document.getElementById(\"c9d96de7-647d-4a76-860a-bbc32047cdfa\");\n",
       "  if (element == null) {\n",
       "    console.log(\"Bokeh: ERROR: autoload.js configured with elementid 'c9d96de7-647d-4a76-860a-bbc32047cdfa' but no matching script tag was found. \")\n",
       "    return false;\n",
       "  }\n",
       "\n",
       "  var js_urls = [\"https://cdn.pydata.org/bokeh/release/bokeh-0.12.15.min.js\", \"https://cdn.pydata.org/bokeh/release/bokeh-widgets-0.12.15.min.js\", \"https://cdn.pydata.org/bokeh/release/bokeh-tables-0.12.15.min.js\", \"https://cdn.pydata.org/bokeh/release/bokeh-gl-0.12.15.min.js\"];\n",
       "\n",
       "  var inline_js = [\n",
       "    function(Bokeh) {\n",
       "      Bokeh.set_log_level(\"info\");\n",
       "    },\n",
       "    \n",
       "    function(Bokeh) {\n",
       "      \n",
       "    },\n",
       "    function(Bokeh) {\n",
       "      console.log(\"Bokeh: injecting CSS: https://cdn.pydata.org/bokeh/release/bokeh-0.12.15.min.css\");\n",
       "      Bokeh.embed.inject_css(\"https://cdn.pydata.org/bokeh/release/bokeh-0.12.15.min.css\");\n",
       "      console.log(\"Bokeh: injecting CSS: https://cdn.pydata.org/bokeh/release/bokeh-widgets-0.12.15.min.css\");\n",
       "      Bokeh.embed.inject_css(\"https://cdn.pydata.org/bokeh/release/bokeh-widgets-0.12.15.min.css\");\n",
       "      console.log(\"Bokeh: injecting CSS: https://cdn.pydata.org/bokeh/release/bokeh-tables-0.12.15.min.css\");\n",
       "      Bokeh.embed.inject_css(\"https://cdn.pydata.org/bokeh/release/bokeh-tables-0.12.15.min.css\");\n",
       "    }\n",
       "  ];\n",
       "\n",
       "  function run_inline_js() {\n",
       "    \n",
       "    if ((root.Bokeh !== undefined) || (force === true)) {\n",
       "      for (var i = 0; i < inline_js.length; i++) {\n",
       "        inline_js[i].call(root, root.Bokeh);\n",
       "      }if (force === true) {\n",
       "        display_loaded();\n",
       "      }} else if (Date.now() < root._bokeh_timeout) {\n",
       "      setTimeout(run_inline_js, 100);\n",
       "    } else if (!root._bokeh_failed_load) {\n",
       "      console.log(\"Bokeh: BokehJS failed to load within specified timeout.\");\n",
       "      root._bokeh_failed_load = true;\n",
       "    } else if (force !== true) {\n",
       "      var cell = $(document.getElementById(\"c9d96de7-647d-4a76-860a-bbc32047cdfa\")).parents('.cell').data().cell;\n",
       "      cell.output_area.append_execute_result(NB_LOAD_WARNING)\n",
       "    }\n",
       "\n",
       "  }\n",
       "\n",
       "  if (root._bokeh_is_loading === 0) {\n",
       "    console.log(\"Bokeh: BokehJS loaded, going straight to plotting\");\n",
       "    run_inline_js();\n",
       "  } else {\n",
       "    load_libs(js_urls, function() {\n",
       "      console.log(\"Bokeh: BokehJS plotting callback run at\", now());\n",
       "      run_inline_js();\n",
       "    });\n",
       "  }\n",
       "}(window));"
      ],
      "application/vnd.bokehjs_load.v0+json": "\n(function(root) {\n  function now() {\n    return new Date();\n  }\n\n  var force = true;\n\n  if (typeof (root._bokeh_onload_callbacks) === \"undefined\" || force === true) {\n    root._bokeh_onload_callbacks = [];\n    root._bokeh_is_loading = undefined;\n  }\n\n  \n\n  \n  if (typeof (root._bokeh_timeout) === \"undefined\" || force === true) {\n    root._bokeh_timeout = Date.now() + 5000;\n    root._bokeh_failed_load = false;\n  }\n\n  var NB_LOAD_WARNING = {'data': {'text/html':\n     \"<div style='background-color: #fdd'>\\n\"+\n     \"<p>\\n\"+\n     \"BokehJS does not appear to have successfully loaded. If loading BokehJS from CDN, this \\n\"+\n     \"may be due to a slow or bad network connection. Possible fixes:\\n\"+\n     \"</p>\\n\"+\n     \"<ul>\\n\"+\n     \"<li>re-rerun `output_notebook()` to attempt to load from CDN again, or</li>\\n\"+\n     \"<li>use INLINE resources instead, as so:</li>\\n\"+\n     \"</ul>\\n\"+\n     \"<code>\\n\"+\n     \"from bokeh.resources import INLINE\\n\"+\n     \"output_notebook(resources=INLINE)\\n\"+\n     \"</code>\\n\"+\n     \"</div>\"}};\n\n  function display_loaded() {\n    var el = document.getElementById(\"c9d96de7-647d-4a76-860a-bbc32047cdfa\");\n    if (el != null) {\n      el.textContent = \"BokehJS is loading...\";\n    }\n    if (root.Bokeh !== undefined) {\n      if (el != null) {\n        el.textContent = \"BokehJS \" + root.Bokeh.version + \" successfully loaded.\";\n      }\n    } else if (Date.now() < root._bokeh_timeout) {\n      setTimeout(display_loaded, 100)\n    }\n  }\n\n\n  function run_callbacks() {\n    try {\n      root._bokeh_onload_callbacks.forEach(function(callback) { callback() });\n    }\n    finally {\n      delete root._bokeh_onload_callbacks\n    }\n    console.info(\"Bokeh: all callbacks have finished\");\n  }\n\n  function load_libs(js_urls, callback) {\n    root._bokeh_onload_callbacks.push(callback);\n    if (root._bokeh_is_loading > 0) {\n      console.log(\"Bokeh: BokehJS is being loaded, scheduling callback at\", now());\n      return null;\n    }\n    if (js_urls == null || js_urls.length === 0) {\n      run_callbacks();\n      return null;\n    }\n    console.log(\"Bokeh: BokehJS not loaded, scheduling load and callback at\", now());\n    root._bokeh_is_loading = js_urls.length;\n    for (var i = 0; i < js_urls.length; i++) {\n      var url = js_urls[i];\n      var s = document.createElement('script');\n      s.src = url;\n      s.async = false;\n      s.onreadystatechange = s.onload = function() {\n        root._bokeh_is_loading--;\n        if (root._bokeh_is_loading === 0) {\n          console.log(\"Bokeh: all BokehJS libraries loaded\");\n          run_callbacks()\n        }\n      };\n      s.onerror = function() {\n        console.warn(\"failed to load library \" + url);\n      };\n      console.log(\"Bokeh: injecting script tag for BokehJS library: \", url);\n      document.getElementsByTagName(\"head\")[0].appendChild(s);\n    }\n  };var element = document.getElementById(\"c9d96de7-647d-4a76-860a-bbc32047cdfa\");\n  if (element == null) {\n    console.log(\"Bokeh: ERROR: autoload.js configured with elementid 'c9d96de7-647d-4a76-860a-bbc32047cdfa' but no matching script tag was found. \")\n    return false;\n  }\n\n  var js_urls = [\"https://cdn.pydata.org/bokeh/release/bokeh-0.12.15.min.js\", \"https://cdn.pydata.org/bokeh/release/bokeh-widgets-0.12.15.min.js\", \"https://cdn.pydata.org/bokeh/release/bokeh-tables-0.12.15.min.js\", \"https://cdn.pydata.org/bokeh/release/bokeh-gl-0.12.15.min.js\"];\n\n  var inline_js = [\n    function(Bokeh) {\n      Bokeh.set_log_level(\"info\");\n    },\n    \n    function(Bokeh) {\n      \n    },\n    function(Bokeh) {\n      console.log(\"Bokeh: injecting CSS: https://cdn.pydata.org/bokeh/release/bokeh-0.12.15.min.css\");\n      Bokeh.embed.inject_css(\"https://cdn.pydata.org/bokeh/release/bokeh-0.12.15.min.css\");\n      console.log(\"Bokeh: injecting CSS: https://cdn.pydata.org/bokeh/release/bokeh-widgets-0.12.15.min.css\");\n      Bokeh.embed.inject_css(\"https://cdn.pydata.org/bokeh/release/bokeh-widgets-0.12.15.min.css\");\n      console.log(\"Bokeh: injecting CSS: https://cdn.pydata.org/bokeh/release/bokeh-tables-0.12.15.min.css\");\n      Bokeh.embed.inject_css(\"https://cdn.pydata.org/bokeh/release/bokeh-tables-0.12.15.min.css\");\n    }\n  ];\n\n  function run_inline_js() {\n    \n    if ((root.Bokeh !== undefined) || (force === true)) {\n      for (var i = 0; i < inline_js.length; i++) {\n        inline_js[i].call(root, root.Bokeh);\n      }if (force === true) {\n        display_loaded();\n      }} else if (Date.now() < root._bokeh_timeout) {\n      setTimeout(run_inline_js, 100);\n    } else if (!root._bokeh_failed_load) {\n      console.log(\"Bokeh: BokehJS failed to load within specified timeout.\");\n      root._bokeh_failed_load = true;\n    } else if (force !== true) {\n      var cell = $(document.getElementById(\"c9d96de7-647d-4a76-860a-bbc32047cdfa\")).parents('.cell').data().cell;\n      cell.output_area.append_execute_result(NB_LOAD_WARNING)\n    }\n\n  }\n\n  if (root._bokeh_is_loading === 0) {\n    console.log(\"Bokeh: BokehJS loaded, going straight to plotting\");\n    run_inline_js();\n  } else {\n    load_libs(js_urls, function() {\n      console.log(\"Bokeh: BokehJS plotting callback run at\", now());\n      run_inline_js();\n    });\n  }\n}(window));"
     },
     "metadata": {},
     "output_type": "display_data"
    }
   ],
   "source": [
    "import os\n",
    "# os.environ['KERAS_BACKEND'] = 'tensorflow'\n",
    "import glob\n",
    "import h5py\n",
    "import numpy as np\n",
    "import pandas as pd\n",
    "import xarray as xr\n",
    "import matplotlib.pyplot as plt\n",
    "from bokeh.io import output_notebook\n",
    "from dask import delayed\n",
    "import dask.array as da\n",
    "from dask.diagnostics import Profiler, ResourceProfiler, CacheProfiler, ProgressBar, visualize\n",
    "from sklearn.model_selection import train_test_split\n",
    "from sklearn.preprocessing import StandardScaler\n",
    "from mlxtend.preprocessing import standardize\n",
    "import keras\n",
    "from keras.models import Model\n",
    "from keras.layers import (Input, Conv2D, MaxPooling2D, Cropping2D, Flatten,\n",
    "                          Dense, Dropout)\n",
    "from keras.layers.advanced_activations import LeakyReLU\n",
    "from keras.utils import to_categorical\n",
    "\n",
    "from livelossplot import PlotLossesKeras\n",
    "\n",
    "import comptools as comp\n",
    "\n",
    "output_notebook()\n",
    "%matplotlib inline"
   ]
  },
  {
   "cell_type": "code",
   "execution_count": 2,
   "metadata": {},
   "outputs": [],
   "source": [
    "config = 'IC86.2012'\n",
    "num_groups = 2\n",
    "\n",
    "comp_list = comp.get_comp_list(num_groups=num_groups)\n",
    "energybins = comp.get_energybins(config=config)\n",
    "log_energy_min = energybins.log_energy_min\n",
    "log_energy_max = energybins.log_energy_max"
   ]
  },
  {
   "cell_type": "code",
   "execution_count": 3,
   "metadata": {},
   "outputs": [
    {
     "name": "stdout",
     "output_type": "stream",
     "text": [
      "[########################################] | 100% Completed |  2.4s\n"
     ]
    }
   ],
   "source": [
    "df_sim_train, df_sim_test = comp.load_sim(config=config,\n",
    "                                          log_energy_min=log_energy_min,\n",
    "                                          log_energy_max=log_energy_max,\n",
    "                                          test_size=0.5,\n",
    "                                          verbose=True)"
   ]
  },
  {
   "cell_type": "code",
   "execution_count": 4,
   "metadata": {},
   "outputs": [],
   "source": [
    "feature_list, feature_labels = comp.get_training_features()"
   ]
  },
  {
   "cell_type": "code",
   "execution_count": 5,
   "metadata": {},
   "outputs": [
    {
     "data": {
      "text/plain": [
       "['lap_cos_zenith', 'log_s125', 'log_dEdX', 'lap_x', 'lap_y']"
      ]
     },
     "execution_count": 5,
     "metadata": {},
     "output_type": "execute_result"
    }
   ],
   "source": [
    "feature_list += ['lap_x', 'lap_y']\n",
    "feature_list"
   ]
  },
  {
   "cell_type": "code",
   "execution_count": 6,
   "metadata": {},
   "outputs": [],
   "source": [
    "scaler = StandardScaler()\n",
    "df_sim_train[feature_list] = scaler.fit_transform(df_sim_train[feature_list])\n",
    "df_sim_test[feature_list] = scaler.transform(df_sim_test[feature_list])"
   ]
  },
  {
   "cell_type": "code",
   "execution_count": 6,
   "metadata": {},
   "outputs": [],
   "source": [
    "# X = df_sim_train[feature_list].values\n",
    "# y = df_sim_train['comp_target_{}'.format(num_groups)].values"
   ]
  },
  {
   "cell_type": "code",
   "execution_count": 7,
   "metadata": {},
   "outputs": [],
   "source": [
    "# X_train, X_test, y_train, y_test = train_test_split(X, y, test_size=0.33, random_state=2)"
   ]
  },
  {
   "cell_type": "markdown",
   "metadata": {},
   "source": [
    "## Load charge distribution histograms"
   ]
  },
  {
   "cell_type": "code",
   "execution_count": 7,
   "metadata": {},
   "outputs": [
    {
     "data": {
      "text/plain": [
       "'/data/user/jbourbeau/composition/IC86.2012/sim/charge_dist_hdf/*.hdf'"
      ]
     },
     "execution_count": 7,
     "metadata": {},
     "output_type": "execute_result"
    }
   ],
   "source": [
    "file_pattern = os.path.join(comp.paths.comp_data_dir,\n",
    "                            config,\n",
    "                            'sim',\n",
    "                            'charge_dist_hdf',\n",
    "                            '*.hdf')\n",
    "file_pattern"
   ]
  },
  {
   "cell_type": "code",
   "execution_count": 8,
   "metadata": {},
   "outputs": [],
   "source": [
    "filenames = glob.glob(file_pattern)"
   ]
  },
  {
   "cell_type": "code",
   "execution_count": 9,
   "metadata": {},
   "outputs": [
    {
     "data": {
      "text/plain": [
       "80"
      ]
     },
     "execution_count": 9,
     "metadata": {},
     "output_type": "execute_result"
    }
   ],
   "source": [
    "len(filenames)"
   ]
  },
  {
   "cell_type": "code",
   "execution_count": 10,
   "metadata": {},
   "outputs": [],
   "source": [
    "def generate_data(filenames, df_sim, features, labels, batchsize=3):\n",
    "    \n",
    "    batch_id = np.arange(len(df_sim)) // batchsize\n",
    "    # Loop over indefinitley\n",
    "    while True:\n",
    "        for batch_idx, batch_df in df_sim.groupby(batch_id):\n",
    "\n",
    "            X_batch = []\n",
    "            targets_batch = []\n",
    "            charge_dist_batch = []\n",
    "\n",
    "            for file_idx, filename in enumerate(filenames):\n",
    "                with h5py.File(filename, mode='r') as f:\n",
    "                    array = f['/charge_dist'].value\n",
    "                    event_id = f['/event_id'].value\n",
    "\n",
    "                array = np.nan_to_num(array, copy=False)\n",
    "                # Decode byte strings\n",
    "                event_id = np.array([i.decode('utf-8') for i in event_id])\n",
    "\n",
    "                #Get boolean array for events    \n",
    "                pass_cuts_mask = np.isin(event_id, batch_df.index)\n",
    "                if pass_cuts_mask.sum() == 0:\n",
    "                    continue\n",
    "\n",
    "                array_pass_cuts = array[pass_cuts_mask]\n",
    "                event_id_pass_cuts = event_id[pass_cuts_mask]\n",
    "\n",
    "                num_images = array_pass_cuts.shape[0]\n",
    "                assert array_pass_cuts.shape[0] == event_id_pass_cuts.shape[0]\n",
    "\n",
    "                # Normalize each image\n",
    "                array_pass_cuts = array_pass_cuts / array_pass_cuts.reshape((num_images, -1)).sum(axis=1)[:, None, None]\n",
    "\n",
    "                X_batch.extend(batch_df.loc[event_id_pass_cuts, features].values)\n",
    "                targets_batch.extend(to_categorical(labels.loc[event_id_pass_cuts].values, num_classes=num_groups))\n",
    "                charge_dist_batch.extend(array_pass_cuts)\n",
    "\n",
    "            charge_dist_batch = np.asarray(charge_dist_batch)\n",
    "            new_shape = tuple(list(charge_dist_batch.shape) + [1])\n",
    "            charge_dist_batch = charge_dist_batch.reshape(new_shape)\n",
    "\n",
    "            inputs = [charge_dist_batch, np.asarray(X_batch)]\n",
    "            targets_batch= np.array(targets_batch)\n",
    "\n",
    "            yield (inputs, targets_batch)"
   ]
  },
  {
   "cell_type": "code",
   "execution_count": 26,
   "metadata": {
    "scrolled": false
   },
   "outputs": [],
   "source": [
    "sample_generator = generate_data(filenames,\n",
    "                                 df_sim_train.iloc[:100],\n",
    "                                 feature_list,\n",
    "                                 df_sim_train.iloc[:100]['comp_target_{}'.format(num_groups)],\n",
    "                                 batchsize=10)"
   ]
  },
  {
   "cell_type": "code",
   "execution_count": 27,
   "metadata": {},
   "outputs": [
    {
     "name": "stdout",
     "output_type": "stream",
     "text": [
      "w\n",
      "w\n",
      "w\n",
      "w\n",
      "w\n",
      "w\n",
      "w\n",
      "w\n",
      "w\n",
      "w\n",
      "w\n",
      "w\n",
      "w\n",
      "w\n",
      "w\n",
      "w\n",
      "w\n",
      "w\n",
      "w\n",
      "w\n",
      "w\n",
      "w\n",
      "w\n",
      "w\n"
     ]
    },
    {
     "ename": "KeyboardInterrupt",
     "evalue": "",
     "output_type": "error",
     "traceback": [
      "\u001b[0;31m---------------------------------------------------------------------------\u001b[0m",
      "\u001b[0;31mKeyboardInterrupt\u001b[0m                         Traceback (most recent call last)",
      "\u001b[0;32m<ipython-input-27-5c266ad94943>\u001b[0m in \u001b[0;36m<module>\u001b[0;34m()\u001b[0m\n\u001b[0;32m----> 1\u001b[0;31m \u001b[0;32mfor\u001b[0m \u001b[0minputs\u001b[0m\u001b[0;34m,\u001b[0m \u001b[0mtargets\u001b[0m \u001b[0;32min\u001b[0m \u001b[0msample_generator\u001b[0m\u001b[0;34m:\u001b[0m\u001b[0;34m\u001b[0m\u001b[0m\n\u001b[0m\u001b[1;32m      2\u001b[0m     \u001b[0mprint\u001b[0m\u001b[0;34m(\u001b[0m\u001b[0;34m'w'\u001b[0m\u001b[0;34m)\u001b[0m\u001b[0;34m\u001b[0m\u001b[0m\n",
      "\u001b[0;32m<ipython-input-25-835af057af10>\u001b[0m in \u001b[0;36mgenerate_data\u001b[0;34m(filenames, df_sim, features, labels, batchsize)\u001b[0m\n\u001b[1;32m     16\u001b[0m                     \u001b[0mevent_id\u001b[0m \u001b[0;34m=\u001b[0m \u001b[0mf\u001b[0m\u001b[0;34m[\u001b[0m\u001b[0;34m'/event_id'\u001b[0m\u001b[0;34m]\u001b[0m\u001b[0;34m.\u001b[0m\u001b[0mvalue\u001b[0m\u001b[0;34m\u001b[0m\u001b[0m\n\u001b[1;32m     17\u001b[0m \u001b[0;34m\u001b[0m\u001b[0m\n\u001b[0;32m---> 18\u001b[0;31m                 \u001b[0marray\u001b[0m \u001b[0;34m=\u001b[0m \u001b[0mnp\u001b[0m\u001b[0;34m.\u001b[0m\u001b[0mnan_to_num\u001b[0m\u001b[0;34m(\u001b[0m\u001b[0marray\u001b[0m\u001b[0;34m,\u001b[0m \u001b[0mcopy\u001b[0m\u001b[0;34m=\u001b[0m\u001b[0;32mFalse\u001b[0m\u001b[0;34m)\u001b[0m\u001b[0;34m\u001b[0m\u001b[0m\n\u001b[0m\u001b[1;32m     19\u001b[0m                 \u001b[0;31m# Decode byte strings\u001b[0m\u001b[0;34m\u001b[0m\u001b[0;34m\u001b[0m\u001b[0m\n\u001b[1;32m     20\u001b[0m                 \u001b[0mevent_id\u001b[0m \u001b[0;34m=\u001b[0m \u001b[0mnp\u001b[0m\u001b[0;34m.\u001b[0m\u001b[0marray\u001b[0m\u001b[0;34m(\u001b[0m\u001b[0;34m[\u001b[0m\u001b[0mi\u001b[0m\u001b[0;34m.\u001b[0m\u001b[0mdecode\u001b[0m\u001b[0;34m(\u001b[0m\u001b[0;34m'utf-8'\u001b[0m\u001b[0;34m)\u001b[0m \u001b[0;32mfor\u001b[0m \u001b[0mi\u001b[0m \u001b[0;32min\u001b[0m \u001b[0mevent_id\u001b[0m\u001b[0;34m]\u001b[0m\u001b[0;34m)\u001b[0m\u001b[0;34m\u001b[0m\u001b[0m\n",
      "\u001b[0;32m/data/user/jbourbeau/miniconda/envs/cr-composition/lib/python3.6/site-packages/numpy/lib/type_check.py\u001b[0m in \u001b[0;36mnan_to_num\u001b[0;34m(x, copy)\u001b[0m\n\u001b[1;32m    398\u001b[0m     \u001b[0;32mfor\u001b[0m \u001b[0md\u001b[0m \u001b[0;32min\u001b[0m \u001b[0mdest\u001b[0m\u001b[0;34m:\u001b[0m\u001b[0;34m\u001b[0m\u001b[0m\n\u001b[1;32m    399\u001b[0m         \u001b[0m_nx\u001b[0m\u001b[0;34m.\u001b[0m\u001b[0mcopyto\u001b[0m\u001b[0;34m(\u001b[0m\u001b[0md\u001b[0m\u001b[0;34m,\u001b[0m \u001b[0;36m0.0\u001b[0m\u001b[0;34m,\u001b[0m \u001b[0mwhere\u001b[0m\u001b[0;34m=\u001b[0m\u001b[0misnan\u001b[0m\u001b[0;34m(\u001b[0m\u001b[0md\u001b[0m\u001b[0;34m)\u001b[0m\u001b[0;34m)\u001b[0m\u001b[0;34m\u001b[0m\u001b[0m\n\u001b[0;32m--> 400\u001b[0;31m         \u001b[0m_nx\u001b[0m\u001b[0;34m.\u001b[0m\u001b[0mcopyto\u001b[0m\u001b[0;34m(\u001b[0m\u001b[0md\u001b[0m\u001b[0;34m,\u001b[0m \u001b[0mmaxf\u001b[0m\u001b[0;34m,\u001b[0m \u001b[0mwhere\u001b[0m\u001b[0;34m=\u001b[0m\u001b[0misposinf\u001b[0m\u001b[0;34m(\u001b[0m\u001b[0md\u001b[0m\u001b[0;34m)\u001b[0m\u001b[0;34m)\u001b[0m\u001b[0;34m\u001b[0m\u001b[0m\n\u001b[0m\u001b[1;32m    401\u001b[0m         \u001b[0m_nx\u001b[0m\u001b[0;34m.\u001b[0m\u001b[0mcopyto\u001b[0m\u001b[0;34m(\u001b[0m\u001b[0md\u001b[0m\u001b[0;34m,\u001b[0m \u001b[0mminf\u001b[0m\u001b[0;34m,\u001b[0m \u001b[0mwhere\u001b[0m\u001b[0;34m=\u001b[0m\u001b[0misneginf\u001b[0m\u001b[0;34m(\u001b[0m\u001b[0md\u001b[0m\u001b[0;34m)\u001b[0m\u001b[0;34m)\u001b[0m\u001b[0;34m\u001b[0m\u001b[0m\n\u001b[1;32m    402\u001b[0m     \u001b[0;32mreturn\u001b[0m \u001b[0mx\u001b[0m\u001b[0;34m[\u001b[0m\u001b[0;36m0\u001b[0m\u001b[0;34m]\u001b[0m \u001b[0;32mif\u001b[0m \u001b[0misscalar\u001b[0m \u001b[0;32melse\u001b[0m \u001b[0mx\u001b[0m\u001b[0;34m\u001b[0m\u001b[0m\n",
      "\u001b[0;32m/data/user/jbourbeau/miniconda/envs/cr-composition/lib/python3.6/site-packages/numpy/lib/ufunclike.py\u001b[0m in \u001b[0;36mfunc\u001b[0;34m(x, out, **kwargs)\u001b[0m\n\u001b[1;32m     32\u001b[0m                 \u001b[0;34m\"`out`, to match other ufuncs.\"\u001b[0m\u001b[0;34m.\u001b[0m\u001b[0mformat\u001b[0m\u001b[0;34m(\u001b[0m\u001b[0mf\u001b[0m\u001b[0;34m.\u001b[0m\u001b[0m__name__\u001b[0m\u001b[0;34m)\u001b[0m\u001b[0;34m,\u001b[0m\u001b[0;34m\u001b[0m\u001b[0m\n\u001b[1;32m     33\u001b[0m                 DeprecationWarning, stacklevel=3)\n\u001b[0;32m---> 34\u001b[0;31m         \u001b[0;32mreturn\u001b[0m \u001b[0mf\u001b[0m\u001b[0;34m(\u001b[0m\u001b[0mx\u001b[0m\u001b[0;34m,\u001b[0m \u001b[0mout\u001b[0m\u001b[0;34m=\u001b[0m\u001b[0mout\u001b[0m\u001b[0;34m,\u001b[0m \u001b[0;34m**\u001b[0m\u001b[0mkwargs\u001b[0m\u001b[0;34m)\u001b[0m\u001b[0;34m\u001b[0m\u001b[0m\n\u001b[0m\u001b[1;32m     35\u001b[0m \u001b[0;34m\u001b[0m\u001b[0m\n\u001b[1;32m     36\u001b[0m     \u001b[0;32mreturn\u001b[0m \u001b[0mfunc\u001b[0m\u001b[0;34m\u001b[0m\u001b[0m\n",
      "\u001b[0;32m/data/user/jbourbeau/miniconda/envs/cr-composition/lib/python3.6/site-packages/numpy/lib/ufunclike.py\u001b[0m in \u001b[0;36misposinf\u001b[0;34m(x, out)\u001b[0m\n\u001b[1;32m    139\u001b[0m \u001b[0;34m\u001b[0m\u001b[0m\n\u001b[1;32m    140\u001b[0m     \"\"\"\n\u001b[0;32m--> 141\u001b[0;31m     \u001b[0;32mreturn\u001b[0m \u001b[0mnx\u001b[0m\u001b[0;34m.\u001b[0m\u001b[0mlogical_and\u001b[0m\u001b[0;34m(\u001b[0m\u001b[0mnx\u001b[0m\u001b[0;34m.\u001b[0m\u001b[0misinf\u001b[0m\u001b[0;34m(\u001b[0m\u001b[0mx\u001b[0m\u001b[0;34m)\u001b[0m\u001b[0;34m,\u001b[0m \u001b[0;34m~\u001b[0m\u001b[0mnx\u001b[0m\u001b[0;34m.\u001b[0m\u001b[0msignbit\u001b[0m\u001b[0;34m(\u001b[0m\u001b[0mx\u001b[0m\u001b[0;34m)\u001b[0m\u001b[0;34m,\u001b[0m \u001b[0mout\u001b[0m\u001b[0;34m)\u001b[0m\u001b[0;34m\u001b[0m\u001b[0m\n\u001b[0m\u001b[1;32m    142\u001b[0m \u001b[0;34m\u001b[0m\u001b[0m\n\u001b[1;32m    143\u001b[0m \u001b[0;34m\u001b[0m\u001b[0m\n",
      "\u001b[0;31mKeyboardInterrupt\u001b[0m: "
     ]
    }
   ],
   "source": [
    "for inputs, targets in sample_generator:\n",
    "    print('w')"
   ]
  },
  {
   "cell_type": "code",
   "execution_count": 77,
   "metadata": {
    "scrolled": false
   },
   "outputs": [],
   "source": [
    "# dask_arrays = []\n",
    "# for fn in filenames:\n",
    "#     with h5py.File(fn, mode='r') as f:\n",
    "#         d = f['/charge_dist'].value\n",
    "# #         d = d / d.max()\n",
    "#         d = np.nan_to_num(d)\n",
    "#         d = np.array([i / i.sum() for i in d])\n",
    "#     x = da.from_array(d, chunks=100)\n",
    "#     dask_arrays.append(x)\n",
    "\n",
    "# x = da.concatenate(dask_arrays, axis=0)  # concatenate arrays along first axis"
   ]
  },
  {
   "cell_type": "code",
   "execution_count": 79,
   "metadata": {},
   "outputs": [
    {
     "name": "stdout",
     "output_type": "stream",
     "text": [
      "[########################################] | 100% Completed | 19.6s\n"
     ]
    }
   ],
   "source": [
    "# with ProgressBar() as _, Profiler() as prof, ResourceProfiler(dt=0.25) as rprof, CacheProfiler() as cprof:\n",
    "#     hists = x.compute(num_workers=20)"
   ]
  },
  {
   "cell_type": "markdown",
   "metadata": {},
   "source": [
    "Reshape charge distribution array for use in keras"
   ]
  },
  {
   "cell_type": "code",
   "execution_count": 83,
   "metadata": {},
   "outputs": [
    {
     "name": "stdout",
     "output_type": "stream",
     "text": [
      "current_shape = (1118562, 24, 24)\n",
      "new_shape = (1118562, 24, 24, 1)\n"
     ]
    }
   ],
   "source": [
    "# print(f'current_shape = {hists.shape}')\n",
    "# new_shape = tuple(list(hists.shape) + [1])\n",
    "# hists = hists.reshape(new_shape)\n",
    "# print(f'new_shape = {hists.shape}')"
   ]
  },
  {
   "cell_type": "code",
   "execution_count": 84,
   "metadata": {},
   "outputs": [],
   "source": [
    "# dask_arrays = []\n",
    "# for fn in filenames:\n",
    "#     with h5py.File(fn, mode='r') as f:\n",
    "#         d = f['/event_id'].value\n",
    "#         # Byte strings\n",
    "#         d = np.array([i.decode('utf-8') for i in d])\n",
    "#     x = da.from_array(d, chunks=100)\n",
    "#     dask_arrays.append(x)\n",
    "\n",
    "# event_ids = da.concatenate(dask_arrays, axis=0)  # concatenate arrays along first axis"
   ]
  },
  {
   "cell_type": "code",
   "execution_count": 85,
   "metadata": {},
   "outputs": [
    {
     "name": "stdout",
     "output_type": "stream",
     "text": [
      "[########################################] | 100% Completed | 20.9s\n"
     ]
    }
   ],
   "source": [
    "# with ProgressBar():\n",
    "#     event_ids = event_ids.compute(num_workers=20)"
   ]
  },
  {
   "cell_type": "code",
   "execution_count": 86,
   "metadata": {},
   "outputs": [
    {
     "data": {
      "text/plain": [
       "array(['12630_10077_3_0', '12630_10077_7_0', '12630_10077_10_0', ...,\n",
       "       '12630_1332_26_0', '12630_1332_86_0', '12630_1332_89_0'],\n",
       "      dtype='<U16')"
      ]
     },
     "execution_count": 86,
     "metadata": {},
     "output_type": "execute_result"
    }
   ],
   "source": [
    "event_ids"
   ]
  },
  {
   "cell_type": "code",
   "execution_count": 87,
   "metadata": {},
   "outputs": [
    {
     "data": {
      "text/plain": [
       "'12630_10077_3_0'"
      ]
     },
     "execution_count": 87,
     "metadata": {},
     "output_type": "execute_result"
    }
   ],
   "source": [
    "event_ids[0]"
   ]
  },
  {
   "cell_type": "code",
   "execution_count": 88,
   "metadata": {},
   "outputs": [],
   "source": [
    "train_mask = np.array([item in df_sim_train.index for item in event_ids])\n",
    "test_mask = np.array([item in df_sim_test.index for item in event_ids])"
   ]
  },
  {
   "cell_type": "code",
   "execution_count": 89,
   "metadata": {},
   "outputs": [
    {
     "data": {
      "text/plain": [
       "((35425,), (35426,))"
      ]
     },
     "execution_count": 89,
     "metadata": {},
     "output_type": "execute_result"
    }
   ],
   "source": [
    "df_sim_train.index.shape, df_sim_test.index.shape"
   ]
  },
  {
   "cell_type": "code",
   "execution_count": 90,
   "metadata": {},
   "outputs": [
    {
     "data": {
      "text/plain": [
       "Index([], dtype='object')"
      ]
     },
     "execution_count": 90,
     "metadata": {},
     "output_type": "execute_result"
    }
   ],
   "source": [
    "df_sim_train.index.intersection(df_sim_test.index)"
   ]
  },
  {
   "cell_type": "code",
   "execution_count": 91,
   "metadata": {},
   "outputs": [
    {
     "data": {
      "text/plain": [
       "(35425, 35426)"
      ]
     },
     "execution_count": 91,
     "metadata": {},
     "output_type": "execute_result"
    }
   ],
   "source": [
    "np.sum(train_mask), np.sum(test_mask)"
   ]
  },
  {
   "cell_type": "code",
   "execution_count": 92,
   "metadata": {},
   "outputs": [],
   "source": [
    "hist_array_train = xr.DataArray(hists[train_mask], coords={'dim_0': event_ids[train_mask]})\n",
    "hist_array_test = xr.DataArray(hists[test_mask], coords={'dim_0': event_ids[test_mask]})"
   ]
  },
  {
   "cell_type": "code",
   "execution_count": 93,
   "metadata": {},
   "outputs": [
    {
     "data": {
      "text/plain": [
       "<xarray.DataArray (dim_0: 35425, dim_1: 24, dim_2: 24, dim_3: 1)>\n",
       "array([[[[0.],\n",
       "         ...,\n",
       "         [0.]],\n",
       "\n",
       "        ...,\n",
       "\n",
       "        [[0.],\n",
       "         ...,\n",
       "         [0.]]],\n",
       "\n",
       "\n",
       "       ...,\n",
       "\n",
       "\n",
       "       [[[0.],\n",
       "         ...,\n",
       "         [0.]],\n",
       "\n",
       "        ...,\n",
       "\n",
       "        [[0.],\n",
       "         ...,\n",
       "         [0.]]]])\n",
       "Coordinates:\n",
       "  * dim_0    (dim_0) <U16 '12630_17688_29_0' '12630_8819_21_0' ...\n",
       "Dimensions without coordinates: dim_1, dim_2, dim_3"
      ]
     },
     "execution_count": 93,
     "metadata": {},
     "output_type": "execute_result"
    }
   ],
   "source": [
    "hist_array_train"
   ]
  },
  {
   "cell_type": "code",
   "execution_count": 94,
   "metadata": {
    "scrolled": false
   },
   "outputs": [],
   "source": [
    "hist_array_train = hist_array_train.loc[df_sim_train.index]\n",
    "hist_array_test = hist_array_test.loc[df_sim_test.index]"
   ]
  },
  {
   "cell_type": "code",
   "execution_count": 95,
   "metadata": {
    "scrolled": true
   },
   "outputs": [
    {
     "name": "stderr",
     "output_type": "stream",
     "text": [
      "/net/cvmfs_users/jbourbeau/miniconda/envs/cr-composition/lib/python3.6/site-packages/matplotlib/figure.py:2267: UserWarning: This figure includes Axes that are not compatible with tight_layout, so results might be incorrect.\n",
      "  warnings.warn(\"This figure includes Axes that are not compatible \"\n"
     ]
    },
    {
     "data": {
      "image/png": "[encoded data removed]",
      "text/plain": [
       "<Figure size 432x288 with 2 Axes>"
      ]
     },
     "metadata": {},
     "output_type": "display_data"
    },
    {
     "data": {
      "image/png": "[encoded data removed]",
      "text/plain": [
       "<Figure size 432x288 with 2 Axes>"
      ]
     },
     "metadata": {},
     "output_type": "display_data"
    },
    {
     "data": {
      "image/png": "[encoded data removed]",
      "text/plain": [
       "<Figure size 432x288 with 2 Axes>"
      ]
     },
     "metadata": {},
     "output_type": "display_data"
    },
    {
     "data": {
      "image/png": "[encoded data removed]",
      "text/plain": [
       "<Figure size 432x288 with 2 Axes>"
      ]
     },
     "metadata": {},
     "output_type": "display_data"
    },
    {
     "data": {
      "image/png": "[encoded data removed]",
      "text/plain": [
       "<Figure size 432x288 with 2 Axes>"
      ]
     },
     "metadata": {},
     "output_type": "display_data"
    },
    {
     "data": {
      "image/png": "[encoded data removed]",
      "text/plain": [
       "<Figure size 432x288 with 2 Axes>"
      ]
     },
     "metadata": {},
     "output_type": "display_data"
    },
    {
     "data": {
      "image/png": "[encoded data removed]",
      "text/plain": [
       "<Figure size 432x288 with 2 Axes>"
      ]
     },
     "metadata": {},
     "output_type": "display_data"
    },
    {
     "data": {
      "image/png": "[encoded data removed]",
      "text/plain": [
       "<Figure size 432x288 with 2 Axes>"
      ]
     },
     "metadata": {},
     "output_type": "display_data"
    },
    {
     "data": {
      "image/png": "[encoded data removed]",
      "text/plain": [
       "<Figure size 432x288 with 2 Axes>"
      ]
     },
     "metadata": {},
     "output_type": "display_data"
    },
    {
     "data": {
      "image/png": "[encoded data removed]",
      "text/plain": [
       "<Figure size 432x288 with 2 Axes>"
      ]
     },
     "metadata": {},
     "output_type": "display_data"
    }
   ],
   "source": [
    "for idx in range(10):\n",
    "    h = hist_array_train[idx].values\n",
    "    h = h.reshape(new_shape[1:-1])\n",
    "    h_norm = h / h.max()\n",
    "    h_norm[h_norm == 0] = np.nan\n",
    "#     plt.imshow(h_norm, origin='lower')\n",
    "    plt.imshow(np.log10(h_norm), origin='lower')\n",
    "    plt.colorbar()\n",
    "    plt.xlabel('X [m]')\n",
    "    plt.ylabel('Y [m]')\n",
    "    true_comp = df_sim_train.iloc[idx]['MC_comp']\n",
    "    true_log_energy = df_sim_train.iloc[idx]['MC_log_energy']\n",
    "    plt.title(true_comp + ' ({:0.2f})'.format(true_log_energy))\n",
    "    plt.grid()\n",
    "    plt.show()"
   ]
  },
  {
   "cell_type": "markdown",
   "metadata": {},
   "source": [
    "## CNN model"
   ]
  },
  {
   "cell_type": "code",
   "execution_count": 40,
   "metadata": {},
   "outputs": [],
   "source": [
    "inputs = Input(shape=(24, 24, 1), name='hist_input')\n",
    "\n",
    "x = Conv2D(12, (9, 9), padding='same')(inputs)\n",
    "x = LeakyReLU(alpha=0.3)(x)\n",
    "x = Conv2D(12, (9, 9), padding='same')(x)\n",
    "x = LeakyReLU(alpha=0.3)(x)\n",
    "x = MaxPooling2D(pool_size=(6, 6))(x)\n",
    "x = Dropout(0.2)(x)\n",
    "\n",
    "x = Conv2D(24, (9, 9), padding='same')(inputs)\n",
    "x = LeakyReLU(alpha=0.3)(x)\n",
    "x = Conv2D(24, (9, 9), padding='same')(x)\n",
    "x = LeakyReLU(alpha=0.3)(x)\n",
    "x = MaxPooling2D(pool_size=(6, 6))(x)\n",
    "x = Dropout(0.2)(x)\n",
    "\n",
    "# x = Conv2D(64, (3, 3), padding='same')(inputs)\n",
    "# x = LeakyReLU(alpha=0.3)(x)\n",
    "# x = Conv2D(64, (3, 3), padding='same')(x)\n",
    "# x = LeakyReLU(alpha=0.3)(x)\n",
    "# x = MaxPooling2D(pool_size=(2, 2))(x)\n",
    "# x = Dropout(0.2)(x)\n",
    "\n",
    "# x = Conv2D(128, (3, 3), padding='same')(inputs)\n",
    "# x = LeakyReLU(alpha=0.3)(x)\n",
    "# x = Conv2D(128, (3, 3), padding='same')(x)\n",
    "# x = LeakyReLU(alpha=0.3)(x)\n",
    "# x = MaxPooling2D(pool_size=(2, 2))(x)\n",
    "# x = Dropout(0.2)(x)\n",
    "\n",
    "flatten_output = Flatten()(x)\n",
    "\n",
    "auxiliary_input = Input(shape=(len(feature_list),), name='aux_input')\n",
    "x = keras.layers.concatenate([flatten_output, auxiliary_input])\n",
    "\n",
    "x = Dense(256, activation='relu')(x)\n",
    "x = Dropout(0.4)(x)\n",
    "x = Dense(256, activation='relu')(x)\n",
    "x = Dropout(0.4)(x)\n",
    "\n",
    "predictions = Dense(num_groups, activation='softmax')(x)\n",
    "\n",
    "# This creates a model that includes\n",
    "# the Input layer and three Dense layers\n",
    "model = Model(inputs=[inputs, auxiliary_input], outputs=predictions)\n",
    "model.compile(optimizer='adam',\n",
    "              loss='categorical_crossentropy',\n",
    "              metrics=['accuracy'])"
   ]
  },
  {
   "cell_type": "code",
   "execution_count": 41,
   "metadata": {},
   "outputs": [
    {
     "name": "stdout",
     "output_type": "stream",
     "text": [
      "__________________________________________________________________________________________________\n",
      "Layer (type)                    Output Shape         Param #     Connected to                     \n",
      "==================================================================================================\n",
      "hist_input (InputLayer)         (None, 24, 24, 1)    0                                            \n",
      "__________________________________________________________________________________________________\n",
      "conv2d_27 (Conv2D)              (None, 24, 24, 24)   1968        hist_input[0][0]                 \n",
      "__________________________________________________________________________________________________\n",
      "leaky_re_lu_27 (LeakyReLU)      (None, 24, 24, 24)   0           conv2d_27[0][0]                  \n",
      "__________________________________________________________________________________________________\n",
      "conv2d_28 (Conv2D)              (None, 24, 24, 24)   46680       leaky_re_lu_27[0][0]             \n",
      "__________________________________________________________________________________________________\n",
      "leaky_re_lu_28 (LeakyReLU)      (None, 24, 24, 24)   0           conv2d_28[0][0]                  \n",
      "__________________________________________________________________________________________________\n",
      "max_pooling2d_14 (MaxPooling2D) (None, 4, 4, 24)     0           leaky_re_lu_28[0][0]             \n",
      "__________________________________________________________________________________________________\n",
      "dropout_26 (Dropout)            (None, 4, 4, 24)     0           max_pooling2d_14[0][0]           \n",
      "__________________________________________________________________________________________________\n",
      "flatten_7 (Flatten)             (None, 384)          0           dropout_26[0][0]                 \n",
      "__________________________________________________________________________________________________\n",
      "aux_input (InputLayer)          (None, 5)            0                                            \n",
      "__________________________________________________________________________________________________\n",
      "concatenate_7 (Concatenate)     (None, 389)          0           flatten_7[0][0]                  \n",
      "                                                                 aux_input[0][0]                  \n",
      "__________________________________________________________________________________________________\n",
      "dense_19 (Dense)                (None, 256)          99840       concatenate_7[0][0]              \n",
      "__________________________________________________________________________________________________\n",
      "dropout_27 (Dropout)            (None, 256)          0           dense_19[0][0]                   \n",
      "__________________________________________________________________________________________________\n",
      "dense_20 (Dense)                (None, 256)          65792       dropout_27[0][0]                 \n",
      "__________________________________________________________________________________________________\n",
      "dropout_28 (Dropout)            (None, 256)          0           dense_20[0][0]                   \n",
      "__________________________________________________________________________________________________\n",
      "dense_21 (Dense)                (None, 2)            514         dropout_28[0][0]                 \n",
      "==================================================================================================\n",
      "Total params: 214,794\n",
      "Trainable params: 214,794\n",
      "Non-trainable params: 0\n",
      "__________________________________________________________________________________________________\n"
     ]
    }
   ],
   "source": [
    "model.summary()"
   ]
  },
  {
   "cell_type": "code",
   "execution_count": 42,
   "metadata": {
    "scrolled": false
   },
   "outputs": [
    {
     "data": {
      "image/svg+xml": [
       "<svg height=\"1008pt\" viewBox=\"0.00 0.00 326.00 1008.00\" width=\"326pt\" xmlns=\"http://www.w3.org/2000/svg\" xmlns:xlink=\"http://www.w3.org/1999/xlink\">\n",
       "<g class=\"graph\" id=\"graph1\" transform=\"scale(1 1) rotate(0) translate(4 1004)\">\n",
       "<title>G</title>\n",
       "<polygon fill=\"white\" points=\"-4,5 -4,-1004 323,-1004 323,5 -4,5\" stroke=\"white\"/>\n",
       "<!-- 139921317715248 -->\n",
       "<g class=\"node\" id=\"node1\"><title>139921317715248</title>\n",
       "<polygon fill=\"none\" points=\"38,-963 38,-999 176,-999 176,-963 38,-963\" stroke=\"black\"/>\n",
       "<text font-family=\"Times Roman,serif\" font-size=\"14.00\" text-anchor=\"middle\" x=\"107\" y=\"-977.9\">hist_input: InputLayer</text>\n",
       "</g>\n",
       "<!-- 139920019467344 -->\n",
       "<g class=\"node\" id=\"node2\"><title>139920019467344</title>\n",
       "<polygon fill=\"none\" points=\"42,-889 42,-925 172,-925 172,-889 42,-889\" stroke=\"black\"/>\n",
       "<text font-family=\"Times Roman,serif\" font-size=\"14.00\" text-anchor=\"middle\" x=\"107\" y=\"-903.9\">conv2d_27: Conv2D</text>\n",
       "</g>\n",
       "<!-- 139921317715248&#45;&gt;139920019467344 -->\n",
       "<g class=\"edge\" id=\"edge2\"><title>139921317715248-&gt;139920019467344</title>\n",
       "<path d=\"M107,-962.708C107,-954.464 107,-944.538 107,-935.362\" fill=\"none\" stroke=\"black\"/>\n",
       "<polygon fill=\"black\" points=\"110.5,-935.082 107,-925.082 103.5,-935.082 110.5,-935.082\" stroke=\"black\"/>\n",
       "</g>\n",
       "<!-- 139920007932952 -->\n",
       "<g class=\"node\" id=\"node3\"><title>139920007932952</title>\n",
       "<polygon fill=\"none\" points=\"19.5,-815 19.5,-851 194.5,-851 194.5,-815 19.5,-815\" stroke=\"black\"/>\n",
       "<text font-family=\"Times Roman,serif\" font-size=\"14.00\" text-anchor=\"middle\" x=\"107\" y=\"-829.9\">leaky_re_lu_27: LeakyReLU</text>\n",
       "</g>\n",
       "<!-- 139920019467344&#45;&gt;139920007932952 -->\n",
       "<g class=\"edge\" id=\"edge4\"><title>139920019467344-&gt;139920007932952</title>\n",
       "<path d=\"M107,-888.708C107,-880.464 107,-870.538 107,-861.362\" fill=\"none\" stroke=\"black\"/>\n",
       "<polygon fill=\"black\" points=\"110.5,-861.082 107,-851.082 103.5,-861.082 110.5,-861.082\" stroke=\"black\"/>\n",
       "</g>\n",
       "<!-- 139920019467456 -->\n",
       "<g class=\"node\" id=\"node4\"><title>139920019467456</title>\n",
       "<polygon fill=\"none\" points=\"42,-741 42,-777 172,-777 172,-741 42,-741\" stroke=\"black\"/>\n",
       "<text font-family=\"Times Roman,serif\" font-size=\"14.00\" text-anchor=\"middle\" x=\"107\" y=\"-755.9\">conv2d_28: Conv2D</text>\n",
       "</g>\n",
       "<!-- 139920007932952&#45;&gt;139920019467456 -->\n",
       "<g class=\"edge\" id=\"edge6\"><title>139920007932952-&gt;139920019467456</title>\n",
       "<path d=\"M107,-814.708C107,-806.464 107,-796.538 107,-787.362\" fill=\"none\" stroke=\"black\"/>\n",
       "<polygon fill=\"black\" points=\"110.5,-787.082 107,-777.082 103.5,-787.082 110.5,-787.082\" stroke=\"black\"/>\n",
       "</g>\n",
       "<!-- 139920019442544 -->\n",
       "<g class=\"node\" id=\"node5\"><title>139920019442544</title>\n",
       "<polygon fill=\"none\" points=\"19.5,-667 19.5,-703 194.5,-703 194.5,-667 19.5,-667\" stroke=\"black\"/>\n",
       "<text font-family=\"Times Roman,serif\" font-size=\"14.00\" text-anchor=\"middle\" x=\"107\" y=\"-681.9\">leaky_re_lu_28: LeakyReLU</text>\n",
       "</g>\n",
       "<!-- 139920019467456&#45;&gt;139920019442544 -->\n",
       "<g class=\"edge\" id=\"edge8\"><title>139920019467456-&gt;139920019442544</title>\n",
       "<path d=\"M107,-740.708C107,-732.464 107,-722.538 107,-713.362\" fill=\"none\" stroke=\"black\"/>\n",
       "<polygon fill=\"black\" points=\"110.5,-713.082 107,-703.082 103.5,-713.082 110.5,-713.082\" stroke=\"black\"/>\n",
       "</g>\n",
       "<!-- 139920025408064 -->\n",
       "<g class=\"node\" id=\"node6\"><title>139920025408064</title>\n",
       "<polygon fill=\"none\" points=\"0,-593 0,-629 214,-629 214,-593 0,-593\" stroke=\"black\"/>\n",
       "<text font-family=\"Times Roman,serif\" font-size=\"14.00\" text-anchor=\"middle\" x=\"107\" y=\"-607.9\">max_pooling2d_14: MaxPooling2D</text>\n",
       "</g>\n",
       "<!-- 139920019442544&#45;&gt;139920025408064 -->\n",
       "<g class=\"edge\" id=\"edge10\"><title>139920019442544-&gt;139920025408064</title>\n",
       "<path d=\"M107,-666.708C107,-658.464 107,-648.538 107,-639.362\" fill=\"none\" stroke=\"black\"/>\n",
       "<polygon fill=\"black\" points=\"110.5,-639.082 107,-629.082 103.5,-639.082 110.5,-639.082\" stroke=\"black\"/>\n",
       "</g>\n",
       "<!-- 139920011929528 -->\n",
       "<g class=\"node\" id=\"node7\"><title>139920011929528</title>\n",
       "<polygon fill=\"none\" points=\"41.5,-519 41.5,-555 172.5,-555 172.5,-519 41.5,-519\" stroke=\"black\"/>\n",
       "<text font-family=\"Times Roman,serif\" font-size=\"14.00\" text-anchor=\"middle\" x=\"107\" y=\"-533.9\">dropout_26: Dropout</text>\n",
       "</g>\n",
       "<!-- 139920025408064&#45;&gt;139920011929528 -->\n",
       "<g class=\"edge\" id=\"edge12\"><title>139920025408064-&gt;139920011929528</title>\n",
       "<path d=\"M107,-592.708C107,-584.464 107,-574.538 107,-565.362\" fill=\"none\" stroke=\"black\"/>\n",
       "<polygon fill=\"black\" points=\"110.5,-565.082 107,-555.082 103.5,-565.082 110.5,-565.082\" stroke=\"black\"/>\n",
       "</g>\n",
       "<!-- 139920072529008 -->\n",
       "<g class=\"node\" id=\"node8\"><title>139920072529008</title>\n",
       "<polygon fill=\"none\" points=\"52,-445 52,-481 162,-481 162,-445 52,-445\" stroke=\"black\"/>\n",
       "<text font-family=\"Times Roman,serif\" font-size=\"14.00\" text-anchor=\"middle\" x=\"107\" y=\"-459.9\">flatten_7: Flatten</text>\n",
       "</g>\n",
       "<!-- 139920011929528&#45;&gt;139920072529008 -->\n",
       "<g class=\"edge\" id=\"edge14\"><title>139920011929528-&gt;139920072529008</title>\n",
       "<path d=\"M107,-518.708C107,-510.464 107,-500.538 107,-491.362\" fill=\"none\" stroke=\"black\"/>\n",
       "<polygon fill=\"black\" points=\"110.5,-491.082 107,-481.082 103.5,-491.082 110.5,-491.082\" stroke=\"black\"/>\n",
       "</g>\n",
       "<!-- 139920005757136 -->\n",
       "<g class=\"node\" id=\"node10\"><title>139920005757136</title>\n",
       "<polygon fill=\"none\" points=\"94,-371 94,-407 262,-407 262,-371 94,-371\" stroke=\"black\"/>\n",
       "<text font-family=\"Times Roman,serif\" font-size=\"14.00\" text-anchor=\"middle\" x=\"178\" y=\"-385.9\">concatenate_7: Concatenate</text>\n",
       "</g>\n",
       "<!-- 139920072529008&#45;&gt;139920005757136 -->\n",
       "<g class=\"edge\" id=\"edge16\"><title>139920072529008-&gt;139920005757136</title>\n",
       "<path d=\"M124.551,-444.708C133.32,-435.567 144.074,-424.36 153.63,-414.4\" fill=\"none\" stroke=\"black\"/>\n",
       "<polygon fill=\"black\" points=\"156.254,-416.721 160.651,-407.082 151.202,-411.874 156.254,-416.721\" stroke=\"black\"/>\n",
       "</g>\n",
       "<!-- 139920011928128 -->\n",
       "<g class=\"node\" id=\"node9\"><title>139920011928128</title>\n",
       "<polygon fill=\"none\" points=\"180,-445 180,-481 318,-481 318,-445 180,-445\" stroke=\"black\"/>\n",
       "<text font-family=\"Times Roman,serif\" font-size=\"14.00\" text-anchor=\"middle\" x=\"249\" y=\"-459.9\">aux_input: InputLayer</text>\n",
       "</g>\n",
       "<!-- 139920011928128&#45;&gt;139920005757136 -->\n",
       "<g class=\"edge\" id=\"edge18\"><title>139920011928128-&gt;139920005757136</title>\n",
       "<path d=\"M231.449,-444.708C222.68,-435.567 211.926,-424.36 202.37,-414.4\" fill=\"none\" stroke=\"black\"/>\n",
       "<polygon fill=\"black\" points=\"204.798,-411.874 195.349,-407.082 199.746,-416.721 204.798,-411.874\" stroke=\"black\"/>\n",
       "</g>\n",
       "<!-- 139920005598904 -->\n",
       "<g class=\"node\" id=\"node11\"><title>139920005598904</title>\n",
       "<polygon fill=\"none\" points=\"123.5,-297 123.5,-333 232.5,-333 232.5,-297 123.5,-297\" stroke=\"black\"/>\n",
       "<text font-family=\"Times Roman,serif\" font-size=\"14.00\" text-anchor=\"middle\" x=\"178\" y=\"-311.9\">dense_19: Dense</text>\n",
       "</g>\n",
       "<!-- 139920005757136&#45;&gt;139920005598904 -->\n",
       "<g class=\"edge\" id=\"edge20\"><title>139920005757136-&gt;139920005598904</title>\n",
       "<path d=\"M178,-370.708C178,-362.464 178,-352.538 178,-343.362\" fill=\"none\" stroke=\"black\"/>\n",
       "<polygon fill=\"black\" points=\"181.5,-343.082 178,-333.082 174.5,-343.082 181.5,-343.082\" stroke=\"black\"/>\n",
       "</g>\n",
       "<!-- 139920007331176 -->\n",
       "<g class=\"node\" id=\"node12\"><title>139920007331176</title>\n",
       "<polygon fill=\"none\" points=\"112.5,-223 112.5,-259 243.5,-259 243.5,-223 112.5,-223\" stroke=\"black\"/>\n",
       "<text font-family=\"Times Roman,serif\" font-size=\"14.00\" text-anchor=\"middle\" x=\"178\" y=\"-237.9\">dropout_27: Dropout</text>\n",
       "</g>\n",
       "<!-- 139920005598904&#45;&gt;139920007331176 -->\n",
       "<g class=\"edge\" id=\"edge22\"><title>139920005598904-&gt;139920007331176</title>\n",
       "<path d=\"M178,-296.708C178,-288.464 178,-278.538 178,-269.362\" fill=\"none\" stroke=\"black\"/>\n",
       "<polygon fill=\"black\" points=\"181.5,-269.082 178,-259.082 174.5,-269.082 181.5,-269.082\" stroke=\"black\"/>\n",
       "</g>\n",
       "<!-- 139920005596496 -->\n",
       "<g class=\"node\" id=\"node13\"><title>139920005596496</title>\n",
       "<polygon fill=\"none\" points=\"123.5,-149 123.5,-185 232.5,-185 232.5,-149 123.5,-149\" stroke=\"black\"/>\n",
       "<text font-family=\"Times Roman,serif\" font-size=\"14.00\" text-anchor=\"middle\" x=\"178\" y=\"-163.9\">dense_20: Dense</text>\n",
       "</g>\n",
       "<!-- 139920007331176&#45;&gt;139920005596496 -->\n",
       "<g class=\"edge\" id=\"edge24\"><title>139920007331176-&gt;139920005596496</title>\n",
       "<path d=\"M178,-222.708C178,-214.464 178,-204.538 178,-195.362\" fill=\"none\" stroke=\"black\"/>\n",
       "<polygon fill=\"black\" points=\"181.5,-195.082 178,-185.082 174.5,-195.082 181.5,-195.082\" stroke=\"black\"/>\n",
       "</g>\n",
       "<!-- 139920025941496 -->\n",
       "<g class=\"node\" id=\"node14\"><title>139920025941496</title>\n",
       "<polygon fill=\"none\" points=\"112.5,-75 112.5,-111 243.5,-111 243.5,-75 112.5,-75\" stroke=\"black\"/>\n",
       "<text font-family=\"Times Roman,serif\" font-size=\"14.00\" text-anchor=\"middle\" x=\"178\" y=\"-89.9\">dropout_28: Dropout</text>\n",
       "</g>\n",
       "<!-- 139920005596496&#45;&gt;139920025941496 -->\n",
       "<g class=\"edge\" id=\"edge26\"><title>139920005596496-&gt;139920025941496</title>\n",
       "<path d=\"M178,-148.708C178,-140.464 178,-130.538 178,-121.362\" fill=\"none\" stroke=\"black\"/>\n",
       "<polygon fill=\"black\" points=\"181.5,-121.082 178,-111.082 174.5,-121.082 181.5,-121.082\" stroke=\"black\"/>\n",
       "</g>\n",
       "<!-- 139920022713680 -->\n",
       "<g class=\"node\" id=\"node15\"><title>139920022713680</title>\n",
       "<polygon fill=\"none\" points=\"123.5,-1 123.5,-37 232.5,-37 232.5,-1 123.5,-1\" stroke=\"black\"/>\n",
       "<text font-family=\"Times Roman,serif\" font-size=\"14.00\" text-anchor=\"middle\" x=\"178\" y=\"-15.9\">dense_21: Dense</text>\n",
       "</g>\n",
       "<!-- 139920025941496&#45;&gt;139920022713680 -->\n",
       "<g class=\"edge\" id=\"edge28\"><title>139920025941496-&gt;139920022713680</title>\n",
       "<path d=\"M178,-74.7079C178,-66.4635 178,-56.5376 178,-47.3622\" fill=\"none\" stroke=\"black\"/>\n",
       "<polygon fill=\"black\" points=\"181.5,-47.0817 178,-37.0817 174.5,-47.0818 181.5,-47.0817\" stroke=\"black\"/>\n",
       "</g>\n",
       "</g>\n",
       "</svg>"
      ],
      "text/plain": [
       "<IPython.core.display.SVG object>"
      ]
     },
     "execution_count": 42,
     "metadata": {},
     "output_type": "execute_result"
    }
   ],
   "source": [
    "from IPython.display import SVG\n",
    "from keras.utils.vis_utils import model_to_dot\n",
    "\n",
    "SVG(model_to_dot(model).create(prog='dot', format='svg'))"
   ]
  },
  {
   "cell_type": "code",
   "execution_count": 43,
   "metadata": {},
   "outputs": [],
   "source": [
    "# X_stand = standardize(X)"
   ]
  },
  {
   "cell_type": "code",
   "execution_count": 44,
   "metadata": {
    "scrolled": false
   },
   "outputs": [
    {
     "data": {
      "image/png": "[encoded data removed]",
      "text/plain": [
       "<Figure size 864x576 with 2 Axes>"
      ]
     },
     "metadata": {},
     "output_type": "display_data"
    }
   ],
   "source": [
    "np.random.seed(2)\n",
    "# n_samples = -1\n",
    "\n",
    "batch_size = 64\n",
    "train_sample = df_sim_train.sample(n=8000, random_state=2)\n",
    "train_generator = generate_data(filenames,\n",
    "                                train_sample,\n",
    "                                feature_list,\n",
    "                                train_sample['comp_target_{}'.format(num_groups)],\n",
    "                                batchsize=batch_size)\n",
    "\n",
    "test_sample = df_sim_test.sample(n=1000, random_state=2)\n",
    "test_generator = generate_data(filenames,\n",
    "                               test_sample,\n",
    "                               feature_list,\n",
    "                               test_sample['comp_target_{}'.format(num_groups)],\n",
    "                               batchsize=batch_size)\n",
    "\n",
    "steps_per_epoch = int(train_sample.shape[0] / batch_size)\n",
    "validation_steps = int(test_sample.shape[0] / batch_size)\n",
    "\n",
    "hist = model.fit_generator(train_generator,\n",
    "                           validation_data=test_generator,\n",
    "                           epochs=20,\n",
    "                           steps_per_epoch=steps_per_epoch,\n",
    "                           validation_steps=validation_steps,\n",
    "                           use_multiprocessing=True,\n",
    "                           workers=10,\n",
    "                           callbacks=[PlotLossesKeras()])"
   ]
  },
  {
   "cell_type": "code",
   "execution_count": null,
   "metadata": {},
   "outputs": [],
   "source": []
  },
  {
   "cell_type": "code",
   "execution_count": null,
   "metadata": {},
   "outputs": [],
   "source": []
  },
  {
   "cell_type": "code",
   "execution_count": null,
   "metadata": {},
   "outputs": [],
   "source": []
  },
  {
   "cell_type": "code",
   "execution_count": null,
   "metadata": {
    "scrolled": false
   },
   "outputs": [
    {
     "data": {
      "image/png": "[encoded data removed]",
      "text/plain": [
       "<Figure size 864x576 with 2 Axes>"
      ]
     },
     "metadata": {},
     "output_type": "display_data"
    },
    {
     "name": "stdout",
     "output_type": "stream",
     "text": [
      "Epoch 4/10\n",
      " 2560/24796 [==>...........................] - ETA: 9:42 - loss: 0.5258 - acc: 0.7336"
     ]
    }
   ],
   "source": [
    "np.random.seed(2)\n",
    "n_samples = -1\n",
    "hist = model.fit([hist_array_train[:n_samples], X_stand[:n_samples]], y_cat[:n_samples],\n",
    "                 epochs=10,\n",
    "                 batch_size=128,\n",
    "                 validation_split=0.3,\n",
    "                 callbacks=[PlotLossesKeras()])"
   ]
  },
  {
   "cell_type": "code",
   "execution_count": 133,
   "metadata": {},
   "outputs": [
    {
     "data": {
      "text/plain": [
       "<keras.callbacks.History at 0x7f48a03e64e0>"
      ]
     },
     "execution_count": 133,
     "metadata": {},
     "output_type": "execute_result"
    }
   ],
   "source": [
    "hist"
   ]
  },
  {
   "cell_type": "code",
   "execution_count": 134,
   "metadata": {},
   "outputs": [
    {
     "data": {
      "text/plain": [
       "{'val_loss': [0.6119316350089179,\n",
       "  0.5692388772964477,\n",
       "  0.518451695839564,\n",
       "  0.5022735868559943,\n",
       "  0.509047027958764,\n",
       "  0.5097404617733425,\n",
       "  0.5062957449091805,\n",
       "  0.5065806629260381,\n",
       "  0.5081568378872342,\n",
       "  0.5083513327439626],\n",
       " 'val_acc': [0.69,\n",
       "  0.7416666666666667,\n",
       "  0.75,\n",
       "  0.7438888888888889,\n",
       "  0.7494444444444445,\n",
       "  0.7411111111111112,\n",
       "  0.74,\n",
       "  0.7438888888888889,\n",
       "  0.745,\n",
       "  0.7427777777777778],\n",
       " 'loss': [0.6671355778830392,\n",
       "  0.5739729388554891,\n",
       "  0.5567742087727501,\n",
       "  0.530693727447873,\n",
       "  0.5271891915230524,\n",
       "  0.5248197971071515,\n",
       "  0.5203457085291544,\n",
       "  0.5181512903031849,\n",
       "  0.527619998341515,\n",
       "  0.5167634908358256],\n",
       " 'acc': [0.5895238095238096,\n",
       "  0.7114285721097674,\n",
       "  0.7245238095238096,\n",
       "  0.742380952494485,\n",
       "  0.7354761911573864,\n",
       "  0.7407142857142858,\n",
       "  0.7402380956922259,\n",
       "  0.748333333446866,\n",
       "  0.7390476195017497,\n",
       "  0.7435714289120265]}"
      ]
     },
     "execution_count": 134,
     "metadata": {},
     "output_type": "execute_result"
    }
   ],
   "source": [
    "hist.history"
   ]
  },
  {
   "cell_type": "code",
   "execution_count": null,
   "metadata": {},
   "outputs": [],
   "source": []
  }
 ],
 "metadata": {
  "kernelspec": {
   "display_name": "Python 3",
   "language": "python",
   "name": "python3"
  },
  "language_info": {
   "codemirror_mode": {
    "name": "ipython",
    "version": 3
   },
   "file_extension": ".py",
   "mimetype": "text/x-python",
   "name": "python",
   "nbconvert_exporter": "python",
   "pygments_lexer": "ipython3",
   "version": "3.6.5"
  }
 },
 "nbformat": 4,
 "nbformat_minor": 2
}
