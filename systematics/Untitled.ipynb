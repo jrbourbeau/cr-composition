{
 "cells": [
  {
   "cell_type": "code",
   "execution_count": 1,
   "metadata": {},
   "outputs": [],
   "source": [
    "from __future__ import division, print_function\n",
    "import os\n",
    "import numpy as np\n",
    "import pandas as pd\n",
    "import matplotlib.pyplot as plt\n",
    "import seaborn as sns\n",
    "\n",
    "import comptools as comp\n",
    "\n",
    "%matplotlib inline"
   ]
  },
  {
   "cell_type": "code",
   "execution_count": 2,
   "metadata": {},
   "outputs": [],
   "source": [
    "sns.set_context(context='paper', font_scale=1.5)"
   ]
  },
  {
   "cell_type": "code",
   "execution_count": 3,
   "metadata": {},
   "outputs": [
    {
     "data": {
      "text/plain": [
       "'/data/user/jbourbeau/composition/IC86.2012/data'"
      ]
     },
     "execution_count": 3,
     "metadata": {},
     "output_type": "execute_result"
    }
   ],
   "source": [
    "data_dir = os.path.join(comp.paths.comp_data_dir,\n",
    "                        'IC86.2012',\n",
    "                        'data')\n",
    "data_dir"
   ]
  },
  {
   "cell_type": "code",
   "execution_count": 4,
   "metadata": {},
   "outputs": [],
   "source": [
    "filepath_nomial = os.path.join(data_dir, \n",
    "                               'data_dataframe_quality_cuts.hdf')\n",
    "df_nominal = pd.read_hdf(filepath_nomial,\n",
    "                         columns=['log_s125', 'reco_log_energy'])"
   ]
  },
  {
   "cell_type": "code",
   "execution_count": 5,
   "metadata": {},
   "outputs": [
    {
     "data": {
      "text/html": [
       "<div>\n",
       "<style scoped>\n",
       "    .dataframe tbody tr th:only-of-type {\n",
       "        vertical-align: middle;\n",
       "    }\n",
       "\n",
       "    .dataframe tbody tr th {\n",
       "        vertical-align: top;\n",
       "    }\n",
       "\n",
       "    .dataframe thead th {\n",
       "        text-align: right;\n",
       "    }\n",
       "</style>\n",
       "<table border=\"1\" class=\"dataframe\">\n",
       "  <thead>\n",
       "    <tr style=\"text-align: right;\">\n",
       "      <th></th>\n",
       "      <th>log_s125</th>\n",
       "      <th>reco_log_energy</th>\n",
       "    </tr>\n",
       "  </thead>\n",
       "  <tbody>\n",
       "    <tr>\n",
       "      <th>0</th>\n",
       "      <td>0.261196</td>\n",
       "      <td>6.279144</td>\n",
       "    </tr>\n",
       "    <tr>\n",
       "      <th>1</th>\n",
       "      <td>0.244737</td>\n",
       "      <td>6.334337</td>\n",
       "    </tr>\n",
       "    <tr>\n",
       "      <th>2</th>\n",
       "      <td>0.505508</td>\n",
       "      <td>6.523364</td>\n",
       "    </tr>\n",
       "    <tr>\n",
       "      <th>3</th>\n",
       "      <td>0.135388</td>\n",
       "      <td>6.258651</td>\n",
       "    </tr>\n",
       "    <tr>\n",
       "      <th>4</th>\n",
       "      <td>0.206452</td>\n",
       "      <td>6.361936</td>\n",
       "    </tr>\n",
       "  </tbody>\n",
       "</table>\n",
       "</div>"
      ],
      "text/plain": [
       "   log_s125  reco_log_energy\n",
       "0  0.261196         6.279144\n",
       "1  0.244737         6.334337\n",
       "2  0.505508         6.523364\n",
       "3  0.135388         6.258651\n",
       "4  0.206452         6.361936"
      ]
     },
     "execution_count": 5,
     "metadata": {},
     "output_type": "execute_result"
    }
   ],
   "source": [
    "df_nominal.head()"
   ]
  },
  {
   "cell_type": "code",
   "execution_count": 6,
   "metadata": {},
   "outputs": [],
   "source": [
    "filepath_up_shift = os.path.join(data_dir, \n",
    "                                'data_dataframe_vem_cal_up.hdf')\n",
    "df_up_shift = pd.read_hdf(filepath_up_shift,\n",
    "                          columns=['log_s125', 'reco_log_energy'])"
   ]
  },
  {
   "cell_type": "code",
   "execution_count": 7,
   "metadata": {},
   "outputs": [
    {
     "data": {
      "text/html": [
       "<div>\n",
       "<style scoped>\n",
       "    .dataframe tbody tr th:only-of-type {\n",
       "        vertical-align: middle;\n",
       "    }\n",
       "\n",
       "    .dataframe tbody tr th {\n",
       "        vertical-align: top;\n",
       "    }\n",
       "\n",
       "    .dataframe thead th {\n",
       "        text-align: right;\n",
       "    }\n",
       "</style>\n",
       "<table border=\"1\" class=\"dataframe\">\n",
       "  <thead>\n",
       "    <tr style=\"text-align: right;\">\n",
       "      <th></th>\n",
       "      <th>log_s125</th>\n",
       "      <th>reco_log_energy</th>\n",
       "    </tr>\n",
       "  </thead>\n",
       "  <tbody>\n",
       "    <tr>\n",
       "      <th>0</th>\n",
       "      <td>0.274034</td>\n",
       "      <td>6.289964</td>\n",
       "    </tr>\n",
       "    <tr>\n",
       "      <th>1</th>\n",
       "      <td>0.257574</td>\n",
       "      <td>6.344042</td>\n",
       "    </tr>\n",
       "    <tr>\n",
       "      <th>2</th>\n",
       "      <td>0.518345</td>\n",
       "      <td>6.533759</td>\n",
       "    </tr>\n",
       "    <tr>\n",
       "      <th>3</th>\n",
       "      <td>0.148226</td>\n",
       "      <td>6.268040</td>\n",
       "    </tr>\n",
       "    <tr>\n",
       "      <th>4</th>\n",
       "      <td>0.219289</td>\n",
       "      <td>6.370988</td>\n",
       "    </tr>\n",
       "  </tbody>\n",
       "</table>\n",
       "</div>"
      ],
      "text/plain": [
       "   log_s125  reco_log_energy\n",
       "0  0.274034         6.289964\n",
       "1  0.257574         6.344042\n",
       "2  0.518345         6.533759\n",
       "3  0.148226         6.268040\n",
       "4  0.219289         6.370988"
      ]
     },
     "execution_count": 7,
     "metadata": {},
     "output_type": "execute_result"
    }
   ],
   "source": [
    "df_up_shift.head()"
   ]
  },
  {
   "cell_type": "code",
   "execution_count": 8,
   "metadata": {},
   "outputs": [],
   "source": [
    "filepath_down_shift = os.path.join(data_dir, \n",
    "                                   'data_dataframe_vem_cal_down.hdf')\n",
    "df_down_shift = pd.read_hdf(filepath_down_shift,\n",
    "                            columns=['log_s125', 'reco_log_energy'])"
   ]
  },
  {
   "cell_type": "code",
   "execution_count": 9,
   "metadata": {},
   "outputs": [
    {
     "data": {
      "text/html": [
       "<div>\n",
       "<style scoped>\n",
       "    .dataframe tbody tr th:only-of-type {\n",
       "        vertical-align: middle;\n",
       "    }\n",
       "\n",
       "    .dataframe tbody tr th {\n",
       "        vertical-align: top;\n",
       "    }\n",
       "\n",
       "    .dataframe thead th {\n",
       "        text-align: right;\n",
       "    }\n",
       "</style>\n",
       "<table border=\"1\" class=\"dataframe\">\n",
       "  <thead>\n",
       "    <tr style=\"text-align: right;\">\n",
       "      <th></th>\n",
       "      <th>log_s125</th>\n",
       "      <th>reco_log_energy</th>\n",
       "    </tr>\n",
       "  </thead>\n",
       "  <tbody>\n",
       "    <tr>\n",
       "      <th>0</th>\n",
       "      <td>0.247968</td>\n",
       "      <td>6.268035</td>\n",
       "    </tr>\n",
       "    <tr>\n",
       "      <th>1</th>\n",
       "      <td>0.231508</td>\n",
       "      <td>6.324377</td>\n",
       "    </tr>\n",
       "    <tr>\n",
       "      <th>2</th>\n",
       "      <td>0.492280</td>\n",
       "      <td>6.512692</td>\n",
       "    </tr>\n",
       "    <tr>\n",
       "      <th>3</th>\n",
       "      <td>0.122160</td>\n",
       "      <td>6.249016</td>\n",
       "    </tr>\n",
       "    <tr>\n",
       "      <th>4</th>\n",
       "      <td>0.193223</td>\n",
       "      <td>6.352650</td>\n",
       "    </tr>\n",
       "  </tbody>\n",
       "</table>\n",
       "</div>"
      ],
      "text/plain": [
       "   log_s125  reco_log_energy\n",
       "0  0.247968         6.268035\n",
       "1  0.231508         6.324377\n",
       "2  0.492280         6.512692\n",
       "3  0.122160         6.249016\n",
       "4  0.193223         6.352650"
      ]
     },
     "execution_count": 9,
     "metadata": {},
     "output_type": "execute_result"
    }
   ],
   "source": [
    "df_down_shift.head()"
   ]
  },
  {
   "cell_type": "code",
   "execution_count": 10,
   "metadata": {},
   "outputs": [
    {
     "data": {
      "text/plain": [
       "array([6.1, 6.2, 6.3, 6.4, 6.5, 6.6, 6.7, 6.8, 6.9, 7. , 7.1, 7.2, 7.3,\n",
       "       7.4, 7.5, 7.6, 7.7, 7.8, 7.9, 8. ])"
      ]
     },
     "execution_count": 10,
     "metadata": {},
     "output_type": "execute_result"
    }
   ],
   "source": [
    "energybins = comp.get_energybins()\n",
    "energybins.log_energy_bins"
   ]
  },
  {
   "cell_type": "code",
   "execution_count": 11,
   "metadata": {},
   "outputs": [
    {
     "name": "stderr",
     "output_type": "stream",
     "text": [
      "/home/jbourbeau/cr-composition/.virtualenv/lib/python2.7/site-packages/matplotlib/figure.py:2267: UserWarning: This figure includes Axes that are not compatible with tight_layout, so results might be incorrect.\n",
      "  warnings.warn(\"This figure includes Axes that are not compatible \"\n"
     ]
    },
    {
     "data": {
      "image/png": "[encoded data removed]",
      "text/plain": [
       "<Figure size 432x288 with 1 Axes>"
      ]
     },
     "metadata": {},
     "output_type": "display_data"
    }
   ],
   "source": [
    "fig, ax = plt.subplots()\n",
    "\n",
    "labels = ['Nominal', '+ 3\\% $\\mathrm{S_{125}}$ shift', '- 3\\% $\\mathrm{S_{125}}$ shift']\n",
    "dfs = [df_nominal, df_up_shift, df_down_shift]\n",
    "colors = ['C{}'.format(i) for i in range(len(labels))]\n",
    "for label, df, color in zip(labels, dfs, colors):\n",
    "    counts, _ = np.histogram(df['reco_log_energy'], bins=energybins.log_energy_bins)\n",
    "    counts_err = np.sqrt(counts)\n",
    "    scaling = 1\n",
    "#     scaling = energybins.energy_midpoints ** 2.7 / energybins.energy_bin_widths\n",
    "    comp.plot_steps(energybins.log_energy_bins, scaling * counts, yerr=scaling * counts_err,\n",
    "                    label=label, color=color, alpha=0.8, ax=ax)\n",
    "\n",
    "ax.set(ylabel='Counts',\n",
    "       xlabel='$\\mathrm{\\\\log_{10}(E/GeV)}$',\n",
    "       yscale='log',\n",
    "      )\n",
    "ax.grid()\n",
    "ax.legend()\n",
    "\n",
    "outfile = os.path.join(comp.paths.figures_dir,\n",
    "                       'systematics',\n",
    "                       'vem_cal_energy_hist.png')\n",
    "comp.check_output_dir(outfile)\n",
    "plt.savefig(outfile)\n",
    "\n",
    "plt.show()"
   ]
  },
  {
   "cell_type": "code",
   "execution_count": 18,
   "metadata": {},
   "outputs": [
    {
     "data": {
      "image/png": "[encoded data removed]",
      "text/plain": [
       "<Figure size 432x288 with 1 Axes>"
      ]
     },
     "metadata": {},
     "output_type": "display_data"
    }
   ],
   "source": [
    "fig, ax = plt.subplots()\n",
    "\n",
    "counts_nom, _ = np.histogram(df_nominal['reco_log_energy'], bins=energybins.log_energy_bins)\n",
    "counts_nom_err = np.sqrt(counts_nom)\n",
    "\n",
    "labels = ['+ 3\\% $\\mathrm{S_{125}}$ shift', '- 3\\% $\\mathrm{S_{125}}$ shift']\n",
    "dfs = [df_up_shift, df_down_shift]\n",
    "colors = ['C{}'.format(i + 1) for i in range(len(labels))]\n",
    "for label, df, color in zip(labels, dfs, colors):\n",
    "    counts, _ = np.histogram(df['reco_log_energy'], bins=energybins.log_energy_bins)\n",
    "    counts_err = np.sqrt(counts)\n",
    "    ratio, ratio_err = comp.ratio_error(num=counts,\n",
    "                                        num_err=counts_err,\n",
    "                                        den=counts_nom,\n",
    "                                        den_err=counts_nom_err)\n",
    "    comp.plot_steps(energybins.log_energy_bins, ratio, yerr=ratio_err,\n",
    "                    label=label, color=color, alpha=0.8, ax=ax)\n",
    "\n",
    "ax.axhline(1, ls='--', color='k')\n",
    "ax.set(ylabel='Ratio w.r.t nominal',\n",
    "       xlabel='$\\mathrm{\\\\log_{10}(E/GeV)}$',\n",
    "      )\n",
    "ax.grid()\n",
    "ax.legend()\n",
    "\n",
    "outfile = os.path.join(comp.paths.figures_dir,\n",
    "                       'systematics',\n",
    "                       'vem_cal_energy_ratio.png')\n",
    "comp.check_output_dir(outfile)\n",
    "plt.savefig(outfile)\n",
    "\n",
    "plt.show()"
   ]
  },
  {
   "cell_type": "code",
   "execution_count": null,
   "metadata": {},
   "outputs": [],
   "source": []
  }
 ],
 "metadata": {
  "kernelspec": {
   "display_name": "Python 2",
   "language": "python",
   "name": "python2"
  },
  "language_info": {
   "codemirror_mode": {
    "name": "ipython",
    "version": 2
   },
   "file_extension": ".py",
   "mimetype": "text/x-python",
   "name": "python",
   "nbconvert_exporter": "python",
   "pygments_lexer": "ipython2",
   "version": "2.7.13"
  }
 },
 "nbformat": 4,
 "nbformat_minor": 2
}
