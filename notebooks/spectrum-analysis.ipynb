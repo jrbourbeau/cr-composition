{
 "cells": [
  {
   "cell_type": "markdown",
   "metadata": {},
   "source": [
    "<a id='top'> </a>"
   ]
  },
  {
   "cell_type": "code",
   "execution_count": 1,
   "metadata": {},
   "outputs": [
    {
     "name": "stdout",
     "output_type": "stream",
     "text": [
      "Author: James Bourbeau \n",
      "last updated: 2018-03-02 \n",
      "\n",
      "CPython 2.7.13\n",
      "IPython 5.3.0\n",
      "\n",
      "numpy 1.14.0\n",
      "matplotlib 2.1.2\n",
      "scipy 1.0.0\n",
      "pandas 0.22.0\n",
      "sklearn 0.19.0\n",
      "mlxtend 0.7.0\n"
     ]
    }
   ],
   "source": [
    "%load_ext watermark\n",
    "%watermark -a 'Author: James Bourbeau' -u -d -v -p numpy,matplotlib,scipy,pandas,sklearn,mlxtend"
   ]
  },
  {
   "cell_type": "markdown",
   "metadata": {},
   "source": [
    "# Cosmic-ray composition unfolded spectrum\n",
    "### Table of contents\n",
    "1. [Define analysis free parameters](#Define-analysis-free-parameters)\n",
    "1. [Data preprocessing](#Data-preprocessing)\n",
    "2. [Fitting random forest](#Fit-random-forest-and-run-10-fold-CV-validation)\n",
    "3. [Fraction correctly identified](#Fraction-correctly-identified)\n",
    "4. [Spectrum](#Spectrum)\n",
    "5. [Unfolding](#Unfolding)"
   ]
  },
  {
   "cell_type": "code",
   "execution_count": 2,
   "metadata": {},
   "outputs": [
    {
     "name": "stderr",
     "output_type": "stream",
     "text": [
      "/home/jbourbeau/.virtualenvs/composition/lib/python2.7/site-packages/seaborn/apionly.py:6: UserWarning: As seaborn no longer sets a default style on import, the seaborn.apionly module is deprecated. It will be removed in a future version.\n",
      "  warnings.warn(msg, UserWarning)\n"
     ]
    }
   ],
   "source": [
    "from __future__ import division, print_function\n",
    "import os\n",
    "from collections import defaultdict\n",
    "import itertools\n",
    "import numpy as np\n",
    "from scipy import interp\n",
    "import pandas as pd\n",
    "import matplotlib.pyplot as plt\n",
    "from matplotlib.colors import ListedColormap\n",
    "from matplotlib.animation import FuncAnimation\n",
    "import seaborn.apionly as sns\n",
    "import matplotlib as mpl\n",
    "import pyprind\n",
    "\n",
    "from sklearn.metrics import accuracy_score, confusion_matrix, roc_curve, auc, classification_report\n",
    "from sklearn.model_selection import cross_val_score, StratifiedShuffleSplit, KFold, StratifiedKFold\n",
    "from mlxtend.feature_selection import SequentialFeatureSelector as SFS\n",
    "\n",
    "import comptools as comp\n",
    "\n",
    "# color_dict allows for a consistent color-coding for each composition\n",
    "color_dict = comp.get_color_dict()\n",
    "\n",
    "%matplotlib inline"
   ]
  },
  {
   "cell_type": "markdown",
   "metadata": {},
   "source": [
    "# Define analysis free parameters\n",
    "[ [back to top](#top) ]"
   ]
  },
  {
   "cell_type": "markdown",
   "metadata": {},
   "source": [
    "Whether or not to train on 'light' and 'heavy' composition classes, or the individual compositions"
   ]
  },
  {
   "cell_type": "code",
   "execution_count": 3,
   "metadata": {
    "collapsed": true
   },
   "outputs": [],
   "source": [
    "# config = 'IC79.2010'\n",
    "config = 'IC86.2012'\n",
    "num_groups = 2\n",
    "comp_list = comp.get_comp_list(num_groups=num_groups)"
   ]
  },
  {
   "cell_type": "code",
   "execution_count": 4,
   "metadata": {},
   "outputs": [
    {
     "data": {
      "text/plain": [
       "['light', 'heavy']"
      ]
     },
     "execution_count": 4,
     "metadata": {},
     "output_type": "execute_result"
    }
   ],
   "source": [
    "comp_list"
   ]
  },
  {
   "cell_type": "markdown",
   "metadata": {},
   "source": [
    "Get composition classifier pipeline"
   ]
  },
  {
   "cell_type": "markdown",
   "metadata": {},
   "source": [
    "Define energy binning for this analysis"
   ]
  },
  {
   "cell_type": "code",
   "execution_count": 5,
   "metadata": {
    "collapsed": true
   },
   "outputs": [],
   "source": [
    "energybins = comp.get_energybins(config)"
   ]
  },
  {
   "cell_type": "code",
   "execution_count": 6,
   "metadata": {
    "collapsed": true
   },
   "outputs": [],
   "source": [
    "log_energy_min = energybins.log_energy_min\n",
    "log_energy_max = energybins.log_energy_max"
   ]
  },
  {
   "cell_type": "markdown",
   "metadata": {},
   "source": [
    "# Data preprocessing\n",
    "[ [back to top](#top) ]\n",
    "1. Load simulation/data dataframe and apply specified quality cuts\n",
    "2. Extract desired features from dataframe\n",
    "3. Get separate testing and training datasets"
   ]
  },
  {
   "cell_type": "code",
   "execution_count": 7,
   "metadata": {
    "collapsed": true,
    "scrolled": true
   },
   "outputs": [],
   "source": [
    "df_sim_train, df_sim_test = comp.load_sim(config=config,\n",
    "                                          log_energy_min=log_energy_min,\n",
    "                                          log_energy_max=log_energy_max)\n",
    "feature_list, feature_labels = comp.get_training_features()"
   ]
  },
  {
   "cell_type": "code",
   "execution_count": 8,
   "metadata": {},
   "outputs": [
    {
     "data": {
      "text/plain": [
       "['lap_cos_zenith', 'log_s125', 'log_dEdX']"
      ]
     },
     "execution_count": 8,
     "metadata": {},
     "output_type": "execute_result"
    }
   ],
   "source": [
    "feature_list"
   ]
  },
  {
   "cell_type": "markdown",
   "metadata": {},
   "source": [
    "## Spectrum\n",
    "[ [back to top](#top) ]"
   ]
  },
  {
   "cell_type": "code",
   "execution_count": 9,
   "metadata": {},
   "outputs": [
    {
     "name": "stdout",
     "output_type": "stream",
     "text": [
      "/data/user/jbourbeau/composition/IC86.2012/unfolding\n"
     ]
    }
   ],
   "source": [
    "unfolding_dir  = os.path.join(comp.paths.comp_data_dir, config, 'unfolding')\n",
    "print(unfolding_dir)"
   ]
  },
  {
   "cell_type": "code",
   "execution_count": 10,
   "metadata": {},
   "outputs": [
    {
     "data": {
      "text/plain": [
       "2.580484742999784"
      ]
     },
     "execution_count": 10,
     "metadata": {},
     "output_type": "execute_result"
    }
   ],
   "source": [
    "# Solid angle\n",
    "theta_max = 40 if config == 'IC79.2010' else 65\n",
    "# solid_angle = 2*np.pi*(np.cos(df_sim_train['lap_zenith'].min())-np.cos(df_sim_train['lap_zenith'].max()))\n",
    "solid_angle = np.pi*np.sin(np.deg2rad(theta_max))**2\n",
    "solid_angle"
   ]
  },
  {
   "cell_type": "code",
   "execution_count": 11,
   "metadata": {},
   "outputs": [
    {
     "data": {
      "text/plain": [
       "(28442248.921, 2699.13281773)"
      ]
     },
     "execution_count": 11,
     "metadata": {},
     "output_type": "execute_result"
    }
   ],
   "source": [
    "livetime, livetime_err = comp.get_detector_livetime(config=config)\n",
    "livetime, livetime_err"
   ]
  },
  {
   "cell_type": "code",
   "execution_count": 12,
   "metadata": {},
   "outputs": [
    {
     "name": "stdout",
     "output_type": "stream",
     "text": [
      "thrown_area = 9079202.76887\n"
     ]
    }
   ],
   "source": [
    "# Get simulation thrown areas for each energy bin\n",
    "thrown_radii = comp.simfunctions.get_sim_thrown_radius(energybins.log_energy_midpoints)\n",
    "thrown_areas = np.pi * thrown_radii**2\n",
    "thrown_area = thrown_areas.max()\n",
    "print('thrown_area = {}'.format(thrown_area))"
   ]
  },
  {
   "cell_type": "code",
   "execution_count": 13,
   "metadata": {
    "scrolled": true
   },
   "outputs": [
    {
     "data": {
      "text/plain": [
       "0.6157475784937255"
      ]
     },
     "execution_count": 13,
     "metadata": {},
     "output_type": "execute_result"
    }
   ],
   "source": [
    "geom_factor = (np.cos(np.deg2rad(theta_max)) + df_sim_train.lap_cos_zenith.min()) / 2\n",
    "geom_factor"
   ]
  },
  {
   "cell_type": "markdown",
   "metadata": {},
   "source": [
    "## Plot unfolded flux at each iteration"
   ]
  },
  {
   "cell_type": "code",
   "execution_count": 14,
   "metadata": {
    "collapsed": true
   },
   "outputs": [],
   "source": [
    "# model_name = 'Jeffreys'\n",
    "model_name = 'H4a'\n",
    "# model_name = 'Polygonato'"
   ]
  },
  {
   "cell_type": "code",
   "execution_count": 15,
   "metadata": {
    "collapsed": true
   },
   "outputs": [],
   "source": [
    "df_file = os.path.join(unfolding_dir,\n",
    "                       'pyunfold_output_{}-groups.hdf'.format(num_groups))\n",
    "df_unfolding = pd.read_hdf(df_file, model_name, mode='r')"
   ]
  },
  {
   "cell_type": "code",
   "execution_count": 16,
   "metadata": {},
   "outputs": [
    {
     "data": {
      "text/html": [
       "<div>\n",
       "<style scoped>\n",
       "    .dataframe tbody tr th:only-of-type {\n",
       "        vertical-align: middle;\n",
       "    }\n",
       "\n",
       "    .dataframe tbody tr th {\n",
       "        vertical-align: top;\n",
       "    }\n",
       "\n",
       "    .dataframe thead th {\n",
       "        text-align: right;\n",
       "    }\n",
       "</style>\n",
       "<table border=\"1\" class=\"dataframe\">\n",
       "  <thead>\n",
       "    <tr style=\"text-align: right;\">\n",
       "      <th></th>\n",
       "      <th>sys_err</th>\n",
       "      <th>stat_err</th>\n",
       "      <th>n_c</th>\n",
       "    </tr>\n",
       "  </thead>\n",
       "  <tbody>\n",
       "    <tr>\n",
       "      <th>0</th>\n",
       "      <td>[17218657.650986746, 10629167.54393581, 704758...</td>\n",
       "      <td>[120732.39483293564, 75615.77563583982, 59102....</td>\n",
       "      <td>[226503708.22165123, 127055686.54142481, 11883...</td>\n",
       "    </tr>\n",
       "    <tr>\n",
       "      <th>1</th>\n",
       "      <td>[20847876.80114978, 14489681.28719512, 8209307...</td>\n",
       "      <td>[143766.01800502947, 102524.6901816593, 70024....</td>\n",
       "      <td>[221061649.73673007, 127136235.62247445, 11225...</td>\n",
       "    </tr>\n",
       "    <tr>\n",
       "      <th>2</th>\n",
       "      <td>[24111098.616386116, 18289806.407380514, 96061...</td>\n",
       "      <td>[164578.51079177397, 127827.50696254612, 83164...</td>\n",
       "      <td>[221118770.61213946, 130190173.87670039, 10835...</td>\n",
       "    </tr>\n",
       "  </tbody>\n",
       "</table>\n",
       "</div>"
      ],
      "text/plain": [
       "                                             sys_err  \\\n",
       "0  [17218657.650986746, 10629167.54393581, 704758...   \n",
       "1  [20847876.80114978, 14489681.28719512, 8209307...   \n",
       "2  [24111098.616386116, 18289806.407380514, 96061...   \n",
       "\n",
       "                                            stat_err  \\\n",
       "0  [120732.39483293564, 75615.77563583982, 59102....   \n",
       "1  [143766.01800502947, 102524.6901816593, 70024....   \n",
       "2  [164578.51079177397, 127827.50696254612, 83164...   \n",
       "\n",
       "                                                 n_c  \n",
       "0  [226503708.22165123, 127055686.54142481, 11883...  \n",
       "1  [221061649.73673007, 127136235.62247445, 11225...  \n",
       "2  [221118770.61213946, 130190173.87670039, 10835...  "
      ]
     },
     "execution_count": 16,
     "metadata": {},
     "output_type": "execute_result"
    }
   ],
   "source": [
    "df_unfolding"
   ]
  },
  {
   "cell_type": "code",
   "execution_count": 17,
   "metadata": {
    "scrolled": false
   },
   "outputs": [
    {
     "name": "stderr",
     "output_type": "stream",
     "text": [
      "/home/jbourbeau/.virtualenvs/composition/lib/python2.7/site-packages/matplotlib/figure.py:1743: UserWarning: This figure includes Axes that are not compatible with tight_layout, so its results might be incorrect.\n",
      "  warnings.warn(\"This figure includes Axes that are not \"\n"
     ]
    },
    {
     "data": {
      "image/png": "[encoded data removed]",
      "text/plain": [
       "<matplotlib.figure.Figure at 0x7fd0690cefd0>"
      ]
     },
     "metadata": {},
     "output_type": "display_data"
    }
   ],
   "source": [
    "fig, ax = plt.subplots()\n",
    "\n",
    "def update(i):\n",
    "    ax.clear()\n",
    "    idx_iter, df_iter = i\n",
    "    color_dict_iter = {}\n",
    "    color_dict_iter['light'] = sns.color_palette('Blues', len(df_unfolding.index)).as_hex()[idx_iter]\n",
    "    color_dict_iter['heavy'] = sns.color_palette('Oranges', len(df_unfolding.index)).as_hex()[idx_iter]\n",
    "    color_dict_iter['total'] = sns.color_palette('Greens', len(df_unfolding.index)).as_hex()[idx_iter]\n",
    "\n",
    "    counts, counts_sys_err, counts_stat_err = {}, {}, {}\n",
    "    for idx, composition in enumerate(comp_list):\n",
    "        counts[composition] = df_iter['n_c'][idx::num_groups]\n",
    "        counts_sys_err[composition] = df_iter['sys_err'][idx::num_groups]\n",
    "        counts_stat_err[composition] = df_iter['stat_err'][idx::num_groups]\n",
    "        \n",
    "    for idx, composition in enumerate(comp_list):\n",
    "        if idx == 0:\n",
    "            counts['total'] = np.zeros_like(counts[composition])\n",
    "            counts_sys_err['total'] = np.zeros_like(counts[composition])\n",
    "            counts_stat_err['total'] = np.zeros_like(counts[composition])\n",
    "        counts['total'] += counts[composition]\n",
    "        counts_sys_err['total'] += counts_sys_err[composition]**2\n",
    "        counts_stat_err['total'] += counts_stat_err[composition]**2\n",
    "    counts_sys_err['total'] = np.sqrt(counts_sys_err['total'])\n",
    "    counts_stat_err['total'] = np.sqrt(counts_stat_err['total'])    \n",
    "    \n",
    "    for composition in comp_list + ['total']:    \n",
    "        flux, flux_err_sys = comp.analysis.get_flux(counts[composition], counts_sys_err[composition],\n",
    "                                                     energybins=energybins.energy_bins,\n",
    "                                                     eff_area=thrown_area,\n",
    "                                                     livetime=livetime, livetime_err=livetime_err, \n",
    "                                                     solid_angle=solid_angle)\n",
    "        flux, flux_err_stat = comp.analysis.get_flux(counts[composition], counts_stat_err[composition],\n",
    "                                                     energybins=energybins.energy_bins,\n",
    "                                                     eff_area=thrown_area,\n",
    "                                                     livetime=livetime, livetime_err=livetime_err, \n",
    "                                                     solid_angle=solid_angle)\n",
    "        \n",
    "        plotting.plot_steps(energybins.log_energy_bins, flux, yerr=flux_err_sys,\n",
    "                            ax=ax, alpha=0.4, fillalpha=0.4,  \n",
    "                            color=color_dict[composition])\n",
    "        ax.errorbar(energybins.log_energy_midpoints, flux, yerr=flux_err_stat,  \n",
    "                    color=color_dict[composition], ls='None', marker='.', \n",
    "                    label=composition)\n",
    "        \n",
    "\n",
    "    ax.set_yscale(\"log\", nonposy='clip')\n",
    "    ax.set_xlabel('$\\mathrm{\\log_{10}(E_{reco}/GeV)}$')\n",
    "    ax.set_ylabel('$\\mathrm{ E^{2.7} \\ J(E) \\ [GeV^{1.7} m^{-2} sr^{-1} s^{-1}]}$')\n",
    "    ax.set_title('Iteration: {}'.format(idx_iter+1))\n",
    "    ax.set_xlim(6.4, 7.8)\n",
    "    ax.set_ylim([1e3, 7e4])\n",
    "    ax.grid(linestyle='dotted', which=\"both\")\n",
    "    ax.legend()\n",
    "    \n",
    "    return ax\n",
    "\n",
    "anim = FuncAnimation(fig, update, frames=list(df_unfolding.iterrows()),\n",
    "                     interval=1250)\n",
    "iter_unfold_outfile = os.path.join(comp.paths.figures_dir, 'unfolding', config, 'iterations', \n",
    "                                   model_name, '{}-groups'.format(num_groups),\n",
    "                                   'flux_iter_{}-prior.gif'.format(model_name))\n",
    "comp.check_output_dir(iter_unfold_outfile)\n",
    "anim.save(iter_unfold_outfile, dpi=300, writer='imagemagick')"
   ]
  },
  {
   "cell_type": "code",
   "execution_count": 32,
   "metadata": {
    "collapsed": true,
    "scrolled": false
   },
   "outputs": [],
   "source": [
    "# for idx_iter, df_iter in df_unfolding.iterrows():\n",
    "\n",
    "#     fig, ax = plt.subplots()\n",
    "#     color_dict_iter = {}\n",
    "#     color_dict_iter['light'] = sns.color_palette('Blues', len(df_unfolding.index)).as_hex()[idx_iter]\n",
    "#     color_dict_iter['heavy'] = sns.color_palette('Oranges', len(df_unfolding.index)).as_hex()[idx_iter]\n",
    "#     color_dict_iter['total'] = sns.color_palette('Greens', len(df_unfolding.index)).as_hex()[idx_iter]\n",
    "\n",
    "#     counts, counts_sys_err, counts_stat_err = {}, {}, {}\n",
    "#     for idx, composition in enumerate(comp_list):\n",
    "#         counts[composition] = df_iter['n_c'][idx::num_groups]\n",
    "#         counts_sys_err[composition] = df_iter['sys_err'][idx::num_groups]\n",
    "#         counts_stat_err[composition] = df_iter['stat_err'][idx::num_groups]\n",
    "        \n",
    "#     for idx, composition in enumerate(comp_list):\n",
    "#         if idx == 0:\n",
    "#             counts['total'] = np.zeros_like(counts[composition])\n",
    "#             counts_sys_err['total'] = np.zeros_like(counts[composition])\n",
    "#             counts_stat_err['total'] = np.zeros_like(counts[composition])\n",
    "#         counts['total'] += counts[composition]\n",
    "#         counts_sys_err['total'] += counts_sys_err[composition]**2\n",
    "#         counts_stat_err['total'] += counts_stat_err[composition]**2\n",
    "#     counts_sys_err['total'] = np.sqrt(counts_sys_err['total'])\n",
    "#     counts_stat_err['total'] = np.sqrt(counts_stat_err['total'])\n",
    "    \n",
    "# #     counts['total'] = counts['light'] + counts['heavy']\n",
    "# #     counts_sys_err['total'] = np.sqrt(counts_sys_err['light']**2 + counts_sys_err['heavy']**2)\n",
    "# #     counts_stat_err['total'] = np.sqrt(counts_stat_err['light']**2 + counts_stat_err['heavy']**2)\n",
    "    \n",
    "    \n",
    "#     for composition in comp_list + ['total']:    \n",
    "#         flux, flux_err_sys = comp.analysis.get_flux(counts[composition], counts_sys_err[composition],\n",
    "#                                                      energybins=energybins.energy_bins,\n",
    "#                                                      eff_area=thrown_area,\n",
    "#                                                      livetime=livetime, livetime_err=livetime_err, \n",
    "#                                                      solid_angle=solid_angle)\n",
    "#         flux, flux_err_stat = comp.analysis.get_flux(counts[composition], counts_stat_err[composition],\n",
    "#                                                      energybins=energybins.energy_bins,\n",
    "#                                                      eff_area=thrown_area,\n",
    "#                                                      livetime=livetime, livetime_err=livetime_err, \n",
    "#                                                      solid_angle=solid_angle)\n",
    "        \n",
    "#         plotting.plot_steps(energybins.log_energy_bins, flux, yerr=flux_err_sys,\n",
    "#                             ax=ax, alpha=0.4, fillalpha=0.4,  \n",
    "#                             color=color_dict[composition])\n",
    "#         ax.errorbar(energybins.log_energy_midpoints, flux, yerr=flux_err_stat,  \n",
    "#                     color=color_dict[composition], ls='None', marker='.', \n",
    "#                     label=composition)\n",
    "        \n",
    "\n",
    "#     ax.set_yscale(\"log\", nonposy='clip')\n",
    "#     ax.set_xlabel('$\\mathrm{\\log_{10}(E_{reco}/GeV)}$')\n",
    "#     ax.set_ylabel('$\\mathrm{ E^{2.7} \\ J(E) \\ [GeV^{1.7} m^{-2} sr^{-1} s^{-1}]}$')\n",
    "#     ax.set_title('Iteration: {}'.format(idx_iter+1))\n",
    "# #     stopping_cond_str = 'Stopping condition: KS p-val $< {}$'.format('0.{}'.format(ks_pval_str.split('p')[-1]))\n",
    "# #     bbox_props = dict(boxstyle='round', ec='gray', lw=0.8, fc='white', alpha=0.5)\n",
    "# #     ax.text(7.2, 7e4, stopping_cond_str, bbox=bbox_props)\n",
    "\n",
    "#     ax.set_xlim(6.4, 7.8)\n",
    "#     ax.set_ylim([1e3, 7e4])\n",
    "#     ax.grid(linestyle='dotted', which=\"both\")\n",
    "#     ax.legend()\n",
    "# #     ax.legend(loc='center left', bbox_to_anchor=(1, 0.5), frameon=False)\n",
    "#     iter_unfold_outfile = os.path.join(comp.paths.figures_dir, 'unfolding', config, 'iterations', \n",
    "#                                        model_name, '{}-groups'.format(num_groups),\n",
    "#                                        'flux_iter_{}.png'.format(idx_iter))\n",
    "#     comp.check_output_dir(iter_unfold_outfile)\n",
    "#     plt.savefig(iter_unfold_outfile)\n",
    "#     plt.show()"
   ]
  },
  {
   "cell_type": "markdown",
   "metadata": {},
   "source": [
    "### Plot comparison of final unfolded flux for different priors"
   ]
  },
  {
   "cell_type": "code",
   "execution_count": 17,
   "metadata": {
    "collapsed": true
   },
   "outputs": [],
   "source": [
    "# model_names = ['Jeffreys']\n",
    "# model_names = ['H4a']\n",
    "model_names = ['Jeffreys', 'H3a', 'H4a']\n",
    "# model_names = ['Jeffreys', 'h3a', 'Hoerandel5']"
   ]
  },
  {
   "cell_type": "markdown",
   "metadata": {},
   "source": [
    "Load 3-year analysis flux"
   ]
  },
  {
   "cell_type": "code",
   "execution_count": 18,
   "metadata": {
    "collapsed": true
   },
   "outputs": [],
   "source": [
    "flux_data_3yr_array = np.load(os.path.join(comp.paths.comp_data_dir, 'fraction_spectrum_fit_data.npy'))"
   ]
  },
  {
   "cell_type": "code",
   "execution_count": 19,
   "metadata": {
    "collapsed": true
   },
   "outputs": [],
   "source": [
    "flux_data_3yr_format = ['log_energy_midpoints',\n",
    "                        'PPlus_flux', 'PPlus_err_down', 'PPlus_err_up', 'PPlus_err_down2', 'PPlus_err_up2',\n",
    "                        'He4Nucleus_flux', 'He4Nucleus_err_down', 'He4Nucleus_err_up', 'He4Nucleus_err_down2', 'He4Nucleus_err_up2',\n",
    "                        'O16Nucleus_flux', 'O16Nucleus_err_down', 'O16Nucleus_err_up', 'O16Nucleus_err_down2', 'O16Nucleus_err_up2',\n",
    "                        'Fe56Nucleus_flux', 'Fe56Nucleus_err_down', 'Fe56Nucleus_err_up', 'Fe56Nucleus_err_down2', 'Fe56Nucleus_err_up2']"
   ]
  },
  {
   "cell_type": "code",
   "execution_count": 20,
   "metadata": {
    "scrolled": false
   },
   "outputs": [
    {
     "name": "stdout",
     "output_type": "stream",
     "text": [
      "light\n",
      "light\n",
      "heavy\n",
      "heavy\n"
     ]
    }
   ],
   "source": [
    "flux_data_3yr = {key: value.astype(float) for key, value in zip(flux_data_3yr_format, flux_data_3yr_array)}\n",
    "flux_comp_3yr = {}\n",
    "MC_comp_list = ['PPlus', 'He4Nucleus', 'O16Nucleus', 'Fe56Nucleus']\n",
    "for MC_comp in MC_comp_list:\n",
    "    comp_group = comp.composition_encoding.composition_group_labels([MC_comp], num_groups=num_groups)[0]\n",
    "    print(comp_group)\n",
    "    if '{}_flux'.format(comp_group) not in flux_comp_3yr:\n",
    "        flux_comp_3yr['{}_flux'.format(comp_group)] = flux_data_3yr['{}_flux'.format(MC_comp)]\n",
    "        flux_comp_3yr['{}_err_down'.format(comp_group)] = flux_data_3yr['{}_err_down'.format(MC_comp)]**2\n",
    "        flux_comp_3yr['{}_err_up'.format(comp_group)] = flux_data_3yr['{}_err_up'.format(MC_comp)]**2\n",
    "    else:\n",
    "        flux_comp_3yr['{}_flux'.format(comp_group)] += flux_data_3yr['{}_flux'.format(MC_comp)]\n",
    "        flux_comp_3yr['{}_err_down'.format(comp_group)] += flux_data_3yr['{}_err_down'.format(MC_comp)]**2\n",
    "        flux_comp_3yr['{}_err_up'.format(comp_group)] += flux_data_3yr['{}_err_up'.format(MC_comp)]**2\n",
    "\n",
    "for composition in comp_list:\n",
    "    flux_comp_3yr['{}_err_down'.format(composition)] = np.sqrt(flux_comp_3yr['{}_err_down'.format(composition)])\n",
    "    flux_comp_3yr['{}_err_up'.format(composition)] = np.sqrt(flux_comp_3yr['{}_err_up'.format(composition)])\n",
    "\n",
    "flux_comp_3yr['total_flux'] = np.sum((flux_comp_3yr['{}_flux'.format(composition)] for composition in comp_list),\n",
    "                                     axis=0)\n",
    "flux_comp_3yr['total_err_down'] = np.sqrt(np.sum((flux_comp_3yr['{}_err_down'.format(composition)]**2 for composition in comp_list),\n",
    "                                     axis=0))\n",
    "flux_comp_3yr['total_err_up'] = np.sqrt(np.sum((flux_comp_3yr['{}_err_up'.format(composition)]**2 for composition in comp_list),\n",
    "                                     axis=0))\n"
   ]
  },
  {
   "cell_type": "code",
   "execution_count": 25,
   "metadata": {
    "collapsed": true
   },
   "outputs": [],
   "source": [
    "plot_3yr = False"
   ]
  },
  {
   "cell_type": "code",
   "execution_count": 26,
   "metadata": {
    "scrolled": false
   },
   "outputs": [
    {
     "data": {
      "image/png": "[encoded data removed]",
      "text/plain": [
       "<matplotlib.figure.Figure at 0x7f9c3734de90>"
      ]
     },
     "metadata": {},
     "output_type": "display_data"
    }
   ],
   "source": [
    "fig, ax = plt.subplots()\n",
    "marker_dict = {model: marker for model, marker in zip(model_names, '.^*o')}\n",
    "color_dict_model = {}\n",
    "color_dict_model['light'] = sns.color_palette('Blues', len(model_names)+1).as_hex()[::-1]\n",
    "color_dict_model['intermediate'] = sns.color_palette('Reds', len(model_names)+1).as_hex()[::-1]\n",
    "color_dict_model['heavy'] = sns.color_palette('Oranges', len(model_names)+1).as_hex()[::-1]\n",
    "\n",
    "color_dict_model['PPlus'] = sns.color_palette('Blues', len(model_names)+1).as_hex()[::-1]\n",
    "color_dict_model['O16Nucleus'] = sns.color_palette('Reds', len(model_names)+1).as_hex()[::-1]\n",
    "color_dict_model['He4Nucleus'] = sns.color_palette('Purples', len(model_names)+1).as_hex()[::-1]\n",
    "color_dict_model['Fe56Nucleus'] = sns.color_palette('Oranges', len(model_names)+1).as_hex()[::-1]\n",
    "\n",
    "color_dict_model['total'] = sns.color_palette('Greens', len(model_names)+1).as_hex()[::-1]\n",
    "for idx_model, model_name in enumerate(model_names):\n",
    "    \n",
    "    df_file = os.path.join(unfolding_dir, \n",
    "                           'pyunfold_output_{}-groups.hdf'.format(num_groups))\n",
    "    df_unfolding = pd.read_hdf(df_file, model_name, mode='r')\n",
    "    df_final_iter = df_unfolding.iloc[-1]\n",
    "    \n",
    "    counts, counts_sys_err, counts_stat_err = {}, {}, {}\n",
    "    for idx, composition in enumerate(comp_list):\n",
    "        counts[composition] = df_final_iter['n_c'][idx::num_groups]\n",
    "        counts_sys_err[composition] = df_final_iter['sys_err'][idx::num_groups]\n",
    "        counts_stat_err[composition] = df_final_iter['stat_err'][idx::num_groups]\n",
    "        \n",
    "    for idx, composition in enumerate(comp_list):\n",
    "        if idx == 0:\n",
    "            counts['total'] = np.zeros_like(counts[composition])\n",
    "            counts_sys_err['total'] = np.zeros_like(counts[composition])\n",
    "            counts_stat_err['total'] = np.zeros_like(counts[composition])\n",
    "        counts['total'] += counts[composition]\n",
    "        counts_sys_err['total'] += counts_sys_err[composition]**2\n",
    "        counts_stat_err['total'] += counts_stat_err[composition]**2\n",
    "    counts_sys_err['total'] = np.sqrt(counts_sys_err['total'])\n",
    "    counts_stat_err['total'] = np.sqrt(counts_stat_err['total'])\n",
    "    \n",
    "    for composition in comp_list + ['total']:    \n",
    "        flux, flux_err_sys = comp.get_flux(counts[composition], counts_sys_err[composition],\n",
    "                                                     energybins=energybins.energy_bins,\n",
    "                                                     eff_area=thrown_area,\n",
    "#                                                      eff_area=thrown_area*geom_factor,\n",
    "                                                     livetime=livetime, livetime_err=livetime_err, \n",
    "                                                     solid_angle=solid_angle)\n",
    "        flux, flux_err_stat = comp.get_flux(counts[composition], counts_stat_err[composition],\n",
    "                                                     energybins=energybins.energy_bins,\n",
    "                                                     eff_area=thrown_area,\n",
    "#                                                      eff_area=thrown_area*geom_factor, \n",
    "                                                     livetime=livetime, livetime_err=livetime_err, \n",
    "                                                     solid_angle=solid_angle)\n",
    "        \n",
    "        comp.plot_steps(energybins.log_energy_bins, flux, yerr=flux_err_sys,\n",
    "                            ax=ax, alpha=0.4, fillalpha=0.4,  \n",
    "                            color=color_dict_model[composition][idx_model])\n",
    "\n",
    "        ax.errorbar(energybins.log_energy_midpoints, flux, yerr=flux_err_stat,  \n",
    "                    color=color_dict_model[composition][idx_model], ls='None', marker=marker_dict[model_name], \n",
    "                    label=composition + ' ({})'.format(model_name), alpha=0.8)\n",
    "\n",
    "\n",
    "# Add 3-year composition analysis flux for comparison \n",
    "if plot_3yr:\n",
    "    for composition in comp_list + ['total']:\n",
    "        ax.errorbar(flux_data_3yr['log_energy_midpoints'], \n",
    "                    flux_comp_3yr['{}_flux'.format(composition)],\n",
    "                    yerr=[flux_comp_3yr['{}_err_down'.format(composition)],\n",
    "                          flux_comp_3yr['{}_err_up'.format(composition)]],  \n",
    "                    ls='None', marker='*', color=color_dict[composition],\n",
    "    #                 label='3-year ({})'.format(composition),\n",
    "                    alpha=0.75)\n",
    "    \n",
    "    \n",
    "ax.set_yscale(\"log\", nonposy='clip')\n",
    "ax.set_xlabel('$\\mathrm{\\log_{10}(E_{reco}/GeV)}$')\n",
    "ax.set_ylabel('$\\mathrm{ E^{2.7} \\ J(E) \\ [GeV^{1.7} m^{-2} sr^{-1} s^{-1}]}$')\n",
    "\n",
    "# ax.set_xlim(6.4, 9.0)\n",
    "ax.set_xlim(6.4, 7.8)\n",
    "ax.set_ylim([1e3, 7e4])\n",
    "\n",
    "ax.grid(linestyle='dotted', which=\"both\")\n",
    "ax.legend(loc='lower left', ncol=len(model_names), fontsize=10)\n",
    "# leg = plt.legend(loc='upper center', frameon=False,\n",
    "#           bbox_to_anchor=(0.5,  # horizontal\n",
    "#                           1.15),# vertical \n",
    "#           ncol=len(comp_list)+1, fancybox=False)\n",
    "\n",
    "if plot_3yr:\n",
    "    flux_outfile = os.path.join(comp.paths.figures_dir, 'unfolding', config, \n",
    "                                'flux_{}-groups-3yr-comparison.png'.format(num_groups))\n",
    "else:\n",
    "    flux_outfile = os.path.join(comp.paths.figures_dir, 'unfolding', config, \n",
    "                                'flux_{}-groups.png'.format(num_groups))\n",
    "comp.check_output_dir(flux_outfile)\n",
    "plt.savefig(flux_outfile)\n",
    "plt.show()"
   ]
  },
  {
   "cell_type": "code",
   "execution_count": 21,
   "metadata": {},
   "outputs": [
    {
     "data": {
      "text/html": [
       "<div>\n",
       "<style scoped>\n",
       "    .dataframe tbody tr th:only-of-type {\n",
       "        vertical-align: middle;\n",
       "    }\n",
       "\n",
       "    .dataframe tbody tr th {\n",
       "        vertical-align: top;\n",
       "    }\n",
       "\n",
       "    .dataframe thead th {\n",
       "        text-align: right;\n",
       "    }\n",
       "</style>\n",
       "<table border=\"1\" class=\"dataframe\">\n",
       "  <thead>\n",
       "    <tr style=\"text-align: right;\">\n",
       "      <th></th>\n",
       "      <th>flux_PPlus</th>\n",
       "      <th>flux_He4Nucleus</th>\n",
       "      <th>flux_O16Nucleus</th>\n",
       "      <th>flux_Fe56Nucleus</th>\n",
       "      <th>flux_total</th>\n",
       "    </tr>\n",
       "  </thead>\n",
       "  <tbody>\n",
       "    <tr>\n",
       "      <th>0</th>\n",
       "      <td>2.952013e-13</td>\n",
       "      <td>4.381007e-13</td>\n",
       "      <td>2.391451e-13</td>\n",
       "      <td>1.631829e-13</td>\n",
       "      <td>1.135630e-12</td>\n",
       "    </tr>\n",
       "    <tr>\n",
       "      <th>1</th>\n",
       "      <td>1.495900e-13</td>\n",
       "      <td>2.325688e-13</td>\n",
       "      <td>1.303989e-13</td>\n",
       "      <td>8.947391e-14</td>\n",
       "      <td>6.020317e-13</td>\n",
       "    </tr>\n",
       "    <tr>\n",
       "      <th>2</th>\n",
       "      <td>7.458560e-14</td>\n",
       "      <td>1.221825e-13</td>\n",
       "      <td>7.098235e-14</td>\n",
       "      <td>4.903990e-14</td>\n",
       "      <td>3.167904e-13</td>\n",
       "    </tr>\n",
       "    <tr>\n",
       "      <th>3</th>\n",
       "      <td>3.649089e-14</td>\n",
       "      <td>6.336501e-14</td>\n",
       "      <td>3.855464e-14</td>\n",
       "      <td>2.686341e-14</td>\n",
       "      <td>1.652739e-13</td>\n",
       "    </tr>\n",
       "    <tr>\n",
       "      <th>4</th>\n",
       "      <td>1.747554e-14</td>\n",
       "      <td>3.234035e-14</td>\n",
       "      <td>2.088294e-14</td>\n",
       "      <td>1.470413e-14</td>\n",
       "      <td>8.540295e-14</td>\n",
       "    </tr>\n",
       "  </tbody>\n",
       "</table>\n",
       "</div>"
      ],
      "text/plain": [
       "     flux_PPlus  flux_He4Nucleus  flux_O16Nucleus  flux_Fe56Nucleus  \\\n",
       "0  2.952013e-13     4.381007e-13     2.391451e-13      1.631829e-13   \n",
       "1  1.495900e-13     2.325688e-13     1.303989e-13      8.947391e-14   \n",
       "2  7.458560e-14     1.221825e-13     7.098235e-14      4.903990e-14   \n",
       "3  3.649089e-14     6.336501e-14     3.855464e-14      2.686341e-14   \n",
       "4  1.747554e-14     3.234035e-14     2.088294e-14      1.470413e-14   \n",
       "\n",
       "     flux_total  \n",
       "0  1.135630e-12  \n",
       "1  6.020317e-13  \n",
       "2  3.167904e-13  \n",
       "3  1.652739e-13  \n",
       "4  8.540295e-14  "
      ]
     },
     "execution_count": 21,
     "metadata": {},
     "output_type": "execute_result"
    }
   ],
   "source": [
    "model_flux = comp.model_flux('H4a', energy=energybins.energy_midpoints,\n",
    "                                                            num_groups=num_groups)\n",
    "model_flux.head()"
   ]
  },
  {
   "cell_type": "code",
   "execution_count": 38,
   "metadata": {
    "scrolled": false
   },
   "outputs": [
    {
     "name": "stderr",
     "output_type": "stream",
     "text": [
      "/home/jbourbeau/.virtualenvs/composition/lib/python2.7/site-packages/matplotlib/scale.py:111: RuntimeWarning: invalid value encountered in less_equal\n",
      "  out[a <= 0] = -1000\n"
     ]
    },
    {
     "data": {
      "image/png": "[encoded data removed]",
      "text/plain": [
       "<matplotlib.figure.Figure at 0x7f176cb44dd0>"
      ]
     },
     "metadata": {},
     "output_type": "display_data"
    }
   ],
   "source": [
    "if num_groups == 4:\n",
    "    fig, axarr = plt.subplots(2, 2, sharex=True, sharey=True)\n",
    "    models = ['Jeffreys',\n",
    "#               'H4a',\n",
    "             ]\n",
    "    for model_name, marker, ax in zip(models, '.^*X', axarr.flat):\n",
    "    #     model_name = 'H4a'\n",
    "    #     model_name = 'Jeffreys'\n",
    "        df_file = os.path.join(unfolding_dir, \n",
    "                               'pyunfold_output_{}-groups.hdf'.format(num_groups))\n",
    "        df_unfolding = pd.read_hdf(df_file, model_name, mode='r')\n",
    "    #     print(df_unfolding)\n",
    "        df_final_iter = df_unfolding.iloc[-1]\n",
    "\n",
    "        counts, counts_sys_err, counts_stat_err = {}, {}, {}\n",
    "        for idx, composition in enumerate(comp_list):\n",
    "            counts[composition] = df_final_iter['n_c'][idx::num_groups]\n",
    "            counts_sys_err[composition] = df_final_iter['sys_err'][idx::num_groups]\n",
    "            counts_stat_err[composition] = df_final_iter['stat_err'][idx::num_groups]\n",
    "\n",
    "        for idx, composition in enumerate(comp_list):\n",
    "            if idx == 0:\n",
    "                counts['total'] = np.zeros_like(counts[composition])\n",
    "                counts_sys_err['total'] = np.zeros_like(counts[composition])\n",
    "                counts_stat_err['total'] = np.zeros_like(counts[composition])\n",
    "            counts['total'] += counts[composition]\n",
    "            counts_sys_err['total'] += counts_sys_err[composition]**2\n",
    "            counts_stat_err['total'] += counts_stat_err[composition]**2\n",
    "        counts_sys_err['total'] = np.sqrt(counts_sys_err['total'])\n",
    "        counts_stat_err['total'] = np.sqrt(counts_stat_err['total'])\n",
    "\n",
    "\n",
    "        flux_total, flux_total_err_sys = comp.get_flux(counts['total'], counts_sys_err['total'],\n",
    "                                                         energybins=energybins.energy_bins,\n",
    "                                                         eff_area=thrown_area,\n",
    "                                                         livetime=livetime, livetime_err=livetime_err, \n",
    "                                                         solid_angle=solid_angle)\n",
    "        flux_total, flux_total_err_stat = comp.get_flux(counts['total'], counts_stat_err['total'],\n",
    "                                                     energybins=energybins.energy_bins,\n",
    "                                                     eff_area=thrown_area,\n",
    "                                                     livetime=livetime, livetime_err=livetime_err, \n",
    "                                                     solid_angle=solid_angle)\n",
    "\n",
    "\n",
    "        for composition, ax in zip(comp_list, axarr.flatten()):\n",
    "\n",
    "            flux, flux_err_sys = comp.get_flux(counts[composition], counts_sys_err[composition],\n",
    "                                                         energybins=energybins.energy_bins,\n",
    "                                                         eff_area=thrown_area,\n",
    "                                                         livetime=livetime, livetime_err=livetime_err, \n",
    "                                                         solid_angle=solid_angle)\n",
    "            flux, flux_err_stat = comp.get_flux(counts[composition], counts_stat_err[composition],\n",
    "                                                         energybins=energybins.energy_bins,\n",
    "                                                         eff_area=thrown_area,\n",
    "                                                         livetime=livetime, livetime_err=livetime_err, \n",
    "                                                         solid_angle=solid_angle)\n",
    "\n",
    "            comp.plot_steps(energybins.log_energy_bins, flux, yerr=flux_err_sys,\n",
    "                                ax=ax, alpha=0.4, fillalpha=0.4, lw=0.8, \n",
    "                                color=color_dict[composition])\n",
    "\n",
    "            ax.errorbar(energybins.log_energy_midpoints, flux, yerr=flux_err_stat,  \n",
    "                        color=color_dict[composition], ls='None', marker=marker, \n",
    "                        label=composition + ' ({})'.format(model_name), alpha=0.8)\n",
    "\n",
    "            # Plot total flux\n",
    "            comp.plot_steps(energybins.log_energy_bins, flux_total, yerr=flux_total_err_sys,\n",
    "                                ax=ax, alpha=0.4, fillalpha=0.4,  \n",
    "                                color=color_dict['total'])\n",
    "\n",
    "            ax.errorbar(energybins.log_energy_midpoints, flux_total, yerr=flux_total_err_stat,  \n",
    "                        color=color_dict['total'], ls='None', marker=marker, \n",
    "    #                     label='total',\n",
    "                        alpha=0.8)\n",
    "\n",
    "\n",
    "\n",
    "        # Add 3-year composition analysis flux for comparison \n",
    "            if plot_3yr:\n",
    "                ax.errorbar(flux_data_3yr['log_energy_midpoints'], \n",
    "                            flux_comp_3yr['{}_flux'.format(composition)],\n",
    "                            yerr=[flux_comp_3yr['{}_err_down'.format(composition)],\n",
    "                                  flux_comp_3yr['{}_err_up'.format(composition)]],  \n",
    "                            ls='None', marker='*', color=color_dict[composition],\n",
    "                            label='{} (3-year)'.format(composition),\n",
    "                            alpha=0.75)\n",
    "                ax.errorbar(flux_data_3yr['log_energy_midpoints'], \n",
    "                            flux_comp_3yr['total_flux'],\n",
    "                            yerr=[flux_comp_3yr['total_err_down'],\n",
    "                                  flux_comp_3yr['total_err_up']],  \n",
    "                            ls='None', marker='*', color=color_dict['total'],\n",
    "                            alpha=0.75)\n",
    "\n",
    "\n",
    "            ax.set_yscale(\"log\", nonposy='clip')\n",
    "            ax.set_xlim(6.4, 7.8)\n",
    "            ax.set_ylim([1e3, 7e4])\n",
    "\n",
    "            ax.grid(linestyle='dotted', which=\"both\")\n",
    "            ax.legend(loc='lower left', ncol=1, fontsize=10)\n",
    "        \n",
    "    fig.text(0.5, -0.01, '$\\mathrm{\\log_{10}(E/GeV)}$', ha='center')\n",
    "    fig.text(-0.01, 0.5, '$\\mathrm{ E^{2.7} \\ J(E) \\ [GeV^{1.7} m^{-2} sr^{-1} s^{-1}]}$',\n",
    "             va='center', rotation='vertical')\n",
    "    \n",
    "#     flux_outfile = os.path.join(comp.paths.figures_dir, 'unfolding', config, \n",
    "#                                 'flux_grid_{}-groups_{}-prior.png'.format(num_groups, model_name))\n",
    "    flux_outfile = os.path.join(comp.paths.figures_dir, 'unfolding', config, \n",
    "                                'flux_grid_{}-groups.png'.format(num_groups))\n",
    "    comp.check_output_dir(flux_outfile)\n",
    "    plt.savefig(flux_outfile, dpi=1000)\n",
    "    plt.show()"
   ]
  },
  {
   "cell_type": "code",
   "execution_count": 23,
   "metadata": {
    "scrolled": false
   },
   "outputs": [
    {
     "data": {
      "image/png": "[encoded data removed]",
      "text/plain": [
       "<matplotlib.figure.Figure at 0x7f9b3c9553d0>"
      ]
     },
     "metadata": {},
     "output_type": "display_data"
    }
   ],
   "source": [
    "fig, ax = plt.subplots()\n",
    "# Add 3-year composition analysis flux for comparison \n",
    "for composition in comp_list + ['total']:\n",
    "    ax.errorbar(flux_data_3yr['log_energy_midpoints'], \n",
    "                flux_comp_3yr['{}_flux'.format(composition)],\n",
    "                yerr=[flux_comp_3yr['{}_err_down'.format(composition)],\n",
    "                      flux_comp_3yr['{}_err_up'.format(composition)]],  \n",
    "                ls='None', marker='*', color=color_dict[composition],\n",
    "                label='3-year ({})'.format(composition),\n",
    "                alpha=0.75)\n",
    "    \n",
    "ax.set_yscale(\"log\", nonposy='clip')\n",
    "ax.set_xlabel('$\\mathrm{\\log_{10}(E_{reco}/GeV)}$')\n",
    "ax.set_ylabel('$\\mathrm{ E^{2.7} \\ J(E) \\ [GeV^{1.7} m^{-2} sr^{-1} s^{-1}]}$')\n",
    "\n",
    "# ax.set_xlim(6.4, 9.0)\n",
    "ax.set_xlim(6.4, 7.8)\n",
    "ax.set_ylim([1e3, 7e4])\n",
    "\n",
    "ax.grid(linestyle='dotted', which=\"both\")\n",
    "ax.legend(loc='lower left', ncol=2, fontsize=10)\n",
    "# ax.legend(loc='center left', bbox_to_anchor=(1, 0.5), frameon=False)cd \n",
    "\n",
    "# leg = plt.legend(loc='upper center', frameon=False,\n",
    "#           bbox_to_anchor=(0.5,  # horizontal\n",
    "#                           1.15),# vertical \n",
    "#           ncol=len(comp_list)+1, fancybox=False)\n",
    "flux_3yr_outfile = os.path.join(comp.paths.figures_dir, 'unfolding', config, \n",
    "                                'flux_3yr-analysis_{}-groups.png'.format(num_groups))\n",
    "comp.check_output_dir(flux_3yr_outfile)\n",
    "# plt.savefig(flux_3yr_outfile)\n",
    "plt.show()"
   ]
  },
  {
   "cell_type": "code",
   "execution_count": null,
   "metadata": {
    "collapsed": true
   },
   "outputs": [],
   "source": []
  },
  {
   "cell_type": "code",
   "execution_count": null,
   "metadata": {
    "collapsed": true
   },
   "outputs": [],
   "source": []
  }
 ],
 "metadata": {
  "kernelspec": {
   "display_name": "Python 2",
   "language": "python",
   "name": "python2"
  },
  "language_info": {
   "codemirror_mode": {
    "name": "ipython",
    "version": 2
   },
   "file_extension": ".py",
   "mimetype": "text/x-python",
   "name": "python",
   "nbconvert_exporter": "python",
   "pygments_lexer": "ipython2",
   "version": "2.7.13"
  }
 },
 "nbformat": 4,
 "nbformat_minor": 1
}
