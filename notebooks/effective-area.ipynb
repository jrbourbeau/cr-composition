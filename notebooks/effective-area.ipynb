{
 "cells": [
  {
   "cell_type": "markdown",
   "metadata": {},
   "source": [
    "<a id='top'> </a>\n",
    "Author: [James Bourbeau](http://www.jamesbourbeau.com)"
   ]
  },
  {
   "cell_type": "code",
   "execution_count": 1,
   "metadata": {},
   "outputs": [
    {
     "name": "stdout",
     "output_type": "stream",
     "text": [
      "last updated: 2017-08-17 \n",
      "\n",
      "CPython 2.7.13\n",
      "IPython 5.3.0\n",
      "\n",
      "numpy 1.12.1\n",
      "matplotlib 2.0.2\n",
      "scipy 0.19.0\n",
      "pandas 0.20.1\n",
      "sklearn 0.18.1\n",
      "mlxtend 0.7.0\n"
     ]
    }
   ],
   "source": [
    "%load_ext watermark\n",
    "%watermark -u -d -v -p numpy,matplotlib,scipy,pandas,sklearn,mlxtend"
   ]
  },
  {
   "cell_type": "markdown",
   "metadata": {},
   "source": [
    "# Cosmic-ray composition effective area analysis\n",
    "### Table of contents\n",
    "1. [Load simulation DataFrame and apply quality cuts](#Load-simulation-DataFrame-and-apply-quality-cuts)\n",
    "2. [Define functions to be fit to effective area](#Define-functions-to-be-fit-to-effective-area)\n",
    "3. [Calculate effective areas](#Calculate-effective-areas)\n",
    "4. [Plot result](#Plot-result)"
   ]
  },
  {
   "cell_type": "code",
   "execution_count": 2,
   "metadata": {},
   "outputs": [
    {
     "name": "stderr",
     "output_type": "stream",
     "text": [
      "/home/jbourbeau/.virtualenvs/composition/lib/python2.7/site-packages/sklearn/cross_validation.py:44: DeprecationWarning: This module was deprecated in version 0.18 in favor of the model_selection module into which all the refactored classes and functions are moved. Also note that the interface of the new CV iterators are different from that of this module. This module will be removed in 0.20.\n",
      "  \"This module will be removed in 0.20.\", DeprecationWarning)\n"
     ]
    }
   ],
   "source": [
    "%matplotlib inline\n",
    "from __future__ import division, print_function\n",
    "from collections import defaultdict\n",
    "import os\n",
    "import numpy as np\n",
    "from scipy import optimize\n",
    "from scipy.stats import chisquare\n",
    "import pandas as pd\n",
    "import matplotlib.pyplot as plt\n",
    "import seaborn.apionly as sns\n",
    "\n",
    "import comptools as comp\n",
    "\n",
    "color_dict = comp.analysis.get_color_dict()"
   ]
  },
  {
   "cell_type": "markdown",
   "metadata": {},
   "source": [
    "### Load simulation DataFrame and apply quality cuts\n",
    "[ [back to top](#top) ]"
   ]
  },
  {
   "cell_type": "code",
   "execution_count": 3,
   "metadata": {},
   "outputs": [
    {
     "name": "stdout",
     "output_type": "stream",
     "text": [
      "Starting out with 108522 sim events\n",
      "sim quality cut event flow:\n",
      "      passed_IceTopQualityCuts:    1.0    1.0\n",
      "FractionContainment_Laputop_InIce:  0.793  0.793\n",
      "       passed_InIceQualityCuts:  0.795   0.76\n",
      "                 num_hits_1_60:  0.997  0.759\n",
      "             reco_energy_range:  0.874  0.662\n",
      "\n",
      "\n"
     ]
    }
   ],
   "source": [
    "# config = 'IC79'\n",
    "config = 'IC86.2012'\n",
    "df_sim = comp.load_sim(config=config, test_size=0)"
   ]
  },
  {
   "cell_type": "code",
   "execution_count": 4,
   "metadata": {},
   "outputs": [],
   "source": [
    "# df_sim, cut_dict_sim = comp.load_dataframe(datatype='sim', config=config, return_cut_dict=True)\n",
    "# selection_mask = np.array([True] * len(df_sim))\n",
    "# # standard_cut_keys = ['IceTopQualityCuts', 'lap_InIce_containment',\n",
    "# # #                 'num_hits_1_60', 'max_qfrac_1_60',\n",
    "# #                 'InIceQualityCuts', 'num_hits_1_60']\n",
    "\n",
    "# standard_cut_keys = ['passed_IceTopQualityCuts', 'FractionContainment_Laputop_InIce',\n",
    "#                      'passed_InIceQualityCuts', 'num_hits_1_60']\n",
    "# # for cut in ['MilliNCascAbove2', 'MilliQtotRatio', 'MilliRloglBelow2', 'StochRecoSucceeded']:\n",
    "# #     standard_cut_keys += ['InIceQualityCuts_{}'.format(cut)]\n",
    "    \n",
    "# for key in standard_cut_keys:\n",
    "#     selection_mask *= cut_dict_sim[key]\n",
    "#     print(key, np.sum(selection_mask))\n",
    "\n",
    "# df_sim = df_sim[selection_mask]"
   ]
  },
  {
   "cell_type": "markdown",
   "metadata": {},
   "source": [
    "#### Define energy binning for this analysis"
   ]
  },
  {
   "cell_type": "code",
   "execution_count": 27,
   "metadata": {
    "collapsed": true
   },
   "outputs": [],
   "source": [
    "log_energy_bins = np.arange(5.0, 9.51, 0.05)\n",
    "# log_energy_bins = np.arange(5.0, 9.51, 0.1)\n",
    "energy_bins = 10**log_energy_bins\n",
    "energy_midpoints = (energy_bins[1:] + energy_bins[:-1]) / 2\n",
    "\n",
    "energy_min_fit, energy_max_fit = 5.8, 7.0\n",
    "midpoints_fitmask = (energy_midpoints >= 10**energy_min_fit) & (energy_midpoints <= 10**energy_max_fit)"
   ]
  },
  {
   "cell_type": "code",
   "execution_count": 28,
   "metadata": {},
   "outputs": [
    {
     "data": {
      "text/plain": [
       "array([ 5.  ,  5.05,  5.1 ,  5.15,  5.2 ,  5.25,  5.3 ,  5.35,  5.4 ,\n",
       "        5.45,  5.5 ,  5.55,  5.6 ,  5.65,  5.7 ,  5.75,  5.8 ,  5.85,\n",
       "        5.9 ,  5.95,  6.  ,  6.05,  6.1 ,  6.15,  6.2 ,  6.25,  6.3 ,\n",
       "        6.35,  6.4 ,  6.45,  6.5 ,  6.55,  6.6 ,  6.65,  6.7 ,  6.75,\n",
       "        6.8 ,  6.85,  6.9 ,  6.95,  7.  ,  7.05,  7.1 ,  7.15,  7.2 ,\n",
       "        7.25,  7.3 ,  7.35,  7.4 ,  7.45,  7.5 ,  7.55,  7.6 ,  7.65,\n",
       "        7.7 ,  7.75,  7.8 ,  7.85,  7.9 ,  7.95,  8.  ,  8.05,  8.1 ,\n",
       "        8.15,  8.2 ,  8.25,  8.3 ,  8.35,  8.4 ,  8.45,  8.5 ,  8.55,\n",
       "        8.6 ,  8.65,  8.7 ,  8.75,  8.8 ,  8.85,  8.9 ,  8.95,  9.  ,\n",
       "        9.05,  9.1 ,  9.15,  9.2 ,  9.25,  9.3 ,  9.35,  9.4 ,  9.45,  9.5 ])"
      ]
     },
     "execution_count": 28,
     "metadata": {},
     "output_type": "execute_result"
    }
   ],
   "source": [
    "log_energy_bins"
   ]
  },
  {
   "cell_type": "code",
   "execution_count": 29,
   "metadata": {},
   "outputs": [
    {
     "data": {
      "text/plain": [
       "array([ 5.82571916,  5.87571916,  5.92571916,  5.97571916,  6.02571916,\n",
       "        6.07571916,  6.12571916,  6.17571916,  6.22571916,  6.27571916,\n",
       "        6.32571916,  6.37571916,  6.42571916,  6.47571916,  6.52571916,\n",
       "        6.57571916,  6.62571916,  6.67571916,  6.72571916,  6.77571916,\n",
       "        6.82571916,  6.87571916,  6.92571916,  6.97571916])"
      ]
     },
     "execution_count": 29,
     "metadata": {},
     "output_type": "execute_result"
    }
   ],
   "source": [
    "np.log10(energy_midpoints[midpoints_fitmask])"
   ]
  },
  {
   "cell_type": "markdown",
   "metadata": {},
   "source": [
    "### Define functions to be fit to effective area"
   ]
  },
  {
   "cell_type": "code",
   "execution_count": 30,
   "metadata": {
    "collapsed": true
   },
   "outputs": [],
   "source": [
    "def constant(energy, c):\n",
    "    return c\n",
    "\n",
    "def linefit(energy, m, b):\n",
    "    return m*np.log10(energy) + b\n",
    "\n",
    "def sigmoid_flat(energy, p0, p1, p2):\n",
    "    return p0 / (1 + np.exp(-p1*np.log10(energy) + p2))\n",
    "\n",
    "def sigmoid_slant(energy, p0, p1, p2, p3):\n",
    "    return (p0 + p3*np.log10(energy)) / (1 + np.exp(-p1*np.log10(energy) + p2))"
   ]
  },
  {
   "cell_type": "code",
   "execution_count": 52,
   "metadata": {
    "collapsed": true
   },
   "outputs": [],
   "source": [
    "def red_chisquared(obs, fit, sigma, n_params):\n",
    "    zero_mask = sigma != 0\n",
    "    return np.nansum(((obs[zero_mask] - fit[zero_mask])/sigma[zero_mask]) ** 2) / (len(obs[zero_mask]) - n_params)\n",
    "#     return np.sum(((obs - fit)/sigma) ** 2) / (len(obs) - 1 - n_params)"
   ]
  },
  {
   "cell_type": "code",
   "execution_count": 32,
   "metadata": {},
   "outputs": [
    {
     "data": {
      "text/plain": [
       "21"
      ]
     },
     "execution_count": 32,
     "metadata": {},
     "output_type": "execute_result"
    }
   ],
   "source": [
    "np.sum(midpoints_fitmask)-3"
   ]
  },
  {
   "cell_type": "markdown",
   "metadata": {},
   "source": [
    "### Calculate effective areas"
   ]
  },
  {
   "cell_type": "code",
   "execution_count": 33,
   "metadata": {},
   "outputs": [
    {
     "name": "stdout",
     "output_type": "stream",
     "text": [
      "Calculating effective area...\n",
      "simlist = [12360 12362 12630 12631]\n",
      "Simulation set 12360: 19781 files\n",
      "type(sim) = <type 'numpy.int64'>\n",
      "sim = 12360\n",
      "Simulation set 12362: 19808 files\n",
      "type(sim) = <type 'numpy.int64'>\n",
      "sim = 12362\n",
      "Simulation set 12630: 19787 files\n",
      "type(sim) = <type 'numpy.int64'>\n",
      "sim = 12630\n",
      "Simulation set 12631: 19834 files\n",
      "type(sim) = <type 'numpy.int64'>\n",
      "sim = 12631\n",
      "num_ptypes = 4\n",
      "Calculating effective area...\n",
      "simlist = [12360 12630]\n",
      "Simulation set 12360: 19781 files\n",
      "type(sim) = <type 'numpy.int64'>\n",
      "sim = 12360\n",
      "Simulation set 12630: 19787 files\n",
      "type(sim) = <type 'numpy.int64'>\n",
      "sim = 12630\n",
      "num_ptypes = 2\n",
      "Calculating effective area...\n",
      "simlist = [12362 12631]\n",
      "Simulation set 12362: 19808 files\n",
      "type(sim) = <type 'numpy.int64'>\n",
      "sim = 12362\n",
      "Simulation set 12631: 19834 files\n",
      "type(sim) = <type 'numpy.int64'>\n",
      "sim = 12631\n",
      "num_ptypes = 2\n"
     ]
    }
   ],
   "source": [
    "eff_area, eff_area_error, _ = comp.calculate_effective_area_vs_energy(df_sim, energy_bins)\n",
    "eff_area_light, eff_area_error_light, _ = comp.calculate_effective_area_vs_energy(df_sim[df_sim.MC_comp_class == 'light'], energy_bins)\n",
    "eff_area_heavy, eff_area_error_heavy, _ = comp.calculate_effective_area_vs_energy(df_sim[df_sim.MC_comp_class == 'heavy'], energy_bins)"
   ]
  },
  {
   "cell_type": "code",
   "execution_count": 71,
   "metadata": {
    "scrolled": false
   },
   "outputs": [
    {
     "name": "stdout",
     "output_type": "stream",
     "text": [
      "Calculating effective area...\n",
      "simlist = [12360 12362 12630 12631]\n",
      "Simulation set 12360: 19781 files\n",
      "type(sim) = <type 'numpy.int64'>\n",
      "sim = 12360\n",
      "Simulation set 12362: 19808 files\n",
      "type(sim) = <type 'numpy.int64'>\n",
      "sim = 12362\n",
      "Simulation set 12630: 19787 files\n",
      "type(sim) = <type 'numpy.int64'>\n",
      "sim = 12630\n",
      "Simulation set 12631: 19834 files\n",
      "type(sim) = <type 'numpy.int64'>\n",
      "sim = 12631\n",
      "num_ptypes = 4\n",
      "Calculating effective area...\n",
      "simlist = [12360 12630]\n",
      "Simulation set 12360: 19781 files\n",
      "type(sim) = <type 'numpy.int64'>\n",
      "sim = 12360\n",
      "Simulation set 12630: 19787 files\n",
      "type(sim) = <type 'numpy.int64'>\n",
      "sim = 12630\n",
      "num_ptypes = 2\n",
      "Calculating effective area...\n",
      "simlist = [12362 12631]\n",
      "Simulation set 12362: 19808 files\n",
      "type(sim) = <type 'numpy.int64'>\n",
      "sim = 12362\n",
      "Simulation set 12631: 19834 files\n",
      "type(sim) = <type 'numpy.int64'>\n",
      "sim = 12631\n",
      "num_ptypes = 2\n"
     ]
    }
   ],
   "source": [
    "eff_area, eff_area_error, _ = comp.analysis.get_effective_area(df_sim,\n",
    "                                                                energy_bins, energy='MC')\n",
    "eff_area_light, eff_area_error_light, _ = comp.analysis.get_effective_area(\n",
    "                                                                df_sim[df_sim.MC_comp_class == 'light'],\n",
    "                                                                energy_bins, energy='MC')\n",
    "eff_area_heavy, eff_area_error_heavy, _ = comp.analysis.get_effective_area(\n",
    "                                                                df_sim[df_sim.MC_comp_class == 'heavy'],\n",
    "                                                                energy_bins, energy='MC')"
   ]
  },
  {
   "cell_type": "code",
   "execution_count": 34,
   "metadata": {},
   "outputs": [
    {
     "data": {
      "text/plain": [
       "array([  0.00000000e+00,   0.00000000e+00,   0.00000000e+00,\n",
       "         0.00000000e+00,   0.00000000e+00,   0.00000000e+00,\n",
       "         0.00000000e+00,   0.00000000e+00,   0.00000000e+00,\n",
       "         0.00000000e+00,   0.00000000e+00,   0.00000000e+00,\n",
       "         0.00000000e+00,   5.60659689e+01,   1.08770179e+02,\n",
       "         2.72218370e+02,   1.04501138e+03,   2.36758128e+03,\n",
       "         5.72911531e+03,   1.79070239e+04,   2.76704734e+04,\n",
       "         5.55103113e+04,   7.72448900e+04,   1.09668412e+05,\n",
       "         1.26323937e+05,   1.19167341e+05,   1.30898871e+05,\n",
       "         1.39046803e+05,   1.21366758e+05,   1.30293456e+05,\n",
       "         1.33588715e+05,   1.41885917e+05,   1.47158581e+05,\n",
       "         1.55710566e+05,   1.43995893e+05,   1.53291849e+05,\n",
       "         1.39841590e+05,   1.49307117e+05,   1.33264659e+05,\n",
       "         1.43413024e+05,   1.33854688e+05,   1.36742008e+05,\n",
       "         1.41580651e+05,   1.54560314e+05,   1.34595585e+05,\n",
       "         1.30231468e+05,   1.44190774e+05,   1.51709532e+05,\n",
       "         1.21735053e+05,   1.36834143e+05,   1.39435180e+05,\n",
       "         1.61788813e+05,   1.29339411e+05,   1.48903444e+05,\n",
       "         1.42750787e+05,   1.39730662e+05,   1.61179526e+05,\n",
       "         1.77414987e+05,   1.25415581e+05,   1.59301968e+05,\n",
       "         0.00000000e+00,   0.00000000e+00,   0.00000000e+00,\n",
       "         0.00000000e+00,   0.00000000e+00,   0.00000000e+00,\n",
       "         0.00000000e+00,   0.00000000e+00,   0.00000000e+00,\n",
       "         0.00000000e+00,   0.00000000e+00,   0.00000000e+00,\n",
       "         0.00000000e+00,   0.00000000e+00,   0.00000000e+00,\n",
       "         0.00000000e+00,   0.00000000e+00,   0.00000000e+00,\n",
       "         0.00000000e+00,   0.00000000e+00,   0.00000000e+00,\n",
       "         0.00000000e+00,   0.00000000e+00,   0.00000000e+00,\n",
       "         0.00000000e+00,   0.00000000e+00,   0.00000000e+00,\n",
       "         0.00000000e+00,   0.00000000e+00,   0.00000000e+00])"
      ]
     },
     "execution_count": 34,
     "metadata": {},
     "output_type": "execute_result"
    }
   ],
   "source": [
    "eff_area_light"
   ]
  },
  {
   "cell_type": "markdown",
   "metadata": {},
   "source": [
    "#### Fit functions to effective area data"
   ]
  },
  {
   "cell_type": "code",
   "execution_count": 35,
   "metadata": {
    "collapsed": true
   },
   "outputs": [],
   "source": [
    "p0 = [1.5e5, 8.0, 50.0]\n",
    "popt_light, pcov_light = optimize.curve_fit(sigmoid_flat, energy_midpoints[midpoints_fitmask],\n",
    "                                            eff_area_light[midpoints_fitmask], p0=p0,\n",
    "                                            sigma=eff_area_error_light[midpoints_fitmask])\n",
    "popt_heavy, pcov_heavy = optimize.curve_fit(sigmoid_flat, energy_midpoints[midpoints_fitmask],\n",
    "                                            eff_area_heavy[midpoints_fitmask], p0=p0,\n",
    "                                            sigma=eff_area_error_heavy[midpoints_fitmask])"
   ]
  },
  {
   "cell_type": "code",
   "execution_count": 36,
   "metadata": {},
   "outputs": [
    {
     "name": "stdout",
     "output_type": "stream",
     "text": [
      "[  1.39367593e+05   1.67786717e+01   1.02435245e+02]\n",
      "[  1.35514081e+05   1.70345833e+01   1.04920443e+02]\n"
     ]
    }
   ],
   "source": [
    "print(popt_light)\n",
    "print(popt_heavy)"
   ]
  },
  {
   "cell_type": "code",
   "execution_count": 37,
   "metadata": {},
   "outputs": [
    {
     "name": "stdout",
     "output_type": "stream",
     "text": [
      "[  2.34977193e+03   8.52068995e-01   5.12743827e+00]\n",
      "[  2.82545989e+03   9.78260411e-01   5.94090441e+00]\n"
     ]
    }
   ],
   "source": [
    "perr_light = np.sqrt(np.diag(pcov_light))\n",
    "print(perr_light)\n",
    "perr_heavy = np.sqrt(np.diag(pcov_heavy))\n",
    "print(perr_heavy)"
   ]
  },
  {
   "cell_type": "code",
   "execution_count": 38,
   "metadata": {},
   "outputs": [
    {
     "name": "stdout",
     "output_type": "stream",
     "text": [
      "avg eff area = 137440.837006\n"
     ]
    }
   ],
   "source": [
    "avg = (popt_light[0] + popt_heavy[0]) / 2\n",
    "print('avg eff area = {}'.format(avg))"
   ]
  },
  {
   "cell_type": "code",
   "execution_count": 49,
   "metadata": {},
   "outputs": [
    {
     "data": {
      "text/plain": [
       "array([  0.00000000e+00,   0.00000000e+00,   0.00000000e+00,\n",
       "         0.00000000e+00,   0.00000000e+00,   0.00000000e+00,\n",
       "         0.00000000e+00,   0.00000000e+00,   0.00000000e+00,\n",
       "         0.00000000e+00,   0.00000000e+00,   0.00000000e+00,\n",
       "         0.00000000e+00,   5.60659689e+01,   1.08770179e+02,\n",
       "         2.72218370e+02,   1.04501138e+03,   2.36758128e+03,\n",
       "         5.72911531e+03,   1.79070239e+04,   2.76704734e+04,\n",
       "         5.55103113e+04,   7.72448900e+04,   1.09668412e+05,\n",
       "         1.26323937e+05,   1.19167341e+05,   1.30898871e+05,\n",
       "         1.39046803e+05,   1.21366758e+05,   1.30293456e+05,\n",
       "         1.33588715e+05,   1.41885917e+05,   1.47158581e+05,\n",
       "         1.55710566e+05,   1.43995893e+05,   1.53291849e+05,\n",
       "         1.39841590e+05,   1.49307117e+05,   1.33264659e+05,\n",
       "         1.43413024e+05,   1.33854688e+05,   1.36742008e+05,\n",
       "         1.41580651e+05,   1.54560314e+05,   1.34595585e+05,\n",
       "         1.30231468e+05,   1.44190774e+05,   1.51709532e+05,\n",
       "         1.21735053e+05,   1.36834143e+05,   1.39435180e+05,\n",
       "         1.61788813e+05,   1.29339411e+05,   1.48903444e+05,\n",
       "         1.42750787e+05,   1.39730662e+05,   1.61179526e+05,\n",
       "         1.77414987e+05,   1.25415581e+05,   1.59301968e+05,\n",
       "         0.00000000e+00,   0.00000000e+00,   0.00000000e+00,\n",
       "         0.00000000e+00,   0.00000000e+00,   0.00000000e+00,\n",
       "         0.00000000e+00,   0.00000000e+00,   0.00000000e+00,\n",
       "         0.00000000e+00,   0.00000000e+00,   0.00000000e+00,\n",
       "         0.00000000e+00,   0.00000000e+00,   0.00000000e+00,\n",
       "         0.00000000e+00,   0.00000000e+00,   0.00000000e+00,\n",
       "         0.00000000e+00,   0.00000000e+00,   0.00000000e+00,\n",
       "         0.00000000e+00,   0.00000000e+00,   0.00000000e+00,\n",
       "         0.00000000e+00,   0.00000000e+00,   0.00000000e+00,\n",
       "         0.00000000e+00,   0.00000000e+00,   0.00000000e+00])"
      ]
     },
     "execution_count": 49,
     "metadata": {},
     "output_type": "execute_result"
    }
   ],
   "source": [
    "eff_area_light"
   ]
  },
  {
   "cell_type": "code",
   "execution_count": 54,
   "metadata": {},
   "outputs": [
    {
     "name": "stdout",
     "output_type": "stream",
     "text": [
      "5.35995346649\n",
      "6.93440907351\n"
     ]
    }
   ],
   "source": [
    "light_chi2 = red_chisquared(eff_area_light, sigmoid_flat(energy_midpoints, *popt_light),\n",
    "               eff_area_error_light, len(popt_light))\n",
    "print(light_chi2)\n",
    "heavy_chi2 = red_chisquared(eff_area_heavy,\n",
    "               sigmoid_flat(energy_midpoints, *popt_heavy),\n",
    "               eff_area_error_heavy, len(popt_heavy))\n",
    "print(heavy_chi2)"
   ]
  },
  {
   "cell_type": "markdown",
   "metadata": {},
   "source": [
    "### Plot result"
   ]
  },
  {
   "cell_type": "code",
   "execution_count": 40,
   "metadata": {},
   "outputs": [
    {
     "data": {
      "image/png": "[encoded data removed]",
      "text/plain": [
       "<matplotlib.figure.Figure at 0x7fec468d7090>"
      ]
     },
     "metadata": {},
     "output_type": "display_data"
    }
   ],
   "source": [
    "fig, ax = plt.subplots()\n",
    "# plot effective area data points with poisson errors\n",
    "ax.errorbar(np.log10(energy_midpoints), eff_area_light, yerr=eff_area_error_light,\n",
    "            ls='None', marker='.')\n",
    "ax.errorbar(np.log10(energy_midpoints), eff_area_heavy, yerr=eff_area_error_heavy,\n",
    "            ls='None', marker='.')\n",
    "\n",
    "# plot corresponding sigmoid fits to effective area\n",
    "x = 10**np.arange(5.0, 9.5, 0.01)\n",
    "ax.plot(np.log10(x), sigmoid_flat(x, *popt_light),\n",
    "        color=color_dict['light'], label='light', marker='None', ls='-')\n",
    "ax.plot(np.log10(x), sigmoid_flat(x, *popt_heavy),\n",
    "        color=color_dict['heavy'], label='heavy', marker='None')\n",
    "\n",
    "\n",
    "avg_eff_area = (sigmoid_flat(x, *popt_light) + sigmoid_flat(x, *popt_heavy)) / 2\n",
    "ax.plot(np.log10(x), avg_eff_area,\n",
    "        color=color_dict['total'], label='avg', marker='None')\n",
    "ax.fill_between(np.log10(x),\n",
    "        avg_eff_area-0.01*avg_eff_area,\n",
    "        avg_eff_area+0.01*avg_eff_area,\n",
    "        color=color_dict['total'], alpha=0.5)\n",
    "\n",
    "ax.axvline(6.4, marker='None', ls='-.', color='k')\n",
    "\n",
    "ax.set_ylabel('Effective area [m$^2$]')\n",
    "ax.set_xlabel('$\\mathrm{\\log_{10}(E_{true}/GeV)}$')\n",
    "# ax.set_title('$\\mathrm{A_{eff} = 143177 \\pm 1431.77 \\ m^2}$')\n",
    "ax.grid()\n",
    "# ax.set_ylim([0, 180000])\n",
    "ax.set_xlim([5.4, 8.1])\n",
    "ax.set_title(config)\n",
    "\n",
    "#set label style        \n",
    "ax.ticklabel_format(style='sci',axis='y')\n",
    "ax.yaxis.major.formatter.set_powerlimits((0,0))\n",
    "\n",
    "leg = plt.legend(title='True composition')\n",
    "for legobj in leg.legendHandles:\n",
    "    legobj.set_linewidth(2.0)\n",
    "\n",
    "# eff_area_outfile = os.path.join(comp.paths.figures_dir, 'effective-area-{}.png'.format(config))\n",
    "# comp.check_output_dir(eff_area_outfile)\n",
    "# plt.savefig(eff_area_outfile)\n",
    "plt.show()"
   ]
  },
  {
   "cell_type": "markdown",
   "metadata": {},
   "source": [
    "Effective area as quality cuts are sequentially applied"
   ]
  },
  {
   "cell_type": "code",
   "execution_count": 19,
   "metadata": {},
   "outputs": [
    {
     "name": "stdout",
     "output_type": "stream",
     "text": [
      "num_hits_1_60 397466\n",
      "Calculating effective area...\n",
      "Simulation set 7006: 30000 files\n",
      "Simulation set 7007: 30000 files\n",
      "Simulation set 7241: 10000 files\n",
      "Simulation set 7242: 10000 files\n",
      "Simulation set 7262: 19999 files\n",
      "Simulation set 7263: 19998 files\n",
      "Simulation set 7579: 12000 files\n",
      "Simulation set 7784: 12000 files\n",
      "Simulation set 7791: 12000 files\n",
      "Simulation set 7851: 12000 files\n",
      "IceTopQualityCuts 397466\n",
      "Calculating effective area...\n",
      "Simulation set 7006: 30000 files\n",
      "Simulation set 7007: 30000 files\n",
      "Simulation set 7241: 10000 files\n",
      "Simulation set 7242: 10000 files\n",
      "Simulation set 7262: 19999 files\n",
      "Simulation set 7263: 19998 files\n",
      "Simulation set 7579: 12000 files\n",
      "Simulation set 7784: 12000 files\n",
      "Simulation set 7791: 12000 files\n",
      "Simulation set 7851: 12000 files\n",
      "lap_InIce_containment 308874\n",
      "Calculating effective area...\n",
      "Simulation set 7006: 30000 files\n",
      "Simulation set 7007: 30000 files\n",
      "Simulation set 7241: 10000 files\n",
      "Simulation set 7242: 10000 files\n",
      "Simulation set 7262: 19999 files\n",
      "Simulation set 7263: 19998 files\n",
      "Simulation set 7579: 12000 files\n",
      "Simulation set 7784: 12000 files\n",
      "Simulation set 7791: 12000 files\n",
      "Simulation set 7851: 12000 files\n",
      "InIceQualityCuts 298466\n",
      "Calculating effective area...\n",
      "Simulation set 7006: 30000 files\n",
      "Simulation set 7007: 30000 files\n",
      "Simulation set 7241: 10000 files\n",
      "Simulation set 7242: 10000 files\n",
      "Simulation set 7262: 19999 files\n",
      "Simulation set 7263: 19998 files\n",
      "Simulation set 7579: 12000 files\n",
      "Simulation set 7784: 12000 files\n",
      "Simulation set 7791: 12000 files\n",
      "Simulation set 7851: 12000 files\n"
     ]
    }
   ],
   "source": [
    "df_sim, cut_dict_sim = comp.load_dataframe(datatype='sim', config='IC79', return_cut_dict=True)\n",
    "standard_cut_keys = ['num_hits_1_60', 'IceTopQualityCuts', 'lap_InIce_containment',\n",
    "#                 'num_hits_1_60', 'max_qfrac_1_60',\n",
    "                'InIceQualityCuts']\n",
    "# for cut in ['MilliNCascAbove2', 'MilliQtotRatio', 'MilliRloglBelow2', 'StochRecoSucceeded']:\n",
    "#     standard_cut_keys += ['InIceQualityCuts_{}'.format(cut)]\n",
    "\n",
    "eff_area_dict = {}\n",
    "eff_area_err_dict = {}\n",
    "selection_mask = np.array([True] * len(df_sim))\n",
    "for key in standard_cut_keys:\n",
    "    selection_mask *= cut_dict_sim[key]\n",
    "    print(key, np.sum(selection_mask))\n",
    "    eff_area, eff_area_error, _ = comp.analysis.get_effective_area(df_sim[selection_mask],\n",
    "                                                                energy_bins, energy='MC')\n",
    "#     eff_area, eff_area_error = comp.analysis.effective_area.effective_area(df_sim[selection_mask],\n",
    "#                                                                            np.arange(5.0, 9.51, 0.1))\n",
    "    eff_area_dict[key] = eff_area\n",
    "    eff_area_err_dict[key] = eff_area_error"
   ]
  },
  {
   "cell_type": "code",
   "execution_count": 20,
   "metadata": {},
   "outputs": [
    {
     "data": {
      "image/png": "[encoded data removed]",
      "text/plain": [
       "<matplotlib.figure.Figure at 0x7fd07c1ab110>"
      ]
     },
     "metadata": {},
     "output_type": "display_data"
    }
   ],
   "source": [
    "fig, ax = plt.subplots()\n",
    "cut_labels = {'num_hits_1_60': 'NStations/NChannels', 'IceTopQualityCuts': 'IceTopQualityCuts',\n",
    "             'lap_InIce_containment': 'InIce containment', 'InIceQualityCuts': 'InIceQualityCuts'}\n",
    "for key in standard_cut_keys:\n",
    "# plot effective area data points with poisson errors\n",
    "    ax.errorbar(np.log10(energy_midpoints), eff_area_dict[key], yerr=eff_area_err_dict[key],\n",
    "                ls='None', marker='.', label=cut_labels[key], alpha=0.75)\n",
    "\n",
    "ax.set_ylabel('Effective area [m$^2$]')\n",
    "ax.set_xlabel('$\\log_{10}(E_{\\mathrm{MC}}/\\mathrm{GeV})$')\n",
    "ax.grid()\n",
    "# ax.set_ylim([0, 180000])\n",
    "ax.set_xlim([5.4, 9.6])\n",
    "\n",
    "#set label style        \n",
    "ax.ticklabel_format(style='sci',axis='y')\n",
    "ax.yaxis.major.formatter.set_powerlimits((0,0))\n",
    "\n",
    "leg = plt.legend()\n",
    "\n",
    "plt.savefig('/home/jbourbeau/public_html/figures/effective-area-cuts.png')\n",
    "plt.show()"
   ]
  },
  {
   "cell_type": "code",
   "execution_count": null,
   "metadata": {
    "collapsed": true
   },
   "outputs": [],
   "source": []
  },
  {
   "cell_type": "code",
   "execution_count": null,
   "metadata": {
    "collapsed": true
   },
   "outputs": [],
   "source": []
  }
 ],
 "metadata": {
  "kernelspec": {
   "display_name": "Python 2",
   "language": "python",
   "name": "python2"
  },
  "language_info": {
   "codemirror_mode": {
    "name": "ipython",
    "version": 2
   },
   "file_extension": ".py",
   "mimetype": "text/x-python",
   "name": "python",
   "nbconvert_exporter": "python",
   "pygments_lexer": "ipython2",
   "version": "2.7.13"
  }
 },
 "nbformat": 4,
 "nbformat_minor": 1
}
