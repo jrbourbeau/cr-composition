{
 "cells": [
  {
   "cell_type": "markdown",
   "metadata": {},
   "source": [
    "<a id='top'> </a>\n",
    "Author: [James Bourbeau](http://www.jamesbourbeau.com)"
   ]
  },
  {
   "cell_type": "code",
   "execution_count": 1,
   "metadata": {},
   "outputs": [
    {
     "name": "stdout",
     "output_type": "stream",
     "text": [
      "last updated: 2017-07-31 \n",
      "\n",
      "CPython 2.7.13\n",
      "IPython 5.3.0\n",
      "\n",
      "numpy 1.12.1\n",
      "matplotlib 2.0.2\n",
      "scipy 0.19.0\n",
      "pandas 0.20.1\n",
      "sklearn 0.18.1\n",
      "mlxtend 0.6.0\n"
     ]
    }
   ],
   "source": [
    "%load_ext watermark\n",
    "%watermark -u -d -v -p numpy,matplotlib,scipy,pandas,sklearn,mlxtend"
   ]
  },
  {
   "cell_type": "markdown",
   "metadata": {},
   "source": [
    "# Cosmic-ray composition effective area analysis\n",
    "### Table of contents\n",
    "1. [Load simulation DataFrame and apply quality cuts](#Load-simulation-DataFrame-and-apply-quality-cuts)\n",
    "2. [Define functions to be fit to effective area](#Define-functions-to-be-fit-to-effective-area)\n",
    "3. [Calculate effective areas](#Calculate-effective-areas)\n",
    "4. [Plot result](#Plot-result)"
   ]
  },
  {
   "cell_type": "code",
   "execution_count": 82,
   "metadata": {},
   "outputs": [],
   "source": [
    "%matplotlib inline\n",
    "from __future__ import division, print_function\n",
    "from collections import defaultdict\n",
    "import os\n",
    "import numpy as np\n",
    "from scipy import optimize\n",
    "from scipy.stats import chisquare\n",
    "import pandas as pd\n",
    "import matplotlib.pyplot as plt\n",
    "import seaborn.apionly as sns\n",
    "\n",
    "import comptools as comp\n",
    "\n",
    "color_dict = comp.analysis.get_color_dict()"
   ]
  },
  {
   "cell_type": "markdown",
   "metadata": {},
   "source": [
    "### Load simulation DataFrame and apply quality cuts\n",
    "[ [back to top](#top) ]"
   ]
  },
  {
   "cell_type": "code",
   "execution_count": 3,
   "metadata": {},
   "outputs": [
    {
     "name": "stdout",
     "output_type": "stream",
     "text": [
      "Starting out with 108522 sim events\n",
      "sim quality cut event flow:\n",
      "      passed_IceTopQualityCuts:    1.0    1.0\n",
      "FractionContainment_Laputop_InIce:  0.793  0.793\n",
      "       passed_InIceQualityCuts:  0.795   0.76\n",
      "                 num_hits_1_60:  0.997  0.759\n",
      "             reco_energy_range:  0.999  0.759\n",
      "\n",
      "\n"
     ]
    }
   ],
   "source": [
    "# config = 'IC79'\n",
    "config = 'IC86.2012'\n",
    "df_sim = comp.load_dataframe(datatype='sim', config=config, split=False)"
   ]
  },
  {
   "cell_type": "code",
   "execution_count": 15,
   "metadata": {},
   "outputs": [
    {
     "ename": "TypeError",
     "evalue": "load_dataframe() got an unexpected keyword argument 'return_cut_dict'",
     "output_type": "error",
     "traceback": [
      "\u001b[0;31m\u001b[0m",
      "\u001b[0;31mTypeError\u001b[0mTraceback (most recent call last)",
      "\u001b[0;32m<ipython-input-15-ca68f1308dd9>\u001b[0m in \u001b[0;36m<module>\u001b[0;34m()\u001b[0m\n\u001b[0;32m----> 1\u001b[0;31m \u001b[0mdf_sim\u001b[0m\u001b[0;34m,\u001b[0m \u001b[0mcut_dict_sim\u001b[0m \u001b[0;34m=\u001b[0m \u001b[0mcomp\u001b[0m\u001b[0;34m.\u001b[0m\u001b[0mload_dataframe\u001b[0m\u001b[0;34m(\u001b[0m\u001b[0mdatatype\u001b[0m\u001b[0;34m=\u001b[0m\u001b[0;34m'sim'\u001b[0m\u001b[0;34m,\u001b[0m \u001b[0mconfig\u001b[0m\u001b[0;34m=\u001b[0m\u001b[0mconfig\u001b[0m\u001b[0;34m,\u001b[0m \u001b[0mreturn_cut_dict\u001b[0m\u001b[0;34m=\u001b[0m\u001b[0mTrue\u001b[0m\u001b[0;34m)\u001b[0m\u001b[0;34m\u001b[0m\u001b[0m\n\u001b[0m\u001b[1;32m      2\u001b[0m \u001b[0mselection_mask\u001b[0m \u001b[0;34m=\u001b[0m \u001b[0mnp\u001b[0m\u001b[0;34m.\u001b[0m\u001b[0marray\u001b[0m\u001b[0;34m(\u001b[0m\u001b[0;34m[\u001b[0m\u001b[0mTrue\u001b[0m\u001b[0;34m]\u001b[0m \u001b[0;34m*\u001b[0m \u001b[0mlen\u001b[0m\u001b[0;34m(\u001b[0m\u001b[0mdf_sim\u001b[0m\u001b[0;34m)\u001b[0m\u001b[0;34m)\u001b[0m\u001b[0;34m\u001b[0m\u001b[0m\n\u001b[1;32m      3\u001b[0m \u001b[0;31m# standard_cut_keys = ['IceTopQualityCuts', 'lap_InIce_containment',\u001b[0m\u001b[0;34m\u001b[0m\u001b[0;34m\u001b[0m\u001b[0m\n\u001b[1;32m      4\u001b[0m \u001b[0;31m# #                 'num_hits_1_60', 'max_qfrac_1_60',\u001b[0m\u001b[0;34m\u001b[0m\u001b[0;34m\u001b[0m\u001b[0m\n\u001b[1;32m      5\u001b[0m \u001b[0;31m#                 'InIceQualityCuts', 'num_hits_1_60']\u001b[0m\u001b[0;34m\u001b[0m\u001b[0;34m\u001b[0m\u001b[0m\n",
      "\u001b[0;31mTypeError\u001b[0m: load_dataframe() got an unexpected keyword argument 'return_cut_dict'"
     ]
    }
   ],
   "source": [
    "df_sim, cut_dict_sim = comp.load_dataframe(datatype='sim', config=config, return_cut_dict=True)\n",
    "selection_mask = np.array([True] * len(df_sim))\n",
    "# standard_cut_keys = ['IceTopQualityCuts', 'lap_InIce_containment',\n",
    "# #                 'num_hits_1_60', 'max_qfrac_1_60',\n",
    "#                 'InIceQualityCuts', 'num_hits_1_60']\n",
    "\n",
    "standard_cut_keys = ['passed_IceTopQualityCuts', 'FractionContainment_Laputop_InIce',\n",
    "                     'passed_InIceQualityCuts', 'num_hits_1_60']\n",
    "# for cut in ['MilliNCascAbove2', 'MilliQtotRatio', 'MilliRloglBelow2', 'StochRecoSucceeded']:\n",
    "#     standard_cut_keys += ['InIceQualityCuts_{}'.format(cut)]\n",
    "    \n",
    "for key in standard_cut_keys:\n",
    "    selection_mask *= cut_dict_sim[key]\n",
    "    print(key, np.sum(selection_mask))\n",
    "\n",
    "df_sim = df_sim[selection_mask]"
   ]
  },
  {
   "cell_type": "markdown",
   "metadata": {},
   "source": [
    "#### Define energy binning for this analysis"
   ]
  },
  {
   "cell_type": "code",
   "execution_count": 70,
   "metadata": {
    "collapsed": true
   },
   "outputs": [],
   "source": [
    "log_energy_bins = np.arange(5.0, 9.51, 0.05)\n",
    "# log_energy_bins = np.arange(5.0, 9.51, 0.1)\n",
    "energy_bins = 10**log_energy_bins\n",
    "energy_midpoints = (energy_bins[1:] + energy_bins[:-1]) / 2\n",
    "\n",
    "energy_min_fit, energy_max_fit = 5.8, 6.5\n",
    "midpoints_fitmask = (energy_midpoints >= 10**energy_min_fit) & (energy_midpoints <= 10**energy_max_fit)"
   ]
  },
  {
   "cell_type": "code",
   "execution_count": 57,
   "metadata": {},
   "outputs": [
    {
     "data": {
      "text/plain": [
       "array([ 5.  ,  5.05,  5.1 ,  5.15,  5.2 ,  5.25,  5.3 ,  5.35,  5.4 ,\n",
       "        5.45,  5.5 ,  5.55,  5.6 ,  5.65,  5.7 ,  5.75,  5.8 ,  5.85,\n",
       "        5.9 ,  5.95,  6.  ,  6.05,  6.1 ,  6.15,  6.2 ,  6.25,  6.3 ,\n",
       "        6.35,  6.4 ,  6.45,  6.5 ,  6.55,  6.6 ,  6.65,  6.7 ,  6.75,\n",
       "        6.8 ,  6.85,  6.9 ,  6.95,  7.  ,  7.05,  7.1 ,  7.15,  7.2 ,\n",
       "        7.25,  7.3 ,  7.35,  7.4 ,  7.45,  7.5 ,  7.55,  7.6 ,  7.65,\n",
       "        7.7 ,  7.75,  7.8 ,  7.85,  7.9 ,  7.95,  8.  ,  8.05,  8.1 ,\n",
       "        8.15,  8.2 ,  8.25,  8.3 ,  8.35,  8.4 ,  8.45,  8.5 ,  8.55,\n",
       "        8.6 ,  8.65,  8.7 ,  8.75,  8.8 ,  8.85,  8.9 ,  8.95,  9.  ,\n",
       "        9.05,  9.1 ,  9.15,  9.2 ,  9.25,  9.3 ,  9.35,  9.4 ,  9.45,  9.5 ])"
      ]
     },
     "execution_count": 57,
     "metadata": {},
     "output_type": "execute_result"
    }
   ],
   "source": [
    "log_energy_bins"
   ]
  },
  {
   "cell_type": "code",
   "execution_count": 58,
   "metadata": {},
   "outputs": [
    {
     "data": {
      "text/plain": [
       "array([ 5.82571916,  5.87571916,  5.92571916,  5.97571916,  6.02571916,\n",
       "        6.07571916,  6.12571916,  6.17571916,  6.22571916,  6.27571916,\n",
       "        6.32571916,  6.37571916,  6.42571916,  6.47571916,  6.52571916,\n",
       "        6.57571916,  6.62571916,  6.67571916,  6.72571916,  6.77571916,\n",
       "        6.82571916,  6.87571916,  6.92571916,  6.97571916,  7.02571916,\n",
       "        7.07571916,  7.12571916,  7.17571916,  7.22571916,  7.27571916,\n",
       "        7.32571916,  7.37571916,  7.42571916,  7.47571916,  7.52571916,\n",
       "        7.57571916,  7.62571916,  7.67571916,  7.72571916,  7.77571916,\n",
       "        7.82571916,  7.87571916,  7.92571916,  7.97571916,  8.02571916,\n",
       "        8.07571916])"
      ]
     },
     "execution_count": 58,
     "metadata": {},
     "output_type": "execute_result"
    }
   ],
   "source": [
    "np.log10(energy_midpoints[midpoints_fitmask])"
   ]
  },
  {
   "cell_type": "markdown",
   "metadata": {},
   "source": [
    "### Define functions to be fit to effective area"
   ]
  },
  {
   "cell_type": "code",
   "execution_count": 59,
   "metadata": {
    "collapsed": true
   },
   "outputs": [],
   "source": [
    "def constant(energy, c):\n",
    "    return c\n",
    "\n",
    "def linefit(energy, m, b):\n",
    "    return m*np.log10(energy) + b\n",
    "\n",
    "def sigmoid_flat(energy, p0, p1, p2):\n",
    "    return p0 / (1 + np.exp(-p1*np.log10(energy) + p2))\n",
    "\n",
    "def sigmoid_slant(energy, p0, p1, p2, p3):\n",
    "    return (p0 + p3*np.log10(energy)) / (1 + np.exp(-p1*np.log10(energy) + p2))"
   ]
  },
  {
   "cell_type": "code",
   "execution_count": 60,
   "metadata": {
    "collapsed": true
   },
   "outputs": [],
   "source": [
    "def red_chisquared(obs, fit, sigma, n_params):\n",
    "    return np.sum(((obs - fit)/sigma) ** 2) / (len(obs) - n_params)\n",
    "#     return np.sum(((obs - fit)/sigma) ** 2) / (len(obs) - 1 - n_params)"
   ]
  },
  {
   "cell_type": "code",
   "execution_count": 61,
   "metadata": {},
   "outputs": [
    {
     "data": {
      "text/plain": [
       "43"
      ]
     },
     "execution_count": 61,
     "metadata": {},
     "output_type": "execute_result"
    }
   ],
   "source": [
    "np.sum(midpoints_fitmask)-3"
   ]
  },
  {
   "cell_type": "markdown",
   "metadata": {},
   "source": [
    "### Calculate effective areas"
   ]
  },
  {
   "cell_type": "code",
   "execution_count": 10,
   "metadata": {},
   "outputs": [
    {
     "name": "stdout",
     "output_type": "stream",
     "text": [
      "[ 7.00561438  7.00561438  7.00561438 ...,  7.72806866  7.72806866\n",
      "  7.84396691]\n",
      "[ 94.57502884  94.57502884  94.57502884 ...,  45.39601384  45.39601384\n",
      "  45.39601384]\n",
      "[ 7.00561438  7.00561438  7.00561438 ...,  7.88927431  5.99320701\n",
      "  5.99320701]\n",
      "[ 94.57502884  94.57502884  94.57502884 ...,  45.39601384  20.10619298\n",
      "  20.10619298]\n",
      "[ 7.10245765  7.10245765  7.10245765 ...,  7.72806866  7.72806866\n",
      "  7.84396691]\n",
      "[ 94.57502884  94.57502884  94.57502884 ...,  45.39601384  45.39601384\n",
      "  45.39601384]\n"
     ]
    }
   ],
   "source": [
    "eff_area, eff_area_error = comp.analysis.effective_area.effective_area(df_sim, log_energy_bins)\n",
    "eff_area_light, eff_area_error_light = comp.analysis.effective_area.effective_area(df_sim[df_sim.MC_comp_class == 'light'], log_energy_bins)\n",
    "eff_area_heavy, eff_area_error_heavy = comp.analysis.effective_area.effective_area(df_sim[df_sim.MC_comp_class == 'heavy'], log_energy_bins)"
   ]
  },
  {
   "cell_type": "code",
   "execution_count": 71,
   "metadata": {
    "scrolled": false
   },
   "outputs": [
    {
     "name": "stdout",
     "output_type": "stream",
     "text": [
      "Calculating effective area...\n",
      "simlist = [12360 12362 12630 12631]\n",
      "Simulation set 12360: 19781 files\n",
      "type(sim) = <type 'numpy.int64'>\n",
      "sim = 12360\n",
      "Simulation set 12362: 19808 files\n",
      "type(sim) = <type 'numpy.int64'>\n",
      "sim = 12362\n",
      "Simulation set 12630: 19787 files\n",
      "type(sim) = <type 'numpy.int64'>\n",
      "sim = 12630\n",
      "Simulation set 12631: 19834 files\n",
      "type(sim) = <type 'numpy.int64'>\n",
      "sim = 12631\n",
      "num_ptypes = 4\n",
      "Calculating effective area...\n",
      "simlist = [12360 12630]\n",
      "Simulation set 12360: 19781 files\n",
      "type(sim) = <type 'numpy.int64'>\n",
      "sim = 12360\n",
      "Simulation set 12630: 19787 files\n",
      "type(sim) = <type 'numpy.int64'>\n",
      "sim = 12630\n",
      "num_ptypes = 2\n",
      "Calculating effective area...\n",
      "simlist = [12362 12631]\n",
      "Simulation set 12362: 19808 files\n",
      "type(sim) = <type 'numpy.int64'>\n",
      "sim = 12362\n",
      "Simulation set 12631: 19834 files\n",
      "type(sim) = <type 'numpy.int64'>\n",
      "sim = 12631\n",
      "num_ptypes = 2\n"
     ]
    }
   ],
   "source": [
    "eff_area, eff_area_error, _ = comp.analysis.get_effective_area(df_sim,\n",
    "                                                                energy_bins, energy='MC')\n",
    "eff_area_light, eff_area_error_light, _ = comp.analysis.get_effective_area(\n",
    "                                                                df_sim[df_sim.MC_comp_class == 'light'],\n",
    "                                                                energy_bins, energy='MC')\n",
    "eff_area_heavy, eff_area_error_heavy, _ = comp.analysis.get_effective_area(\n",
    "                                                                df_sim[df_sim.MC_comp_class == 'heavy'],\n",
    "                                                                energy_bins, energy='MC')"
   ]
  },
  {
   "cell_type": "code",
   "execution_count": 72,
   "metadata": {},
   "outputs": [
    {
     "data": {
      "text/plain": [
       "array([  0.00000000e+00,   0.00000000e+00,   0.00000000e+00,\n",
       "         0.00000000e+00,   0.00000000e+00,   0.00000000e+00,\n",
       "         5.24026972e+01,   5.34145001e+01,   3.26247872e+02,\n",
       "         1.31356318e+03,   8.64194357e+02,   2.88359479e+03,\n",
       "         4.32422452e+03,   8.96141417e+03,   1.21499869e+04,\n",
       "         2.19251818e+04,   3.35217211e+04,   4.60892729e+04,\n",
       "         6.00292849e+04,   8.13773734e+04,   7.84626788e+04,\n",
       "         9.71846210e+04,   1.07211232e+05,   1.23782486e+05,\n",
       "         1.32868673e+05,   1.21280851e+05,   1.31204956e+05,\n",
       "         1.39347403e+05,   1.21366758e+05,   1.30505274e+05,\n",
       "         1.33588715e+05,   1.41885917e+05,   1.47158581e+05,\n",
       "         1.55710566e+05,   1.44095655e+05,   1.53291849e+05,\n",
       "         1.39841590e+05,   1.49307117e+05,   1.33264659e+05,\n",
       "         1.43413024e+05,   1.33854688e+05,   1.36742008e+05,\n",
       "         1.41580651e+05,   1.54560314e+05,   1.34595585e+05,\n",
       "         1.30231468e+05,   1.44190774e+05,   1.51709532e+05,\n",
       "         1.21735053e+05,   1.36834143e+05,   1.39435180e+05,\n",
       "         1.61788813e+05,   1.29339411e+05,   1.48903444e+05,\n",
       "         1.42750787e+05,   1.39730662e+05,   1.61179526e+05,\n",
       "         1.77414987e+05,   1.25415581e+05,   1.59301968e+05,\n",
       "         0.00000000e+00,   0.00000000e+00,   0.00000000e+00,\n",
       "         0.00000000e+00,   0.00000000e+00,   0.00000000e+00,\n",
       "         0.00000000e+00,   0.00000000e+00,   0.00000000e+00,\n",
       "         0.00000000e+00,   0.00000000e+00,   0.00000000e+00,\n",
       "         0.00000000e+00,   0.00000000e+00,   0.00000000e+00,\n",
       "         0.00000000e+00,   0.00000000e+00,   0.00000000e+00,\n",
       "         0.00000000e+00,   0.00000000e+00,   0.00000000e+00,\n",
       "         0.00000000e+00,   0.00000000e+00,   0.00000000e+00,\n",
       "         0.00000000e+00,   0.00000000e+00,   0.00000000e+00,\n",
       "         0.00000000e+00,   0.00000000e+00,   0.00000000e+00])"
      ]
     },
     "execution_count": 72,
     "metadata": {},
     "output_type": "execute_result"
    }
   ],
   "source": [
    "eff_area_light"
   ]
  },
  {
   "cell_type": "markdown",
   "metadata": {},
   "source": [
    "#### Fit functions to effective area data"
   ]
  },
  {
   "cell_type": "code",
   "execution_count": 73,
   "metadata": {},
   "outputs": [],
   "source": [
    "p0 = [1.4e5, 8.0, 50.0]\n",
    "popt_light, pcov_light = optimize.curve_fit(sigmoid_flat, energy_midpoints[midpoints_fitmask],\n",
    "                                            eff_area_light[midpoints_fitmask], p0=p0,\n",
    "                                            sigma=eff_area_error_light[midpoints_fitmask])\n",
    "popt_heavy, pcov_heavy = optimize.curve_fit(sigmoid_flat, energy_midpoints[midpoints_fitmask],\n",
    "                                            eff_area_heavy[midpoints_fitmask], p0=p0,\n",
    "                                            sigma=eff_area_error_heavy[midpoints_fitmask])"
   ]
  },
  {
   "cell_type": "code",
   "execution_count": 74,
   "metadata": {},
   "outputs": [
    {
     "name": "stdout",
     "output_type": "stream",
     "text": [
      "[  1.33274283e+05   8.83042383e+00   5.25194152e+01]\n",
      "[  1.39652165e+05   9.17604890e+00   5.54892946e+01]\n"
     ]
    }
   ],
   "source": [
    "print(popt_light)\n",
    "print(popt_heavy)"
   ]
  },
  {
   "cell_type": "code",
   "execution_count": 75,
   "metadata": {},
   "outputs": [
    {
     "name": "stdout",
     "output_type": "stream",
     "text": [
      "[  4.27951751e+03   8.71324548e-01   5.11327917e+00]\n",
      "[  7.08022954e+03   9.05083684e-01   5.33418380e+00]\n"
     ]
    }
   ],
   "source": [
    "perr_light = np.sqrt(np.diag(pcov_light))\n",
    "print(perr_light)\n",
    "perr_heavy = np.sqrt(np.diag(pcov_heavy))\n",
    "print(perr_heavy)"
   ]
  },
  {
   "cell_type": "code",
   "execution_count": 76,
   "metadata": {},
   "outputs": [
    {
     "name": "stdout",
     "output_type": "stream",
     "text": [
      "avg eff area = 136463.224159\n"
     ]
    }
   ],
   "source": [
    "avg = (popt_light[0] + popt_heavy[0]) / 2\n",
    "print('avg eff area = {}'.format(avg))"
   ]
  },
  {
   "cell_type": "code",
   "execution_count": 77,
   "metadata": {},
   "outputs": [
    {
     "name": "stdout",
     "output_type": "stream",
     "text": [
      "4.77470367016\n",
      "9.26628180055\n"
     ]
    }
   ],
   "source": [
    "light_chi2 = red_chisquared(eff_area_light[midpoints_fitmask],\n",
    "               sigmoid_flat(energy_midpoints[midpoints_fitmask], *popt_light),\n",
    "               eff_area_error_light[midpoints_fitmask], len(popt_light))\n",
    "print(light_chi2)\n",
    "heavy_chi2 = red_chisquared(eff_area_heavy[midpoints_fitmask],\n",
    "               sigmoid_flat(energy_midpoints[midpoints_fitmask], *popt_heavy),\n",
    "               eff_area_error_heavy[midpoints_fitmask], len(popt_heavy))\n",
    "print(heavy_chi2)"
   ]
  },
  {
   "cell_type": "markdown",
   "metadata": {},
   "source": [
    "### Plot result"
   ]
  },
  {
   "cell_type": "code",
   "execution_count": 83,
   "metadata": {},
   "outputs": [
    {
     "name": "stdout",
     "output_type": "stream",
     "text": [
      "1431.77\n"
     ]
    },
    {
     "data": {
      "image/png": "[encoded data removed]",
      "text/plain": [
       "<matplotlib.figure.Figure at 0x7ff431a6f810>"
      ]
     },
     "metadata": {},
     "output_type": "display_data"
    }
   ],
   "source": [
    "fig, ax = plt.subplots()\n",
    "# plot effective area data points with poisson errors\n",
    "ax.errorbar(np.log10(energy_midpoints), eff_area_light, yerr=eff_area_error_light,\n",
    "            ls='None', marker='.')\n",
    "ax.errorbar(np.log10(energy_midpoints), eff_area_heavy, yerr=eff_area_error_heavy,\n",
    "            ls='None', marker='.')\n",
    "\n",
    "# plot corresponding sigmoid fits to effective area\n",
    "x = 10**np.arange(5.0, 9.5, 0.01)\n",
    "ax.plot(np.log10(x), sigmoid_flat(x, *popt_light),\n",
    "        color=color_dict['light'], label='light', marker='None', ls='-')\n",
    "ax.plot(np.log10(x), sigmoid_flat(x, *popt_heavy),\n",
    "        color=color_dict['heavy'], label='heavy', marker='None')\n",
    "\n",
    "\n",
    "avg_eff_area = (sigmoid_flat(x, *popt_light) + sigmoid_flat(x, *popt_heavy)) / 2\n",
    "ax.plot(np.log10(x), avg_eff_area,\n",
    "        color=color_dict['total'], label='avg', marker='None')\n",
    "ax.fill_between(np.log10(x),\n",
    "        avg_eff_area-0.01*avg_eff_area,\n",
    "        avg_eff_area+0.01*avg_eff_area,\n",
    "        color=color_dict['total'], alpha=0.5)\n",
    "\n",
    "ax.axvline(6.4, marker='None', ls='-.', color='k')\n",
    "\n",
    "ax.set_ylabel('Effective area [m$^2$]')\n",
    "ax.set_xlabel('$\\mathrm{\\log_{10}(E_{true}/GeV)}$')\n",
    "print(143177.*0.01)\n",
    "# ax.set_title('$\\mathrm{A_{eff} = 143177 \\pm 1431.77 \\ m^2}$')\n",
    "ax.grid()\n",
    "# ax.set_ylim([0, 180000])\n",
    "ax.set_xlim([5.4, 8.1])\n",
    "ax.set_title(config)\n",
    "\n",
    "#set label style        \n",
    "ax.ticklabel_format(style='sci',axis='y')\n",
    "ax.yaxis.major.formatter.set_powerlimits((0,0))\n",
    "\n",
    "leg = plt.legend(title='True composition')\n",
    "for legobj in leg.legendHandles:\n",
    "    legobj.set_linewidth(2.0)\n",
    "\n",
    "eff_area_outfile = os.path.join(comp.paths.figures_dir, 'effective-area-{}.png'.format(config))\n",
    "comp.check_output_dir(eff_area_outfile)\n",
    "plt.savefig(eff_area_outfile)\n",
    "plt.show()"
   ]
  },
  {
   "cell_type": "markdown",
   "metadata": {},
   "source": [
    "Effective area as quality cuts are sequentially applied"
   ]
  },
  {
   "cell_type": "code",
   "execution_count": 19,
   "metadata": {},
   "outputs": [
    {
     "name": "stdout",
     "output_type": "stream",
     "text": [
      "num_hits_1_60 397466\n",
      "Calculating effective area...\n",
      "Simulation set 7006: 30000 files\n",
      "Simulation set 7007: 30000 files\n",
      "Simulation set 7241: 10000 files\n",
      "Simulation set 7242: 10000 files\n",
      "Simulation set 7262: 19999 files\n",
      "Simulation set 7263: 19998 files\n",
      "Simulation set 7579: 12000 files\n",
      "Simulation set 7784: 12000 files\n",
      "Simulation set 7791: 12000 files\n",
      "Simulation set 7851: 12000 files\n",
      "IceTopQualityCuts 397466\n",
      "Calculating effective area...\n",
      "Simulation set 7006: 30000 files\n",
      "Simulation set 7007: 30000 files\n",
      "Simulation set 7241: 10000 files\n",
      "Simulation set 7242: 10000 files\n",
      "Simulation set 7262: 19999 files\n",
      "Simulation set 7263: 19998 files\n",
      "Simulation set 7579: 12000 files\n",
      "Simulation set 7784: 12000 files\n",
      "Simulation set 7791: 12000 files\n",
      "Simulation set 7851: 12000 files\n",
      "lap_InIce_containment 308874\n",
      "Calculating effective area...\n",
      "Simulation set 7006: 30000 files\n",
      "Simulation set 7007: 30000 files\n",
      "Simulation set 7241: 10000 files\n",
      "Simulation set 7242: 10000 files\n",
      "Simulation set 7262: 19999 files\n",
      "Simulation set 7263: 19998 files\n",
      "Simulation set 7579: 12000 files\n",
      "Simulation set 7784: 12000 files\n",
      "Simulation set 7791: 12000 files\n",
      "Simulation set 7851: 12000 files\n",
      "InIceQualityCuts 298466\n",
      "Calculating effective area...\n",
      "Simulation set 7006: 30000 files\n",
      "Simulation set 7007: 30000 files\n",
      "Simulation set 7241: 10000 files\n",
      "Simulation set 7242: 10000 files\n",
      "Simulation set 7262: 19999 files\n",
      "Simulation set 7263: 19998 files\n",
      "Simulation set 7579: 12000 files\n",
      "Simulation set 7784: 12000 files\n",
      "Simulation set 7791: 12000 files\n",
      "Simulation set 7851: 12000 files\n"
     ]
    }
   ],
   "source": [
    "df_sim, cut_dict_sim = comp.load_dataframe(datatype='sim', config='IC79', return_cut_dict=True)\n",
    "standard_cut_keys = ['num_hits_1_60', 'IceTopQualityCuts', 'lap_InIce_containment',\n",
    "#                 'num_hits_1_60', 'max_qfrac_1_60',\n",
    "                'InIceQualityCuts']\n",
    "# for cut in ['MilliNCascAbove2', 'MilliQtotRatio', 'MilliRloglBelow2', 'StochRecoSucceeded']:\n",
    "#     standard_cut_keys += ['InIceQualityCuts_{}'.format(cut)]\n",
    "\n",
    "eff_area_dict = {}\n",
    "eff_area_err_dict = {}\n",
    "selection_mask = np.array([True] * len(df_sim))\n",
    "for key in standard_cut_keys:\n",
    "    selection_mask *= cut_dict_sim[key]\n",
    "    print(key, np.sum(selection_mask))\n",
    "    eff_area, eff_area_error, _ = comp.analysis.get_effective_area(df_sim[selection_mask],\n",
    "                                                                energy_bins, energy='MC')\n",
    "#     eff_area, eff_area_error = comp.analysis.effective_area.effective_area(df_sim[selection_mask],\n",
    "#                                                                            np.arange(5.0, 9.51, 0.1))\n",
    "    eff_area_dict[key] = eff_area\n",
    "    eff_area_err_dict[key] = eff_area_error"
   ]
  },
  {
   "cell_type": "code",
   "execution_count": 20,
   "metadata": {},
   "outputs": [
    {
     "data": {
      "image/png": "[encoded data removed]",
      "text/plain": [
       "<matplotlib.figure.Figure at 0x7fd07c1ab110>"
      ]
     },
     "metadata": {},
     "output_type": "display_data"
    }
   ],
   "source": [
    "fig, ax = plt.subplots()\n",
    "cut_labels = {'num_hits_1_60': 'NStations/NChannels', 'IceTopQualityCuts': 'IceTopQualityCuts',\n",
    "             'lap_InIce_containment': 'InIce containment', 'InIceQualityCuts': 'InIceQualityCuts'}\n",
    "for key in standard_cut_keys:\n",
    "# plot effective area data points with poisson errors\n",
    "    ax.errorbar(np.log10(energy_midpoints), eff_area_dict[key], yerr=eff_area_err_dict[key],\n",
    "                ls='None', marker='.', label=cut_labels[key], alpha=0.75)\n",
    "\n",
    "ax.set_ylabel('Effective area [m$^2$]')\n",
    "ax.set_xlabel('$\\log_{10}(E_{\\mathrm{MC}}/\\mathrm{GeV})$')\n",
    "ax.grid()\n",
    "# ax.set_ylim([0, 180000])\n",
    "ax.set_xlim([5.4, 9.6])\n",
    "\n",
    "#set label style        \n",
    "ax.ticklabel_format(style='sci',axis='y')\n",
    "ax.yaxis.major.formatter.set_powerlimits((0,0))\n",
    "\n",
    "leg = plt.legend()\n",
    "\n",
    "plt.savefig('/home/jbourbeau/public_html/figures/effective-area-cuts.png')\n",
    "plt.show()"
   ]
  },
  {
   "cell_type": "code",
   "execution_count": null,
   "metadata": {
    "collapsed": true
   },
   "outputs": [],
   "source": []
  },
  {
   "cell_type": "code",
   "execution_count": null,
   "metadata": {
    "collapsed": true
   },
   "outputs": [],
   "source": []
  }
 ],
 "metadata": {
  "kernelspec": {
   "display_name": "Python 2",
   "language": "python",
   "name": "python2"
  },
  "language_info": {
   "codemirror_mode": {
    "name": "ipython",
    "version": 2
   },
   "file_extension": ".py",
   "mimetype": "text/x-python",
   "name": "python",
   "nbconvert_exporter": "python",
   "pygments_lexer": "ipython2",
   "version": "2.7.13"
  }
 },
 "nbformat": 4,
 "nbformat_minor": 1
}
