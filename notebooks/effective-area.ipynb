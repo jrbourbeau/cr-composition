{
 "cells": [
  {
   "cell_type": "markdown",
   "metadata": {},
   "source": [
    "<a id='top'> </a>\n",
    "Author: [James Bourbeau](http://www.jamesbourbeau.com)"
   ]
  },
  {
   "cell_type": "code",
   "execution_count": 1,
   "metadata": {},
   "outputs": [
    {
     "name": "stdout",
     "output_type": "stream",
     "text": [
      "last updated: 2017-05-01 \n",
      "\n",
      "CPython 2.7.10\n",
      "IPython 5.3.0\n",
      "\n",
      "numpy 1.12.1\n",
      "matplotlib 2.0.0\n",
      "scipy 0.19.0\n",
      "pandas 0.19.2\n",
      "sklearn 0.18.1\n",
      "mlxtend 0.6.0\n"
     ]
    }
   ],
   "source": [
    "%load_ext watermark\n",
    "%watermark -u -d -v -p numpy,matplotlib,scipy,pandas,sklearn,mlxtend"
   ]
  },
  {
   "cell_type": "markdown",
   "metadata": {},
   "source": [
    "# Cosmic-ray composition effective area analysis\n",
    "### Table of contents\n",
    "1. [Load simulation DataFrame and apply quality cuts](#Load-simulation-DataFrame-and-apply-quality-cuts)\n",
    "2. [Define functions to be fit to effective area](#Define-functions-to-be-fit-to-effective-area)\n",
    "3. [Calculate effective areas](#Calculate-effective-areas)\n",
    "4. [Plot result](#Plot-result)"
   ]
  },
  {
   "cell_type": "code",
   "execution_count": 2,
   "metadata": {},
   "outputs": [
    {
     "name": "stderr",
     "output_type": "stream",
     "text": [
      "/home/jbourbeau/.local/lib/python2.7/site-packages/sklearn/cross_validation.py:44: DeprecationWarning: This module was deprecated in version 0.18 in favor of the model_selection module into which all the refactored classes and functions are moved. Also note that the interface of the new CV iterators are different from that of this module. This module will be removed in 0.20.\n",
      "  \"This module will be removed in 0.20.\", DeprecationWarning)\n"
     ]
    }
   ],
   "source": [
    "%matplotlib inline\n",
    "from __future__ import division, print_function\n",
    "from collections import defaultdict\n",
    "import numpy as np\n",
    "from scipy import optimize\n",
    "from scipy.stats import chisquare\n",
    "import pandas as pd\n",
    "import matplotlib.pyplot as plt\n",
    "import seaborn.apionly as sns\n",
    "\n",
    "import comptools as comp\n",
    "\n",
    "color_dict = comp.analysis.get_color_dict()"
   ]
  },
  {
   "cell_type": "markdown",
   "metadata": {},
   "source": [
    "### Load simulation DataFrame and apply quality cuts\n",
    "[ [back to top](#top) ]"
   ]
  },
  {
   "cell_type": "code",
   "execution_count": 17,
   "metadata": {},
   "outputs": [
    {
     "name": "stdout",
     "output_type": "stream",
     "text": [
      "sim quality cut event flow:\n",
      "             IceTopQualityCuts:    1.0    1.0\n",
      "         lap_InIce_containment:  0.793  0.793\n",
      "              InIceQualityCuts:  0.795   0.76\n",
      "                 num_hits_1_60:  0.997  0.759\n",
      "\n",
      "\n"
     ]
    }
   ],
   "source": [
    "# config = 'IC79'\n",
    "config = 'IC86.2012'\n",
    "df_sim = comp.load_dataframe(datatype='sim', config=config, split=False)"
   ]
  },
  {
   "cell_type": "code",
   "execution_count": 4,
   "metadata": {},
   "outputs": [
    {
     "ename": "TypeError",
     "evalue": "load_dataframe() got an unexpected keyword argument 'return_cut_dict'",
     "output_type": "error",
     "traceback": [
      "\u001b[0;31m\u001b[0m",
      "\u001b[0;31mTypeError\u001b[0mTraceback (most recent call last)",
      "\u001b[0;32m<ipython-input-4-ab53c726d7ad>\u001b[0m in \u001b[0;36m<module>\u001b[0;34m()\u001b[0m\n\u001b[0;32m----> 1\u001b[0;31m \u001b[0mdf_sim\u001b[0m\u001b[0;34m,\u001b[0m \u001b[0mcut_dict_sim\u001b[0m \u001b[0;34m=\u001b[0m \u001b[0mcomp\u001b[0m\u001b[0;34m.\u001b[0m\u001b[0mload_dataframe\u001b[0m\u001b[0;34m(\u001b[0m\u001b[0mdatatype\u001b[0m\u001b[0;34m=\u001b[0m\u001b[0;34m'sim'\u001b[0m\u001b[0;34m,\u001b[0m \u001b[0mconfig\u001b[0m\u001b[0;34m=\u001b[0m\u001b[0;34m'IC79'\u001b[0m\u001b[0;34m,\u001b[0m \u001b[0mreturn_cut_dict\u001b[0m\u001b[0;34m=\u001b[0m\u001b[0mTrue\u001b[0m\u001b[0;34m)\u001b[0m\u001b[0;34m\u001b[0m\u001b[0m\n\u001b[0m\u001b[1;32m      2\u001b[0m \u001b[0mselection_mask\u001b[0m \u001b[0;34m=\u001b[0m \u001b[0mnp\u001b[0m\u001b[0;34m.\u001b[0m\u001b[0marray\u001b[0m\u001b[0;34m(\u001b[0m\u001b[0;34m[\u001b[0m\u001b[0mTrue\u001b[0m\u001b[0;34m]\u001b[0m \u001b[0;34m*\u001b[0m \u001b[0mlen\u001b[0m\u001b[0;34m(\u001b[0m\u001b[0mdf_sim\u001b[0m\u001b[0;34m)\u001b[0m\u001b[0;34m)\u001b[0m\u001b[0;34m\u001b[0m\u001b[0m\n\u001b[1;32m      3\u001b[0m standard_cut_keys = ['IceTopQualityCuts', 'lap_InIce_containment',\n\u001b[1;32m      4\u001b[0m \u001b[0;31m#                 'num_hits_1_60', 'max_qfrac_1_60',\u001b[0m\u001b[0;34m\u001b[0m\u001b[0;34m\u001b[0m\u001b[0m\n\u001b[1;32m      5\u001b[0m                 'InIceQualityCuts', 'num_hits_1_60']\n",
      "\u001b[0;31mTypeError\u001b[0m: load_dataframe() got an unexpected keyword argument 'return_cut_dict'"
     ]
    }
   ],
   "source": [
    "df_sim, cut_dict_sim = comp.load_dataframe(datatype='sim', config='IC79', return_cut_dict=True)\n",
    "selection_mask = np.array([True] * len(df_sim))\n",
    "standard_cut_keys = ['IceTopQualityCuts', 'lap_InIce_containment',\n",
    "#                 'num_hits_1_60', 'max_qfrac_1_60',\n",
    "                'InIceQualityCuts', 'num_hits_1_60']\n",
    "# for cut in ['MilliNCascAbove2', 'MilliQtotRatio', 'MilliRloglBelow2', 'StochRecoSucceeded']:\n",
    "#     standard_cut_keys += ['InIceQualityCuts_{}'.format(cut)]\n",
    "    \n",
    "for key in standard_cut_keys:\n",
    "    selection_mask *= cut_dict_sim[key]\n",
    "    print(key, np.sum(selection_mask))\n",
    "\n",
    "df_sim = df_sim[selection_mask]"
   ]
  },
  {
   "cell_type": "markdown",
   "metadata": {},
   "source": [
    "#### Define energy binning for this analysis"
   ]
  },
  {
   "cell_type": "code",
   "execution_count": 4,
   "metadata": {},
   "outputs": [],
   "source": [
    "log_energy_bins = np.arange(5.0, 9.51, 0.1)\n",
    "energy_bins = 10**log_energy_bins\n",
    "energy_midpoints = (energy_bins[1:] + energy_bins[:-1]) / 2\n",
    "\n",
    "energy_min_fit, energy_max_fit = 5.8, 9.5\n",
    "midpoints_fitmask = (energy_midpoints >= 10**energy_min_fit) & (energy_midpoints <= 10**energy_max_fit)"
   ]
  },
  {
   "cell_type": "code",
   "execution_count": 5,
   "metadata": {},
   "outputs": [
    {
     "data": {
      "text/plain": [
       "array([ 5. ,  5.1,  5.2,  5.3,  5.4,  5.5,  5.6,  5.7,  5.8,  5.9,  6. ,\n",
       "        6.1,  6.2,  6.3,  6.4,  6.5,  6.6,  6.7,  6.8,  6.9,  7. ,  7.1,\n",
       "        7.2,  7.3,  7.4,  7.5,  7.6,  7.7,  7.8,  7.9,  8. ,  8.1,  8.2,\n",
       "        8.3,  8.4,  8.5,  8.6,  8.7,  8.8,  8.9,  9. ,  9.1,  9.2,  9.3,\n",
       "        9.4,  9.5])"
      ]
     },
     "execution_count": 5,
     "metadata": {},
     "output_type": "execute_result"
    }
   ],
   "source": [
    "log_energy_bins"
   ]
  },
  {
   "cell_type": "code",
   "execution_count": 6,
   "metadata": {},
   "outputs": [
    {
     "data": {
      "text/plain": [
       "array([ 5.8528719,  5.9528719,  6.0528719,  6.1528719,  6.2528719,\n",
       "        6.3528719,  6.4528719,  6.5528719,  6.6528719,  6.7528719,\n",
       "        6.8528719,  6.9528719,  7.0528719,  7.1528719,  7.2528719,\n",
       "        7.3528719,  7.4528719,  7.5528719,  7.6528719,  7.7528719,\n",
       "        7.8528719,  7.9528719,  8.0528719,  8.1528719,  8.2528719,\n",
       "        8.3528719,  8.4528719,  8.5528719,  8.6528719,  8.7528719,\n",
       "        8.8528719,  8.9528719,  9.0528719,  9.1528719,  9.2528719,\n",
       "        9.3528719,  9.4528719])"
      ]
     },
     "execution_count": 6,
     "metadata": {},
     "output_type": "execute_result"
    }
   ],
   "source": [
    "np.log10(energy_midpoints[midpoints_fitmask])"
   ]
  },
  {
   "cell_type": "markdown",
   "metadata": {},
   "source": [
    "### Define functions to be fit to effective area"
   ]
  },
  {
   "cell_type": "code",
   "execution_count": 7,
   "metadata": {
    "collapsed": true
   },
   "outputs": [],
   "source": [
    "def constant(energy, c):\n",
    "    return c\n",
    "\n",
    "def linefit(energy, m, b):\n",
    "    return m*np.log10(energy) + b\n",
    "\n",
    "def sigmoid_flat(energy, p0, p1, p2):\n",
    "    return p0 / (1 + np.exp(-p1*np.log10(energy) + p2))\n",
    "\n",
    "def sigmoid_slant(energy, p0, p1, p2, p3):\n",
    "    return (p0 + p3*np.log10(energy)) / (1 + np.exp(-p1*np.log10(energy) + p2))"
   ]
  },
  {
   "cell_type": "code",
   "execution_count": 8,
   "metadata": {},
   "outputs": [],
   "source": [
    "def red_chisquared(obs, fit, sigma, n_params):\n",
    "    return np.sum(((obs - fit)/sigma) ** 2) / (len(obs) - n_params)\n",
    "#     return np.sum(((obs - fit)/sigma) ** 2) / (len(obs) - 1 - n_params)"
   ]
  },
  {
   "cell_type": "code",
   "execution_count": 9,
   "metadata": {},
   "outputs": [
    {
     "data": {
      "text/plain": [
       "34"
      ]
     },
     "execution_count": 9,
     "metadata": {},
     "output_type": "execute_result"
    }
   ],
   "source": [
    "np.sum(midpoints_fitmask)-3"
   ]
  },
  {
   "cell_type": "markdown",
   "metadata": {},
   "source": [
    "### Calculate effective areas"
   ]
  },
  {
   "cell_type": "code",
   "execution_count": 10,
   "metadata": {},
   "outputs": [
    {
     "name": "stdout",
     "output_type": "stream",
     "text": [
      "[ 7.00561438  7.00561438  7.00561438 ...,  7.72806866  7.72806866\n",
      "  7.84396691]\n",
      "[ 94.57502884  94.57502884  94.57502884 ...,  45.39601384  45.39601384\n",
      "  45.39601384]\n",
      "[ 7.00561438  7.00561438  7.00561438 ...,  7.88927431  5.99320701\n",
      "  5.99320701]\n",
      "[ 94.57502884  94.57502884  94.57502884 ...,  45.39601384  20.10619298\n",
      "  20.10619298]\n",
      "[ 7.10245765  7.10245765  7.10245765 ...,  7.72806866  7.72806866\n",
      "  7.84396691]\n",
      "[ 94.57502884  94.57502884  94.57502884 ...,  45.39601384  45.39601384\n",
      "  45.39601384]\n"
     ]
    }
   ],
   "source": [
    "eff_area, eff_area_error = comp.analysis.effective_area.effective_area(df_sim, log_energy_bins)\n",
    "eff_area_light, eff_area_error_light = comp.analysis.effective_area.effective_area(df_sim[df_sim.MC_comp_class == 'light'], log_energy_bins)\n",
    "eff_area_heavy, eff_area_error_heavy = comp.analysis.effective_area.effective_area(df_sim[df_sim.MC_comp_class == 'heavy'], log_energy_bins)"
   ]
  },
  {
   "cell_type": "code",
   "execution_count": 18,
   "metadata": {},
   "outputs": [
    {
     "name": "stdout",
     "output_type": "stream",
     "text": [
      "Calculating effective area...\n",
      "simlist = ['12360' '12362' '12630' '12631']\n",
      "comp_counter = Counter({'He4Nucleus': 1, 'Fe56Nucleus': 1, 'PPlus': 1, 'O16Nucleus': 1})\n",
      "Simulation set 12360: 19781 files\n",
      "Simulation set 12362: 19808 files\n",
      "Simulation set 12630: 19787 files\n",
      "Simulation set 12631: 19834 files\n",
      "num_ptypes = 4\n",
      "Calculating effective area...\n",
      "simlist = ['12360' '12630']\n",
      "comp_counter = Counter({'He4Nucleus': 1, 'PPlus': 1})\n",
      "Simulation set 12360: 19781 files\n",
      "Simulation set 12630: 19787 files\n",
      "num_ptypes = 2\n",
      "Calculating effective area...\n",
      "simlist = ['12362' '12631']\n",
      "comp_counter = Counter({'Fe56Nucleus': 1, 'O16Nucleus': 1})\n",
      "Simulation set 12362: 19808 files\n",
      "Simulation set 12631: 19834 files\n",
      "num_ptypes = 2\n"
     ]
    }
   ],
   "source": [
    "eff_area, eff_area_error, _ = comp.analysis.get_effective_area(df_sim,\n",
    "                                                                energy_bins, energy='MC')\n",
    "eff_area_light, eff_area_error_light, _ = comp.analysis.get_effective_area(\n",
    "                                                                df_sim[df_sim.MC_comp_class == 'light'],\n",
    "                                                                energy_bins, energy='MC')\n",
    "eff_area_heavy, eff_area_error_heavy, _ = comp.analysis.get_effective_area(\n",
    "                                                                df_sim[df_sim.MC_comp_class == 'heavy'],\n",
    "                                                                energy_bins, energy='MC')"
   ]
  },
  {
   "cell_type": "code",
   "execution_count": 19,
   "metadata": {},
   "outputs": [
    {
     "data": {
      "text/plain": [
       "array([  0.00000000e+00,   0.00000000e+00,   0.00000000e+00,\n",
       "         5.29376885e+01,   8.48291398e+02,   1.93195347e+03,\n",
       "         6.77614116e+03,   1.73186267e+04,   4.01668212e+04,\n",
       "         7.13170987e+04,   8.83619163e+04,   1.15973292e+05,\n",
       "         1.26741605e+05,   1.35510280e+05,   1.26198754e+05,\n",
       "         1.37975865e+05,   1.51680448e+05,   1.48958148e+05,\n",
       "         1.44846492e+05,   1.38630613e+05,   1.35381360e+05,\n",
       "         1.48443655e+05,   1.32288056e+05,   1.48166321e+05,\n",
       "         1.29718706e+05,   1.51254676e+05,   1.39683905e+05,\n",
       "         1.41153894e+05,   1.69764035e+05,   1.43333027e+05,\n",
       "         0.00000000e+00,   0.00000000e+00,   0.00000000e+00,\n",
       "         0.00000000e+00,   0.00000000e+00,   0.00000000e+00,\n",
       "         0.00000000e+00,   0.00000000e+00,   0.00000000e+00,\n",
       "         0.00000000e+00,   0.00000000e+00,   0.00000000e+00,\n",
       "         0.00000000e+00,   0.00000000e+00,   0.00000000e+00])"
      ]
     },
     "execution_count": 19,
     "metadata": {},
     "output_type": "execute_result"
    }
   ],
   "source": [
    "eff_area_light"
   ]
  },
  {
   "cell_type": "markdown",
   "metadata": {},
   "source": [
    "#### Fit functions to effective area data"
   ]
  },
  {
   "cell_type": "code",
   "execution_count": 20,
   "metadata": {},
   "outputs": [
    {
     "name": "stderr",
     "output_type": "stream",
     "text": [
      "/home/jbourbeau/.local/lib/python2.7/site-packages/scipy/optimize/minpack.py:713: RuntimeWarning: divide by zero encountered in true_divide\n",
      "  transform = 1.0 / sigma\n",
      "/home/jbourbeau/.local/lib/python2.7/site-packages/scipy/optimize/minpack.py:779: OptimizeWarning: Covariance of the parameters could not be estimated\n",
      "  category=OptimizeWarning)\n"
     ]
    }
   ],
   "source": [
    "p0 = [1.4e5, 8.0, 50.0]\n",
    "popt_light, pcov_light = optimize.curve_fit(sigmoid_flat, energy_midpoints[midpoints_fitmask],\n",
    "                                            eff_area_light[midpoints_fitmask], p0=p0,\n",
    "                                            sigma=eff_area_error_light[midpoints_fitmask])\n",
    "popt_heavy, pcov_heavy = optimize.curve_fit(sigmoid_flat, energy_midpoints[midpoints_fitmask],\n",
    "                                            eff_area_heavy[midpoints_fitmask], p0=p0,\n",
    "                                            sigma=eff_area_error_heavy[midpoints_fitmask])"
   ]
  },
  {
   "cell_type": "code",
   "execution_count": 21,
   "metadata": {},
   "outputs": [
    {
     "name": "stdout",
     "output_type": "stream",
     "text": [
      "[  1.40000000e+05   8.00000000e+00   5.00000000e+01]\n",
      "[  1.40000000e+05   8.00000000e+00   5.00000000e+01]\n"
     ]
    }
   ],
   "source": [
    "print(popt_light)\n",
    "print(popt_heavy)"
   ]
  },
  {
   "cell_type": "code",
   "execution_count": 22,
   "metadata": {},
   "outputs": [
    {
     "name": "stdout",
     "output_type": "stream",
     "text": [
      "[ inf  inf  inf]\n",
      "[ inf  inf  inf]\n"
     ]
    }
   ],
   "source": [
    "perr_light = np.sqrt(np.diag(pcov_light))\n",
    "print(perr_light)\n",
    "perr_heavy = np.sqrt(np.diag(pcov_heavy))\n",
    "print(perr_heavy)"
   ]
  },
  {
   "cell_type": "code",
   "execution_count": 23,
   "metadata": {},
   "outputs": [
    {
     "name": "stdout",
     "output_type": "stream",
     "text": [
      "avg eff area = 140000.0\n"
     ]
    }
   ],
   "source": [
    "avg = (popt_light[0] + popt_heavy[0]) / 2\n",
    "print('avg eff area = {}'.format(avg))"
   ]
  },
  {
   "cell_type": "code",
   "execution_count": 24,
   "metadata": {},
   "outputs": [
    {
     "name": "stdout",
     "output_type": "stream",
     "text": [
      "inf\n",
      "inf\n"
     ]
    },
    {
     "name": "stderr",
     "output_type": "stream",
     "text": [
      "/home/jbourbeau/.local/lib/python2.7/site-packages/ipykernel_launcher.py:2: RuntimeWarning: divide by zero encountered in true_divide\n",
      "  \n"
     ]
    }
   ],
   "source": [
    "light_chi2 = red_chisquared(eff_area_light[midpoints_fitmask],\n",
    "               sigmoid_flat(energy_midpoints[midpoints_fitmask], *popt_light),\n",
    "               eff_area_error_light[midpoints_fitmask], len(popt_light))\n",
    "print(light_chi2)\n",
    "heavy_chi2 = red_chisquared(eff_area_heavy[midpoints_fitmask],\n",
    "               sigmoid_flat(energy_midpoints[midpoints_fitmask], *popt_heavy),\n",
    "               eff_area_error_heavy[midpoints_fitmask], len(popt_heavy))\n",
    "print(heavy_chi2)"
   ]
  },
  {
   "cell_type": "markdown",
   "metadata": {},
   "source": [
    "### Plot result"
   ]
  },
  {
   "cell_type": "code",
   "execution_count": 25,
   "metadata": {},
   "outputs": [
    {
     "name": "stdout",
     "output_type": "stream",
     "text": [
      "1431.77\n"
     ]
    },
    {
     "data": {
      "image/png": "[encoded data removed]",
      "text/plain": [
       "<matplotlib.figure.Figure at 0x7fe1b3604a10>"
      ]
     },
     "metadata": {},
     "output_type": "display_data"
    }
   ],
   "source": [
    "fig, ax = plt.subplots()\n",
    "# plot effective area data points with poisson errors\n",
    "ax.errorbar(np.log10(energy_midpoints), eff_area_light, yerr=eff_area_error_light,\n",
    "            ls='None', marker='.')\n",
    "ax.errorbar(np.log10(energy_midpoints), eff_area_heavy, yerr=eff_area_error_heavy,\n",
    "            ls='None', marker='.')\n",
    "\n",
    "# plot corresponding sigmoid fits to effective area\n",
    "x = 10**np.arange(5.0, 9.5, 0.01)\n",
    "ax.plot(np.log10(x), sigmoid_flat(x, *popt_light),\n",
    "        color=color_dict['light'], label='light', marker='None')\n",
    "ax.plot(np.log10(x), sigmoid_flat(x, *popt_heavy),\n",
    "        color=color_dict['heavy'], label='heavy', marker='None')\n",
    "\n",
    "\n",
    "avg_eff_area = (sigmoid_flat(x, *popt_light) + sigmoid_flat(x, *popt_heavy)) / 2\n",
    "ax.plot(np.log10(x), avg_eff_area,\n",
    "        color=color_dict['total'], label='avg', marker='None')\n",
    "ax.fill_between(np.log10(x),\n",
    "        avg_eff_area-0.01*avg_eff_area,\n",
    "        avg_eff_area+0.01*avg_eff_area,\n",
    "        color=color_dict['total'], alpha=0.5)\n",
    "\n",
    "ax.axvline(6.4, marker='None', ls='-.', color='k')\n",
    "\n",
    "ax.set_ylabel('Effective area [m$^2$]')\n",
    "ax.set_xlabel('$\\mathrm{\\log_{10}(E_{true}/GeV)}$')\n",
    "print(143177.*0.01)\n",
    "# ax.set_title('$\\mathrm{A_{eff} = 143177 \\pm 1431.77 \\ m^2}$')\n",
    "ax.grid()\n",
    "# ax.set_ylim([0, 180000])\n",
    "ax.set_xlim([5.4, 9.6])\n",
    "\n",
    "#set label style        \n",
    "ax.ticklabel_format(style='sci',axis='y')\n",
    "ax.yaxis.major.formatter.set_powerlimits((0,0))\n",
    "\n",
    "leg = plt.legend(title='True composition')\n",
    "for legobj in leg.legendHandles:\n",
    "    legobj.set_linewidth(2.0)\n",
    "\n",
    "plt.savefig('/home/jbourbeau/public_html/figures/effective-area.png')\n",
    "plt.show()"
   ]
  },
  {
   "cell_type": "markdown",
   "metadata": {},
   "source": [
    "Effective area as quality cuts are sequentially applied"
   ]
  },
  {
   "cell_type": "code",
   "execution_count": 19,
   "metadata": {},
   "outputs": [
    {
     "name": "stdout",
     "output_type": "stream",
     "text": [
      "num_hits_1_60 397466\n",
      "Calculating effective area...\n",
      "Simulation set 7006: 30000 files\n",
      "Simulation set 7007: 30000 files\n",
      "Simulation set 7241: 10000 files\n",
      "Simulation set 7242: 10000 files\n",
      "Simulation set 7262: 19999 files\n",
      "Simulation set 7263: 19998 files\n",
      "Simulation set 7579: 12000 files\n",
      "Simulation set 7784: 12000 files\n",
      "Simulation set 7791: 12000 files\n",
      "Simulation set 7851: 12000 files\n",
      "IceTopQualityCuts 397466\n",
      "Calculating effective area...\n",
      "Simulation set 7006: 30000 files\n",
      "Simulation set 7007: 30000 files\n",
      "Simulation set 7241: 10000 files\n",
      "Simulation set 7242: 10000 files\n",
      "Simulation set 7262: 19999 files\n",
      "Simulation set 7263: 19998 files\n",
      "Simulation set 7579: 12000 files\n",
      "Simulation set 7784: 12000 files\n",
      "Simulation set 7791: 12000 files\n",
      "Simulation set 7851: 12000 files\n",
      "lap_InIce_containment 308874\n",
      "Calculating effective area...\n",
      "Simulation set 7006: 30000 files\n",
      "Simulation set 7007: 30000 files\n",
      "Simulation set 7241: 10000 files\n",
      "Simulation set 7242: 10000 files\n",
      "Simulation set 7262: 19999 files\n",
      "Simulation set 7263: 19998 files\n",
      "Simulation set 7579: 12000 files\n",
      "Simulation set 7784: 12000 files\n",
      "Simulation set 7791: 12000 files\n",
      "Simulation set 7851: 12000 files\n",
      "InIceQualityCuts 298466\n",
      "Calculating effective area...\n",
      "Simulation set 7006: 30000 files\n",
      "Simulation set 7007: 30000 files\n",
      "Simulation set 7241: 10000 files\n",
      "Simulation set 7242: 10000 files\n",
      "Simulation set 7262: 19999 files\n",
      "Simulation set 7263: 19998 files\n",
      "Simulation set 7579: 12000 files\n",
      "Simulation set 7784: 12000 files\n",
      "Simulation set 7791: 12000 files\n",
      "Simulation set 7851: 12000 files\n"
     ]
    }
   ],
   "source": [
    "df_sim, cut_dict_sim = comp.load_dataframe(datatype='sim', config='IC79', return_cut_dict=True)\n",
    "standard_cut_keys = ['num_hits_1_60', 'IceTopQualityCuts', 'lap_InIce_containment',\n",
    "#                 'num_hits_1_60', 'max_qfrac_1_60',\n",
    "                'InIceQualityCuts']\n",
    "# for cut in ['MilliNCascAbove2', 'MilliQtotRatio', 'MilliRloglBelow2', 'StochRecoSucceeded']:\n",
    "#     standard_cut_keys += ['InIceQualityCuts_{}'.format(cut)]\n",
    "\n",
    "eff_area_dict = {}\n",
    "eff_area_err_dict = {}\n",
    "selection_mask = np.array([True] * len(df_sim))\n",
    "for key in standard_cut_keys:\n",
    "    selection_mask *= cut_dict_sim[key]\n",
    "    print(key, np.sum(selection_mask))\n",
    "    eff_area, eff_area_error, _ = comp.analysis.get_effective_area(df_sim[selection_mask],\n",
    "                                                                energy_bins, energy='MC')\n",
    "#     eff_area, eff_area_error = comp.analysis.effective_area.effective_area(df_sim[selection_mask],\n",
    "#                                                                            np.arange(5.0, 9.51, 0.1))\n",
    "    eff_area_dict[key] = eff_area\n",
    "    eff_area_err_dict[key] = eff_area_error"
   ]
  },
  {
   "cell_type": "code",
   "execution_count": 20,
   "metadata": {},
   "outputs": [
    {
     "data": {
      "image/png": "[encoded data removed]",
      "text/plain": [
       "<matplotlib.figure.Figure at 0x7fd07c1ab110>"
      ]
     },
     "metadata": {},
     "output_type": "display_data"
    }
   ],
   "source": [
    "fig, ax = plt.subplots()\n",
    "cut_labels = {'num_hits_1_60': 'NStations/NChannels', 'IceTopQualityCuts': 'IceTopQualityCuts',\n",
    "             'lap_InIce_containment': 'InIce containment', 'InIceQualityCuts': 'InIceQualityCuts'}\n",
    "for key in standard_cut_keys:\n",
    "# plot effective area data points with poisson errors\n",
    "    ax.errorbar(np.log10(energy_midpoints), eff_area_dict[key], yerr=eff_area_err_dict[key],\n",
    "                ls='None', marker='.', label=cut_labels[key], alpha=0.75)\n",
    "\n",
    "ax.set_ylabel('Effective area [m$^2$]')\n",
    "ax.set_xlabel('$\\log_{10}(E_{\\mathrm{MC}}/\\mathrm{GeV})$')\n",
    "ax.grid()\n",
    "# ax.set_ylim([0, 180000])\n",
    "ax.set_xlim([5.4, 9.6])\n",
    "\n",
    "#set label style        \n",
    "ax.ticklabel_format(style='sci',axis='y')\n",
    "ax.yaxis.major.formatter.set_powerlimits((0,0))\n",
    "\n",
    "leg = plt.legend()\n",
    "\n",
    "plt.savefig('/home/jbourbeau/public_html/figures/effective-area-cuts.png')\n",
    "plt.show()"
   ]
  },
  {
   "cell_type": "code",
   "execution_count": null,
   "metadata": {
    "collapsed": true
   },
   "outputs": [],
   "source": []
  },
  {
   "cell_type": "code",
   "execution_count": null,
   "metadata": {
    "collapsed": true
   },
   "outputs": [],
   "source": []
  }
 ],
 "metadata": {
  "kernelspec": {
   "display_name": "Python 2",
   "language": "python",
   "name": "python2"
  },
  "language_info": {
   "codemirror_mode": {
    "name": "ipython",
    "version": 2
   },
   "file_extension": ".py",
   "mimetype": "text/x-python",
   "name": "python",
   "nbconvert_exporter": "python",
   "pygments_lexer": "ipython2",
   "version": "2.7.10"
  }
 },
 "nbformat": 4,
 "nbformat_minor": 1
}
