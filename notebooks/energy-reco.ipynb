{
 "cells": [
  {
   "cell_type": "markdown",
   "metadata": {},
   "source": [
    "<a id='top'> </a>\n",
    "Author: [James Bourbeau](http://www.jamesbourbeau.com)"
   ]
  },
  {
   "cell_type": "code",
   "execution_count": 1,
   "metadata": {},
   "outputs": [
    {
     "name": "stdout",
     "output_type": "stream",
     "text": [
      "last updated: 2017-10-16 \n",
      "\n",
      "CPython 2.7.13\n",
      "IPython 5.3.0\n",
      "\n",
      "numpy 1.12.1\n",
      "scipy 0.19.0\n",
      "pandas 0.20.1\n",
      "sklearn 0.19.0\n",
      "mlxtend 0.7.0\n"
     ]
    }
   ],
   "source": [
    "%load_ext watermark\n",
    "%watermark -u -d -v -p numpy,scipy,pandas,sklearn,mlxtend"
   ]
  },
  {
   "cell_type": "markdown",
   "metadata": {},
   "source": [
    "# Energy reconstruction via ML regression\n",
    "### Table of contents\n",
    "1. [Data preprocessing](#Data-preprocessing)\n",
    "2. [Weight simulation events to spectrum](#Weight-simulation-events-to-spectrum)\n",
    "3. [S125 verification](#S125-verification)\n",
    "4. [$\\log_{10}(\\mathrm{dE/dX})$ verification](#$\\log_{10}(\\mathrm{dE/dX})$-verification)"
   ]
  },
  {
   "cell_type": "code",
   "execution_count": 2,
   "metadata": {},
   "outputs": [
    {
     "name": "stderr",
     "output_type": "stream",
     "text": [
      "/home/jbourbeau/.virtualenvs/composition/lib/python2.7/site-packages/sklearn/cross_validation.py:41: DeprecationWarning: This module was deprecated in version 0.18 in favor of the model_selection module into which all the refactored classes and functions are moved. Also note that the interface of the new CV iterators are different from that of this module. This module will be removed in 0.20.\n",
      "  \"This module will be removed in 0.20.\", DeprecationWarning)\n"
     ]
    }
   ],
   "source": [
    "from __future__ import division, print_function\n",
    "import os\n",
    "from collections import defaultdict\n",
    "import numpy as np\n",
    "import pandas as pd\n",
    "import matplotlib.pyplot as plt\n",
    "import matplotlib.gridspec as gridspec\n",
    "from matplotlib.colors import LogNorm\n",
    "import seaborn.apionly as sns\n",
    "import dask\n",
    "from dask import delayed, multiprocessing\n",
    "from dask.diagnostics import ProgressBar\n",
    "from sklearn.ensemble import RandomForestRegressor, GradientBoostingRegressor\n",
    "from sklearn.svm import SVR\n",
    "from sklearn.model_selection import (validation_curve, cross_val_score,\n",
    "                                     cross_val_predict, GridSearchCV, \n",
    "                                     cross_validate, KFold)\n",
    "from sklearn.metrics import accuracy_score, mean_squared_error, r2_score, make_scorer\n",
    "\n",
    "import comptools as comp\n",
    "import comptools.analysis.plotting as plotting\n",
    "\n",
    "color_dict = comp.analysis.get_color_dict()\n",
    "\n",
    "%matplotlib inline"
   ]
  },
  {
   "cell_type": "markdown",
   "metadata": {},
   "source": [
    "# Data preprocessing\n",
    "[ [back to top](#top) ]\n",
    "1. Load simulation/data dataframe and apply specified quality cuts\n",
    "2. Extract desired features from dataframe\n",
    "3. Get separate testing and training datasets\n",
    "4. Feature selection"
   ]
  },
  {
   "cell_type": "markdown",
   "metadata": {},
   "source": [
    "## Define analysis parameters and load simulation"
   ]
  },
  {
   "cell_type": "code",
   "execution_count": 40,
   "metadata": {
    "collapsed": true
   },
   "outputs": [],
   "source": [
    "# feature_list = ['lap_cos_zenith', 'log_s125']\n",
    "# feature_list = ['log_s80', 'log_s125', 'log_s250', 'lap_cos_zenith',\n",
    "#                 'FractionContainment_Laputop_IceTop', 'NStations']\n",
    "\n",
    "# feature_list = ['log_s50', 'log_s125', 'log_s250', 'lap_cos_zenith', 'NStations', 'FractionContainment_Laputop_IceTop',\n",
    "#                 'log_dEdX']\n",
    "# feature_labels = ['$\\mathrm{\\log_{10}(S_{50})}$', '$\\mathrm{\\log_{10}(S_{125})}$', '$\\mathrm{\\log_{10}(S_{250})}$', \n",
    "#                   '$\\mathrm{\\cos(\\\\theta)}$', 'NStations', 'IT Conainment', '$\\mathrm{\\log_{10}(dE/dX)}$']\n",
    "\n",
    "# config = 'IC86.2012'\n",
    "config = 'IC79.2010'\n",
    "num_groups = 2\n",
    "comp_list = comp.get_comp_list(num_groups=num_groups)\n",
    "feature_list, feature_labels = comp.get_training_features()\n",
    "pipeline_str = 'RF_energy_{}'.format(config)\n",
    "energybins = comp.analysis.get_energybins()"
   ]
  },
  {
   "cell_type": "code",
   "execution_count": 41,
   "metadata": {},
   "outputs": [
    {
     "data": {
      "text/plain": [
       "['lap_cos_zenith', 'log_s125', 'log_dEdX']"
      ]
     },
     "execution_count": 41,
     "metadata": {},
     "output_type": "execute_result"
    }
   ],
   "source": [
    "feature_list"
   ]
  },
  {
   "cell_type": "code",
   "execution_count": 42,
   "metadata": {
    "scrolled": true
   },
   "outputs": [
    {
     "name": "stderr",
     "output_type": "stream",
     "text": [
      "/home/jbourbeau/cr-composition/comptools/dataframe_functions.py:157: RuntimeWarning: divide by zero encountered in log10\n",
      "  df['log_d4r_peak_energy'] = np.log10(df['d4r_peak_energy'])\n",
      "/home/jbourbeau/cr-composition/comptools/dataframe_functions.py:158: RuntimeWarning: divide by zero encountered in log10\n",
      "  df['log_d4r_peak_sigma'] = np.log10(df['d4r_peak_sigma'])\n"
     ]
    }
   ],
   "source": [
    "df_sim_train, df_sim_test = comp.load_sim(config=config, log_energy_min=5.0, log_energy_max=None)"
   ]
  },
  {
   "cell_type": "code",
   "execution_count": 43,
   "metadata": {
    "collapsed": true
   },
   "outputs": [],
   "source": [
    "energy_pipeline_dict = comp.load_trained_model(pipeline_str)"
   ]
  },
  {
   "cell_type": "code",
   "execution_count": 44,
   "metadata": {},
   "outputs": [
    {
     "data": {
      "text/plain": [
       "{'pipeline': Pipeline(memory=None,\n",
       "      steps=[('classifier', RandomForestRegressor(bootstrap=True, criterion='mse', max_depth=8,\n",
       "            max_features='auto', max_leaf_nodes=None,\n",
       "            min_impurity_decrease=0.0, min_impurity_split=None,\n",
       "            min_samples_leaf=1, min_samples_split=2,\n",
       "            min_weight_fraction_leaf=0.0, n_estimators=100, n_jobs=10,\n",
       "            oob_score=False, random_state=2, verbose=0, warm_start=False))]),\n",
       " 'save_pipeline_code': '/home/jbourbeau/cr-composition/models/save_energy_reco_model.py',\n",
       " 'sklearn_version': '0.19.0',\n",
       " 'training_features': ('lap_cos_zenith', 'log_s125', 'log_dEdX')}"
      ]
     },
     "execution_count": 44,
     "metadata": {},
     "output_type": "execute_result"
    }
   ],
   "source": [
    "energy_pipeline_dict"
   ]
  },
  {
   "cell_type": "code",
   "execution_count": 45,
   "metadata": {
    "collapsed": true
   },
   "outputs": [],
   "source": [
    "energy_pipeline = energy_pipeline_dict['pipeline']"
   ]
  },
  {
   "cell_type": "code",
   "execution_count": 46,
   "metadata": {
    "collapsed": true
   },
   "outputs": [],
   "source": [
    "df_sim_train['reco_log_energy'] = energy_pipeline.predict(df_sim_train[feature_list])\n",
    "df_sim_test['reco_log_energy'] = energy_pipeline.predict(df_sim_test[feature_list])"
   ]
  },
  {
   "cell_type": "code",
   "execution_count": 53,
   "metadata": {},
   "outputs": [
    {
     "data": {
      "text/plain": [
       "(5.9186237403783517, 5.1365840857113021)"
      ]
     },
     "execution_count": 53,
     "metadata": {},
     "output_type": "execute_result"
    }
   ],
   "source": [
    "df_sim_train['reco_log_energy'].min(), df_sim_train['MC_log_energy'].min()"
   ]
  },
  {
   "cell_type": "markdown",
   "metadata": {},
   "source": [
    "Construct composition masking array for testing and training sets"
   ]
  },
  {
   "cell_type": "code",
   "execution_count": 48,
   "metadata": {
    "collapsed": true
   },
   "outputs": [],
   "source": [
    "comp_mask_train, comp_mask_test = {}, {}\n",
    "for composition in comp_list:\n",
    "    comp_mask_train[composition] = df_sim_train['comp_group_{}'.format(num_groups)] == composition\n",
    "    comp_mask_test[composition] = df_sim_test['comp_group_{}'.format(num_groups)] == composition"
   ]
  },
  {
   "cell_type": "code",
   "execution_count": 49,
   "metadata": {},
   "outputs": [
    {
     "data": {
      "image/png": "[encoded data removed]",
      "text/plain": [
       "<matplotlib.figure.Figure at 0x7fa6b73ade90>"
      ]
     },
     "metadata": {},
     "output_type": "display_data"
    }
   ],
   "source": [
    "fig, ax = plt.subplots()\n",
    "sc = ax.scatter(df_sim_train['MC_log_energy'], df_sim_train['log_s125'],\n",
    "                c=df_sim_train['lap_cos_zenith'], alpha=0.25)\n",
    "ax.set_xlabel('$\\mathrm{\\log_{10}(E_{MC}/GeV)}$')\n",
    "ax.set_ylabel('$\\mathrm{\\log_{10}(S_{125})}$')\n",
    "ax.grid()\n",
    "plt.colorbar(sc, label='$\\mathrm{\\cos(\\\\theta)}$')\n",
    "s125_vs_MC_energy_outfile = os.path.join(comp.paths.figures_dir, 'energy_reco',\n",
    "                                         's125_vs_MC_energy_zenith.png')\n",
    "comp.check_output_dir(s125_vs_MC_energy_outfile)\n",
    "# plt.savefig(s125_vs_MC_energy_outfile)\n",
    "plt.show()"
   ]
  },
  {
   "cell_type": "markdown",
   "metadata": {},
   "source": [
    "## Explore energy reconstruction training features "
   ]
  },
  {
   "cell_type": "markdown",
   "metadata": {},
   "source": [
    "$\\mathrm{\\log_{10}(S_{125})}$ is highly correlated with true energy, and only has a slight composition dependence. This makes it an important training feature in energy reconstruction. "
   ]
  },
  {
   "cell_type": "code",
   "execution_count": 52,
   "metadata": {},
   "outputs": [
    {
     "data": {
      "image/png": "[encoded data removed]",
      "text/plain": [
       "<matplotlib.figure.Figure at 0x7fa6b167dd50>"
      ]
     },
     "metadata": {},
     "output_type": "display_data"
    }
   ],
   "source": [
    "fig, ax = plt.subplots()\n",
    "for composition in comp_list:\n",
    "    log_s125 = df_sim_train.loc[comp_mask_train[composition], 'log_s125']\n",
    "    MC_log_energy = df_sim_train.loc[comp_mask_train[composition], 'MC_log_energy']\n",
    "\n",
    "    _, bin_medians, error = comp.analysis.get_medians(MC_log_energy, log_s125,\n",
    "                                                      energybins.log_energy_bins)\n",
    "    ax.errorbar(energybins.log_energy_midpoints, bin_medians, yerr=error, xerr=0.05, \n",
    "                marker='.', ls='None', label=composition, color=color_dict[composition], alpha=0.75)\n",
    "ax.set_xlabel('$\\mathrm{\\log_{10}(E_{MC}/GeV)}$')\n",
    "ax.set_ylabel('$\\mathrm{\\log_{10}(S_{125})}$')\n",
    "ax.grid()\n",
    "ax.legend()\n",
    "plt.show()"
   ]
  },
  {
   "cell_type": "markdown",
   "metadata": {},
   "source": [
    "$\\mathrm{\\log_{10}(dE/dX)}$ too is correlated with true energy, but has the added benefit of being composition dependent as well. This means that an energy reconstruction regressor can also learn composition-dependence of __________."
   ]
  },
  {
   "cell_type": "code",
   "execution_count": 24,
   "metadata": {
    "collapsed": true
   },
   "outputs": [],
   "source": [
    "h, xedges, yedges  = np.histogram2d(df_sim_test['MC_log_energy'], df_sim_test['log_dEdX'],\n",
    "                                    bins=[np.linspace(6.0, 8.0, 100), np.linspace(-0.5, 3, 100)])\n",
    "\n",
    "extent = [xedges[0], xedges[-1], yedges[0], yedges[-1]]\n",
    "h = np.rot90(h)\n",
    "h = np.flipud(h)"
   ]
  },
  {
   "cell_type": "code",
   "execution_count": 25,
   "metadata": {
    "scrolled": false
   },
   "outputs": [
    {
     "data": {
      "image/png": "[encoded data removed]",
      "text/plain": [
       "<matplotlib.figure.Figure at 0x7fa6deebdf10>"
      ]
     },
     "metadata": {},
     "output_type": "display_data"
    }
   ],
   "source": [
    "fig, ax = plt.subplots()\n",
    "plt.imshow(h, extent=extent, norm=LogNorm(), origin='lower', interpolation='none', aspect='auto')\n",
    "# ax.set_xlim([6.4, 8.0])\n",
    "# ax.set_ylim([6.4, 8.0])\n",
    "ax.set_xlabel('$\\mathrm{\\log_{10}(E_{true}/GeV)}$')\n",
    "ax.set_ylabel('$\\mathrm{\\log_{10}(dE/dX)}$')\n",
    "ax.grid()\n",
    "plt.colorbar(label='Counts')\n",
    "# true_vs_reco_energy_outfile = os.path.join(comp.paths.figures_dir, 'energy_reco',\n",
    "#                                          'MC_vs_reco_energy.png')\n",
    "# comp.check_output_dir(true_vs_reco_energy_outfile)\n",
    "# plt.savefig(true_vs_reco_energy_outfile)\n",
    "plt.show()"
   ]
  },
  {
   "cell_type": "markdown",
   "metadata": {},
   "source": [
    "## Train a RandomForestRegressor to predict shower energy"
   ]
  },
  {
   "cell_type": "markdown",
   "metadata": {},
   "source": [
    "Define scoring function"
   ]
  },
  {
   "cell_type": "code",
   "execution_count": null,
   "metadata": {
    "collapsed": true
   },
   "outputs": [],
   "source": [
    "def median_energy_res(log_energy, log_energy_pred):\n",
    "    return np.median(log_energy-log_energy_pred)\n",
    "scorer = make_scorer(median_energy_res, greater_is_better=False)"
   ]
  },
  {
   "cell_type": "code",
   "execution_count": null,
   "metadata": {
    "collapsed": true
   },
   "outputs": [],
   "source": [
    "# parameters = {'max_depth': np.arange(1, 11), 'n_estimators': np.arange(1, 100, 10)}\n",
    "# gs = GridSearchCV(pipeline, parameters, scoring='neg_mean_squared_error',\n",
    "#                   cv=10, n_jobs=10, verbose=2)\n",
    "\n",
    "# # parameters = {'C': np.linspace(0.01, 1, 10)}\n",
    "# # gs = GridSearchCV(SVR(), parameters, cv=10, n_jobs=10, verbose=2)"
   ]
  },
  {
   "cell_type": "code",
   "execution_count": null,
   "metadata": {
    "collapsed": true,
    "scrolled": true
   },
   "outputs": [],
   "source": [
    "# gs.fit(df_sim_train[feature_list], df_sim_train['MC_log_energy'])\n",
    "# gs.best_params_"
   ]
  },
  {
   "cell_type": "code",
   "execution_count": null,
   "metadata": {
    "collapsed": true
   },
   "outputs": [],
   "source": [
    "# cv_results = pd.DataFrame(gs.cv_results_)"
   ]
  },
  {
   "cell_type": "code",
   "execution_count": 6,
   "metadata": {},
   "outputs": [
    {
     "data": {
      "text/plain": [
       "Pipeline(memory=None,\n",
       "     steps=[('classifier', RandomForestRegressor(bootstrap=True, criterion='mse', max_depth=7,\n",
       "           max_features='auto', max_leaf_nodes=None,\n",
       "           min_impurity_decrease=0.0, min_impurity_split=None,\n",
       "           min_samples_leaf=1, min_samples_split=2,\n",
       "           min_weight_fraction_leaf=0.0, n_estimators=100, n_jobs=10,\n",
       "           oob_score=False, random_state=2, verbose=0, warm_start=False))])"
      ]
     },
     "execution_count": 6,
     "metadata": {},
     "output_type": "execute_result"
    }
   ],
   "source": [
    "# # clf = gs.best_estimator_\n",
    "# pipeline_str = 'RF_energy'\n",
    "# pipeline = comp.get_pipeline(pipeline_str)\n",
    "# pipeline"
   ]
  },
  {
   "cell_type": "code",
   "execution_count": 8,
   "metadata": {
    "collapsed": true
   },
   "outputs": [],
   "source": [
    "# clf = GradientBoostingRegressor(n_estimators=100, learning_rate=0.1, random_state=2)\n",
    "# clf = RandomForestRegressor(n_estimators=100, n_jobs=10, random_state=2)"
   ]
  },
  {
   "cell_type": "code",
   "execution_count": 9,
   "metadata": {},
   "outputs": [
    {
     "name": "stdout",
     "output_type": "stream",
     "text": [
      "[CV]  ................................................................\n",
      "[CV] ................................................. , total=   1.7s\n",
      "[CV]  ................................................................\n"
     ]
    },
    {
     "name": "stderr",
     "output_type": "stream",
     "text": [
      "[Parallel(n_jobs=1)]: Done   1 out of   1 | elapsed:    1.9s remaining:    0.0s\n"
     ]
    },
    {
     "name": "stdout",
     "output_type": "stream",
     "text": [
      "[CV] ................................................. , total=   2.1s\n",
      "[CV]  ................................................................\n",
      "[CV] ................................................. , total=   2.0s\n",
      "[CV]  ................................................................\n",
      "[CV] ................................................. , total=   2.1s\n",
      "[CV]  ................................................................\n",
      "[CV] ................................................. , total=   2.0s\n",
      "[CV]  ................................................................\n",
      "[CV] ................................................. , total=   1.6s\n",
      "[CV]  ................................................................\n",
      "[CV] ................................................. , total=   2.0s\n",
      "[CV]  ................................................................\n",
      "[CV] ................................................. , total=   2.2s\n",
      "[CV]  ................................................................\n",
      "[CV] ................................................. , total=   2.2s\n",
      "[CV]  ................................................................\n",
      "[CV] ................................................. , total=   2.0s\n"
     ]
    },
    {
     "name": "stderr",
     "output_type": "stream",
     "text": [
      "[Parallel(n_jobs=1)]: Done  10 out of  10 | elapsed:   21.6s finished\n"
     ]
    }
   ],
   "source": [
    "cv_results = cross_validate(pipeline, df_sim_train[feature_list], df_sim_train['MC_log_energy'], \n",
    "                            cv=10, verbose=2)"
   ]
  },
  {
   "cell_type": "code",
   "execution_count": 20,
   "metadata": {},
   "outputs": [
    {
     "name": "stdout",
     "output_type": "stream",
     "text": [
      "==============================\n",
      "RandomForestRegressor\n",
      "Training score = 0.990 +/- 1.24e-04\n",
      "Testing score = 0.987 +/- 3.78e-04\n",
      "==============================\n"
     ]
    }
   ],
   "source": [
    "clf_name = pipeline.named_steps['classifier'].__class__.__name__\n",
    "print('=' * 30)\n",
    "print(clf_name)\n",
    "train_score_mean = np.mean(cv_results['train_score'])\n",
    "train_score_std = np.std(cv_results['train_score'])\n",
    "print('Training score = {:0.3f} +/- {:0.2e}'.format(train_score_mean, train_score_std))\n",
    "test_score_mean = np.mean(cv_results['test_score'])\n",
    "test_score_std = np.std(cv_results['test_score'])\n",
    "print('Testing score = {:0.3f} +/- {:0.2e}'.format(test_score_mean, test_score_std))\n",
    "print('=' * 30)"
   ]
  },
  {
   "cell_type": "code",
   "execution_count": 7,
   "metadata": {
    "collapsed": true
   },
   "outputs": [],
   "source": [
    "pipeline = comp.get_pipeline(pipeline_str)\n",
    "pipeline.fit(df_sim_train[feature_list], df_sim_train['MC_log_energy'])\n",
    "reco_log_energy = pipeline.predict(df_sim_test[feature_list])"
   ]
  },
  {
   "cell_type": "code",
   "execution_count": 8,
   "metadata": {},
   "outputs": [
    {
     "data": {
      "text/plain": [
       "array([ 6.47334091,  6.9968418 ,  7.64742117, ...,  7.05748719,\n",
       "        6.3040016 ,  7.43986531])"
      ]
     },
     "execution_count": 8,
     "metadata": {},
     "output_type": "execute_result"
    }
   ],
   "source": [
    "reco_log_energy"
   ]
  },
  {
   "cell_type": "code",
   "execution_count": 71,
   "metadata": {},
   "outputs": [
    {
     "name": "stdout",
     "output_type": "stream",
     "text": [
      "1) 0.994364704285\n",
      "2) 0.00348824930784\n",
      "3) 0.00214704640735\n"
     ]
    },
    {
     "data": {
      "image/png": "[encoded data removed]",
      "text/plain": [
       "<matplotlib.figure.Figure at 0x7f1879d94790>"
      ]
     },
     "metadata": {},
     "output_type": "display_data"
    }
   ],
   "source": [
    "num_features = len(feature_list)\n",
    "importances = pipeline.named_steps['classifier'].feature_importances_\n",
    "indices = np.argsort(importances)[::-1]\n",
    "\n",
    "fig, ax = plt.subplots()\n",
    "for f in range(num_features):\n",
    "    print('{}) {}'.format(f + 1, importances[indices[f]]))\n",
    "\n",
    "ax.set_ylabel('Feature Importance')\n",
    "ax.bar(range(num_features), importances[indices], align='center')\n",
    "plt.xticks(range(num_features), np.array(feature_labels)[indices], rotation=45)\n",
    "ax.set_xlim([-1, len(feature_list)])\n",
    "ax.grid(axis='y')\n",
    "plt.show()"
   ]
  },
  {
   "cell_type": "markdown",
   "metadata": {},
   "source": [
    "## Model validation"
   ]
  },
  {
   "cell_type": "code",
   "execution_count": 17,
   "metadata": {
    "collapsed": true
   },
   "outputs": [],
   "source": [
    "def _cross_validate_comp(df_train, df_test, pipeline_str, \n",
    "                                param_name, param_value,\n",
    "                                feature_list=None, target='comp_target_2', \n",
    "                                scoring='r2', num_groups=2, n_splits=10):\n",
    "    '''Calculates stratified k-fold CV scores for a given hyperparameter value\n",
    "\n",
    "    Parameters\n",
    "    ----------\n",
    "    config : str\n",
    "        Detector configuration.\n",
    "    pipeline_str : str\n",
    "        Name of pipeline to use (e.g. 'BDT', 'RF_energy', etc.).\n",
    "    param_name : str\n",
    "        Name of hyperparameter (e.g. 'max_depth', 'learning_rate', etc.).\n",
    "    param_value : int, float, str\n",
    "        Value to set hyperparameter to.\n",
    "    feature_list : list, optional\n",
    "        List of training feature columns to use (default is to use \n",
    "        comptools.get_training_features()). \n",
    "    target : str, optional\n",
    "        Training target to use (default is 'comp_target_2').\n",
    "    scoring : {'r2', 'mse', 'accuracy'}\n",
    "        Scoring metric to calculate for each CV fold (default is 'r2'). \n",
    "    num_groups : int, optional\n",
    "        Number of composition class groups to use (default is 2). \n",
    "    n_splits : int, optional\n",
    "        Number of folds to use in (KFold) cross-validation\n",
    "        (default is 10).\n",
    "\n",
    "    Returns\n",
    "    -------\n",
    "        data_dict : dict\n",
    "            Return a dictionary with average scores as well as CV errors on those scores.\n",
    "\n",
    "    '''\n",
    "    assert scoring in ['accuracy', 'mse', 'r2'], 'Invalid scoring parameter'\n",
    "    comp_list = comp.get_comp_list(num_groups=num_groups)\n",
    "    if feature_list is None:\n",
    "        feature_list, _ = comp.get_training_features()\n",
    "        \n",
    "    pipeline = comp.get_pipeline(pipeline_str)\n",
    "    pipeline.named_steps['classifier'].set_params(**{param_name: param_value})\n",
    "    # Only run on a single core\n",
    "    pipeline.named_steps['classifier'].set_params(**{'n_jobs': 1})\n",
    "\n",
    "    data_dict = {'classifier': pipeline_str, 'param_name': param_name,\n",
    "                 'param_value': param_value, 'n_splits': n_splits}\n",
    "\n",
    "    train_scores = defaultdict(list)\n",
    "    test_scores = defaultdict(list)\n",
    "    ks_pval = defaultdict(list)\n",
    "\n",
    "    kf = KFold(n_splits=n_splits, shuffle=True, random_state=2)\n",
    "    if scoring == 'mse':\n",
    "        scorer = mean_squared_error\n",
    "    elif scoring == 'r2':\n",
    "        scorer = r2_score\n",
    "    else:\n",
    "        scorer = accuracy_score\n",
    "\n",
    "    for train_index, test_index in kf.split(df_train.values):\n",
    "\n",
    "        df_train_fold, df_test_fold = df_train.iloc[train_index], df_train.iloc[test_index]\n",
    "\n",
    "        X_train, y_train = comp.dataframe_functions.dataframe_to_X_y(df_train_fold, feature_list, target=target)\n",
    "        X_test, y_test = comp.dataframe_functions.dataframe_to_X_y(df_test_fold, feature_list, target=target)\n",
    "\n",
    "        pipeline = pipeline.fit(X_train, y_train)\n",
    "\n",
    "        train_pred = pipeline.predict(X_train)\n",
    "        train_score = scorer(y_train, train_pred)\n",
    "        train_scores['total'].append(train_score)\n",
    "\n",
    "        test_pred = pipeline.predict(X_test)\n",
    "        test_score = scorer(y_test, test_pred)\n",
    "        test_scores['total'].append(test_score)\n",
    "\n",
    "        # Get testing/training scores for each composition group\n",
    "        for composition in comp_list:\n",
    "            comp_mask_train = df_train_fold['comp_group_{}'.format(num_groups)] == composition\n",
    "            comp_score_train = scorer(y_train[comp_mask_train], train_pred[comp_mask_train])\n",
    "            train_scores[composition].append(comp_score_train)\n",
    "\n",
    "            comp_mask_test = df_test_fold['comp_group_{}'.format(num_groups)] == composition\n",
    "            comp_score_test = scorer(y_test[comp_mask_test], test_pred[comp_mask_test])\n",
    "            test_scores[composition].append(comp_score_test)\n",
    "\n",
    "\n",
    "    for label in comp_list + ['total']:\n",
    "        data_dict['train_mean_{}'.format(label)] = np.mean(train_scores[label])\n",
    "        data_dict['train_std_{}'.format(label)] = np.std(train_scores[label])\n",
    "        data_dict['test_mean_{}'.format(label)] = np.mean(test_scores[label])\n",
    "        data_dict['test_std_{}'.format(label)] = np.std(test_scores[label])\n",
    "\n",
    "    return data_dict"
   ]
  },
  {
   "cell_type": "code",
   "execution_count": 18,
   "metadata": {
    "collapsed": true
   },
   "outputs": [],
   "source": [
    "def cross_validate_comp(df_train, df_test, pipeline_str, \n",
    "                        param_name, param_values,\n",
    "                        feature_list=None, target='comp_target_2', \n",
    "                        scoring='r2', num_groups=2, n_splits=10, n_jobs=1,\n",
    "                        verbose=False):\n",
    "    cv_dicts = []\n",
    "    for param_value in param_values:\n",
    "        cv_dict = cross_validate_comp_delayed(\n",
    "                    df_train, df_test, pipeline_str, \n",
    "                    param_name, param_value,\n",
    "                    feature_list=feature_list, target=target, \n",
    "                    scoring=scoring, num_groups=num_groups, n_splits=10)\n",
    "        cv_dicts.append(cv_dict_delayed)\n",
    "\n",
    "    df_cv = delayed(pd.DataFrame.from_records)(cv_dicts, index='param_value')\n",
    "    \n",
    "    get = dask.get if n_jobs == 1 else multiprocessing.get\n",
    "    if verbose:\n",
    "        with ProgressBar():\n",
    "            print('Performing {}-fold CV on {} hyperparameter values ({} fits):'.format(\n",
    "                n_splits, len(param_values),  n_splits*len(param_values)))\n",
    "            df_cv = df_cv.compute(get=get, num_works=n_jobs)\n",
    "#             df_cv = df_cv.compute(num_works=n_jobs)\n",
    "    else:\n",
    "        df_cv = df_cv.compute(get=get, num_works=n_jobs)\n",
    "    \n",
    "    return df_cv"
   ]
  },
  {
   "cell_type": "code",
   "execution_count": 30,
   "metadata": {
    "scrolled": false
   },
   "outputs": [
    {
     "name": "stdout",
     "output_type": "stream",
     "text": [
      "Performing 10-fold CV on 15 hyperparameter values (150 fits):\n",
      "[########################################] | 100% Completed |  9min 51.3s\n"
     ]
    }
   ],
   "source": [
    "param_values = np.arange(1, 16, dtype=int)\n",
    "df_cv_max_depth = cross_validate_comp(\n",
    "# df_cv_max_depth = comp.analysis.modelevaluation.cross_validate_comp(\n",
    "                            df_sim_train, df_sim_test, pipeline_str, \n",
    "                            param_name='max_depth', param_values=param_values,\n",
    "                            feature_list=feature_list, target='MC_log_energy', \n",
    "                            scoring='mse', num_groups=num_groups, n_splits=10,\n",
    "                            verbose=True, n_jobs=10)\n",
    "#                             verbose=True, n_jobs=min(len(param_values), 20))"
   ]
  },
  {
   "cell_type": "code",
   "execution_count": 31,
   "metadata": {},
   "outputs": [
    {
     "data": {
      "text/html": [
       "<div>\n",
       "<style>\n",
       "    .dataframe thead tr:only-child th {\n",
       "        text-align: right;\n",
       "    }\n",
       "\n",
       "    .dataframe thead th {\n",
       "        text-align: left;\n",
       "    }\n",
       "\n",
       "    .dataframe tbody tr th {\n",
       "        vertical-align: top;\n",
       "    }\n",
       "</style>\n",
       "<table border=\"1\" class=\"dataframe\">\n",
       "  <thead>\n",
       "    <tr style=\"text-align: right;\">\n",
       "      <th></th>\n",
       "      <th>classifier</th>\n",
       "      <th>n_splits</th>\n",
       "      <th>param_name</th>\n",
       "      <th>test_mean_heavy</th>\n",
       "      <th>test_mean_light</th>\n",
       "      <th>test_mean_total</th>\n",
       "      <th>test_std_heavy</th>\n",
       "      <th>test_std_light</th>\n",
       "      <th>test_std_total</th>\n",
       "      <th>train_mean_heavy</th>\n",
       "      <th>train_mean_light</th>\n",
       "      <th>train_mean_total</th>\n",
       "      <th>train_std_heavy</th>\n",
       "      <th>train_std_light</th>\n",
       "      <th>train_std_total</th>\n",
       "    </tr>\n",
       "    <tr>\n",
       "      <th>param_value</th>\n",
       "      <th></th>\n",
       "      <th></th>\n",
       "      <th></th>\n",
       "      <th></th>\n",
       "      <th></th>\n",
       "      <th></th>\n",
       "      <th></th>\n",
       "      <th></th>\n",
       "      <th></th>\n",
       "      <th></th>\n",
       "      <th></th>\n",
       "      <th></th>\n",
       "      <th></th>\n",
       "      <th></th>\n",
       "      <th></th>\n",
       "    </tr>\n",
       "  </thead>\n",
       "  <tbody>\n",
       "    <tr>\n",
       "      <th>1</th>\n",
       "      <td>RF_energy</td>\n",
       "      <td>10</td>\n",
       "      <td>max_depth</td>\n",
       "      <td>0.075791</td>\n",
       "      <td>0.083996</td>\n",
       "      <td>0.079991</td>\n",
       "      <td>0.001079</td>\n",
       "      <td>0.000981</td>\n",
       "      <td>0.000692</td>\n",
       "      <td>0.075765</td>\n",
       "      <td>0.083982</td>\n",
       "      <td>0.079977</td>\n",
       "      <td>0.000183</td>\n",
       "      <td>0.000211</td>\n",
       "      <td>0.000182</td>\n",
       "    </tr>\n",
       "    <tr>\n",
       "      <th>2</th>\n",
       "      <td>RF_energy</td>\n",
       "      <td>10</td>\n",
       "      <td>max_depth</td>\n",
       "      <td>0.021198</td>\n",
       "      <td>0.023532</td>\n",
       "      <td>0.022393</td>\n",
       "      <td>0.000286</td>\n",
       "      <td>0.000405</td>\n",
       "      <td>0.000239</td>\n",
       "      <td>0.021172</td>\n",
       "      <td>0.023503</td>\n",
       "      <td>0.022367</td>\n",
       "      <td>0.000091</td>\n",
       "      <td>0.000097</td>\n",
       "      <td>0.000090</td>\n",
       "    </tr>\n",
       "    <tr>\n",
       "      <th>3</th>\n",
       "      <td>RF_energy</td>\n",
       "      <td>10</td>\n",
       "      <td>max_depth</td>\n",
       "      <td>0.007822</td>\n",
       "      <td>0.008922</td>\n",
       "      <td>0.008386</td>\n",
       "      <td>0.000113</td>\n",
       "      <td>0.000201</td>\n",
       "      <td>0.000097</td>\n",
       "      <td>0.007790</td>\n",
       "      <td>0.008889</td>\n",
       "      <td>0.008353</td>\n",
       "      <td>0.000048</td>\n",
       "      <td>0.000055</td>\n",
       "      <td>0.000050</td>\n",
       "    </tr>\n",
       "    <tr>\n",
       "      <th>4</th>\n",
       "      <td>RF_energy</td>\n",
       "      <td>10</td>\n",
       "      <td>max_depth</td>\n",
       "      <td>0.004751</td>\n",
       "      <td>0.005342</td>\n",
       "      <td>0.005054</td>\n",
       "      <td>0.000078</td>\n",
       "      <td>0.000136</td>\n",
       "      <td>0.000049</td>\n",
       "      <td>0.004720</td>\n",
       "      <td>0.005307</td>\n",
       "      <td>0.005021</td>\n",
       "      <td>0.000018</td>\n",
       "      <td>0.000027</td>\n",
       "      <td>0.000020</td>\n",
       "    </tr>\n",
       "    <tr>\n",
       "      <th>5</th>\n",
       "      <td>RF_energy</td>\n",
       "      <td>10</td>\n",
       "      <td>max_depth</td>\n",
       "      <td>0.003491</td>\n",
       "      <td>0.004372</td>\n",
       "      <td>0.003942</td>\n",
       "      <td>0.000063</td>\n",
       "      <td>0.000117</td>\n",
       "      <td>0.000039</td>\n",
       "      <td>0.003455</td>\n",
       "      <td>0.004332</td>\n",
       "      <td>0.003905</td>\n",
       "      <td>0.000010</td>\n",
       "      <td>0.000026</td>\n",
       "      <td>0.000016</td>\n",
       "    </tr>\n",
       "    <tr>\n",
       "      <th>6</th>\n",
       "      <td>RF_energy</td>\n",
       "      <td>10</td>\n",
       "      <td>max_depth</td>\n",
       "      <td>0.002784</td>\n",
       "      <td>0.003970</td>\n",
       "      <td>0.003392</td>\n",
       "      <td>0.000050</td>\n",
       "      <td>0.000123</td>\n",
       "      <td>0.000052</td>\n",
       "      <td>0.002735</td>\n",
       "      <td>0.003919</td>\n",
       "      <td>0.003342</td>\n",
       "      <td>0.000008</td>\n",
       "      <td>0.000019</td>\n",
       "      <td>0.000012</td>\n",
       "    </tr>\n",
       "    <tr>\n",
       "      <th>7</th>\n",
       "      <td>RF_energy</td>\n",
       "      <td>10</td>\n",
       "      <td>max_depth</td>\n",
       "      <td>0.002410</td>\n",
       "      <td>0.003725</td>\n",
       "      <td>0.003084</td>\n",
       "      <td>0.000046</td>\n",
       "      <td>0.000121</td>\n",
       "      <td>0.000054</td>\n",
       "      <td>0.002347</td>\n",
       "      <td>0.003649</td>\n",
       "      <td>0.003014</td>\n",
       "      <td>0.000007</td>\n",
       "      <td>0.000018</td>\n",
       "      <td>0.000011</td>\n",
       "    </tr>\n",
       "    <tr>\n",
       "      <th>8</th>\n",
       "      <td>RF_energy</td>\n",
       "      <td>10</td>\n",
       "      <td>max_depth</td>\n",
       "      <td>0.002190</td>\n",
       "      <td>0.003592</td>\n",
       "      <td>0.002908</td>\n",
       "      <td>0.000044</td>\n",
       "      <td>0.000130</td>\n",
       "      <td>0.000059</td>\n",
       "      <td>0.002100</td>\n",
       "      <td>0.003464</td>\n",
       "      <td>0.002799</td>\n",
       "      <td>0.000005</td>\n",
       "      <td>0.000016</td>\n",
       "      <td>0.000009</td>\n",
       "    </tr>\n",
       "    <tr>\n",
       "      <th>9</th>\n",
       "      <td>RF_energy</td>\n",
       "      <td>10</td>\n",
       "      <td>max_depth</td>\n",
       "      <td>0.002071</td>\n",
       "      <td>0.003523</td>\n",
       "      <td>0.002815</td>\n",
       "      <td>0.000038</td>\n",
       "      <td>0.000133</td>\n",
       "      <td>0.000061</td>\n",
       "      <td>0.001948</td>\n",
       "      <td>0.003312</td>\n",
       "      <td>0.002647</td>\n",
       "      <td>0.000004</td>\n",
       "      <td>0.000014</td>\n",
       "      <td>0.000008</td>\n",
       "    </tr>\n",
       "    <tr>\n",
       "      <th>10</th>\n",
       "      <td>RF_energy</td>\n",
       "      <td>10</td>\n",
       "      <td>max_depth</td>\n",
       "      <td>0.002016</td>\n",
       "      <td>0.003496</td>\n",
       "      <td>0.002774</td>\n",
       "      <td>0.000034</td>\n",
       "      <td>0.000133</td>\n",
       "      <td>0.000063</td>\n",
       "      <td>0.001837</td>\n",
       "      <td>0.003138</td>\n",
       "      <td>0.002503</td>\n",
       "      <td>0.000004</td>\n",
       "      <td>0.000014</td>\n",
       "      <td>0.000007</td>\n",
       "    </tr>\n",
       "    <tr>\n",
       "      <th>11</th>\n",
       "      <td>RF_energy</td>\n",
       "      <td>10</td>\n",
       "      <td>max_depth</td>\n",
       "      <td>0.001998</td>\n",
       "      <td>0.003498</td>\n",
       "      <td>0.002766</td>\n",
       "      <td>0.000032</td>\n",
       "      <td>0.000137</td>\n",
       "      <td>0.000064</td>\n",
       "      <td>0.001726</td>\n",
       "      <td>0.002916</td>\n",
       "      <td>0.002336</td>\n",
       "      <td>0.000004</td>\n",
       "      <td>0.000013</td>\n",
       "      <td>0.000006</td>\n",
       "    </tr>\n",
       "    <tr>\n",
       "      <th>12</th>\n",
       "      <td>RF_energy</td>\n",
       "      <td>10</td>\n",
       "      <td>max_depth</td>\n",
       "      <td>0.001998</td>\n",
       "      <td>0.003509</td>\n",
       "      <td>0.002772</td>\n",
       "      <td>0.000033</td>\n",
       "      <td>0.000138</td>\n",
       "      <td>0.000065</td>\n",
       "      <td>0.001593</td>\n",
       "      <td>0.002648</td>\n",
       "      <td>0.002134</td>\n",
       "      <td>0.000004</td>\n",
       "      <td>0.000010</td>\n",
       "      <td>0.000005</td>\n",
       "    </tr>\n",
       "    <tr>\n",
       "      <th>13</th>\n",
       "      <td>RF_energy</td>\n",
       "      <td>10</td>\n",
       "      <td>max_depth</td>\n",
       "      <td>0.002008</td>\n",
       "      <td>0.003528</td>\n",
       "      <td>0.002787</td>\n",
       "      <td>0.000033</td>\n",
       "      <td>0.000139</td>\n",
       "      <td>0.000066</td>\n",
       "      <td>0.001439</td>\n",
       "      <td>0.002357</td>\n",
       "      <td>0.001909</td>\n",
       "      <td>0.000004</td>\n",
       "      <td>0.000009</td>\n",
       "      <td>0.000005</td>\n",
       "    </tr>\n",
       "    <tr>\n",
       "      <th>14</th>\n",
       "      <td>RF_energy</td>\n",
       "      <td>10</td>\n",
       "      <td>max_depth</td>\n",
       "      <td>0.002024</td>\n",
       "      <td>0.003553</td>\n",
       "      <td>0.002808</td>\n",
       "      <td>0.000033</td>\n",
       "      <td>0.000140</td>\n",
       "      <td>0.000067</td>\n",
       "      <td>0.001271</td>\n",
       "      <td>0.002064</td>\n",
       "      <td>0.001678</td>\n",
       "      <td>0.000004</td>\n",
       "      <td>0.000008</td>\n",
       "      <td>0.000004</td>\n",
       "    </tr>\n",
       "    <tr>\n",
       "      <th>15</th>\n",
       "      <td>RF_energy</td>\n",
       "      <td>10</td>\n",
       "      <td>max_depth</td>\n",
       "      <td>0.002042</td>\n",
       "      <td>0.003578</td>\n",
       "      <td>0.002829</td>\n",
       "      <td>0.000035</td>\n",
       "      <td>0.000140</td>\n",
       "      <td>0.000067</td>\n",
       "      <td>0.001101</td>\n",
       "      <td>0.001784</td>\n",
       "      <td>0.001451</td>\n",
       "      <td>0.000003</td>\n",
       "      <td>0.000007</td>\n",
       "      <td>0.000004</td>\n",
       "    </tr>\n",
       "  </tbody>\n",
       "</table>\n",
       "</div>"
      ],
      "text/plain": [
       "            classifier  n_splits param_name  test_mean_heavy  test_mean_light  \\\n",
       "param_value                                                                     \n",
       "1            RF_energy        10  max_depth         0.075791         0.083996   \n",
       "2            RF_energy        10  max_depth         0.021198         0.023532   \n",
       "3            RF_energy        10  max_depth         0.007822         0.008922   \n",
       "4            RF_energy        10  max_depth         0.004751         0.005342   \n",
       "5            RF_energy        10  max_depth         0.003491         0.004372   \n",
       "6            RF_energy        10  max_depth         0.002784         0.003970   \n",
       "7            RF_energy        10  max_depth         0.002410         0.003725   \n",
       "8            RF_energy        10  max_depth         0.002190         0.003592   \n",
       "9            RF_energy        10  max_depth         0.002071         0.003523   \n",
       "10           RF_energy        10  max_depth         0.002016         0.003496   \n",
       "11           RF_energy        10  max_depth         0.001998         0.003498   \n",
       "12           RF_energy        10  max_depth         0.001998         0.003509   \n",
       "13           RF_energy        10  max_depth         0.002008         0.003528   \n",
       "14           RF_energy        10  max_depth         0.002024         0.003553   \n",
       "15           RF_energy        10  max_depth         0.002042         0.003578   \n",
       "\n",
       "             test_mean_total  test_std_heavy  test_std_light  test_std_total  \\\n",
       "param_value                                                                    \n",
       "1                   0.079991        0.001079        0.000981        0.000692   \n",
       "2                   0.022393        0.000286        0.000405        0.000239   \n",
       "3                   0.008386        0.000113        0.000201        0.000097   \n",
       "4                   0.005054        0.000078        0.000136        0.000049   \n",
       "5                   0.003942        0.000063        0.000117        0.000039   \n",
       "6                   0.003392        0.000050        0.000123        0.000052   \n",
       "7                   0.003084        0.000046        0.000121        0.000054   \n",
       "8                   0.002908        0.000044        0.000130        0.000059   \n",
       "9                   0.002815        0.000038        0.000133        0.000061   \n",
       "10                  0.002774        0.000034        0.000133        0.000063   \n",
       "11                  0.002766        0.000032        0.000137        0.000064   \n",
       "12                  0.002772        0.000033        0.000138        0.000065   \n",
       "13                  0.002787        0.000033        0.000139        0.000066   \n",
       "14                  0.002808        0.000033        0.000140        0.000067   \n",
       "15                  0.002829        0.000035        0.000140        0.000067   \n",
       "\n",
       "             train_mean_heavy  train_mean_light  train_mean_total  \\\n",
       "param_value                                                         \n",
       "1                    0.075765          0.083982          0.079977   \n",
       "2                    0.021172          0.023503          0.022367   \n",
       "3                    0.007790          0.008889          0.008353   \n",
       "4                    0.004720          0.005307          0.005021   \n",
       "5                    0.003455          0.004332          0.003905   \n",
       "6                    0.002735          0.003919          0.003342   \n",
       "7                    0.002347          0.003649          0.003014   \n",
       "8                    0.002100          0.003464          0.002799   \n",
       "9                    0.001948          0.003312          0.002647   \n",
       "10                   0.001837          0.003138          0.002503   \n",
       "11                   0.001726          0.002916          0.002336   \n",
       "12                   0.001593          0.002648          0.002134   \n",
       "13                   0.001439          0.002357          0.001909   \n",
       "14                   0.001271          0.002064          0.001678   \n",
       "15                   0.001101          0.001784          0.001451   \n",
       "\n",
       "             train_std_heavy  train_std_light  train_std_total  \n",
       "param_value                                                     \n",
       "1                   0.000183         0.000211         0.000182  \n",
       "2                   0.000091         0.000097         0.000090  \n",
       "3                   0.000048         0.000055         0.000050  \n",
       "4                   0.000018         0.000027         0.000020  \n",
       "5                   0.000010         0.000026         0.000016  \n",
       "6                   0.000008         0.000019         0.000012  \n",
       "7                   0.000007         0.000018         0.000011  \n",
       "8                   0.000005         0.000016         0.000009  \n",
       "9                   0.000004         0.000014         0.000008  \n",
       "10                  0.000004         0.000014         0.000007  \n",
       "11                  0.000004         0.000013         0.000006  \n",
       "12                  0.000004         0.000010         0.000005  \n",
       "13                  0.000004         0.000009         0.000005  \n",
       "14                  0.000004         0.000008         0.000004  \n",
       "15                  0.000003         0.000007         0.000004  "
      ]
     },
     "execution_count": 31,
     "metadata": {},
     "output_type": "execute_result"
    }
   ],
   "source": [
    "df_cv_max_depth"
   ]
  },
  {
   "cell_type": "code",
   "execution_count": 32,
   "metadata": {},
   "outputs": [
    {
     "data": {
      "image/png": "[encoded data removed]",
      "text/plain": [
       "<matplotlib.figure.Figure at 0x7f1ed7a99e50>"
      ]
     },
     "metadata": {},
     "output_type": "display_data"
    }
   ],
   "source": [
    "fig, ax = plt.subplots()\n",
    "# for composition in comp_list + ['total']:\n",
    "for composition in comp_list:\n",
    "    # Plot testing curve\n",
    "    ax.plot(df_cv_max_depth.index, df_cv_max_depth['test_mean_{}'.format(composition)],\n",
    "            marker='^', ls=':', color=color_dict[composition], label=composition+' testing set')\n",
    "    test_err_high = df_cv_max_depth['test_mean_{}'.format(composition)] + df_cv_max_depth['test_std_{}'.format(composition)]\n",
    "    test_err_low = df_cv_max_depth['test_mean_{}'.format(composition)] - df_cv_max_depth['test_std_{}'.format(composition)]\n",
    "    ax.fill_between(df_cv_max_depth.index, test_err_high, test_err_low,\n",
    "                    color=color_dict[composition], alpha=0.3)\n",
    "    \n",
    "    # Plot training curve\n",
    "    ax.plot(df_cv_max_depth.index, df_cv_max_depth['train_mean_{}'.format(composition)],\n",
    "            marker='.', ls='-', color=color_dict[composition], label=composition+' training set')\n",
    "    train_err_high = df_cv_max_depth['train_mean_{}'.format(composition)] + df_cv_max_depth['train_std_{}'.format(composition)]\n",
    "    train_err_low = df_cv_max_depth['train_mean_{}'.format(composition)] - df_cv_max_depth['train_std_{}'.format(composition)]\n",
    "    ax.fill_between(df_cv_max_depth.index, train_err_high, train_err_low,\n",
    "                    color=color_dict[composition], alpha=0.3)\n",
    "    \n",
    "ax.set_xlabel('Maximum depth')\n",
    "# ax.set_ylabel('R$^2$ CV score')\n",
    "ax.set_ylabel('MSE score')\n",
    "# ax.set_ylim(0.95, 1.0)\n",
    "ax.set_ylim(0, 0.01)\n",
    "ax.grid()\n",
    "ax.legend(title='True compositions')\n",
    "max_depth_outfile = os.path.join(comp.paths.figures_dir, 'model_evaluation', 'validation-curves',\n",
    "                                 '{}_max_depth_{}.png'.format(pipeline_str, config))\n",
    "comp.check_output_dir(max_depth_outfile)\n",
    "plt.savefig(max_depth_outfile)\n",
    "plt.show()"
   ]
  },
  {
   "cell_type": "code",
   "execution_count": 13,
   "metadata": {
    "scrolled": true
   },
   "outputs": [
    {
     "name": "stdout",
     "output_type": "stream",
     "text": [
      "[########################################] | 100% Completed |  3min  7.5s\n"
     ]
    }
   ],
   "source": [
    "param_values = np.arange(10, 320, 20, dtype=int)\n",
    "df_cv_n_estimators = cross_validate_comp(config, pipeline_str, param_name='n_estimators', param_values=param_values,\n",
    "                            feature_list=feature_list, target='MC_log_energy', \n",
    "                            scoring='r2', num_groups=num_groups, n_splits=10,\n",
    "                            verbose=True, n_jobs=min(len(param_values), 10))"
   ]
  },
  {
   "cell_type": "code",
   "execution_count": 14,
   "metadata": {},
   "outputs": [
    {
     "data": {
      "text/html": [
       "<div>\n",
       "<style>\n",
       "    .dataframe thead tr:only-child th {\n",
       "        text-align: right;\n",
       "    }\n",
       "\n",
       "    .dataframe thead th {\n",
       "        text-align: left;\n",
       "    }\n",
       "\n",
       "    .dataframe tbody tr th {\n",
       "        vertical-align: top;\n",
       "    }\n",
       "</style>\n",
       "<table border=\"1\" class=\"dataframe\">\n",
       "  <thead>\n",
       "    <tr style=\"text-align: right;\">\n",
       "      <th></th>\n",
       "      <th>classifier</th>\n",
       "      <th>n_splits</th>\n",
       "      <th>param_name</th>\n",
       "      <th>test_mean_heavy</th>\n",
       "      <th>test_mean_light</th>\n",
       "      <th>test_mean_total</th>\n",
       "      <th>test_std_heavy</th>\n",
       "      <th>test_std_light</th>\n",
       "      <th>test_std_total</th>\n",
       "      <th>train_mean_heavy</th>\n",
       "      <th>train_mean_light</th>\n",
       "      <th>train_mean_total</th>\n",
       "      <th>train_std_heavy</th>\n",
       "      <th>train_std_light</th>\n",
       "      <th>train_std_total</th>\n",
       "    </tr>\n",
       "    <tr>\n",
       "      <th>param_value</th>\n",
       "      <th></th>\n",
       "      <th></th>\n",
       "      <th></th>\n",
       "      <th></th>\n",
       "      <th></th>\n",
       "      <th></th>\n",
       "      <th></th>\n",
       "      <th></th>\n",
       "      <th></th>\n",
       "      <th></th>\n",
       "      <th></th>\n",
       "      <th></th>\n",
       "      <th></th>\n",
       "      <th></th>\n",
       "      <th></th>\n",
       "    </tr>\n",
       "  </thead>\n",
       "  <tbody>\n",
       "    <tr>\n",
       "      <th>10</th>\n",
       "      <td>RF_energy</td>\n",
       "      <td>10</td>\n",
       "      <td>n_estimators</td>\n",
       "      <td>0.978344</td>\n",
       "      <td>0.978171</td>\n",
       "      <td>0.978301</td>\n",
       "      <td>0.000973</td>\n",
       "      <td>0.000681</td>\n",
       "      <td>0.000599</td>\n",
       "      <td>0.978622</td>\n",
       "      <td>0.978461</td>\n",
       "      <td>0.978573</td>\n",
       "      <td>0.000226</td>\n",
       "      <td>0.000221</td>\n",
       "      <td>0.000212</td>\n",
       "    </tr>\n",
       "    <tr>\n",
       "      <th>30</th>\n",
       "      <td>RF_energy</td>\n",
       "      <td>10</td>\n",
       "      <td>n_estimators</td>\n",
       "      <td>0.978685</td>\n",
       "      <td>0.978458</td>\n",
       "      <td>0.978613</td>\n",
       "      <td>0.000884</td>\n",
       "      <td>0.000686</td>\n",
       "      <td>0.000570</td>\n",
       "      <td>0.978974</td>\n",
       "      <td>0.978728</td>\n",
       "      <td>0.978880</td>\n",
       "      <td>0.000215</td>\n",
       "      <td>0.000188</td>\n",
       "      <td>0.000188</td>\n",
       "    </tr>\n",
       "    <tr>\n",
       "      <th>50</th>\n",
       "      <td>RF_energy</td>\n",
       "      <td>10</td>\n",
       "      <td>n_estimators</td>\n",
       "      <td>0.978713</td>\n",
       "      <td>0.978481</td>\n",
       "      <td>0.978638</td>\n",
       "      <td>0.000852</td>\n",
       "      <td>0.000718</td>\n",
       "      <td>0.000570</td>\n",
       "      <td>0.979006</td>\n",
       "      <td>0.978747</td>\n",
       "      <td>0.978905</td>\n",
       "      <td>0.000216</td>\n",
       "      <td>0.000177</td>\n",
       "      <td>0.000186</td>\n",
       "    </tr>\n",
       "    <tr>\n",
       "      <th>70</th>\n",
       "      <td>RF_energy</td>\n",
       "      <td>10</td>\n",
       "      <td>n_estimators</td>\n",
       "      <td>0.978802</td>\n",
       "      <td>0.978531</td>\n",
       "      <td>0.978707</td>\n",
       "      <td>0.000815</td>\n",
       "      <td>0.000737</td>\n",
       "      <td>0.000566</td>\n",
       "      <td>0.979086</td>\n",
       "      <td>0.978804</td>\n",
       "      <td>0.978973</td>\n",
       "      <td>0.000223</td>\n",
       "      <td>0.000169</td>\n",
       "      <td>0.000186</td>\n",
       "    </tr>\n",
       "    <tr>\n",
       "      <th>90</th>\n",
       "      <td>RF_energy</td>\n",
       "      <td>10</td>\n",
       "      <td>n_estimators</td>\n",
       "      <td>0.978791</td>\n",
       "      <td>0.978537</td>\n",
       "      <td>0.978705</td>\n",
       "      <td>0.000836</td>\n",
       "      <td>0.000737</td>\n",
       "      <td>0.000579</td>\n",
       "      <td>0.979075</td>\n",
       "      <td>0.978802</td>\n",
       "      <td>0.978967</td>\n",
       "      <td>0.000194</td>\n",
       "      <td>0.000158</td>\n",
       "      <td>0.000165</td>\n",
       "    </tr>\n",
       "    <tr>\n",
       "      <th>110</th>\n",
       "      <td>RF_energy</td>\n",
       "      <td>10</td>\n",
       "      <td>n_estimators</td>\n",
       "      <td>0.978790</td>\n",
       "      <td>0.978544</td>\n",
       "      <td>0.978708</td>\n",
       "      <td>0.000851</td>\n",
       "      <td>0.000745</td>\n",
       "      <td>0.000593</td>\n",
       "      <td>0.979072</td>\n",
       "      <td>0.978804</td>\n",
       "      <td>0.978966</td>\n",
       "      <td>0.000182</td>\n",
       "      <td>0.000146</td>\n",
       "      <td>0.000151</td>\n",
       "    </tr>\n",
       "    <tr>\n",
       "      <th>130</th>\n",
       "      <td>RF_energy</td>\n",
       "      <td>10</td>\n",
       "      <td>n_estimators</td>\n",
       "      <td>0.978802</td>\n",
       "      <td>0.978561</td>\n",
       "      <td>0.978723</td>\n",
       "      <td>0.000853</td>\n",
       "      <td>0.000738</td>\n",
       "      <td>0.000589</td>\n",
       "      <td>0.979083</td>\n",
       "      <td>0.978814</td>\n",
       "      <td>0.978977</td>\n",
       "      <td>0.000181</td>\n",
       "      <td>0.000152</td>\n",
       "      <td>0.000155</td>\n",
       "    </tr>\n",
       "    <tr>\n",
       "      <th>150</th>\n",
       "      <td>RF_energy</td>\n",
       "      <td>10</td>\n",
       "      <td>n_estimators</td>\n",
       "      <td>0.978801</td>\n",
       "      <td>0.978557</td>\n",
       "      <td>0.978720</td>\n",
       "      <td>0.000855</td>\n",
       "      <td>0.000744</td>\n",
       "      <td>0.000593</td>\n",
       "      <td>0.979083</td>\n",
       "      <td>0.978812</td>\n",
       "      <td>0.978976</td>\n",
       "      <td>0.000183</td>\n",
       "      <td>0.000151</td>\n",
       "      <td>0.000155</td>\n",
       "    </tr>\n",
       "    <tr>\n",
       "      <th>170</th>\n",
       "      <td>RF_energy</td>\n",
       "      <td>10</td>\n",
       "      <td>n_estimators</td>\n",
       "      <td>0.978794</td>\n",
       "      <td>0.978557</td>\n",
       "      <td>0.978717</td>\n",
       "      <td>0.000855</td>\n",
       "      <td>0.000751</td>\n",
       "      <td>0.000595</td>\n",
       "      <td>0.979076</td>\n",
       "      <td>0.978809</td>\n",
       "      <td>0.978971</td>\n",
       "      <td>0.000176</td>\n",
       "      <td>0.000138</td>\n",
       "      <td>0.000145</td>\n",
       "    </tr>\n",
       "    <tr>\n",
       "      <th>190</th>\n",
       "      <td>RF_energy</td>\n",
       "      <td>10</td>\n",
       "      <td>n_estimators</td>\n",
       "      <td>0.978791</td>\n",
       "      <td>0.978555</td>\n",
       "      <td>0.978714</td>\n",
       "      <td>0.000848</td>\n",
       "      <td>0.000746</td>\n",
       "      <td>0.000589</td>\n",
       "      <td>0.979073</td>\n",
       "      <td>0.978807</td>\n",
       "      <td>0.978968</td>\n",
       "      <td>0.000179</td>\n",
       "      <td>0.000140</td>\n",
       "      <td>0.000147</td>\n",
       "    </tr>\n",
       "    <tr>\n",
       "      <th>210</th>\n",
       "      <td>RF_energy</td>\n",
       "      <td>10</td>\n",
       "      <td>n_estimators</td>\n",
       "      <td>0.978785</td>\n",
       "      <td>0.978550</td>\n",
       "      <td>0.978709</td>\n",
       "      <td>0.000854</td>\n",
       "      <td>0.000747</td>\n",
       "      <td>0.000593</td>\n",
       "      <td>0.979064</td>\n",
       "      <td>0.978802</td>\n",
       "      <td>0.978962</td>\n",
       "      <td>0.000174</td>\n",
       "      <td>0.000137</td>\n",
       "      <td>0.000143</td>\n",
       "    </tr>\n",
       "    <tr>\n",
       "      <th>230</th>\n",
       "      <td>RF_energy</td>\n",
       "      <td>10</td>\n",
       "      <td>n_estimators</td>\n",
       "      <td>0.978793</td>\n",
       "      <td>0.978559</td>\n",
       "      <td>0.978717</td>\n",
       "      <td>0.000852</td>\n",
       "      <td>0.000743</td>\n",
       "      <td>0.000589</td>\n",
       "      <td>0.979072</td>\n",
       "      <td>0.978809</td>\n",
       "      <td>0.978969</td>\n",
       "      <td>0.000173</td>\n",
       "      <td>0.000139</td>\n",
       "      <td>0.000144</td>\n",
       "    </tr>\n",
       "    <tr>\n",
       "      <th>250</th>\n",
       "      <td>RF_energy</td>\n",
       "      <td>10</td>\n",
       "      <td>n_estimators</td>\n",
       "      <td>0.978789</td>\n",
       "      <td>0.978557</td>\n",
       "      <td>0.978714</td>\n",
       "      <td>0.000846</td>\n",
       "      <td>0.000738</td>\n",
       "      <td>0.000583</td>\n",
       "      <td>0.979068</td>\n",
       "      <td>0.978807</td>\n",
       "      <td>0.978966</td>\n",
       "      <td>0.000181</td>\n",
       "      <td>0.000146</td>\n",
       "      <td>0.000152</td>\n",
       "    </tr>\n",
       "    <tr>\n",
       "      <th>270</th>\n",
       "      <td>RF_energy</td>\n",
       "      <td>10</td>\n",
       "      <td>n_estimators</td>\n",
       "      <td>0.978795</td>\n",
       "      <td>0.978560</td>\n",
       "      <td>0.978719</td>\n",
       "      <td>0.000846</td>\n",
       "      <td>0.000733</td>\n",
       "      <td>0.000580</td>\n",
       "      <td>0.979073</td>\n",
       "      <td>0.978810</td>\n",
       "      <td>0.978970</td>\n",
       "      <td>0.000182</td>\n",
       "      <td>0.000151</td>\n",
       "      <td>0.000155</td>\n",
       "    </tr>\n",
       "    <tr>\n",
       "      <th>290</th>\n",
       "      <td>RF_energy</td>\n",
       "      <td>10</td>\n",
       "      <td>n_estimators</td>\n",
       "      <td>0.978796</td>\n",
       "      <td>0.978561</td>\n",
       "      <td>0.978720</td>\n",
       "      <td>0.000843</td>\n",
       "      <td>0.000724</td>\n",
       "      <td>0.000572</td>\n",
       "      <td>0.979076</td>\n",
       "      <td>0.978812</td>\n",
       "      <td>0.978973</td>\n",
       "      <td>0.000186</td>\n",
       "      <td>0.000157</td>\n",
       "      <td>0.000160</td>\n",
       "    </tr>\n",
       "    <tr>\n",
       "      <th>310</th>\n",
       "      <td>RF_energy</td>\n",
       "      <td>10</td>\n",
       "      <td>n_estimators</td>\n",
       "      <td>0.978791</td>\n",
       "      <td>0.978558</td>\n",
       "      <td>0.978716</td>\n",
       "      <td>0.000841</td>\n",
       "      <td>0.000722</td>\n",
       "      <td>0.000570</td>\n",
       "      <td>0.979071</td>\n",
       "      <td>0.978811</td>\n",
       "      <td>0.978970</td>\n",
       "      <td>0.000187</td>\n",
       "      <td>0.000157</td>\n",
       "      <td>0.000161</td>\n",
       "    </tr>\n",
       "  </tbody>\n",
       "</table>\n",
       "</div>"
      ],
      "text/plain": [
       "            classifier  n_splits    param_name  test_mean_heavy  \\\n",
       "param_value                                                       \n",
       "10           RF_energy        10  n_estimators         0.978344   \n",
       "30           RF_energy        10  n_estimators         0.978685   \n",
       "50           RF_energy        10  n_estimators         0.978713   \n",
       "70           RF_energy        10  n_estimators         0.978802   \n",
       "90           RF_energy        10  n_estimators         0.978791   \n",
       "110          RF_energy        10  n_estimators         0.978790   \n",
       "130          RF_energy        10  n_estimators         0.978802   \n",
       "150          RF_energy        10  n_estimators         0.978801   \n",
       "170          RF_energy        10  n_estimators         0.978794   \n",
       "190          RF_energy        10  n_estimators         0.978791   \n",
       "210          RF_energy        10  n_estimators         0.978785   \n",
       "230          RF_energy        10  n_estimators         0.978793   \n",
       "250          RF_energy        10  n_estimators         0.978789   \n",
       "270          RF_energy        10  n_estimators         0.978795   \n",
       "290          RF_energy        10  n_estimators         0.978796   \n",
       "310          RF_energy        10  n_estimators         0.978791   \n",
       "\n",
       "             test_mean_light  test_mean_total  test_std_heavy  test_std_light  \\\n",
       "param_value                                                                     \n",
       "10                  0.978171         0.978301        0.000973        0.000681   \n",
       "30                  0.978458         0.978613        0.000884        0.000686   \n",
       "50                  0.978481         0.978638        0.000852        0.000718   \n",
       "70                  0.978531         0.978707        0.000815        0.000737   \n",
       "90                  0.978537         0.978705        0.000836        0.000737   \n",
       "110                 0.978544         0.978708        0.000851        0.000745   \n",
       "130                 0.978561         0.978723        0.000853        0.000738   \n",
       "150                 0.978557         0.978720        0.000855        0.000744   \n",
       "170                 0.978557         0.978717        0.000855        0.000751   \n",
       "190                 0.978555         0.978714        0.000848        0.000746   \n",
       "210                 0.978550         0.978709        0.000854        0.000747   \n",
       "230                 0.978559         0.978717        0.000852        0.000743   \n",
       "250                 0.978557         0.978714        0.000846        0.000738   \n",
       "270                 0.978560         0.978719        0.000846        0.000733   \n",
       "290                 0.978561         0.978720        0.000843        0.000724   \n",
       "310                 0.978558         0.978716        0.000841        0.000722   \n",
       "\n",
       "             test_std_total  train_mean_heavy  train_mean_light  \\\n",
       "param_value                                                       \n",
       "10                 0.000599          0.978622          0.978461   \n",
       "30                 0.000570          0.978974          0.978728   \n",
       "50                 0.000570          0.979006          0.978747   \n",
       "70                 0.000566          0.979086          0.978804   \n",
       "90                 0.000579          0.979075          0.978802   \n",
       "110                0.000593          0.979072          0.978804   \n",
       "130                0.000589          0.979083          0.978814   \n",
       "150                0.000593          0.979083          0.978812   \n",
       "170                0.000595          0.979076          0.978809   \n",
       "190                0.000589          0.979073          0.978807   \n",
       "210                0.000593          0.979064          0.978802   \n",
       "230                0.000589          0.979072          0.978809   \n",
       "250                0.000583          0.979068          0.978807   \n",
       "270                0.000580          0.979073          0.978810   \n",
       "290                0.000572          0.979076          0.978812   \n",
       "310                0.000570          0.979071          0.978811   \n",
       "\n",
       "             train_mean_total  train_std_heavy  train_std_light  \\\n",
       "param_value                                                       \n",
       "10                   0.978573         0.000226         0.000221   \n",
       "30                   0.978880         0.000215         0.000188   \n",
       "50                   0.978905         0.000216         0.000177   \n",
       "70                   0.978973         0.000223         0.000169   \n",
       "90                   0.978967         0.000194         0.000158   \n",
       "110                  0.978966         0.000182         0.000146   \n",
       "130                  0.978977         0.000181         0.000152   \n",
       "150                  0.978976         0.000183         0.000151   \n",
       "170                  0.978971         0.000176         0.000138   \n",
       "190                  0.978968         0.000179         0.000140   \n",
       "210                  0.978962         0.000174         0.000137   \n",
       "230                  0.978969         0.000173         0.000139   \n",
       "250                  0.978966         0.000181         0.000146   \n",
       "270                  0.978970         0.000182         0.000151   \n",
       "290                  0.978973         0.000186         0.000157   \n",
       "310                  0.978970         0.000187         0.000157   \n",
       "\n",
       "             train_std_total  \n",
       "param_value                   \n",
       "10                  0.000212  \n",
       "30                  0.000188  \n",
       "50                  0.000186  \n",
       "70                  0.000186  \n",
       "90                  0.000165  \n",
       "110                 0.000151  \n",
       "130                 0.000155  \n",
       "150                 0.000155  \n",
       "170                 0.000145  \n",
       "190                 0.000147  \n",
       "210                 0.000143  \n",
       "230                 0.000144  \n",
       "250                 0.000152  \n",
       "270                 0.000155  \n",
       "290                 0.000160  \n",
       "310                 0.000161  "
      ]
     },
     "execution_count": 14,
     "metadata": {},
     "output_type": "execute_result"
    }
   ],
   "source": [
    "df_cv_n_estimators"
   ]
  },
  {
   "cell_type": "code",
   "execution_count": 15,
   "metadata": {},
   "outputs": [
    {
     "data": {
      "image/png": "[encoded data removed]",
      "text/plain": [
       "<matplotlib.figure.Figure at 0x7f59be8eee90>"
      ]
     },
     "metadata": {},
     "output_type": "display_data"
    }
   ],
   "source": [
    "fig, ax = plt.subplots()\n",
    "for composition in comp_list + ['total']:\n",
    "    ax.plot(df_cv_n_estimators.index, df_cv_n_estimators['test_mean_{}'.format(composition)], marker='None',\n",
    "            color=color_dict[composition], label=composition)\n",
    "    ax.fill_between(df_cv_n_estimators.index,\n",
    "                    df_cv_n_estimators['test_mean_{}'.format(composition)] + df_cv_n_estimators['test_std_{}'.format(composition)],\n",
    "                    df_cv_n_estimators['test_mean_{}'.format(composition)] - df_cv_n_estimators['test_std_{}'.format(composition)],\n",
    "                    color=color_dict[composition], alpha=0.3)\n",
    "ax.set_xlabel('Number of estimators')\n",
    "ax.set_ylabel('10-fold CV testing score (R$^2$)')\n",
    "# ax.set_ylabel('MSE testing score')\n",
    "# ax.set_ylim(0, 0.01)\n",
    "ax.grid()\n",
    "ax.legend(title='True compositions')\n",
    "plt.show()"
   ]
  },
  {
   "cell_type": "markdown",
   "metadata": {},
   "source": [
    "## Energy reconstruction performance plots"
   ]
  },
  {
   "cell_type": "code",
   "execution_count": 9,
   "metadata": {},
   "outputs": [
    {
     "name": "stderr",
     "output_type": "stream",
     "text": [
      "/home/jbourbeau/.virtualenvs/composition/lib/python2.7/site-packages/matplotlib/figure.py:1743: UserWarning: This figure includes Axes that are not compatible with tight_layout, so its results might be incorrect.\n",
      "  warnings.warn(\"This figure includes Axes that are not \"\n"
     ]
    },
    {
     "data": {
      "image/png": "[encoded data removed]",
      "text/plain": [
       "<matplotlib.figure.Figure at 0x7f314bde61d0>"
      ]
     },
     "metadata": {},
     "output_type": "display_data"
    }
   ],
   "source": [
    "h_lap, xedges, yedges  = np.histogram2d(df_sim_test['MC_log_energy'], df_sim_test['lap_log_energy'],\n",
    "                                        bins=np.linspace(6.0, 8.0, 100))\n",
    "h_lap = np.rot90(h_lap)\n",
    "h_lap = np.flipud(h_lap)\n",
    "\n",
    "h_reco, xedges, yedges  = np.histogram2d(df_sim_test['MC_log_energy'], reco_log_energy,\n",
    "                                         bins=np.linspace(6.0, 8.0, 100))\n",
    "h_reco = np.rot90(h_reco)\n",
    "h_reco = np.flipud(h_reco)\n",
    "extent = [xedges[0], xedges[-1], yedges[0], yedges[-1]]\n",
    "\n",
    "gs = gridspec.GridSpec(1, 2, wspace=0.15)\n",
    "ax_lap = plt.subplot(gs[0])\n",
    "# ax_reco = plt.subplot(gs[1])\n",
    "ax_reco = plt.subplot(gs[1], sharey=ax_lap)\n",
    "\n",
    "# fig, ax = plt.subplots()\n",
    "for h, ax, title in zip([h_lap, h_reco], [ax_lap, ax_reco], ['Laputop', 'RF']):\n",
    "    ax.imshow(h, extent=extent, norm=LogNorm(), origin='lower', interpolation='none',\n",
    "              aspect='auto')\n",
    "    ax.plot([6, 8], [6, 8], marker='None', ls=':')\n",
    "    # ax.set_xlim([6.4, 8.0])\n",
    "    # ax.set_ylim([6.4, 8.0])\n",
    "    ax.set_xlabel('$\\mathrm{\\log_{10}(E_{true}/GeV)}$')\n",
    "#     ax.set_ylabel('$\\mathrm{\\log_{10}(E_{reco}/GeV)}$')\n",
    "    ax.set_title(title)\n",
    "    ax.grid()\n",
    "    \n",
    "ax_reco.tick_params(labelleft='off')\n",
    "ax_lap.set_ylabel('$\\mathrm{\\log_{10}(E_{reco}/GeV)}$')\n",
    "\n",
    "# plt.colorbar(label='Counts')\n",
    "true_vs_reco_energy_outfile = os.path.join(comp.paths.figures_dir, 'energy_reco',\n",
    "                                         'MC_vs_reco_energy_{}.png'.format(config))\n",
    "comp.check_output_dir(true_vs_reco_energy_outfile)\n",
    "plt.savefig(true_vs_reco_energy_outfile)\n",
    "plt.show()"
   ]
  },
  {
   "cell_type": "code",
   "execution_count": 26,
   "metadata": {},
   "outputs": [
    {
     "data": {
      "image/png": "[encoded data removed]",
      "text/plain": [
       "<matplotlib.figure.Figure at 0x7f6692ed10d0>"
      ]
     },
     "metadata": {},
     "output_type": "display_data"
    }
   ],
   "source": [
    "h, xedges, yedges  = np.histogram2d(df_sim_test['MC_log_energy'], reco_log_energy,\n",
    "                                    bins=np.linspace(6.0, 8.0, 100))\n",
    "\n",
    "extent = [xedges[0], xedges[-1], yedges[0], yedges[-1]]\n",
    "h = np.rot90(h)\n",
    "h = np.flipud(h)\n",
    "\n",
    "fig, ax = plt.subplots()\n",
    "plt.imshow(h, extent=extent, norm=LogNorm(), origin='lower', interpolation='none', aspect='auto')\n",
    "ax.plot([6, 8], [6, 8], marker='None', ls=':')\n",
    "# ax.set_xlim([6.4, 8.0])\n",
    "# ax.set_ylim([6.4, 8.0])\n",
    "ax.set_xlabel('$\\mathrm{\\log_{10}(E_{true}/GeV)}$')\n",
    "ax.set_ylabel('$\\mathrm{\\log_{10}(E_{reco}/GeV)}$')\n",
    "ax.grid()\n",
    "plt.colorbar(label='Counts')\n",
    "true_vs_reco_energy_outfile = os.path.join(comp.paths.figures_dir, 'energy_reco',\n",
    "                                         'MC_vs_reco_energy.png')\n",
    "comp.check_output_dir(true_vs_reco_energy_outfile)\n",
    "plt.savefig(true_vs_reco_energy_outfile)\n",
    "plt.show()"
   ]
  },
  {
   "cell_type": "code",
   "execution_count": 10,
   "metadata": {},
   "outputs": [
    {
     "data": {
      "image/png": "[encoded data removed]",
      "text/plain": [
       "<matplotlib.figure.Figure at 0x7f30b8357810>"
      ]
     },
     "metadata": {},
     "output_type": "display_data"
    }
   ],
   "source": [
    "# Energy resolution\n",
    "energy_res = reco_log_energy - df_sim_test['MC_log_energy']\n",
    "lap_energy_res = df_sim_test['lap_log_energy'] - df_sim_test['MC_log_energy']\n",
    "log_energy_bins = np.arange(6.4, 8.1, 0.1)\n",
    "\n",
    "gs = gridspec.GridSpec(2, 1, height_ratios=[1,1], hspace=0.1)\n",
    "ax1 = plt.subplot(gs[0])\n",
    "ax2 = plt.subplot(gs[1], sharex=ax1)\n",
    "\n",
    "for composition in comp_list:\n",
    "#     comp_mask = df_sim_test['MC_comp_class'] == composition\n",
    "    \n",
    "    # Plot RF reco energy \n",
    "    medians, stds, _ = comp.analysis.get_median_std(\n",
    "                                df_sim_test.loc[comp_mask_test[composition], 'MC_log_energy'],\n",
    "                                energy_res[comp_mask_test[composition]],\n",
    "                                log_energy_bins)\n",
    "\n",
    "    plotting.plot_steps(log_energy_bins, medians, lw=1,\n",
    "                        color=color_dict[composition], alpha=0.8,\n",
    "                        label=composition+' (RF)', ax=ax1)\n",
    "\n",
    "    plotting.plot_steps(log_energy_bins, stds, lw=1,\n",
    "                        color=color_dict[composition], alpha=0.8,\n",
    "                        label=composition+' (RF)', ax=ax2)\n",
    "    \n",
    "    # Plot Laputop reco energy \n",
    "    medians, stds, _ = comp.analysis.get_median_std(\n",
    "                                df_sim_test.loc[comp_mask_test[composition], 'MC_log_energy'],\n",
    "                                lap_energy_res[comp_mask_test[composition]],\n",
    "                                log_energy_bins)\n",
    "\n",
    "    plotting.plot_steps(log_energy_bins, medians, lw=1, ls='--',\n",
    "                        color=color_dict[composition], alpha=0.8,\n",
    "                        label=composition+' (Laptuop)', ax=ax1)\n",
    "\n",
    "    plotting.plot_steps(log_energy_bins, stds, lw=1, ls='--',\n",
    "                        color=color_dict[composition], alpha=0.8, \n",
    "                        label=composition+' (Laptuop)', ax=ax2)\n",
    "\n",
    "ax1.axhline(0, marker='None', linestyle='-.', color='k', lw=1.5)\n",
    "ax1.set_ylabel('Median of\\n$\\mathrm{\\log_{10}(E_{reco}/E_{true})}$')\n",
    "ax1.set_ylim(-0.1, 0.1)\n",
    "ax1.tick_params(labelbottom='off')\n",
    "ax1.grid()\n",
    "# ax1.legend(title='True composition')\n",
    "leg = ax1.legend(loc='upper center', frameon=False,\n",
    "                 bbox_to_anchor=(0.5,  # horizontal\n",
    "                                 1.45),# vertical \n",
    "                 ncol=len(comp_list), fancybox=False)\n",
    "\n",
    "ax2.set_ylabel('1$\\mathrm{\\sigma}$ of $\\mathrm{\\log_{10}(E_{reco}/E_{true})}$')\n",
    "ax2.set_xlabel('$\\mathrm{\\log_{10}(E_{true}/GeV)}$')\n",
    "ax2.set_ylim(0)\n",
    "ax2.set_xlim(energybins.log_energy_min, energybins.log_energy_max)\n",
    "ax2.grid()\n",
    "\n",
    "ax2.set_xlim(6.4, 8.0)\n",
    "\n",
    "energy_res_outfile = os.path.join(comp.paths.figures_dir, 'energy_reco',\n",
    "                                  'energy_res_{}.png'.format(config))\n",
    "comp.check_output_dir(energy_res_outfile)\n",
    "plt.savefig(energy_res_outfile)\n",
    "\n",
    "plt.show()"
   ]
  },
  {
   "cell_type": "code",
   "execution_count": 11,
   "metadata": {
    "scrolled": false
   },
   "outputs": [
    {
     "data": {
      "image/png": "[encoded data removed]",
      "text/plain": [
       "<matplotlib.figure.Figure at 0x7f314bded990>"
      ]
     },
     "metadata": {},
     "output_type": "display_data"
    }
   ],
   "source": [
    "# Energy resolution\n",
    "energy_res = reco_log_energy - df_sim_test['MC_log_energy']\n",
    "lap_energy_res = df_sim_test['lap_log_energy'] - df_sim_test['MC_log_energy']\n",
    "log_energy_bins = np.arange(6.4, 8.1, 0.1)\n",
    "\n",
    "gs = gridspec.GridSpec(2, 1, height_ratios=[1,1], hspace=0.1)\n",
    "ax1 = plt.subplot(gs[0])\n",
    "ax2 = plt.subplot(gs[1], sharex=ax1)\n",
    "\n",
    "for composition in comp_list:\n",
    "#     comp_mask = df_sim_test['MC_comp_class'] == composition\n",
    "    \n",
    "    # Plot RF reco energy \n",
    "    _, medians, error = comp.analysis.get_medians(\n",
    "                                df_sim_test.loc[comp_mask_test[composition], 'MC_log_energy'],\n",
    "                                energy_res[comp_mask_test[composition]],\n",
    "                                log_energy_bins)\n",
    "\n",
    "    plotting.plot_steps(log_energy_bins, medians, lw=1,\n",
    "                        color=color_dict[composition], alpha=0.8,\n",
    "                        label=composition+' (RF)', ax=ax1)\n",
    "\n",
    "    plotting.plot_steps(log_energy_bins, np.sum(error, axis=0), lw=1,\n",
    "                        color=color_dict[composition], alpha=0.8,\n",
    "                        label=composition+' (RF)', ax=ax2)\n",
    "    \n",
    "    # Plot Laputop reco energy \n",
    "    _, medians, error = comp.analysis.get_medians(\n",
    "                                df_sim_test.loc[comp_mask_test[composition], 'MC_log_energy'],\n",
    "                                lap_energy_res[comp_mask_test[composition]],\n",
    "                                log_energy_bins)\n",
    "\n",
    "    plotting.plot_steps(log_energy_bins, medians, lw=1, ls='--',\n",
    "                        color=color_dict[composition], alpha=0.8,\n",
    "                        label=composition+' (Laputop)', ax=ax1)\n",
    "\n",
    "    plotting.plot_steps(log_energy_bins, np.sum(error, axis=0), lw=1, ls='--',\n",
    "                        color=color_dict[composition], alpha=0.8, \n",
    "                        label=composition+' (Laputop)', ax=ax2)\n",
    "\n",
    "ax1.axhline(0, marker='None', linestyle='-', color='k', lw=0.5)\n",
    "\n",
    "ax1.set_ylabel('Median of\\n$\\mathrm{\\log_{10}(E_{reco}/E_{true})}$')\n",
    "ax1.set_ylim(-0.1, 0.1)\n",
    "ax1.tick_params(labelbottom='off')\n",
    "ax1.grid()\n",
    "# ax1.legend(title='True composition')\n",
    "leg = ax1.legend(loc='upper center', frameon=False,\n",
    "                 bbox_to_anchor=(0.5,  # horizontal\n",
    "#                                  1.25),# vertical \n",
    "                                 1.45),# vertical \n",
    "                 ncol=len(comp_list), fancybox=False)\n",
    "\n",
    "ax2.set_ylabel('68\\% containment of\\n$\\mathrm{\\log_{10}(E_{reco}/E_{true})}$')\n",
    "ax2.set_xlabel('$\\mathrm{\\log_{10}(E_{true}/GeV)}$')\n",
    "ax2.set_ylim(0)\n",
    "ax2.set_xlim(energybins.log_energy_min, energybins.log_energy_max)\n",
    "ax2.grid()\n",
    "\n",
    "ax2.set_xlim(6.4, 8.0)\n",
    "\n",
    "energy_res_outfile = os.path.join(comp.paths.figures_dir, 'energy_reco',\n",
    "                                  'energy_res_containment_{}.png'.format(config))\n",
    "comp.check_output_dir(energy_res_outfile)\n",
    "plt.savefig(energy_res_outfile)\n",
    "\n",
    "plt.show()"
   ]
  },
  {
   "cell_type": "code",
   "execution_count": null,
   "metadata": {
    "collapsed": true
   },
   "outputs": [],
   "source": []
  },
  {
   "cell_type": "code",
   "execution_count": null,
   "metadata": {
    "collapsed": true
   },
   "outputs": [],
   "source": []
  },
  {
   "cell_type": "code",
   "execution_count": null,
   "metadata": {
    "collapsed": true
   },
   "outputs": [],
   "source": []
  },
  {
   "cell_type": "code",
   "execution_count": 29,
   "metadata": {},
   "outputs": [
    {
     "ename": "KeyError",
     "evalue": "'intermediate'",
     "output_type": "error",
     "traceback": [
      "\u001b[0;31m\u001b[0m",
      "\u001b[0;31mKeyError\u001b[0mTraceback (most recent call last)",
      "\u001b[0;32m<ipython-input-29-70dec81a2c9e>\u001b[0m in \u001b[0;36m<module>\u001b[0;34m()\u001b[0m\n\u001b[1;32m     15\u001b[0m                             energybins.log_energy_bins)\n\u001b[1;32m     16\u001b[0m     ax.errorbar(bin_centers, bin_medians, yerr=error, marker='.', ls='--', \n\u001b[0;32m---> 17\u001b[0;31m                 color=res_color_dict[composition][0], alpha=0.8, label=composition + ' (RF)')\n\u001b[0m\u001b[1;32m     18\u001b[0m \u001b[0;34m\u001b[0m\u001b[0m\n\u001b[1;32m     19\u001b[0m \u001b[0;34m\u001b[0m\u001b[0m\n",
      "\u001b[0;31mKeyError\u001b[0m: 'intermediate'"
     ]
    },
    {
     "data": {
      "image/png": "[encoded data removed]",
      "text/plain": [
       "<matplotlib.figure.Figure at 0x7f52ea2a2210>"
      ]
     },
     "metadata": {},
     "output_type": "display_data"
    }
   ],
   "source": [
    "# Energy resolution\n",
    "energy_res = reco_log_energy - df_sim_test['MC_log_energy']\n",
    "lap_energy_res = df_sim_test['lap_log_energy'] - df_sim_test['MC_log_energy']\n",
    "\n",
    "\n",
    "fig, ax = plt.subplots()\n",
    "res_color_dict = {'light': sns.color_palette('Blues', 3).as_hex()[::-1],\n",
    "                  'heavy': sns.color_palette('Oranges', 3).as_hex()[::-1]}\n",
    "for composition in comp_list:\n",
    "    comp_mask = df_sim_test['MC_comp_class'] == composition\n",
    "    \n",
    "    bin_centers, bin_medians, error = comp.analysis.get_medians(\n",
    "                            df_sim_test.loc[comp_mask_test[composition], 'MC_log_energy'], \n",
    "                            energy_res[comp_mask_test[composition]],\n",
    "                            energybins.log_energy_bins)\n",
    "    ax.errorbar(bin_centers, bin_medians, yerr=error, marker='.', ls='--', \n",
    "                color=res_color_dict[composition][0], alpha=0.8, label=composition + ' (RF)')\n",
    "\n",
    "    \n",
    "    bin_centers, bin_medians, error = comp.analysis.get_medians(\n",
    "                            df_sim_test.loc[comp_mask_test[composition], 'MC_log_energy'], \n",
    "                            lap_energy_res[comp_mask_test[composition]],\n",
    "                            energybins.log_energy_bins)\n",
    "    ax.errorbar(bin_centers + 0.02, bin_medians, yerr=error, marker='^', ls=':', \n",
    "                color=res_color_dict[composition][1], alpha=0.8, label=composition + ' (Laputop)')\n",
    "    \n",
    "ax.axhline(0, marker='None', linestyle='-.', color='k', lw=1.5)\n",
    "ax.set_ylabel('$\\mathrm{\\log_{10}(E_{reco}/E_{true})}$')\n",
    "# ax.set_ylim(-0.1, 0.1)\n",
    "ax.grid()\n",
    "# ax.legend()\n",
    "leg = ax.legend(loc='upper center', frameon=False,\n",
    "                 bbox_to_anchor=(0.5,  # horizontal\n",
    "                                 1.25),# vertical \n",
    "                 ncol=len(comp_list), fancybox=False)\n",
    "\n",
    "# ax2.set_ylabel('1$\\mathrm{\\sigma}$ of $\\mathrm{\\log_{10}(E_{reco}/E_{true})}$')\n",
    "ax.set_xlabel('$\\mathrm{\\log_{10}(E_{true}/GeV)}$')\n",
    "# ax2.set_ylim(0)\n",
    "# ax2.set_xlim(energybins.log_energy_min, energybins.log_energy_max)\n",
    "# ax2.grid()\n",
    "\n",
    "# ax.set_xlim(6.4, 8.0)\n",
    "\n",
    "energy_res_outfile = os.path.join(comp.paths.figures_dir, 'energy_reco',\n",
    "                                  'energy_res_comparison.png')\n",
    "comp.check_output_dir(energy_res_outfile)\n",
    "plt.savefig(energy_res_outfile)\n",
    "\n",
    "plt.show()"
   ]
  },
  {
   "cell_type": "code",
   "execution_count": null,
   "metadata": {
    "collapsed": true
   },
   "outputs": [],
   "source": []
  },
  {
   "cell_type": "code",
   "execution_count": null,
   "metadata": {
    "collapsed": true
   },
   "outputs": [],
   "source": []
  },
  {
   "cell_type": "code",
   "execution_count": null,
   "metadata": {
    "collapsed": true
   },
   "outputs": [],
   "source": []
  },
  {
   "cell_type": "code",
   "execution_count": null,
   "metadata": {
    "collapsed": true
   },
   "outputs": [],
   "source": []
  },
  {
   "cell_type": "code",
   "execution_count": null,
   "metadata": {
    "collapsed": true
   },
   "outputs": [],
   "source": []
  },
  {
   "cell_type": "code",
   "execution_count": null,
   "metadata": {
    "collapsed": true
   },
   "outputs": [],
   "source": []
  },
  {
   "cell_type": "code",
   "execution_count": null,
   "metadata": {
    "collapsed": true
   },
   "outputs": [],
   "source": []
  },
  {
   "cell_type": "code",
   "execution_count": null,
   "metadata": {
    "collapsed": true
   },
   "outputs": [],
   "source": []
  },
  {
   "cell_type": "code",
   "execution_count": null,
   "metadata": {
    "collapsed": true
   },
   "outputs": [],
   "source": [
    "def plot_validation_curve(validation_dict, param_name, ylime=None, ax=None):\n",
    "    \n",
    "    if ax is None:\n",
    "        ax = plt.gca()\n",
    "        \n",
    "    ax.plot(validation_dict['range'], validation_dict['train_mean'], label=\"Training score\",\n",
    "             color='C0')\n",
    "    ax.fill_between(validation_dict['range'], validation_dict['train_mean'] - validation_dict['train_std'],\n",
    "                     validation_dict['train_mean'] + validation_dict['train_std'], alpha=0.2,\n",
    "                     color='C0')\n",
    "    \n",
    "    ax.plot(validation_dict['range'], validation_dict['test_mean'], label=\"Cross-validation score\",\n",
    "                 color='C2')\n",
    "    ax.fill_between(validation_dict['range'], validation_dict['test_mean'] - validation_dict['test_std'],\n",
    "                     validation_dict['test_mean'] + validation_dict['test_std'], alpha=0.2,\n",
    "                     color='C2')\n",
    "    \n",
    "    ax.set_xlabel(param_name)\n",
    "    ax.set_ylabel('Median energy resolution')\n",
    "    ax.grid()\n",
    "    ax.legend()\n",
    "    \n",
    "    return ax"
   ]
  },
  {
   "cell_type": "markdown",
   "metadata": {},
   "source": [
    "## Validation curve for maximum tree depth"
   ]
  },
  {
   "cell_type": "code",
   "execution_count": null,
   "metadata": {
    "collapsed": true,
    "scrolled": true
   },
   "outputs": [],
   "source": [
    "max_depth_validation = {}\n",
    "max_depth_validation['range'] = np.arange(1, 11)\n",
    "train_scores, test_scores = validation_curve(clf, sim_train.X, sim_train.y,\n",
    "                                param_name='max_depth', param_range=max_depth_validation['range'],\n",
    "                                cv=10, scoring=scorer, n_jobs=5, verbose=2)\n",
    "max_depth_validation['train_mean'] = np.mean(train_scores, axis=1)\n",
    "max_depth_validation['train_std'] = np.std(train_scores, axis=1)\n",
    "max_depth_validation['test_mean'] = np.mean(test_scores, axis=1)\n",
    "max_depth_validation['test_std'] = np.std(test_scores, axis=1)"
   ]
  },
  {
   "cell_type": "code",
   "execution_count": null,
   "metadata": {
    "collapsed": true
   },
   "outputs": [],
   "source": [
    "fig, ax = plt.subplots()\n",
    "ax = plot_validation_curve(max_depth_validation, 'Maximum tree depth', ax=ax)\n",
    "plt.show()"
   ]
  },
  {
   "cell_type": "code",
   "execution_count": null,
   "metadata": {
    "collapsed": true
   },
   "outputs": [],
   "source": [
    "max_depth_validation"
   ]
  },
  {
   "cell_type": "code",
   "execution_count": null,
   "metadata": {
    "collapsed": true
   },
   "outputs": [],
   "source": [
    "clf.set_params(max_depth=20)"
   ]
  },
  {
   "cell_type": "code",
   "execution_count": null,
   "metadata": {
    "collapsed": true,
    "scrolled": true
   },
   "outputs": [],
   "source": [
    "n_estimators_validation = {}\n",
    "n_estimators_validation['range'] = np.arange(10, 500, 100)\n",
    "train_scores, test_scores = validation_curve(clf, sim_train.X, sim_train.y,\n",
    "                                param_name='n_estimators', param_range=n_estimators_validation['range'],\n",
    "                                cv=10, scoring=scorer, n_jobs=5, verbose=2)\n",
    "n_estimators_validation['train_mean'] = np.mean(train_scores, axis=1)\n",
    "n_estimators_validation['train_std'] = np.std(train_scores, axis=1)\n",
    "n_estimators_validation['test_mean'] = np.mean(test_scores, axis=1)\n",
    "n_estimators_validation['test_std'] = np.std(test_scores, axis=1)"
   ]
  },
  {
   "cell_type": "code",
   "execution_count": null,
   "metadata": {
    "collapsed": true
   },
   "outputs": [],
   "source": [
    "n_estimators_validation"
   ]
  },
  {
   "cell_type": "code",
   "execution_count": null,
   "metadata": {
    "collapsed": true
   },
   "outputs": [],
   "source": [
    "fig, ax = plt.subplots()\n",
    "ax = plot_validation_curve(n_estimators_validation, 'Number of iterations', ax=ax)\n",
    "plt.show()"
   ]
  },
  {
   "cell_type": "code",
   "execution_count": null,
   "metadata": {
    "collapsed": true
   },
   "outputs": [],
   "source": [
    "clf.set_params(n_estimators=200)"
   ]
  },
  {
   "cell_type": "code",
   "execution_count": null,
   "metadata": {
    "collapsed": true
   },
   "outputs": [],
   "source": [
    "clf = clf.fit(sim_train.X, sim_train.y)\n",
    "train_pred = clf.predict(sim_train.X)\n",
    "# train_acc = mean_squared_error(sim_train.y, train_pred)\n",
    "train_score = median_energy_res(sim_train.y, train_pred)\n",
    "\n",
    "test_pred = clf.predict(sim_test.X)\n",
    "# test_acc = mean_squared_error(sim_test.y, test_pred)\n",
    "test_score = median_energy_res(sim_test.y, test_pred)\n",
    "print('Testing score: {}'.format(test_score))\n",
    "print('Training score: {}'.format(train_score))"
   ]
  },
  {
   "cell_type": "code",
   "execution_count": null,
   "metadata": {
    "collapsed": true
   },
   "outputs": [],
   "source": [
    "energy_bins = 10**np.arange(5.0, 9.51, 0.1)\n",
    "energy_midpoints = (energy_bins[1:] + energy_bins[:-1]) / 2"
   ]
  },
  {
   "cell_type": "code",
   "execution_count": null,
   "metadata": {
    "collapsed": true
   },
   "outputs": [],
   "source": [
    "light_mask = sim_test.comp == 'light'\n",
    "heavy_mask = sim_test.comp == 'heavy'"
   ]
  },
  {
   "cell_type": "code",
   "execution_count": null,
   "metadata": {
    "collapsed": true
   },
   "outputs": [],
   "source": [
    "energy_resolution = np.log10(test_pred/sim_test.y)\n",
    "_, bin_medians_light, error_light = comp.analysis.data_functions.get_medians(np.log10(sim_test.y)[light_mask],\n",
    "                                                                           energy_resolution[light_mask],\n",
    "                                                                           np.log10(energy_bins))\n",
    "_, bin_medians_heavy, error_heavy = comp.analysis.data_functions.get_medians(np.log10(sim_test.y)[heavy_mask],\n",
    "                                                                           energy_resolution[heavy_mask],\n",
    "                                                                           np.log10(energy_bins))"
   ]
  },
  {
   "cell_type": "code",
   "execution_count": null,
   "metadata": {
    "collapsed": true
   },
   "outputs": [],
   "source": [
    "fig, ax = plt.subplots()\n",
    "ax.errorbar(np.log10(energy_midpoints), bin_medians_light, yerr=error_light,\n",
    "            marker='.', ls='None', label='light')\n",
    "ax.errorbar(np.log10(energy_midpoints), bin_medians_heavy, yerr=error_heavy,\n",
    "            marker='.', ls='None', label='heavy')\n",
    "ax.axhline(0, marker='None', linestyle='-.', color='k')\n",
    "ax.set_xlabel('$\\mathrm{\\log_{10}(E_{MC}/GeV)}$')\n",
    "ax.set_ylabel('$\\mathrm{\\log_{10}(E_{reco}/E_{true})}$')\n",
    "ax.set_xlim([6.3, 9.0])\n",
    "ax.set_ylim([-0.15, 0.15])\n",
    "ax.legend()\n",
    "plt.grid()\n",
    "# plt.savefig('/home/jbourbeau/public_html/figures/lap-energyres.png')\n",
    "plt.show()"
   ]
  },
  {
   "cell_type": "code",
   "execution_count": null,
   "metadata": {
    "collapsed": true
   },
   "outputs": [],
   "source": []
  }
 ],
 "metadata": {
  "kernelspec": {
   "display_name": "Python 2",
   "language": "python",
   "name": "python2"
  },
  "language_info": {
   "codemirror_mode": {
    "name": "ipython",
    "version": 2
   },
   "file_extension": ".py",
   "mimetype": "text/x-python",
   "name": "python",
   "nbconvert_exporter": "python",
   "pygments_lexer": "ipython2",
   "version": "2.7.13"
  }
 },
 "nbformat": 4,
 "nbformat_minor": 1
}
