{
 "cells": [
  {
   "cell_type": "markdown",
   "metadata": {},
   "source": [
    "<a id='top'> </a>\n",
    "Author: [James Bourbeau](http://www.jamesbourbeau.com)"
   ]
  },
  {
   "cell_type": "code",
   "execution_count": 1,
   "metadata": {},
   "outputs": [
    {
     "name": "stdout",
     "output_type": "stream",
     "text": [
      "last updated: 2017-10-12 \n",
      "\n",
      "CPython 2.7.13\n",
      "IPython 5.3.0\n",
      "\n",
      "numpy 1.12.1\n",
      "scipy 0.19.0\n",
      "pandas 0.20.1\n",
      "sklearn 0.19.0\n",
      "mlxtend 0.7.0\n"
     ]
    }
   ],
   "source": [
    "%load_ext watermark\n",
    "%watermark -u -d -v -p numpy,scipy,pandas,sklearn,mlxtend"
   ]
  },
  {
   "cell_type": "markdown",
   "metadata": {},
   "source": [
    "# Energy reconstruction via ML regression\n",
    "### Table of contents\n",
    "1. [Data preprocessing](#Data-preprocessing)\n",
    "2. [Weight simulation events to spectrum](#Weight-simulation-events-to-spectrum)\n",
    "3. [S125 verification](#S125-verification)\n",
    "4. [$\\log_{10}(\\mathrm{dE/dX})$ verification](#$\\log_{10}(\\mathrm{dE/dX})$-verification)"
   ]
  },
  {
   "cell_type": "code",
   "execution_count": 2,
   "metadata": {},
   "outputs": [
    {
     "name": "stderr",
     "output_type": "stream",
     "text": [
      "/home/jbourbeau/.virtualenvs/composition/lib/python2.7/site-packages/sklearn/cross_validation.py:41: DeprecationWarning: This module was deprecated in version 0.18 in favor of the model_selection module into which all the refactored classes and functions are moved. Also note that the interface of the new CV iterators are different from that of this module. This module will be removed in 0.20.\n",
      "  \"This module will be removed in 0.20.\", DeprecationWarning)\n"
     ]
    }
   ],
   "source": [
    "from __future__ import division, print_function\n",
    "import os\n",
    "import numpy as np\n",
    "import pandas as pd\n",
    "import matplotlib.pyplot as plt\n",
    "import matplotlib.gridspec as gridspec\n",
    "from matplotlib.colors import LogNorm\n",
    "import seaborn.apionly as sns\n",
    "\n",
    "from sklearn.ensemble import RandomForestRegressor, GradientBoostingRegressor\n",
    "from sklearn.svm import SVR\n",
    "from sklearn.model_selection import validation_curve, cross_val_score, cross_val_predict, GridSearchCV, cross_validate\n",
    "from sklearn.metrics import mean_squared_error, make_scorer\n",
    "from sklearn.externals import joblib\n",
    "\n",
    "import comptools as comp\n",
    "import comptools.analysis.plotting as plotting\n",
    "\n",
    "color_dict = comp.analysis.get_color_dict()\n",
    "\n",
    "%matplotlib inline"
   ]
  },
  {
   "cell_type": "markdown",
   "metadata": {},
   "source": [
    "# Data preprocessing\n",
    "[ [back to top](#top) ]\n",
    "1. Load simulation/data dataframe and apply specified quality cuts\n",
    "2. Extract desired features from dataframe\n",
    "3. Get separate testing and training datasets\n",
    "4. Feature selection"
   ]
  },
  {
   "cell_type": "markdown",
   "metadata": {},
   "source": [
    "### Load simulation, format feature and target matrices"
   ]
  },
  {
   "cell_type": "code",
   "execution_count": 3,
   "metadata": {},
   "outputs": [
    {
     "data": {
      "text/plain": [
       "['lap_cos_zenith', 'log_s125', 'log_dEdX']"
      ]
     },
     "execution_count": 3,
     "metadata": {},
     "output_type": "execute_result"
    }
   ],
   "source": [
    "# feature_list = ['lap_cos_zenith', 'log_s125']\n",
    "# feature_list = ['log_s80', 'log_s125', 'log_s250', 'lap_cos_zenith',\n",
    "#                 'FractionContainment_Laputop_IceTop', 'NStations']\n",
    "\n",
    "# feature_list = ['log_s50', 'log_s125', 'log_s250', 'lap_cos_zenith', 'NStations', 'FractionContainment_Laputop_IceTop',\n",
    "#                 'log_dEdX']\n",
    "# feature_labels = ['$\\mathrm{\\log_{10}(S_{50})}$', '$\\mathrm{\\log_{10}(S_{125})}$', '$\\mathrm{\\log_{10}(S_{250})}$', \n",
    "#                   '$\\mathrm{\\cos(\\\\theta)}$', 'NStations', 'IT Conainment', '$\\mathrm{\\log_{10}(dE/dX)}$']\n",
    "\n",
    "feature_list, feature_labels = comp.get_training_features()\n",
    "feature_list"
   ]
  },
  {
   "cell_type": "code",
   "execution_count": 4,
   "metadata": {},
   "outputs": [
    {
     "ename": "KeyError",
     "evalue": "'P'",
     "output_type": "error",
     "traceback": [
      "\u001b[0;31m\u001b[0m",
      "\u001b[0;31mKeyError\u001b[0mTraceback (most recent call last)",
      "\u001b[0;32m<ipython-input-4-4be6b0baff97>\u001b[0m in \u001b[0;36m<module>\u001b[0;34m()\u001b[0m\n\u001b[1;32m      1\u001b[0m \u001b[0;31m# df_sim_train, df_sim_test = comp.load_sim(config='IC79.2010')\u001b[0m\u001b[0;34m\u001b[0m\u001b[0;34m\u001b[0m\u001b[0m\n\u001b[0;32m----> 2\u001b[0;31m \u001b[0mdf_sim_train\u001b[0m\u001b[0;34m,\u001b[0m \u001b[0mdf_sim_test\u001b[0m \u001b[0;34m=\u001b[0m \u001b[0mcomp\u001b[0m\u001b[0;34m.\u001b[0m\u001b[0mload_sim\u001b[0m\u001b[0;34m(\u001b[0m\u001b[0mconfig\u001b[0m\u001b[0;34m=\u001b[0m\u001b[0;34m'IC86.2012'\u001b[0m\u001b[0;34m)\u001b[0m\u001b[0;34m\u001b[0m\u001b[0m\n\u001b[0m",
      "\u001b[0;32m/home/jbourbeau/cr-composition/comptools/dataframe_functions.py\u001b[0m in \u001b[0;36mload_sim\u001b[0;34m(df_file, config, test_size, comp_key, log_energy_min, log_energy_max, verbose)\u001b[0m\n\u001b[1;32m    253\u001b[0m         \u001b[0mlabel_key\u001b[0m \u001b[0;34m=\u001b[0m \u001b[0;34m'comp_group_{}'\u001b[0m\u001b[0;34m.\u001b[0m\u001b[0mformat\u001b[0m\u001b[0;34m(\u001b[0m\u001b[0mnum_groups\u001b[0m\u001b[0;34m)\u001b[0m\u001b[0;34m\u001b[0m\u001b[0m\n\u001b[1;32m    254\u001b[0m         df[label_key] = df['MC_comp'].apply(composition_group_labels,\n\u001b[0;32m--> 255\u001b[0;31m                                             num_groups=num_groups)\n\u001b[0m\u001b[1;32m    256\u001b[0m         \u001b[0;31m# Add encoded composition group labels for training sklearn models\u001b[0m\u001b[0;34m\u001b[0m\u001b[0;34m\u001b[0m\u001b[0m\n\u001b[1;32m    257\u001b[0m         \u001b[0mtarget_key\u001b[0m \u001b[0;34m=\u001b[0m \u001b[0;34m'comp_target_{}'\u001b[0m\u001b[0;34m.\u001b[0m\u001b[0mformat\u001b[0m\u001b[0;34m(\u001b[0m\u001b[0mnum_groups\u001b[0m\u001b[0;34m)\u001b[0m\u001b[0;34m\u001b[0m\u001b[0m\n",
      "\u001b[0;32m/home/jbourbeau/.virtualenvs/composition/lib/python2.7/site-packages/pandas/core/series.pyc\u001b[0m in \u001b[0;36mapply\u001b[0;34m(self, func, convert_dtype, args, **kwds)\u001b[0m\n\u001b[1;32m   2353\u001b[0m             \u001b[0;32melse\u001b[0m\u001b[0;34m:\u001b[0m\u001b[0;34m\u001b[0m\u001b[0m\n\u001b[1;32m   2354\u001b[0m                 \u001b[0mvalues\u001b[0m \u001b[0;34m=\u001b[0m \u001b[0mself\u001b[0m\u001b[0;34m.\u001b[0m\u001b[0masobject\u001b[0m\u001b[0;34m\u001b[0m\u001b[0m\n\u001b[0;32m-> 2355\u001b[0;31m                 \u001b[0mmapped\u001b[0m \u001b[0;34m=\u001b[0m \u001b[0mlib\u001b[0m\u001b[0;34m.\u001b[0m\u001b[0mmap_infer\u001b[0m\u001b[0;34m(\u001b[0m\u001b[0mvalues\u001b[0m\u001b[0;34m,\u001b[0m \u001b[0mf\u001b[0m\u001b[0;34m,\u001b[0m \u001b[0mconvert\u001b[0m\u001b[0;34m=\u001b[0m\u001b[0mconvert_dtype\u001b[0m\u001b[0;34m)\u001b[0m\u001b[0;34m\u001b[0m\u001b[0m\n\u001b[0m\u001b[1;32m   2356\u001b[0m \u001b[0;34m\u001b[0m\u001b[0m\n\u001b[1;32m   2357\u001b[0m         \u001b[0;32mif\u001b[0m \u001b[0mlen\u001b[0m\u001b[0;34m(\u001b[0m\u001b[0mmapped\u001b[0m\u001b[0;34m)\u001b[0m \u001b[0;32mand\u001b[0m \u001b[0misinstance\u001b[0m\u001b[0;34m(\u001b[0m\u001b[0mmapped\u001b[0m\u001b[0;34m[\u001b[0m\u001b[0;36m0\u001b[0m\u001b[0;34m]\u001b[0m\u001b[0;34m,\u001b[0m \u001b[0mSeries\u001b[0m\u001b[0;34m)\u001b[0m\u001b[0;34m:\u001b[0m\u001b[0;34m\u001b[0m\u001b[0m\n",
      "\u001b[0;32mpandas/_libs/src/inference.pyx\u001b[0m in \u001b[0;36mpandas._libs.lib.map_infer (pandas/_libs/lib.c:66440)\u001b[0;34m()\u001b[0m\n",
      "\u001b[0;32m/home/jbourbeau/.virtualenvs/composition/lib/python2.7/site-packages/pandas/core/series.pyc\u001b[0m in \u001b[0;36m<lambda>\u001b[0;34m(x)\u001b[0m\n\u001b[1;32m   2340\u001b[0m         \u001b[0;31m# handle ufuncs and lambdas\u001b[0m\u001b[0;34m\u001b[0m\u001b[0;34m\u001b[0m\u001b[0m\n\u001b[1;32m   2341\u001b[0m         \u001b[0;32mif\u001b[0m \u001b[0mkwds\u001b[0m \u001b[0;32mor\u001b[0m \u001b[0margs\u001b[0m \u001b[0;32mand\u001b[0m \u001b[0;32mnot\u001b[0m \u001b[0misinstance\u001b[0m\u001b[0;34m(\u001b[0m\u001b[0mfunc\u001b[0m\u001b[0;34m,\u001b[0m \u001b[0mnp\u001b[0m\u001b[0;34m.\u001b[0m\u001b[0mufunc\u001b[0m\u001b[0;34m)\u001b[0m\u001b[0;34m:\u001b[0m\u001b[0;34m\u001b[0m\u001b[0m\n\u001b[0;32m-> 2342\u001b[0;31m             \u001b[0mf\u001b[0m \u001b[0;34m=\u001b[0m \u001b[0;32mlambda\u001b[0m \u001b[0mx\u001b[0m\u001b[0;34m:\u001b[0m \u001b[0mfunc\u001b[0m\u001b[0;34m(\u001b[0m\u001b[0mx\u001b[0m\u001b[0;34m,\u001b[0m \u001b[0;34m*\u001b[0m\u001b[0margs\u001b[0m\u001b[0;34m,\u001b[0m \u001b[0;34m**\u001b[0m\u001b[0mkwds\u001b[0m\u001b[0;34m)\u001b[0m\u001b[0;34m\u001b[0m\u001b[0m\n\u001b[0m\u001b[1;32m   2343\u001b[0m         \u001b[0;32melse\u001b[0m\u001b[0;34m:\u001b[0m\u001b[0;34m\u001b[0m\u001b[0m\n\u001b[1;32m   2344\u001b[0m             \u001b[0mf\u001b[0m \u001b[0;34m=\u001b[0m \u001b[0mfunc\u001b[0m\u001b[0;34m\u001b[0m\u001b[0m\n",
      "\u001b[0;32m/home/jbourbeau/cr-composition/comptools/composition_encoding.pyc\u001b[0m in \u001b[0;36mcomposition_group_labels\u001b[0;34m(compositions, num_groups)\u001b[0m\n\u001b[1;32m     22\u001b[0m                          'Must be 2, 3, or 4.')\n\u001b[1;32m     23\u001b[0m \u001b[0;34m\u001b[0m\u001b[0m\n\u001b[0;32m---> 24\u001b[0;31m     \u001b[0;32mreturn\u001b[0m \u001b[0;34m[\u001b[0m\u001b[0mcomp_to_group\u001b[0m\u001b[0;34m[\u001b[0m\u001b[0mc\u001b[0m\u001b[0;34m]\u001b[0m \u001b[0;32mfor\u001b[0m \u001b[0mc\u001b[0m \u001b[0;32min\u001b[0m \u001b[0mcompositions\u001b[0m\u001b[0;34m]\u001b[0m\u001b[0;34m\u001b[0m\u001b[0m\n\u001b[0m\u001b[1;32m     25\u001b[0m \u001b[0;34m\u001b[0m\u001b[0m\n\u001b[1;32m     26\u001b[0m \u001b[0;34m\u001b[0m\u001b[0m\n",
      "\u001b[0;31mKeyError\u001b[0m: 'P'"
     ]
    }
   ],
   "source": [
    "# df_sim_train, df_sim_test = comp.load_sim(config='IC79.2010')\n",
    "df_sim_train, df_sim_test = comp.load_sim(config='IC86.2012')"
   ]
  },
  {
   "cell_type": "code",
   "execution_count": null,
   "metadata": {},
   "outputs": [],
   "source": [
    "fig, ax = plt.subplots()\n",
    "sc = ax.scatter(df_sim_train['MC_log_energy'], df_sim_train['log_s125'],\n",
    "                c=df_sim_train['lap_cos_zenith'], alpha=0.25)\n",
    "ax.set_xlabel('$\\mathrm{\\log_{10}(E_{MC}/GeV)}$')\n",
    "ax.set_ylabel('$\\mathrm{\\log_{10}(S_{125})}$')\n",
    "ax.grid()\n",
    "plt.colorbar(sc, label='$\\mathrm{\\cos(\\\\theta)}$')\n",
    "s125_vs_MC_energy_outfile = os.path.join(comp.paths.figures_dir, 'energy_reco',\n",
    "                                         's125_vs_MC_energy_zenith.png')\n",
    "comp.check_output_dir(s125_vs_MC_energy_outfile)\n",
    "plt.savefig(s125_vs_MC_energy_outfile)\n",
    "plt.show()"
   ]
  },
  {
   "cell_type": "code",
   "execution_count": null,
   "metadata": {},
   "outputs": [],
   "source": [
    "comp_list = comp.get_comp_list(num_groups=2)\n",
    "comp_list"
   ]
  },
  {
   "cell_type": "code",
   "execution_count": null,
   "metadata": {
    "collapsed": true
   },
   "outputs": [],
   "source": [
    "comp_mask_train, comp_mask_test = {}, {}\n",
    "for composition in comp_list:\n",
    "    comp_mask_train[composition] = df_sim_train['MC_comp_class'] == composition\n",
    "    comp_mask_test[composition] = df_sim_test['MC_comp_class'] == composition"
   ]
  },
  {
   "cell_type": "code",
   "execution_count": null,
   "metadata": {
    "collapsed": true
   },
   "outputs": [],
   "source": [
    "energybins = comp.analysis.get_energybins()"
   ]
  },
  {
   "cell_type": "code",
   "execution_count": null,
   "metadata": {},
   "outputs": [],
   "source": [
    "fig, ax = plt.subplots()\n",
    "for composition in comp_list:\n",
    "    log_s125 = df_sim_train.loc[comp_mask_train[composition], 'log_s125']\n",
    "    MC_log_energy = df_sim_train.loc[comp_mask_train[composition], 'MC_log_energy']\n",
    "\n",
    "    _, bin_medians, error = comp.analysis.get_medians(MC_log_energy, log_s125,\n",
    "                                                      energybins.log_energy_bins)\n",
    "    ax.errorbar(energybins.log_energy_midpoints, bin_medians, yerr=error, xerr=0.05, \n",
    "                marker='.', ls='None', label='light', color=color_dict[composition], alpha=0.75)\n",
    "ax.set_xlabel('$\\mathrm{\\log_{10}(E_{MC}/GeV)}$')\n",
    "ax.set_ylabel('$\\mathrm{\\log_{10}(S_{125})}$')\n",
    "ax.grid()\n",
    "plt.show()"
   ]
  },
  {
   "cell_type": "code",
   "execution_count": null,
   "metadata": {
    "collapsed": true
   },
   "outputs": [],
   "source": [
    "h, xedges, yedges  = np.histogram2d(df_sim_test['MC_log_energy'], df_sim_test['log_dEdX'],\n",
    "                                    bins=[np.linspace(6.0, 8.0, 100), np.linspace(-0.5, 3, 100)])\n",
    "\n",
    "extent = [xedges[0], xedges[-1], yedges[0], yedges[-1]]\n",
    "h = np.rot90(h)\n",
    "h = np.flipud(h)"
   ]
  },
  {
   "cell_type": "code",
   "execution_count": null,
   "metadata": {
    "scrolled": false
   },
   "outputs": [],
   "source": [
    "fig, ax = plt.subplots()\n",
    "plt.imshow(h, extent=extent, norm=LogNorm(), origin='lower', interpolation='none', aspect='auto')\n",
    "# ax.set_xlim([6.4, 8.0])\n",
    "# ax.set_ylim([6.4, 8.0])\n",
    "ax.set_xlabel('$\\mathrm{\\log_{10}(E_{true}/GeV)}$')\n",
    "ax.set_ylabel('$\\mathrm{\\log_{10}(dE/dX)}$')\n",
    "ax.grid()\n",
    "plt.colorbar(label='Counts')\n",
    "# true_vs_reco_energy_outfile = os.path.join(comp.paths.figures_dir, 'energy_reco',\n",
    "#                                          'MC_vs_reco_energy.png')\n",
    "# comp.check_output_dir(true_vs_reco_energy_outfile)\n",
    "# plt.savefig(true_vs_reco_energy_outfile)\n",
    "plt.show()"
   ]
  },
  {
   "cell_type": "markdown",
   "metadata": {},
   "source": [
    "Define scoring function"
   ]
  },
  {
   "cell_type": "code",
   "execution_count": null,
   "metadata": {
    "collapsed": true
   },
   "outputs": [],
   "source": [
    "def median_energy_res(log_energy, log_energy_pred):\n",
    "    return np.median(log_energy-log_energy_pred)\n",
    "scorer = make_scorer(median_energy_res, greater_is_better=False)"
   ]
  },
  {
   "cell_type": "code",
   "execution_count": null,
   "metadata": {
    "collapsed": true
   },
   "outputs": [],
   "source": [
    "# parameters = {'max_depth': np.arange(1, 11), 'n_estimators': np.arange(1, 100, 10)}\n",
    "# gs = GridSearchCV(pipeline, parameters, scoring='neg_mean_squared_error',\n",
    "#                   cv=10, n_jobs=10, verbose=2)\n",
    "\n",
    "# # parameters = {'C': np.linspace(0.01, 1, 10)}\n",
    "# # gs = GridSearchCV(SVR(), parameters, cv=10, n_jobs=10, verbose=2)"
   ]
  },
  {
   "cell_type": "code",
   "execution_count": null,
   "metadata": {
    "scrolled": true
   },
   "outputs": [],
   "source": [
    "# gs.fit(df_sim_train[feature_list], df_sim_train['MC_log_energy'])\n",
    "# gs.best_params_"
   ]
  },
  {
   "cell_type": "code",
   "execution_count": null,
   "metadata": {
    "collapsed": true
   },
   "outputs": [],
   "source": [
    "# cv_results = pd.DataFrame(gs.cv_results_)"
   ]
  },
  {
   "cell_type": "code",
   "execution_count": null,
   "metadata": {},
   "outputs": [],
   "source": [
    "# clf = gs.best_estimator_\n",
    "pipeline = comp.get_pipeline('RF_energy')\n",
    "# clf = RandomForestRegressor(max_depth=10, n_estimators=91, random_state=2, n_jobs=10, verbose=1)\n",
    "pipeline"
   ]
  },
  {
   "cell_type": "code",
   "execution_count": null,
   "metadata": {
    "collapsed": true
   },
   "outputs": [],
   "source": [
    "# clf = GradientBoostingRegressor(n_estimators=100, learning_rate=0.1, random_state=2)\n",
    "# clf = RandomForestRegressor(n_estimators=100, n_jobs=10, random_state=2)"
   ]
  },
  {
   "cell_type": "code",
   "execution_count": null,
   "metadata": {},
   "outputs": [],
   "source": [
    "cv_results = cross_validate(pipeline, df_sim_train[feature_list], df_sim_train['MC_log_energy'], \n",
    "                            cv=10)"
   ]
  },
  {
   "cell_type": "code",
   "execution_count": null,
   "metadata": {},
   "outputs": [],
   "source": [
    "clf_name = pipeline.named_steps['classifier'].__class__.__name__\n",
    "print('=' * 30)\n",
    "print(clf_name)\n",
    "train_score_mean = np.mean(cv_results['train_score'])\n",
    "train_score_std = np.std(cv_results['train_score'])\n",
    "print('Training score = {:0.3f} +/- {:0.2e}'.format(train_score_mean, train_score_std))\n",
    "test_score_mean = np.mean(cv_results['test_score'])\n",
    "test_score_std = np.std(cv_results['test_score'])\n",
    "print('Testing score = {:0.3f} +/- {:0.2e}'.format(test_score_mean, test_score_std))\n",
    "print('=' * 30)"
   ]
  },
  {
   "cell_type": "code",
   "execution_count": null,
   "metadata": {},
   "outputs": [],
   "source": [
    "pipeline.fit(df_sim_train[feature_list], df_sim_train['MC_log_energy'])\n",
    "reco_log_energy = pipeline.predict(df_sim_test[feature_list])"
   ]
  },
  {
   "cell_type": "code",
   "execution_count": null,
   "metadata": {},
   "outputs": [],
   "source": [
    "reco_log_energy"
   ]
  },
  {
   "cell_type": "code",
   "execution_count": null,
   "metadata": {},
   "outputs": [],
   "source": [
    "num_features = len(feature_list)\n",
    "importances = pipeline.named_steps['classifier'].feature_importances_\n",
    "indices = np.argsort(importances)[::-1]\n",
    "\n",
    "fig, ax = plt.subplots()\n",
    "for f in range(num_features):\n",
    "    print('{}) {}'.format(f + 1, importances[indices[f]]))\n",
    "\n",
    "ax.set_ylabel('Feature Importance')\n",
    "ax.bar(range(num_features), importances[indices], align='center')\n",
    "plt.xticks(range(num_features), np.array(feature_labels)[indices], rotation=45)\n",
    "ax.set_xlim([-1, len(feature_list)])\n",
    "ax.grid(axis='y')\n",
    "plt.show()"
   ]
  },
  {
   "cell_type": "code",
   "execution_count": null,
   "metadata": {},
   "outputs": [],
   "source": [
    "fig, ax = plt.subplots()\n",
    "for composition in comp_list:\n",
    "    log_s125 = df_sim_test.loc[comp_mask_test[composition], 'log_s125']\n",
    "    log_energy = reco_log_energy[comp_mask_test[composition]]\n",
    "\n",
    "    _, bin_medians, error = comp.analysis.get_medians(log_energy, log_s125,\n",
    "                                                      energybins.log_energy_bins)\n",
    "    ax.errorbar(energybins.log_energy_midpoints, bin_medians, yerr=error, xerr=0.05, \n",
    "                marker='.', ls='None', label='light', color=color_dict[composition], alpha=0.75)\n",
    "ax.set_xlabel('$\\mathrm{\\log_{10}(E_{reco}/GeV)}$')\n",
    "ax.set_ylabel('$\\mathrm{\\log_{10}(S_{125})}$')\n",
    "ax.grid()\n",
    "plt.show()"
   ]
  },
  {
   "cell_type": "code",
   "execution_count": null,
   "metadata": {},
   "outputs": [],
   "source": [
    "h, xedges, yedges  = np.histogram2d(df_sim_test['MC_log_energy'], df_sim_test['lap_log_energy'],\n",
    "                                    bins=np.linspace(6.0, 8.0, 100))\n",
    "\n",
    "extent = [xedges[0], xedges[-1], yedges[0], yedges[-1]]\n",
    "h = np.rot90(h)\n",
    "h = np.flipud(h)\n",
    "\n",
    "fig, ax = plt.subplots()\n",
    "plt.imshow(h, extent=extent, norm=LogNorm(), origin='lower', interpolation='none', aspect='auto')\n",
    "ax.plot([6, 8], [6, 8], marker='None', ls=':')\n",
    "# ax.set_xlim([6.4, 8.0])\n",
    "# ax.set_ylim([6.4, 8.0])\n",
    "ax.set_xlabel('$\\mathrm{\\log_{10}(E_{true}/GeV)}$')\n",
    "ax.set_ylabel('$\\mathrm{\\log_{10}(E_{reco}/GeV)}$')\n",
    "ax.grid()\n",
    "plt.colorbar(label='Counts')\n",
    "true_vs_reco_energy_outfile = os.path.join(comp.paths.figures_dir, 'energy_reco',\n",
    "                                         'MC_vs_lap_energy.png')\n",
    "comp.check_output_dir(true_vs_reco_energy_outfile)\n",
    "plt.savefig(true_vs_reco_energy_outfile)\n",
    "plt.show()"
   ]
  },
  {
   "cell_type": "code",
   "execution_count": null,
   "metadata": {},
   "outputs": [],
   "source": [
    "h, xedges, yedges  = np.histogram2d(df_sim_test['MC_log_energy'], reco_log_energy,\n",
    "                                    bins=np.linspace(6.0, 8.0, 100))\n",
    "\n",
    "extent = [xedges[0], xedges[-1], yedges[0], yedges[-1]]\n",
    "h = np.rot90(h)\n",
    "h = np.flipud(h)\n",
    "\n",
    "fig, ax = plt.subplots()\n",
    "plt.imshow(h, extent=extent, norm=LogNorm(), origin='lower', interpolation='none', aspect='auto')\n",
    "ax.plot([6, 8], [6, 8], marker='None', ls=':')\n",
    "# ax.set_xlim([6.4, 8.0])\n",
    "# ax.set_ylim([6.4, 8.0])\n",
    "ax.set_xlabel('$\\mathrm{\\log_{10}(E_{true}/GeV)}$')\n",
    "ax.set_ylabel('$\\mathrm{\\log_{10}(E_{reco}/GeV)}$')\n",
    "ax.grid()\n",
    "plt.colorbar(label='Counts')\n",
    "true_vs_reco_energy_outfile = os.path.join(comp.paths.figures_dir, 'energy_reco',\n",
    "                                         'MC_vs_reco_energy.png')\n",
    "comp.check_output_dir(true_vs_reco_energy_outfile)\n",
    "plt.savefig(true_vs_reco_energy_outfile)\n",
    "plt.show()"
   ]
  },
  {
   "cell_type": "code",
   "execution_count": null,
   "metadata": {},
   "outputs": [],
   "source": [
    "# Energy resolution\n",
    "energy_res = reco_log_energy - df_sim_test['MC_log_energy']\n",
    "lap_energy_res = df_sim_test['lap_log_energy'] - df_sim_test['MC_log_energy']\n",
    "\n",
    "gs = gridspec.GridSpec(2, 1, height_ratios=[1,1], hspace=0.1)\n",
    "ax1 = plt.subplot(gs[0])\n",
    "ax2 = plt.subplot(gs[1], sharex=ax1)\n",
    "\n",
    "for composition in comp_list:\n",
    "    comp_mask = df_sim_test['MC_comp_class'] == composition\n",
    "    \n",
    "    # Plot RF reco energy \n",
    "    medians, stds, _ = comp.analysis.get_median_std(\n",
    "            df_sim_test.loc[comp_mask_test[composition], 'MC_log_energy'], energy_res[comp_mask_test[composition]],\n",
    "            energybins.log_energy_bins)\n",
    "\n",
    "    plotting.plot_steps(energybins.log_energy_bins, medians, lw=1,\n",
    "                        color=color_dict[composition], alpha=0.8,\n",
    "                        label=composition+' (RF)', ax=ax1)\n",
    "\n",
    "    plotting.plot_steps(energybins.log_energy_bins, stds, lw=1,\n",
    "                        color=color_dict[composition], alpha=0.8,\n",
    "                        label=composition+' (RF)', ax=ax2)\n",
    "    \n",
    "    # Plot Laputop reco energy \n",
    "    medians, stds, _ = comp.analysis.get_median_std(\n",
    "            df_sim_test.loc[comp_mask_test[composition], 'MC_log_energy'], lap_energy_res[comp_mask_test[composition]],\n",
    "            energybins.log_energy_bins)\n",
    "\n",
    "    plotting.plot_steps(energybins.log_energy_bins, medians, lw=1, ls='--',\n",
    "                        color=color_dict[composition], alpha=0.8,\n",
    "                        label=composition+' (Laptuop)', ax=ax1)\n",
    "\n",
    "    plotting.plot_steps(energybins.log_energy_bins, stds, lw=1, ls='--',\n",
    "                        color=color_dict[composition], alpha=0.8, \n",
    "                        label=composition+' (Laptuop)', ax=ax2)\n",
    "\n",
    "ax1.axhline(0, marker='None', linestyle='-.', color='k', lw=1.5)\n",
    "ax1.set_ylabel('Median of\\n$\\mathrm{\\log_{10}(E_{reco}/E_{true})}$', fontsize=12)\n",
    "ax1.set_ylim(-0.1, 0.1)\n",
    "ax1.tick_params(labelbottom='off')\n",
    "ax1.grid()\n",
    "# ax1.legend(title='True composition')\n",
    "leg = ax1.legend(loc='upper center', frameon=False,\n",
    "                 bbox_to_anchor=(0.5,  # horizontal\n",
    "                                 1.45),# vertical \n",
    "                 ncol=len(comp_list), fancybox=False, fontsize=12)\n",
    "\n",
    "ax2.set_ylabel('1$\\mathrm{\\sigma}$ of $\\mathrm{\\log_{10}(E_{reco}/E_{true})}$', fontsize=12)\n",
    "ax2.set_xlabel('$\\mathrm{\\log_{10}(E_{true}/GeV)}$', fontsize=12)\n",
    "ax2.set_ylim(0)\n",
    "ax2.set_xlim(energybins.log_energy_min, energybins.log_energy_max)\n",
    "ax2.grid()\n",
    "\n",
    "ax2.set_xlim(6.4, 8.0)\n",
    "\n",
    "energy_res_outfile = os.path.join(comp.paths.figures_dir, 'energy_reco',\n",
    "                                  'energy_res.png')\n",
    "comp.check_output_dir(energy_res_outfile)\n",
    "plt.savefig(energy_res_outfile)\n",
    "\n",
    "plt.show()"
   ]
  },
  {
   "cell_type": "code",
   "execution_count": null,
   "metadata": {},
   "outputs": [],
   "source": [
    "# Energy resolution\n",
    "energy_res = reco_log_energy - df_sim_test['MC_log_energy']\n",
    "lap_energy_res = df_sim_test['lap_log_energy'] - df_sim_test['MC_log_energy']\n",
    "\n",
    "\n",
    "fig, ax = plt.subplots()\n",
    "res_color_dict = {'light': sns.color_palette('Blues', 3).as_hex()[::-1],\n",
    "                  'heavy': sns.color_palette('Oranges', 3).as_hex()[::-1]}\n",
    "for composition in comp_list:\n",
    "    comp_mask = df_sim_test['MC_comp_class'] == composition\n",
    "    \n",
    "    bin_centers, bin_medians, error = comp.analysis.get_medians(\n",
    "                            df_sim_test.loc[comp_mask_test[composition], 'MC_log_energy'], \n",
    "                            energy_res[comp_mask_test[composition]],\n",
    "                            energybins.log_energy_bins)\n",
    "    ax.errorbar(bin_centers, bin_medians, yerr=error, marker='.', ls='--', \n",
    "                color=res_color_dict[composition][0], alpha=0.8, label=composition + ' (RF)')\n",
    "\n",
    "    \n",
    "    bin_centers, bin_medians, error = comp.analysis.get_medians(\n",
    "                            df_sim_test.loc[comp_mask_test[composition], 'MC_log_energy'], \n",
    "                            lap_energy_res[comp_mask_test[composition]],\n",
    "                            energybins.log_energy_bins)\n",
    "    ax.errorbar(bin_centers + 0.02, bin_medians, yerr=error, marker='^', ls=':', \n",
    "                color=res_color_dict[composition][1], alpha=0.8, label=composition + ' (Laputop)')\n",
    "    \n",
    "ax.axhline(0, marker='None', linestyle='-.', color='k', lw=1.5)\n",
    "ax.set_ylabel('$\\mathrm{\\log_{10}(E_{reco}/E_{true})}$')\n",
    "# ax.set_ylim(-0.1, 0.1)\n",
    "ax.grid()\n",
    "# ax.legend()\n",
    "leg = ax.legend(loc='upper center', frameon=False,\n",
    "                 bbox_to_anchor=(0.5,  # horizontal\n",
    "                                 1.25),# vertical \n",
    "                 ncol=len(comp_list), fancybox=False)\n",
    "\n",
    "# ax2.set_ylabel('1$\\mathrm{\\sigma}$ of $\\mathrm{\\log_{10}(E_{reco}/E_{true})}$')\n",
    "ax.set_xlabel('$\\mathrm{\\log_{10}(E_{true}/GeV)}$')\n",
    "# ax2.set_ylim(0)\n",
    "# ax2.set_xlim(energybins.log_energy_min, energybins.log_energy_max)\n",
    "# ax2.grid()\n",
    "\n",
    "# ax.set_xlim(6.4, 8.0)\n",
    "\n",
    "energy_res_outfile = os.path.join(comp.paths.figures_dir, 'energy_reco',\n",
    "                                  'energy_res_comparison.png')\n",
    "comp.check_output_dir(energy_res_outfile)\n",
    "plt.savefig(energy_res_outfile)\n",
    "\n",
    "plt.show()"
   ]
  },
  {
   "cell_type": "code",
   "execution_count": null,
   "metadata": {
    "collapsed": true
   },
   "outputs": [],
   "source": []
  },
  {
   "cell_type": "code",
   "execution_count": null,
   "metadata": {
    "collapsed": true
   },
   "outputs": [],
   "source": []
  },
  {
   "cell_type": "code",
   "execution_count": null,
   "metadata": {
    "collapsed": true
   },
   "outputs": [],
   "source": []
  },
  {
   "cell_type": "code",
   "execution_count": null,
   "metadata": {
    "collapsed": true
   },
   "outputs": [],
   "source": []
  },
  {
   "cell_type": "code",
   "execution_count": null,
   "metadata": {
    "collapsed": true
   },
   "outputs": [],
   "source": []
  },
  {
   "cell_type": "code",
   "execution_count": null,
   "metadata": {
    "collapsed": true
   },
   "outputs": [],
   "source": []
  },
  {
   "cell_type": "code",
   "execution_count": null,
   "metadata": {
    "collapsed": true
   },
   "outputs": [],
   "source": []
  },
  {
   "cell_type": "code",
   "execution_count": null,
   "metadata": {
    "collapsed": true
   },
   "outputs": [],
   "source": []
  },
  {
   "cell_type": "code",
   "execution_count": null,
   "metadata": {
    "collapsed": true
   },
   "outputs": [],
   "source": [
    "def plot_validation_curve(validation_dict, param_name, ylime=None, ax=None):\n",
    "    \n",
    "    if ax is None:\n",
    "        ax = plt.gca()\n",
    "        \n",
    "    ax.plot(validation_dict['range'], validation_dict['train_mean'], label=\"Training score\",\n",
    "             color='C0')\n",
    "    ax.fill_between(validation_dict['range'], validation_dict['train_mean'] - validation_dict['train_std'],\n",
    "                     validation_dict['train_mean'] + validation_dict['train_std'], alpha=0.2,\n",
    "                     color='C0')\n",
    "    \n",
    "    ax.plot(validation_dict['range'], validation_dict['test_mean'], label=\"Cross-validation score\",\n",
    "                 color='C2')\n",
    "    ax.fill_between(validation_dict['range'], validation_dict['test_mean'] - validation_dict['test_std'],\n",
    "                     validation_dict['test_mean'] + validation_dict['test_std'], alpha=0.2,\n",
    "                     color='C2')\n",
    "    \n",
    "    ax.set_xlabel(param_name)\n",
    "    ax.set_ylabel('Median energy resolution')\n",
    "    ax.grid()\n",
    "    ax.legend()\n",
    "    \n",
    "    return ax"
   ]
  },
  {
   "cell_type": "markdown",
   "metadata": {},
   "source": [
    "## Validation curve for maximum tree depth"
   ]
  },
  {
   "cell_type": "code",
   "execution_count": null,
   "metadata": {
    "scrolled": true
   },
   "outputs": [],
   "source": [
    "max_depth_validation = {}\n",
    "max_depth_validation['range'] = np.arange(1, 11)\n",
    "train_scores, test_scores = validation_curve(clf, sim_train.X, sim_train.y,\n",
    "                                param_name='max_depth', param_range=max_depth_validation['range'],\n",
    "                                cv=10, scoring=scorer, n_jobs=5, verbose=2)\n",
    "max_depth_validation['train_mean'] = np.mean(train_scores, axis=1)\n",
    "max_depth_validation['train_std'] = np.std(train_scores, axis=1)\n",
    "max_depth_validation['test_mean'] = np.mean(test_scores, axis=1)\n",
    "max_depth_validation['test_std'] = np.std(test_scores, axis=1)"
   ]
  },
  {
   "cell_type": "code",
   "execution_count": null,
   "metadata": {},
   "outputs": [],
   "source": [
    "fig, ax = plt.subplots()\n",
    "ax = plot_validation_curve(max_depth_validation, 'Maximum tree depth', ax=ax)\n",
    "plt.show()"
   ]
  },
  {
   "cell_type": "code",
   "execution_count": null,
   "metadata": {},
   "outputs": [],
   "source": [
    "max_depth_validation"
   ]
  },
  {
   "cell_type": "code",
   "execution_count": null,
   "metadata": {},
   "outputs": [],
   "source": [
    "clf.set_params(max_depth=20)"
   ]
  },
  {
   "cell_type": "code",
   "execution_count": null,
   "metadata": {
    "scrolled": true
   },
   "outputs": [],
   "source": [
    "n_estimators_validation = {}\n",
    "n_estimators_validation['range'] = np.arange(10, 500, 100)\n",
    "train_scores, test_scores = validation_curve(clf, sim_train.X, sim_train.y,\n",
    "                                param_name='n_estimators', param_range=n_estimators_validation['range'],\n",
    "                                cv=10, scoring=scorer, n_jobs=5, verbose=2)\n",
    "n_estimators_validation['train_mean'] = np.mean(train_scores, axis=1)\n",
    "n_estimators_validation['train_std'] = np.std(train_scores, axis=1)\n",
    "n_estimators_validation['test_mean'] = np.mean(test_scores, axis=1)\n",
    "n_estimators_validation['test_std'] = np.std(test_scores, axis=1)"
   ]
  },
  {
   "cell_type": "code",
   "execution_count": null,
   "metadata": {},
   "outputs": [],
   "source": [
    "n_estimators_validation"
   ]
  },
  {
   "cell_type": "code",
   "execution_count": null,
   "metadata": {},
   "outputs": [],
   "source": [
    "fig, ax = plt.subplots()\n",
    "ax = plot_validation_curve(n_estimators_validation, 'Number of iterations', ax=ax)\n",
    "plt.show()"
   ]
  },
  {
   "cell_type": "code",
   "execution_count": null,
   "metadata": {},
   "outputs": [],
   "source": [
    "clf.set_params(n_estimators=200)"
   ]
  },
  {
   "cell_type": "code",
   "execution_count": null,
   "metadata": {},
   "outputs": [],
   "source": [
    "clf = clf.fit(sim_train.X, sim_train.y)\n",
    "train_pred = clf.predict(sim_train.X)\n",
    "# train_acc = mean_squared_error(sim_train.y, train_pred)\n",
    "train_score = median_energy_res(sim_train.y, train_pred)\n",
    "\n",
    "test_pred = clf.predict(sim_test.X)\n",
    "# test_acc = mean_squared_error(sim_test.y, test_pred)\n",
    "test_score = median_energy_res(sim_test.y, test_pred)\n",
    "print('Testing score: {}'.format(test_score))\n",
    "print('Training score: {}'.format(train_score))"
   ]
  },
  {
   "cell_type": "code",
   "execution_count": null,
   "metadata": {
    "collapsed": true
   },
   "outputs": [],
   "source": [
    "energy_bins = 10**np.arange(5.0, 9.51, 0.1)\n",
    "energy_midpoints = (energy_bins[1:] + energy_bins[:-1]) / 2"
   ]
  },
  {
   "cell_type": "code",
   "execution_count": null,
   "metadata": {
    "collapsed": true
   },
   "outputs": [],
   "source": [
    "light_mask = sim_test.comp == 'light'\n",
    "heavy_mask = sim_test.comp == 'heavy'"
   ]
  },
  {
   "cell_type": "code",
   "execution_count": null,
   "metadata": {
    "collapsed": true
   },
   "outputs": [],
   "source": [
    "energy_resolution = np.log10(test_pred/sim_test.y)\n",
    "_, bin_medians_light, error_light = comp.analysis.data_functions.get_medians(np.log10(sim_test.y)[light_mask],\n",
    "                                                                           energy_resolution[light_mask],\n",
    "                                                                           np.log10(energy_bins))\n",
    "_, bin_medians_heavy, error_heavy = comp.analysis.data_functions.get_medians(np.log10(sim_test.y)[heavy_mask],\n",
    "                                                                           energy_resolution[heavy_mask],\n",
    "                                                                           np.log10(energy_bins))"
   ]
  },
  {
   "cell_type": "code",
   "execution_count": null,
   "metadata": {},
   "outputs": [],
   "source": [
    "fig, ax = plt.subplots()\n",
    "ax.errorbar(np.log10(energy_midpoints), bin_medians_light, yerr=error_light,\n",
    "            marker='.', ls='None', label='light')\n",
    "ax.errorbar(np.log10(energy_midpoints), bin_medians_heavy, yerr=error_heavy,\n",
    "            marker='.', ls='None', label='heavy')\n",
    "ax.axhline(0, marker='None', linestyle='-.', color='k')\n",
    "ax.set_xlabel('$\\mathrm{\\log_{10}(E_{MC}/GeV)}$')\n",
    "ax.set_ylabel('$\\mathrm{\\log_{10}(E_{reco}/E_{true})}$')\n",
    "ax.set_xlim([6.3, 9.0])\n",
    "ax.set_ylim([-0.15, 0.15])\n",
    "ax.legend()\n",
    "plt.grid()\n",
    "# plt.savefig('/home/jbourbeau/public_html/figures/lap-energyres.png')\n",
    "plt.show()"
   ]
  },
  {
   "cell_type": "code",
   "execution_count": null,
   "metadata": {},
   "outputs": [],
   "source": [
    "joblib.dump(clf, 'regressor.pkl') "
   ]
  },
  {
   "cell_type": "code",
   "execution_count": null,
   "metadata": {
    "collapsed": true
   },
   "outputs": [],
   "source": []
  }
 ],
 "metadata": {
  "kernelspec": {
   "display_name": "Python 2",
   "language": "python",
   "name": "python2"
  },
  "language_info": {
   "codemirror_mode": {
    "name": "ipython",
    "version": 2
   },
   "file_extension": ".py",
   "mimetype": "text/x-python",
   "name": "python",
   "nbconvert_exporter": "python",
   "pygments_lexer": "ipython2",
   "version": "2.7.13"
  }
 },
 "nbformat": 4,
 "nbformat_minor": 1
}
