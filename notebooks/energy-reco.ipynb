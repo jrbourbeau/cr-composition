{
 "cells": [
  {
   "cell_type": "markdown",
   "metadata": {
    "deletable": true,
    "editable": true
   },
   "source": [
    "<a id='top'> </a>\n",
    "Author: [James Bourbeau](http://www.jamesbourbeau.com)"
   ]
  },
  {
   "cell_type": "code",
   "execution_count": 1,
   "metadata": {
    "collapsed": false,
    "deletable": true,
    "editable": true
   },
   "outputs": [
    {
     "name": "stdout",
     "output_type": "stream",
     "text": [
      "last updated: 2017-03-29 \n",
      "\n",
      "CPython 2.7.10\n",
      "IPython 5.3.0\n",
      "\n",
      "numpy 1.12.0\n",
      "scipy 0.15.1\n",
      "pandas 0.19.2\n",
      "sklearn 0.18.1\n",
      "mlxtend 0.5.1\n"
     ]
    }
   ],
   "source": [
    "%load_ext watermark\n",
    "%watermark -u -d -v -p numpy,scipy,pandas,sklearn,mlxtend"
   ]
  },
  {
   "cell_type": "markdown",
   "metadata": {
    "deletable": true,
    "editable": true
   },
   "source": [
    "# Energy reconstruction\n",
    "### Table of contents\n",
    "1. [Data preprocessing](#Data-preprocessing)\n",
    "2. [Weight simulation events to spectrum](#Weight-simulation-events-to-spectrum)\n",
    "3. [S125 verification](#S125-verification)\n",
    "4. [$\\log_{10}(\\mathrm{dE/dX})$ verification](#$\\log_{10}(\\mathrm{dE/dX})$-verification)"
   ]
  },
  {
   "cell_type": "code",
   "execution_count": 42,
   "metadata": {
    "collapsed": false,
    "deletable": true,
    "editable": true
   },
   "outputs": [],
   "source": [
    "from __future__ import division, print_function\n",
    "import numpy as np\n",
    "import pandas as pd\n",
    "import matplotlib.pyplot as plt\n",
    "import matplotlib.gridspec as gridspec\n",
    "import seaborn.apionly as sns\n",
    "\n",
    "from sklearn.ensemble import RandomForestRegressor, GradientBoostingRegressor\n",
    "from sklearn.model_selection import validation_curve\n",
    "from sklearn.metrics import mean_squared_error, make_scorer\n",
    "from sklearn.externals import joblib\n",
    "\n",
    "import composition as comp\n",
    "import composition.analysis.plotting as plotting\n",
    "\n",
    "color_dict = comp.analysis.get_color_dict()\n",
    "\n",
    "%matplotlib inline"
   ]
  },
  {
   "cell_type": "markdown",
   "metadata": {
    "deletable": true,
    "editable": true
   },
   "source": [
    "# Data preprocessing\n",
    "[ [back to top](#top) ]\n",
    "1. Load simulation/data dataframe and apply specified quality cuts\n",
    "2. Extract desired features from dataframe\n",
    "3. Get separate testing and training datasets\n",
    "4. Feature selection"
   ]
  },
  {
   "cell_type": "markdown",
   "metadata": {
    "deletable": true,
    "editable": true
   },
   "source": [
    "### Load simulation, format feature and target matrices"
   ]
  },
  {
   "cell_type": "code",
   "execution_count": 3,
   "metadata": {
    "collapsed": false,
    "deletable": true,
    "editable": true
   },
   "outputs": [
    {
     "name": "stdout",
     "output_type": "stream",
     "text": [
      "sim quality cut event flow:\n",
      "             IceTopQualityCuts:    1.0    1.0\n",
      "         lap_InIce_containment:  0.776  0.776\n",
      "              InIceQualityCuts:  0.786   0.75\n",
      "                 num_hits_1_60:  0.999   0.75\n",
      "             reco_energy_range:  0.837  0.623\n",
      "\n",
      "\n",
      "Selecting the following features:\n",
      "\t$\\cos(\\theta_{\\mathrm{Lap}})$\n",
      "\t$\\log_{10}(S_{\\mathrm{125}})$\n",
      "\t\n",
      "Number training events = 223211\n",
      "Number testing events = 24801\n"
     ]
    }
   ],
   "source": [
    "feature_list = ['lap_cos_zenith', 'log_s125']\n",
    "# feature_list = ['lap_cos_zenith', 'log_s125', 'NStations', 'IceTop_charge']\n",
    "# feature_list = ['lap_cos_zenith', 'lap_log_energy', 'log_s125', 'NStations', 'IceTop_charge']\n",
    "# feature_list = ['lap_cos_zenith', 'NStations', 'Laputop_IceTop_FractionContainment', 'IceTop_charge']\n",
    "sim_train, sim_test = comp.analysis.preprocess_sim(feature_list=feature_list, target='MC_energy',\n",
    "                                                   labelencode=False, return_comp=True)"
   ]
  },
  {
   "cell_type": "code",
   "execution_count": 4,
   "metadata": {
    "collapsed": true,
    "deletable": true,
    "editable": true
   },
   "outputs": [],
   "source": [
    "nan_mask_train = ~np.isnan(sim_train.X).any(axis=1)\n",
    "nan_mask_test = ~np.isnan(sim_test.X).any(axis=1)"
   ]
  },
  {
   "cell_type": "code",
   "execution_count": 5,
   "metadata": {
    "collapsed": false,
    "deletable": true,
    "editable": true
   },
   "outputs": [],
   "source": [
    "sim_train = sim_train[nan_mask_train]\n",
    "sim_test = sim_test[nan_mask_test]"
   ]
  },
  {
   "cell_type": "code",
   "execution_count": 6,
   "metadata": {
    "collapsed": false,
    "deletable": true,
    "editable": true,
    "scrolled": true
   },
   "outputs": [
    {
     "name": "stdout",
     "output_type": "stream",
     "text": [
      "sim quality cut event flow:\n",
      "             IceTopQualityCuts:    1.0    1.0\n",
      "         lap_InIce_containment:  0.776  0.776\n",
      "              InIceQualityCuts:  0.786   0.75\n",
      "                 num_hits_1_60:  0.999   0.75\n",
      "             reco_energy_range:  0.837  0.623\n",
      "\n",
      "\n"
     ]
    }
   ],
   "source": [
    "df_sim = comp.load_dataframe(datatype='sim', config='IC79')\n",
    "df_sim.dropna(inplace=True)\n",
    "feature_list, feature_labels = comp.analysis.get_training_features(feature_list)"
   ]
  },
  {
   "cell_type": "code",
   "execution_count": 7,
   "metadata": {
    "collapsed": false,
    "deletable": true,
    "editable": true
   },
   "outputs": [
    {
     "name": "stderr",
     "output_type": "stream",
     "text": [
      "/home/jbourbeau/.local/lib/python2.7/site-packages/matplotlib/figure.py:1742: UserWarning: This figure includes Axes that are not compatible with tight_layout, so its results might be incorrect.\n",
      "  warnings.warn(\"This figure includes Axes that are not \"\n"
     ]
    },
    {
     "data": {
      "image/png": "[encoded data removed]",
      "text/plain": [
       "<matplotlib.figure.Figure at 0x7fb12b0db1d0>"
      ]
     },
     "metadata": {},
     "output_type": "display_data"
    }
   ],
   "source": [
    "fig, ax = plt.subplots()\n",
    "ax.scatter(df_sim['MC_log_energy'][:300], df_sim['log_s125'][:300])\n",
    "ax.set_xlabel('$\\mathrm{\\\\log_{10}(E_{true}/GeV)}$')\n",
    "ax.set_ylabel('$\\mathrm{\\\\log_{10}(S_{125})}$')\n",
    "ax.grid()\n",
    "plt.show()"
   ]
  },
  {
   "cell_type": "code",
   "execution_count": 8,
   "metadata": {
    "collapsed": false,
    "deletable": true,
    "editable": true
   },
   "outputs": [
    {
     "data": {
      "text/plain": [
       "(223211, 2)"
      ]
     },
     "execution_count": 8,
     "metadata": {},
     "output_type": "execute_result"
    }
   ],
   "source": [
    "sim_train.X.shape"
   ]
  },
  {
   "cell_type": "code",
   "execution_count": 9,
   "metadata": {
    "collapsed": false,
    "deletable": true,
    "editable": true
   },
   "outputs": [],
   "source": [
    "# clf = GradientBoostingRegressor(n_estimators=100, learning_rate=0.1, random_state=2)\n",
    "clf = RandomForestRegressor(n_estimators=50, n_jobs=5, random_state=2)"
   ]
  },
  {
   "cell_type": "code",
   "execution_count": 21,
   "metadata": {
    "collapsed": true,
    "deletable": true,
    "editable": true
   },
   "outputs": [],
   "source": [
    "def plot_validation_curve(validation_dict, param_name, ylime=None, ax=None):\n",
    "    \n",
    "    if ax is None:\n",
    "        ax = plt.gca()\n",
    "        \n",
    "    ax.plot(validation_dict['range'], validation_dict['train_mean'], label=\"Training score\",\n",
    "             color='C0')\n",
    "    ax.fill_between(validation_dict['range'], validation_dict['train_mean'] - validation_dict['train_std'],\n",
    "                     validation_dict['train_mean'] + validation_dict['train_std'], alpha=0.2,\n",
    "                     color='C0')\n",
    "    \n",
    "    ax.plot(validation_dict['range'], validation_dict['test_mean'], label=\"Cross-validation score\",\n",
    "                 color='C2')\n",
    "    ax.fill_between(validation_dict['range'], validation_dict['test_mean'] - validation_dict['test_std'],\n",
    "                     validation_dict['test_mean'] + validation_dict['test_std'], alpha=0.2,\n",
    "                     color='C2')\n",
    "    \n",
    "    ax.set_xlabel(param_name)\n",
    "    ax.set_ylabel('Median energy resolution')\n",
    "    ax.grid()\n",
    "    ax.legend()\n",
    "    \n",
    "    return ax"
   ]
  },
  {
   "cell_type": "markdown",
   "metadata": {
    "deletable": true,
    "editable": true
   },
   "source": [
    "### Define scoring function"
   ]
  },
  {
   "cell_type": "code",
   "execution_count": 10,
   "metadata": {
    "collapsed": true,
    "deletable": true,
    "editable": true
   },
   "outputs": [],
   "source": [
    "def median_energy_res(y, y_pred):\n",
    "    return np.median(np.log10(y/y_pred))\n",
    "scorer = make_scorer(median_energy_res, greater_is_better=False)"
   ]
  },
  {
   "cell_type": "markdown",
   "metadata": {
    "deletable": true,
    "editable": true
   },
   "source": [
    "## Validation curve for maximum tree depth"
   ]
  },
  {
   "cell_type": "code",
   "execution_count": 12,
   "metadata": {
    "collapsed": false,
    "deletable": true,
    "editable": true,
    "scrolled": true
   },
   "outputs": [
    {
     "name": "stdout",
     "output_type": "stream",
     "text": [
      "[CV] max_depth=1 .....................................................\n",
      "[CV] max_depth=2 .....................................................\n",
      "[CV] max_depth=3 .....................................................\n",
      "[CV] max_depth=4 .....................................................\n",
      "[CV] max_depth=5 .....................................................\n",
      "[CV] ...................................... max_depth=1, total=   1.3s\n",
      "[CV] max_depth=6 .....................................................\n",
      "[CV] ...................................... max_depth=2, total=   2.1s\n",
      "[CV] max_depth=7 .....................................................\n",
      "[CV] ...................................... max_depth=3, total=   3.1s\n",
      "[CV] max_depth=8 .....................................................\n",
      "[CV] ...................................... max_depth=4, total=   3.7s\n",
      "[CV] max_depth=9 .....................................................\n",
      "[CV] ...................................... max_depth=5, total=   4.1s\n",
      "[CV] max_depth=10 ....................................................\n",
      "[CV] ...................................... max_depth=6, total=   5.0s\n",
      "[CV] max_depth=1 .....................................................\n",
      "[CV] ...................................... max_depth=7, total=   5.2s\n",
      "[CV] max_depth=2 .....................................................\n",
      "[CV] ...................................... max_depth=1, total=   1.3s\n",
      "[CV] max_depth=3 .....................................................\n",
      "[CV] ...................................... max_depth=8, total=   6.3s\n",
      "[CV] max_depth=4 .....................................................\n",
      "[CV] ...................................... max_depth=9, total=   6.2s\n",
      "[CV] max_depth=5 .....................................................\n",
      "[CV] ...................................... max_depth=2, total=   2.1s\n",
      "[CV] max_depth=6 .....................................................\n",
      "[CV] ...................................... max_depth=3, total=   2.8s\n",
      "[CV] max_depth=7 .....................................................\n",
      "[CV] ..................................... max_depth=10, total=   7.3s\n",
      "[CV] max_depth=8 .....................................................\n",
      "[CV] ...................................... max_depth=4, total=   3.4s\n",
      "[CV] max_depth=9 .....................................................\n",
      "[CV] ...................................... max_depth=5, total=   4.2s\n",
      "[CV] max_depth=10 ....................................................\n",
      "[CV] ...................................... max_depth=6, total=   5.1s\n",
      "[CV] max_depth=1 .....................................................\n",
      "[CV] ...................................... max_depth=7, total=   5.5s\n",
      "[CV] max_depth=2 .....................................................\n",
      "[CV] ...................................... max_depth=1, total=   1.5s\n",
      "[CV] max_depth=3 .....................................................\n",
      "[CV] ...................................... max_depth=8, total=   5.9s\n",
      "[CV] max_depth=4 .....................................................\n",
      "[CV] ...................................... max_depth=2, total=   2.2s\n",
      "[CV] max_depth=5 .....................................................\n",
      "[CV] ...................................... max_depth=9, total=   6.9s\n",
      "[CV] max_depth=6 .....................................................\n",
      "[CV] ...................................... max_depth=3, total=   2.8s\n",
      "[CV] max_depth=7 .....................................................\n",
      "[CV] ...................................... max_depth=4, total=   3.6s\n",
      "[CV] max_depth=8 .....................................................\n",
      "[CV] ..................................... max_depth=10, total=   7.0s\n",
      "[CV] max_depth=9 .....................................................\n",
      "[CV] ...................................... max_depth=5, total=   4.5s\n",
      "[CV] max_depth=10 ....................................................\n",
      "[CV] ...................................... max_depth=6, total=   5.3s\n",
      "[CV] max_depth=1 .....................................................\n",
      "[CV] ...................................... max_depth=7, total=   5.7s\n",
      "[CV] max_depth=2 .....................................................\n",
      "[CV] ...................................... max_depth=8, total=   5.6s\n",
      "[CV] max_depth=3 .....................................................\n",
      "[CV] ...................................... max_depth=1, total=   1.3s\n",
      "[CV] max_depth=4 .....................................................\n",
      "[CV] ...................................... max_depth=2, total=   2.3s\n",
      "[CV] max_depth=5 .....................................................\n",
      "[CV] ...................................... max_depth=9, total=   8.3s\n",
      "[CV] max_depth=6 .....................................................\n",
      "[CV] ...................................... max_depth=3, total=   2.7s\n",
      "[CV] max_depth=7 .....................................................\n",
      "[CV] ..................................... max_depth=10, total=   7.0s\n",
      "[CV] max_depth=8 .....................................................\n",
      "[CV] ...................................... max_depth=5, total=   4.0s\n",
      "[CV] max_depth=9 .....................................................\n",
      "[CV] ...................................... max_depth=4, total=   5.6s\n",
      "[CV] max_depth=10 ....................................................\n",
      "[CV] ...................................... max_depth=6, total=   4.8s\n",
      "[CV] max_depth=1 .....................................................\n",
      "[CV] ...................................... max_depth=7, total=   5.7s\n",
      "[CV] max_depth=2 .....................................................\n",
      "[CV] ...................................... max_depth=1, total=   1.4s\n",
      "[CV] max_depth=3 .....................................................\n",
      "[CV] ...................................... max_depth=8, total=   6.0s\n",
      "[CV] max_depth=4 .....................................................\n",
      "[CV] ...................................... max_depth=2, total=   2.1s\n",
      "[CV] max_depth=5 .....................................................\n",
      "[CV] ...................................... max_depth=9, total=   5.8s\n",
      "[CV] max_depth=6 .....................................................\n",
      "[CV] ...................................... max_depth=3, total=   3.5s\n",
      "[CV] max_depth=7 .....................................................\n",
      "[CV] ..................................... max_depth=10, total=   7.7s\n",
      "[CV] max_depth=8 .....................................................\n",
      "[CV] ...................................... max_depth=4, total=   3.7s\n",
      "[CV] max_depth=9 .....................................................\n",
      "[CV] ...................................... max_depth=5, total=   4.7s\n",
      "[CV] max_depth=10 ....................................................\n",
      "[CV] ...................................... max_depth=6, total=   5.4s\n",
      "[CV] max_depth=1 .....................................................\n",
      "[CV] ...................................... max_depth=7, total=   5.4s\n",
      "[CV] max_depth=2 .....................................................\n",
      "[CV] ...................................... max_depth=1, total=   1.6s\n",
      "[CV] max_depth=3 .....................................................\n",
      "[CV] ...................................... max_depth=8, total=   6.5s\n",
      "[CV] max_depth=4 .....................................................\n",
      "[CV] ...................................... max_depth=2, total=   2.0s\n",
      "[CV] max_depth=5 .....................................................\n"
     ]
    },
    {
     "name": "stderr",
     "output_type": "stream",
     "text": [
      "[Parallel(n_jobs=5)]: Done  50 out of 100 | elapsed:   50.1s remaining:   50.1s\n"
     ]
    },
    {
     "name": "stdout",
     "output_type": "stream",
     "text": [
      "[CV] ...................................... max_depth=9, total=   7.4s\n",
      "[CV] max_depth=6 .....................................................\n",
      "[CV] ...................................... max_depth=3, total=   2.8s\n",
      "[CV] max_depth=7 .....................................................\n",
      "[CV] ..................................... max_depth=10, total=   7.1s\n",
      "[CV] max_depth=8 .....................................................\n",
      "[CV] ...................................... max_depth=4, total=   3.4s\n",
      "[CV] max_depth=9 .....................................................\n",
      "[CV] ...................................... max_depth=5, total=   4.1s\n",
      "[CV] max_depth=10 ....................................................\n",
      "[CV] ...................................... max_depth=6, total=   4.7s\n",
      "[CV] max_depth=1 .....................................................\n",
      "[CV] ...................................... max_depth=7, total=   6.0s\n",
      "[CV] max_depth=2 .....................................................\n",
      "[CV] ...................................... max_depth=1, total=   2.0s\n",
      "[CV] max_depth=3 .....................................................\n",
      "[CV] ...................................... max_depth=8, total=   5.9s\n",
      "[CV] max_depth=4 .....................................................\n",
      "[CV] ...................................... max_depth=2, total=   2.0s\n",
      "[CV] max_depth=5 .....................................................\n",
      "[CV] ...................................... max_depth=9, total=   7.0s\n",
      "[CV] max_depth=6 .....................................................\n",
      "[CV] ...................................... max_depth=3, total=   3.0s\n",
      "[CV] max_depth=7 .....................................................\n",
      "[CV] ..................................... max_depth=10, total=   7.1s\n",
      "[CV] max_depth=8 .....................................................\n",
      "[CV] ...................................... max_depth=4, total=   3.7s\n",
      "[CV] max_depth=9 .....................................................\n",
      "[CV] ...................................... max_depth=5, total=   3.8s\n",
      "[CV] max_depth=10 ....................................................\n",
      "[CV] ...................................... max_depth=6, total=   5.0s\n",
      "[CV] max_depth=1 .....................................................\n",
      "[CV] ...................................... max_depth=8, total=   5.8s\n",
      "[CV] max_depth=2 .....................................................\n",
      "[CV] ...................................... max_depth=1, total=   1.9s\n",
      "[CV] max_depth=3 .....................................................\n",
      "[CV] ...................................... max_depth=9, total=   6.2s\n",
      "[CV] max_depth=4 .....................................................\n",
      "[CV] ...................................... max_depth=7, total=   8.0s\n",
      "[CV] max_depth=5 .....................................................\n",
      "[CV] ...................................... max_depth=2, total=   2.5s\n",
      "[CV] max_depth=6 .....................................................\n",
      "[CV] ..................................... max_depth=10, total=   6.4s\n",
      "[CV] max_depth=7 .....................................................\n",
      "[CV] ...................................... max_depth=3, total=   3.3s\n",
      "[CV] max_depth=8 .....................................................\n",
      "[CV] ...................................... max_depth=4, total=   3.4s\n",
      "[CV] max_depth=9 .....................................................\n",
      "[CV] ...................................... max_depth=5, total=   4.5s\n",
      "[CV] max_depth=10 ....................................................\n",
      "[CV] ...................................... max_depth=7, total=   5.1s\n",
      "[CV] max_depth=1 .....................................................\n",
      "[CV] ...................................... max_depth=6, total=   5.3s\n",
      "[CV] max_depth=2 .....................................................\n",
      "[CV] ...................................... max_depth=8, total=   5.8s\n",
      "[CV] max_depth=3 .....................................................\n",
      "[CV] ...................................... max_depth=1, total=   1.3s\n",
      "[CV] max_depth=4 .....................................................\n",
      "[CV] ...................................... max_depth=2, total=   2.4s\n",
      "[CV] max_depth=5 .....................................................\n",
      "[CV] ...................................... max_depth=3, total=   2.7s\n",
      "[CV] max_depth=6 .....................................................\n",
      "[CV] ...................................... max_depth=9, total=   7.8s\n",
      "[CV] max_depth=7 .....................................................\n",
      "[CV] ..................................... max_depth=10, total=   7.2s\n",
      "[CV] max_depth=8 .....................................................\n",
      "[CV] ...................................... max_depth=5, total=   4.1s\n",
      "[CV] max_depth=9 .....................................................\n",
      "[CV] ...................................... max_depth=4, total=   5.1s\n",
      "[CV] max_depth=10 ....................................................\n",
      "[CV] ...................................... max_depth=6, total=   4.7s\n",
      "[CV] max_depth=1 .....................................................\n",
      "[CV] ...................................... max_depth=7, total=   5.5s\n",
      "[CV] max_depth=2 .....................................................\n",
      "[CV] ...................................... max_depth=1, total=   2.4s\n",
      "[CV] max_depth=3 .....................................................\n",
      "[CV] ...................................... max_depth=8, total=   6.1s\n",
      "[CV] max_depth=4 .....................................................\n",
      "[CV] ...................................... max_depth=2, total=   2.0s\n",
      "[CV] max_depth=5 .....................................................\n",
      "[CV] ...................................... max_depth=9, total=   6.4s\n",
      "[CV] max_depth=6 .....................................................\n",
      "[CV] ..................................... max_depth=10, total=   7.8s\n",
      "[CV] max_depth=7 .....................................................\n",
      "[CV] ...................................... max_depth=3, total=   2.7s\n",
      "[CV] max_depth=8 .....................................................\n",
      "[CV] ...................................... max_depth=4, total=   3.3s\n",
      "[CV] max_depth=9 .....................................................\n",
      "[CV] ...................................... max_depth=5, total=   4.5s\n",
      "[CV] max_depth=10 ....................................................\n",
      "[CV] ...................................... max_depth=6, total=   5.0s\n",
      "[CV] ...................................... max_depth=7, total=   5.0s\n",
      "[CV] ...................................... max_depth=9, total=   5.7s\n",
      "[CV] ...................................... max_depth=8, total=   7.8s\n",
      "[CV] ..................................... max_depth=10, total=   5.8s\n"
     ]
    },
    {
     "name": "stderr",
     "output_type": "stream",
     "text": [
      "[Parallel(n_jobs=5)]: Done 100 out of 100 | elapsed:  1.7min finished\n"
     ]
    }
   ],
   "source": [
    "max_depth_validation = {}\n",
    "max_depth_validation['range'] = np.arange(1, 11)\n",
    "train_scores, test_scores = validation_curve(clf, sim_train.X, sim_train.y,\n",
    "                                param_name='max_depth', param_range=max_depth_validation['range'],\n",
    "                                cv=10, scoring=scorer, n_jobs=5, verbose=2)\n",
    "max_depth_validation['train_mean'] = np.mean(train_scores, axis=1)\n",
    "max_depth_validation['train_std'] = np.std(train_scores, axis=1)\n",
    "max_depth_validation['test_mean'] = np.mean(test_scores, axis=1)\n",
    "max_depth_validation['test_std'] = np.std(test_scores, axis=1)"
   ]
  },
  {
   "cell_type": "code",
   "execution_count": 22,
   "metadata": {
    "collapsed": false,
    "deletable": true,
    "editable": true
   },
   "outputs": [
    {
     "data": {
      "image/png": "[encoded data removed]",
      "text/plain": [
       "<matplotlib.figure.Figure at 0x7fb12b7f9850>"
      ]
     },
     "metadata": {},
     "output_type": "display_data"
    }
   ],
   "source": [
    "fig, ax = plt.subplots()\n",
    "ax = plot_validation_curve(max_depth_validation, 'Maximum tree depth', ax=ax)\n",
    "plt.show()"
   ]
  },
  {
   "cell_type": "code",
   "execution_count": 14,
   "metadata": {
    "collapsed": false
   },
   "outputs": [
    {
     "data": {
      "text/plain": [
       "{'range': array([ 1,  2,  3,  4,  5,  6,  7,  8,  9, 10]),\n",
       " 'test_mean': array([ 0.50255475,  0.3839728 ,  0.14932636,  0.04934139,  0.02041614,\n",
       "         0.0103807 ,  0.00827866,  0.00750279,  0.00609946,  0.00564338]),\n",
       " 'test_std': array([ 0.2856297 ,  0.22810723,  0.09949119,  0.0250328 ,  0.01215241,\n",
       "         0.0083085 ,  0.00996272,  0.01126581,  0.01158005,  0.01175209]),\n",
       " 'train_mean': array([ 0.52882301,  0.38635185,  0.12845208,  0.04070192,  0.01760879,\n",
       "         0.00977809,  0.00807251,  0.00724977,  0.00594708,  0.00528878]),\n",
       " 'train_std': array([ 0.00635995,  0.01219002,  0.00465081,  0.00136199,  0.00076338,\n",
       "         0.00056396,  0.00047198,  0.00055677,  0.00057028,  0.00056188])}"
      ]
     },
     "execution_count": 14,
     "metadata": {},
     "output_type": "execute_result"
    }
   ],
   "source": [
    "max_depth_validation"
   ]
  },
  {
   "cell_type": "code",
   "execution_count": 30,
   "metadata": {
    "collapsed": false,
    "deletable": true,
    "editable": true
   },
   "outputs": [
    {
     "data": {
      "text/plain": [
       "RandomForestRegressor(bootstrap=True, criterion='mse', max_depth=20,\n",
       "           max_features='auto', max_leaf_nodes=None,\n",
       "           min_impurity_split=1e-07, min_samples_leaf=1,\n",
       "           min_samples_split=2, min_weight_fraction_leaf=0.0,\n",
       "           n_estimators=50, n_jobs=5, oob_score=False, random_state=2,\n",
       "           verbose=0, warm_start=False)"
      ]
     },
     "execution_count": 30,
     "metadata": {},
     "output_type": "execute_result"
    }
   ],
   "source": [
    "clf.set_params(max_depth=20)"
   ]
  },
  {
   "cell_type": "code",
   "execution_count": 18,
   "metadata": {
    "collapsed": false,
    "deletable": true,
    "editable": true,
    "scrolled": true
   },
   "outputs": [
    {
     "name": "stdout",
     "output_type": "stream",
     "text": [
      "[CV] n_estimators=10 .................................................\n",
      "[CV] n_estimators=110 ................................................\n",
      "[CV] n_estimators=210 ................................................\n",
      "[CV] n_estimators=310 ................................................\n",
      "[CV] n_estimators=410 ................................................\n",
      "[CV] .................................. n_estimators=10, total=   1.4s\n",
      "[CV] n_estimators=10 .................................................\n",
      "[CV] .................................. n_estimators=10, total=   1.8s\n",
      "[CV] n_estimators=110 ................................................\n",
      "[CV] ................................. n_estimators=110, total=  15.5s\n",
      "[CV] n_estimators=210 ................................................\n",
      "[CV] ................................. n_estimators=110, total=  16.1s\n",
      "[CV] n_estimators=310 ................................................\n",
      "[CV] ................................. n_estimators=210, total=  29.1s\n",
      "[CV] n_estimators=410 ................................................\n",
      "[CV] ................................. n_estimators=210, total=  31.6s\n",
      "[CV] n_estimators=10 .................................................\n",
      "[CV] ................................. n_estimators=310, total=  47.7s\n",
      "[CV] n_estimators=110 ................................................\n",
      "[CV] .................................. n_estimators=10, total=   2.6s\n",
      "[CV] n_estimators=210 ................................................\n",
      "[CV] ................................. n_estimators=410, total= 1.0min\n",
      "[CV] n_estimators=310 ................................................\n",
      "[CV] ................................. n_estimators=310, total=  53.0s\n",
      "[CV] n_estimators=410 ................................................\n",
      "[CV] ................................. n_estimators=110, total=  25.9s\n",
      "[CV] n_estimators=10 .................................................\n",
      "[CV] ................................. n_estimators=410, total=  45.3s\n",
      "[CV] n_estimators=110 ................................................\n",
      "[CV] .................................. n_estimators=10, total=   1.7s\n",
      "[CV] n_estimators=210 ................................................\n",
      "[CV] ................................. n_estimators=210, total=  35.1s\n",
      "[CV] n_estimators=310 ................................................\n",
      "[CV] ................................. n_estimators=110, total=  17.5s\n",
      "[CV] n_estimators=410 ................................................\n",
      "[CV] ................................. n_estimators=210, total=  33.1s\n",
      "[CV] n_estimators=10 .................................................\n",
      "[CV] .................................. n_estimators=10, total=   8.7s\n",
      "[CV] n_estimators=110 ................................................\n",
      "[CV] ................................. n_estimators=310, total=  58.4s\n",
      "[CV] n_estimators=210 ................................................\n",
      "[CV] ................................. n_estimators=310, total=  49.8s\n",
      "[CV] n_estimators=310 ................................................\n",
      "[CV] ................................. n_estimators=410, total= 1.1min\n",
      "[CV] n_estimators=410 ................................................\n",
      "[CV] ................................. n_estimators=110, total=  21.3s\n",
      "[CV] n_estimators=10 .................................................\n",
      "[CV] .................................. n_estimators=10, total=   1.6s\n",
      "[CV] n_estimators=110 ................................................\n",
      "[CV] ................................. n_estimators=210, total=  29.9s\n",
      "[CV] n_estimators=210 ................................................\n",
      "[CV] ................................. n_estimators=110, total=  14.9s\n",
      "[CV] n_estimators=310 ................................................\n",
      "[CV] ................................. n_estimators=410, total= 1.1min\n",
      "[CV] n_estimators=410 ................................................\n"
     ]
    },
    {
     "name": "stderr",
     "output_type": "stream",
     "text": [
      "[Parallel(n_jobs=5)]: Done  25 out of  50 | elapsed:  2.9min remaining:  2.9min\n"
     ]
    },
    {
     "name": "stdout",
     "output_type": "stream",
     "text": [
      "[CV] ................................. n_estimators=210, total=  29.5s\n",
      "[CV] n_estimators=10 .................................................\n",
      "[CV] .................................. n_estimators=10, total=   3.3s\n",
      "[CV] n_estimators=110 ................................................\n",
      "[CV] ................................. n_estimators=310, total=  46.0s\n",
      "[CV] n_estimators=210 ................................................\n",
      "[CV] ................................. n_estimators=110, total=  15.5s\n",
      "[CV] n_estimators=310 ................................................\n",
      "[CV] ................................. n_estimators=310, total=  44.0s\n",
      "[CV] n_estimators=410 ................................................\n",
      "[CV] ................................. n_estimators=410, total= 1.0min\n",
      "[CV] n_estimators=10 .................................................\n",
      "[CV] .................................. n_estimators=10, total=   1.5s\n",
      "[CV] n_estimators=110 ................................................\n",
      "[CV] ................................. n_estimators=210, total=  41.2s\n",
      "[CV] n_estimators=210 ................................................\n",
      "[CV] ................................. n_estimators=410, total= 1.0min\n",
      "[CV] n_estimators=310 ................................................\n",
      "[CV] ................................. n_estimators=110, total=  26.1s\n",
      "[CV] n_estimators=410 ................................................\n",
      "[CV] ................................. n_estimators=310, total=  42.2s\n",
      "[CV] n_estimators=10 .................................................\n",
      "[CV] .................................. n_estimators=10, total=   5.0s\n",
      "[CV] n_estimators=110 ................................................\n",
      "[CV] ................................. n_estimators=210, total=  28.8s\n",
      "[CV] n_estimators=210 ................................................\n",
      "[CV] ................................. n_estimators=410, total=  58.1s\n",
      "[CV] n_estimators=310 ................................................\n",
      "[CV] ................................. n_estimators=110, total=  18.5s\n",
      "[CV] n_estimators=410 ................................................\n",
      "[CV] ................................. n_estimators=310, total=  44.5s\n",
      "[CV] n_estimators=10 .................................................\n",
      "[CV] .................................. n_estimators=10, total=   3.6s\n",
      "[CV] n_estimators=110 ................................................\n",
      "[CV] ................................. n_estimators=410, total=  57.5s\n",
      "[CV] n_estimators=210 ................................................\n",
      "[CV] ................................. n_estimators=210, total=  28.4s\n",
      "[CV] n_estimators=310 ................................................\n",
      "[CV] ................................. n_estimators=110, total=  20.5s\n",
      "[CV] n_estimators=410 ................................................\n",
      "[CV] ................................. n_estimators=310, total=  50.5s\n",
      "[CV] ................................. n_estimators=210, total=  29.5s\n",
      "[CV] ................................. n_estimators=410, total=  53.0s\n",
      "[CV] ................................. n_estimators=310, total=  39.9s\n",
      "[CV] ................................. n_estimators=410, total=  44.1s\n"
     ]
    },
    {
     "name": "stderr",
     "output_type": "stream",
     "text": [
      "[Parallel(n_jobs=5)]: Done  50 out of  50 | elapsed:  5.9min finished\n"
     ]
    }
   ],
   "source": [
    "n_estimators_validation = {}\n",
    "n_estimators_validation['range'] = np.arange(10, 500, 100)\n",
    "train_scores, test_scores = validation_curve(clf, sim_train.X, sim_train.y,\n",
    "                                param_name='n_estimators', param_range=n_estimators_validation['range'],\n",
    "                                cv=10, scoring=scorer, n_jobs=5, verbose=2)\n",
    "n_estimators_validation['train_mean'] = np.mean(train_scores, axis=1)\n",
    "n_estimators_validation['train_std'] = np.std(train_scores, axis=1)\n",
    "n_estimators_validation['test_mean'] = np.mean(test_scores, axis=1)\n",
    "n_estimators_validation['test_std'] = np.std(test_scores, axis=1)"
   ]
  },
  {
   "cell_type": "code",
   "execution_count": 19,
   "metadata": {
    "collapsed": false,
    "deletable": true,
    "editable": true
   },
   "outputs": [
    {
     "data": {
      "text/plain": [
       "{'range': array([ 10, 110, 210, 310, 410]),\n",
       " 'test_mean': array([ 0.00548868,  0.00557944,  0.00558756,  0.00561756,  0.00561365]),\n",
       " 'test_std': array([ 0.01186723,  0.01175808,  0.01175578,  0.01177776,  0.01176778]),\n",
       " 'train_mean': array([ 0.00516754,  0.00529662,  0.00528581,  0.00528698,  0.00528427]),\n",
       " 'train_std': array([ 0.00056915,  0.00057155,  0.00057321,  0.00056888,  0.00056973])}"
      ]
     },
     "execution_count": 19,
     "metadata": {},
     "output_type": "execute_result"
    }
   ],
   "source": [
    "n_estimators_validation"
   ]
  },
  {
   "cell_type": "code",
   "execution_count": 20,
   "metadata": {
    "collapsed": false,
    "deletable": true,
    "editable": true
   },
   "outputs": [
    {
     "data": {
      "image/png": "[encoded data removed]",
      "text/plain": [
       "<matplotlib.figure.Figure at 0x7fb14c3d9d10>"
      ]
     },
     "metadata": {},
     "output_type": "display_data"
    }
   ],
   "source": [
    "fig, ax = plt.subplots()\n",
    "ax = plot_validation_curve(n_estimators_validation, 'Number of iterations', ax=ax)\n",
    "plt.show()"
   ]
  },
  {
   "cell_type": "code",
   "execution_count": 36,
   "metadata": {
    "collapsed": false,
    "deletable": true,
    "editable": true
   },
   "outputs": [
    {
     "data": {
      "text/plain": [
       "RandomForestRegressor(bootstrap=True, criterion='mse', max_depth=20,\n",
       "           max_features='auto', max_leaf_nodes=None,\n",
       "           min_impurity_split=1e-07, min_samples_leaf=1,\n",
       "           min_samples_split=2, min_weight_fraction_leaf=0.0,\n",
       "           n_estimators=200, n_jobs=5, oob_score=False, random_state=2,\n",
       "           verbose=0, warm_start=False)"
      ]
     },
     "execution_count": 36,
     "metadata": {},
     "output_type": "execute_result"
    }
   ],
   "source": [
    "clf.set_params(n_estimators=200)"
   ]
  },
  {
   "cell_type": "code",
   "execution_count": 37,
   "metadata": {
    "collapsed": false,
    "deletable": true,
    "editable": true
   },
   "outputs": [
    {
     "name": "stdout",
     "output_type": "stream",
     "text": [
      "Testing score: -0.00309242751178\n",
      "Training score: -0.00238709415859\n"
     ]
    }
   ],
   "source": [
    "clf = clf.fit(sim_train.X, sim_train.y)\n",
    "train_pred = clf.predict(sim_train.X)\n",
    "# train_acc = mean_squared_error(sim_train.y, train_pred)\n",
    "train_score = median_energy_res(sim_train.y, train_pred)\n",
    "\n",
    "test_pred = clf.predict(sim_test.X)\n",
    "# test_acc = mean_squared_error(sim_test.y, test_pred)\n",
    "test_score = median_energy_res(sim_test.y, test_pred)\n",
    "print('Testing score: {}'.format(test_score))\n",
    "print('Training score: {}'.format(train_score))"
   ]
  },
  {
   "cell_type": "code",
   "execution_count": 38,
   "metadata": {
    "collapsed": true,
    "deletable": true,
    "editable": true
   },
   "outputs": [],
   "source": [
    "energy_bins = 10**np.arange(5.0, 9.51, 0.1)\n",
    "energy_midpoints = (energy_bins[1:] + energy_bins[:-1]) / 2"
   ]
  },
  {
   "cell_type": "code",
   "execution_count": 39,
   "metadata": {
    "collapsed": false,
    "deletable": true,
    "editable": true
   },
   "outputs": [],
   "source": [
    "light_mask = sim_test.comp == 'light'\n",
    "heavy_mask = sim_test.comp == 'heavy'"
   ]
  },
  {
   "cell_type": "code",
   "execution_count": 40,
   "metadata": {
    "collapsed": false,
    "deletable": true,
    "editable": true
   },
   "outputs": [],
   "source": [
    "energy_resolution = np.log10(test_pred/sim_test.y)\n",
    "_, bin_medians_light, error_light = comp.analysis.data_functions.get_medians(np.log10(sim_test.y)[light_mask],\n",
    "                                                                           energy_resolution[light_mask],\n",
    "                                                                           np.log10(energy_bins))\n",
    "_, bin_medians_heavy, error_heavy = comp.analysis.data_functions.get_medians(np.log10(sim_test.y)[heavy_mask],\n",
    "                                                                           energy_resolution[heavy_mask],\n",
    "                                                                           np.log10(energy_bins))"
   ]
  },
  {
   "cell_type": "code",
   "execution_count": 41,
   "metadata": {
    "collapsed": false,
    "deletable": true,
    "editable": true
   },
   "outputs": [
    {
     "data": {
      "image/png": "[encoded data removed]",
      "text/plain": [
       "<matplotlib.figure.Figure at 0x7fb12b24f650>"
      ]
     },
     "metadata": {},
     "output_type": "display_data"
    }
   ],
   "source": [
    "fig, ax = plt.subplots()\n",
    "ax.errorbar(np.log10(energy_midpoints), bin_medians_light, yerr=error_light,\n",
    "            marker='.', ls='None', label='light')\n",
    "ax.errorbar(np.log10(energy_midpoints), bin_medians_heavy, yerr=error_heavy,\n",
    "            marker='.', ls='None', label='heavy')\n",
    "ax.axhline(0, marker='None', linestyle='-.', color='k')\n",
    "ax.set_xlabel('$\\mathrm{\\log_{10}(E_{MC}/GeV)}$')\n",
    "ax.set_ylabel('$\\mathrm{\\log_{10}(E_{reco}/E_{true})}$')\n",
    "ax.set_xlim([6.3, 9.0])\n",
    "ax.set_ylim([-0.15, 0.15])\n",
    "ax.legend()\n",
    "plt.grid()\n",
    "# plt.savefig('/home/jbourbeau/public_html/figures/lap-energyres.png')\n",
    "plt.show()"
   ]
  },
  {
   "cell_type": "code",
   "execution_count": 43,
   "metadata": {
    "collapsed": false,
    "deletable": true,
    "editable": true
   },
   "outputs": [
    {
     "data": {
      "text/plain": [
       "['regressor.pkl']"
      ]
     },
     "execution_count": 43,
     "metadata": {},
     "output_type": "execute_result"
    }
   ],
   "source": [
    "joblib.dump(clf, 'regressor.pkl') "
   ]
  },
  {
   "cell_type": "code",
   "execution_count": null,
   "metadata": {
    "collapsed": true
   },
   "outputs": [],
   "source": []
  }
 ],
 "metadata": {
  "kernelspec": {
   "display_name": "Python 2",
   "language": "python",
   "name": "python2"
  },
  "language_info": {
   "codemirror_mode": {
    "name": "ipython",
    "version": 2
   },
   "file_extension": ".py",
   "mimetype": "text/x-python",
   "name": "python",
   "nbconvert_exporter": "python",
   "pygments_lexer": "ipython2",
   "version": "2.7.10"
  }
 },
 "nbformat": 4,
 "nbformat_minor": 1
}
