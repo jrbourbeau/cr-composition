{
 "cells": [
  {
   "cell_type": "code",
   "execution_count": 1,
   "metadata": {},
   "outputs": [
    {
     "name": "stdout",
     "output_type": "stream",
     "text": [
      "last updated: 2017-05-25 \n",
      "\n",
      "CPython 2.7.13\n",
      "IPython 5.3.0\n",
      "\n",
      "numpy 1.12.1\n",
      "matplotlib 2.0.2\n",
      "scipy 0.19.0\n",
      "pandas 0.20.1\n",
      "sklearn 0.18.1\n",
      "mlxtend 0.6.0\n"
     ]
    }
   ],
   "source": [
    "%load_ext watermark\n",
    "%watermark -u -d -v -p numpy,matplotlib,scipy,pandas,sklearn,mlxtend"
   ]
  },
  {
   "cell_type": "code",
   "execution_count": 2,
   "metadata": {
    "collapsed": true
   },
   "outputs": [],
   "source": [
    "%load_ext line_profiler"
   ]
  },
  {
   "cell_type": "code",
   "execution_count": 3,
   "metadata": {},
   "outputs": [
    {
     "name": "stderr",
     "output_type": "stream",
     "text": [
      "/home/jbourbeau/.virtualenvs/composition/lib/python2.7/site-packages/sklearn/cross_validation.py:44: DeprecationWarning: This module was deprecated in version 0.18 in favor of the model_selection module into which all the refactored classes and functions are moved. Also note that the interface of the new CV iterators are different from that of this module. This module will be removed in 0.20.\n",
      "  \"This module will be removed in 0.20.\", DeprecationWarning)\n"
     ]
    }
   ],
   "source": [
    "import comptools as comp\n",
    "import comptools.analysis.anisotropy as anisotropy\n",
    "# from benchmarks import cut_df, ref_process"
   ]
  },
  {
   "cell_type": "code",
   "execution_count": 4,
   "metadata": {
    "collapsed": true
   },
   "outputs": [],
   "source": [
    "%lprun -f comp.get_training_features comp.get_training_features()"
   ]
  },
  {
   "cell_type": "code",
   "execution_count": 5,
   "metadata": {
    "collapsed": true
   },
   "outputs": [],
   "source": [
    "pipeline_str = 'GBDT'\n",
    "%lprun -f comp.get_pipeline comp.get_pipeline(pipeline_str)"
   ]
  },
  {
   "cell_type": "code",
   "execution_count": 10,
   "metadata": {
    "collapsed": true
   },
   "outputs": [],
   "source": [
    "%lprun -f comp.get_training_features()"
   ]
  },
  {
   "cell_type": "code",
   "execution_count": 9,
   "metadata": {},
   "outputs": [
    {
     "name": "stdout",
     "output_type": "stream",
     "text": [
      "Starting out with 108522 sim events\n",
      "sim quality cut event flow:\n",
      "      passed_IceTopQualityCuts:    1.0    1.0\n",
      "FractionContainment_Laputop_InIce:  0.793  0.793\n",
      "       passed_InIceQualityCuts:  0.795   0.76\n",
      "                 num_hits_1_60:  0.997  0.759\n",
      "\n",
      "\n"
     ]
    }
   ],
   "source": [
    "%lprun -f comp.load_dataframe comp.load_dataframe(datatype='sim', config='IC86.2012')"
   ]
  },
  {
   "cell_type": "code",
   "execution_count": 4,
   "metadata": {},
   "outputs": [
    {
     "name": "stdout",
     "output_type": "stream",
     "text": [
      "Starting out with 8020592 data events\n",
      "data quality cut event flow:\n",
      "      passed_IceTopQualityCuts:    1.0    1.0\n",
      "FractionContainment_Laputop_InIce:    1.0    1.0\n",
      "       passed_InIceQualityCuts:  0.918  0.918\n",
      "                 num_hits_1_60:    1.0  0.918\n",
      "\n",
      "\n"
     ]
    },
    {
     "name": "stderr",
     "output_type": "stream",
     "text": [
      "/home/jbourbeau/cr-composition/comptools/dataframe_functions.py:140: RuntimeWarning: invalid value encountered in log10\n",
      "  df['log_dEdX'] = np.log10(df['eloss_1500_standard'])\n"
     ]
    }
   ],
   "source": [
    "data_df = comp.load_dataframe(datatype='data', config='IC86.2012')\n",
    "times = data_df.start_time_mjd.values"
   ]
  },
  {
   "cell_type": "code",
   "execution_count": 7,
   "metadata": {
    "collapsed": true
   },
   "outputs": [],
   "source": [
    "%lprun -f anisotropy.make_skymaps anisotropy.make_skymaps(data_df.loc[:200], times, n_resamples=20, n_side=64, verbose=False)"
   ]
  },
  {
   "cell_type": "code",
   "execution_count": null,
   "metadata": {
    "collapsed": true
   },
   "outputs": [],
   "source": []
  }
 ],
 "metadata": {
  "kernelspec": {
   "display_name": "Python 2",
   "language": "python",
   "name": "python2"
  },
  "language_info": {
   "codemirror_mode": {
    "name": "ipython",
    "version": 2
   },
   "file_extension": ".py",
   "mimetype": "text/x-python",
   "name": "python",
   "nbconvert_exporter": "python",
   "pygments_lexer": "ipython2",
   "version": "2.7.13"
  }
 },
 "nbformat": 4,
 "nbformat_minor": 2
}
