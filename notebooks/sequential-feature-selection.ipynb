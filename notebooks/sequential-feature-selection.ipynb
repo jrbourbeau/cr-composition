{
 "cells": [
  {
   "cell_type": "markdown",
   "metadata": {
    "deletable": true,
    "editable": true
   },
   "source": [
    "<a id='top'> </a>\n",
    "Author: [James Bourbeau](http://www.jamesbourbeau.com)"
   ]
  },
  {
   "cell_type": "code",
   "execution_count": 5,
   "metadata": {
    "collapsed": false,
    "deletable": true,
    "editable": true
   },
   "outputs": [
    {
     "name": "stdout",
     "output_type": "stream",
     "text": [
      "The watermark extension is already loaded. To reload it, use:\n",
      "  %reload_ext watermark\n",
      "last updated: 2017-02-03 \n",
      "\n",
      "CPython 2.7.10\n",
      "IPython 5.2.1\n",
      "\n",
      "numpy 1.12.0\n",
      "scipy 0.18.1\n",
      "pandas 0.19.2\n",
      "sklearn 0.18\n",
      "mlxtend 0.5.0\n"
     ]
    }
   ],
   "source": [
    "%load_ext watermark\n",
    "%watermark -u -d -v -p numpy,scipy,pandas,sklearn,mlxtend"
   ]
  },
  {
   "cell_type": "markdown",
   "metadata": {
    "deletable": true,
    "editable": true
   },
   "source": [
    "# Cosmic-ray composition feature selection\n",
    "### Table of contents\n",
    "1. [Data preprocessing](#Data-preprocessing)\n",
    "2. [Comparison of different sequential feature selections](#Comparison-of-different-sequential-feature-selections)\n",
    "3. [Serialize feature selection algorithm](#Serialize-feature-selection-algorithm)"
   ]
  },
  {
   "cell_type": "code",
   "execution_count": 6,
   "metadata": {
    "collapsed": false,
    "deletable": true,
    "editable": true
   },
   "outputs": [
    {
     "name": "stdout",
     "output_type": "stream",
     "text": [
      "Added to PYTHONPATH\n"
     ]
    }
   ],
   "source": [
    "import sys\n",
    "sys.path.append('/home/jbourbeau/cr-composition')\n",
    "print('Added to PYTHONPATH')"
   ]
  },
  {
   "cell_type": "code",
   "execution_count": 7,
   "metadata": {
    "collapsed": false,
    "deletable": true,
    "editable": true
   },
   "outputs": [],
   "source": [
    "from __future__ import division, print_function\n",
    "import numpy as np\n",
    "import pandas as pd\n",
    "import matplotlib.pyplot as plt\n",
    "import cPickle\n",
    "\n",
    "from mlxtend.feature_selection import SequentialFeatureSelector as SFS\n",
    "\n",
    "import composition as comp\n",
    "import composition.analysis.plotting as plotting\n",
    "\n",
    "# # Plotting-related\n",
    "# sns.set_palette('muted')\n",
    "# sns.set_color_codes()\n",
    "# color_dict = {}\n",
    "# for i, composition in enumerate(['light', 'heavy', 'total']):\n",
    "#     color_dict[composition] = sns.color_palette('muted').as_hex()[i]\n",
    "%matplotlib inline"
   ]
  },
  {
   "cell_type": "markdown",
   "metadata": {
    "deletable": true,
    "editable": true
   },
   "source": [
    "# Data preprocessing\n",
    "[ [back to top](#top) ]\n",
    "1. Load simulation/data dataframe and apply specified quality cuts\n",
    "2. Extract desired features from dataframe\n",
    "3. Get separate testing and training datasets\n",
    "4. Feature selection"
   ]
  },
  {
   "cell_type": "markdown",
   "metadata": {
    "deletable": true,
    "editable": true
   },
   "source": [
    "### Load simulation, format feature and target matrices"
   ]
  },
  {
   "cell_type": "code",
   "execution_count": 8,
   "metadata": {
    "collapsed": false,
    "deletable": true,
    "editable": true
   },
   "outputs": [
    {
     "name": "stdout",
     "output_type": "stream",
     "text": [
      "sim quality cut event flow:\n",
      "              lap_reco_success:  0.625  0.625\n",
      "                    lap_zenith:  0.712   0.59\n",
      "                 num_hits_1_30:  0.637  0.575\n",
      "                     IT_signal:  0.227  0.226\n",
      "                max_qfrac_1_30:   0.77  0.226\n",
      "               lap_containment:   0.58  0.175\n",
      "              energy_range_lap:  0.424   0.12\n",
      "                      llhratio:  0.697  0.119\n",
      "\n",
      "\n",
      "training features = ['lap_log_energy', 'lap_cos_zenith', 'log_NChannels_1_30', 'nchannels_nhits_ratio', 'lap_rlogl', 'log_NHits_1_30', 'nchannels_nhits_ratio', 'log_s50', 'log_s125', 'log_s500', 'lap_beta', 'llhratio']\n",
      "number training events = 145105\n",
      "number testing events = 62188\n"
     ]
    }
   ],
   "source": [
    "df_sim = comp.load_dataframe(datatype='sim', config='IC79')\n",
    "\n",
    "feature_list, feature_labels = comp.get_training_features()\n",
    "print('training features = {}'.format(feature_list))\n",
    "X_train_sim, X_test_sim, y_train_sim, y_test_sim, le = comp.get_train_test_sets(\n",
    "    df_sim, feature_list, comp_class=True)\n",
    "\n",
    "print('number training events = ' + str(y_train_sim.shape[0]))\n",
    "print('number testing events = ' + str(y_test_sim.shape[0]))"
   ]
  },
  {
   "cell_type": "markdown",
   "metadata": {
    "deletable": true,
    "editable": true
   },
   "source": [
    "# Comparison of different sequential feature selections\n",
    "[ [back to top](#top) ]"
   ]
  },
  {
   "cell_type": "code",
   "execution_count": 9,
   "metadata": {
    "collapsed": false,
    "deletable": true,
    "editable": true
   },
   "outputs": [
    {
     "name": "stdout",
     "output_type": "stream",
     "text": [
      "max_depth = 3\n"
     ]
    }
   ],
   "source": [
    "pipeline = comp.get_pipeline('xgboost')\n",
    "# pipeline = comp.get_pipeline('RF')\n",
    "print('max_depth = {}'.format(pipeline.get_params()['classifier__max_depth']))\n",
    "n_features_forward = X_train_sim.shape[1]\n",
    "n_features_backward = 1"
   ]
  },
  {
   "cell_type": "markdown",
   "metadata": {
    "deletable": true,
    "editable": true
   },
   "source": [
    "### SFS&mdash;sequential forward selection"
   ]
  },
  {
   "cell_type": "code",
   "execution_count": 10,
   "metadata": {
    "collapsed": false,
    "deletable": true,
    "editable": true
   },
   "outputs": [
    {
     "name": "stderr",
     "output_type": "stream",
     "text": [
      "Features: 2/2"
     ]
    }
   ],
   "source": [
    "sfs = SFS(pipeline, \n",
    "          k_features=2, \n",
    "          forward=True, \n",
    "          floating=False, \n",
    "          scoring='accuracy',\n",
    "          print_progress=True,\n",
    "          cv=3,\n",
    "          n_jobs=15)\n",
    "sfs = sfs.fit(X_train_sim, y_train_sim)"
   ]
  },
  {
   "cell_type": "markdown",
   "metadata": {
    "deletable": true,
    "editable": true
   },
   "source": [
    "### SBS&mdash;sequential backward selection"
   ]
  },
  {
   "cell_type": "code",
   "execution_count": null,
   "metadata": {
    "collapsed": false,
    "deletable": true,
    "editable": true
   },
   "outputs": [
    {
     "name": "stderr",
     "output_type": "stream",
     "text": [
      "Features: 3/11"
     ]
    }
   ],
   "source": [
    "sbs = SFS(pipeline, \n",
    "          k_features=n_features_backward, \n",
    "          forward=False, \n",
    "          floating=False, \n",
    "          scoring='accuracy',\n",
    "          print_progress=True,\n",
    "          cv=3,\n",
    "          n_jobs=20)\n",
    "sbs = sbs.fit(X_train_sim, y_train_sim)"
   ]
  },
  {
   "cell_type": "markdown",
   "metadata": {
    "deletable": true,
    "editable": true
   },
   "source": [
    "### SFFS&mdash;sequential floating forward selection"
   ]
  },
  {
   "cell_type": "code",
   "execution_count": null,
   "metadata": {
    "collapsed": false,
    "deletable": true,
    "editable": true,
    "scrolled": false
   },
   "outputs": [],
   "source": [
    "sffs = SFS(pipeline, \n",
    "          k_features=n_features_forward, \n",
    "          forward=True, \n",
    "          floating=True, \n",
    "          scoring='accuracy',\n",
    "          print_progress=True,\n",
    "          cv=3,\n",
    "          n_jobs=15)\n",
    "sffs = sffs.fit(X_train_sim, y_train_sim)"
   ]
  },
  {
   "cell_type": "markdown",
   "metadata": {
    "deletable": true,
    "editable": true
   },
   "source": [
    "### SFBS&mdash;sequential floating backward selection"
   ]
  },
  {
   "cell_type": "code",
   "execution_count": 10,
   "metadata": {
    "collapsed": false,
    "deletable": true,
    "editable": true,
    "scrolled": true
   },
   "outputs": [
    {
     "name": "stderr",
     "output_type": "stream",
     "text": [
      "Features: 1/1"
     ]
    }
   ],
   "source": [
    "sfbs = SFS(pipeline, \n",
    "          k_features=n_features_backward, \n",
    "          forward=False, \n",
    "          floating=True, \n",
    "          scoring='accuracy',\n",
    "          print_progress=True,\n",
    "          cv=3,\n",
    "          n_jobs=20)\n",
    "sfbs = sfbs.fit(X_train_sim, y_train_sim)"
   ]
  },
  {
   "cell_type": "code",
   "execution_count": 7,
   "metadata": {
    "collapsed": false,
    "deletable": true,
    "editable": true
   },
   "outputs": [
    {
     "name": "stderr",
     "output_type": "stream",
     "text": [
      "/home/jbourbeau/.local/lib/python2.7/site-packages/matplotlib/figure.py:1742: UserWarning: This figure includes Axes that are not compatible with tight_layout, so its results might be incorrect.\n",
      "  warnings.warn(\"This figure includes Axes that are not \"\n"
     ]
    },
    {
     "data": {
      "image/png": "[encoded data removed]",
      "text/plain": [
       "<matplotlib.figure.Figure at 0x7fad133df150>"
      ]
     },
     "metadata": {},
     "output_type": "display_data"
    }
   ],
   "source": [
    "selector_list = [sfs]\n",
    "# selector_list = [sfs, sffs, sbs, sfbs]\n",
    "selector_label = {sfs:'SFS'}\n",
    "# selector_label = {sfs:'SFS', sffs:'SFFS', sbs:'SBS', sfbs:'SFBS'}\n",
    "fig, ax = plt.subplots()\n",
    "for selector in selector_list:\n",
    "    info = selector.get_metric_dict()\n",
    "    scores = [info[size]['avg_score'] for size in info]\n",
    "    errs = [info[size]['ci_bound'] for size in info]\n",
    "    ax.errorbar(info.keys(), scores, yerr=errs,\n",
    "                marker='.', linestyle='-', lw=1, alpha=0.75, \n",
    "                label=selector_label[selector])\n",
    "plt.xlabel('Feature subset size')\n",
    "plt.ylabel('Accurary')\n",
    "plt.title('XGBoost')\n",
    "# plt.title('Max depth = {}'.format(pipeline.get_params()['classifier__max_depth']))\n",
    "plt.grid()\n",
    "plt.legend(title='Selection algorithm', loc='lower right')\n",
    "plt.show()"
   ]
  },
  {
   "cell_type": "code",
   "execution_count": 11,
   "metadata": {
    "collapsed": false,
    "deletable": true,
    "editable": true
   },
   "outputs": [
    {
     "name": "stdout",
     "output_type": "stream",
     "text": [
      "(8, 10, 11, 5)\n",
      "SFS:\n",
      "['$\\\\log_{10}$(NHits (top 50\\\\%))' '$\\\\log_{10}(S_{\\\\mathrm{125}})$'\n",
      " 'lap beta' 'llhratio']\n"
     ]
    }
   ],
   "source": [
    "for selector in selector_list:\n",
    "    idx = selector.get_metric_dict()[4]['feature_idx']\n",
    "    print(idx)\n",
    "    print(selector_label[selector]+':')\n",
    "    print(np.sort(feature_labels[list(idx)]))"
   ]
  },
  {
   "cell_type": "code",
   "execution_count": 22,
   "metadata": {
    "collapsed": false,
    "deletable": true,
    "editable": true
   },
   "outputs": [
    {
     "data": {
      "text/plain": [
       "{1: {'avg_score': 0.64260751582929032,\n",
       "  'ci_bound': 0.0052960477129735048,\n",
       "  'cv_scores': array([ 0.64018173,  0.64184689,  0.64579393]),\n",
       "  'feature_idx': (12,),\n",
       "  'std_dev': 0.0023534544762706193,\n",
       "  'std_err': 0.0016641436193847896},\n",
       " 2: {'avg_score': 0.69369295288216437,\n",
       "  'ci_bound': 0.0018654219293701162,\n",
       "  'cv_scores': array([ 0.69424801,  0.69252117,  0.69430968]),\n",
       "  'feature_idx': (12, 5),\n",
       "  'std_dev': 0.00082895506757898378,\n",
       "  'std_err': 0.00058615974958405232},\n",
       " 3: {'avg_score': 0.73737768275635229,\n",
       "  'ci_bound': 0.0030548736488657841,\n",
       "  'cv_scores': array([ 0.73894005,  0.7375627 ,  0.73563029]),\n",
       "  'feature_idx': (10, 12, 5),\n",
       "  'std_dev': 0.001357522902550993,\n",
       "  'std_err': 0.00095991365000985189},\n",
       " 4: {'avg_score': 0.74210591234273504,\n",
       "  'ci_bound': 0.0024696717687726169,\n",
       "  'cv_scores': array([ 0.743031  ,  0.7405641 ,  0.74272264]),\n",
       "  'feature_idx': (4, 10, 12, 5),\n",
       "  'std_dev': 0.0010974712453777644,\n",
       "  'std_err': 0.00077602935976386271},\n",
       " 5: {'avg_score': 0.74523750788038257,\n",
       "  'ci_bound': 0.002823154206562711,\n",
       "  'cv_scores': array([ 0.74555958,  0.7435655 ,  0.74658745]),\n",
       "  'feature_idx': (4, 10, 2, 12, 5),\n",
       "  'std_dev': 0.0012545515570717594,\n",
       "  'std_err': 0.00088710191335358314},\n",
       " 6: {'avg_score': 0.74922566674889668,\n",
       "  'ci_bound': 0.0015874772498834437,\n",
       "  'cv_scores': array([ 0.74938327,  0.74829373,  0.75      ]),\n",
       "  'feature_idx': (2, 3, 4, 5, 10, 12),\n",
       "  'std_dev': 0.0007054421791865479,\n",
       "  'std_err': 0.00049882294863782368},\n",
       " 7: {'avg_score': 0.75145958391579637,\n",
       "  'ci_bound': 0.0027951357021783604,\n",
       "  'cv_scores': array([ 0.75174739,  0.74981498,  0.75281638]),\n",
       "  'feature_idx': (1, 2, 3, 4, 5, 10, 12),\n",
       "  'std_dev': 0.0012421007110568667,\n",
       "  'std_err': 0.00087829783570494296},\n",
       " 8: {'avg_score': 0.75178165172820222,\n",
       "  'ci_bound': 0.0026121078211149809,\n",
       "  'cv_scores': array([ 0.75189129,  0.75030836,  0.7531453 ]),\n",
       "  'feature_idx': (1, 2, 3, 4, 5, 10, 11, 12),\n",
       "  'std_dev': 0.0011607668920816804,\n",
       "  'std_err': 0.00082078614076778957},\n",
       " 9: {'avg_score': 0.75187758682125916,\n",
       "  'ci_bound': 0.001729423467046885,\n",
       "  'cv_scores': array([ 0.75254913,  0.75080174,  0.75228188]),\n",
       "  'feature_idx': (0, 1, 2, 3, 4, 5, 10, 11, 12),\n",
       "  'std_dev': 0.00076852015323021852,\n",
       "  'std_err': 0.00054342581182761202},\n",
       " 10: {'avg_score': 0.75200093194090412,\n",
       "  'ci_bound': 0.0021947943622118451,\n",
       "  'cv_scores': array([ 0.75308363,  0.75071951,  0.75219965]),\n",
       "  'feature_idx': (0, 1, 2, 3, 4, 5, 6, 10, 11, 12),\n",
       "  'std_dev': 0.00097532138987110125,\n",
       "  'std_err': 0.00068965636861414428},\n",
       " 11: {'avg_score': 0.75200093194090412,\n",
       "  'ci_bound': 0.0021947943622118451,\n",
       "  'cv_scores': array([ 0.75308363,  0.75071951,  0.75219965]),\n",
       "  'feature_idx': (0, 1, 2, 3, 4, 5, 6, 8, 10, 11, 12),\n",
       "  'std_dev': 0.00097532138987110125,\n",
       "  'std_err': 0.00068965636861414428},\n",
       " 12: {'avg_score': 0.75163089658196969,\n",
       "  'ci_bound': 0.0029564564720889362,\n",
       "  'cv_scores': array([ 0.75261081,  0.74977387,  0.75250802]),\n",
       "  'feature_idx': (0, 1, 2, 3, 4, 5, 6, 8, 9, 10, 11, 12),\n",
       "  'std_dev': 0.0013137883371202473,\n",
       "  'std_err': 0.00092898864222152493},\n",
       " 13: {'avg_score': 0.75031521530575895,\n",
       "  'ci_bound': 0.0030164125322849821,\n",
       "  'cv_scores': array([ 0.75102788,  0.74843763,  0.75148014]),\n",
       "  'feature_idx': (0, 1, 2, 3, 4, 5, 6, 7, 8, 9, 10, 11, 12),\n",
       "  'std_dev': 0.0013404315748505797,\n",
       "  'std_err': 0.00094782825629340821}}"
      ]
     },
     "execution_count": 22,
     "metadata": {},
     "output_type": "execute_result"
    }
   ],
   "source": [
    "sfs.get_metric_dict()"
   ]
  },
  {
   "cell_type": "code",
   "execution_count": 23,
   "metadata": {
    "collapsed": false,
    "deletable": true,
    "editable": true
   },
   "outputs": [
    {
     "data": {
      "text/plain": [
       "{1: {'avg_score': 0.64260751582929032,\n",
       "  'cv_scores': array([ 0.64018173,  0.64184689,  0.64579393]),\n",
       "  'feature_idx': (12,)},\n",
       " 2: {'avg_score': 0.69369295288216437,\n",
       "  'cv_scores': array([ 0.69424801,  0.69252117,  0.69430968]),\n",
       "  'feature_idx': (12, 5)},\n",
       " 3: {'avg_score': 0.73737768275635229,\n",
       "  'cv_scores': array([ 0.73894005,  0.7375627 ,  0.73563029]),\n",
       "  'feature_idx': (10, 12, 5)},\n",
       " 4: {'avg_score': 0.74210591234273504,\n",
       "  'cv_scores': array([ 0.743031  ,  0.7405641 ,  0.74272264]),\n",
       "  'feature_idx': (4, 10, 12, 5)},\n",
       " 5: {'avg_score': 0.74523750788038257,\n",
       "  'cv_scores': array([ 0.74555958,  0.7435655 ,  0.74658745]),\n",
       "  'feature_idx': (4, 10, 2, 12, 5)},\n",
       " 6: {'avg_score': 0.74922566674889668,\n",
       "  'cv_scores': array([ 0.74938327,  0.74829373,  0.75      ]),\n",
       "  'feature_idx': (2, 3, 4, 5, 10, 12)},\n",
       " 7: {'avg_score': 0.75145958391579637,\n",
       "  'cv_scores': array([ 0.75174739,  0.74981498,  0.75281638]),\n",
       "  'feature_idx': (1, 2, 3, 4, 5, 10, 12)},\n",
       " 8: {'avg_score': 0.75178165172820222,\n",
       "  'cv_scores': array([ 0.75189129,  0.75030836,  0.7531453 ]),\n",
       "  'feature_idx': (1, 2, 3, 4, 5, 10, 11, 12)},\n",
       " 9: {'avg_score': 0.75187758682125916,\n",
       "  'cv_scores': array([ 0.75254913,  0.75080174,  0.75228188]),\n",
       "  'feature_idx': (0, 1, 2, 3, 4, 5, 10, 11, 12)},\n",
       " 10: {'avg_score': 0.75200093194090412,\n",
       "  'cv_scores': array([ 0.75308363,  0.75071951,  0.75219965]),\n",
       "  'feature_idx': (0, 1, 2, 3, 4, 5, 6, 10, 11, 12)},\n",
       " 11: {'avg_score': 0.75200093194090412,\n",
       "  'cv_scores': array([ 0.75308363,  0.75071951,  0.75219965]),\n",
       "  'feature_idx': (0, 1, 2, 3, 4, 5, 6, 8, 10, 11, 12)},\n",
       " 12: {'avg_score': 0.75163089658196969,\n",
       "  'cv_scores': array([ 0.75261081,  0.74977387,  0.75250802]),\n",
       "  'feature_idx': (0, 1, 2, 3, 4, 5, 6, 8, 9, 10, 11, 12)},\n",
       " 13: {'avg_score': 0.75031521530575895,\n",
       "  'cv_scores': array([ 0.75102788,  0.74843763,  0.75148014]),\n",
       "  'feature_idx': (0, 1, 2, 3, 4, 5, 6, 7, 8, 9, 10, 11, 12)}}"
      ]
     },
     "execution_count": 23,
     "metadata": {},
     "output_type": "execute_result"
    }
   ],
   "source": [
    "sfs.subsets_"
   ]
  },
  {
   "cell_type": "code",
   "execution_count": 7,
   "metadata": {
    "collapsed": false,
    "deletable": true,
    "editable": true
   },
   "outputs": [
    {
     "name": "stdout",
     "output_type": "stream",
     "text": [
      "\n",
      "Sequential Forward Selection:\n",
      "Selected features:\n",
      "$\\log_{10}(E_{\\mathrm{Lap}}/\\mathrm{GeV})$, $\\log_{10}$(NChannels (top 50\\%)), NChannels/NHits, $\\log_{10}$(NHits (top 50\\%)), $\\log_{10}(S_{\\mathrm{125}})$, lap beta, \n",
      "CV Score:\n",
      "0.734951895403\n"
     ]
    }
   ],
   "source": [
    "print('\\nSequential Forward Selection:')\n",
    "selected_features_str = 'Selected features:\\n'\n",
    "for idx in sfs.k_feature_idx_:\n",
    "    selected_features_str += r'{}, '.format(feature_labels[idx])\n",
    "print(selected_features_str)\n",
    "print('CV Score:')\n",
    "print(sfs.k_score_)"
   ]
  },
  {
   "cell_type": "markdown",
   "metadata": {
    "deletable": true,
    "editable": true
   },
   "source": [
    "# Serialize feature selection algorithm\n",
    "[ [back to top](#top) ]"
   ]
  },
  {
   "cell_type": "code",
   "execution_count": 35,
   "metadata": {
    "collapsed": false,
    "deletable": true,
    "editable": true
   },
   "outputs": [],
   "source": [
    "pipeline = comp.get_pipeline('xgboost')\n",
    "# pipeline = comp.get_pipeline('RF')\n",
    "max_depth = pipeline.get_params()['classifier__max_depth']\n",
    "n_features_forward = 7"
   ]
  },
  {
   "cell_type": "markdown",
   "metadata": {
    "deletable": true,
    "editable": true
   },
   "source": [
    "### SFS&mdash;sequential forward selection"
   ]
  },
  {
   "cell_type": "code",
   "execution_count": 36,
   "metadata": {
    "collapsed": false,
    "deletable": true,
    "editable": true
   },
   "outputs": [
    {
     "name": "stderr",
     "output_type": "stream",
     "text": [
      "Features: 7/7"
     ]
    }
   ],
   "source": [
    "sfs_pickle = SFS(pipeline, \n",
    "          k_features=n_features_forward, \n",
    "          forward=True, \n",
    "          floating=False, \n",
    "          scoring='accuracy',\n",
    "          print_progress=True,\n",
    "          cv=3,\n",
    "          n_jobs=15)\n",
    "sfs_pickle = sfs_pickle.fit(X_train_sim, y_train_sim)"
   ]
  },
  {
   "cell_type": "markdown",
   "metadata": {
    "deletable": true,
    "editable": true
   },
   "source": [
    "Serialize `sfs` for later use (fitting procedure takes quite a while)"
   ]
  },
  {
   "cell_type": "code",
   "execution_count": 37,
   "metadata": {
    "collapsed": true,
    "deletable": true,
    "editable": true
   },
   "outputs": [],
   "source": [
    "with open('feature-selection/sfs_nfeatures_{}_xgboost.pkl'.format(n_features_forward), 'wb') as f_obj:\n",
    "    cPickle.dump(sfs_pickle, f_obj, protocol=cPickle.HIGHEST_PROTOCOL)    "
   ]
  },
  {
   "cell_type": "markdown",
   "metadata": {
    "deletable": true,
    "editable": true
   },
   "source": [
    "### SBS&mdash;sequential backward selection"
   ]
  },
  {
   "cell_type": "code",
   "execution_count": null,
   "metadata": {
    "collapsed": false,
    "deletable": true,
    "editable": true
   },
   "outputs": [
    {
     "name": "stderr",
     "output_type": "stream",
     "text": [
      "Features: 11/5Process PoolWorker-4678:\n",
      "Process PoolWorker-4679:\n",
      "Process PoolWorker-4677:\n",
      "Process PoolWorker-4675:\n",
      "Process PoolWorker-4676:\n",
      "Traceback (most recent call last):\n",
      "Process PoolWorker-4684:\n",
      "Process PoolWorker-4682:\n",
      "Process PoolWorker-4685:\n",
      "Process PoolWorker-4683:\n",
      "Process PoolWorker-4680:\n",
      "Process PoolWorker-4681:\n",
      "Process PoolWorker-4674:\n",
      "Traceback (most recent call last):\n",
      "Traceback (most recent call last):\n",
      "Traceback (most recent call last):\n",
      "Traceback (most recent call last):\n",
      "  File \"/cvmfs/icecube.opensciencegrid.org/py2-v1/RHEL_6_x86_64/lib/python2.7/multiprocessing/process.py\", line 258, in _bootstrap\n",
      "Traceback (most recent call last):\n",
      "Traceback (most recent call last):\n",
      "Traceback (most recent call last):\n",
      "Traceback (most recent call last):\n",
      "Traceback (most recent call last):\n",
      "Traceback (most recent call last):\n",
      "  File \"/cvmfs/icecube.opensciencegrid.org/py2-v1/RHEL_6_x86_64/lib/python2.7/multiprocessing/process.py\", line 258, in _bootstrap\n",
      "  File \"/cvmfs/icecube.opensciencegrid.org/py2-v1/RHEL_6_x86_64/lib/python2.7/multiprocessing/process.py\", line 258, in _bootstrap\n",
      "Traceback (most recent call last):\n",
      "  File \"/cvmfs/icecube.opensciencegrid.org/py2-v1/RHEL_6_x86_64/lib/python2.7/multiprocessing/process.py\", line 258, in _bootstrap\n",
      "  File \"/cvmfs/icecube.opensciencegrid.org/py2-v1/RHEL_6_x86_64/lib/python2.7/multiprocessing/process.py\", line 258, in _bootstrap\n",
      "  File \"/cvmfs/icecube.opensciencegrid.org/py2-v1/RHEL_6_x86_64/lib/python2.7/multiprocessing/process.py\", line 258, in _bootstrap\n",
      "  File \"/cvmfs/icecube.opensciencegrid.org/py2-v1/RHEL_6_x86_64/lib/python2.7/multiprocessing/process.py\", line 258, in _bootstrap\n",
      "  File \"/cvmfs/icecube.opensciencegrid.org/py2-v1/RHEL_6_x86_64/lib/python2.7/multiprocessing/process.py\", line 258, in _bootstrap\n",
      "  File \"/cvmfs/icecube.opensciencegrid.org/py2-v1/RHEL_6_x86_64/lib/python2.7/multiprocessing/process.py\", line 258, in _bootstrap\n",
      "  File \"/cvmfs/icecube.opensciencegrid.org/py2-v1/RHEL_6_x86_64/lib/python2.7/multiprocessing/process.py\", line 258, in _bootstrap\n",
      "  File \"/cvmfs/icecube.opensciencegrid.org/py2-v1/RHEL_6_x86_64/lib/python2.7/multiprocessing/process.py\", line 258, in _bootstrap\n",
      "  File \"/cvmfs/icecube.opensciencegrid.org/py2-v1/RHEL_6_x86_64/lib/python2.7/multiprocessing/process.py\", line 258, in _bootstrap\n",
      "    self.run()\n",
      "    self.run()\n",
      "    self.run()\n",
      "  File \"/cvmfs/icecube.opensciencegrid.org/py2-v1/RHEL_6_x86_64/lib/python2.7/multiprocessing/process.py\", line 114, in run\n",
      "    self.run()\n",
      "    self.run()\n",
      "    self.run()\n",
      "    self.run()\n",
      "  File \"/cvmfs/icecube.opensciencegrid.org/py2-v1/RHEL_6_x86_64/lib/python2.7/multiprocessing/process.py\", line 114, in run\n",
      "    self.run()\n",
      "  File \"/cvmfs/icecube.opensciencegrid.org/py2-v1/RHEL_6_x86_64/lib/python2.7/multiprocessing/process.py\", line 114, in run\n",
      "    self.run()\n",
      "    self.run()\n",
      "    self.run()\n",
      "    self.run()\n",
      "  File \"/cvmfs/icecube.opensciencegrid.org/py2-v1/RHEL_6_x86_64/lib/python2.7/multiprocessing/process.py\", line 114, in run\n",
      "  File \"/cvmfs/icecube.opensciencegrid.org/py2-v1/RHEL_6_x86_64/lib/python2.7/multiprocessing/process.py\", line 114, in run\n",
      "  File \"/cvmfs/icecube.opensciencegrid.org/py2-v1/RHEL_6_x86_64/lib/python2.7/multiprocessing/process.py\", line 114, in run\n",
      "  File \"/cvmfs/icecube.opensciencegrid.org/py2-v1/RHEL_6_x86_64/lib/python2.7/multiprocessing/process.py\", line 114, in run\n",
      "    self._target(*self._args, **self._kwargs)\n",
      "  File \"/cvmfs/icecube.opensciencegrid.org/py2-v1/RHEL_6_x86_64/lib/python2.7/multiprocessing/process.py\", line 114, in run\n",
      "    self._target(*self._args, **self._kwargs)\n",
      "  File \"/cvmfs/icecube.opensciencegrid.org/py2-v1/RHEL_6_x86_64/lib/python2.7/multiprocessing/process.py\", line 114, in run\n",
      "    self._target(*self._args, **self._kwargs)\n",
      "  File \"/cvmfs/icecube.opensciencegrid.org/py2-v1/RHEL_6_x86_64/lib/python2.7/multiprocessing/process.py\", line 114, in run\n",
      "  File \"/cvmfs/icecube.opensciencegrid.org/py2-v1/RHEL_6_x86_64/lib/python2.7/multiprocessing/process.py\", line 114, in run\n",
      "    self._target(*self._args, **self._kwargs)\n",
      "    self._target(*self._args, **self._kwargs)\n",
      "    self._target(*self._args, **self._kwargs)\n",
      "    self._target(*self._args, **self._kwargs)\n",
      "  File \"/cvmfs/icecube.opensciencegrid.org/py2-v1/RHEL_6_x86_64/lib/python2.7/multiprocessing/pool.py\", line 85, in worker\n",
      "    self._target(*self._args, **self._kwargs)\n",
      "  File \"/cvmfs/icecube.opensciencegrid.org/py2-v1/RHEL_6_x86_64/lib/python2.7/multiprocessing/pool.py\", line 85, in worker\n",
      "  File \"/cvmfs/icecube.opensciencegrid.org/py2-v1/RHEL_6_x86_64/lib/python2.7/multiprocessing/process.py\", line 114, in run\n",
      "  File \"/cvmfs/icecube.opensciencegrid.org/py2-v1/RHEL_6_x86_64/lib/python2.7/multiprocessing/pool.py\", line 85, in worker\n",
      "    self._target(*self._args, **self._kwargs)\n",
      "    task = get()\n",
      "  File \"/cvmfs/icecube.opensciencegrid.org/py2-v1/RHEL_6_x86_64/lib/python2.7/multiprocessing/pool.py\", line 85, in worker\n",
      "    self._target(*self._args, **self._kwargs)\n",
      "  File \"/cvmfs/icecube.opensciencegrid.org/py2-v1/RHEL_6_x86_64/lib/python2.7/multiprocessing/pool.py\", line 85, in worker\n",
      "  File \"/cvmfs/icecube.opensciencegrid.org/py2-v1/RHEL_6_x86_64/lib/python2.7/multiprocessing/pool.py\", line 85, in worker\n",
      "  File \"/cvmfs/icecube.opensciencegrid.org/py2-v1/RHEL_6_x86_64/lib/python2.7/multiprocessing/pool.py\", line 85, in worker\n",
      "  File \"/home/jbourbeau/.local/lib/python2.7/site-packages/sklearn/externals/joblib/pool.py\", line 360, in get\n",
      "  File \"/cvmfs/icecube.opensciencegrid.org/py2-v1/RHEL_6_x86_64/lib/python2.7/multiprocessing/pool.py\", line 85, in worker\n",
      "    task = get()\n",
      "    task = get()\n",
      "    self._target(*self._args, **self._kwargs)\n",
      "    self._target(*self._args, **self._kwargs)\n",
      "  File \"/cvmfs/icecube.opensciencegrid.org/py2-v1/RHEL_6_x86_64/lib/python2.7/multiprocessing/pool.py\", line 85, in worker\n",
      "  File \"/home/jbourbeau/.local/lib/python2.7/site-packages/sklearn/externals/joblib/pool.py\", line 360, in get\n",
      "    task = get()\n",
      "  File \"/cvmfs/icecube.opensciencegrid.org/py2-v1/RHEL_6_x86_64/lib/python2.7/multiprocessing/pool.py\", line 85, in worker\n",
      "    task = get()\n",
      "  File \"/home/jbourbeau/.local/lib/python2.7/site-packages/sklearn/externals/joblib/pool.py\", line 360, in get\n",
      "    racquire()\n",
      "  File \"/cvmfs/icecube.opensciencegrid.org/py2-v1/RHEL_6_x86_64/lib/python2.7/multiprocessing/pool.py\", line 85, in worker\n",
      "  File \"/home/jbourbeau/.local/lib/python2.7/site-packages/sklearn/externals/joblib/pool.py\", line 360, in get\n",
      "  File \"/home/jbourbeau/.local/lib/python2.7/site-packages/sklearn/externals/joblib/pool.py\", line 360, in get\n",
      "    task = get()\n",
      "    task = get()\n",
      "    task = get()\n",
      "    racquire()\n",
      "  File \"/cvmfs/icecube.opensciencegrid.org/py2-v1/RHEL_6_x86_64/lib/python2.7/multiprocessing/pool.py\", line 85, in worker\n",
      "    racquire()\n",
      "KeyboardInterrupt\n",
      "KeyboardInterrupt\n",
      "  File \"/home/jbourbeau/.local/lib/python2.7/site-packages/sklearn/externals/joblib/pool.py\", line 360, in get\n",
      "    task = get()\n",
      "    racquire()\n",
      "KeyboardInterrupt\n",
      "  File \"/home/jbourbeau/.local/lib/python2.7/site-packages/sklearn/externals/joblib/pool.py\", line 360, in get\n",
      "    racquire()\n",
      "    task = get()\n",
      "    task = get()\n",
      "    racquire()\n",
      "KeyboardInterrupt\n",
      "    racquire()\n",
      "  File \"/home/jbourbeau/.local/lib/python2.7/site-packages/sklearn/externals/joblib/pool.py\", line 360, in get\n",
      "  File \"/home/jbourbeau/.local/lib/python2.7/site-packages/sklearn/externals/joblib/pool.py\", line 360, in get\n",
      "    racquire()\n",
      "    task = get()\n",
      "KeyboardInterrupt\n",
      "  File \"/home/jbourbeau/.local/lib/python2.7/site-packages/sklearn/externals/joblib/pool.py\", line 362, in get\n",
      "  File \"/home/jbourbeau/.local/lib/python2.7/site-packages/sklearn/externals/joblib/pool.py\", line 360, in get\n",
      "KeyboardInterrupt\n",
      "KeyboardInterrupt\n",
      "  File \"/home/jbourbeau/.local/lib/python2.7/site-packages/sklearn/externals/joblib/pool.py\", line 360, in get\n",
      "    racquire()\n",
      "    return recv()\n",
      "    racquire()\n",
      "KeyboardInterrupt\n",
      "KeyboardInterrupt\n",
      "    racquire()\n",
      "KeyboardInterrupt\n",
      "KeyboardInterrupt\n",
      "KeyboardInterrupt\n"
     ]
    }
   ],
   "source": [
    "sbs_pickle = SFS(pipeline, \n",
    "          k_features=5, \n",
    "          forward=False, \n",
    "          floating=False, \n",
    "          scoring='accuracy',\n",
    "          print_progress=True,\n",
    "          cv=3,\n",
    "          n_jobs=15)\n",
    "sbs_pickle = sbs_pickle.fit(X_train_sim, y_train_sim)"
   ]
  },
  {
   "cell_type": "markdown",
   "metadata": {
    "deletable": true,
    "editable": true
   },
   "source": [
    "Serialize `sfs` for later use (fitting procedure takes quite a while)"
   ]
  },
  {
   "cell_type": "code",
   "execution_count": 37,
   "metadata": {
    "collapsed": true,
    "deletable": true,
    "editable": true
   },
   "outputs": [],
   "source": [
    "with open('feature-selection/sfs_nfeatures_{}_xgboost.pkl'.format(n_features_forward), 'wb') as f_obj:\n",
    "    cPickle.dump(sfs_pickle, f_obj, protocol=cPickle.HIGHEST_PROTOCOL)    "
   ]
  },
  {
   "cell_type": "markdown",
   "metadata": {
    "deletable": true,
    "editable": true
   },
   "source": [
    "### SFFS&mdash;sequential floating forward selection"
   ]
  },
  {
   "cell_type": "code",
   "execution_count": 23,
   "metadata": {
    "collapsed": false,
    "deletable": true,
    "editable": true
   },
   "outputs": [
    {
     "name": "stderr",
     "output_type": "stream",
     "text": [
      "Features: 8/8"
     ]
    }
   ],
   "source": [
    "sffs = SFS(pipeline, \n",
    "          k_features=n_features_forward, \n",
    "          forward=True, \n",
    "          floating=True, \n",
    "          scoring='accuracy',\n",
    "          print_progress=True,\n",
    "          cv=3,\n",
    "          n_jobs=20)\n",
    "sffs = sffs.fit(X_train_sim, y_train_sim)"
   ]
  },
  {
   "cell_type": "markdown",
   "metadata": {
    "deletable": true,
    "editable": true
   },
   "source": [
    "Serialize `sffs` for later use (fitting procedure takes quite a while)"
   ]
  },
  {
   "cell_type": "code",
   "execution_count": 24,
   "metadata": {
    "collapsed": true,
    "deletable": true,
    "editable": true
   },
   "outputs": [],
   "source": [
    "with open('feature-selection/sffs_nfeatures_{}.pkl'.format(n_features_forward), 'wb') as f_obj:\n",
    "    cPickle.dump(sffs, f_obj, protocol=cPickle.HIGHEST_PROTOCOL)    "
   ]
  },
  {
   "cell_type": "code",
   "execution_count": null,
   "metadata": {
    "collapsed": true,
    "deletable": true,
    "editable": true
   },
   "outputs": [],
   "source": []
  }
 ],
 "metadata": {
  "kernelspec": {
   "display_name": "Python 2",
   "language": "python",
   "name": "python2"
  },
  "language_info": {
   "codemirror_mode": {
    "name": "ipython",
    "version": 2
   },
   "file_extension": ".py",
   "mimetype": "text/x-python",
   "name": "python",
   "nbconvert_exporter": "python",
   "pygments_lexer": "ipython2",
   "version": "2.7.10"
  }
 },
 "nbformat": 4,
 "nbformat_minor": 1
}
