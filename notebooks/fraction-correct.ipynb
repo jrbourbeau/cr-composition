{
 "cells": [
  {
   "cell_type": "markdown",
   "metadata": {},
   "source": [
    "<a id='top'> </a>"
   ]
  },
  {
   "cell_type": "code",
   "execution_count": 1,
   "metadata": {},
   "outputs": [
    {
     "name": "stdout",
     "output_type": "stream",
     "text": [
      "Author: James Bourbeau \n",
      "last updated: 2017-07-03 \n",
      "\n",
      "CPython 2.7.13\n",
      "IPython 5.3.0\n",
      "\n",
      "numpy 1.12.1\n",
      "matplotlib 2.0.2\n",
      "scipy 0.19.0\n",
      "pandas 0.20.1\n",
      "sklearn 0.18.1\n",
      "mlxtend 0.6.0\n"
     ]
    }
   ],
   "source": [
    "%load_ext watermark\n",
    "%watermark -a 'Author: James Bourbeau' -u -d -v -p numpy,matplotlib,scipy,pandas,sklearn,mlxtend"
   ]
  },
  {
   "cell_type": "markdown",
   "metadata": {},
   "source": [
    "# Fraction correctly identified\n",
    "### Table of contents\n",
    "1. [Define analysis free parameters](#Define-analysis-free-parameters)\n",
    "1. [Data preprocessing](#Data-preprocessing)\n",
    "2. [Fitting random forest](#Fit-random-forest-and-run-10-fold-CV-validation)\n",
    "3. [Fraction correctly identified](#Fraction-correctly-identified)\n",
    "4. [Spectrum](#Spectrum)\n",
    "5. [Unfolding](#Unfolding)"
   ]
  },
  {
   "cell_type": "code",
   "execution_count": 2,
   "metadata": {},
   "outputs": [
    {
     "name": "stderr",
     "output_type": "stream",
     "text": [
      "/home/jbourbeau/.virtualenvs/composition/lib/python2.7/site-packages/sklearn/cross_validation.py:44: DeprecationWarning: This module was deprecated in version 0.18 in favor of the model_selection module into which all the refactored classes and functions are moved. Also note that the interface of the new CV iterators are different from that of this module. This module will be removed in 0.20.\n",
      "  \"This module will be removed in 0.20.\", DeprecationWarning)\n"
     ]
    }
   ],
   "source": [
    "from __future__ import division, print_function\n",
    "from collections import defaultdict\n",
    "import itertools\n",
    "import numpy as np\n",
    "from scipy import interp\n",
    "import pandas as pd\n",
    "import matplotlib.pyplot as plt\n",
    "import seaborn.apionly as sns\n",
    "import pyprind\n",
    "\n",
    "from sklearn.metrics import accuracy_score, confusion_matrix, roc_curve, auc, classification_report\n",
    "from sklearn.model_selection import cross_val_score, StratifiedShuffleSplit, KFold, StratifiedKFold\n",
    "from mlxtend.feature_selection import SequentialFeatureSelector as SFS\n",
    "\n",
    "import comptools as comp\n",
    "import comptools.analysis.plotting as plotting\n",
    "    \n",
    "# color_dict allows for a consistent color-coding for each composition\n",
    "color_dict = comp.analysis.get_color_dict()\n",
    "\n",
    "%matplotlib inline"
   ]
  },
  {
   "cell_type": "markdown",
   "metadata": {},
   "source": [
    "# Define analysis free parameters\n",
    "[ [back to top](#top) ]"
   ]
  },
  {
   "cell_type": "markdown",
   "metadata": {},
   "source": [
    "Whether or not to train on 'light' and 'heavy' composition classes, or the individual compositions"
   ]
  },
  {
   "cell_type": "code",
   "execution_count": 7,
   "metadata": {
    "collapsed": true
   },
   "outputs": [],
   "source": [
    "config = 'IC86.2012'\n",
    "# config = 'IC79'\n",
    "comp_class = True\n",
    "comp_key = 'MC_comp_class' if comp_class else 'MC_comp'\n",
    "comp_list = ['light', 'heavy'] if comp_class else ['P', 'He', 'O', 'Fe']"
   ]
  },
  {
   "cell_type": "markdown",
   "metadata": {},
   "source": [
    "Get composition classifier pipeline"
   ]
  },
  {
   "cell_type": "code",
   "execution_count": 8,
   "metadata": {
    "collapsed": true
   },
   "outputs": [],
   "source": [
    "pipeline_str = 'GBDT'\n",
    "pipeline = comp.get_pipeline(pipeline_str)"
   ]
  },
  {
   "cell_type": "markdown",
   "metadata": {},
   "source": [
    "Define energy binning for this analysis"
   ]
  },
  {
   "cell_type": "code",
   "execution_count": 9,
   "metadata": {
    "collapsed": true
   },
   "outputs": [],
   "source": [
    "energybins = comp.analysis.get_energybins()"
   ]
  },
  {
   "cell_type": "markdown",
   "metadata": {},
   "source": [
    "# Data preprocessing\n",
    "[ [back to top](#top) ]\n",
    "1. Load simulation/data dataframe and apply specified quality cuts\n",
    "2. Extract desired features from dataframe\n",
    "3. Get separate testing and training datasets"
   ]
  },
  {
   "cell_type": "code",
   "execution_count": 10,
   "metadata": {
    "scrolled": false
   },
   "outputs": [
    {
     "name": "stdout",
     "output_type": "stream",
     "text": [
      "Starting out with 108522 sim events\n",
      "sim quality cut event flow:\n",
      "      passed_IceTopQualityCuts:    1.0    1.0\n",
      "FractionContainment_Laputop_InIce:  0.793  0.793\n",
      "       passed_InIceQualityCuts:  0.795   0.76\n",
      "                 num_hits_1_60:  0.997  0.759\n",
      "             reco_energy_range:  0.874  0.662\n",
      "\n",
      "\n"
     ]
    }
   ],
   "source": [
    "sim_train, sim_test = comp.load_dataframe(datatype='sim', config=config, comp_key=comp_key)"
   ]
  },
  {
   "cell_type": "code",
   "execution_count": 18,
   "metadata": {},
   "outputs": [
    {
     "data": {
      "text/plain": [
       "71859"
      ]
     },
     "execution_count": 18,
     "metadata": {},
     "output_type": "execute_result"
    }
   ],
   "source": [
    "len(sim_train) + len(sim_test)"
   ]
  },
  {
   "cell_type": "code",
   "execution_count": 12,
   "metadata": {
    "collapsed": true
   },
   "outputs": [],
   "source": [
    "# feature_list = ['lap_cos_zenith', 'log_s125', 'log_dEdX', 'invqweighted_inice_radius_1_60']\n",
    "# feature_list, feature_labels = comp.analysis.get_training_features(feature_list)\n",
    "feature_list, feature_labels = comp.analysis.get_training_features()"
   ]
  },
  {
   "cell_type": "markdown",
   "metadata": {},
   "source": [
    "## Fraction correctly identified\n",
    "[ [back to top](#top) ]"
   ]
  },
  {
   "cell_type": "markdown",
   "metadata": {},
   "source": [
    "Calculate classifier performance via 10-fold CV"
   ]
  },
  {
   "cell_type": "code",
   "execution_count": 14,
   "metadata": {},
   "outputs": [
    {
     "name": "stdout",
     "output_type": "stream",
     "text": [
      "Using scikit-learn GradientBoostingClassifier...\n",
      "Running 10 folds in parallel...\n"
     ]
    },
    {
     "name": "stderr",
     "output_type": "stream",
     "text": [
      "/home/jbourbeau/cr-composition/comptools/analysis/data_functions.py:10: RuntimeWarning: invalid value encountered in true_divide\n",
      "  ratio = num/den\n",
      "/home/jbourbeau/cr-composition/comptools/analysis/data_functions.py:10: RuntimeWarning: invalid value encountered in true_divide\n",
      "  ratio = num/den\n",
      "/home/jbourbeau/cr-composition/comptools/analysis/data_functions.py:11: RuntimeWarning: invalid value encountered in true_divide\n",
      "  ratio_err = ratio * np.sqrt((num_err / num)**2 + (den_err / den)**2)\n",
      "/home/jbourbeau/cr-composition/comptools/analysis/data_functions.py:11: RuntimeWarning: invalid value encountered in true_divide\n",
      "  ratio_err = ratio * np.sqrt((num_err / num)**2 + (den_err / den)**2)\n",
      "/home/jbourbeau/cr-composition/comptools/analysis/data_functions.py:10: RuntimeWarning: invalid value encountered in true_divide\n",
      "  ratio = num/den\n",
      "/home/jbourbeau/cr-composition/comptools/analysis/data_functions.py:11: RuntimeWarning: invalid value encountered in true_divide\n",
      "  ratio_err = ratio * np.sqrt((num_err / num)**2 + (den_err / den)**2)\n",
      "/home/jbourbeau/cr-composition/comptools/analysis/data_functions.py:10: RuntimeWarning: invalid value encountered in true_divide\n",
      "  ratio = num/den\n",
      "/home/jbourbeau/cr-composition/comptools/analysis/data_functions.py:11: RuntimeWarning: invalid value encountered in true_divide\n",
      "  ratio_err = ratio * np.sqrt((num_err / num)**2 + (den_err / den)**2)\n",
      "/home/jbourbeau/cr-composition/comptools/analysis/data_functions.py:10: RuntimeWarning: invalid value encountered in true_divide\n",
      "  ratio = num/den\n",
      "/home/jbourbeau/cr-composition/comptools/analysis/data_functions.py:11: RuntimeWarning: invalid value encountered in true_divide\n",
      "  ratio_err = ratio * np.sqrt((num_err / num)**2 + (den_err / den)**2)\n"
     ]
    },
    {
     "name": "stdout",
     "output_type": "stream",
     "text": [
      "Completed fold 0\n",
      "Completed fold 1\n"
     ]
    },
    {
     "name": "stderr",
     "output_type": "stream",
     "text": [
      "/home/jbourbeau/cr-composition/comptools/analysis/data_functions.py:10: RuntimeWarning: invalid value encountered in true_divide\n",
      "  ratio = num/den\n",
      "/home/jbourbeau/cr-composition/comptools/analysis/data_functions.py:11: RuntimeWarning: invalid value encountered in true_divide\n",
      "  ratio_err = ratio * np.sqrt((num_err / num)**2 + (den_err / den)**2)\n",
      "/home/jbourbeau/cr-composition/comptools/analysis/data_functions.py:10: RuntimeWarning: invalid value encountered in true_divide\n",
      "  ratio = num/den\n",
      "/home/jbourbeau/cr-composition/comptools/analysis/data_functions.py:11: RuntimeWarning: invalid value encountered in true_divide\n",
      "  ratio_err = ratio * np.sqrt((num_err / num)**2 + (den_err / den)**2)\n",
      "/home/jbourbeau/cr-composition/comptools/analysis/data_functions.py:10: RuntimeWarning: invalid value encountered in true_divide\n",
      "  ratio = num/den\n",
      "/home/jbourbeau/cr-composition/comptools/analysis/data_functions.py:11: RuntimeWarning: invalid value encountered in true_divide\n",
      "  ratio_err = ratio * np.sqrt((num_err / num)**2 + (den_err / den)**2)\n",
      "/home/jbourbeau/cr-composition/comptools/analysis/data_functions.py:10: RuntimeWarning: invalid value encountered in true_divide\n",
      "  ratio = num/den\n",
      "/home/jbourbeau/cr-composition/comptools/analysis/data_functions.py:11: RuntimeWarning: invalid value encountered in true_divide\n",
      "  ratio_err = ratio * np.sqrt((num_err / num)**2 + (den_err / den)**2)\n"
     ]
    },
    {
     "name": "stdout",
     "output_type": "stream",
     "text": [
      "Completed fold 2\n",
      "Completed fold 3\n",
      "Completed fold 4\n",
      "Completed fold 5\n",
      "Completed fold 6\n",
      "Completed fold 7\n",
      "Completed fold 8\n"
     ]
    },
    {
     "name": "stderr",
     "output_type": "stream",
     "text": [
      "/home/jbourbeau/cr-composition/comptools/analysis/data_functions.py:10: RuntimeWarning: invalid value encountered in true_divide\n",
      "  ratio = num/den\n",
      "/home/jbourbeau/cr-composition/comptools/analysis/data_functions.py:11: RuntimeWarning: invalid value encountered in true_divide\n",
      "  ratio_err = ratio * np.sqrt((num_err / num)**2 + (den_err / den)**2)\n"
     ]
    },
    {
     "name": "stdout",
     "output_type": "stream",
     "text": [
      "Completed fold 9\n"
     ]
    }
   ],
   "source": [
    "frac_correct_folds = comp.analysis.get_CV_frac_correct(sim_train, feature_list, pipeline_str, comp_list)\n",
    "frac_correct_gen_err = {key: np.std(frac_correct_folds[key], axis=0) for key in frac_correct_folds}"
   ]
  },
  {
   "cell_type": "markdown",
   "metadata": {},
   "source": [
    "#### Plot fraction of events correctlty classified vs energy\n",
    "This is done via 10-fold cross-validation. This will give an idea as to how much variation there is in the classifier due to different trainig and testing samples. "
   ]
  },
  {
   "cell_type": "code",
   "execution_count": 16,
   "metadata": {},
   "outputs": [
    {
     "name": "stdout",
     "output_type": "stream",
     "text": [
      "light\n",
      "heavy\n"
     ]
    },
    {
     "data": {
      "image/png": "[encoded data removed]",
      "text/plain": [
       "<matplotlib.figure.Figure at 0x7ffae5caaad0>"
      ]
     },
     "metadata": {},
     "output_type": "display_data"
    }
   ],
   "source": [
    "fig, ax = plt.subplots()\n",
    "for composition in comp_list:\n",
    "# for composition in comp_list + ['total']:\n",
    "    print(composition)\n",
    "    performance_mean = np.mean(frac_correct_folds[composition], axis=0)\n",
    "    performance_std = np.std(frac_correct_folds[composition], axis=0)\n",
    "#     err = np.sqrt(frac_correct_gen_err[composition]**2 + reco_frac_stat_err[composition]**2)\n",
    "    plotting.plot_steps(energybins.log_energy_bins, performance_mean, yerr=performance_std,\n",
    "                        ax=ax, color=color_dict[composition], label=composition)\n",
    "plt.xlabel('$\\mathrm{\\log_{10}(E_{reco}/GeV)}$')\n",
    "ax.set_ylabel('Classification accuracy')\n",
    "# ax.set_ylabel('Classification accuracy \\n (statistical + 10-fold CV error)')\n",
    "ax.set_ylim([0.0, 1.0])\n",
    "ax.set_xlim([energybins.log_energy_min, energybins.log_energy_max])\n",
    "ax.grid()\n",
    "leg = plt.legend(loc='upper center', frameon=False,\n",
    "          bbox_to_anchor=(0.5,  # horizontal\n",
    "                          1.15),# vertical \n",
    "          ncol=len(comp_list)+1, fancybox=False)\n",
    "# set the linewidth of each legend object\n",
    "for legobj in leg.legendHandles:\n",
    "    legobj.set_linewidth(3.0)\n",
    "\n",
    "cv_str = 'Avg. accuracy:\\n{:0.2f}\\% (+/- {:0.1f}\\%)'.format(np.mean(frac_correct_folds['total'])*100,\n",
    "                                                      np.std(frac_correct_folds['total'])*100)\n",
    "ax.text(7.4, 0.2, cv_str,\n",
    "        ha=\"center\", va=\"center\", size=10,\n",
    "        bbox=dict(boxstyle='round', fc=\"white\", ec=\"gray\", lw=0.8))\n",
    "# plt.savefig('/home/jbourbeau/public_html/figures/frac-correct-{}.png'.format(pipeline_str))\n",
    "plt.show()"
   ]
  },
  {
   "cell_type": "markdown",
   "metadata": {},
   "source": [
    "Determine the mean and standard deviation of the fraction correctly classified for each energy bin"
   ]
  },
  {
   "cell_type": "code",
   "execution_count": 10,
   "metadata": {
    "collapsed": true
   },
   "outputs": [],
   "source": [
    "avg_frac_correct_data = {'values': np.mean(frac_correct_folds['total'], axis=0), 'errors': np.std(frac_correct_folds['total'], axis=0)}\n",
    "avg_frac_correct, avg_frac_correct_err = comp.analysis.averaging_error(**avg_frac_correct_data)"
   ]
  },
  {
   "cell_type": "code",
   "execution_count": 11,
   "metadata": {
    "collapsed": true
   },
   "outputs": [],
   "source": [
    "reco_frac, reco_frac_stat_err = comp.analysis.get_frac_correct(sim_train, sim_test, pipeline, comp_list)"
   ]
  },
  {
   "cell_type": "code",
   "execution_count": 13,
   "metadata": {},
   "outputs": [
    {
     "data": {
      "image/png": "[encoded data removed]",
      "text/plain": [
       "<matplotlib.figure.Figure at 0x7f94bf158390>"
      ]
     },
     "metadata": {},
     "output_type": "display_data"
    }
   ],
   "source": [
    "# Plot fraction of events correctlt classified vs energy\n",
    "fig, ax = plt.subplots()\n",
    "for composition in comp_list + ['total']:\n",
    "    err = np.sqrt(frac_correct_gen_err[composition]**2 + reco_frac_stat_err[composition]**2)\n",
    "    plotting.plot_steps(energybins.log_energy_bins, reco_frac[composition], err, ax,\n",
    "                        color_dict[composition], composition)\n",
    "plt.xlabel('$\\log_{10}(E_{\\mathrm{reco}}/\\mathrm{GeV})$')\n",
    "ax.set_ylabel('Fraction correctly identified')\n",
    "ax.set_ylim([0.0, 1.0])\n",
    "ax.set_xlim([energybins.log_energy_min, energybins.log_energy_max])\n",
    "ax.grid()\n",
    "leg = plt.legend(loc='upper center', frameon=False,\n",
    "          bbox_to_anchor=(0.5,  # horizontal\n",
    "                          1.1),# vertical \n",
    "          ncol=len(comp_list)+1, fancybox=False)\n",
    "# set the linewidth of each legend object\n",
    "for legobj in leg.legendHandles:\n",
    "    legobj.set_linewidth(3.0)\n",
    "\n",
    "cv_str = 'Accuracy: {:0.2f}\\% (+/- {:0.1f}\\%)'.format(avg_frac_correct*100, avg_frac_correct_err*100)\n",
    "ax.text(7.4, 0.2, cv_str,\n",
    "        ha=\"center\", va=\"center\", size=10,\n",
    "        bbox=dict(boxstyle='round', fc=\"white\", ec=\"gray\", lw=0.8))\n",
    "plt.savefig('/home/jbourbeau/public_html/figures/frac-correct-{}.png'.format(pipeline_str))\n",
    "plt.show()"
   ]
  },
  {
   "cell_type": "code",
   "execution_count": null,
   "metadata": {
    "collapsed": true
   },
   "outputs": [],
   "source": []
  },
  {
   "cell_type": "code",
   "execution_count": null,
   "metadata": {
    "collapsed": true
   },
   "outputs": [],
   "source": []
  },
  {
   "cell_type": "code",
   "execution_count": null,
   "metadata": {
    "collapsed": true
   },
   "outputs": [],
   "source": []
  },
  {
   "cell_type": "code",
   "execution_count": null,
   "metadata": {
    "collapsed": true
   },
   "outputs": [],
   "source": []
  },
  {
   "cell_type": "code",
   "execution_count": null,
   "metadata": {
    "collapsed": true
   },
   "outputs": [],
   "source": []
  }
 ],
 "metadata": {
  "kernelspec": {
   "display_name": "Python 2",
   "language": "python",
   "name": "python2"
  },
  "language_info": {
   "codemirror_mode": {
    "name": "ipython",
    "version": 2
   },
   "file_extension": ".py",
   "mimetype": "text/x-python",
   "name": "python",
   "nbconvert_exporter": "python",
   "pygments_lexer": "ipython2",
   "version": "2.7.13"
  }
 },
 "nbformat": 4,
 "nbformat_minor": 1
}
