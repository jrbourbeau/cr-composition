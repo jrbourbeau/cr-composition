{
 "cells": [
  {
   "cell_type": "markdown",
   "metadata": {
    "deletable": true,
    "editable": true
   },
   "source": [
    "<a id='top'> </a>\n",
    "Author: [James Bourbeau](http://www.jamesbourbeau.com)"
   ]
  },
  {
   "cell_type": "code",
   "execution_count": 1,
   "metadata": {
    "collapsed": false,
    "deletable": true,
    "editable": true
   },
   "outputs": [
    {
     "name": "stdout",
     "output_type": "stream",
     "text": [
      "last updated: 2017-03-22 \n",
      "\n",
      "CPython 2.7.10\n",
      "IPython 5.3.0\n",
      "\n",
      "numpy 1.12.0\n",
      "matplotlib 2.0.0\n",
      "scipy 0.15.1\n",
      "pandas 0.19.2\n",
      "sklearn 0.18.1\n",
      "mlxtend 0.5.1\n"
     ]
    }
   ],
   "source": [
    "%load_ext watermark\n",
    "%watermark -u -d -v -p numpy,matplotlib,scipy,pandas,sklearn,mlxtend"
   ]
  },
  {
   "cell_type": "markdown",
   "metadata": {
    "deletable": true,
    "editable": true
   },
   "source": [
    "# Cosmic-ray light component analysis\n",
    "### Table of contents\n",
    "1. [Define analysis free parameters](#Define-analysis-free-parameters)\n",
    "1. [Data preprocessing](#Data-preprocessing)\n",
    "2. [Fitting random forest](#Fit-random-forest-and-run-10-fold-CV-validation)\n",
    "3. [Fraction correctly identified](#Fraction-correctly-identified)\n",
    "4. [Spectrum](#Spectrum)\n",
    "5. [Unfolding](#Unfolding)\n",
    "6. [Feature importance](#Feature-importance)"
   ]
  },
  {
   "cell_type": "code",
   "execution_count": 2,
   "metadata": {
    "collapsed": false,
    "deletable": true,
    "editable": true
   },
   "outputs": [
    {
     "name": "stderr",
     "output_type": "stream",
     "text": [
      "/home/jbourbeau/.local/lib/python2.7/site-packages/sklearn/cross_validation.py:44: DeprecationWarning: This module was deprecated in version 0.18 in favor of the model_selection module into which all the refactored classes and functions are moved. Also note that the interface of the new CV iterators are different from that of this module. This module will be removed in 0.20.\n",
      "  \"This module will be removed in 0.20.\", DeprecationWarning)\n"
     ]
    }
   ],
   "source": [
    "from __future__ import division, print_function\n",
    "from collections import defaultdict\n",
    "import itertools\n",
    "import numpy as np\n",
    "from scipy import optimize\n",
    "import pandas as pd\n",
    "import matplotlib.pyplot as plt\n",
    "import seaborn.apionly as sns\n",
    "import pyprind\n",
    "import multiprocessing as mp\n",
    "\n",
    "from sklearn.model_selection import ShuffleSplit\n",
    "\n",
    "import composition as comp\n",
    "import composition.analysis.plotting as plotting\n",
    "    \n",
    "# color_dict allows for a consistent color-coding for each composition\n",
    "color_dict = comp.analysis.get_color_dict()\n",
    "\n",
    "%matplotlib inline"
   ]
  },
  {
   "cell_type": "markdown",
   "metadata": {
    "deletable": true,
    "editable": true
   },
   "source": [
    "# Define analysis free parameters\n",
    "[ [back to top](#top) ]"
   ]
  },
  {
   "cell_type": "markdown",
   "metadata": {
    "deletable": true,
    "editable": true
   },
   "source": [
    "Whether or not to train on 'light' and 'heavy' composition classes, or the individual compositions"
   ]
  },
  {
   "cell_type": "code",
   "execution_count": 3,
   "metadata": {
    "collapsed": true,
    "deletable": true,
    "editable": true
   },
   "outputs": [],
   "source": [
    "comp_class = True\n",
    "comp_list = ['light', 'heavy'] if comp_class else ['P', 'He', 'O', 'Fe']"
   ]
  },
  {
   "cell_type": "markdown",
   "metadata": {
    "deletable": true,
    "editable": true
   },
   "source": [
    "Get composition classifier pipeline"
   ]
  },
  {
   "cell_type": "code",
   "execution_count": 4,
   "metadata": {
    "collapsed": true,
    "deletable": true,
    "editable": true
   },
   "outputs": [],
   "source": [
    "pipeline_str = 'GBDT'\n",
    "pipeline = comp.get_pipeline(pipeline_str)"
   ]
  },
  {
   "cell_type": "markdown",
   "metadata": {
    "deletable": true,
    "editable": true
   },
   "source": [
    "Define energy binning for this analysis"
   ]
  },
  {
   "cell_type": "code",
   "execution_count": 5,
   "metadata": {
    "collapsed": false,
    "deletable": true,
    "editable": true
   },
   "outputs": [],
   "source": [
    "energybins = comp.analysis.get_energybins()"
   ]
  },
  {
   "cell_type": "markdown",
   "metadata": {
    "deletable": true,
    "editable": true
   },
   "source": [
    "# Data preprocessing\n",
    "[ [back to top](#top) ]\n",
    "1. Load simulation/data dataframe and apply specified quality cuts\n",
    "2. Extract desired features from dataframe\n",
    "3. Get separate testing and training datasets\n",
    "4. Feature transformation"
   ]
  },
  {
   "cell_type": "code",
   "execution_count": 6,
   "metadata": {
    "collapsed": false,
    "deletable": true,
    "editable": true
   },
   "outputs": [
    {
     "name": "stdout",
     "output_type": "stream",
     "text": [
      "sim quality cut event flow:\n",
      "             IceTopQualityCuts:    1.0    1.0\n",
      "         lap_InIce_containment:  0.776  0.776\n",
      "              InIceQualityCuts:  0.786   0.75\n",
      "                 num_hits_1_60:  0.999   0.75\n",
      "\n",
      "\n",
      "Selecting the following features:\n",
      "\t$\\cos(\\theta_{\\mathrm{Lap}})$\n",
      "\t$\\log_{10}(S_{\\mathrm{125}})$\n",
      "\t$\\log_{10}$(dE/dX)\n",
      "\t\n",
      "Number training events = 208926\n",
      "Number testing events = 89540\n"
     ]
    }
   ],
   "source": [
    "sim_train, sim_test = comp.preprocess_sim(comp_class=comp_class, return_energy=True)"
   ]
  },
  {
   "cell_type": "code",
   "execution_count": 7,
   "metadata": {
    "collapsed": false,
    "deletable": true,
    "editable": true
   },
   "outputs": [
    {
     "name": "stdout",
     "output_type": "stream",
     "text": [
      "Number of training events = 104463\n",
      "Number of verification events = 104463\n"
     ]
    }
   ],
   "source": [
    "splitter = ShuffleSplit(n_splits=1, test_size=.5, random_state=2)\n",
    "for train_index, verification_index in splitter.split(sim_train.X):\n",
    "    sim_verification = sim_train[verification_index]\n",
    "    sim_train = sim_train[train_index]\n",
    "print('Number of training events = {}'.format(len(sim_train)))\n",
    "print('Number of verification events = {}'.format(len(sim_verification)))"
   ]
  },
  {
   "cell_type": "code",
   "execution_count": 17,
   "metadata": {
    "collapsed": false,
    "deletable": true,
    "editable": true
   },
   "outputs": [
    {
     "name": "stdout",
     "output_type": "stream",
     "text": [
      "data quality cut event flow:\n",
      "             IceTopQualityCuts:    1.0    1.0\n",
      "         lap_InIce_containment:    1.0    1.0\n",
      "             reco_energy_range:    1.0    1.0\n",
      "                 num_hits_1_30:    1.0    1.0\n",
      "                max_qfrac_1_30:    1.0    1.0\n",
      "              InIceQualityCuts:  0.957  0.957\n",
      "\n",
      "\n",
      "Selecting the following features:\n",
      "\t$\\cos(\\theta_{\\mathrm{Lap}})$\n",
      "\t$\\log_{10}(S_{\\mathrm{125}})$\n",
      "\t$\\log_{10}(InIce charge (top 50))$\n",
      "\tCharge/NChannels\n",
      "\tNHits/NChannels\n",
      "\tdE/dX (standard)\n",
      "\t\n",
      "Number testing events = 2124113\n"
     ]
    }
   ],
   "source": [
    "data = comp.preprocess_data(comp_class=comp_class, return_energy=True)"
   ]
  },
  {
   "cell_type": "markdown",
   "metadata": {
    "deletable": true,
    "editable": true
   },
   "source": [
    "Run classifier over training and testing sets to get an idea of the degree of overfitting"
   ]
  },
  {
   "cell_type": "code",
   "execution_count": 8,
   "metadata": {
    "collapsed": false,
    "deletable": true,
    "editable": true
   },
   "outputs": [
    {
     "data": {
      "text/plain": [
       "Pipeline(steps=[('scaler', StandardScaler(copy=True, with_mean=True, with_std=True)), ('classifier', GradientBoostingClassifier(criterion='friedman_mse', init=None,\n",
       "              learning_rate=0.1, loss='exponential', max_depth=5,\n",
       "              max_features=None, max_leaf_nodes=None,\n",
       "              min_impuri...ors=125, presort='auto', random_state=2,\n",
       "              subsample=1.0, verbose=0, warm_start=False))])"
      ]
     },
     "execution_count": 8,
     "metadata": {},
     "output_type": "execute_result"
    }
   ],
   "source": [
    "pipeline.fit(sim_train.X, sim_train.y)"
   ]
  },
  {
   "cell_type": "code",
   "execution_count": 9,
   "metadata": {
    "collapsed": false,
    "deletable": true,
    "editable": true
   },
   "outputs": [
    {
     "name": "stdout",
     "output_type": "stream",
     "text": [
      "On light_frac = 0.0\n",
      "On light_frac = 0.1\n",
      "On light_frac = 0.2\n",
      "On light_frac = 0.3\n",
      "On light_frac = 0.4\n",
      "On light_frac = 0.5\n",
      "On light_frac = 0.6\n",
      "On light_frac = 0.7\n",
      "On light_frac = 0.8\n",
      "On light_frac = 0.9\n",
      "On light_frac = 1.0\n"
     ]
    }
   ],
   "source": [
    "fracs = defaultdict(list)\n",
    "frac_array = np.arange(0.0, 1.1, 0.1)\n",
    "for light_frac in frac_array:\n",
    "    print('On light_frac = {}'.format(light_frac))\n",
    "    for i in range(1000):\n",
    "        heavy_frac = 1 - light_frac\n",
    "        light_dataset = comp.analysis.get_random_subsample(sim_verification, frac=light_frac, composition='light')\n",
    "        heavy_dataset = comp.analysis.get_random_subsample(sim_verification, frac=heavy_frac, composition='heavy')\n",
    "        combined_dataset = light_dataset + heavy_dataset\n",
    "        pred = pipeline.predict(combined_dataset.X)\n",
    "        num_pred_light = np.sum(combined_dataset.le.inverse_transform(pred) == 'light')\n",
    "        frac_light = num_pred_light/len(combined_dataset)\n",
    "        fracs[light_frac].append(frac_light)"
   ]
  },
  {
   "cell_type": "code",
   "execution_count": 18,
   "metadata": {
    "collapsed": false,
    "deletable": true,
    "editable": true
   },
   "outputs": [
    {
     "data": {
      "image/png": "[encoded data removed]",
      "text/plain": [
       "<matplotlib.figure.Figure at 0x7f2d8d127e90>"
      ]
     },
     "metadata": {},
     "output_type": "display_data"
    }
   ],
   "source": [
    "with sns.color_palette('viridis', len(frac_array)):\n",
    "    fig, ax = plt.subplots()\n",
    "    for light_frac in frac_array:\n",
    "        sns.distplot(fracs[light_frac], bins=np.linspace(0.0, 1.0, 100),\n",
    "                     kde=False, label=str(light_frac), hist_kws={'alpha': 0.75})\n",
    "    ax.set_xlabel('Reconstructed fraction of light events')\n",
    "    ax.set_ylabel('Counts')\n",
    "    ax.set_xlim([0.1, 0.9])\n",
    "    ax.grid()\n",
    "    leg = plt.legend(title='Injected fraction\\nof light events',\n",
    "                     loc='center left', frameon=False,\n",
    "              bbox_to_anchor=(1.0,  # horizontal\n",
    "                              0.5),# vertical \n",
    "              ncol=1, fancybox=False)\n",
    "    plt.savefig('/home/jbourbeau/public_html/figures/light-frac-reconstructed-hists.png')\n",
    "    plt.show()"
   ]
  },
  {
   "cell_type": "code",
   "execution_count": 23,
   "metadata": {
    "collapsed": false,
    "deletable": true,
    "editable": true
   },
   "outputs": [
    {
     "name": "stdout",
     "output_type": "stream",
     "text": [
      "[0.25650000000000001, 0.30599999999999999, 0.35399999999999998, 0.40300000000000002, 0.45500000000000002, 0.504, 0.55355355355355351, 0.60260260260260257, 0.6526526526526526, 0.70170170170170165, 0.751]\n",
      "[0.01404953180714575, 0.013699643207032808, 0.013575122982868329, 0.013832056933081201, 0.013972475657520394, 0.013070602740501307, 0.014200320861728425, 0.01428133705994826, 0.013349494927547875, 0.013707258697239395, 0.01361137314895159]\n"
     ]
    },
    {
     "data": {
      "image/png": "[encoded data removed]",
      "text/plain": [
       "<matplotlib.figure.Figure at 0x7f2d8c7a9410>"
      ]
     },
     "metadata": {},
     "output_type": "display_data"
    }
   ],
   "source": [
    "fig, ax = plt.subplots()\n",
    "medians = []\n",
    "errs = []\n",
    "for light_frac in frac_array:\n",
    "    medians.append(np.median(fracs[light_frac]))\n",
    "    errs.append(np.std(fracs[light_frac]))\n",
    "print(medians)\n",
    "print(errs)\n",
    "ax.errorbar(frac_array, medians, yerr=errs, marker='.', ls='None')\n",
    "ax.set_xlabel('Injected fraction of light events')\n",
    "ax.set_ylabel('Reconstructed fraction\\nof light events')\n",
    "ax.set_xlim([0, 1])\n",
    "ax.set_ylim([0, 1])\n",
    "ax.set_aspect(1.0)\n",
    "ax.grid()\n",
    "plt.savefig('/home/jbourbeau/public_html/figures/light-frac-reconstructed-medians.png')\n",
    "plt.show()"
   ]
  },
  {
   "cell_type": "code",
   "execution_count": 22,
   "metadata": {
    "collapsed": false,
    "deletable": true,
    "editable": true
   },
   "outputs": [
    {
     "name": "stderr",
     "output_type": "stream",
     "text": [
      "0%                          100%\n",
      "[##############################] | ETA: 00:02:52 | ETA: 00:02:33 | ETA: 00:02:49 | ETA: 00:02:56 | ETA: 00:02:49 | ETA: 00:02:35 | ETA: 00:02:23 | ETA: 00:02:13 | ETA: 00:02:04 | ETA: 00:01:55 | ETA: 00:01:49 | ETA: 00:01:43 | ETA: 00:01:36 | ETA: 00:01:29 | ETA: 00:01:28 | ETA: 00:01:23 | ETA: 00:01:17 | ETA: 00:01:10 | ETA: 00:01:04 | ETA: 00:00:58 | ETA: 00:00:52 | ETA: 00:00:46 | ETA: 00:00:40 | ETA: 00:00:34 | ETA: 00:00:28 | ETA: 00:00:22 | ETA: 00:00:17 | ETA: 00:00:11 | ETA: 00:00:05 | ETA: 00:00:00 | ETA: 00:00:00\n",
      "Total time elapsed: 00:02:55\n"
     ]
    }
   ],
   "source": [
    "n_samples = 10000\n",
    "injected_frac = np.random.ranf(n_samples)\n",
    "reco_frac = []\n",
    "bar = pyprind.ProgBar(n_samples)\n",
    "for light_frac in injected_frac:\n",
    "    heavy_frac = 1 - light_frac\n",
    "    light_dataset = comp.analysis.get_random_subsample(sim_verification, frac=light_frac, composition='light')\n",
    "    heavy_dataset = comp.analysis.get_random_subsample(sim_verification, frac=heavy_frac, composition='heavy')\n",
    "    combined_dataset = light_dataset + heavy_dataset\n",
    "    pred = pipeline.predict(combined_dataset.X)\n",
    "    num_pred_light = np.sum(combined_dataset.le.inverse_transform(pred) == 'light')\n",
    "    frac_light = num_pred_light/len(combined_dataset)\n",
    "    reco_frac.append(frac_light)\n",
    "    bar.update()"
   ]
  },
  {
   "cell_type": "code",
   "execution_count": 9,
   "metadata": {
    "collapsed": false,
    "deletable": true,
    "editable": true
   },
   "outputs": [],
   "source": [
    "def get_reco_frac(dataset, injected_light_fraction, pipeline):\n",
    "    print('WEWOWOW')\n",
    "    heavy_frac = 1 - injected_light_fraction\n",
    "    light_dataset = comp.analysis.get_random_subsample(dataset, frac=injected_light_fraction, composition='light')\n",
    "    heavy_dataset = comp.analysis.get_random_subsample(dataset, frac=heavy_frac, composition='heavy')\n",
    "    combined_dataset = light_dataset + heavy_dataset\n",
    "    pred = pipeline.predict(combined_dataset.X)\n",
    "    num_pred_light = np.sum(combined_dataset.le.inverse_transform(pred) == 'light')\n",
    "    frac_light = num_pred_light/len(combined_dataset)\n",
    "    return frac_light"
   ]
  },
  {
   "cell_type": "code",
   "execution_count": 11,
   "metadata": {
    "collapsed": false,
    "deletable": true,
    "editable": true
   },
   "outputs": [
    {
     "name": "stdout",
     "output_type": "stream",
     "text": [
      "WEWOWOW\n"
     ]
    },
    {
     "data": {
      "text/plain": [
       "0.28799999999999998"
      ]
     },
     "execution_count": 11,
     "metadata": {},
     "output_type": "execute_result"
    }
   ],
   "source": [
    "get_reco_frac(comp, sim_train, 0.1, pipeline)"
   ]
  },
  {
   "cell_type": "code",
   "execution_count": null,
   "metadata": {
    "collapsed": false,
    "deletable": true,
    "editable": true
   },
   "outputs": [
    {
     "name": "stdout",
     "output_type": "stream",
     "text": [
      "WEWOWOW\n",
      "injected_frac = [ 0.52425416]\n"
     ]
    },
    {
     "name": "stderr",
     "output_type": "stream",
     "text": [
      "Process PoolWorker-2:\n",
      "Traceback (most recent call last):\n",
      "  File \"/cvmfs/icecube.opensciencegrid.org/py2-v1/RHEL_6_x86_64/lib/python2.7/multiprocessing/process.py\", line 258, in _bootstrap\n",
      "    self.run()\n",
      "  File \"/cvmfs/icecube.opensciencegrid.org/py2-v1/RHEL_6_x86_64/lib/python2.7/multiprocessing/process.py\", line 114, in run\n",
      "    self._target(*self._args, **self._kwargs)\n",
      "  File \"/cvmfs/icecube.opensciencegrid.org/py2-v1/RHEL_6_x86_64/lib/python2.7/multiprocessing/pool.py\", line 85, in worker\n",
      "    task = get()\n",
      "  File \"/cvmfs/icecube.opensciencegrid.org/py2-v1/RHEL_6_x86_64/lib/python2.7/multiprocessing/queues.py\", line 376, in get\n",
      "    return recv()\n",
      "KeyboardInterrupt\n"
     ]
    }
   ],
   "source": [
    "pool = mp.Pool(processes=1)\n",
    "n_samples = 1\n",
    "injected_frac = np.random.ranf(n_samples)\n",
    "print('injected_frac = {}'.format(injected_frac))\n",
    "results = [pool.apply(get_reco_frac, args=(sim_train, x, pipeline)) for x in injected_frac]\n",
    "print(results)"
   ]
  },
  {
   "cell_type": "code",
   "execution_count": 38,
   "metadata": {
    "collapsed": false,
    "deletable": true,
    "editable": true
   },
   "outputs": [],
   "source": [
    "reco_frac_median = stats.binned_statistic(injected_frac, reco_frac, bins=frac_bins, statistic='median')[0]\n",
    "frac_midpoints = (frac_bins[1:] + frac_bins[:-1]) / 2\n",
    "slope, intercept = np.polyfit(frac_midpoints, reco_frac_median, 1)\n",
    "def linefit_response(x):\n",
    "    return intercept + slope*x\n",
    "def inverse_response(y):\n",
    "    return (y - intercept) / slope"
   ]
  },
  {
   "cell_type": "code",
   "execution_count": 44,
   "metadata": {
    "collapsed": false,
    "deletable": true,
    "editable": true
   },
   "outputs": [
    {
     "name": "stdout",
     "output_type": "stream",
     "text": [
      "light fraction = 0.507582223733\n"
     ]
    }
   ],
   "source": [
    "pred = pipeline.predict(data.X)\n",
    "light_mask = sim_train.le.inverse_transform(pred) == 'light'\n",
    "frac_light = np.sum(light_mask)/pred.shape[0]\n",
    "print('light fraction = {}'.format(frac_light))"
   ]
  },
  {
   "cell_type": "code",
   "execution_count": 47,
   "metadata": {
    "collapsed": false,
    "deletable": true,
    "editable": true
   },
   "outputs": [
    {
     "name": "stdout",
     "output_type": "stream",
     "text": [
      "0.524509376937\n"
     ]
    },
    {
     "data": {
      "image/png": "[encoded data removed]",
      "text/plain": [
       "<matplotlib.figure.Figure at 0x7f16daccb5d0>"
      ]
     },
     "metadata": {},
     "output_type": "display_data"
    }
   ],
   "source": [
    "fig, ax = plt.subplots()\n",
    "frac_bins = np.linspace(0.0, 1.0, 75)\n",
    "plotting.histogram_2D(injected_frac, reco_frac, bins=frac_bins, ax=ax)\n",
    "ax.plot(frac_midpoints, linefit_response(frac_midpoints), marker='None',\n",
    "        ls='-', lw=2, color='C1')\n",
    "ax.axhline(frac_light, marker='None', ls='-.')\n",
    "ax.axvline(inverse_response(frac_light), marker='None', ls='-.')\n",
    "print(inverse_response(frac_light))\n",
    "ax.set_xlabel('Injected fraction of light events')\n",
    "ax.set_ylabel('Reconstructed fraction of light events')\n",
    "ax.grid()\n",
    "plt.savefig('/home/jbourbeau/public_html/figures/light-frac-reconstructed-2d.png')\n",
    "plt.show()"
   ]
  },
  {
   "cell_type": "code",
   "execution_count": 24,
   "metadata": {
    "collapsed": false,
    "deletable": true,
    "editable": true
   },
   "outputs": [
    {
     "name": "stdout",
     "output_type": "stream",
     "text": [
      "[        nan         nan         nan         nan         nan         nan\n",
      "         nan         nan         nan         nan         nan         nan\n",
      "         nan  0.          0.00705656  0.01009688  0.01775529  0.0218893\n",
      "  0.02278631  0.02490347  0.02402943  0.02481538  0.02403843  0.02376505\n",
      "  0.02400733  0.02449618  0.02429567  0.02317209  0.02334606  0.02402929\n",
      "  0.02575662  0.02612274  0.02369656  0.02232409  0.02518269  0.02308029\n",
      "  0.02432504  0.02491382  0.02631043  0.0253621   0.0236952   0.02642021\n",
      "  0.02360639  0.02465072  0.02482334  0.02246951  0.02487805  0.02375854\n",
      "  0.02489142  0.02423951  0.02661511  0.02482411  0.02574868  0.02436697\n",
      "  0.0228967   0.02014996  0.01931386  0.01411594  0.01043543         nan\n",
      "         nan         nan         nan         nan         nan         nan\n",
      "         nan         nan         nan         nan         nan         nan\n",
      "         nan         nan]\n",
      "0.0244365530609\n"
     ]
    }
   ],
   "source": [
    "reco_frac_std = stats.binned_statistic(reco_frac, injected_frac, bins=frac_bins, statistic=np.std)[0]\n",
    "print(reco_frac_std)\n",
    "frac_midpoints = (frac_bins[1:] + frac_bins[:-1]) / 2\n",
    "linefit = lambda x, b: b\n",
    "x = frac_midpoints[(frac_midpoints > 0.3) & (frac_midpoints < 0.7)]\n",
    "y = reco_frac_std[(frac_midpoints > 0.3) & (frac_midpoints < 0.7)]\n",
    "popt, pcov = optimize.curve_fit(linefit, x, y)\n",
    "intercept = popt[0]\n",
    "print(intercept)\n",
    "yfit = linefit(x, intercept)\n",
    "yfit = np.array([yfit for i in range(len(x))])"
   ]
  },
  {
   "cell_type": "code",
   "execution_count": 25,
   "metadata": {
    "collapsed": false,
    "deletable": true,
    "editable": true
   },
   "outputs": [
    {
     "data": {
      "image/png": "[encoded data removed]",
      "text/plain": [
       "<matplotlib.figure.Figure at 0x7f16da14fe10>"
      ]
     },
     "metadata": {},
     "output_type": "display_data"
    }
   ],
   "source": [
    "fig, ax = plt.subplots()\n",
    "ax.plot(frac_midpoints, reco_frac_std, ls='None', ms=10)\n",
    "ax.axhline(intercept, marker='None', lw=1, ls=':', color='k')\n",
    "ax.annotate('{:.4f}'.format(intercept), xy=(0.3, intercept), xytext=(0.4, 0.018),\n",
    "            arrowprops=dict(arrowstyle='-|>', color='black', connectionstyle='arc3,rad=-0.3'), fontsize=8,\n",
    "            bbox=dict(boxstyle='round', fc=\"white\", ec=\"gray\", lw=0.8))\n",
    "ax.grid()\n",
    "ax.set_xlabel('Reconstructed fraction of light events')\n",
    "ax.set_ylabel('1$\\sigma$ spread in injected fraction')\n",
    "plt.savefig('/home/jbourbeau/public_html/figures/light-frac-reconstructed-spread.png')\n",
    "plt.show()"
   ]
  },
  {
   "cell_type": "code",
   "execution_count": null,
   "metadata": {
    "collapsed": true,
    "deletable": true,
    "editable": true
   },
   "outputs": [],
   "source": []
  },
  {
   "cell_type": "code",
   "execution_count": null,
   "metadata": {
    "collapsed": true,
    "deletable": true,
    "editable": true
   },
   "outputs": [],
   "source": []
  }
 ],
 "metadata": {
  "kernelspec": {
   "display_name": "Python 2",
   "language": "python",
   "name": "python2"
  },
  "language_info": {
   "codemirror_mode": {
    "name": "ipython",
    "version": 2
   },
   "file_extension": ".py",
   "mimetype": "text/x-python",
   "name": "python",
   "nbconvert_exporter": "python",
   "pygments_lexer": "ipython2",
   "version": "2.7.10"
  }
 },
 "nbformat": 4,
 "nbformat_minor": 1
}
