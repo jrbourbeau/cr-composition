{
 "cells": [
  {
   "cell_type": "code",
   "execution_count": 30,
   "metadata": {},
   "outputs": [],
   "source": [
    "import os\n",
    "import numpy as np\n",
    "from scipy import interp\n",
    "import matplotlib.pyplot as plt\n",
    "from itertools import cycle\n",
    "\n",
    "from sklearn import svm, datasets\n",
    "from sklearn.metrics import roc_curve, auc\n",
    "from sklearn.model_selection import StratifiedKFold\n",
    "\n",
    "import comptools as comp\n",
    "\n",
    "%matplotlib inline"
   ]
  },
  {
   "cell_type": "code",
   "execution_count": 2,
   "metadata": {},
   "outputs": [
    {
     "name": "stdout",
     "output_type": "stream",
     "text": [
      "Starting out with 108522 sim events\n",
      "sim quality cut event flow:\n",
      "      passed_IceTopQualityCuts:    1.0    1.0\n",
      "FractionContainment_Laputop_InIce:  0.793  0.793\n",
      "       passed_InIceQualityCuts:  0.795   0.76\n",
      "                 num_hits_1_60:  0.997  0.759\n",
      "             reco_energy_range:  0.874  0.662\n",
      "\n",
      "\n"
     ]
    }
   ],
   "source": [
    "comp_class = True\n",
    "comp_key = 'MC_comp_class' if comp_class else 'MC_comp'\n",
    "comp_list = ['light', 'heavy'] if comp_class else ['P', 'He', 'O', 'Fe']\n",
    "\n",
    "pipeline_str = 'BDT'\n",
    "pipeline = comp.get_pipeline(pipeline_str)\n",
    "\n",
    "energybins = comp.analysis.get_energybins()\n",
    "feature_list, feature_labels = comp.analysis.get_training_features()\n",
    "\n",
    "df_sim_train, df_sim_test = comp.load_dataframe(datatype='sim',\n",
    "                                config='IC86.2012', comp_key=comp_key)"
   ]
  },
  {
   "cell_type": "code",
   "execution_count": 14,
   "metadata": {},
   "outputs": [
    {
     "name": "stdout",
     "output_type": "stream",
     "text": [
      "0\n",
      "1\n",
      "2\n",
      "3\n",
      "4\n",
      "5\n",
      "6\n",
      "7\n",
      "8\n",
      "9\n"
     ]
    }
   ],
   "source": [
    "# #############################################################################\n",
    "# Classification and ROC analysis\n",
    "\n",
    "# Run classifier with cross-validation and plot ROC curves\n",
    "cv = StratifiedKFold(n_splits=10)\n",
    "\n",
    "tprs = []\n",
    "aucs = []\n",
    "mean_fpr = np.linspace(0, 1, 100)\n",
    "\n",
    "i = 0\n",
    "for train, test in cv.split(df_sim_train[feature_list], df_sim_train['target']):\n",
    "    print(i)\n",
    "    X_fold = df_sim_train[feature_list].values[train]\n",
    "    y_fold = df_sim_train['target'].values[train]\n",
    "    pipeline.fit(X_fold, y_fold)\n",
    "    probas_ = pipeline.predict_proba(df_sim_train[feature_list].values[test])\n",
    "    # Compute ROC curve and area the curve\n",
    "    fpr, tpr, thresholds = roc_curve(y[test], probas_[:, 1])\n",
    "    tprs.append(interp(mean_fpr, fpr, tpr))\n",
    "    tprs[-1][0] = 0.0\n",
    "    roc_auc = auc(fpr, tpr)\n",
    "    aucs.append(roc_auc)\n",
    "#     plt.plot(fpr, tpr, lw=1, alpha=0.3,\n",
    "#              label='ROC fold %d (AUC = %0.2f)' % (i, roc_auc))\n",
    "\n",
    "    i += 1\n",
    "    "
   ]
  },
  {
   "cell_type": "code",
   "execution_count": 36,
   "metadata": {
    "scrolled": false
   },
   "outputs": [
    {
     "data": {
      "image/png": "[encoded data removed]",
      "text/plain": [
       "<matplotlib.figure.Figure at 0x7fa0d0a3f550>"
      ]
     },
     "metadata": {},
     "output_type": "display_data"
    }
   ],
   "source": [
    "plt.plot([0, 1], [0, 1], linestyle='--', marker='None', lw=1, color='k',\n",
    "         label='Luck', alpha=.8)\n",
    "\n",
    "mean_tpr = np.mean(tprs, axis=0)\n",
    "mean_tpr[-1] = 1.0\n",
    "mean_auc = auc(mean_fpr, mean_tpr)\n",
    "std_auc = np.std(aucs)\n",
    "plt.plot(mean_fpr, mean_tpr,\n",
    "         label=r'Mean ROC'+'\\n'+'(AUC = %0.2f $\\pm$ %0.2f)' % (mean_auc, std_auc),\n",
    "         ls='-', lw=0.8, marker='None', alpha=.8)\n",
    "\n",
    "std_tpr = np.std(tprs, axis=0)\n",
    "tprs_upper = np.minimum(mean_tpr + std_tpr, 1)\n",
    "tprs_lower = np.maximum(mean_tpr - std_tpr, 0)\n",
    "plt.fill_between(mean_fpr, tprs_lower, tprs_upper, color='grey', alpha=.2,\n",
    "                 label=r'$\\pm$ 1 std. dev.')\n",
    "\n",
    "# plt.xlim(0, 1)\n",
    "# plt.ylim(0, 1)\n",
    "plt.xlabel('False Positive Rate')\n",
    "plt.ylabel('True Positive Rate')\n",
    "plt.title('ROC curve')\n",
    "plt.legend(fontsize=12)\n",
    "plt.grid()\n",
    "outfile = os.path.join(comp.paths.figures_dir,\n",
    "                'model_evaluation/roc-curve-IC86.2012.png')\n",
    "comp.check_output_dir(outfile)\n",
    "plt.savefig(outfile)\n",
    "plt.show()"
   ]
  },
  {
   "cell_type": "code",
   "execution_count": null,
   "metadata": {
    "collapsed": true
   },
   "outputs": [],
   "source": []
  }
 ],
 "metadata": {
  "kernelspec": {
   "display_name": "Python 2",
   "language": "python",
   "name": "python2"
  },
  "language_info": {
   "codemirror_mode": {
    "name": "ipython",
    "version": 2
   },
   "file_extension": ".py",
   "mimetype": "text/x-python",
   "name": "python",
   "nbconvert_exporter": "python",
   "pygments_lexer": "ipython2",
   "version": "2.7.13"
  }
 },
 "nbformat": 4,
 "nbformat_minor": 2
}
