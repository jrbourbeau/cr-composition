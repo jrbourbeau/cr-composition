{
 "cells": [
  {
   "cell_type": "code",
   "execution_count": 115,
   "metadata": {},
   "outputs": [],
   "source": [
    "import matplotlib.pyplot as plt\n",
    "import pandas as pd\n",
    "import ROOT\n",
    "\n",
    "import comptools\n",
    "\n",
    "%matplotlib inline"
   ]
  },
  {
   "cell_type": "code",
   "execution_count": 86,
   "metadata": {
    "collapsed": true
   },
   "outputs": [],
   "source": [
    "f = ROOT.TFile('/home/jbourbeau/datachallenge/capitals/Austin.root')"
   ]
  },
  {
   "cell_type": "code",
   "execution_count": 87,
   "metadata": {},
   "outputs": [],
   "source": [
    "tree = f.Get('tinyTree')"
   ]
  },
  {
   "cell_type": "code",
   "execution_count": 113,
   "metadata": {},
   "outputs": [
    {
     "name": "stdout",
     "output_type": "stream",
     "text": [
      "356.584742248\n",
      "5200.75459255\n",
      "3707.03822652\n",
      "14337.8226836\n",
      "3670.35376042\n",
      "501.93676228\n",
      "324.81745515\n",
      "311.172662534\n",
      "170.087406494\n",
      "476.674317218\n",
      "356.258686781\n"
     ]
    }
   ],
   "source": [
    "for i, entry in enumerate(tree):  \n",
    "    if i > 10: continue\n",
    "    print(entry.qtot)"
   ]
  },
  {
   "cell_type": "code",
   "execution_count": 76,
   "metadata": {},
   "outputs": [
    {
     "ename": "TypeError",
     "evalue": "'TBranch' object is not iterable",
     "output_type": "error",
     "traceback": [
      "\u001b[0;31m\u001b[0m",
      "\u001b[0;31mTypeError\u001b[0mTraceback (most recent call last)",
      "\u001b[0;32m<ipython-input-76-6f6f8abe88f1>\u001b[0m in \u001b[0;36m<module>\u001b[0;34m()\u001b[0m\n\u001b[1;32m      1\u001b[0m \u001b[0;32mfor\u001b[0m \u001b[0mevent\u001b[0m \u001b[0;32min\u001b[0m \u001b[0mtree\u001b[0m\u001b[0;34m:\u001b[0m\u001b[0;34m\u001b[0m\u001b[0m\n\u001b[1;32m      2\u001b[0m     \u001b[0ms125\u001b[0m \u001b[0;34m=\u001b[0m \u001b[0mevent\u001b[0m\u001b[0;34m.\u001b[0m\u001b[0mGetBranch\u001b[0m\u001b[0;34m(\u001b[0m\u001b[0;34m\"s125\"\u001b[0m\u001b[0;34m)\u001b[0m\u001b[0;34m\u001b[0m\u001b[0m\n\u001b[0;32m----> 3\u001b[0;31m     \u001b[0;32mfor\u001b[0m \u001b[0mx\u001b[0m \u001b[0;32min\u001b[0m \u001b[0ms125\u001b[0m\u001b[0;34m:\u001b[0m\u001b[0;34m\u001b[0m\u001b[0m\n\u001b[0m\u001b[1;32m      4\u001b[0m         \u001b[0;32mprint\u001b[0m\u001b[0;34m(\u001b[0m\u001b[0mx\u001b[0m\u001b[0;34m)\u001b[0m\u001b[0;34m\u001b[0m\u001b[0m\n",
      "\u001b[0;31mTypeError\u001b[0m: 'TBranch' object is not iterable"
     ]
    }
   ],
   "source": [
    "for event in tree:\n",
    "    s125 = event.GetBranch(\"s125\")\n",
    "    for x in s125:\n",
    "        print(x)"
   ]
  },
  {
   "cell_type": "code",
   "execution_count": 39,
   "metadata": {},
   "outputs": [],
   "source": [
    "branches = tree.GetListOfBranches()"
   ]
  },
  {
   "cell_type": "code",
   "execution_count": 45,
   "metadata": {},
   "outputs": [
    {
     "data": {
      "text/plain": [
       "36"
      ]
     },
     "execution_count": 45,
     "metadata": {},
     "output_type": "execute_result"
    }
   ],
   "source": [
    "branches.GetEntries()"
   ]
  },
  {
   "cell_type": "code",
   "execution_count": 48,
   "metadata": {},
   "outputs": [
    {
     "name": "stdout",
     "output_type": "stream",
     "text": [
      "<ROOT.TBranch object (\"s125\") at 0x3c069c0>\n",
      "<ROOT.TBranch object (\"s70\") at 0x3c14870>\n",
      "<ROOT.TBranch object (\"s150\") at 0x3c14ed0>\n",
      "<ROOT.TBranch object (\"beta\") at 0x3c15530>\n",
      "<ROOT.TBranch object (\"zenith\") at 0x3c15b90>\n",
      "<ROOT.TBranch object (\"azimuth\") at 0x3c16210>\n",
      "<ROOT.TBranch object (\"x\") at 0x3c16870>\n",
      "<ROOT.TBranch object (\"y\") at 0x3c16ed0>\n",
      "<ROOT.TBranch object (\"z\") at 0x3c17530>\n",
      "<ROOT.TBranch object (\"itsiz\") at 0x3c17b90>\n",
      "<ROOT.TBranch object (\"iisiz\") at 0x3c181f0>\n",
      "<ROOT.TBranch object (\"eloss_1500\") at 0x3c18850>\n",
      "<ROOT.TBranch object (\"eloss_1800\") at 0x3c18ee0>\n",
      "<ROOT.TBranch object (\"eloss_2100\") at 0x3c19570>\n",
      "<ROOT.TBranch object (\"eloss_2400\") at 0x3c19c00>\n",
      "<ROOT.TBranch object (\"stoch_energy\") at 0x3c1a290>\n",
      "<ROOT.TBranch object (\"rel_stoch_energy\") at 0x3c1a920>\n",
      "<ROOT.TBranch object (\"chi2\") at 0x3c1b040>\n",
      "<ROOT.TBranch object (\"chi2_red\") at 0x3c1b6a0>\n",
      "<ROOT.TBranch object (\"stoch_depth\") at 0x3c1bd30>\n",
      "<ROOT.TBranch object (\"n_he_stoch\") at 0x3c1c3c0>\n",
      "<ROOT.TBranch object (\"fit_status\") at 0x3c1d7e0>\n",
      "<ROOT.TBranch object (\"time_start_mjd_sec\") at 0x3c1dd30>\n",
      "<ROOT.TBranch object (\"time_start_mjd_ns\") at 0x3c1e340>\n",
      "<ROOT.TBranch object (\"time_start_mjd_day\") at 0x3c1ea60>\n",
      "<ROOT.TBranch object (\"eloss_1500_red\") at 0x3c1f070>\n",
      "<ROOT.TBranch object (\"stoch_energy2\") at 0x3c1f700>\n",
      "<ROOT.TBranch object (\"rel_stoch_energy2\") at 0x3c1fd90>\n",
      "<ROOT.TBranch object (\"chi2_red2\") at 0x3c204b0>\n",
      "<ROOT.TBranch object (\"stoch_depth2\") at 0x3c20b40>\n",
      "<ROOT.TBranch object (\"n_he_stoch2\") at 0x3c211d0>\n",
      "<ROOT.TBranch object (\"fit_status2\") at 0x3c21750>\n",
      "<ROOT.TBranch object (\"eloss_1500_red2\") at 0x3c21cd0>\n",
      "<ROOT.TBranch object (\"mc_weight\") at 0x3c223c0>\n",
      "<ROOT.TBranch object (\"nch\") at 0x3c22a50>\n",
      "<ROOT.TBranch object (\"qtot\") at 0x3c22fa0>\n"
     ]
    }
   ],
   "source": [
    "for branch in branches:\n",
    "    print(branch)"
   ]
  },
  {
   "cell_type": "code",
   "execution_count": 49,
   "metadata": {
    "collapsed": true
   },
   "outputs": [],
   "source": [
    "s125 = tree.GetBranch(\"s125\")"
   ]
  },
  {
   "cell_type": "code",
   "execution_count": 70,
   "metadata": {},
   "outputs": [],
   "source": [
    "entries = s125.GetEntries()"
   ]
  },
  {
   "cell_type": "code",
   "execution_count": 71,
   "metadata": {},
   "outputs": [
    {
     "data": {
      "text/plain": [
       "79601L"
      ]
     },
     "execution_count": 71,
     "metadata": {},
     "output_type": "execute_result"
    }
   ],
   "source": [
    "entries"
   ]
  },
  {
   "cell_type": "code",
   "execution_count": 119,
   "metadata": {},
   "outputs": [
    {
     "name": "stdout",
     "output_type": "stream",
     "text": [
      "0          10.189508\n",
      "1         100.219352\n",
      "2          56.107415\n",
      "3         118.855038\n",
      "4         106.997481\n",
      "5          11.719190\n",
      "6           7.191623\n",
      "7          11.704896\n",
      "8           9.268654\n",
      "9          24.702419\n",
      "10         23.963756\n",
      "11         59.234973\n",
      "12         15.261914\n",
      "13          5.974693\n",
      "14          2.959281\n",
      "15          7.683626\n",
      "16         36.193535\n",
      "17          9.171871\n",
      "18         20.949944\n",
      "19          4.445178\n",
      "20          8.382910\n",
      "21         20.556247\n",
      "22          8.829039\n",
      "23        328.498698\n",
      "24         80.497537\n",
      "25         24.733308\n",
      "26         44.444235\n",
      "27         40.748660\n",
      "28         43.975991\n",
      "29        192.664639\n",
      "            ...     \n",
      "79571     352.651419\n",
      "79572     371.835915\n",
      "79573     444.304456\n",
      "79574     438.955752\n",
      "79575     996.210312\n",
      "79576     765.365379\n",
      "79577    2522.453677\n",
      "79578    1306.619466\n",
      "79579    3039.137123\n",
      "79580     111.189924\n",
      "79581     101.372015\n",
      "79582     128.697339\n",
      "79583     621.518575\n",
      "79584     273.252798\n",
      "79585     486.016494\n",
      "79586     503.254654\n",
      "79587     829.797833\n",
      "79588    1477.368119\n",
      "79589    1434.897960\n",
      "79590      46.729799\n",
      "79591      61.274992\n",
      "79592      55.672644\n",
      "79593     136.338062\n",
      "79594     124.381959\n",
      "79595     161.762882\n",
      "79596     132.877938\n",
      "79597     151.873957\n",
      "79598     268.061723\n",
      "79599     327.000059\n",
      "79600     390.025232\n",
      "Name: eloss_1500, dtype: float64\n"
     ]
    }
   ],
   "source": [
    "with pd.HDFStore('Austin.hdf') as store:\n",
    "    df = store['dataframe']\n",
    "    print(df['eloss_1500'])"
   ]
  },
  {
   "cell_type": "code",
   "execution_count": null,
   "metadata": {
    "collapsed": true
   },
   "outputs": [],
   "source": []
  }
 ],
 "metadata": {
  "kernelspec": {
   "display_name": "Python 2",
   "language": "python",
   "name": "python2"
  },
  "language_info": {
   "codemirror_mode": {
    "name": "ipython",
    "version": 2
   },
   "file_extension": ".py",
   "mimetype": "text/x-python",
   "name": "python",
   "nbconvert_exporter": "python",
   "pygments_lexer": "ipython2",
   "version": "2.7.10"
  }
 },
 "nbformat": 4,
 "nbformat_minor": 2
}
