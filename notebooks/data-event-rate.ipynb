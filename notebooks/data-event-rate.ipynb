{
 "cells": [
  {
   "cell_type": "code",
   "execution_count": 96,
   "metadata": {
    "collapsed": true
   },
   "outputs": [],
   "source": [
    "import os\n",
    "import pandas as pd\n",
    "import numpy as np\n",
    "import matplotlib.pyplot as plt\n",
    "import dask\n",
    "from dask import delayed, multiprocessing, compute\n",
    "from dask.diagnostics import ProgressBar\n",
    "from astropy.time import Time\n",
    "import seaborn.apionly as sns\n",
    "\n",
    "from icecube import dataclasses\n",
    "\n",
    "import comptools as comp\n",
    "\n",
    "%matplotlib inline"
   ]
  },
  {
   "cell_type": "code",
   "execution_count": 29,
   "metadata": {},
   "outputs": [
    {
     "name": "stdout",
     "output_type": "stream",
     "text": [
      "Starting out with 8020592 data events\n",
      "data quality cut event flow:\n",
      "      passed_IceTopQualityCuts:    1.0    1.0\n",
      "FractionContainment_Laputop_InIce:    1.0    1.0\n",
      "       passed_InIceQualityCuts:  0.918  0.918\n",
      "                 num_hits_1_60:    1.0  0.918\n",
      "             reco_energy_range:    1.0  0.918\n",
      "\n",
      "\n"
     ]
    },
    {
     "name": "stderr",
     "output_type": "stream",
     "text": [
      "/home/jbourbeau/cr-composition/comptools/dataframe_functions.py:135: RuntimeWarning: invalid value encountered in log10\n",
      "  df['log_dEdX'] = np.log10(df['eloss_1500_standard'])\n"
     ]
    }
   ],
   "source": [
    "df_data = comp.load_data(config='IC86.2012')"
   ]
  },
  {
   "cell_type": "code",
   "execution_count": null,
   "metadata": {
    "collapsed": true
   },
   "outputs": [],
   "source": [
    "# def handle_mjd(f):\n",
    "#     def inner(mjd_date):\n",
    "#         date_time = dataclasses.I3Time(56043.448794).date_time\n",
    "#         return f(date_time)\n",
    "#     return"
   ]
  },
  {
   "cell_type": "code",
   "execution_count": 24,
   "metadata": {},
   "outputs": [
    {
     "name": "stdout",
     "output_type": "stream",
     "text": [
      "100 loops, best of 3: 8.44 ms per loop\n"
     ]
    }
   ],
   "source": [
    "%timeit event_times = to_datetime(df_data.start_time_mjd[:100])"
   ]
  },
  {
   "cell_type": "code",
   "execution_count": 25,
   "metadata": {},
   "outputs": [
    {
     "name": "stdout",
     "output_type": "stream",
     "text": [
      "100 loops, best of 3: 8.28 ms per loop\n"
     ]
    }
   ],
   "source": [
    "%timeit event_times = to_datetime(df_data.start_time_mjd.values[:100])"
   ]
  },
  {
   "cell_type": "code",
   "execution_count": null,
   "metadata": {
    "collapsed": true
   },
   "outputs": [],
   "source": [
    "event_times"
   ]
  },
  {
   "cell_type": "code",
   "execution_count": 27,
   "metadata": {},
   "outputs": [
    {
     "data": {
      "text/plain": [
       "0     56043.448794\n",
       "1     56043.448801\n",
       "2     56043.448848\n",
       "3     56043.448872\n",
       "4     56043.448873\n",
       "5     56043.448916\n",
       "6     56043.448917\n",
       "7     56043.448925\n",
       "8     56043.448963\n",
       "9     56043.448992\n",
       "10    56043.449129\n",
       "11    56043.449151\n",
       "12    56043.449155\n",
       "13    56043.449203\n",
       "14    56043.449246\n",
       "15    56043.449309\n",
       "16    56043.449320\n",
       "17    56043.449324\n",
       "18    56043.449352\n",
       "19    56043.449418\n",
       "20    56043.449422\n",
       "21    56043.449439\n",
       "22    56043.449467\n",
       "23    56043.449472\n",
       "24    56043.449578\n",
       "25    56043.449642\n",
       "26    56043.449754\n",
       "27    56043.449772\n",
       "28    56043.449780\n",
       "29    56043.449819\n",
       "          ...     \n",
       "70    56043.451712\n",
       "71    56043.451779\n",
       "72    56043.451795\n",
       "73    56043.451901\n",
       "74    56043.451918\n",
       "75    56043.452023\n",
       "76    56043.452072\n",
       "77    56043.452125\n",
       "78    56043.452163\n",
       "79    56043.452225\n",
       "80    56043.452292\n",
       "81    56043.452315\n",
       "82    56043.452342\n",
       "83    56043.452383\n",
       "84    56043.452439\n",
       "85    56043.452531\n",
       "86    56043.452582\n",
       "87    56043.452767\n",
       "88    56043.452798\n",
       "89    56043.452804\n",
       "90    56043.452816\n",
       "91    56043.452894\n",
       "92    56043.452941\n",
       "93    56043.453015\n",
       "94    56043.453029\n",
       "95    56043.453106\n",
       "96    56043.453132\n",
       "97    56043.453136\n",
       "98    56043.453205\n",
       "99    56043.453252\n",
       "Name: start_time_mjd, Length: 100, dtype: float64"
      ]
     },
     "execution_count": 27,
     "metadata": {},
     "output_type": "execute_result"
    }
   ],
   "source": [
    "df_data.start_time_mjd[:100]"
   ]
  },
  {
   "cell_type": "code",
   "execution_count": 38,
   "metadata": {
    "collapsed": true
   },
   "outputs": [],
   "source": [
    "ts = [56043.448917, 56043.448925, 56043.448963]"
   ]
  },
  {
   "cell_type": "code",
   "execution_count": 31,
   "metadata": {
    "collapsed": true
   },
   "outputs": [],
   "source": [
    "astro_times = Time(ts, format='mjd')"
   ]
  },
  {
   "cell_type": "code",
   "execution_count": 78,
   "metadata": {},
   "outputs": [
    {
     "name": "stdout",
     "output_type": "stream",
     "text": [
      "100 loops, best of 3: 7.17 ms per loop\n"
     ]
    }
   ],
   "source": [
    "%timeit pd.to_datetime(Time(df_data.start_time_mjd[:1000], format='mjd').datetime)"
   ]
  },
  {
   "cell_type": "code",
   "execution_count": 72,
   "metadata": {},
   "outputs": [
    {
     "name": "stdout",
     "output_type": "stream",
     "text": [
      "100 loops, best of 3: 6.83 ms per loop\n"
     ]
    }
   ],
   "source": [
    "%timeit Time(df_data.start_time_mjd.values[:1000], format='mjd').datetime"
   ]
  },
  {
   "cell_type": "code",
   "execution_count": 67,
   "metadata": {
    "collapsed": true
   },
   "outputs": [],
   "source": [
    "astro_times = pd.to_datetime(Time(df_data.start_time_mjd, format='mjd').datetime)"
   ]
  },
  {
   "cell_type": "code",
   "execution_count": 68,
   "metadata": {
    "scrolled": true
   },
   "outputs": [
    {
     "data": {
      "text/plain": [
       "DatetimeIndex(['2012-04-26 10:46:15.770567', '2012-04-26 10:46:16.407866',\n",
       "               '2012-04-26 10:46:20.431552', '2012-04-26 10:46:22.564666',\n",
       "               '2012-04-26 10:46:22.613222', '2012-04-26 10:46:26.354454',\n",
       "               '2012-04-26 10:46:26.467253', '2012-04-26 10:46:27.132420',\n",
       "               '2012-04-26 10:46:30.414603', '2012-04-26 10:46:32.917071',\n",
       "               ...\n",
       "               '2013-05-02 09:40:28.156702', '2013-05-02 09:40:29.071259',\n",
       "               '2013-05-02 09:40:31.898623', '2013-05-02 09:40:37.589210',\n",
       "               '2013-05-02 09:40:51.821445', '2013-05-02 09:40:55.487617',\n",
       "               '2013-05-02 09:41:11.400919', '2013-05-02 09:41:12.314264',\n",
       "               '2013-05-02 09:41:17.911653', '2013-05-02 09:41:26.148951'],\n",
       "              dtype='datetime64[ns]', length=7363638, freq=None)"
      ]
     },
     "execution_count": 68,
     "metadata": {},
     "output_type": "execute_result"
    }
   ],
   "source": [
    "astro_times"
   ]
  },
  {
   "cell_type": "code",
   "execution_count": 82,
   "metadata": {
    "collapsed": true
   },
   "outputs": [],
   "source": [
    "day_count = pd.Series([1]*len(astro_times), index=astro_times).resample('D').sum()"
   ]
  },
  {
   "cell_type": "code",
   "execution_count": 83,
   "metadata": {
    "scrolled": true
   },
   "outputs": [
    {
     "data": {
      "image/png": "[encoded data removed]",
      "text/plain": [
       "<matplotlib.figure.Figure at 0x7f248eeeff10>"
      ]
     },
     "metadata": {},
     "output_type": "display_data"
    }
   ],
   "source": [
    "# with plt.rc_context({'text.usetex': False}):\n",
    "fig, ax = plt.subplots()\n",
    "day_count.plot(ls='-', marker='None', alpha=0.75, ax=ax)\n",
    "ax.set_ylabel('Events / day')\n",
    "ax.grid()\n",
    "plt.show()"
   ]
  },
  {
   "cell_type": "code",
   "execution_count": 12,
   "metadata": {},
   "outputs": [
    {
     "data": {
      "text/plain": [
       "['IC86.2011', 'IC86.2012', 'IC86.2013', 'IC86.2014', 'IC86.2015']"
      ]
     },
     "execution_count": 12,
     "metadata": {},
     "output_type": "execute_result"
    }
   ],
   "source": [
    "comp.datafunctions.get_data_configs()"
   ]
  },
  {
   "cell_type": "code",
   "execution_count": 23,
   "metadata": {
    "collapsed": true
   },
   "outputs": [],
   "source": [
    "@np.vectorize\n",
    "def mjd_to_datetime(mjd_date):\n",
    "    date_time = dataclasses.I3Time(mjd_date).date_time\n",
    "    return pd.to_datetime(date_time)"
   ]
  },
  {
   "cell_type": "code",
   "execution_count": 24,
   "metadata": {},
   "outputs": [
    {
     "data": {
      "text/plain": [
       "array([Timestamp('2012-04-26 10:51:59.068800'),\n",
       "       Timestamp('2012-04-26 10:52:01.747200')], dtype=object)"
      ]
     },
     "execution_count": 24,
     "metadata": {},
     "output_type": "execute_result"
    }
   ],
   "source": [
    "mjd_to_datetime([56043.452767, 56043.452798])"
   ]
  },
  {
   "cell_type": "code",
   "execution_count": 25,
   "metadata": {
    "collapsed": true
   },
   "outputs": [],
   "source": [
    "@delayed\n",
    "def get_event_rate_series(config):\n",
    "    df_data = comp.load_data(config=config)\n",
    "#     date_times = pd.to_datetime(Time(df_data.start_time_mjd, format='mjd').datetime)\n",
    "    date_times = mjd_to_datetime(df_data.start_time_mjd)\n",
    "    day_count = pd.Series([1]*len(date_times), index=date_times).resample('D').sum()\n",
    "    return day_count"
   ]
  },
  {
   "cell_type": "code",
   "execution_count": 64,
   "metadata": {
    "scrolled": false
   },
   "outputs": [
    {
     "name": "stdout",
     "output_type": "stream",
     "text": [
      "[                                        ] | 0% Completed |  1min  1.0sStarting out with 7719417 data events\n",
      "[                                        ] | 0% Completed |  1min  1.3sdata quality cut event flow:\n",
      "[                                        ] | 0% Completed |  1min  1.4s      passed_IceTopQualityCuts:    1.0    1.0\n",
      "[                                        ] | 0% Completed |  1min  1.5sFractionContainment_Laputop_InIce:    1.0    1.0\n",
      "[                                        ] | 0% Completed |  1min  1.6s       passed_InIceQualityCuts:  0.889  0.889\n",
      "[                                        ] | 0% Completed |  1min  1.7s                 num_hits_1_60:    1.0  0.889\n",
      "[                                        ] | 0% Completed |  1min  1.8s             reco_energy_range:    1.0  0.889\n",
      "\n",
      "\n",
      "[                                        ] | 0% Completed |  1min  3.9sStarting out with 8020592 data events\n",
      "[                                        ] | 0% Completed |  1min  4.4sdata quality cut event flow:\n",
      "[                                        ] | 0% Completed |  1min  4.5s      passed_IceTopQualityCuts:    1.0    1.0\n",
      "[                                        ] | 0% Completed |  1min  4.6sFractionContainment_Laputop_InIce:    1.0    1.0\n",
      "[                                        ] | 0% Completed |  1min  4.7s       passed_InIceQualityCuts:  0.918  0.918\n",
      "[                                        ] | 0% Completed |  1min  4.8s                 num_hits_1_60:    1.0  0.918\n",
      "[                                        ] | 0% Completed |  1min  4.9s             reco_energy_range:    1.0  0.918\n",
      "\n",
      "\n",
      "[                                        ] | 0% Completed |  1min  5.6sStarting out with 8141145 data events\n",
      "[                                        ] | 0% Completed |  1min  6.0sdata quality cut event flow:\n",
      "[                                        ] | 0% Completed |  1min  6.1s      passed_IceTopQualityCuts:    1.0    1.0\n",
      "[                                        ] | 0% Completed |  1min  6.2sFractionContainment_Laputop_InIce:    1.0    1.0\n",
      "[                                        ] | 0% Completed |  1min  6.3s       passed_InIceQualityCuts:  0.911  0.911\n",
      "[                                        ] | 0% Completed |  1min  6.4s                 num_hits_1_60:    1.0  0.911\n",
      "[                                        ] | 0% Completed |  1min  6.5s             reco_energy_range:    1.0  0.911\n",
      "\n",
      "\n",
      "[                                        ] | 0% Completed |  1min  7.5sStarting out with 8039439 data events\n",
      "[                                        ] | 0% Completed |  1min  8.6sdata quality cut event flow:\n",
      "[                                        ] | 0% Completed |  1min  9.1s      passed_IceTopQualityCuts:    1.0    1.0\n",
      "[                                        ] | 0% Completed |  1min  9.5sFractionContainment_Laputop_InIce:    1.0    1.0\n",
      "[                                        ] | 0% Completed |  1min 10.1s       passed_InIceQualityCuts:  0.901  0.901\n",
      "[                                        ] | 0% Completed |  1min 10.5s                 num_hits_1_60:    1.0  0.901\n",
      "[                                        ] | 0% Completed |  1min 10.8s             reco_energy_range:    1.0  0.901\n",
      "\n",
      "\n",
      "[                                        ] | 0% Completed |  2min 41.1sStarting out with 7091502 data events\n",
      "[                                        ] | 0% Completed |  2min 41.4sdata quality cut event flow:\n",
      "[                                        ] | 0% Completed |  2min 41.5s      passed_IceTopQualityCuts:    1.0    1.0\n",
      "[                                        ] | 0% Completed |  2min 41.6sFractionContainment_Laputop_InIce:    1.0    1.0\n",
      "[                                        ] | 0% Completed |  2min 41.7s       passed_InIceQualityCuts:  0.935  0.935\n",
      "[                                        ] | 0% Completed |  2min 41.8s                 num_hits_1_60:    1.0  0.935\n",
      "[                                        ] | 0% Completed |  2min 41.9s             reco_energy_range:    1.0  0.935\n",
      "\n",
      "\n",
      "[########################################] | 100% Completed | 14min 30.1s\n"
     ]
    }
   ],
   "source": [
    "configs = comp.datafunctions.get_data_configs()\n",
    "# configs = ['IC86.2012', 'IC86.2013']\n",
    "n_jobs = len(configs)\n",
    "\n",
    "config_day_counts = {config: get_event_rate_series(config) for config in configs}\n",
    "with ProgressBar():\n",
    "    config_day_counts = compute(config_day_counts, get=multiprocessing.get, num_workers=n_jobs)[0]"
   ]
  },
  {
   "cell_type": "code",
   "execution_count": 111,
   "metadata": {},
   "outputs": [
    {
     "data": {
      "image/png": "[encoded data removed]",
      "text/plain": [
       "<matplotlib.figure.Figure at 0x7f0cf402ec90>"
      ]
     },
     "metadata": {},
     "output_type": "display_data"
    }
   ],
   "source": [
    "with sns.color_palette('Blues_d', len(configs)):\n",
    "    fig, ax = plt.subplots()\n",
    "    for config in configs:\n",
    "        day_count = config_day_counts[config]\n",
    "        day_count.plot(logy=False, ls='-', marker='None', alpha=0.75, label=config, ax=ax)\n",
    "        ax.axvline(day_count.index.max(), marker='None', ls='-', color='k', lw=0.5)\n",
    "        ax.text(day_count.index[len(day_count)//5], 2.65e4, config)\n",
    "    ax.set_ylim(0)\n",
    "    ax.set_ylabel('Events / day')\n",
    "    ax.set_xlabel('Time [UTC]')\n",
    "    ax.grid(axis='y')\n",
    "#     ax.legend()\n",
    "    plt.savefig(os.path.join(comp.paths.figures_dir, 'data-event-rate.png'))\n",
    "    plt.show()"
   ]
  },
  {
   "cell_type": "code",
   "execution_count": 79,
   "metadata": {},
   "outputs": [
    {
     "data": {
      "text/plain": [
       "Timestamp('2015-11-06 00:00:00', freq='D')"
      ]
     },
     "execution_count": 79,
     "metadata": {},
     "output_type": "execute_result"
    }
   ],
   "source": [
    "day_count.index[len(day_count)//2]"
   ]
  },
  {
   "cell_type": "code",
   "execution_count": 34,
   "metadata": {},
   "outputs": [
    {
     "name": "stdout",
     "output_type": "stream",
     "text": [
      "100 loops, best of 3: 8.61 ms per loop\n"
     ]
    }
   ],
   "source": [
    "%%timeit\n",
    "date_times = mjd_to_datetime(df_data.start_time_mjd[:100])"
   ]
  },
  {
   "cell_type": "code",
   "execution_count": 35,
   "metadata": {},
   "outputs": [
    {
     "name": "stdout",
     "output_type": "stream",
     "text": [
      "100 loops, best of 3: 8.62 ms per loop\n"
     ]
    }
   ],
   "source": [
    "%%timeit\n",
    "date_times = mjd_to_datetime(df_data.start_time_mjd[:100].values)"
   ]
  },
  {
   "cell_type": "code",
   "execution_count": 36,
   "metadata": {},
   "outputs": [
    {
     "name": "stdout",
     "output_type": "stream",
     "text": [
      "1000 loops, best of 3: 1.07 ms per loop\n"
     ]
    }
   ],
   "source": [
    "%%timeit\n",
    "date_times = pd.to_datetime(Time(df_data.start_time_mjd[:100], format='mjd').datetime)"
   ]
  },
  {
   "cell_type": "code",
   "execution_count": 43,
   "metadata": {},
   "outputs": [
    {
     "ename": "TypeError",
     "evalue": "Incompatible Data Type",
     "output_type": "error",
     "traceback": [
      "\u001b[0;31m\u001b[0m",
      "\u001b[0;31mTypeError\u001b[0mTraceback (most recent call last)",
      "\u001b[0;32m<ipython-input-43-52017682a5ff>\u001b[0m in \u001b[0;36m<module>\u001b[0;34m()\u001b[0m\n\u001b[0;32m----> 1\u001b[0;31m \u001b[0mdataclasses\u001b[0m\u001b[0;34m.\u001b[0m\u001b[0mI3TimeWindowSeries\u001b[0m\u001b[0;34m(\u001b[0m\u001b[0mts\u001b[0m\u001b[0;34m)\u001b[0m\u001b[0;34m\u001b[0m\u001b[0m\n\u001b[0m",
      "\u001b[0;31mTypeError\u001b[0m: Incompatible Data Type"
     ]
    }
   ],
   "source": []
  },
  {
   "cell_type": "code",
   "execution_count": 46,
   "metadata": {
    "collapsed": true
   },
   "outputs": [],
   "source": [
    "@delayed\n",
    "def get_arange(l):\n",
    "    return np.arange(l)"
   ]
  },
  {
   "cell_type": "code",
   "execution_count": 56,
   "metadata": {
    "collapsed": true
   },
   "outputs": [],
   "source": [
    "d = {l: get_arange(l) for l in range(1, 10)}"
   ]
  },
  {
   "cell_type": "code",
   "execution_count": 57,
   "metadata": {
    "collapsed": true
   },
   "outputs": [],
   "source": [
    "d = compute(d, get=multiprocessing.get, num_workers=len(d))[0]"
   ]
  },
  {
   "cell_type": "code",
   "execution_count": 60,
   "metadata": {},
   "outputs": [
    {
     "data": {
      "text/plain": [
       "{1: array([0]),\n",
       " 2: array([0, 1]),\n",
       " 3: array([0, 1, 2]),\n",
       " 4: array([0, 1, 2, 3]),\n",
       " 5: array([0, 1, 2, 3, 4]),\n",
       " 6: array([0, 1, 2, 3, 4, 5]),\n",
       " 7: array([0, 1, 2, 3, 4, 5, 6]),\n",
       " 8: array([0, 1, 2, 3, 4, 5, 6, 7]),\n",
       " 9: array([0, 1, 2, 3, 4, 5, 6, 7, 8])}"
      ]
     },
     "execution_count": 60,
     "metadata": {},
     "output_type": "execute_result"
    }
   ],
   "source": [
    "d"
   ]
  },
  {
   "cell_type": "code",
   "execution_count": null,
   "metadata": {
    "collapsed": true
   },
   "outputs": [],
   "source": []
  }
 ],
 "metadata": {
  "kernelspec": {
   "display_name": "Python 2",
   "language": "python",
   "name": "python2"
  },
  "language_info": {
   "codemirror_mode": {
    "name": "ipython",
    "version": 2
   },
   "file_extension": ".py",
   "mimetype": "text/x-python",
   "name": "python",
   "nbconvert_exporter": "python",
   "pygments_lexer": "ipython2",
   "version": "2.7.13"
  }
 },
 "nbformat": 4,
 "nbformat_minor": 2
}
