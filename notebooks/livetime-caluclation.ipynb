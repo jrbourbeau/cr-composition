{
 "cells": [
  {
   "cell_type": "code",
   "execution_count": 1,
   "metadata": {},
   "outputs": [
    {
     "name": "stderr",
     "output_type": "stream",
     "text": [
      "/home/jbourbeau/.virtualenvs/icecube/lib/python2.7/site-packages/subprocess32.py:472: RuntimeWarning: The _posixsubprocess module is not being used. Child process reliability may suffer if your program uses threads.\n",
      "  \"program uses threads.\", RuntimeWarning)\n",
      "/home/jbourbeau/.virtualenvs/icecube/lib/python2.7/site-packages/sklearn/cross_validation.py:44: DeprecationWarning: This module was deprecated in version 0.18 in favor of the model_selection module into which all the refactored classes and functions are moved. Also note that the interface of the new CV iterators are different from that of this module. This module will be removed in 0.20.\n",
      "  \"This module will be removed in 0.20.\", DeprecationWarning)\n"
     ]
    }
   ],
   "source": [
    "import comptools as comp\n",
    "import comptools.analysis.plotting as plotting\n",
    "import numpy as np\n",
    "import pandas as pd\n",
    "import matplotlib.pyplot as plt\n",
    "from scipy.optimize import curve_fit\n",
    "import datetime\n",
    "import multiprocessing as mp\n",
    "import os\n",
    "\n",
    "%matplotlib inline"
   ]
  },
  {
   "cell_type": "markdown",
   "metadata": {},
   "source": [
    "## Detector livetime calculation\n",
    "\n",
    "For a reference see the [IT-73 spectrum livetime reference](https://wiki.icecube.wisc.edu/index.php/IceTop-73_Spectrum_Analysis#Live-time_calculation)."
   ]
  },
  {
   "cell_type": "code",
   "execution_count": 2,
   "metadata": {
    "collapsed": true
   },
   "outputs": [],
   "source": [
    "config = 'IC86.2012'"
   ]
  },
  {
   "cell_type": "code",
   "execution_count": 3,
   "metadata": {
    "collapsed": true
   },
   "outputs": [],
   "source": [
    "time_bins = np.linspace(0, 2, 101)\n",
    "time_midpoints = (time_bins[1:] + time_bins[:-1]) / 2\n",
    "time_mask = time_midpoints < 1.4"
   ]
  },
  {
   "cell_type": "code",
   "execution_count": 4,
   "metadata": {
    "collapsed": true
   },
   "outputs": [],
   "source": [
    "def livetime_fit_func(t, I0, T):\n",
    "    return I0 * np.exp(-t/T)"
   ]
  },
  {
   "cell_type": "code",
   "execution_count": 5,
   "metadata": {
    "collapsed": true
   },
   "outputs": [],
   "source": [
    "def get_livetime_counts_and_fit(month=None):\n",
    "    # Get time difference histogram counts from level3 pickle files\n",
    "    counts = comp.datafunctions.get_level3_livetime_hist(config, month)\n",
    "    # Fit decaying exponential to histogram\n",
    "    popt, pcov = curve_fit(livetime_fit_func, time_midpoints[time_mask], counts[time_mask],\n",
    "                           sigma=np.sqrt(counts[time_mask]), p0=[1e5, 1e-2])\n",
    "    I0_fit, T_fit = popt\n",
    "    I0_fit_err, T_fit_err = np.sqrt(np.diag(pcov))\n",
    "    # Get livetime from fit parameters\n",
    "    livetime = T_fit * np.sum(counts)\n",
    "    livetime_err = T_fit_err * np.sum(counts)\n",
    "\n",
    "    data_dict = {'month': month, 'counts': counts,\n",
    "                 'livetime': livetime, 'livetime_err': livetime_err,\n",
    "                 'I0_fit': I0_fit, 'I0_fit_err': I0_fit_err,\n",
    "                 'T_fit': T_fit, 'T_fit_err': T_fit_err}\n",
    "    \n",
    "    month_str = datetime.date(2000, month, 1).strftime('%B')\n",
    "    print('Completed month {}'.format(month_str))\n",
    "    \n",
    "    return data_dict"
   ]
  },
  {
   "cell_type": "code",
   "execution_count": 6,
   "metadata": {
    "scrolled": true
   },
   "outputs": [
    {
     "name": "stdout",
     "output_type": "stream",
     "text": [
      "Completed month May\n",
      "Completed month June\n",
      "Completed month July\n",
      "Completed month February\n",
      "Completed month September\n",
      "Completed month April\n",
      "Completed month August\n",
      "Completed month November\n",
      "Completed month March\n",
      "Completed month October\n",
      "Completed month December\n",
      "Completed month January\n"
     ]
    }
   ],
   "source": [
    "pool = mp.Pool(processes=12)\n",
    "results = [pool.apply_async(get_livetime_counts_and_fit, args=(month,)) for month in range(1, 13)]\n",
    "output = [p.get() for p in results]"
   ]
  },
  {
   "cell_type": "code",
   "execution_count": 7,
   "metadata": {},
   "outputs": [
    {
     "data": {
      "text/html": [
       "<div>\n",
       "<table border=\"1\" class=\"dataframe\">\n",
       "  <thead>\n",
       "    <tr style=\"text-align: right;\">\n",
       "      <th></th>\n",
       "      <th>I0_fit</th>\n",
       "      <th>I0_fit_err</th>\n",
       "      <th>T_fit</th>\n",
       "      <th>T_fit_err</th>\n",
       "      <th>counts</th>\n",
       "      <th>livetime</th>\n",
       "      <th>livetime_err</th>\n",
       "    </tr>\n",
       "    <tr>\n",
       "      <th>month</th>\n",
       "      <th></th>\n",
       "      <th></th>\n",
       "      <th></th>\n",
       "      <th></th>\n",
       "      <th></th>\n",
       "      <th></th>\n",
       "      <th></th>\n",
       "    </tr>\n",
       "  </thead>\n",
       "  <tbody>\n",
       "    <tr>\n",
       "      <th>1</th>\n",
       "      <td>3.674385e+06</td>\n",
       "      <td>1242.290203</td>\n",
       "      <td>0.114083</td>\n",
       "      <td>0.000027</td>\n",
       "      <td>[3363982, 2825492, 2371153, 1989983, 1670361, ...</td>\n",
       "      <td>2.388066e+06</td>\n",
       "      <td>570.728817</td>\n",
       "    </tr>\n",
       "    <tr>\n",
       "      <th>2</th>\n",
       "      <td>3.789509e+06</td>\n",
       "      <td>1269.068926</td>\n",
       "      <td>0.108766</td>\n",
       "      <td>0.000026</td>\n",
       "      <td>[3453725, 2877483, 2392881, 1992486, 1657812, ...</td>\n",
       "      <td>2.238360e+06</td>\n",
       "      <td>529.761190</td>\n",
       "    </tr>\n",
       "    <tr>\n",
       "      <th>3</th>\n",
       "      <td>4.217235e+06</td>\n",
       "      <td>1252.538428</td>\n",
       "      <td>0.108535</td>\n",
       "      <td>0.000023</td>\n",
       "      <td>[3844134, 3203085, 2661146, 2211414, 1841404, ...</td>\n",
       "      <td>2.480399e+06</td>\n",
       "      <td>520.768636</td>\n",
       "    </tr>\n",
       "    <tr>\n",
       "      <th>4</th>\n",
       "      <td>4.111941e+06</td>\n",
       "      <td>1964.401481</td>\n",
       "      <td>0.109775</td>\n",
       "      <td>0.000037</td>\n",
       "      <td>[3753188, 3134408, 2610068, 2175078, 1810441, ...</td>\n",
       "      <td>2.474154e+06</td>\n",
       "      <td>836.110595</td>\n",
       "    </tr>\n",
       "    <tr>\n",
       "      <th>5</th>\n",
       "      <td>3.396822e+06</td>\n",
       "      <td>2840.218037</td>\n",
       "      <td>0.094082</td>\n",
       "      <td>0.000056</td>\n",
       "      <td>[3061095, 2476358, 1997561, 1611883, 1304230, ...</td>\n",
       "      <td>1.500543e+06</td>\n",
       "      <td>888.218841</td>\n",
       "    </tr>\n",
       "    <tr>\n",
       "      <th>6</th>\n",
       "      <td>5.358210e+06</td>\n",
       "      <td>4082.678832</td>\n",
       "      <td>0.096704</td>\n",
       "      <td>0.000052</td>\n",
       "      <td>[4844296, 3941459, 3196350, 2594168, 2107624, ...</td>\n",
       "      <td>2.500984e+06</td>\n",
       "      <td>1348.969607</td>\n",
       "    </tr>\n",
       "    <tr>\n",
       "      <th>7</th>\n",
       "      <td>5.950862e+06</td>\n",
       "      <td>3104.467180</td>\n",
       "      <td>0.092761</td>\n",
       "      <td>0.000034</td>\n",
       "      <td>[5348540, 4314205, 3475538, 2793878, 2253505, ...</td>\n",
       "      <td>2.555329e+06</td>\n",
       "      <td>942.866042</td>\n",
       "    </tr>\n",
       "    <tr>\n",
       "      <th>8</th>\n",
       "      <td>5.981818e+06</td>\n",
       "      <td>2308.249552</td>\n",
       "      <td>0.093973</td>\n",
       "      <td>0.000026</td>\n",
       "      <td>[5379994, 4351148, 3516907, 2841785, 2293479, ...</td>\n",
       "      <td>2.636265e+06</td>\n",
       "      <td>719.180507</td>\n",
       "    </tr>\n",
       "    <tr>\n",
       "      <th>9</th>\n",
       "      <td>5.481203e+06</td>\n",
       "      <td>2159.372181</td>\n",
       "      <td>0.095597</td>\n",
       "      <td>0.000027</td>\n",
       "      <td>[4936504, 4009986, 3251630, 2634063, 2139341, ...</td>\n",
       "      <td>2.500055e+06</td>\n",
       "      <td>696.293602</td>\n",
       "    </tr>\n",
       "    <tr>\n",
       "      <th>10</th>\n",
       "      <td>5.434689e+06</td>\n",
       "      <td>2070.221934</td>\n",
       "      <td>0.097351</td>\n",
       "      <td>0.000026</td>\n",
       "      <td>[4903131, 3998116, 3252173, 2650738, 2157971, ...</td>\n",
       "      <td>2.570781e+06</td>\n",
       "      <td>692.250320</td>\n",
       "    </tr>\n",
       "    <tr>\n",
       "      <th>11</th>\n",
       "      <td>3.873473e+06</td>\n",
       "      <td>1409.484169</td>\n",
       "      <td>0.107674</td>\n",
       "      <td>0.000028</td>\n",
       "      <td>[3525718, 2933273, 2439568, 2023377, 1679937, ...</td>\n",
       "      <td>2.242179e+06</td>\n",
       "      <td>576.724000</td>\n",
       "    </tr>\n",
       "    <tr>\n",
       "      <th>12</th>\n",
       "      <td>3.716450e+06</td>\n",
       "      <td>1406.379083</td>\n",
       "      <td>0.112597</td>\n",
       "      <td>0.000030</td>\n",
       "      <td>[3398143, 2849812, 2386315, 1997847, 1670994, ...</td>\n",
       "      <td>2.352788e+06</td>\n",
       "      <td>629.580407</td>\n",
       "    </tr>\n",
       "  </tbody>\n",
       "</table>\n",
       "</div>"
      ],
      "text/plain": [
       "             I0_fit   I0_fit_err     T_fit  T_fit_err  \\\n",
       "month                                                   \n",
       "1      3.674385e+06  1242.290203  0.114083   0.000027   \n",
       "2      3.789509e+06  1269.068926  0.108766   0.000026   \n",
       "3      4.217235e+06  1252.538428  0.108535   0.000023   \n",
       "4      4.111941e+06  1964.401481  0.109775   0.000037   \n",
       "5      3.396822e+06  2840.218037  0.094082   0.000056   \n",
       "6      5.358210e+06  4082.678832  0.096704   0.000052   \n",
       "7      5.950862e+06  3104.467180  0.092761   0.000034   \n",
       "8      5.981818e+06  2308.249552  0.093973   0.000026   \n",
       "9      5.481203e+06  2159.372181  0.095597   0.000027   \n",
       "10     5.434689e+06  2070.221934  0.097351   0.000026   \n",
       "11     3.873473e+06  1409.484169  0.107674   0.000028   \n",
       "12     3.716450e+06  1406.379083  0.112597   0.000030   \n",
       "\n",
       "                                                  counts      livetime  \\\n",
       "month                                                                    \n",
       "1      [3363982, 2825492, 2371153, 1989983, 1670361, ...  2.388066e+06   \n",
       "2      [3453725, 2877483, 2392881, 1992486, 1657812, ...  2.238360e+06   \n",
       "3      [3844134, 3203085, 2661146, 2211414, 1841404, ...  2.480399e+06   \n",
       "4      [3753188, 3134408, 2610068, 2175078, 1810441, ...  2.474154e+06   \n",
       "5      [3061095, 2476358, 1997561, 1611883, 1304230, ...  1.500543e+06   \n",
       "6      [4844296, 3941459, 3196350, 2594168, 2107624, ...  2.500984e+06   \n",
       "7      [5348540, 4314205, 3475538, 2793878, 2253505, ...  2.555329e+06   \n",
       "8      [5379994, 4351148, 3516907, 2841785, 2293479, ...  2.636265e+06   \n",
       "9      [4936504, 4009986, 3251630, 2634063, 2139341, ...  2.500055e+06   \n",
       "10     [4903131, 3998116, 3252173, 2650738, 2157971, ...  2.570781e+06   \n",
       "11     [3525718, 2933273, 2439568, 2023377, 1679937, ...  2.242179e+06   \n",
       "12     [3398143, 2849812, 2386315, 1997847, 1670994, ...  2.352788e+06   \n",
       "\n",
       "       livetime_err  \n",
       "month                \n",
       "1        570.728817  \n",
       "2        529.761190  \n",
       "3        520.768636  \n",
       "4        836.110595  \n",
       "5        888.218841  \n",
       "6       1348.969607  \n",
       "7        942.866042  \n",
       "8        719.180507  \n",
       "9        696.293602  \n",
       "10       692.250320  \n",
       "11       576.724000  \n",
       "12       629.580407  "
      ]
     },
     "execution_count": 7,
     "metadata": {},
     "output_type": "execute_result"
    }
   ],
   "source": [
    "df = pd.DataFrame(output)\n",
    "df.set_index('month', inplace=True)\n",
    "df"
   ]
  },
  {
   "cell_type": "code",
   "execution_count": 8,
   "metadata": {
    "scrolled": false
   },
   "outputs": [
    {
     "name": "stderr",
     "output_type": "stream",
     "text": [
      "/home/jbourbeau/.virtualenvs/icecube/lib/python2.7/site-packages/matplotlib/figure.py:1743: UserWarning: This figure includes Axes that are not compatible with tight_layout, so its results might be incorrect.\n",
      "  warnings.warn(\"This figure includes Axes that are not \"\n"
     ]
    },
    {
     "data": {
      "image/png": "[encoded data removed]",
      "text/plain": [
       "<matplotlib.figure.Figure at 0x7f24340394d0>"
      ]
     },
     "metadata": {},
     "output_type": "display_data"
    }
   ],
   "source": [
    "fig, axarr = plt.subplots(3, 4, figsize=(10,8), sharex=True, sharey=True)\n",
    "for month, ax in zip(df.index, axarr.flatten()):\n",
    "    row = df.loc[month]\n",
    "    counts = row['counts']\n",
    "    I0_fit = row['I0_fit']\n",
    "    T_fit = row['T_fit']\n",
    "    livetime = row['livetime']\n",
    "    livetime_err = row['livetime_err']\n",
    "    livetime_str = 'Livetime [s]:\\n{:0.2e} +/- {:0.2f}'.format(livetime, livetime_err)\n",
    "    \n",
    "    # Plot time difference histogram and corresponding fit\n",
    "    plotting.plot_steps(time_bins, counts, ax=ax)\n",
    "    ax.plot(time_midpoints, livetime_fit_func(time_midpoints, I0_fit, T_fit),\n",
    "            marker='None', ls='-', c='C1')\n",
    "    month_str = datetime.date(2000, month, 1).strftime('%B')\n",
    "    ax.set_title(month_str)\n",
    "    ax.set_xlim((0, 2))\n",
    "    ax.set_yscale('log', nonposy='clip')\n",
    "    ax.text(0.6, 2e5, livetime_str)\n",
    "    ax.grid()\n",
    "    \n",
    "fig.text(0.5, -0.025, 'Time between events [s]', ha='center', fontsize=16)\n",
    "fig.text(-0.025, 0.5, 'Counts', va='center', rotation='vertical', fontsize=16)\n",
    "fig.text(0.5, 1.01, config, ha='center', fontsize=20)\n",
    "plt.tight_layout()\n",
    "plt.savefig('/home/jbourbeau/public_html/figures/livetime-array-{}.png'.format(config))\n",
    "plt.show()"
   ]
  },
  {
   "cell_type": "code",
   "execution_count": 9,
   "metadata": {},
   "outputs": [
    {
     "name": "stdout",
     "output_type": "stream",
     "text": [
      "Full IC86.2012 livetime [s]:\n",
      "2.84e+07 +/- 2698.99\n"
     ]
    }
   ],
   "source": [
    "full_livetime = df['livetime'].sum()\n",
    "full_livetime_err = np.sqrt(np.sum([err**2 for err in df['livetime_err']]))\n",
    "print('Full {} livetime [s]:\\n{:0.2e} +/- {:0.2f}'.format(config, full_livetime, full_livetime_err))"
   ]
  },
  {
   "cell_type": "code",
   "execution_count": 10,
   "metadata": {
    "collapsed": true
   },
   "outputs": [],
   "source": [
    "data_dict = {'livetime(s)': full_livetime, 'livetime_err(s)': full_livetime_err}\n",
    "for month in df.index:\n",
    "    month_str = datetime.date(2000, month, 1).strftime('%B')\n",
    "    data_dict[month_str + '_livetime(s)'] = df.loc[month]['livetime']\n",
    "    data_dict[month_str + '_livetime_err(s)'] = df.loc[month]['livetime_err']\n",
    "\n",
    "livetime_file = comp.get_livetime_file()\n",
    "try:\n",
    "    livetime_df = pd.read_csv(livetime_file, index_col=0)\n",
    "    livetime_df.loc[config] = data_dict\n",
    "except IOError:\n",
    "    livetime_df = pd.DataFrame(data_dict, index=[config])\n",
    "livetime_df.to_csv(livetime_file)"
   ]
  },
  {
   "cell_type": "code",
   "execution_count": 11,
   "metadata": {},
   "outputs": [
    {
     "data": {
      "text/html": [
       "<div>\n",
       "<table border=\"1\" class=\"dataframe\">\n",
       "  <thead>\n",
       "    <tr style=\"text-align: right;\">\n",
       "      <th></th>\n",
       "      <th>April_livetime(s)</th>\n",
       "      <th>April_livetime_err(s)</th>\n",
       "      <th>August_livetime(s)</th>\n",
       "      <th>August_livetime_err(s)</th>\n",
       "      <th>December_livetime(s)</th>\n",
       "      <th>December_livetime_err(s)</th>\n",
       "      <th>February_livetime(s)</th>\n",
       "      <th>February_livetime_err(s)</th>\n",
       "      <th>January_livetime(s)</th>\n",
       "      <th>January_livetime_err(s)</th>\n",
       "      <th>...</th>\n",
       "      <th>May_livetime(s)</th>\n",
       "      <th>May_livetime_err(s)</th>\n",
       "      <th>November_livetime(s)</th>\n",
       "      <th>November_livetime_err(s)</th>\n",
       "      <th>October_livetime(s)</th>\n",
       "      <th>October_livetime_err(s)</th>\n",
       "      <th>September_livetime(s)</th>\n",
       "      <th>September_livetime_err(s)</th>\n",
       "      <th>livetime(s)</th>\n",
       "      <th>livetime_err(s)</th>\n",
       "    </tr>\n",
       "  </thead>\n",
       "  <tbody>\n",
       "    <tr>\n",
       "      <th>IC86.2012</th>\n",
       "      <td>2.474154e+06</td>\n",
       "      <td>836.110595</td>\n",
       "      <td>2.636265e+06</td>\n",
       "      <td>719.180507</td>\n",
       "      <td>2.352788e+06</td>\n",
       "      <td>629.580407</td>\n",
       "      <td>2.238360e+06</td>\n",
       "      <td>529.76119</td>\n",
       "      <td>2.388066e+06</td>\n",
       "      <td>570.728817</td>\n",
       "      <td>...</td>\n",
       "      <td>1.500543e+06</td>\n",
       "      <td>888.218841</td>\n",
       "      <td>2.242179e+06</td>\n",
       "      <td>576.724</td>\n",
       "      <td>2.570781e+06</td>\n",
       "      <td>692.25032</td>\n",
       "      <td>2.500055e+06</td>\n",
       "      <td>696.293602</td>\n",
       "      <td>2.843990e+07</td>\n",
       "      <td>2698.989669</td>\n",
       "    </tr>\n",
       "  </tbody>\n",
       "</table>\n",
       "<p>1 rows × 26 columns</p>\n",
       "</div>"
      ],
      "text/plain": [
       "           April_livetime(s)  April_livetime_err(s)  August_livetime(s)  \\\n",
       "IC86.2012       2.474154e+06             836.110595        2.636265e+06   \n",
       "\n",
       "           August_livetime_err(s)  December_livetime(s)  \\\n",
       "IC86.2012              719.180507          2.352788e+06   \n",
       "\n",
       "           December_livetime_err(s)  February_livetime(s)  \\\n",
       "IC86.2012                629.580407          2.238360e+06   \n",
       "\n",
       "           February_livetime_err(s)  January_livetime(s)  \\\n",
       "IC86.2012                 529.76119         2.388066e+06   \n",
       "\n",
       "           January_livetime_err(s)       ...         May_livetime(s)  \\\n",
       "IC86.2012               570.728817       ...            1.500543e+06   \n",
       "\n",
       "           May_livetime_err(s)  November_livetime(s)  \\\n",
       "IC86.2012           888.218841          2.242179e+06   \n",
       "\n",
       "           November_livetime_err(s)  October_livetime(s)  \\\n",
       "IC86.2012                   576.724         2.570781e+06   \n",
       "\n",
       "           October_livetime_err(s)  September_livetime(s)  \\\n",
       "IC86.2012                692.25032           2.500055e+06   \n",
       "\n",
       "           September_livetime_err(s)   livetime(s)  livetime_err(s)  \n",
       "IC86.2012                 696.293602  2.843990e+07      2698.989669  \n",
       "\n",
       "[1 rows x 26 columns]"
      ]
     },
     "execution_count": 11,
     "metadata": {},
     "output_type": "execute_result"
    }
   ],
   "source": [
    "livetime_df"
   ]
  }
 ],
 "metadata": {
  "kernelspec": {
   "display_name": "Python 2",
   "language": "python",
   "name": "python2"
  },
  "language_info": {
   "codemirror_mode": {
    "name": "ipython",
    "version": 2
   },
   "file_extension": ".py",
   "mimetype": "text/x-python",
   "name": "python",
   "nbconvert_exporter": "python",
   "pygments_lexer": "ipython2",
   "version": "2.7.13"
  }
 },
 "nbformat": 4,
 "nbformat_minor": 1
}
