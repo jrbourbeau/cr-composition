{
 "cells": [
  {
   "cell_type": "code",
   "execution_count": 39,
   "metadata": {
    "collapsed": true
   },
   "outputs": [],
   "source": [
    "import os \n",
    "from itertools import cycle\n",
    "import glob\n",
    "import numpy as np\n",
    "import pandas as pd\n",
    "import matplotlib.pyplot as plt\n",
    "from sklearn.externals import joblib\n",
    "\n",
    "import comptools as comp\n",
    "from submit_feature_scan import scan_features\n",
    "\n",
    "color_dict = comp.color_dict\n",
    "\n",
    "%matplotlib inline"
   ]
  },
  {
   "cell_type": "code",
   "execution_count": 2,
   "metadata": {
    "collapsed": true
   },
   "outputs": [],
   "source": [
    "config = 'IC86.2012'\n",
    "num_groups = 2\n",
    "pipeline = 'xgboost'\n",
    "energybins = comp.get_energybins()\n",
    "comp_list = comp.get_comp_list(num_groups=num_groups)"
   ]
  },
  {
   "cell_type": "code",
   "execution_count": 3,
   "metadata": {},
   "outputs": [
    {
     "data": {
      "text/plain": [
       "'xgboost_comp_IC86.2012_2-groups'"
      ]
     },
     "execution_count": 3,
     "metadata": {},
     "output_type": "execute_result"
    }
   ],
   "source": [
    "pipeline_str = '{}_comp_{}_{}-groups'.format(pipeline, config, num_groups)\n",
    "pipeline_str"
   ]
  },
  {
   "cell_type": "code",
   "execution_count": 36,
   "metadata": {
    "scrolled": false
   },
   "outputs": [],
   "source": [
    "pattern = os.path.join(os.getcwd(),\n",
    "                       'feature_scan_results',\n",
    "                       '{}*'.format(pipeline_str))\n",
    "files = glob.iglob(pattern)\n",
    "records = [joblib.load(results_file) for results_file in files]\n",
    "results = pd.DataFrame.from_records(records)"
   ]
  },
  {
   "cell_type": "code",
   "execution_count": 37,
   "metadata": {},
   "outputs": [
    {
     "data": {
      "text/html": [
       "<div>\n",
       "<style scoped>\n",
       "    .dataframe tbody tr th:only-of-type {\n",
       "        vertical-align: middle;\n",
       "    }\n",
       "\n",
       "    .dataframe tbody tr th {\n",
       "        vertical-align: top;\n",
       "    }\n",
       "\n",
       "    .dataframe thead th {\n",
       "        text-align: right;\n",
       "    }\n",
       "</style>\n",
       "<table border=\"1\" class=\"dataframe\">\n",
       "  <thead>\n",
       "    <tr style=\"text-align: right;\">\n",
       "      <th></th>\n",
       "      <th>acc_mean_heavy</th>\n",
       "      <th>acc_mean_light</th>\n",
       "      <th>acc_std_heavy</th>\n",
       "      <th>acc_std_light</th>\n",
       "      <th>best_params</th>\n",
       "      <th>config</th>\n",
       "      <th>feature_labels</th>\n",
       "      <th>features</th>\n",
       "      <th>log_energy_bins</th>\n",
       "      <th>num_groups</th>\n",
       "      <th>pipeline</th>\n",
       "      <th>pipeline_name</th>\n",
       "      <th>sklearn_version</th>\n",
       "      <th>source_code</th>\n",
       "    </tr>\n",
       "  </thead>\n",
       "  <tbody>\n",
       "    <tr>\n",
       "      <th>0</th>\n",
       "      <td>[0.6695401083730042, 0.7637845796821854, 0.824...</td>\n",
       "      <td>[0.6937751123788496, 0.6908672475929045, 0.655...</td>\n",
       "      <td>[0.043536451016342716, 0.06200040833890916, 0....</td>\n",
       "      <td>[0.028305817852188917, 0.03580184796522558, 0....</td>\n",
       "      <td>{u'classifier__learning_rate': 0.1, u'classifi...</td>\n",
       "      <td>IC86.2012</td>\n",
       "      <td>($\\cos(\\theta)$, $\\log_{10}(S_{\\mathrm{125}})$...</td>\n",
       "      <td>(lap_cos_zenith, log_s125, log_dEdX, NHits_1_6...</td>\n",
       "      <td>[6.1, 6.199999999999999, 6.299999999999999, 6....</td>\n",
       "      <td>2</td>\n",
       "      <td>Pipeline(memory=None,\\n     steps=[('classifie...</td>\n",
       "      <td>xgboost_comp_IC86.2012_2-groups</td>\n",
       "      <td>0.19.1</td>\n",
       "      <td>/mnt/home/jbourbeau/cr-composition/feature_sel...</td>\n",
       "    </tr>\n",
       "    <tr>\n",
       "      <th>1</th>\n",
       "      <td>[0.6336467234631546, 0.7185992832812572, 0.808...</td>\n",
       "      <td>[0.6976873687843331, 0.7053609950883558, 0.646...</td>\n",
       "      <td>[0.05625022326453249, 0.033667623845481144, 0....</td>\n",
       "      <td>[0.04355826666631039, 0.026228501769184846, 0....</td>\n",
       "      <td>{u'classifier__learning_rate': 0.05, u'classif...</td>\n",
       "      <td>IC86.2012</td>\n",
       "      <td>($\\cos(\\theta)$, $\\log_{10}(S_{\\mathrm{125}})$...</td>\n",
       "      <td>(lap_cos_zenith, log_s125, log_dEdX, avg_inice...</td>\n",
       "      <td>[6.1, 6.199999999999999, 6.299999999999999, 6....</td>\n",
       "      <td>2</td>\n",
       "      <td>Pipeline(memory=None,\\n     steps=[('classifie...</td>\n",
       "      <td>xgboost_comp_IC86.2012_2-groups</td>\n",
       "      <td>0.19.1</td>\n",
       "      <td>/home/jbourbeau/cr-composition/feature_selecti...</td>\n",
       "    </tr>\n",
       "    <tr>\n",
       "      <th>2</th>\n",
       "      <td>[0.6782010401074955, 0.7266431187669184, 0.808...</td>\n",
       "      <td>[0.736522791163993, 0.7160160418482072, 0.6810...</td>\n",
       "      <td>[0.059437781529103936, 0.03967720465760078, 0....</td>\n",
       "      <td>[0.046743986055771465, 0.04132331429875505, 0....</td>\n",
       "      <td>{u'classifier__learning_rate': 0.025, u'classi...</td>\n",
       "      <td>IC86.2012</td>\n",
       "      <td>($\\cos(\\theta)$, $\\log_{10}(S_{\\mathrm{125}})$...</td>\n",
       "      <td>(lap_cos_zenith, log_s125, log_dEdX, avg_inice...</td>\n",
       "      <td>[6.1, 6.199999999999999, 6.299999999999999, 6....</td>\n",
       "      <td>2</td>\n",
       "      <td>Pipeline(memory=None,\\n     steps=[('classifie...</td>\n",
       "      <td>xgboost_comp_IC86.2012_2-groups</td>\n",
       "      <td>0.19.1</td>\n",
       "      <td>/mnt/home/jbourbeau/cr-composition/feature_sel...</td>\n",
       "    </tr>\n",
       "    <tr>\n",
       "      <th>3</th>\n",
       "      <td>[0.6296290358613759, 0.7183231076427374, 0.810...</td>\n",
       "      <td>[0.7136618007798903, 0.6929570645574692, 0.638...</td>\n",
       "      <td>[0.04130153933415121, 0.03673341974085018, 0.0...</td>\n",
       "      <td>[0.041971310774815196, 0.025512106239092145, 0...</td>\n",
       "      <td>{u'classifier__learning_rate': 0.1, u'classifi...</td>\n",
       "      <td>IC86.2012</td>\n",
       "      <td>($\\cos(\\theta)$, $\\log_{10}(S_{\\mathrm{125}})$...</td>\n",
       "      <td>(lap_cos_zenith, log_s125, log_dEdX, random)</td>\n",
       "      <td>[6.1, 6.199999999999999, 6.299999999999999, 6....</td>\n",
       "      <td>2</td>\n",
       "      <td>Pipeline(memory=None,\\n     steps=[('classifie...</td>\n",
       "      <td>xgboost_comp_IC86.2012_2-groups</td>\n",
       "      <td>0.19.1</td>\n",
       "      <td>/mnt/home/jbourbeau/cr-composition/feature_sel...</td>\n",
       "    </tr>\n",
       "    <tr>\n",
       "      <th>4</th>\n",
       "      <td>[0.6375920571215621, 0.727959884496624, 0.8087...</td>\n",
       "      <td>[0.6883075440365982, 0.6947304635928585, 0.635...</td>\n",
       "      <td>[0.05929054212609645, 0.038333600380875674, 0....</td>\n",
       "      <td>[0.04429854154612734, 0.022884372735402413, 0....</td>\n",
       "      <td>{u'classifier__learning_rate': 0.025, u'classi...</td>\n",
       "      <td>IC86.2012</td>\n",
       "      <td>($\\cos(\\theta)$, $\\log_{10}(S_{\\mathrm{125}})$...</td>\n",
       "      <td>(lap_cos_zenith, log_s125, log_dEdX, avg_inice...</td>\n",
       "      <td>[6.1, 6.199999999999999, 6.299999999999999, 6....</td>\n",
       "      <td>2</td>\n",
       "      <td>Pipeline(memory=None,\\n     steps=[('classifie...</td>\n",
       "      <td>xgboost_comp_IC86.2012_2-groups</td>\n",
       "      <td>0.19.1</td>\n",
       "      <td>/mnt/home/jbourbeau/cr-composition/feature_sel...</td>\n",
       "    </tr>\n",
       "    <tr>\n",
       "      <th>5</th>\n",
       "      <td>[0.6747489363242113, 0.7313663493450656, 0.815...</td>\n",
       "      <td>[0.7512786078735, 0.7124626134781149, 0.674009...</td>\n",
       "      <td>[0.0467170959823841, 0.04081965261638307, 0.03...</td>\n",
       "      <td>[0.04674711291852621, 0.03715037328462029, 0.0...</td>\n",
       "      <td>{u'classifier__learning_rate': 0.025, u'classi...</td>\n",
       "      <td>IC86.2012</td>\n",
       "      <td>($\\cos(\\theta)$, $\\log_{10}(S_{\\mathrm{125}})$...</td>\n",
       "      <td>(lap_cos_zenith, log_s125, log_dEdX, NChannels...</td>\n",
       "      <td>[6.1, 6.199999999999999, 6.299999999999999, 6....</td>\n",
       "      <td>2</td>\n",
       "      <td>Pipeline(memory=None,\\n     steps=[('classifie...</td>\n",
       "      <td>xgboost_comp_IC86.2012_2-groups</td>\n",
       "      <td>0.19.1</td>\n",
       "      <td>/mnt/home/jbourbeau/cr-composition/feature_sel...</td>\n",
       "    </tr>\n",
       "    <tr>\n",
       "      <th>6</th>\n",
       "      <td>[0.6345652913055058, 0.7221747776623075, 0.809...</td>\n",
       "      <td>[0.7074119922489708, 0.6892455064308164, 0.645...</td>\n",
       "      <td>[0.05371088802564773, 0.031900964099091246, 0....</td>\n",
       "      <td>[0.035278580189746604, 0.026198565660735057, 0...</td>\n",
       "      <td>{u'classifier__learning_rate': 0.05, u'classif...</td>\n",
       "      <td>IC86.2012</td>\n",
       "      <td>($\\cos(\\theta)$, $\\log_{10}(S_{\\mathrm{125}})$...</td>\n",
       "      <td>(lap_cos_zenith, log_s125, log_dEdX)</td>\n",
       "      <td>[6.1, 6.199999999999999, 6.299999999999999, 6....</td>\n",
       "      <td>2</td>\n",
       "      <td>Pipeline(memory=None,\\n     steps=[('classifie...</td>\n",
       "      <td>xgboost_comp_IC86.2012_2-groups</td>\n",
       "      <td>0.19.1</td>\n",
       "      <td>/home/jbourbeau/cr-composition/feature_selecti...</td>\n",
       "    </tr>\n",
       "    <tr>\n",
       "      <th>7</th>\n",
       "      <td>[0.6674240521725372, 0.7664728241746739, 0.829...</td>\n",
       "      <td>[0.6940403916686917, 0.69055704059659, 0.65654...</td>\n",
       "      <td>[0.055137011085938076, 0.054715086484562, 0.02...</td>\n",
       "      <td>[0.04063391016077796, 0.03773950143909135, 0.0...</td>\n",
       "      <td>{u'classifier__learning_rate': 0.05, u'classif...</td>\n",
       "      <td>IC86.2012</td>\n",
       "      <td>($\\cos(\\theta)$, $\\log_{10}(S_{\\mathrm{125}})$...</td>\n",
       "      <td>(lap_cos_zenith, log_s125, log_dEdX, NHits_1_6...</td>\n",
       "      <td>[6.1, 6.199999999999999, 6.299999999999999, 6....</td>\n",
       "      <td>2</td>\n",
       "      <td>Pipeline(memory=None,\\n     steps=[('classifie...</td>\n",
       "      <td>xgboost_comp_IC86.2012_2-groups</td>\n",
       "      <td>0.19.1</td>\n",
       "      <td>/home/jbourbeau/cr-composition/feature_selecti...</td>\n",
       "    </tr>\n",
       "    <tr>\n",
       "      <th>8</th>\n",
       "      <td>[0.6698958255436553, 0.73165765360269, 0.81663...</td>\n",
       "      <td>[0.7485491844348485, 0.7117768143215781, 0.678...</td>\n",
       "      <td>[0.048435025282698586, 0.046235765297832986, 0...</td>\n",
       "      <td>[0.05084561591569377, 0.04169839244164541, 0.0...</td>\n",
       "      <td>{u'classifier__learning_rate': 0.05, u'classif...</td>\n",
       "      <td>IC86.2012</td>\n",
       "      <td>($\\cos(\\theta)$, $\\log_{10}(S_{\\mathrm{125}})$...</td>\n",
       "      <td>(lap_cos_zenith, log_s125, log_dEdX, NChannels...</td>\n",
       "      <td>[6.1, 6.199999999999999, 6.299999999999999, 6....</td>\n",
       "      <td>2</td>\n",
       "      <td>Pipeline(memory=None,\\n     steps=[('classifie...</td>\n",
       "      <td>xgboost_comp_IC86.2012_2-groups</td>\n",
       "      <td>0.19.1</td>\n",
       "      <td>/mnt/home/jbourbeau/cr-composition/feature_sel...</td>\n",
       "    </tr>\n",
       "  </tbody>\n",
       "</table>\n",
       "</div>"
      ],
      "text/plain": [
       "                                      acc_mean_heavy  \\\n",
       "0  [0.6695401083730042, 0.7637845796821854, 0.824...   \n",
       "1  [0.6336467234631546, 0.7185992832812572, 0.808...   \n",
       "2  [0.6782010401074955, 0.7266431187669184, 0.808...   \n",
       "3  [0.6296290358613759, 0.7183231076427374, 0.810...   \n",
       "4  [0.6375920571215621, 0.727959884496624, 0.8087...   \n",
       "5  [0.6747489363242113, 0.7313663493450656, 0.815...   \n",
       "6  [0.6345652913055058, 0.7221747776623075, 0.809...   \n",
       "7  [0.6674240521725372, 0.7664728241746739, 0.829...   \n",
       "8  [0.6698958255436553, 0.73165765360269, 0.81663...   \n",
       "\n",
       "                                      acc_mean_light  \\\n",
       "0  [0.6937751123788496, 0.6908672475929045, 0.655...   \n",
       "1  [0.6976873687843331, 0.7053609950883558, 0.646...   \n",
       "2  [0.736522791163993, 0.7160160418482072, 0.6810...   \n",
       "3  [0.7136618007798903, 0.6929570645574692, 0.638...   \n",
       "4  [0.6883075440365982, 0.6947304635928585, 0.635...   \n",
       "5  [0.7512786078735, 0.7124626134781149, 0.674009...   \n",
       "6  [0.7074119922489708, 0.6892455064308164, 0.645...   \n",
       "7  [0.6940403916686917, 0.69055704059659, 0.65654...   \n",
       "8  [0.7485491844348485, 0.7117768143215781, 0.678...   \n",
       "\n",
       "                                       acc_std_heavy  \\\n",
       "0  [0.043536451016342716, 0.06200040833890916, 0....   \n",
       "1  [0.05625022326453249, 0.033667623845481144, 0....   \n",
       "2  [0.059437781529103936, 0.03967720465760078, 0....   \n",
       "3  [0.04130153933415121, 0.03673341974085018, 0.0...   \n",
       "4  [0.05929054212609645, 0.038333600380875674, 0....   \n",
       "5  [0.0467170959823841, 0.04081965261638307, 0.03...   \n",
       "6  [0.05371088802564773, 0.031900964099091246, 0....   \n",
       "7  [0.055137011085938076, 0.054715086484562, 0.02...   \n",
       "8  [0.048435025282698586, 0.046235765297832986, 0...   \n",
       "\n",
       "                                       acc_std_light  \\\n",
       "0  [0.028305817852188917, 0.03580184796522558, 0....   \n",
       "1  [0.04355826666631039, 0.026228501769184846, 0....   \n",
       "2  [0.046743986055771465, 0.04132331429875505, 0....   \n",
       "3  [0.041971310774815196, 0.025512106239092145, 0...   \n",
       "4  [0.04429854154612734, 0.022884372735402413, 0....   \n",
       "5  [0.04674711291852621, 0.03715037328462029, 0.0...   \n",
       "6  [0.035278580189746604, 0.026198565660735057, 0...   \n",
       "7  [0.04063391016077796, 0.03773950143909135, 0.0...   \n",
       "8  [0.05084561591569377, 0.04169839244164541, 0.0...   \n",
       "\n",
       "                                         best_params     config  \\\n",
       "0  {u'classifier__learning_rate': 0.1, u'classifi...  IC86.2012   \n",
       "1  {u'classifier__learning_rate': 0.05, u'classif...  IC86.2012   \n",
       "2  {u'classifier__learning_rate': 0.025, u'classi...  IC86.2012   \n",
       "3  {u'classifier__learning_rate': 0.1, u'classifi...  IC86.2012   \n",
       "4  {u'classifier__learning_rate': 0.025, u'classi...  IC86.2012   \n",
       "5  {u'classifier__learning_rate': 0.025, u'classi...  IC86.2012   \n",
       "6  {u'classifier__learning_rate': 0.05, u'classif...  IC86.2012   \n",
       "7  {u'classifier__learning_rate': 0.05, u'classif...  IC86.2012   \n",
       "8  {u'classifier__learning_rate': 0.05, u'classif...  IC86.2012   \n",
       "\n",
       "                                      feature_labels  \\\n",
       "0  ($\\cos(\\theta)$, $\\log_{10}(S_{\\mathrm{125}})$...   \n",
       "1  ($\\cos(\\theta)$, $\\log_{10}(S_{\\mathrm{125}})$...   \n",
       "2  ($\\cos(\\theta)$, $\\log_{10}(S_{\\mathrm{125}})$...   \n",
       "3  ($\\cos(\\theta)$, $\\log_{10}(S_{\\mathrm{125}})$...   \n",
       "4  ($\\cos(\\theta)$, $\\log_{10}(S_{\\mathrm{125}})$...   \n",
       "5  ($\\cos(\\theta)$, $\\log_{10}(S_{\\mathrm{125}})$...   \n",
       "6  ($\\cos(\\theta)$, $\\log_{10}(S_{\\mathrm{125}})$...   \n",
       "7  ($\\cos(\\theta)$, $\\log_{10}(S_{\\mathrm{125}})$...   \n",
       "8  ($\\cos(\\theta)$, $\\log_{10}(S_{\\mathrm{125}})$...   \n",
       "\n",
       "                                            features  \\\n",
       "0  (lap_cos_zenith, log_s125, log_dEdX, NHits_1_6...   \n",
       "1  (lap_cos_zenith, log_s125, log_dEdX, avg_inice...   \n",
       "2  (lap_cos_zenith, log_s125, log_dEdX, avg_inice...   \n",
       "3       (lap_cos_zenith, log_s125, log_dEdX, random)   \n",
       "4  (lap_cos_zenith, log_s125, log_dEdX, avg_inice...   \n",
       "5  (lap_cos_zenith, log_s125, log_dEdX, NChannels...   \n",
       "6               (lap_cos_zenith, log_s125, log_dEdX)   \n",
       "7  (lap_cos_zenith, log_s125, log_dEdX, NHits_1_6...   \n",
       "8  (lap_cos_zenith, log_s125, log_dEdX, NChannels...   \n",
       "\n",
       "                                     log_energy_bins  num_groups  \\\n",
       "0  [6.1, 6.199999999999999, 6.299999999999999, 6....           2   \n",
       "1  [6.1, 6.199999999999999, 6.299999999999999, 6....           2   \n",
       "2  [6.1, 6.199999999999999, 6.299999999999999, 6....           2   \n",
       "3  [6.1, 6.199999999999999, 6.299999999999999, 6....           2   \n",
       "4  [6.1, 6.199999999999999, 6.299999999999999, 6....           2   \n",
       "5  [6.1, 6.199999999999999, 6.299999999999999, 6....           2   \n",
       "6  [6.1, 6.199999999999999, 6.299999999999999, 6....           2   \n",
       "7  [6.1, 6.199999999999999, 6.299999999999999, 6....           2   \n",
       "8  [6.1, 6.199999999999999, 6.299999999999999, 6....           2   \n",
       "\n",
       "                                            pipeline  \\\n",
       "0  Pipeline(memory=None,\\n     steps=[('classifie...   \n",
       "1  Pipeline(memory=None,\\n     steps=[('classifie...   \n",
       "2  Pipeline(memory=None,\\n     steps=[('classifie...   \n",
       "3  Pipeline(memory=None,\\n     steps=[('classifie...   \n",
       "4  Pipeline(memory=None,\\n     steps=[('classifie...   \n",
       "5  Pipeline(memory=None,\\n     steps=[('classifie...   \n",
       "6  Pipeline(memory=None,\\n     steps=[('classifie...   \n",
       "7  Pipeline(memory=None,\\n     steps=[('classifie...   \n",
       "8  Pipeline(memory=None,\\n     steps=[('classifie...   \n",
       "\n",
       "                     pipeline_name sklearn_version  \\\n",
       "0  xgboost_comp_IC86.2012_2-groups          0.19.1   \n",
       "1  xgboost_comp_IC86.2012_2-groups          0.19.1   \n",
       "2  xgboost_comp_IC86.2012_2-groups          0.19.1   \n",
       "3  xgboost_comp_IC86.2012_2-groups          0.19.1   \n",
       "4  xgboost_comp_IC86.2012_2-groups          0.19.1   \n",
       "5  xgboost_comp_IC86.2012_2-groups          0.19.1   \n",
       "6  xgboost_comp_IC86.2012_2-groups          0.19.1   \n",
       "7  xgboost_comp_IC86.2012_2-groups          0.19.1   \n",
       "8  xgboost_comp_IC86.2012_2-groups          0.19.1   \n",
       "\n",
       "                                         source_code  \n",
       "0  /mnt/home/jbourbeau/cr-composition/feature_sel...  \n",
       "1  /home/jbourbeau/cr-composition/feature_selecti...  \n",
       "2  /mnt/home/jbourbeau/cr-composition/feature_sel...  \n",
       "3  /mnt/home/jbourbeau/cr-composition/feature_sel...  \n",
       "4  /mnt/home/jbourbeau/cr-composition/feature_sel...  \n",
       "5  /mnt/home/jbourbeau/cr-composition/feature_sel...  \n",
       "6  /home/jbourbeau/cr-composition/feature_selecti...  \n",
       "7  /home/jbourbeau/cr-composition/feature_selecti...  \n",
       "8  /mnt/home/jbourbeau/cr-composition/feature_sel...  "
      ]
     },
     "execution_count": 37,
     "metadata": {},
     "output_type": "execute_result"
    }
   ],
   "source": [
    "results"
   ]
  },
  {
   "cell_type": "code",
   "execution_count": 25,
   "metadata": {},
   "outputs": [
    {
     "data": {
      "text/plain": [
       "['lap_cos_zenith',\n",
       " 'log_s125',\n",
       " 'log_dEdX',\n",
       " 'NHits_1_60',\n",
       " 'NHits_1_15',\n",
       " 'NHits_15_30',\n",
       " 'NHits_30_45',\n",
       " 'NHits_45_60',\n",
       " 'random']"
      ]
     },
     "execution_count": 25,
     "metadata": {},
     "output_type": "execute_result"
    }
   ],
   "source": [
    "f = files[0]\n",
    "name, ext = os.path.splitext(os.path.basename(f))\n",
    "features = name.replace(pipeline_str, '').split('-')[1:]"
   ]
  },
  {
   "cell_type": "code",
   "execution_count": 48,
   "metadata": {},
   "outputs": [
    {
     "name": "stdout",
     "output_type": "stream",
     "text": [
      "9\n",
      "{'classifier__learning_rate': 0.025, 'classifier__n_estimators': 600, 'classifier__max_depth': 7}\n",
      "4\n",
      "{'classifier__learning_rate': 0.025, 'classifier__n_estimators': 200, 'classifier__max_depth': 8}\n",
      "3\n",
      "{'classifier__learning_rate': 0.05, 'classifier__n_estimators': 150, 'classifier__max_depth': 7}\n",
      "8\n",
      "{'classifier__learning_rate': 0.05, 'classifier__n_estimators': 300, 'classifier__max_depth': 5}\n",
      "8\n",
      "{'classifier__learning_rate': 0.05, 'classifier__n_estimators': 200, 'classifier__max_depth': 7}\n"
     ]
    },
    {
     "data": {
      "image/png": "[encoded data removed]",
      "text/plain": [
       "<Figure size 864x360 with 2 Axes>"
      ]
     },
     "metadata": {},
     "output_type": "display_data"
    }
   ],
   "source": [
    "cwd = os.getcwd()\n",
    "linestyles = cycle(['-', '-.', '--', ':'])\n",
    "fig, axarr = plt.subplots(ncols=len(comp_list), figsize=(12, 5), sharex=True, sharey=True)\n",
    "for idx_row, row in results.iterrows():\n",
    "    if 'random' in row['features']:\n",
    "        continue\n",
    "    \n",
    "    print(len(row['features']))\n",
    "    print(row['best_params'])\n",
    "    \n",
    "    for idx, (composition, ax) in enumerate(zip(comp_list, axarr.flat)):\n",
    "        labels = row['feature_labels']\n",
    "        formatted_labels = [] \n",
    "        nchannels_flag = False\n",
    "        for label in labels:\n",
    "            if 'NChannels' in label:\n",
    "                if not nchannels_flag:\n",
    "                    formatted_labels.append('\\{NChannels\\}')\n",
    "                    nchannels_flag = True\n",
    "                else:\n",
    "                    continue\n",
    "            else:\n",
    "                formatted_labels.append(label)\n",
    "        # Add to plot\n",
    "        comp.plot_steps(energybins.log_energy_bins,\n",
    "                        row['acc_mean_{}'.format(composition)],\n",
    "                        yerr=row['acc_std_{}'.format(composition)],\n",
    "                        color=color_dict[composition],\n",
    "                        ls=next(linestyles),\n",
    "                        label='\\n '.join(formatted_labels),\n",
    "                        ax=ax)\n",
    "\n",
    "        ax.set_xlim(6.4, 7.9)\n",
    "        ax.set_ylim(0, 1)\n",
    "        ax.set_xlabel('$\\mathrm{\\log_{10}(E/GeV)}$')\n",
    "        if idx == 0:\n",
    "            ax.set_ylabel('Accuracy')\n",
    "        ax.set_title(composition)\n",
    "        ax.grid(lw=0.8)\n",
    "#         if idx == len(comp_list) - 1:\n",
    "# #             ax.legend(title='Training features', fontsize=10)\n",
    "#             ax.legend(title='Training features', loc='center left', bbox_to_anchor=(1, 0.5), fontsize=10)\n",
    "    \n",
    "# ax.legend(title='Training features', loc='lower left', fontsize=10)\n",
    "outfile = os.path.join(comp.paths.figures_dir, \n",
    "                       'model_evaluation',\n",
    "                       'new_features',\n",
    "                       '{}_num_groups-{}.png'.format(config, num_groups))\n",
    "# comp.check_output_dir(outfile)\n",
    "# plt.savefig(outfile)\n",
    "plt.show()"
   ]
  },
  {
   "cell_type": "code",
   "execution_count": 49,
   "metadata": {},
   "outputs": [],
   "source": [
    "# cwd = os.getcwd()\n",
    "# linestyles = ['-', '-.', '--']\n",
    "# fig, axarr = plt.subplots(ncols=len(comp_list), figsize=(12, 5), sharex=True, sharey=True)\n",
    "# for features, ls in zip(scan_features, linestyles):\n",
    "#     features_str = '-'.join(features)\n",
    "#     results_basename = '{}-{}.pkl'.format(pipeline_str, features_str)\n",
    "#     results_file = os.path.join(cwd,\n",
    "#                                 'feature_scan_results',\n",
    "#                                 results_basename)\n",
    "#     results = joblib.load(results_file)\n",
    "#     print(results['best_params'])\n",
    "\n",
    "#     for idx, (composition, ax) in enumerate(zip(comp_list, axarr.flat)):\n",
    "#         labels = results['feature_labels']\n",
    "#         formatted_labels = [] \n",
    "#         nchannels_flag = False\n",
    "#         for label in labels:\n",
    "#             if 'NChannels' in label:\n",
    "#                 if not nchannels_flag:\n",
    "#                     formatted_labels.append('\\{NChannels\\}')\n",
    "#                     nchannels_flag = True\n",
    "#                 else:\n",
    "#                     continue\n",
    "#             else:\n",
    "#                 formatted_labels.append(label)\n",
    "#         # Add to plot\n",
    "#         comp.plot_steps(energybins.log_energy_bins,\n",
    "#                         results['acc_mean_{}'.format(composition)],\n",
    "#                         yerr=results['acc_std_{}'.format(composition)],\n",
    "#                         color=color_dict[composition],\n",
    "#                         ls=ls,\n",
    "# #                         label=', '.join(results['feature_labels']),\n",
    "#                         label='\\n '.join(formatted_labels),\n",
    "#                         ax=ax)\n",
    "\n",
    "#         ax.set_xlim(6.4, 7.9)\n",
    "#         ax.set_ylim(0, 1)\n",
    "#         ax.set_xlabel('$\\mathrm{\\log_{10}(E/GeV)}$')\n",
    "#         if idx == 0:\n",
    "#             ax.set_ylabel('Accuracy')\n",
    "#         ax.set_title(composition)\n",
    "#         ax.grid(lw=0.8)\n",
    "# #         if idx == len(comp_list) - 1:\n",
    "# # #             ax.legend(title='Training features', fontsize=10)\n",
    "# #             ax.legend(title='Training features', loc='center left', bbox_to_anchor=(1, 0.5), fontsize=10)\n",
    "# # ax.legend(title='Training features', loc='lower left', fontsize=10)\n",
    "# outfile = os.path.join(comp.paths.figures_dir, \n",
    "#                        'model_evaluation',\n",
    "#                        'new_features',\n",
    "#                        '{}_num_groups-{}.png'.format(config, num_groups))\n",
    "# comp.check_output_dir(outfile)\n",
    "# plt.savefig(outfile)\n",
    "# plt.show()"
   ]
  },
  {
   "cell_type": "code",
   "execution_count": 4,
   "metadata": {
    "collapsed": true
   },
   "outputs": [],
   "source": [
    "def plot_feature_importances(feature_importances, feature_labels):\n",
    "    num_features = len(feature_labels)\n",
    "    importances = feature_importances\n",
    "    indices = np.argsort(importances)[::-1]\n",
    "\n",
    "    fig, ax = plt.subplots()\n",
    "    for f in range(num_features):\n",
    "        print('{}) {}'.format(f + 1, importances[indices[f]]))\n",
    "\n",
    "    plt.ylabel('Feature Importances')\n",
    "    plt.bar(range(num_features),\n",
    "            importances[indices],\n",
    "            align='center')\n",
    "\n",
    "    plt.xticks(range(num_features),\n",
    "               feature_labels[indices],\n",
    "               rotation=90)\n",
    "    plt.xlim([-1, num_features])\n",
    "    # plt.ylim([0, .40])\n",
    "    ax.grid(axis='y')\n",
    "    plt.show()"
   ]
  },
  {
   "cell_type": "code",
   "execution_count": 41,
   "metadata": {
    "scrolled": false
   },
   "outputs": [
    {
     "name": "stdout",
     "output_type": "stream",
     "text": [
      "1) 0.210891738534\n",
      "2) 0.154697328806\n",
      "3) 0.14927315712\n",
      "4) 0.114992402494\n",
      "5) 0.11282274127\n",
      "6) 0.082013450563\n",
      "7) 0.059882838279\n",
      "8) 0.0585810355842\n",
      "9) 0.0568453036249\n"
     ]
    },
    {
     "data": {
      "image/png": "[encoded data removed]",
      "text/plain": [
       "<Figure size 432x288 with 1 Axes>"
      ]
     },
     "metadata": {},
     "output_type": "display_data"
    },
    {
     "name": "stdout",
     "output_type": "stream",
     "text": [
      "1) 0.25014770031\n",
      "2) 0.23667730391\n",
      "3) 0.232777968049\n",
      "4) 0.168616324663\n",
      "5) 0.111780695617\n"
     ]
    },
    {
     "data": {
      "image/png": "[encoded data removed]",
      "text/plain": [
       "<Figure size 432x288 with 1 Axes>"
      ]
     },
     "metadata": {},
     "output_type": "display_data"
    },
    {
     "name": "stdout",
     "output_type": "stream",
     "text": [
      "1) 0.195756226778\n",
      "2) 0.169726133347\n",
      "3) 0.156970143318\n",
      "4) 0.126868993044\n",
      "5) 0.0905008614063\n",
      "6) 0.0838144570589\n",
      "7) 0.0641993582249\n",
      "8) 0.0574636086822\n",
      "9) 0.0547002218664\n"
     ]
    },
    {
     "data": {
      "image/png": "[encoded data removed]",
      "text/plain": [
       "<Figure size 432x288 with 1 Axes>"
      ]
     },
     "metadata": {},
     "output_type": "display_data"
    },
    {
     "name": "stdout",
     "output_type": "stream",
     "text": [
      "1) 0.322253763676\n",
      "2) 0.309687882662\n",
      "3) 0.248479932547\n",
      "4) 0.119578436017\n"
     ]
    },
    {
     "data": {
      "image/png": "[encoded data removed]",
      "text/plain": [
       "<Figure size 432x288 with 1 Axes>"
      ]
     },
     "metadata": {},
     "output_type": "display_data"
    },
    {
     "name": "stdout",
     "output_type": "stream",
     "text": [
      "1) 0.275448918343\n",
      "2) 0.25782096386\n",
      "3) 0.246561408043\n",
      "4) 0.220168724656\n"
     ]
    },
    {
     "data": {
      "image/png": "[encoded data removed]",
      "text/plain": [
       "<Figure size 432x288 with 1 Axes>"
      ]
     },
     "metadata": {},
     "output_type": "display_data"
    },
    {
     "name": "stdout",
     "output_type": "stream",
     "text": [
      "1) 0.199444010854\n",
      "2) 0.17157676816\n",
      "3) 0.159033119678\n",
      "4) 0.105705663562\n",
      "5) 0.102010376751\n",
      "6) 0.0873987153172\n",
      "7) 0.0659050047398\n",
      "8) 0.0554293654859\n",
      "9) 0.0534969642758\n"
     ]
    },
    {
     "data": {
      "image/png": "[encoded data removed]",
      "text/plain": [
       "<Figure size 432x288 with 1 Axes>"
      ]
     },
     "metadata": {},
     "output_type": "display_data"
    },
    {
     "name": "stdout",
     "output_type": "stream",
     "text": [
      "1) 0.366678625345\n",
      "2) 0.318051308393\n",
      "3) 0.315270066261\n"
     ]
    },
    {
     "data": {
      "image/png": "[encoded data removed]",
      "text/plain": [
       "<Figure size 432x288 with 1 Axes>"
      ]
     },
     "metadata": {},
     "output_type": "display_data"
    },
    {
     "name": "stdout",
     "output_type": "stream",
     "text": [
      "1) 0.240847781301\n",
      "2) 0.170001477003\n",
      "3) 0.162442564964\n",
      "4) 0.127167627215\n",
      "5) 0.113680154085\n",
      "6) 0.0663998797536\n",
      "7) 0.0647695288062\n",
      "8) 0.0546909719706\n"
     ]
    },
    {
     "data": {
      "image/png": "[encoded data removed]",
      "text/plain": [
       "<Figure size 432x288 with 1 Axes>"
      ]
     },
     "metadata": {},
     "output_type": "display_data"
    },
    {
     "name": "stdout",
     "output_type": "stream",
     "text": [
      "1) 0.223457634449\n",
      "2) 0.198305085301\n",
      "3) 0.177898302674\n",
      "4) 0.107661016285\n",
      "5) 0.0953898280859\n",
      "6) 0.0765423700213\n",
      "7) 0.0637288168073\n",
      "8) 0.0570169501007\n"
     ]
    },
    {
     "data": {
      "image/png": "[encoded data removed]",
      "text/plain": [
       "<Figure size 432x288 with 1 Axes>"
      ]
     },
     "metadata": {},
     "output_type": "display_data"
    }
   ],
   "source": [
    "# for features in scan_features:\n",
    "for idx, row in results.iterrows():\n",
    "\n",
    "#     features_str = '-'.join(features)\n",
    "#     results_basename = '{}-{}.pkl'.format(pipeline_str, features_str)\n",
    "#     results_file = os.path.join(cwd,\n",
    "#                                 'feature_scan_results',\n",
    "#                                 results_basename)\n",
    "#     results = joblib.load(results_file)\n",
    "\n",
    "    importances = row['pipeline'].named_steps['classifier'].feature_importances_\n",
    "    feature_labels = np.array(row['feature_labels'])\n",
    "    plot_feature_importances(importances, feature_labels)"
   ]
  },
  {
   "cell_type": "code",
   "execution_count": 27,
   "metadata": {},
   "outputs": [
    {
     "name": "stdout",
     "output_type": "stream",
     "text": [
      "1) 0.195756226778\n",
      "2) 0.169726133347\n",
      "3) 0.156970143318\n",
      "4) 0.126868993044\n",
      "5) 0.0905008614063\n",
      "6) 0.0838144570589\n",
      "7) 0.0641993582249\n",
      "8) 0.0574636086822\n",
      "9) 0.0547002218664\n"
     ]
    },
    {
     "data": {
      "image/png": "[encoded data removed]",
      "text/plain": [
       "<Figure size 432x288 with 1 Axes>"
      ]
     },
     "metadata": {},
     "output_type": "display_data"
    }
   ],
   "source": [
    "feature_labels = np.array(results['feature_labels'])\n",
    "num_features = len(feature_labels)\n",
    "importances = results['pipeline'].named_steps['classifier'].feature_importances_\n",
    "indices = np.argsort(importances)[::-1]\n",
    "\n",
    "fig, ax = plt.subplots()\n",
    "for f in range(num_features):\n",
    "    print('{}) {}'.format(f + 1, importances[indices[f]]))\n",
    "\n",
    "plt.ylabel('Feature Importances')\n",
    "plt.bar(range(num_features),\n",
    "        importances[indices],\n",
    "        align='center')\n",
    "\n",
    "plt.xticks(range(num_features),\n",
    "           feature_labels[indices],\n",
    "           rotation=90)\n",
    "plt.xlim([-1, num_features])\n",
    "# plt.ylim([0, .40])\n",
    "ax.grid(axis='y')\n",
    "plt.show()"
   ]
  },
  {
   "cell_type": "code",
   "execution_count": null,
   "metadata": {
    "collapsed": true
   },
   "outputs": [],
   "source": []
  },
  {
   "cell_type": "code",
   "execution_count": 11,
   "metadata": {},
   "outputs": [
    {
     "data": {
      "text/plain": [
       "array([0.16972613, 0.19575623, 0.15697014, 0.126869  , 0.06419936,\n",
       "       0.09050086, 0.08381446, 0.05470022, 0.05746361], dtype=float32)"
      ]
     },
     "execution_count": 11,
     "metadata": {},
     "output_type": "execute_result"
    }
   ],
   "source": [
    "clf = results['pipeline'].named_steps['classifier'].feature_importances_\n",
    "clf.feature_importances_"
   ]
  },
  {
   "cell_type": "code",
   "execution_count": 12,
   "metadata": {},
   "outputs": [
    {
     "data": {
      "text/plain": [
       "array([0, 1])"
      ]
     },
     "execution_count": 12,
     "metadata": {},
     "output_type": "execute_result"
    }
   ],
   "source": [
    "clf.classes_"
   ]
  },
  {
   "cell_type": "code",
   "execution_count": 14,
   "metadata": {},
   "outputs": [
    {
     "data": {
      "text/plain": [
       "{'_Booster': <xgboost.core.Booster at 0x7f1f55b67650>,\n",
       " '_features_count': 9,\n",
       " '_le': LabelEncoder(),\n",
       " 'base_score': 0.5,\n",
       " 'booster': 'gbtree',\n",
       " 'classes_': array([0, 1]),\n",
       " 'colsample_bylevel': 1,\n",
       " 'colsample_bytree': 1,\n",
       " 'gamma': 0,\n",
       " 'kwargs': {},\n",
       " 'learning_rate': 0.025,\n",
       " 'max_delta_step': 0,\n",
       " 'max_depth': 7,\n",
       " 'min_child_weight': 1,\n",
       " 'missing': nan,\n",
       " 'n_classes_': 2,\n",
       " 'n_estimators': 600,\n",
       " 'n_jobs': 1,\n",
       " 'nthread': None,\n",
       " 'objective': 'binary:logistic',\n",
       " 'random_state': 2,\n",
       " 'reg_alpha': 0,\n",
       " 'reg_lambda': 1,\n",
       " 'scale_pos_weight': 1,\n",
       " 'seed': None,\n",
       " 'silent': True,\n",
       " 'subsample': 1}"
      ]
     },
     "execution_count": 14,
     "metadata": {},
     "output_type": "execute_result"
    }
   ],
   "source": [
    "clf.__dict__"
   ]
  },
  {
   "cell_type": "code",
   "execution_count": null,
   "metadata": {
    "collapsed": true
   },
   "outputs": [],
   "source": []
  }
 ],
 "metadata": {
  "kernelspec": {
   "display_name": "Python 2",
   "language": "python",
   "name": "python2"
  },
  "language_info": {
   "codemirror_mode": {
    "name": "ipython",
    "version": 2
   },
   "file_extension": ".py",
   "mimetype": "text/x-python",
   "name": "python",
   "nbconvert_exporter": "python",
   "pygments_lexer": "ipython2",
   "version": "2.7.13"
  }
 },
 "nbformat": 4,
 "nbformat_minor": 2
}
