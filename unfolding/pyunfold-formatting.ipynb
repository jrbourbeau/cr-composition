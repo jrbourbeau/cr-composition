{
 "cells": [
  {
   "cell_type": "markdown",
   "metadata": {},
   "source": [
    "<a id='top'> </a>\n",
    "Author: [James Bourbeau](http://www.jamesbourbeau.com)"
   ]
  },
  {
   "cell_type": "code",
   "execution_count": 1,
   "metadata": {},
   "outputs": [
    {
     "name": "stdout",
     "output_type": "stream",
     "text": [
      "last updated: 2017-11-13 \n",
      "\n",
      "CPython 2.7.13\n",
      "IPython 5.3.0\n",
      "\n",
      "numpy 1.12.1\n",
      "matplotlib 2.0.2\n",
      "scipy 0.19.0\n",
      "pandas 0.20.1\n",
      "sklearn 0.19.0\n",
      "mlxtend 0.7.0\n"
     ]
    }
   ],
   "source": [
    "%load_ext watermark\n",
    "%watermark -u -d -v -p numpy,matplotlib,scipy,pandas,sklearn,mlxtend"
   ]
  },
  {
   "cell_type": "markdown",
   "metadata": {},
   "source": [
    "# Formatting for PyUnfold use\n",
    "### Table of contents\n",
    "1. [Define analysis free parameters](#Define-analysis-free-parameters)\n",
    "1. [Data preprocessing](#Data-preprocessing)\n",
    "2. [Fitting random forest](#Fit-random-forest-and-run-10-fold-CV-validation)\n",
    "3. [Fraction correctly identified](#Fraction-correctly-identified)\n",
    "4. [Spectrum](#Spectrum)\n",
    "5. [Unfolding](#Unfolding)\n",
    "6. [Feature importance](#Feature-importance)"
   ]
  },
  {
   "cell_type": "code",
   "execution_count": 2,
   "metadata": {},
   "outputs": [
    {
     "name": "stderr",
     "output_type": "stream",
     "text": [
      "/home/jbourbeau/.virtualenvs/composition/lib/python2.7/site-packages/sklearn/cross_validation.py:41: DeprecationWarning: This module was deprecated in version 0.18 in favor of the model_selection module into which all the refactored classes and functions are moved. Also note that the interface of the new CV iterators are different from that of this module. This module will be removed in 0.20.\n",
      "  \"This module will be removed in 0.20.\", DeprecationWarning)\n"
     ]
    }
   ],
   "source": [
    "from __future__ import division, print_function\n",
    "import os\n",
    "from collections import defaultdict\n",
    "import numpy as np\n",
    "from scipy.sparse import block_diag\n",
    "import pandas as pd\n",
    "import matplotlib.pyplot as plt\n",
    "import seaborn.apionly as sns\n",
    "import json\n",
    "from scipy.interpolate import UnivariateSpline\n",
    "\n",
    "from sklearn.metrics import accuracy_score, confusion_matrix, roc_curve, auc, classification_report\n",
    "from sklearn.model_selection import cross_val_score, StratifiedShuffleSplit, KFold, StratifiedKFold\n",
    "\n",
    "import comptools as comp\n",
    "import comptools.analysis.plotting as plotting\n",
    "color_dict = comp.analysis.get_color_dict()\n",
    "\n",
    "%matplotlib inline"
   ]
  },
  {
   "cell_type": "markdown",
   "metadata": {},
   "source": [
    "# Define analysis free parameters\n",
    "[ [back to top](#top) ]"
   ]
  },
  {
   "cell_type": "markdown",
   "metadata": {},
   "source": [
    "Whether or not to train on 'light' and 'heavy' composition classes, or the individual compositions"
   ]
  },
  {
   "cell_type": "code",
   "execution_count": 3,
   "metadata": {
    "collapsed": true
   },
   "outputs": [],
   "source": [
    "config = 'IC79.2010'\n",
    "# config = 'IC86.2012'\n",
    "num_groups = 2\n",
    "comp_list = comp.get_comp_list(num_groups=num_groups)"
   ]
  },
  {
   "cell_type": "code",
   "execution_count": 4,
   "metadata": {},
   "outputs": [
    {
     "data": {
      "text/plain": [
       "['light', 'heavy']"
      ]
     },
     "execution_count": 4,
     "metadata": {},
     "output_type": "execute_result"
    }
   ],
   "source": [
    "comp_list"
   ]
  },
  {
   "cell_type": "markdown",
   "metadata": {},
   "source": [
    "Get composition classifier pipeline"
   ]
  },
  {
   "cell_type": "markdown",
   "metadata": {},
   "source": [
    "Define energy binning for this analysis"
   ]
  },
  {
   "cell_type": "code",
   "execution_count": 5,
   "metadata": {
    "collapsed": true
   },
   "outputs": [],
   "source": [
    "energybins = comp.analysis.get_energybins(config=config)"
   ]
  },
  {
   "cell_type": "markdown",
   "metadata": {},
   "source": [
    "# Data preprocessing\n",
    "[ [back to top](#top) ]\n",
    "1. Load simulation/data dataframe and apply specified quality cuts\n",
    "2. Extract desired features from dataframe\n",
    "3. Get separate testing and training datasets\n",
    "4. Feature transformation"
   ]
  },
  {
   "cell_type": "code",
   "execution_count": 6,
   "metadata": {
    "collapsed": true
   },
   "outputs": [],
   "source": [
    "log_energy_min = energybins.log_energy_min\n",
    "log_energy_max = energybins.log_energy_max"
   ]
  },
  {
   "cell_type": "code",
   "execution_count": 7,
   "metadata": {
    "collapsed": true,
    "scrolled": false
   },
   "outputs": [],
   "source": [
    "df_sim_train, df_sim_test = comp.load_sim(config=config, log_energy_min=log_energy_min, log_energy_max=log_energy_max)"
   ]
  },
  {
   "cell_type": "code",
   "execution_count": 8,
   "metadata": {},
   "outputs": [
    {
     "data": {
      "text/plain": [
       "(6.1000171750342984, 8.9999845928637736)"
      ]
     },
     "execution_count": 8,
     "metadata": {},
     "output_type": "execute_result"
    }
   ],
   "source": [
    "df_sim_train.reco_log_energy.min(), df_sim_train.reco_log_energy.max()"
   ]
  },
  {
   "cell_type": "code",
   "execution_count": 9,
   "metadata": {
    "collapsed": true
   },
   "outputs": [],
   "source": [
    "log_reco_energy_sim_test = df_sim_test['reco_log_energy']\n",
    "log_true_energy_sim_test = df_sim_test['MC_log_energy']"
   ]
  },
  {
   "cell_type": "code",
   "execution_count": 10,
   "metadata": {
    "collapsed": true
   },
   "outputs": [],
   "source": [
    "feature_list, feature_labels = comp.analysis.get_training_features()"
   ]
  },
  {
   "cell_type": "code",
   "execution_count": 11,
   "metadata": {
    "collapsed": true
   },
   "outputs": [],
   "source": [
    "pipeline_str = 'BDT_comp_{}_{}-groups'.format(config, num_groups)\n",
    "pipeline = comp.get_pipeline(pipeline_str)"
   ]
  },
  {
   "cell_type": "code",
   "execution_count": 12,
   "metadata": {
    "collapsed": true
   },
   "outputs": [],
   "source": [
    "pipeline = pipeline.fit(df_sim_train[feature_list], df_sim_train['comp_target_{}'.format(num_groups)])"
   ]
  },
  {
   "cell_type": "markdown",
   "metadata": {},
   "source": [
    "## Load fitted effective area"
   ]
  },
  {
   "cell_type": "code",
   "execution_count": 14,
   "metadata": {
    "collapsed": true
   },
   "outputs": [],
   "source": [
    "eff_path = os.path.join(comp.paths.comp_data_dir, config, 'efficiencies', \n",
    "                        'efficiency_fit_num_groups_{}.hdf'.format(num_groups))\n",
    "df_eff = pd.read_hdf(eff_path)"
   ]
  },
  {
   "cell_type": "code",
   "execution_count": 15,
   "metadata": {},
   "outputs": [
    {
     "data": {
      "text/html": [
       "<div>\n",
       "<style>\n",
       "    .dataframe thead tr:only-child th {\n",
       "        text-align: right;\n",
       "    }\n",
       "\n",
       "    .dataframe thead th {\n",
       "        text-align: left;\n",
       "    }\n",
       "\n",
       "    .dataframe tbody tr th {\n",
       "        vertical-align: top;\n",
       "    }\n",
       "</style>\n",
       "<table border=\"1\" class=\"dataframe\">\n",
       "  <thead>\n",
       "    <tr style=\"text-align: right;\">\n",
       "      <th></th>\n",
       "      <th>eff_median_light</th>\n",
       "      <th>eff_err_low_light</th>\n",
       "      <th>eff_err_high_light</th>\n",
       "      <th>eff_median_heavy</th>\n",
       "      <th>eff_err_low_heavy</th>\n",
       "      <th>eff_err_high_heavy</th>\n",
       "    </tr>\n",
       "  </thead>\n",
       "  <tbody>\n",
       "    <tr>\n",
       "      <th>0</th>\n",
       "      <td>0.006254</td>\n",
       "      <td>0.000031</td>\n",
       "      <td>0.000031</td>\n",
       "      <td>0.005694</td>\n",
       "      <td>0.000036</td>\n",
       "      <td>0.000035</td>\n",
       "    </tr>\n",
       "    <tr>\n",
       "      <th>1</th>\n",
       "      <td>0.006487</td>\n",
       "      <td>0.000028</td>\n",
       "      <td>0.000025</td>\n",
       "      <td>0.006244</td>\n",
       "      <td>0.000030</td>\n",
       "      <td>0.000030</td>\n",
       "    </tr>\n",
       "    <tr>\n",
       "      <th>2</th>\n",
       "      <td>0.006593</td>\n",
       "      <td>0.000030</td>\n",
       "      <td>0.000027</td>\n",
       "      <td>0.006537</td>\n",
       "      <td>0.000027</td>\n",
       "      <td>0.000026</td>\n",
       "    </tr>\n",
       "    <tr>\n",
       "      <th>3</th>\n",
       "      <td>0.006642</td>\n",
       "      <td>0.000031</td>\n",
       "      <td>0.000027</td>\n",
       "      <td>0.006682</td>\n",
       "      <td>0.000027</td>\n",
       "      <td>0.000027</td>\n",
       "    </tr>\n",
       "    <tr>\n",
       "      <th>4</th>\n",
       "      <td>0.006667</td>\n",
       "      <td>0.000029</td>\n",
       "      <td>0.000026</td>\n",
       "      <td>0.006751</td>\n",
       "      <td>0.000028</td>\n",
       "      <td>0.000028</td>\n",
       "    </tr>\n",
       "  </tbody>\n",
       "</table>\n",
       "</div>"
      ],
      "text/plain": [
       "   eff_median_light  eff_err_low_light  eff_err_high_light  eff_median_heavy  \\\n",
       "0          0.006254           0.000031            0.000031          0.005694   \n",
       "1          0.006487           0.000028            0.000025          0.006244   \n",
       "2          0.006593           0.000030            0.000027          0.006537   \n",
       "3          0.006642           0.000031            0.000027          0.006682   \n",
       "4          0.006667           0.000029            0.000026          0.006751   \n",
       "\n",
       "   eff_err_low_heavy  eff_err_high_heavy  \n",
       "0           0.000036            0.000035  \n",
       "1           0.000030            0.000030  \n",
       "2           0.000027            0.000026  \n",
       "3           0.000027            0.000027  \n",
       "4           0.000028            0.000028  "
      ]
     },
     "execution_count": 15,
     "metadata": {},
     "output_type": "execute_result"
    }
   ],
   "source": [
    "df_eff.head()"
   ]
  },
  {
   "cell_type": "code",
   "execution_count": 16,
   "metadata": {},
   "outputs": [
    {
     "name": "stderr",
     "output_type": "stream",
     "text": [
      "/home/jbourbeau/.virtualenvs/composition/lib/python2.7/site-packages/matplotlib/figure.py:1743: UserWarning: This figure includes Axes that are not compatible with tight_layout, so its results might be incorrect.\n",
      "  warnings.warn(\"This figure includes Axes that are not \"\n"
     ]
    },
    {
     "data": {
      "image/png": "[encoded data removed]",
      "text/plain": [
       "<matplotlib.figure.Figure at 0x7fb444532510>"
      ]
     },
     "metadata": {},
     "output_type": "display_data"
    }
   ],
   "source": [
    "fig, ax = plt.subplots()\n",
    "for composition in comp_list:\n",
    "    ax.errorbar(energybins.log_energy_midpoints, df_eff['eff_median_{}'.format(composition)],\n",
    "                yerr=[df_eff['eff_err_low_{}'.format(composition)],\n",
    "                      df_eff['eff_err_high_{}'.format(composition)]], \n",
    "                color=color_dict[composition], label=composition, marker='.')\n",
    "ax.axvline(6.4, marker='None', ls='-.', color='k')\n",
    "ax.axvline(7.8, marker='None', ls='-.', color='k')\n",
    "ax.set_xlabel('$\\mathrm{\\log_{10}(E_{true}/GeV)}$')\n",
    "ax.set_ylabel('Detection efficienies')\n",
    "ax.grid()\n",
    "ax.legend()\n",
    "ax.ticklabel_format(style='sci',axis='y')\n",
    "ax.yaxis.major.formatter.set_powerlimits((0,0))\n",
    "plt.show()"
   ]
  },
  {
   "cell_type": "markdown",
   "metadata": {},
   "source": [
    "Format for PyUnfold response matrix use"
   ]
  },
  {
   "cell_type": "code",
   "execution_count": 17,
   "metadata": {
    "collapsed": true,
    "scrolled": false
   },
   "outputs": [],
   "source": [
    "# efficiencies, efficiencies_err = [], []\n",
    "# for idx, row in df_efficiency.iterrows():\n",
    "#     for composition in comp_list:\n",
    "#         efficiencies.append(row['eff_median_{}'.format(composition)])\n",
    "#         efficiencies_err.append(row['eff_err_low_{}'.format(composition)])\n",
    "# efficiencies = np.asarray(efficiencies)\n",
    "# efficiencies_err = np.asarray(efficiencies_err)\n",
    "\n",
    "efficiencies, efficiencies_err = [], []\n",
    "for idx, row in df_eff.iterrows():\n",
    "    for composition in comp_list:\n",
    "        efficiencies.append(row['eff_median_{}'.format(composition)])\n",
    "        efficiencies_err.append(row['eff_err_low_{}'.format(composition)])\n",
    "efficiencies = np.asarray(efficiencies)\n",
    "efficiencies_err = np.asarray(efficiencies_err)"
   ]
  },
  {
   "cell_type": "code",
   "execution_count": 18,
   "metadata": {},
   "outputs": [
    {
     "data": {
      "text/plain": [
       "array([ 0.00625368,  0.0056941 ,  0.00648731,  0.00624368,  0.00659296,\n",
       "        0.00653717,  0.00664185,  0.0066818 ,  0.00666654,  0.00675052,\n",
       "        0.00668052,  0.00678066,  0.00668956,  0.00679351,  0.00669727,\n",
       "        0.00679706,  0.0067049 ,  0.00679691,  0.00671132,  0.00679549,\n",
       "        0.00671764,  0.00679208,  0.00672493,  0.00678878,  0.00673195,\n",
       "        0.00678521,  0.006739  ,  0.00678187,  0.00674607,  0.00677831,\n",
       "        0.00675301,  0.00677439,  0.00675994,  0.00677053,  0.0067668 ,\n",
       "        0.00676672,  0.00677389,  0.00676341,  0.00678441,  0.00675741,\n",
       "        0.00679855,  0.00674979,  0.00681126,  0.00674232,  0.0068252 ,\n",
       "        0.0067347 ,  0.00683793,  0.00672766])"
      ]
     },
     "execution_count": 18,
     "metadata": {},
     "output_type": "execute_result"
    }
   ],
   "source": [
    "efficiencies"
   ]
  },
  {
   "cell_type": "code",
   "execution_count": 19,
   "metadata": {
    "collapsed": true
   },
   "outputs": [],
   "source": [
    "df_data = comp.load_data(config=config, columns=feature_list,\n",
    "                         log_energy_min=log_energy_min, log_energy_max=log_energy_max)"
   ]
  },
  {
   "cell_type": "code",
   "execution_count": 20,
   "metadata": {},
   "outputs": [
    {
     "data": {
      "text/plain": [
       "(4635230, 4)"
      ]
     },
     "execution_count": 20,
     "metadata": {},
     "output_type": "execute_result"
    }
   ],
   "source": [
    "df_data.shape"
   ]
  },
  {
   "cell_type": "code",
   "execution_count": 21,
   "metadata": {
    "collapsed": true
   },
   "outputs": [],
   "source": [
    "X_data = comp.dataframe_functions.dataframe_to_array(df_data, feature_list + ['reco_log_energy'])\n",
    "log_energy_data = X_data[:, -1]\n",
    "X_data = X_data[:, :-1]"
   ]
  },
  {
   "cell_type": "code",
   "execution_count": 22,
   "metadata": {},
   "outputs": [
    {
     "data": {
      "text/plain": [
       "(6.1000015895277429, 8.9919390048381054)"
      ]
     },
     "execution_count": 22,
     "metadata": {},
     "output_type": "execute_result"
    }
   ],
   "source": [
    "log_energy_data.min(), log_energy_data.max()"
   ]
  },
  {
   "cell_type": "code",
   "execution_count": 23,
   "metadata": {
    "collapsed": true
   },
   "outputs": [],
   "source": [
    "data_predictions = pipeline.predict(X_data)"
   ]
  },
  {
   "cell_type": "code",
   "execution_count": 24,
   "metadata": {
    "collapsed": true
   },
   "outputs": [],
   "source": [
    "# Get composition masks\n",
    "data_labels = np.array(comp.composition_encoding.decode_composition_groups(data_predictions, num_groups=num_groups))"
   ]
  },
  {
   "cell_type": "code",
   "execution_count": 25,
   "metadata": {
    "collapsed": true
   },
   "outputs": [],
   "source": [
    "# Get number of identified comp in each energy bin\n",
    "unfolding_df = pd.DataFrame()\n",
    "for composition in comp_list:\n",
    "    comp_mask = data_labels == composition\n",
    "    unfolding_df['counts_' + composition] = np.histogram(log_energy_data[comp_mask],\n",
    "                                                         bins=energybins.log_energy_bins)[0]\n",
    "    unfolding_df['counts_' + composition + '_err'] = np.sqrt(unfolding_df['counts_' + composition])\n",
    "\n",
    "unfolding_df['counts_total'] = np.histogram(log_energy_data, bins=energybins.log_energy_bins)[0]\n",
    "unfolding_df['counts_total_err'] = np.sqrt(unfolding_df['counts_total'])"
   ]
  },
  {
   "cell_type": "code",
   "execution_count": 26,
   "metadata": {
    "collapsed": true
   },
   "outputs": [],
   "source": [
    "unfolding_df.index.rename('log_energy_bin_idx', inplace=True)"
   ]
  },
  {
   "cell_type": "code",
   "execution_count": 27,
   "metadata": {},
   "outputs": [
    {
     "data": {
      "text/html": [
       "<div>\n",
       "<style>\n",
       "    .dataframe thead tr:only-child th {\n",
       "        text-align: right;\n",
       "    }\n",
       "\n",
       "    .dataframe thead th {\n",
       "        text-align: left;\n",
       "    }\n",
       "\n",
       "    .dataframe tbody tr th {\n",
       "        vertical-align: top;\n",
       "    }\n",
       "</style>\n",
       "<table border=\"1\" class=\"dataframe\">\n",
       "  <thead>\n",
       "    <tr style=\"text-align: right;\">\n",
       "      <th></th>\n",
       "      <th>counts_light</th>\n",
       "      <th>counts_light_err</th>\n",
       "      <th>counts_heavy</th>\n",
       "      <th>counts_heavy_err</th>\n",
       "      <th>counts_total</th>\n",
       "      <th>counts_total_err</th>\n",
       "    </tr>\n",
       "    <tr>\n",
       "      <th>log_energy_bin_idx</th>\n",
       "      <th></th>\n",
       "      <th></th>\n",
       "      <th></th>\n",
       "      <th></th>\n",
       "      <th></th>\n",
       "      <th></th>\n",
       "    </tr>\n",
       "  </thead>\n",
       "  <tbody>\n",
       "    <tr>\n",
       "      <th>0</th>\n",
       "      <td>536312</td>\n",
       "      <td>732.333257</td>\n",
       "      <td>598324</td>\n",
       "      <td>773.514059</td>\n",
       "      <td>1134636</td>\n",
       "      <td>1065.192940</td>\n",
       "    </tr>\n",
       "    <tr>\n",
       "      <th>1</th>\n",
       "      <td>522421</td>\n",
       "      <td>722.786967</td>\n",
       "      <td>569633</td>\n",
       "      <td>754.740353</td>\n",
       "      <td>1092054</td>\n",
       "      <td>1045.013876</td>\n",
       "    </tr>\n",
       "    <tr>\n",
       "      <th>2</th>\n",
       "      <td>388922</td>\n",
       "      <td>623.636112</td>\n",
       "      <td>456785</td>\n",
       "      <td>675.858713</td>\n",
       "      <td>845707</td>\n",
       "      <td>919.623292</td>\n",
       "    </tr>\n",
       "    <tr>\n",
       "      <th>3</th>\n",
       "      <td>230566</td>\n",
       "      <td>480.172886</td>\n",
       "      <td>313034</td>\n",
       "      <td>559.494415</td>\n",
       "      <td>543600</td>\n",
       "      <td>737.292344</td>\n",
       "    </tr>\n",
       "    <tr>\n",
       "      <th>4</th>\n",
       "      <td>153502</td>\n",
       "      <td>391.793313</td>\n",
       "      <td>207903</td>\n",
       "      <td>455.963814</td>\n",
       "      <td>361405</td>\n",
       "      <td>601.169693</td>\n",
       "    </tr>\n",
       "  </tbody>\n",
       "</table>\n",
       "</div>"
      ],
      "text/plain": [
       "                    counts_light  counts_light_err  counts_heavy  \\\n",
       "log_energy_bin_idx                                                 \n",
       "0                         536312        732.333257        598324   \n",
       "1                         522421        722.786967        569633   \n",
       "2                         388922        623.636112        456785   \n",
       "3                         230566        480.172886        313034   \n",
       "4                         153502        391.793313        207903   \n",
       "\n",
       "                    counts_heavy_err  counts_total  counts_total_err  \n",
       "log_energy_bin_idx                                                    \n",
       "0                         773.514059       1134636       1065.192940  \n",
       "1                         754.740353       1092054       1045.013876  \n",
       "2                         675.858713        845707        919.623292  \n",
       "3                         559.494415        543600        737.292344  \n",
       "4                         455.963814        361405        601.169693  "
      ]
     },
     "execution_count": 27,
     "metadata": {},
     "output_type": "execute_result"
    }
   ],
   "source": [
    "unfolding_df.head()"
   ]
  },
  {
   "cell_type": "code",
   "execution_count": 28,
   "metadata": {},
   "outputs": [
    {
     "data": {
      "image/png": "[encoded data removed]",
      "text/plain": [
       "<matplotlib.figure.Figure at 0x7fb44237ca50>"
      ]
     },
     "metadata": {},
     "output_type": "display_data"
    }
   ],
   "source": [
    "fig, ax = plt.subplots()\n",
    "for composition in comp_list:\n",
    "    ax.plot(unfolding_df['counts_{}'.format(composition)], color=color_dict[composition])\n",
    "ax.set_yscale(\"log\", nonposy='clip')\n",
    "ax.grid()\n",
    "plt.show()"
   ]
  },
  {
   "cell_type": "markdown",
   "metadata": {},
   "source": [
    "## Spectrum\n",
    "[ [back to top](#top) ]"
   ]
  },
  {
   "cell_type": "markdown",
   "metadata": {},
   "source": [
    "### Response matrix"
   ]
  },
  {
   "cell_type": "code",
   "execution_count": 29,
   "metadata": {
    "collapsed": true
   },
   "outputs": [],
   "source": [
    "test_predictions = pipeline.predict(df_sim_test[feature_list])\n",
    "true_comp = df_sim_test['comp_group_{}'.format(num_groups)].values\n",
    "pred_comp = np.array(comp.composition_encoding.decode_composition_groups(test_predictions,\n",
    "                                                                         num_groups=num_groups))"
   ]
  },
  {
   "cell_type": "code",
   "execution_count": 30,
   "metadata": {},
   "outputs": [
    {
     "data": {
      "text/plain": [
       "array(['heavy', 'light', 'heavy', ..., 'heavy', 'heavy', 'light'], dtype=object)"
      ]
     },
     "execution_count": 30,
     "metadata": {},
     "output_type": "execute_result"
    }
   ],
   "source": [
    "true_comp"
   ]
  },
  {
   "cell_type": "code",
   "execution_count": 31,
   "metadata": {},
   "outputs": [
    {
     "name": "stdout",
     "output_type": "stream",
     "text": [
      "[-1, 0, 1, 2, 3, 4, 5, 6, 7, 8, 9, 10, 11, 12, 13, 14, 15, 16, 17, 18, 19, 20, 21, 22, 23, 24]\n"
     ]
    }
   ],
   "source": [
    "true_ebin_idxs = np.digitize(log_true_energy_sim_test, energybins.log_energy_bins) - 1\n",
    "reco_ebin_idxs = np.digitize(log_reco_energy_sim_test, energybins.log_energy_bins) - 1\n",
    "energy_bin_idx = np.unique(true_ebin_idxs)\n",
    "print(range(-1, len(energybins.log_energy_midpoints)+1))\n",
    "\n",
    "hstack_list = []\n",
    "# for true_ebin_idx in energy_bin_idx:\n",
    "for true_ebin_idx in range(-1, len(energybins.log_energy_midpoints)+1):\n",
    "    if (true_ebin_idx == -1) or (true_ebin_idx == energybins.energy_midpoints.shape[0]):\n",
    "        continue\n",
    "    true_ebin_mask = true_ebin_idxs == true_ebin_idx\n",
    "    \n",
    "    vstack_list = []\n",
    "#     for reco_ebin_idx in energy_bin_idx:\n",
    "    for reco_ebin_idx in range(-1, len(energybins.log_energy_midpoints)+1):\n",
    "        if (reco_ebin_idx == -1) or (reco_ebin_idx == energybins.energy_midpoints.shape[0]):\n",
    "            continue\n",
    "        reco_ebin_mask = reco_ebin_idxs == reco_ebin_idx\n",
    "        \n",
    "        combined_mask = true_ebin_mask & reco_ebin_mask\n",
    "        if combined_mask.sum() == 0:\n",
    "            response_mat = np.zeros((num_groups, num_groups), dtype=int)\n",
    "        else:\n",
    "            response_mat = confusion_matrix(true_comp[true_ebin_mask & reco_ebin_mask],\n",
    "                                            pred_comp[true_ebin_mask & reco_ebin_mask],\n",
    "                                            labels=comp_list)\n",
    "        # Transpose response matrix to get MC comp on x-axis and reco comp on y-axis\n",
    "        response_mat = response_mat.T\n",
    "        vstack_list.append(response_mat)\n",
    "    hstack_list.append(np.vstack(vstack_list))\n",
    "    \n",
    "res = np.hstack(hstack_list)\n",
    "res_err = np.sqrt(res)"
   ]
  },
  {
   "cell_type": "code",
   "execution_count": 32,
   "metadata": {},
   "outputs": [
    {
     "data": {
      "text/plain": [
       "(48, 48)"
      ]
     },
     "execution_count": 32,
     "metadata": {},
     "output_type": "execute_result"
    }
   ],
   "source": [
    "res.shape"
   ]
  },
  {
   "cell_type": "code",
   "execution_count": 33,
   "metadata": {},
   "outputs": [
    {
     "data": {
      "text/plain": [
       "<matplotlib.image.AxesImage at 0x7fb307312110>"
      ]
     },
     "execution_count": 33,
     "metadata": {},
     "output_type": "execute_result"
    },
    {
     "data": {
      "image/png": "[encoded data removed]",
      "text/plain": [
       "<matplotlib.figure.Figure at 0x7fb3072eafd0>"
      ]
     },
     "metadata": {},
     "output_type": "display_data"
    }
   ],
   "source": [
    "plt.imshow(res, origin='lower')"
   ]
  },
  {
   "cell_type": "markdown",
   "metadata": {},
   "source": [
    "### Normalize response matrix column-wise (i.e. $P(E|C)$)"
   ]
  },
  {
   "cell_type": "code",
   "execution_count": 131,
   "metadata": {
    "collapsed": true,
    "scrolled": false
   },
   "outputs": [],
   "source": [
    "res_col_sum = res.sum(axis=0)\n",
    "res_col_sum_err = np.array([np.sqrt(np.nansum(res_err[:, i]**2)) for i in range(res_err.shape[1])])\n",
    "\n",
    "normalizations, normalizations_err = comp.analysis.ratio_error(res_col_sum, res_col_sum_err,\n",
    "                                                               efficiencies, efficiencies_err,\n",
    "                                                               nan_to_num=True)\n",
    "\n",
    "res_normalized, res_normalized_err = comp.analysis.ratio_error(res, res_err,\n",
    "                                                               normalizations, normalizations_err,\n",
    "                                                               nan_to_num=True)\n"
   ]
  },
  {
   "cell_type": "code",
   "execution_count": 132,
   "metadata": {
    "collapsed": true
   },
   "outputs": [],
   "source": [
    "res_normalized = np.nan_to_num(res_normalized)\n",
    "res_normalized_err = np.nan_to_num(res_normalized_err)"
   ]
  },
  {
   "cell_type": "code",
   "execution_count": 133,
   "metadata": {
    "collapsed": true
   },
   "outputs": [],
   "source": [
    "np.testing.assert_allclose(res_normalized.sum(axis=0), efficiencies)"
   ]
  },
  {
   "cell_type": "code",
   "execution_count": 134,
   "metadata": {},
   "outputs": [
    {
     "data": {
      "text/plain": [
       "array([[228,  84,  85, ...,   0,   0,   0],\n",
       "       [  5,   2,   4, ...,   0,   0,   0],\n",
       "       [ 10,  31,  44, ...,   0,   0,   0],\n",
       "       ..., \n",
       "       [  0,   0,   0, ..., 213,  42,   9],\n",
       "       [  0,   0,   0, ...,  43,  50,  29],\n",
       "       [  0,   0,   0, ...,  17,  53, 110]])"
      ]
     },
     "execution_count": 134,
     "metadata": {},
     "output_type": "execute_result"
    }
   ],
   "source": [
    "res"
   ]
  },
  {
   "cell_type": "code",
   "execution_count": 135,
   "metadata": {},
   "outputs": [
    {
     "data": {
      "image/png": "[encoded data removed]",
      "text/plain": [
       "<matplotlib.figure.Figure at 0x7f7c09f8bad0>"
      ]
     },
     "metadata": {},
     "output_type": "display_data"
    }
   ],
   "source": [
    "fig, ax = plt.subplots()\n",
    "# h = np.flipud(block_response)\n",
    "idx = 4*num_groups\n",
    "sns.heatmap(res[idx:idx+num_groups, idx:idx+num_groups], annot=True, fmt='d', ax=ax, square=True,\n",
    "            xticklabels=comp_list, yticklabels=comp_list,\n",
    "            cbar_kws={'label': 'Counts'}, vmin=0, cmap='viridis')\n",
    "ax.invert_yaxis()\n",
    "plt.xlabel('True composition')\n",
    "plt.ylabel('Pred composition')\n",
    "plt.title('$\\mathrm{7.6 < \\log_{10}(E_{true}/GeV) < 7.7}$' + '\\n$\\mathrm{7.6 < \\log_{10}(E_{reco}/GeV) < 7.7}$')\n",
    "# res_mat_outfile = os.path.join(comp.paths.figures_dir, 'unfolding', 'response-matrix-single-energy-bin.png')\n",
    "# comp.check_output_dir(res_mat_outfile)\n",
    "# plt.savefig(res_mat_outfile)\n",
    "plt.show()"
   ]
  },
  {
   "cell_type": "code",
   "execution_count": 136,
   "metadata": {},
   "outputs": [
    {
     "data": {
      "image/png": "[encoded data removed]",
      "text/plain": [
       "<matplotlib.figure.Figure at 0x7f7c0a07d410>"
      ]
     },
     "metadata": {},
     "output_type": "display_data"
    }
   ],
   "source": [
    "plt.imshow(res, origin='lower', cmap='viridis')\n",
    "plt.plot([0, res.shape[0]-1], [0, res.shape[1]-1], marker='None', ls=':', color='C1')\n",
    "\n",
    "# ax = sns.heatmap(res, square=True, xticklabels=2, yticklabels=2, \n",
    "# ax = sns.heatmap(res, square=True, mask=res==0, xticklabels=2, yticklabels=2, \n",
    "#             cbar_kws={'label': 'Counts'})\n",
    "\n",
    "ax.plot([0, res.shape[0]-1], [0, res.shape[1]-1], marker='None', ls=':', color='C1')\n",
    "\n",
    "# ax.invert_yaxis()\n",
    "\n",
    "for i in np.arange(0, res.shape[0], 2):\n",
    "    plt.axvline(i-0.5, marker='None', ls='-', lw=0.5, color='gray')\n",
    "# for i in np.arange(0, res.shape[0], 2):\n",
    "#     plt.axvline(i+0.5, marker='None', ls=':', color='gray')\n",
    "for i in np.arange(0, res.shape[0], 2):\n",
    "    plt.axhline(i-0.5, marker='None', ls='-', lw=0.5, color='gray')\n",
    "# for i in np.arange(0, res.shape[0], 2):\n",
    "#     plt.axhline(i+0.5, marker='None', ls=':', color='gray')\n",
    "    \n",
    "plt.xlabel('True bin')\n",
    "plt.ylabel('Reconstructed bin')\n",
    "# plt.grid()\n",
    "\n",
    "# plt.xticks(np.arange(0.5, res.shape[0], 2),\n",
    "#            ['{}'.format(i+1) for i in range(res.shape[0])], \n",
    "#            rotation='vertical')\n",
    "# plt.yticks(np.arange(0.5, res.shape[0], 2),\n",
    "#            ['{}'.format(i+1) for i in range(res.shape[0])])\n",
    "\n",
    "plt.colorbar(label='Counts')\n",
    "\n",
    "res_mat_outfile = os.path.join(comp.paths.figures_dir, 'unfolding', 'response-statistics.png')\n",
    "comp.check_output_dir(res_mat_outfile)\n",
    "# plt.savefig(res_mat_outfile)\n",
    "plt.show()"
   ]
  },
  {
   "cell_type": "code",
   "execution_count": 137,
   "metadata": {},
   "outputs": [
    {
     "data": {
      "image/png": "[encoded data removed]",
      "text/plain": [
       "<matplotlib.figure.Figure at 0x7f7c09faef50>"
      ]
     },
     "metadata": {},
     "output_type": "display_data"
    }
   ],
   "source": [
    "plt.imshow(np.sqrt(res), origin='lower', cmap='viridis')\n",
    "plt.plot([0, res.shape[0]-1], [0, res.shape[1]-1], marker='None', ls=':', color='C1')\n",
    "\n",
    "for i in np.arange(0, res.shape[0], 2):\n",
    "    plt.axvline(i-0.5, marker='None', ls='-', lw=0.5, color='gray')\n",
    "for i in np.arange(0, res.shape[0], 2):\n",
    "    plt.axhline(i-0.5, marker='None', ls='-', lw=0.5, color='gray')\n",
    "    \n",
    "plt.xlabel('True bin')\n",
    "plt.ylabel('Reconstructed bin')\n",
    "\n",
    "plt.colorbar(label='Count errors', format='%d')\n",
    "\n",
    "res_mat_outfile = os.path.join(comp.paths.figures_dir, 'unfolding', 'response-statistics-err.png')\n",
    "comp.check_output_dir(res_mat_outfile)\n",
    "# plt.savefig(res_mat_outfile)\n",
    "plt.show()"
   ]
  },
  {
   "cell_type": "code",
   "execution_count": 138,
   "metadata": {},
   "outputs": [
    {
     "data": {
      "image/png": "[encoded data removed]",
      "text/plain": [
       "<matplotlib.figure.Figure at 0x7f7e0c807390>"
      ]
     },
     "metadata": {},
     "output_type": "display_data"
    }
   ],
   "source": [
    "plt.imshow(res_normalized, origin='lower', cmap='viridis')\n",
    "plt.plot([0, res.shape[0]-1], [0, res.shape[1]-1], marker='None', ls=':', color='C1')\n",
    "\n",
    "# for i in np.arange(0, res.shape[0], 2):\n",
    "#     plt.axvline(i-0.5, marker='None', ls='-', lw=0.5, color='gray')\n",
    "# for i in np.arange(0, res.shape[0], 2):\n",
    "#     plt.axhline(i-0.5, marker='None', ls='-', lw=0.5, color='gray')\n",
    "    \n",
    "plt.xlabel('True bin')\n",
    "plt.ylabel('Reconstructed bin')\n",
    "plt.title('Response matrix')\n",
    "\n",
    "# plt.colorbar(label='A.U.')\n",
    "plt.colorbar(label='$\\mathrm{P(E_i|C_{\\mu})}$')\n",
    "\n",
    "res_mat_outfile = os.path.join(comp.paths.figures_dir, 'unfolding', config, 'response_matrix',\n",
    "                               'response-matrix_{}-groups.png'.format(num_groups))\n",
    "comp.check_output_dir(res_mat_outfile)\n",
    "plt.savefig(res_mat_outfile)\n",
    "plt.show()"
   ]
  },
  {
   "cell_type": "code",
   "execution_count": 139,
   "metadata": {},
   "outputs": [
    {
     "data": {
      "image/png": "[encoded data removed]",
      "text/plain": [
       "<matplotlib.figure.Figure at 0x7f7c09ec6990>"
      ]
     },
     "metadata": {},
     "output_type": "display_data"
    }
   ],
   "source": [
    "plt.imshow(res_normalized_err, origin='lower', cmap='viridis')\n",
    "plt.plot([0, res.shape[0]-1], [0, res.shape[1]-1], marker='None', ls=':', color='C1')\n",
    "\n",
    "# for i in np.arange(0, res.shape[0], 2):\n",
    "#     plt.axvline(i-0.5, marker='None', ls='-', lw=0.5, color='gray')\n",
    "# for i in np.arange(0, res.shape[0], 2):\n",
    "#     plt.axhline(i-0.5, marker='None', ls='-', lw=0.5, color='gray')\n",
    "    \n",
    "plt.xlabel('True bin')\n",
    "plt.ylabel('Reconstructed bin')\n",
    "plt.title('Response matrix error')\n",
    "\n",
    "plt.colorbar(label='$\\mathrm{\\delta P(E_i|C_{\\mu})}$')\n",
    "\n",
    "res_mat_outfile = os.path.join(comp.paths.figures_dir, 'unfolding', 'response-matrix-err.png')\n",
    "comp.check_output_dir(res_mat_outfile)\n",
    "# plt.savefig(res_mat_outfile)\n",
    "plt.show()"
   ]
  },
  {
   "cell_type": "code",
   "execution_count": 140,
   "metadata": {
    "collapsed": true
   },
   "outputs": [],
   "source": [
    "res_mat_outfile = os.path.join(comp.paths.comp_data_dir, config, 'unfolding', \n",
    "                               'response_{}-groups.txt'.format(num_groups))\n",
    "res_mat_err_outfile = os.path.join(comp.paths.comp_data_dir, config, 'unfolding', \n",
    "                                   'response_err_{}-groups.txt'.format(num_groups))\n",
    "\n",
    "comp.check_output_dir(res_mat_outfile)\n",
    "comp.check_output_dir(res_mat_err_outfile)\n",
    "\n",
    "np.savetxt(res_mat_outfile, res_normalized)\n",
    "np.savetxt(res_mat_err_outfile, res_normalized_err)"
   ]
  },
  {
   "cell_type": "markdown",
   "metadata": {},
   "source": [
    "### Priors array"
   ]
  },
  {
   "cell_type": "code",
   "execution_count": 141,
   "metadata": {
    "collapsed": true
   },
   "outputs": [],
   "source": [
    "from icecube.weighting.weighting import from_simprod, PDGCode, ParticleType\n",
    "from icecube.weighting.fluxes import GaisserH3a, GaisserH4a, Hoerandel5, Hoerandel_IT, CompiledFlux"
   ]
  },
  {
   "cell_type": "code",
   "execution_count": 142,
   "metadata": {},
   "outputs": [
    {
     "data": {
      "text/html": [
       "<div>\n",
       "<style>\n",
       "    .dataframe thead tr:only-child th {\n",
       "        text-align: right;\n",
       "    }\n",
       "\n",
       "    .dataframe thead th {\n",
       "        text-align: left;\n",
       "    }\n",
       "\n",
       "    .dataframe tbody tr th {\n",
       "        vertical-align: top;\n",
       "    }\n",
       "</style>\n",
       "<table border=\"1\" class=\"dataframe\">\n",
       "  <thead>\n",
       "    <tr style=\"text-align: right;\">\n",
       "      <th></th>\n",
       "      <th>FractionContainment_Laputop_IceTop</th>\n",
       "      <th>FractionContainment_Laputop_InIce</th>\n",
       "      <th>FractionContainment_MCPrimary_IceTop</th>\n",
       "      <th>FractionContainment_MCPrimary_InIce</th>\n",
       "      <th>IceTopMaxSignal</th>\n",
       "      <th>IceTopMaxSignalInEdge</th>\n",
       "      <th>IceTopMaxSignalString</th>\n",
       "      <th>IceTopNeighbourMaxSignal</th>\n",
       "      <th>InIce_charge_1_60</th>\n",
       "      <th>MC_azimuth</th>\n",
       "      <th>...</th>\n",
       "      <th>lap_log_energy</th>\n",
       "      <th>lap_cos_zenith</th>\n",
       "      <th>log_s50</th>\n",
       "      <th>log_s80</th>\n",
       "      <th>log_s125</th>\n",
       "      <th>log_s180</th>\n",
       "      <th>log_s250</th>\n",
       "      <th>log_s500</th>\n",
       "      <th>log_dEdX</th>\n",
       "      <th>reco_log_energy</th>\n",
       "    </tr>\n",
       "  </thead>\n",
       "  <tbody>\n",
       "    <tr>\n",
       "      <th>12360_9_58_0</th>\n",
       "      <td>0.599457</td>\n",
       "      <td>0.825440</td>\n",
       "      <td>0.603860</td>\n",
       "      <td>0.834725</td>\n",
       "      <td>915.565613</td>\n",
       "      <td>0</td>\n",
       "      <td>64</td>\n",
       "      <td>266.637909</td>\n",
       "      <td>72.200000</td>\n",
       "      <td>2.912543</td>\n",
       "      <td>...</td>\n",
       "      <td>5.993534</td>\n",
       "      <td>0.970588</td>\n",
       "      <td>0.965718</td>\n",
       "      <td>0.472972</td>\n",
       "      <td>-0.018253</td>\n",
       "      <td>-0.436491</td>\n",
       "      <td>-0.826276</td>\n",
       "      <td>-1.689150</td>\n",
       "      <td>0.669241</td>\n",
       "      <td>6.017261</td>\n",
       "    </tr>\n",
       "    <tr>\n",
       "      <th>12360_10_14_0</th>\n",
       "      <td>0.672916</td>\n",
       "      <td>0.596048</td>\n",
       "      <td>0.675481</td>\n",
       "      <td>0.649017</td>\n",
       "      <td>28.609421</td>\n",
       "      <td>0</td>\n",
       "      <td>29</td>\n",
       "      <td>12.178488</td>\n",
       "      <td>180.050000</td>\n",
       "      <td>5.673565</td>\n",
       "      <td>...</td>\n",
       "      <td>6.033214</td>\n",
       "      <td>0.932002</td>\n",
       "      <td>1.058991</td>\n",
       "      <td>0.515847</td>\n",
       "      <td>-0.023232</td>\n",
       "      <td>-0.480570</td>\n",
       "      <td>-0.905580</td>\n",
       "      <td>-1.842779</td>\n",
       "      <td>0.733548</td>\n",
       "      <td>6.047088</td>\n",
       "    </tr>\n",
       "    <tr>\n",
       "      <th>12360_10_22_0</th>\n",
       "      <td>0.537961</td>\n",
       "      <td>0.760892</td>\n",
       "      <td>0.543832</td>\n",
       "      <td>0.771945</td>\n",
       "      <td>101.481819</td>\n",
       "      <td>0</td>\n",
       "      <td>38</td>\n",
       "      <td>68.172859</td>\n",
       "      <td>244.275001</td>\n",
       "      <td>5.673565</td>\n",
       "      <td>...</td>\n",
       "      <td>6.041893</td>\n",
       "      <td>0.925519</td>\n",
       "      <td>1.140504</td>\n",
       "      <td>0.560367</td>\n",
       "      <td>-0.013838</td>\n",
       "      <td>-0.499876</td>\n",
       "      <td>-0.950742</td>\n",
       "      <td>-1.942496</td>\n",
       "      <td>0.758869</td>\n",
       "      <td>6.054328</td>\n",
       "    </tr>\n",
       "    <tr>\n",
       "      <th>12360_10_39_0</th>\n",
       "      <td>0.676321</td>\n",
       "      <td>0.597996</td>\n",
       "      <td>0.674722</td>\n",
       "      <td>0.655864</td>\n",
       "      <td>20.867756</td>\n",
       "      <td>0</td>\n",
       "      <td>20</td>\n",
       "      <td>10.946673</td>\n",
       "      <td>165.950000</td>\n",
       "      <td>5.673565</td>\n",
       "      <td>...</td>\n",
       "      <td>6.054139</td>\n",
       "      <td>0.930699</td>\n",
       "      <td>1.007560</td>\n",
       "      <td>0.502415</td>\n",
       "      <td>-0.000583</td>\n",
       "      <td>-0.428441</td>\n",
       "      <td>-0.826892</td>\n",
       "      <td>-1.708051</td>\n",
       "      <td>0.363861</td>\n",
       "      <td>6.040946</td>\n",
       "    </tr>\n",
       "    <tr>\n",
       "      <th>12360_10_55_0</th>\n",
       "      <td>0.255498</td>\n",
       "      <td>0.933506</td>\n",
       "      <td>0.248732</td>\n",
       "      <td>0.951277</td>\n",
       "      <td>37.628693</td>\n",
       "      <td>0</td>\n",
       "      <td>80</td>\n",
       "      <td>21.158876</td>\n",
       "      <td>27.025000</td>\n",
       "      <td>5.673565</td>\n",
       "      <td>...</td>\n",
       "      <td>6.001900</td>\n",
       "      <td>0.926979</td>\n",
       "      <td>1.077422</td>\n",
       "      <td>0.507438</td>\n",
       "      <td>-0.057127</td>\n",
       "      <td>-0.535289</td>\n",
       "      <td>-0.979059</td>\n",
       "      <td>-1.955840</td>\n",
       "      <td>0.663036</td>\n",
       "      <td>6.029730</td>\n",
       "    </tr>\n",
       "  </tbody>\n",
       "</table>\n",
       "<p>5 rows × 75 columns</p>\n",
       "</div>"
      ],
      "text/plain": [
       "               FractionContainment_Laputop_IceTop  \\\n",
       "12360_9_58_0                             0.599457   \n",
       "12360_10_14_0                            0.672916   \n",
       "12360_10_22_0                            0.537961   \n",
       "12360_10_39_0                            0.676321   \n",
       "12360_10_55_0                            0.255498   \n",
       "\n",
       "               FractionContainment_Laputop_InIce  \\\n",
       "12360_9_58_0                            0.825440   \n",
       "12360_10_14_0                           0.596048   \n",
       "12360_10_22_0                           0.760892   \n",
       "12360_10_39_0                           0.597996   \n",
       "12360_10_55_0                           0.933506   \n",
       "\n",
       "               FractionContainment_MCPrimary_IceTop  \\\n",
       "12360_9_58_0                               0.603860   \n",
       "12360_10_14_0                              0.675481   \n",
       "12360_10_22_0                              0.543832   \n",
       "12360_10_39_0                              0.674722   \n",
       "12360_10_55_0                              0.248732   \n",
       "\n",
       "               FractionContainment_MCPrimary_InIce  IceTopMaxSignal  \\\n",
       "12360_9_58_0                              0.834725       915.565613   \n",
       "12360_10_14_0                             0.649017        28.609421   \n",
       "12360_10_22_0                             0.771945       101.481819   \n",
       "12360_10_39_0                             0.655864        20.867756   \n",
       "12360_10_55_0                             0.951277        37.628693   \n",
       "\n",
       "               IceTopMaxSignalInEdge  IceTopMaxSignalString  \\\n",
       "12360_9_58_0                       0                     64   \n",
       "12360_10_14_0                      0                     29   \n",
       "12360_10_22_0                      0                     38   \n",
       "12360_10_39_0                      0                     20   \n",
       "12360_10_55_0                      0                     80   \n",
       "\n",
       "               IceTopNeighbourMaxSignal  InIce_charge_1_60  MC_azimuth  \\\n",
       "12360_9_58_0                 266.637909          72.200000    2.912543   \n",
       "12360_10_14_0                 12.178488         180.050000    5.673565   \n",
       "12360_10_22_0                 68.172859         244.275001    5.673565   \n",
       "12360_10_39_0                 10.946673         165.950000    5.673565   \n",
       "12360_10_55_0                 21.158876          27.025000    5.673565   \n",
       "\n",
       "                    ...        lap_log_energy lap_cos_zenith   log_s50  \\\n",
       "12360_9_58_0        ...              5.993534       0.970588  0.965718   \n",
       "12360_10_14_0       ...              6.033214       0.932002  1.058991   \n",
       "12360_10_22_0       ...              6.041893       0.925519  1.140504   \n",
       "12360_10_39_0       ...              6.054139       0.930699  1.007560   \n",
       "12360_10_55_0       ...              6.001900       0.926979  1.077422   \n",
       "\n",
       "                log_s80  log_s125  log_s180  log_s250  log_s500  log_dEdX  \\\n",
       "12360_9_58_0   0.472972 -0.018253 -0.436491 -0.826276 -1.689150  0.669241   \n",
       "12360_10_14_0  0.515847 -0.023232 -0.480570 -0.905580 -1.842779  0.733548   \n",
       "12360_10_22_0  0.560367 -0.013838 -0.499876 -0.950742 -1.942496  0.758869   \n",
       "12360_10_39_0  0.502415 -0.000583 -0.428441 -0.826892 -1.708051  0.363861   \n",
       "12360_10_55_0  0.507438 -0.057127 -0.535289 -0.979059 -1.955840  0.663036   \n",
       "\n",
       "               reco_log_energy  \n",
       "12360_9_58_0          6.017261  \n",
       "12360_10_14_0         6.047088  \n",
       "12360_10_22_0         6.054328  \n",
       "12360_10_39_0         6.040946  \n",
       "12360_10_55_0         6.029730  \n",
       "\n",
       "[5 rows x 75 columns]"
      ]
     },
     "execution_count": 142,
     "metadata": {},
     "output_type": "execute_result"
    }
   ],
   "source": [
    "df_sim = comp.load_sim(config=config, test_size=0, log_energy_min=6.0, log_energy_max=8.3)\n",
    "df_sim.head()"
   ]
  },
  {
   "cell_type": "code",
   "execution_count": 143,
   "metadata": {
    "collapsed": true
   },
   "outputs": [],
   "source": [
    "p = PDGCode().values\n",
    "pdg_codes = np.array([2212, 1000020040, 1000080160, 1000260560])\n",
    "particle_names = [p[pdg_code].name for pdg_code in pdg_codes]"
   ]
  },
  {
   "cell_type": "code",
   "execution_count": 144,
   "metadata": {},
   "outputs": [
    {
     "data": {
      "text/plain": [
       "['PPlus', 'He4Nucleus', 'O16Nucleus', 'Fe56Nucleus']"
      ]
     },
     "execution_count": 144,
     "metadata": {},
     "output_type": "execute_result"
    }
   ],
   "source": [
    "particle_names"
   ]
  },
  {
   "cell_type": "code",
   "execution_count": 145,
   "metadata": {},
   "outputs": [
    {
     "data": {
      "text/plain": [
       "array(['light', 'light', 'intermediate', 'heavy'], \n",
       "      dtype='|S12')"
      ]
     },
     "execution_count": 145,
     "metadata": {},
     "output_type": "execute_result"
    }
   ],
   "source": [
    "group_names = np.array(comp.composition_encoding.composition_group_labels(particle_names, num_groups=num_groups))\n",
    "group_names"
   ]
  },
  {
   "cell_type": "code",
   "execution_count": 146,
   "metadata": {
    "collapsed": true
   },
   "outputs": [],
   "source": [
    "comp_to_pdg_list = {composition: pdg_codes[group_names == composition] for composition in comp_list}"
   ]
  },
  {
   "cell_type": "code",
   "execution_count": 147,
   "metadata": {
    "scrolled": true
   },
   "outputs": [
    {
     "data": {
      "text/plain": [
       "{'heavy': array([1000260560]),\n",
       " 'intermediate': array([1000080160]),\n",
       " 'light': array([      2212, 1000020040])}"
      ]
     },
     "execution_count": 147,
     "metadata": {},
     "output_type": "execute_result"
    }
   ],
   "source": [
    "comp_to_pdg_list"
   ]
  },
  {
   "cell_type": "code",
   "execution_count": 148,
   "metadata": {
    "collapsed": true
   },
   "outputs": [],
   "source": [
    "# Replace O16Nucleus with N14Nucleus + Al27Nucleus\n",
    "for composition, pdg_list in comp_to_pdg_list.iteritems():\n",
    "    if 1000080160 in pdg_list:\n",
    "        pdg_list = pdg_list[pdg_list != 1000080160]\n",
    "        comp_to_pdg_list[composition] = np.append(pdg_list, [1000070140, 1000130270])\n",
    "    else:\n",
    "        continue"
   ]
  },
  {
   "cell_type": "code",
   "execution_count": 149,
   "metadata": {},
   "outputs": [
    {
     "data": {
      "text/plain": [
       "{'heavy': array([1000260560]),\n",
       " 'intermediate': array([1000070140, 1000130270]),\n",
       " 'light': array([      2212, 1000020040])}"
      ]
     },
     "execution_count": 149,
     "metadata": {},
     "output_type": "execute_result"
    }
   ],
   "source": [
    "comp_to_pdg_list"
   ]
  },
  {
   "cell_type": "code",
   "execution_count": 150,
   "metadata": {
    "collapsed": true
   },
   "outputs": [],
   "source": [
    "priors_list = ['H3a', 'H4a', 'Polygonato']"
   ]
  },
  {
   "cell_type": "code",
   "execution_count": 151,
   "metadata": {
    "collapsed": true
   },
   "outputs": [],
   "source": [
    "# priors_list = ['h3a', 'h4a', 'antih3a', 'Hoerandel5', 'antiHoerandel5']\n",
    "# # priors_list = ['h3a', 'h4a', 'antih3a', 'Hoerandel5', 'antiHoerandel5', 'uniform', 'alllight', 'allheavy']\n",
    "# model_ptypes = {}\n",
    "# model_ptypes['h3a'] = {'light': [2212, 1000020040], 'heavy': [1000070140, 1000130270, 1000260560]}\n",
    "# model_ptypes['h4a'] = {'light': [2212, 1000020040], 'heavy': [1000070140, 1000130270, 1000260560]}\n",
    "# model_ptypes['Hoerandel5'] = {'light': [2212, 1000020040], 'heavy': [1000070140, 1000130270, 1000260560]}"
   ]
  },
  {
   "cell_type": "code",
   "execution_count": 152,
   "metadata": {},
   "outputs": [
    {
     "data": {
      "image/png": "[encoded data removed]",
      "text/plain": [
       "<matplotlib.figure.Figure at 0x7f7c0a077490>"
      ]
     },
     "metadata": {},
     "output_type": "display_data"
    },
    {
     "data": {
      "text/html": [
       "<div>\n",
       "<style>\n",
       "    .dataframe thead tr:only-child th {\n",
       "        text-align: right;\n",
       "    }\n",
       "\n",
       "    .dataframe thead th {\n",
       "        text-align: left;\n",
       "    }\n",
       "\n",
       "    .dataframe tbody tr th {\n",
       "        vertical-align: top;\n",
       "    }\n",
       "</style>\n",
       "<table border=\"1\" class=\"dataframe\">\n",
       "  <thead>\n",
       "    <tr style=\"text-align: right;\">\n",
       "      <th></th>\n",
       "      <th>counts_light</th>\n",
       "      <th>counts_light_err</th>\n",
       "      <th>counts_intermediate</th>\n",
       "      <th>counts_intermediate_err</th>\n",
       "      <th>counts_heavy</th>\n",
       "      <th>counts_heavy_err</th>\n",
       "      <th>counts_total</th>\n",
       "      <th>counts_total_err</th>\n",
       "      <th>H3a_flux_light</th>\n",
       "      <th>H3a_flux_intermediate</th>\n",
       "      <th>H3a_flux_heavy</th>\n",
       "      <th>H4a_flux_light</th>\n",
       "      <th>H4a_flux_intermediate</th>\n",
       "      <th>H4a_flux_heavy</th>\n",
       "      <th>Polygonato_flux_light</th>\n",
       "      <th>Polygonato_flux_intermediate</th>\n",
       "      <th>Polygonato_flux_heavy</th>\n",
       "    </tr>\n",
       "    <tr>\n",
       "      <th>log_energy_bin_idx</th>\n",
       "      <th></th>\n",
       "      <th></th>\n",
       "      <th></th>\n",
       "      <th></th>\n",
       "      <th></th>\n",
       "      <th></th>\n",
       "      <th></th>\n",
       "      <th></th>\n",
       "      <th></th>\n",
       "      <th></th>\n",
       "      <th></th>\n",
       "      <th></th>\n",
       "      <th></th>\n",
       "      <th></th>\n",
       "      <th></th>\n",
       "      <th></th>\n",
       "      <th></th>\n",
       "    </tr>\n",
       "  </thead>\n",
       "  <tbody>\n",
       "    <tr>\n",
       "      <th>0</th>\n",
       "      <td>1457721</td>\n",
       "      <td>1207.361172</td>\n",
       "      <td>43116</td>\n",
       "      <td>207.643926</td>\n",
       "      <td>294313</td>\n",
       "      <td>542.506221</td>\n",
       "      <td>1795150</td>\n",
       "      <td>1339.832079</td>\n",
       "      <td>7.187420e-13</td>\n",
       "      <td>2.431070e-13</td>\n",
       "      <td>1.651639e-13</td>\n",
       "      <td>7.333020e-13</td>\n",
       "      <td>2.391451e-13</td>\n",
       "      <td>1.631829e-13</td>\n",
       "      <td>4.929408e-13</td>\n",
       "      <td>2.394229e-13</td>\n",
       "      <td>1.626849e-13</td>\n",
       "    </tr>\n",
       "    <tr>\n",
       "      <th>1</th>\n",
       "      <td>1132154</td>\n",
       "      <td>1064.027255</td>\n",
       "      <td>24671</td>\n",
       "      <td>157.070048</td>\n",
       "      <td>425020</td>\n",
       "      <td>651.935580</td>\n",
       "      <td>1581845</td>\n",
       "      <td>1257.714196</td>\n",
       "      <td>3.743101e-13</td>\n",
       "      <td>1.326787e-13</td>\n",
       "      <td>9.061387e-14</td>\n",
       "      <td>3.821589e-13</td>\n",
       "      <td>1.303989e-13</td>\n",
       "      <td>8.947391e-14</td>\n",
       "      <td>2.569923e-13</td>\n",
       "      <td>1.291849e-13</td>\n",
       "      <td>8.980226e-14</td>\n",
       "    </tr>\n",
       "    <tr>\n",
       "      <th>2</th>\n",
       "      <td>808442</td>\n",
       "      <td>899.134028</td>\n",
       "      <td>21007</td>\n",
       "      <td>144.937918</td>\n",
       "      <td>296194</td>\n",
       "      <td>544.237081</td>\n",
       "      <td>1125643</td>\n",
       "      <td>1060.963242</td>\n",
       "      <td>1.925426e-13</td>\n",
       "      <td>7.229419e-14</td>\n",
       "      <td>4.969588e-14</td>\n",
       "      <td>1.967681e-13</td>\n",
       "      <td>7.098235e-14</td>\n",
       "      <td>4.903990e-14</td>\n",
       "      <td>1.318928e-13</td>\n",
       "      <td>6.966331e-14</td>\n",
       "      <td>4.956720e-14</td>\n",
       "    </tr>\n",
       "    <tr>\n",
       "      <th>3</th>\n",
       "      <td>566089</td>\n",
       "      <td>752.388862</td>\n",
       "      <td>15537</td>\n",
       "      <td>124.647503</td>\n",
       "      <td>175464</td>\n",
       "      <td>418.884232</td>\n",
       "      <td>757090</td>\n",
       "      <td>870.109189</td>\n",
       "      <td>9.758423e-14</td>\n",
       "      <td>3.930950e-14</td>\n",
       "      <td>2.724088e-14</td>\n",
       "      <td>9.985590e-14</td>\n",
       "      <td>3.855464e-14</td>\n",
       "      <td>2.686341e-14</td>\n",
       "      <td>6.629980e-14</td>\n",
       "      <td>3.753236e-14</td>\n",
       "      <td>2.735588e-14</td>\n",
       "    </tr>\n",
       "    <tr>\n",
       "      <th>4</th>\n",
       "      <td>391163</td>\n",
       "      <td>625.430252</td>\n",
       "      <td>13319</td>\n",
       "      <td>115.407972</td>\n",
       "      <td>130735</td>\n",
       "      <td>361.572953</td>\n",
       "      <td>535217</td>\n",
       "      <td>731.585265</td>\n",
       "      <td>4.859649e-14</td>\n",
       "      <td>2.131730e-14</td>\n",
       "      <td>1.492133e-14</td>\n",
       "      <td>4.981589e-14</td>\n",
       "      <td>2.088294e-14</td>\n",
       "      <td>1.470413e-14</td>\n",
       "      <td>3.247099e-14</td>\n",
       "      <td>2.019331e-14</td>\n",
       "      <td>1.509482e-14</td>\n",
       "    </tr>\n",
       "  </tbody>\n",
       "</table>\n",
       "</div>"
      ],
      "text/plain": [
       "                    counts_light  counts_light_err  counts_intermediate  \\\n",
       "log_energy_bin_idx                                                        \n",
       "0                        1457721       1207.361172                43116   \n",
       "1                        1132154       1064.027255                24671   \n",
       "2                         808442        899.134028                21007   \n",
       "3                         566089        752.388862                15537   \n",
       "4                         391163        625.430252                13319   \n",
       "\n",
       "                    counts_intermediate_err  counts_heavy  counts_heavy_err  \\\n",
       "log_energy_bin_idx                                                            \n",
       "0                                207.643926        294313        542.506221   \n",
       "1                                157.070048        425020        651.935580   \n",
       "2                                144.937918        296194        544.237081   \n",
       "3                                124.647503        175464        418.884232   \n",
       "4                                115.407972        130735        361.572953   \n",
       "\n",
       "                    counts_total  counts_total_err  H3a_flux_light  \\\n",
       "log_energy_bin_idx                                                   \n",
       "0                        1795150       1339.832079    7.187420e-13   \n",
       "1                        1581845       1257.714196    3.743101e-13   \n",
       "2                        1125643       1060.963242    1.925426e-13   \n",
       "3                         757090        870.109189    9.758423e-14   \n",
       "4                         535217        731.585265    4.859649e-14   \n",
       "\n",
       "                    H3a_flux_intermediate  H3a_flux_heavy  H4a_flux_light  \\\n",
       "log_energy_bin_idx                                                          \n",
       "0                            2.431070e-13    1.651639e-13    7.333020e-13   \n",
       "1                            1.326787e-13    9.061387e-14    3.821589e-13   \n",
       "2                            7.229419e-14    4.969588e-14    1.967681e-13   \n",
       "3                            3.930950e-14    2.724088e-14    9.985590e-14   \n",
       "4                            2.131730e-14    1.492133e-14    4.981589e-14   \n",
       "\n",
       "                    H4a_flux_intermediate  H4a_flux_heavy  \\\n",
       "log_energy_bin_idx                                          \n",
       "0                            2.391451e-13    1.631829e-13   \n",
       "1                            1.303989e-13    8.947391e-14   \n",
       "2                            7.098235e-14    4.903990e-14   \n",
       "3                            3.855464e-14    2.686341e-14   \n",
       "4                            2.088294e-14    1.470413e-14   \n",
       "\n",
       "                    Polygonato_flux_light  Polygonato_flux_intermediate  \\\n",
       "log_energy_bin_idx                                                        \n",
       "0                            4.929408e-13                  2.394229e-13   \n",
       "1                            2.569923e-13                  1.291849e-13   \n",
       "2                            1.318928e-13                  6.966331e-14   \n",
       "3                            6.629980e-14                  3.753236e-14   \n",
       "4                            3.247099e-14                  2.019331e-14   \n",
       "\n",
       "                    Polygonato_flux_heavy  \n",
       "log_energy_bin_idx                         \n",
       "0                            1.626849e-13  \n",
       "1                            8.980226e-14  \n",
       "2                            4.956720e-14  \n",
       "3                            2.735588e-14  \n",
       "4                            1.509482e-14  "
      ]
     },
     "execution_count": 152,
     "metadata": {},
     "output_type": "execute_result"
    }
   ],
   "source": [
    "fig, ax = plt.subplots()\n",
    "for flux, name, marker in zip([GaisserH3a(), GaisserH4a(), Hoerandel5()],\n",
    "                              priors_list,\n",
    "                              '.^*o'):\n",
    "    for composition in comp_list:\n",
    "        comp_flux = []\n",
    "        for energy_mid in energybins.energy_midpoints:\n",
    "            flux_energy_mid = flux(energy_mid, comp_to_pdg_list[composition]).sum()\n",
    "            comp_flux.append(flux_energy_mid)\n",
    "        # Normalize flux in each energy bin to a probability\n",
    "        comp_flux = np.asarray(comp_flux)\n",
    "        prior_key = '{}_flux_{}'.format(name, composition)\n",
    "        unfolding_df[prior_key] = comp_flux\n",
    "        \n",
    "        # Plot result\n",
    "        ax.plot(energybins.log_energy_midpoints, energybins.energy_midpoints**2.7*comp_flux,\n",
    "                color=color_dict[composition], alpha=0.75, marker=marker, ls=':',\n",
    "                label='{} ({})'.format(name, composition))\n",
    "ax.set_yscale(\"log\", nonposy='clip')\n",
    "ax.set_xlabel('$\\mathrm{\\log_{10}(E/GeV)}$')\n",
    "ax.set_ylabel('$\\mathrm{ E^{2.7} \\ J(E) \\ [GeV^{1.7} m^{-2} sr^{-1} s^{-1}]}$')\n",
    "ax.grid()\n",
    "ax.legend(loc='center left', bbox_to_anchor=(1, 0.5), frameon=False)\n",
    "priors_outfile = os.path.join(comp.paths.figures_dir, 'unfolding',\n",
    "                              'priors_flux_{}-groups.png'.format(num_groups))\n",
    "comp.check_output_dir(priors_outfile)\n",
    "plt.savefig(priors_outfile)\n",
    "plt.show()\n",
    "\n",
    "unfolding_df.head()"
   ]
  },
  {
   "cell_type": "code",
   "execution_count": 153,
   "metadata": {
    "collapsed": true
   },
   "outputs": [],
   "source": [
    "# unfolding_df_outfile = os.path.join(comp.paths.comp_data_dir, config, 'unfolding',\n",
    "#                                     'unfolding_{}-groups.hdf'.format(num_groups))\n",
    "# comp.check_output_dir(unfolding_df_outfile)\n",
    "# unfolding_df.to_hdf(unfolding_df_outfile, 'dataframe', format='table')"
   ]
  },
  {
   "cell_type": "markdown",
   "metadata": {},
   "source": [
    "## Formatting for PyUnfold use"
   ]
  },
  {
   "cell_type": "code",
   "execution_count": 154,
   "metadata": {
    "collapsed": true
   },
   "outputs": [],
   "source": [
    "formatted_df = pd.DataFrame()"
   ]
  },
  {
   "cell_type": "code",
   "execution_count": 155,
   "metadata": {
    "collapsed": true
   },
   "outputs": [],
   "source": [
    "counts_formatted = []\n",
    "priors_formatted = defaultdict(list)\n",
    "for index, row in unfolding_df.iterrows():\n",
    "    for composition in comp_list:\n",
    "        counts_formatted.append(row['counts_{}'.format(composition)])\n",
    "        for priors_name in priors_list:\n",
    "            priors_formatted[priors_name].append(row['{}_flux_{}'.format(priors_name, composition)])\n",
    "        \n",
    "formatted_df['counts'] = counts_formatted\n",
    "formatted_df['counts_err'] = np.sqrt(counts_formatted)\n",
    "\n",
    "formatted_df['efficiencies'] = efficiencies\n",
    "formatted_df['efficiencies_err'] = efficiencies_err\n",
    "\n",
    "\n",
    "for key, value in priors_formatted.iteritems():\n",
    "    formatted_df[key+'_flux'] = value\n",
    "    formatted_df[key+'_prior'] = formatted_df[key+'_flux'] / formatted_df[key+'_flux'].sum()\n",
    "\n",
    "formatted_df.index.rename('log_energy_bin_idx', inplace=True)"
   ]
  },
  {
   "cell_type": "code",
   "execution_count": 156,
   "metadata": {},
   "outputs": [
    {
     "data": {
      "text/html": [
       "<div>\n",
       "<style>\n",
       "    .dataframe thead tr:only-child th {\n",
       "        text-align: right;\n",
       "    }\n",
       "\n",
       "    .dataframe thead th {\n",
       "        text-align: left;\n",
       "    }\n",
       "\n",
       "    .dataframe tbody tr th {\n",
       "        vertical-align: top;\n",
       "    }\n",
       "</style>\n",
       "<table border=\"1\" class=\"dataframe\">\n",
       "  <thead>\n",
       "    <tr style=\"text-align: right;\">\n",
       "      <th></th>\n",
       "      <th>counts</th>\n",
       "      <th>counts_err</th>\n",
       "      <th>efficiencies</th>\n",
       "      <th>efficiencies_err</th>\n",
       "      <th>H3a_flux</th>\n",
       "      <th>H3a_prior</th>\n",
       "      <th>Polygonato_flux</th>\n",
       "      <th>Polygonato_prior</th>\n",
       "      <th>H4a_flux</th>\n",
       "      <th>H4a_prior</th>\n",
       "    </tr>\n",
       "    <tr>\n",
       "      <th>log_energy_bin_idx</th>\n",
       "      <th></th>\n",
       "      <th></th>\n",
       "      <th></th>\n",
       "      <th></th>\n",
       "      <th></th>\n",
       "      <th></th>\n",
       "      <th></th>\n",
       "      <th></th>\n",
       "      <th></th>\n",
       "      <th></th>\n",
       "    </tr>\n",
       "  </thead>\n",
       "  <tbody>\n",
       "    <tr>\n",
       "      <th>0</th>\n",
       "      <td>1457721.0</td>\n",
       "      <td>1207.361172</td>\n",
       "      <td>0.007109</td>\n",
       "      <td>0.000073</td>\n",
       "      <td>7.187420e-13</td>\n",
       "      <td>0.302586</td>\n",
       "      <td>4.929408e-13</td>\n",
       "      <td>0.260752</td>\n",
       "      <td>7.333020e-13</td>\n",
       "      <td>0.306455</td>\n",
       "    </tr>\n",
       "    <tr>\n",
       "      <th>1</th>\n",
       "      <td>43116.0</td>\n",
       "      <td>207.643926</td>\n",
       "      <td>0.006655</td>\n",
       "      <td>0.000100</td>\n",
       "      <td>2.431070e-13</td>\n",
       "      <td>0.102347</td>\n",
       "      <td>2.394229e-13</td>\n",
       "      <td>0.126648</td>\n",
       "      <td>2.391451e-13</td>\n",
       "      <td>0.099941</td>\n",
       "    </tr>\n",
       "    <tr>\n",
       "      <th>2</th>\n",
       "      <td>294313.0</td>\n",
       "      <td>542.506221</td>\n",
       "      <td>0.006151</td>\n",
       "      <td>0.000119</td>\n",
       "      <td>1.651639e-13</td>\n",
       "      <td>0.069533</td>\n",
       "      <td>1.626849e-13</td>\n",
       "      <td>0.086056</td>\n",
       "      <td>1.631829e-13</td>\n",
       "      <td>0.068196</td>\n",
       "    </tr>\n",
       "    <tr>\n",
       "      <th>3</th>\n",
       "      <td>1132154.0</td>\n",
       "      <td>1064.027255</td>\n",
       "      <td>0.007920</td>\n",
       "      <td>0.000066</td>\n",
       "      <td>3.743101e-13</td>\n",
       "      <td>0.157582</td>\n",
       "      <td>2.569923e-13</td>\n",
       "      <td>0.135942</td>\n",
       "      <td>3.821589e-13</td>\n",
       "      <td>0.159708</td>\n",
       "    </tr>\n",
       "    <tr>\n",
       "      <th>4</th>\n",
       "      <td>24671.0</td>\n",
       "      <td>157.070048</td>\n",
       "      <td>0.007525</td>\n",
       "      <td>0.000089</td>\n",
       "      <td>1.326787e-13</td>\n",
       "      <td>0.055857</td>\n",
       "      <td>1.291849e-13</td>\n",
       "      <td>0.068335</td>\n",
       "      <td>1.303989e-13</td>\n",
       "      <td>0.054495</td>\n",
       "    </tr>\n",
       "  </tbody>\n",
       "</table>\n",
       "</div>"
      ],
      "text/plain": [
       "                       counts   counts_err  efficiencies  efficiencies_err  \\\n",
       "log_energy_bin_idx                                                           \n",
       "0                   1457721.0  1207.361172      0.007109          0.000073   \n",
       "1                     43116.0   207.643926      0.006655          0.000100   \n",
       "2                    294313.0   542.506221      0.006151          0.000119   \n",
       "3                   1132154.0  1064.027255      0.007920          0.000066   \n",
       "4                     24671.0   157.070048      0.007525          0.000089   \n",
       "\n",
       "                        H3a_flux  H3a_prior  Polygonato_flux  \\\n",
       "log_energy_bin_idx                                             \n",
       "0                   7.187420e-13   0.302586     4.929408e-13   \n",
       "1                   2.431070e-13   0.102347     2.394229e-13   \n",
       "2                   1.651639e-13   0.069533     1.626849e-13   \n",
       "3                   3.743101e-13   0.157582     2.569923e-13   \n",
       "4                   1.326787e-13   0.055857     1.291849e-13   \n",
       "\n",
       "                    Polygonato_prior      H4a_flux  H4a_prior  \n",
       "log_energy_bin_idx                                             \n",
       "0                           0.260752  7.333020e-13   0.306455  \n",
       "1                           0.126648  2.391451e-13   0.099941  \n",
       "2                           0.086056  1.631829e-13   0.068196  \n",
       "3                           0.135942  3.821589e-13   0.159708  \n",
       "4                           0.068335  1.303989e-13   0.054495  "
      ]
     },
     "execution_count": 156,
     "metadata": {},
     "output_type": "execute_result"
    }
   ],
   "source": [
    "formatted_df.head()"
   ]
  },
  {
   "cell_type": "code",
   "execution_count": 157,
   "metadata": {
    "collapsed": true
   },
   "outputs": [],
   "source": [
    "prior_sums = formatted_df[[col for col in formatted_df.columns if 'prior' in col]].sum()\n",
    "np.testing.assert_allclose(prior_sums, np.ones_like(prior_sums))"
   ]
  },
  {
   "cell_type": "markdown",
   "metadata": {},
   "source": [
    "Save formatted DataFrame to disk"
   ]
  },
  {
   "cell_type": "code",
   "execution_count": 158,
   "metadata": {
    "collapsed": true
   },
   "outputs": [],
   "source": [
    "formatted_df_outfile = os.path.join(comp.paths.comp_data_dir, config, 'unfolding', \n",
    "                                    'unfolding-df_{}-groups.hdf'.format(num_groups))\n",
    "comp.check_output_dir(formatted_df_outfile)\n",
    "formatted_df.to_hdf(formatted_df_outfile, 'dataframe', format='table')"
   ]
  },
  {
   "cell_type": "code",
   "execution_count": null,
   "metadata": {
    "collapsed": true
   },
   "outputs": [],
   "source": []
  },
  {
   "cell_type": "code",
   "execution_count": null,
   "metadata": {
    "collapsed": true
   },
   "outputs": [],
   "source": []
  },
  {
   "cell_type": "code",
   "execution_count": null,
   "metadata": {
    "collapsed": true
   },
   "outputs": [],
   "source": []
  },
  {
   "cell_type": "code",
   "execution_count": null,
   "metadata": {
    "collapsed": true
   },
   "outputs": [],
   "source": []
  }
 ],
 "metadata": {
  "kernelspec": {
   "display_name": "Python 2",
   "language": "python",
   "name": "python2"
  },
  "language_info": {
   "codemirror_mode": {
    "name": "ipython",
    "version": 2
   },
   "file_extension": ".py",
   "mimetype": "text/x-python",
   "name": "python",
   "nbconvert_exporter": "python",
   "pygments_lexer": "ipython2",
   "version": "2.7.13"
  }
 },
 "nbformat": 4,
 "nbformat_minor": 1
}
