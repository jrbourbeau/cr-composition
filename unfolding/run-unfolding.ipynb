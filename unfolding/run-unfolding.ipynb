{
 "cells": [
  {
   "cell_type": "code",
   "execution_count": 1,
   "metadata": {},
   "outputs": [],
   "source": [
    "%load_ext autoreload\n",
    "%autoreload 2"
   ]
  },
  {
   "cell_type": "code",
   "execution_count": 185,
   "metadata": {},
   "outputs": [],
   "source": [
    "from __future__ import division, print_function\n",
    "import os\n",
    "import numpy as np\n",
    "import pandas as pd\n",
    "import pyunfold\n",
    "import matplotlib.pyplot as plt\n",
    "from matplotlib.animation import FuncAnimation\n",
    "import seaborn as sns\n",
    "\n",
    "import comptools as comp\n",
    "\n",
    "sns.set_context(context='paper', font_scale=1.5)\n",
    "color_dict = comp.color_dict\n",
    "\n",
    "%matplotlib inline"
   ]
  },
  {
   "cell_type": "code",
   "execution_count": 3,
   "metadata": {},
   "outputs": [],
   "source": [
    "config = 'IC86.2012'\n",
    "num_groups = 2\n",
    "\n",
    "comp_list = comp.get_comp_list(num_groups=num_groups)\n",
    "energybins = comp.get_energybins(config)\n",
    "num_ebins = len(energybins.log_energy_midpoints)\n",
    "\n",
    "unfolding_dir  = os.path.join(comp.paths.comp_data_dir,\n",
    "                              config,\n",
    "                              'unfolding')"
   ]
  },
  {
   "cell_type": "code",
   "execution_count": 4,
   "metadata": {},
   "outputs": [
    {
     "data": {
      "text/html": [
       "<div>\n",
       "<style scoped>\n",
       "    .dataframe tbody tr th:only-of-type {\n",
       "        vertical-align: middle;\n",
       "    }\n",
       "\n",
       "    .dataframe tbody tr th {\n",
       "        vertical-align: top;\n",
       "    }\n",
       "\n",
       "    .dataframe thead th {\n",
       "        text-align: right;\n",
       "    }\n",
       "</style>\n",
       "<table border=\"1\" class=\"dataframe\">\n",
       "  <thead>\n",
       "    <tr style=\"text-align: right;\">\n",
       "      <th></th>\n",
       "      <th>counts</th>\n",
       "      <th>counts_err</th>\n",
       "      <th>efficiencies</th>\n",
       "      <th>efficiencies_err</th>\n",
       "      <th>broken_power_law_flux</th>\n",
       "      <th>broken_power_law_prior</th>\n",
       "      <th>simple_power_law_flux</th>\n",
       "      <th>simple_power_law_prior</th>\n",
       "      <th>H3a_flux</th>\n",
       "      <th>H3a_prior</th>\n",
       "      <th>H4a_flux</th>\n",
       "      <th>H4a_prior</th>\n",
       "    </tr>\n",
       "    <tr>\n",
       "      <th>log_energy_bin_idx</th>\n",
       "      <th></th>\n",
       "      <th></th>\n",
       "      <th></th>\n",
       "      <th></th>\n",
       "      <th></th>\n",
       "      <th></th>\n",
       "      <th></th>\n",
       "      <th></th>\n",
       "      <th></th>\n",
       "      <th></th>\n",
       "      <th></th>\n",
       "      <th></th>\n",
       "    </tr>\n",
       "  </thead>\n",
       "  <tbody>\n",
       "    <tr>\n",
       "      <th>0</th>\n",
       "      <td>1071404.0</td>\n",
       "      <td>1035.086470</td>\n",
       "      <td>0.007119</td>\n",
       "      <td>0.000084</td>\n",
       "      <td>1.416780e-12</td>\n",
       "      <td>0.231674</td>\n",
       "      <td>1.416780e-12</td>\n",
       "      <td>0.231486</td>\n",
       "      <td>7.187420e-13</td>\n",
       "      <td>0.302586</td>\n",
       "      <td>7.333020e-13</td>\n",
       "      <td>0.306455</td>\n",
       "    </tr>\n",
       "    <tr>\n",
       "      <th>1</th>\n",
       "      <td>743932.0</td>\n",
       "      <td>862.514927</td>\n",
       "      <td>0.006400</td>\n",
       "      <td>0.000078</td>\n",
       "      <td>1.416780e-12</td>\n",
       "      <td>0.231674</td>\n",
       "      <td>1.416780e-12</td>\n",
       "      <td>0.231486</td>\n",
       "      <td>4.082709e-13</td>\n",
       "      <td>0.171880</td>\n",
       "      <td>4.023280e-13</td>\n",
       "      <td>0.168137</td>\n",
       "    </tr>\n",
       "    <tr>\n",
       "      <th>2</th>\n",
       "      <td>851277.0</td>\n",
       "      <td>922.646736</td>\n",
       "      <td>0.007928</td>\n",
       "      <td>0.000075</td>\n",
       "      <td>7.608561e-13</td>\n",
       "      <td>0.124416</td>\n",
       "      <td>7.608561e-13</td>\n",
       "      <td>0.124315</td>\n",
       "      <td>3.743101e-13</td>\n",
       "      <td>0.157582</td>\n",
       "      <td>3.821589e-13</td>\n",
       "      <td>0.159708</td>\n",
       "    </tr>\n",
       "    <tr>\n",
       "      <th>3</th>\n",
       "      <td>702982.0</td>\n",
       "      <td>838.440219</td>\n",
       "      <td>0.007473</td>\n",
       "      <td>0.000068</td>\n",
       "      <td>7.608561e-13</td>\n",
       "      <td>0.124416</td>\n",
       "      <td>7.608561e-13</td>\n",
       "      <td>0.124315</td>\n",
       "      <td>2.232925e-13</td>\n",
       "      <td>0.094005</td>\n",
       "      <td>2.198728e-13</td>\n",
       "      <td>0.091887</td>\n",
       "    </tr>\n",
       "    <tr>\n",
       "      <th>4</th>\n",
       "      <td>579872.0</td>\n",
       "      <td>761.493270</td>\n",
       "      <td>0.008373</td>\n",
       "      <td>0.000068</td>\n",
       "      <td>4.086039e-13</td>\n",
       "      <td>0.066816</td>\n",
       "      <td>4.086039e-13</td>\n",
       "      <td>0.066761</td>\n",
       "      <td>1.925426e-13</td>\n",
       "      <td>0.081059</td>\n",
       "      <td>1.967681e-13</td>\n",
       "      <td>0.082231</td>\n",
       "    </tr>\n",
       "  </tbody>\n",
       "</table>\n",
       "</div>"
      ],
      "text/plain": [
       "                       counts   counts_err  efficiencies  efficiencies_err  \\\n",
       "log_energy_bin_idx                                                           \n",
       "0                   1071404.0  1035.086470      0.007119          0.000084   \n",
       "1                    743932.0   862.514927      0.006400          0.000078   \n",
       "2                    851277.0   922.646736      0.007928          0.000075   \n",
       "3                    702982.0   838.440219      0.007473          0.000068   \n",
       "4                    579872.0   761.493270      0.008373          0.000068   \n",
       "\n",
       "                    broken_power_law_flux  broken_power_law_prior  \\\n",
       "log_energy_bin_idx                                                  \n",
       "0                            1.416780e-12                0.231674   \n",
       "1                            1.416780e-12                0.231674   \n",
       "2                            7.608561e-13                0.124416   \n",
       "3                            7.608561e-13                0.124416   \n",
       "4                            4.086039e-13                0.066816   \n",
       "\n",
       "                    simple_power_law_flux  simple_power_law_prior  \\\n",
       "log_energy_bin_idx                                                  \n",
       "0                            1.416780e-12                0.231486   \n",
       "1                            1.416780e-12                0.231486   \n",
       "2                            7.608561e-13                0.124315   \n",
       "3                            7.608561e-13                0.124315   \n",
       "4                            4.086039e-13                0.066761   \n",
       "\n",
       "                        H3a_flux  H3a_prior      H4a_flux  H4a_prior  \n",
       "log_energy_bin_idx                                                    \n",
       "0                   7.187420e-13   0.302586  7.333020e-13   0.306455  \n",
       "1                   4.082709e-13   0.171880  4.023280e-13   0.168137  \n",
       "2                   3.743101e-13   0.157582  3.821589e-13   0.159708  \n",
       "3                   2.232925e-13   0.094005  2.198728e-13   0.091887  \n",
       "4                   1.925426e-13   0.081059  1.967681e-13   0.082231  "
      ]
     },
     "execution_count": 4,
     "metadata": {},
     "output_type": "execute_result"
    }
   ],
   "source": [
    "# Load DataFrame with saved prior distributions\n",
    "df_file = os.path.join(unfolding_dir,\n",
    "                       'unfolding-df_{}-groups.hdf'.format(num_groups))\n",
    "df_priors = pd.read_hdf(df_file)\n",
    "df_priors.head()"
   ]
  },
  {
   "cell_type": "code",
   "execution_count": 19,
   "metadata": {},
   "outputs": [
    {
     "name": "stdout",
     "output_type": "stream",
     "text": [
      "[########################################] | 100% Completed |  6.7s\n",
      "[########################################] | 100% Completed |  0.1s\n"
     ]
    }
   ],
   "source": [
    "# Load simulation and train composition classifier\n",
    "df_sim_train, df_sim_test = comp.load_sim(config=config,\n",
    "#                                           energy_reco=True,\n",
    "                                          energy_reco=False,\n",
    "                                          log_energy_min=None,\n",
    "                                          log_energy_max=None,\n",
    "                                          test_size=0.5,\n",
    "                                          n_jobs=10,\n",
    "                                          verbose=True)"
   ]
  },
  {
   "cell_type": "code",
   "execution_count": 6,
   "metadata": {},
   "outputs": [],
   "source": [
    "feature_list, feature_labels = comp.get_training_features()"
   ]
  },
  {
   "cell_type": "code",
   "execution_count": 147,
   "metadata": {},
   "outputs": [
    {
     "name": "stdout",
     "output_type": "stream",
     "text": [
      "Running energy reconstruction...\n"
     ]
    }
   ],
   "source": [
    "print('Running energy reconstruction...')\n",
    "energy_pipeline = comp.load_trained_model('linearregression_energy_{}'.format(config))\n",
    "# energy_pipeline = comp.load_trained_model('RF_energy_{}'.format(config))\n",
    "for df in [df_sim_train, df_sim_test]:\n",
    "    X = df_sim_train[feature_list].values\n",
    "    # Energy reconstruction\n",
    "    df['reco_log_energy'] = energy_pipeline.predict(df[feature_list].values)\n",
    "    df['reco_energy'] = 10**df['reco_log_energy']"
   ]
  },
  {
   "cell_type": "code",
   "execution_count": 148,
   "metadata": {},
   "outputs": [
    {
     "data": {
      "text/html": [
       "<div>\n",
       "<style scoped>\n",
       "    .dataframe tbody tr th:only-of-type {\n",
       "        vertical-align: middle;\n",
       "    }\n",
       "\n",
       "    .dataframe tbody tr th {\n",
       "        vertical-align: top;\n",
       "    }\n",
       "\n",
       "    .dataframe thead th {\n",
       "        text-align: right;\n",
       "    }\n",
       "</style>\n",
       "<table border=\"1\" class=\"dataframe\">\n",
       "  <thead>\n",
       "    <tr style=\"text-align: right;\">\n",
       "      <th></th>\n",
       "      <th>eff_median_light</th>\n",
       "      <th>eff_err_low_light</th>\n",
       "      <th>eff_err_high_light</th>\n",
       "      <th>eff_median_heavy</th>\n",
       "      <th>eff_err_low_heavy</th>\n",
       "      <th>eff_err_high_heavy</th>\n",
       "      <th>eff_median_total</th>\n",
       "      <th>eff_err_low_total</th>\n",
       "      <th>eff_err_high_total</th>\n",
       "    </tr>\n",
       "  </thead>\n",
       "  <tbody>\n",
       "    <tr>\n",
       "      <th>0</th>\n",
       "      <td>0.007119</td>\n",
       "      <td>0.000084</td>\n",
       "      <td>0.000077</td>\n",
       "      <td>0.006400</td>\n",
       "      <td>0.000078</td>\n",
       "      <td>0.000083</td>\n",
       "      <td>0.006739</td>\n",
       "      <td>0.000057</td>\n",
       "      <td>0.000053</td>\n",
       "    </tr>\n",
       "    <tr>\n",
       "      <th>1</th>\n",
       "      <td>0.007928</td>\n",
       "      <td>0.000075</td>\n",
       "      <td>0.000062</td>\n",
       "      <td>0.007473</td>\n",
       "      <td>0.000068</td>\n",
       "      <td>0.000072</td>\n",
       "      <td>0.007685</td>\n",
       "      <td>0.000044</td>\n",
       "      <td>0.000047</td>\n",
       "    </tr>\n",
       "    <tr>\n",
       "      <th>2</th>\n",
       "      <td>0.008373</td>\n",
       "      <td>0.000068</td>\n",
       "      <td>0.000063</td>\n",
       "      <td>0.008005</td>\n",
       "      <td>0.000064</td>\n",
       "      <td>0.000069</td>\n",
       "      <td>0.008194</td>\n",
       "      <td>0.000043</td>\n",
       "      <td>0.000046</td>\n",
       "    </tr>\n",
       "    <tr>\n",
       "      <th>3</th>\n",
       "      <td>0.008609</td>\n",
       "      <td>0.000070</td>\n",
       "      <td>0.000066</td>\n",
       "      <td>0.008268</td>\n",
       "      <td>0.000065</td>\n",
       "      <td>0.000067</td>\n",
       "      <td>0.008458</td>\n",
       "      <td>0.000046</td>\n",
       "      <td>0.000046</td>\n",
       "    </tr>\n",
       "    <tr>\n",
       "      <th>4</th>\n",
       "      <td>0.008735</td>\n",
       "      <td>0.000072</td>\n",
       "      <td>0.000068</td>\n",
       "      <td>0.008421</td>\n",
       "      <td>0.000063</td>\n",
       "      <td>0.000067</td>\n",
       "      <td>0.008606</td>\n",
       "      <td>0.000048</td>\n",
       "      <td>0.000045</td>\n",
       "    </tr>\n",
       "  </tbody>\n",
       "</table>\n",
       "</div>"
      ],
      "text/plain": [
       "   eff_median_light  eff_err_low_light  eff_err_high_light  eff_median_heavy  \\\n",
       "0          0.007119           0.000084            0.000077          0.006400   \n",
       "1          0.007928           0.000075            0.000062          0.007473   \n",
       "2          0.008373           0.000068            0.000063          0.008005   \n",
       "3          0.008609           0.000070            0.000066          0.008268   \n",
       "4          0.008735           0.000072            0.000068          0.008421   \n",
       "\n",
       "   eff_err_low_heavy  eff_err_high_heavy  eff_median_total  eff_err_low_total  \\\n",
       "0           0.000078            0.000083          0.006739           0.000057   \n",
       "1           0.000068            0.000072          0.007685           0.000044   \n",
       "2           0.000064            0.000069          0.008194           0.000043   \n",
       "3           0.000065            0.000067          0.008458           0.000046   \n",
       "4           0.000063            0.000067          0.008606           0.000048   \n",
       "\n",
       "   eff_err_high_total  \n",
       "0            0.000053  \n",
       "1            0.000047  \n",
       "2            0.000046  \n",
       "3            0.000046  \n",
       "4            0.000045  "
      ]
     },
     "execution_count": 148,
     "metadata": {},
     "output_type": "execute_result"
    }
   ],
   "source": [
    "# Load fitted efficiencies and calculate effective areas\n",
    "eff_path = os.path.join(comp.paths.comp_data_dir, config, 'efficiencies',\n",
    "                        'efficiency_fit_num_groups_{}.hdf'.format(num_groups))\n",
    "df_eff = pd.read_hdf(eff_path)\n",
    "df_eff.head()"
   ]
  },
  {
   "cell_type": "code",
   "execution_count": 149,
   "metadata": {},
   "outputs": [
    {
     "data": {
      "text/plain": [
       "9079202.768874502"
      ]
     },
     "execution_count": 149,
     "metadata": {},
     "output_type": "execute_result"
    }
   ],
   "source": [
    "# Get simulation thrown areas for each energy bin\n",
    "thrown_radii = comp.simfunctions.get_sim_thrown_radius(energybins.log_energy_midpoints)\n",
    "thrown_area = np.pi * thrown_radii.max()**2\n",
    "thrown_area"
   ]
  },
  {
   "cell_type": "code",
   "execution_count": 150,
   "metadata": {},
   "outputs": [],
   "source": [
    "efficiencies, efficiencies_err = comp.get_detector_efficiencies(config=config,\n",
    "                                                                num_groups=num_groups,\n",
    "                                                                sigmoid='slant',\n",
    "                                                                pyunfold_format=True)"
   ]
  },
  {
   "cell_type": "code",
   "execution_count": 206,
   "metadata": {},
   "outputs": [
    {
     "name": "stdout",
     "output_type": "stream",
     "text": [
      "Running composition classifications...\n"
     ]
    }
   ],
   "source": [
    "print('Running composition classifications...')\n",
    "pipeline_str = 'SGD_comp_{}_{}-groups'.format(config, num_groups)\n",
    "# pipeline_str = 'xgboost_comp_{}_{}-groups'.format(config, num_groups)\n",
    "comp_pipeline = comp.load_trained_model(pipeline_str)\n",
    "pred_target = comp_pipeline.predict(df_sim_test[feature_list].values)"
   ]
  },
  {
   "cell_type": "code",
   "execution_count": 207,
   "metadata": {},
   "outputs": [
    {
     "name": "stdout",
     "output_type": "stream",
     "text": [
      "Making response matrix...\n"
     ]
    }
   ],
   "source": [
    "print('Making response matrix...')\n",
    "log_reco_energy_sim_test = df_sim_test['reco_log_energy']\n",
    "log_true_energy_sim_test = df_sim_test['MC_log_energy']\n",
    "true_target = df_sim_test['comp_target_{}'.format(num_groups)].values\n",
    "\n",
    "response, response_err = comp.response_matrix(true_energy=log_true_energy_sim_test,\n",
    "                                              reco_energy=log_reco_energy_sim_test,\n",
    "                                              true_target=true_target,\n",
    "                                              pred_target=pred_target,\n",
    "                                              efficiencies=efficiencies,\n",
    "                                              efficiencies_err=efficiencies_err,\n",
    "                                              energy_bins=energybins.log_energy_bins)"
   ]
  },
  {
   "cell_type": "code",
   "execution_count": 208,
   "metadata": {},
   "outputs": [
    {
     "data": {
      "image/png": "[encoded data removed]",
      "text/plain": [
       "<Figure size 432x288 with 2 Axes>"
      ]
     },
     "metadata": {},
     "output_type": "display_data"
    }
   ],
   "source": [
    "fig, ax = plt.subplots()\n",
    "im = ax.imshow(response, origin='lower', cmap='viridis')\n",
    "ax.plot([0, response.shape[0] - 1], [0, response.shape[1] - 1], marker='None', ls=':', color='white')\n",
    "comp.plotting.colorbar(im, label='Normalized response matrix')\n",
    "\n",
    "ax.set_xlabel('True bins')\n",
    "ax.set_ylabel('Reconstructed bins')\n",
    "\n",
    "plt.show()"
   ]
  },
  {
   "cell_type": "code",
   "execution_count": 209,
   "metadata": {},
   "outputs": [
    {
     "name": "stdout",
     "output_type": "stream",
     "text": [
      "Loading data into memory...\n",
      "[########################################] | 100% Completed |  2min 54.8s\n",
      "[########################################] | 100% Completed |  0.1s\n"
     ]
    }
   ],
   "source": [
    "print('Loading data into memory...')\n",
    "df_data = comp.load_data(config=config,\n",
    "                         energy_reco=False,\n",
    "                         log_energy_min=None,\n",
    "                         log_energy_max=None,\n",
    "                         columns=feature_list + ['lap_ra', 'lap_dec'],\n",
    "                         n_jobs=15,\n",
    "                         verbose=True)"
   ]
  },
  {
   "cell_type": "code",
   "execution_count": 210,
   "metadata": {},
   "outputs": [],
   "source": [
    "X_data = df_data[feature_list].values"
   ]
  },
  {
   "cell_type": "code",
   "execution_count": 211,
   "metadata": {},
   "outputs": [
    {
     "name": "stdout",
     "output_type": "stream",
     "text": [
      "Running composition classifications...\n"
     ]
    }
   ],
   "source": [
    "print('Running composition classifications...')\n",
    "df_data['pred_comp_target'] = comp_pipeline.predict(X_data)"
   ]
  },
  {
   "cell_type": "code",
   "execution_count": 212,
   "metadata": {},
   "outputs": [
    {
     "name": "stdout",
     "output_type": "stream",
     "text": [
      "Running energy regressions...\n"
     ]
    }
   ],
   "source": [
    "print('Running energy regressions...')\n",
    "df_data['reco_log_energy'] = energy_pipeline.predict(X_data)"
   ]
  },
  {
   "cell_type": "code",
   "execution_count": 213,
   "metadata": {},
   "outputs": [
    {
     "name": "stdout",
     "output_type": "stream",
     "text": [
      "light\n",
      "heavy\n"
     ]
    }
   ],
   "source": [
    "counts_observed = {}\n",
    "counts_observed_err = {}\n",
    "\n",
    "for comp_idx, composition in enumerate(comp_list):\n",
    "    print(composition)\n",
    "    # Filter out events that don't pass composition & energy mask\n",
    "    pred_comp_mask = df_data['pred_comp_target'] == comp_idx\n",
    "    mask = pred_comp_mask\n",
    "    \n",
    "    energies = df_data.loc[mask, 'reco_log_energy'].values\n",
    "    comp_counts, _ = np.histogram(energies, bins=energybins.log_energy_bins)\n",
    "    counts_observed[composition] = comp_counts\n",
    "    counts_observed_err[composition] = np.sqrt(comp_counts)\n",
    "\n",
    "counts_observed_err['total'] = np.sqrt(np.sum(counts_observed_err[composition]**2 for composition in comp_list))\n",
    "# Calculate total counts\n",
    "counts_observed['total'] = np.sum(counts_observed[composition] for composition in comp_list)\n",
    "\n",
    "# Format observed counts, detection efficiencies, and priors for PyUnfold use\n",
    "counts_pyunfold = np.empty(num_groups * len(energybins.energy_midpoints))\n",
    "counts_err_pyunfold = np.empty(num_groups * len(energybins.energy_midpoints))\n",
    "for idx, composition in enumerate(comp_list):\n",
    "    counts_pyunfold[idx::num_groups] = counts_observed[composition]\n",
    "    counts_err_pyunfold[idx::num_groups] = counts_observed_err[composition]"
   ]
  },
  {
   "cell_type": "code",
   "execution_count": 214,
   "metadata": {},
   "outputs": [
    {
     "data": {
      "text/plain": [
       "{'heavy': array([848126, 667967, 479927, 326869, 214983, 139677,  88897,  56748,\n",
       "         36102,  23316,  15400,  10502,   7112,   4802,   3337,   2232,\n",
       "          1448,    965,    697]),\n",
       " 'light': array([1224508,  918923,  654102,  452126,  300921,  193429,  120331,\n",
       "          71914,   41786,   23572,   13382,    7185,    4096,    2266,\n",
       "           1288,     663,     372,     183,     103]),\n",
       " 'total': array([2072634, 1586890, 1134029,  778995,  515904,  333106,  209228,\n",
       "         128662,   77888,   46888,   28782,   17687,   11208,    7068,\n",
       "           4625,    2895,    1820,    1148,     800])}"
      ]
     },
     "execution_count": 214,
     "metadata": {},
     "output_type": "execute_result"
    }
   ],
   "source": [
    "counts_observed"
   ]
  },
  {
   "cell_type": "code",
   "execution_count": 215,
   "metadata": {},
   "outputs": [],
   "source": [
    "# Effective area\n",
    "eff_area, eff_area_err = {}, {}\n",
    "for composition in comp_list + ['total']:\n",
    "    eff_area[composition] = df_eff['eff_median_{}'.format(composition)].values * thrown_area\n",
    "    eff_area_err[composition] = df_eff['eff_err_low_{}'.format(composition)].values * thrown_area\n",
    "\n",
    "# Solid angle\n",
    "theta_max = 40 if config == 'IC79.2010' else 65\n",
    "solid_angle = np.pi*np.sin(np.deg2rad(theta_max))**2\n",
    "\n",
    "# Livetime\n",
    "livetime, livetime_err = comp.get_detector_livetime(config=config)"
   ]
  },
  {
   "cell_type": "code",
   "execution_count": 216,
   "metadata": {},
   "outputs": [],
   "source": [
    "def counts_to_flux(counts, counts_err=None, composition=None):\n",
    "    return comp.get_flux(counts, counts_err,\n",
    "                         energybins=energybins.energy_bins,\n",
    "                         eff_area=thrown_area, \n",
    "                         livetime=livetime,\n",
    "                         livetime_err=livetime_err,\n",
    "                         solid_angle=solid_angle,\n",
    "                         scalingindex=2.7)"
   ]
  },
  {
   "cell_type": "code",
   "execution_count": 217,
   "metadata": {},
   "outputs": [],
   "source": [
    "# Run unfolding for each of the priors\n",
    "names = ['uniform', 'H3a', 'H4a', 'simple_power_law']\n",
    "# names = ['Jeffreys', 'H3a', 'H4a', 'Polygonato']\n",
    "unfolding_results = {}\n",
    "for prior_name in names:\n",
    "    prior = None if prior_name == 'uniform' else df_priors['{}_prior'.format(prior_name)]\n",
    "    # priors = 'Jeffreys' if prior_name == 'Jeffreys' else df['{}_prior'.format(prior_name)]\n",
    "    df_unfolding_iter = pyunfold.iterative_unfold(data=counts_pyunfold,\n",
    "                                                  data_err=counts_err_pyunfold,\n",
    "                                                  response=response,\n",
    "                                                  response_err=response_err,\n",
    "                                                  efficiencies=efficiencies,\n",
    "                                                  efficiencies_err=efficiencies_err,\n",
    "                                                  ts='ks',\n",
    "                                                  ts_stopping=0.005,\n",
    "                                                  prior=prior,\n",
    "                                                  return_iterations=True)\n",
    "#                                                   callbacks=[pyunfold.callbacks.SplineRegularizer(degree=1, smooth=256)])\n",
    "    unfolding_results[prior_name] = df_unfolding_iter"
   ]
  },
  {
   "cell_type": "code",
   "execution_count": 218,
   "metadata": {},
   "outputs": [
    {
     "data": {
      "text/plain": [
       "['uniform', 'H3a', 'H4a', 'simple_power_law']"
      ]
     },
     "execution_count": 218,
     "metadata": {},
     "output_type": "execute_result"
    }
   ],
   "source": [
    "names"
   ]
  },
  {
   "cell_type": "code",
   "execution_count": 219,
   "metadata": {},
   "outputs": [
    {
     "data": {
      "image/png": "[encoded data removed]",
      "text/plain": [
       "<Figure size 432x288 with 1 Axes>"
      ]
     },
     "metadata": {},
     "output_type": "display_data"
    }
   ],
   "source": [
    "fig, ax = plt.subplots()\n",
    "# fig, ax = plt.subplots(figsize=(10, 5))\n",
    "linestyles = ['-', ':', '-.', '--']\n",
    "markers = ['.', '*', '^', 'X']\n",
    "for prior_name, ls, marker in zip(names, linestyles, markers):\n",
    "#     if prior_name != 'H4a':\n",
    "#         continue\n",
    "    counts, counts_sys_err, counts_stat_err = comp.unfolded_counts_dist(unfolding_results[prior_name],\n",
    "                                                                        num_groups=num_groups)\n",
    "    for composition in comp_list + ['total']:\n",
    "#         print(composition)\n",
    "#         print(counts[composition])\n",
    "        flux, flux_sys_err = counts_to_flux(counts=counts[composition],\n",
    "                                            counts_err=counts_sys_err[composition],\n",
    "                                            composition=composition)\n",
    "        flux, flux_stat_err = counts_to_flux(counts=counts[composition],\n",
    "                                             counts_err=counts_stat_err[composition],\n",
    "                                             composition=composition)\n",
    "        comp.plot_steps(energybins.log_energy_bins, flux,\n",
    "                        yerr=flux_sys_err,\n",
    "                        color=color_dict[composition],\n",
    "                        ls=ls,\n",
    "                        ax=ax)\n",
    "#         label = '{} ({})'.format(composition, prior_name.replace('_', '-'))\n",
    "        label = prior_name.replace('_', ' ') if composition == 'total' else ''\n",
    "        ax.errorbar(energybins.log_energy_midpoints, flux,\n",
    "                    yerr=flux_stat_err,\n",
    "                    color=color_dict[composition],\n",
    "                    ls='None',\n",
    "                    marker=marker,\n",
    "                    capsize=20,\n",
    "                    elinewidth=1,\n",
    "                    label=label)\n",
    "ax.set_yscale('log', nonposy='clip')\n",
    "ax.set_xlabel('$\\mathrm{\\log_{10}(E/GeV)}$')\n",
    "ax.set_ylabel('$\\mathrm{ E^{2.7} \\ J(E) \\ [GeV^{1.7} m^{-2} sr^{-1} s^{-1}]}$')\n",
    "ax.set_xlim(6.4, 7.8)\n",
    "ax.set_ylim(1e3, 1e5)\n",
    "ax.grid(lw=1, which='both')\n",
    "ax.legend()\n",
    "# ax.legend(loc='center left', bbox_to_anchor=(1, 0.5))\n",
    "# ax.legend(loc='upper center',\n",
    "#           bbox_to_anchor=(0.5, 1.75),\n",
    "#           ncol=2,\n",
    "#           fancybox=True)\n",
    "\n",
    "outfile = os.path.join(comp.paths.figures_dir, 'skymaps', 'allsky.png')\n",
    "comp.check_output_dir(outfile)\n",
    "plt.savefig(outfile)\n",
    "\n",
    "plt.show()"
   ]
  },
  {
   "cell_type": "code",
   "execution_count": 220,
   "metadata": {},
   "outputs": [
    {
     "data": {
      "text/html": [
       "<div>\n",
       "<style scoped>\n",
       "    .dataframe tbody tr th:only-of-type {\n",
       "        vertical-align: middle;\n",
       "    }\n",
       "\n",
       "    .dataframe tbody tr th {\n",
       "        vertical-align: top;\n",
       "    }\n",
       "\n",
       "    .dataframe thead th {\n",
       "        text-align: right;\n",
       "    }\n",
       "</style>\n",
       "<table border=\"1\" class=\"dataframe\">\n",
       "  <thead>\n",
       "    <tr style=\"text-align: right;\">\n",
       "      <th></th>\n",
       "      <th>num_iterations</th>\n",
       "      <th>stat_err</th>\n",
       "      <th>sys_err</th>\n",
       "      <th>ts_iter</th>\n",
       "      <th>ts_stopping</th>\n",
       "      <th>unfolded</th>\n",
       "    </tr>\n",
       "  </thead>\n",
       "  <tbody>\n",
       "    <tr>\n",
       "      <th>0</th>\n",
       "      <td>1</td>\n",
       "      <td>[103070.02504396967, 102144.86379256786, 50670...</td>\n",
       "      <td>[15749287.516949983, 15916022.452854631, 63263...</td>\n",
       "      <td>0.092134</td>\n",
       "      <td>0.005</td>\n",
       "      <td>[191757396.1416671, 185164877.99562967, 100489...</td>\n",
       "    </tr>\n",
       "    <tr>\n",
       "      <th>1</th>\n",
       "      <td>2</td>\n",
       "      <td>[131953.06978832203, 129540.18108453172, 63206...</td>\n",
       "      <td>[20462526.446218558, 20765857.73598618, 772244...</td>\n",
       "      <td>0.013259</td>\n",
       "      <td>0.005</td>\n",
       "      <td>[194439030.48473287, 183098573.05224302, 97407...</td>\n",
       "    </tr>\n",
       "    <tr>\n",
       "      <th>2</th>\n",
       "      <td>3</td>\n",
       "      <td>[156768.8273093421, 154851.65411568832, 76436....</td>\n",
       "      <td>[24771671.80102233, 25258328.6961266, 9280394....</td>\n",
       "      <td>0.006603</td>\n",
       "      <td>0.005</td>\n",
       "      <td>[199315688.28344995, 184217275.63812009, 95749...</td>\n",
       "    </tr>\n",
       "    <tr>\n",
       "      <th>3</th>\n",
       "      <td>4</td>\n",
       "      <td>[179558.32058617944, 178243.33187288075, 88589...</td>\n",
       "      <td>[28715669.559097447, 29414788.434875157, 10789...</td>\n",
       "      <td>0.006247</td>\n",
       "      <td>0.005</td>\n",
       "      <td>[203645760.02327502, 185650774.9339217, 942914...</td>\n",
       "    </tr>\n",
       "    <tr>\n",
       "      <th>4</th>\n",
       "      <td>5</td>\n",
       "      <td>[200461.48714098573, 199795.5892395803, 99408....</td>\n",
       "      <td>[32313868.88569669, 33238876.805621095, 121820...</td>\n",
       "      <td>0.005381</td>\n",
       "      <td>0.005</td>\n",
       "      <td>[207218369.0219479, 187062412.3038028, 9288674...</td>\n",
       "    </tr>\n",
       "    <tr>\n",
       "      <th>5</th>\n",
       "      <td>6</td>\n",
       "      <td>[219513.50583395315, 219594.3790580178, 108934...</td>\n",
       "      <td>[35591637.47533877, 36746004.07863727, 1344948...</td>\n",
       "      <td>0.004610</td>\n",
       "      <td>0.005</td>\n",
       "      <td>[210131297.34194955, 188430133.6614856, 915163...</td>\n",
       "    </tr>\n",
       "  </tbody>\n",
       "</table>\n",
       "</div>"
      ],
      "text/plain": [
       "   num_iterations                                           stat_err  \\\n",
       "0               1  [103070.02504396967, 102144.86379256786, 50670...   \n",
       "1               2  [131953.06978832203, 129540.18108453172, 63206...   \n",
       "2               3  [156768.8273093421, 154851.65411568832, 76436....   \n",
       "3               4  [179558.32058617944, 178243.33187288075, 88589...   \n",
       "4               5  [200461.48714098573, 199795.5892395803, 99408....   \n",
       "5               6  [219513.50583395315, 219594.3790580178, 108934...   \n",
       "\n",
       "                                             sys_err   ts_iter  ts_stopping  \\\n",
       "0  [15749287.516949983, 15916022.452854631, 63263...  0.092134        0.005   \n",
       "1  [20462526.446218558, 20765857.73598618, 772244...  0.013259        0.005   \n",
       "2  [24771671.80102233, 25258328.6961266, 9280394....  0.006603        0.005   \n",
       "3  [28715669.559097447, 29414788.434875157, 10789...  0.006247        0.005   \n",
       "4  [32313868.88569669, 33238876.805621095, 121820...  0.005381        0.005   \n",
       "5  [35591637.47533877, 36746004.07863727, 1344948...  0.004610        0.005   \n",
       "\n",
       "                                            unfolded  \n",
       "0  [191757396.1416671, 185164877.99562967, 100489...  \n",
       "1  [194439030.48473287, 183098573.05224302, 97407...  \n",
       "2  [199315688.28344995, 184217275.63812009, 95749...  \n",
       "3  [203645760.02327502, 185650774.9339217, 942914...  \n",
       "4  [207218369.0219479, 187062412.3038028, 9288674...  \n",
       "5  [210131297.34194955, 188430133.6614856, 915163...  "
      ]
     },
     "execution_count": 220,
     "metadata": {},
     "output_type": "execute_result"
    }
   ],
   "source": [
    "unfolding_results[prior_name]"
   ]
  },
  {
   "cell_type": "code",
   "execution_count": 224,
   "metadata": {},
   "outputs": [
    {
     "data": {
      "image/png": "[encoded data removed]",
      "text/plain": [
       "<Figure size 432x288 with 1 Axes>"
      ]
     },
     "metadata": {},
     "output_type": "display_data"
    }
   ],
   "source": [
    "fig, ax = plt.subplots()\n",
    "# fig, ax = plt.subplots(figsize=(10, 5))\n",
    "\n",
    "prior_name = 'H4a'\n",
    "marker = '.'\n",
    "ls = '-'\n",
    "counts, counts_sys_err, counts_stat_err = comp.unfolded_counts_dist(unfolding_results[prior_name],\n",
    "                                                                    num_groups=num_groups)\n",
    "for composition in comp_list + ['total']:\n",
    "    flux, flux_sys_err = counts_to_flux(counts=counts[composition],\n",
    "                                        counts_err=counts_sys_err[composition],\n",
    "                                        composition=composition)\n",
    "    flux, flux_stat_err = counts_to_flux(counts=counts[composition],\n",
    "                                         counts_err=counts_stat_err[composition],\n",
    "                                         composition=composition)\n",
    "    comp.plot_steps(energybins.log_energy_bins, flux,\n",
    "                    yerr=flux_sys_err,\n",
    "                    color=color_dict[composition],\n",
    "                    fillalpha=0.4,\n",
    "                    ls=ls,\n",
    "                    label=composition,\n",
    "                    ax=ax)\n",
    "    ax.errorbar(energybins.log_energy_midpoints, flux,\n",
    "                yerr=flux_stat_err,\n",
    "                color=color_dict[composition],\n",
    "                ls='None',\n",
    "                marker=marker,\n",
    "                capsize=20,\n",
    "                elinewidth=1)\n",
    "\n",
    "ax.set_yscale('log', nonposy='clip')\n",
    "ax.set_xlabel('$\\mathrm{\\log_{10}(E/GeV)}$')\n",
    "ax.set_ylabel('$\\mathrm{ E^{2.7} \\ J(E) \\ [GeV^{1.7} m^{-2} sr^{-1} s^{-1}]}$')\n",
    "ax.set_xlim(6.4, 7.8)\n",
    "ax.set_ylim(1e3, 1e5)\n",
    "ax.grid(lw=1, which='both')\n",
    "\n",
    "ax.legend()\n",
    "# ax.legend(loc='center left', bbox_to_anchor=(1, 0.5))\n",
    "# ax.legend(loc='upper center',\n",
    "#           bbox_to_anchor=(0.5, 1.75),\n",
    "#           ncol=2,\n",
    "#           fancybox=True)\n",
    "\n",
    "outfile = os.path.join(comp.paths.figures_dir, 'skymaps', 'allsky.png')\n",
    "comp.check_output_dir(outfile)\n",
    "plt.savefig(outfile)\n",
    "\n",
    "plt.show()"
   ]
  },
  {
   "cell_type": "code",
   "execution_count": 222,
   "metadata": {},
   "outputs": [
    {
     "name": "stdout",
     "output_type": "stream",
     "text": [
      "The directory /home/jbourbeau/public_html/figures/composition/unfolding/IC86.2012/iterations/simple_power_law/2-groups doesn't exist. Creating it...\n"
     ]
    },
    {
     "data": {
      "image/png": "[encoded data removed]",
      "text/plain": [
       "<Figure size 432x288 with 1 Axes>"
      ]
     },
     "metadata": {},
     "output_type": "display_data"
    }
   ],
   "source": [
    "fig, ax = plt.subplots()\n",
    "\n",
    "prior_name = 'simple_power_law'\n",
    "marker = '.'\n",
    "ls = '-'\n",
    "\n",
    "df_unfolding = unfolding_results[prior_name]\n",
    "\n",
    "def update(i):\n",
    "    ax.clear()\n",
    "    idx_iter, df_iter = i\n",
    "    color_dict_iter = {}\n",
    "    color_dict_iter['light'] = sns.color_palette('Blues', len(df_unfolding.index)).as_hex()[idx_iter]\n",
    "    color_dict_iter['heavy'] = sns.color_palette('Oranges', len(df_unfolding.index)).as_hex()[idx_iter]\n",
    "    color_dict_iter['total'] = sns.color_palette('Greens', len(df_unfolding.index)).as_hex()[idx_iter]\n",
    "        \n",
    "    counts, counts_sys_err, counts_stat_err = comp.unfolded_counts_dist(unfolding_results[prior_name],\n",
    "                                                                        iteration=idx_iter,\n",
    "                                                                        num_groups=num_groups)\n",
    "        \n",
    "    for idx, composition in enumerate(comp_list):\n",
    "        if idx == 0:\n",
    "            counts['total'] = np.zeros_like(counts[composition])\n",
    "            counts_sys_err['total'] = np.zeros_like(counts[composition])\n",
    "            counts_stat_err['total'] = np.zeros_like(counts[composition])\n",
    "        counts['total'] += counts[composition]\n",
    "        counts_sys_err['total'] += counts_sys_err[composition]**2\n",
    "        counts_stat_err['total'] += counts_stat_err[composition]**2\n",
    "    counts_sys_err['total'] = np.sqrt(counts_sys_err['total'])\n",
    "    counts_stat_err['total'] = np.sqrt(counts_stat_err['total'])    \n",
    "    \n",
    "    for composition in comp_list + ['total']:    \n",
    "        flux, flux_err_sys = comp.get_flux(counts[composition], counts_sys_err[composition],\n",
    "                                                     energybins=energybins.energy_bins,\n",
    "                                                     eff_area=thrown_area,\n",
    "                                                     livetime=livetime, livetime_err=livetime_err, \n",
    "                                                     solid_angle=solid_angle)\n",
    "        flux, flux_err_stat = comp.get_flux(counts[composition], counts_stat_err[composition],\n",
    "                                                     energybins=energybins.energy_bins,\n",
    "                                                     eff_area=thrown_area,\n",
    "                                                     livetime=livetime, livetime_err=livetime_err, \n",
    "                                                     solid_angle=solid_angle)\n",
    "        \n",
    "        comp.plot_steps(energybins.log_energy_bins, flux, yerr=flux_err_sys,\n",
    "                            ax=ax, alpha=0.4, fillalpha=0.4,  \n",
    "                            color=color_dict[composition])\n",
    "        ax.errorbar(energybins.log_energy_midpoints, flux, yerr=flux_err_stat,  \n",
    "                    color=color_dict[composition], ls='None', marker='.', \n",
    "                    label=composition)\n",
    "        \n",
    "\n",
    "    ax.set_yscale(\"log\", nonposy='clip')\n",
    "    ax.set_xlabel('$\\mathrm{\\log_{10}(E_{reco}/GeV)}$')\n",
    "    ax.set_ylabel('$\\mathrm{ E^{2.7} \\ J(E) \\ [GeV^{1.7} m^{-2} sr^{-1} s^{-1}]}$')\n",
    "    ax.set_title('Iteration: {}'.format(idx_iter+1))\n",
    "    ax.set_xlim(6.4, 7.8)\n",
    "    ax.set_ylim([1e3, 7e4])\n",
    "    ax.grid(linestyle='dotted', which=\"both\")\n",
    "    ax.legend()\n",
    "    \n",
    "    return ax\n",
    "\n",
    "anim = FuncAnimation(fig, update, frames=list(df_unfolding.iterrows()),\n",
    "                     interval=1250)\n",
    "iter_unfold_outfile = os.path.join(comp.paths.figures_dir,\n",
    "                                   'unfolding',\n",
    "                                   config,\n",
    "                                   'iterations', \n",
    "                                   prior_name,\n",
    "                                   '{}-groups'.format(num_groups),\n",
    "                                   'flux_iter_{}-prior.gif'.format(prior_name))\n",
    "comp.check_output_dir(iter_unfold_outfile)\n",
    "anim.save(iter_unfold_outfile, dpi=300, writer='imagemagick')"
   ]
  },
  {
   "cell_type": "markdown",
   "metadata": {},
   "source": [
    "## Cosmic-ray flux vs. sky position"
   ]
  },
  {
   "cell_type": "code",
   "execution_count": 20,
   "metadata": {},
   "outputs": [],
   "source": [
    "import healpy as hp"
   ]
  },
  {
   "cell_type": "code",
   "execution_count": 24,
   "metadata": {},
   "outputs": [],
   "source": [
    "nside = 64\n",
    "npix = hp.nside2npix(nside)"
   ]
  },
  {
   "cell_type": "code",
   "execution_count": 52,
   "metadata": {},
   "outputs": [],
   "source": [
    "m = np.zeros(npix)\n",
    "m[hp.ang2pix(nside, np.pi/2, np.pi/2)] = 1\n",
    "m[hp.ang2pix(nside, np.pi/4, np.pi/4)] = 1\n",
    "# m[:100] = 100"
   ]
  },
  {
   "cell_type": "code",
   "execution_count": 71,
   "metadata": {},
   "outputs": [
    {
     "data": {
      "text/html": [
       "<div>\n",
       "<style scoped>\n",
       "    .dataframe tbody tr th:only-of-type {\n",
       "        vertical-align: middle;\n",
       "    }\n",
       "\n",
       "    .dataframe tbody tr th {\n",
       "        vertical-align: top;\n",
       "    }\n",
       "\n",
       "    .dataframe thead th {\n",
       "        text-align: right;\n",
       "    }\n",
       "</style>\n",
       "<table border=\"1\" class=\"dataframe\">\n",
       "  <thead>\n",
       "    <tr style=\"text-align: right;\">\n",
       "      <th></th>\n",
       "      <th>lap_ra</th>\n",
       "      <th>lap_dec</th>\n",
       "    </tr>\n",
       "  </thead>\n",
       "  <tbody>\n",
       "    <tr>\n",
       "      <th>IC86.2012_120028_6075870_0</th>\n",
       "      <td>1.994832</td>\n",
       "      <td>-1.323424</td>\n",
       "    </tr>\n",
       "    <tr>\n",
       "      <th>IC86.2012_120028_6077647_0</th>\n",
       "      <td>2.368135</td>\n",
       "      <td>-1.081708</td>\n",
       "    </tr>\n",
       "    <tr>\n",
       "      <th>IC86.2012_120028_6088516_0</th>\n",
       "      <td>3.785567</td>\n",
       "      <td>-1.176766</td>\n",
       "    </tr>\n",
       "    <tr>\n",
       "      <th>IC86.2012_120028_6089628_0</th>\n",
       "      <td>3.411561</td>\n",
       "      <td>-1.167795</td>\n",
       "    </tr>\n",
       "    <tr>\n",
       "      <th>IC86.2012_120028_6094183_0</th>\n",
       "      <td>2.524475</td>\n",
       "      <td>-1.177557</td>\n",
       "    </tr>\n",
       "  </tbody>\n",
       "</table>\n",
       "</div>"
      ],
      "text/plain": [
       "                              lap_ra   lap_dec\n",
       "IC86.2012_120028_6075870_0  1.994832 -1.323424\n",
       "IC86.2012_120028_6077647_0  2.368135 -1.081708\n",
       "IC86.2012_120028_6088516_0  3.785567 -1.176766\n",
       "IC86.2012_120028_6089628_0  3.411561 -1.167795\n",
       "IC86.2012_120028_6094183_0  2.524475 -1.177557"
      ]
     },
     "execution_count": 71,
     "metadata": {},
     "output_type": "execute_result"
    }
   ],
   "source": [
    "df_data.iloc[:100][['lap_ra', 'lap_dec']].head()"
   ]
  },
  {
   "cell_type": "code",
   "execution_count": 291,
   "metadata": {},
   "outputs": [],
   "source": [
    "ra = df_data.loc[:, 'lap_ra'].values\n",
    "dec = df_data.loc[:, 'lap_dec'].values"
   ]
  },
  {
   "cell_type": "markdown",
   "metadata": {},
   "source": [
    "Convert from ra/dec equatorial coordinates to the theta/phi coordinates used in `healpy`"
   ]
  },
  {
   "cell_type": "code",
   "execution_count": 291,
   "metadata": {},
   "outputs": [],
   "source": [
    "theta, phi = comp.equatorial_to_healpy(ra, dec)"
   ]
  },
  {
   "cell_type": "code",
   "execution_count": 292,
   "metadata": {},
   "outputs": [],
   "source": [
    "skymap = np.zeros(npix)\n",
    "unique_pix, pix_counts = np.unique(pix_array, return_counts=True)\n",
    "skymap[unique_pix] += pix_counts"
   ]
  },
  {
   "cell_type": "code",
   "execution_count": 273,
   "metadata": {},
   "outputs": [],
   "source": [
    "def mask_map(skymap, decmin=None, decmax=None):\n",
    "\n",
    "    if decmin is None and decmax is None:\n",
    "        raise ValueError('decmin and/or decmax must be specified')\n",
    "\n",
    "    npix  = skymap.shape[0]\n",
    "    nside = hp.npix2nside(npix)\n",
    "    theta, phi = hp.pix2ang(nside, range(npix))\n",
    "    print(theta)\n",
    "\n",
    "    theta_mask = np.ones(npix, dtype=bool)\n",
    "    if decmin is not None:\n",
    "        theta_min = np.deg2rad(90 - decmin)\n",
    "        print(theta_min)\n",
    "        theta_mask *= (theta >= theta_min)\n",
    "        print(theta_mask.sum())\n",
    "    if decmax is not None:\n",
    "        theta_max = np.deg2rad(90 - decmax)\n",
    "        print(theta_max)\n",
    "        theta_mask *= (theta <= theta_max)\n",
    "        print(theta_mask.sum())\n",
    "\n",
    "    masked_map = np.copy(skymap)\n",
    "    masked_map[theta_mask] = hp.UNSEEN\n",
    "\n",
    "    return masked_map"
   ]
  },
  {
   "cell_type": "code",
   "execution_count": 293,
   "metadata": {},
   "outputs": [
    {
     "name": "stdout",
     "output_type": "stream",
     "text": [
      "[0.01275785 0.01275785 0.01275785 ... 3.12883481 3.12883481 3.12883481]\n",
      "2.2689280275926285\n",
      "40320\n"
     ]
    },
    {
     "data": {
      "text/plain": [
       "40320"
      ]
     },
     "execution_count": 293,
     "metadata": {},
     "output_type": "execute_result"
    }
   ],
   "source": [
    "masked_m = mask_map(skymap, decmin=None, decmax=-40)\n",
    "np.sum(masked_m == hp.UNSEEN)"
   ]
  },
  {
   "cell_type": "code",
   "execution_count": 294,
   "metadata": {},
   "outputs": [
    {
     "data": {
      "image/png": "[encoded data removed]",
      "text/plain": [
       "<Figure size 612x388.8 with 2 Axes>"
      ]
     },
     "metadata": {},
     "output_type": "display_data"
    }
   ],
   "source": [
    "from matplotlib.ticker import FormatStrFormatter\n",
    "\n",
    "hp.mollview(masked_m, rot=180, title='', cbar=False)\n",
    "hp.graticule(verbose=False)\n",
    "fig = plt.gcf()\n",
    "ax = plt.gca()\n",
    "image = ax.get_images()[0]\n",
    "cbar = fig.colorbar(image,\n",
    "                    orientation='horizontal',\n",
    "                    aspect=50,\n",
    "                    pad=0.01,\n",
    "                    fraction=0.1,\n",
    "                    ax=ax,\n",
    "                    format=FormatStrFormatter('%g'),\n",
    "                    shrink=1.0)\n",
    "cbar.set_label('Counts', size=14)\n",
    "ax.set_ylim(-1, 0.005)\n",
    "ax.annotate('0$^\\circ$', xy=(1.8, -0.75), size=14)\n",
    "ax.annotate('360$^\\circ$', xy=(-1.99, -0.75), size=14)\n",
    "ax.annotate('IC86.2012 data', xy=(-1.85,-0.24), size=20, color='white')\n",
    "plt.show()"
   ]
  },
  {
   "cell_type": "code",
   "execution_count": 296,
   "metadata": {},
   "outputs": [
    {
     "data": {
      "text/plain": [
       "(array([2.8942202 , 2.65250396, 2.74756195, ..., 2.91053932, 2.85528816,\n",
       "        2.80141079]),\n",
       " array([1.99483155, 2.36813548, 3.78556748, ..., 2.45471226, 4.24586246,\n",
       "        3.26226786]))"
      ]
     },
     "execution_count": 296,
     "metadata": {},
     "output_type": "execute_result"
    }
   ],
   "source": [
    "theta, phi"
   ]
  },
  {
   "cell_type": "code",
   "execution_count": 300,
   "metadata": {},
   "outputs": [
    {
     "data": {
      "image/png": "[encoded data removed]",
      "text/plain": [
       "<Figure size 612x388.8 with 2 Axes>"
      ]
     },
     "metadata": {},
     "output_type": "display_data"
    }
   ],
   "source": [
    "test_m = np.zeros(npix)\n",
    "radius = np.deg2rad(10)\n",
    "event_id = 10\n",
    "vec = hp.ang2vec(theta[event_id], phi[event_id])\n",
    "ipix = hp.query_disc(nside, vec=vec, radius=radius)\n",
    "in_disc = np.isin(np.arange(npix), ipix)\n",
    "test_m[in_disc] = 2\n",
    "test_m[~in_disc] = 1\n",
    "\n",
    "data_disc = skymap.copy()\n",
    "data_disc[~in_disc] = hp.UNSEEN\n",
    "\n",
    "hp.mollview(data_disc, rot=180, title='', cbar=False)\n",
    "hp.graticule(verbose=False)\n",
    "fig = plt.gcf()\n",
    "ax = plt.gca()\n",
    "image = ax.get_images()[0]\n",
    "cbar = fig.colorbar(image,\n",
    "                    orientation='horizontal',\n",
    "                    aspect=50,\n",
    "                    pad=0.01,\n",
    "                    fraction=0.1,\n",
    "                    ax=ax,\n",
    "                    format=FormatStrFormatter('%g'),\n",
    "                    shrink=1.0)\n",
    "cbar.set_label('Counts', size=14)\n",
    "ax.set_ylim(-1, 0.005)\n",
    "ax.annotate('0$^\\circ$', xy=(1.8, -0.75), size=14)\n",
    "ax.annotate('360$^\\circ$', xy=(-1.99, -0.75), size=14)\n",
    "ax.annotate('Disc on sky', xy=(-1.85,-0.24), size=20, color='white')\n",
    "plt.show()"
   ]
  },
  {
   "cell_type": "code",
   "execution_count": 302,
   "metadata": {},
   "outputs": [
    {
     "data": {
      "text/plain": [
       "(-1.5706758358557722, -0.9144460118811598)"
      ]
     },
     "execution_count": 302,
     "metadata": {},
     "output_type": "execute_result"
    }
   ],
   "source": [
    "dec.min(), dec.max()"
   ]
  },
  {
   "cell_type": "code",
   "execution_count": 349,
   "metadata": {},
   "outputs": [
    {
     "name": "stdout",
     "output_type": "stream",
     "text": [
      "dec_median = -1.31664469968 [rad]\n",
      "dec_median = -75.4381844099 [deg]\n"
     ]
    },
    {
     "data": {
      "image/png": "[encoded data removed]",
      "text/plain": [
       "<Figure size 432x288 with 1 Axes>"
      ]
     },
     "metadata": {},
     "output_type": "display_data"
    }
   ],
   "source": [
    "fig, ax = plt.subplots()\n",
    "ax.hist(np.rad2deg(dec), bins=50, alpha=0.8)\n",
    "dec_median = np.median(dec)\n",
    "dec_median_deg = np.rad2deg(dec_median)\n",
    "print('dec_median = {} [rad]'.format(dec_median))\n",
    "print('dec_median = {} [deg]'.format(dec_median_deg))\n",
    "ax.axvline(dec_median_deg, marker='None', ls='--', lw=1, color='k',\n",
    "           label='Median ({:0.1f}'.format(dec_median_deg)+' $^{\\circ}$)')\n",
    "# ax.set_yscale('log', nonposy='clip')\n",
    "ax.set_xlabel('Declination [$^{\\circ}$]')\n",
    "ax.set_ylabel('Counts')\n",
    "ax.grid()\n",
    "ax.legend()\n",
    "plt.show()"
   ]
  },
  {
   "cell_type": "code",
   "execution_count": 346,
   "metadata": {},
   "outputs": [
    {
     "data": {
      "text/plain": [
       "IC86.2012_120028_6075870_0   -1.323424\n",
       "IC86.2012_120028_6095290_0   -1.481215\n",
       "IC86.2012_120028_6106962_0   -1.420575\n",
       "IC86.2012_120028_6122859_0   -1.541910\n",
       "IC86.2012_120028_6150683_0   -1.347749\n",
       "IC86.2012_120028_6160121_0   -1.409074\n",
       "IC86.2012_120028_6177951_0   -1.437435\n",
       "IC86.2012_120028_6182558_0   -1.470857\n",
       "IC86.2012_120028_6200240_0   -1.404683\n",
       "IC86.2012_120028_6219569_0   -1.328515\n",
       "IC86.2012_120028_6228667_0   -1.429264\n",
       "IC86.2012_120028_6236308_0   -1.348106\n",
       "IC86.2012_120028_6251525_0   -1.335412\n",
       "IC86.2012_120028_6257336_0   -1.390313\n",
       "IC86.2012_120028_6261707_0   -1.450918\n",
       "IC86.2012_120028_6265022_0   -1.450372\n",
       "IC86.2012_120028_6285789_0   -1.396544\n",
       "IC86.2012_120028_6307544_0   -1.392730\n",
       "IC86.2012_120028_6318673_0   -1.324990\n",
       "IC86.2012_120028_6319546_0   -1.343454\n",
       "IC86.2012_120028_6338590_0   -1.339980\n",
       "IC86.2012_120028_6351626_0   -1.384467\n",
       "IC86.2012_120028_6411945_0   -1.319622\n",
       "IC86.2012_120028_6422892_0   -1.328417\n",
       "IC86.2012_120028_6425917_0   -1.317800\n",
       "IC86.2012_120028_6446535_0   -1.454786\n",
       "IC86.2012_120028_6447129_0   -1.354954\n",
       "IC86.2012_120028_6450221_0   -1.372876\n",
       "IC86.2012_120028_6475163_0   -1.393748\n",
       "IC86.2012_120028_6489438_0   -1.389738\n",
       "                                ...   \n",
       "IC86.2012_122275_6575411_0   -1.489112\n",
       "IC86.2012_122275_6582265_1   -1.368454\n",
       "IC86.2012_122275_6586185_0   -1.496383\n",
       "IC86.2012_122275_6600845_0   -1.370392\n",
       "IC86.2012_122275_6621140_1   -1.386076\n",
       "IC86.2012_122275_6635645_0   -1.457302\n",
       "IC86.2012_122275_6651381_0   -1.392282\n",
       "IC86.2012_122275_6660261_0   -1.393639\n",
       "IC86.2012_122275_6666610_0   -1.400012\n",
       "IC86.2012_122275_6675295_0   -1.377279\n",
       "IC86.2012_122275_6682626_0   -1.551524\n",
       "IC86.2012_122275_6697951_0   -1.402490\n",
       "IC86.2012_122275_6715144_0   -1.378409\n",
       "IC86.2012_122275_6745552_0   -1.481089\n",
       "IC86.2012_122275_6750223_0   -1.411683\n",
       "IC86.2012_122275_6758894_0   -1.339129\n",
       "IC86.2012_122275_6775123_0   -1.416969\n",
       "IC86.2012_122275_6785178_0   -1.358400\n",
       "IC86.2012_122275_6793322_0   -1.512798\n",
       "IC86.2012_122275_6813070_0   -1.442186\n",
       "IC86.2012_122275_6813199_0   -1.324668\n",
       "IC86.2012_122275_6834608_0   -1.545108\n",
       "IC86.2012_122275_6848951_0   -1.351534\n",
       "IC86.2012_122275_6860332_0   -1.434485\n",
       "IC86.2012_122275_6870559_0   -1.428628\n",
       "IC86.2012_122275_6892107_0   -1.406646\n",
       "IC86.2012_122275_6910038_0   -1.510615\n",
       "IC86.2012_122275_6911663_0   -1.341380\n",
       "IC86.2012_122275_6916796_0   -1.340779\n",
       "IC86.2012_122275_6925668_0   -1.339743\n",
       "Name: lap_dec, Length: 7395021, dtype: float64"
      ]
     },
     "execution_count": 346,
     "metadata": {},
     "output_type": "execute_result"
    }
   ],
   "source": [
    "dec_mask = df_data.lap_dec < dec_median\n",
    "df_data df_data.loc[dec_mask]"
   ]
  },
  {
   "cell_type": "code",
   "execution_count": 348,
   "metadata": {},
   "outputs": [
    {
     "data": {
      "text/plain": [
       "IC86.2012_120028_6077647_0   -1.081708\n",
       "IC86.2012_120028_6088516_0   -1.176766\n",
       "IC86.2012_120028_6089628_0   -1.167795\n",
       "IC86.2012_120028_6094183_0   -1.177557\n",
       "IC86.2012_120028_6094399_0   -1.271440\n",
       "IC86.2012_120028_6094537_0   -1.234041\n",
       "IC86.2012_120028_6098852_0   -1.253068\n",
       "IC86.2012_120028_6101501_0   -1.227375\n",
       "IC86.2012_120028_6104847_0   -1.262051\n",
       "IC86.2012_120028_6105170_1   -1.085234\n",
       "IC86.2012_120028_6116044_0   -1.296417\n",
       "IC86.2012_120028_6143069_0   -1.224308\n",
       "IC86.2012_120028_6143665_0   -1.308779\n",
       "IC86.2012_120028_6155001_0   -1.232278\n",
       "IC86.2012_120028_6156929_0   -1.313176\n",
       "IC86.2012_120028_6161194_0   -1.303295\n",
       "IC86.2012_120028_6172565_0   -1.085976\n",
       "IC86.2012_120028_6192282_0   -1.248428\n",
       "IC86.2012_120028_6197563_0   -1.207689\n",
       "IC86.2012_120028_6201094_0   -1.228728\n",
       "IC86.2012_120028_6207773_0   -1.206896\n",
       "IC86.2012_120028_6223615_0   -1.103649\n",
       "IC86.2012_120028_6224678_0   -1.221837\n",
       "IC86.2012_120028_6235221_0   -1.233793\n",
       "IC86.2012_120028_6276862_0   -1.153754\n",
       "IC86.2012_120028_6285257_0   -1.240523\n",
       "IC86.2012_120028_6288574_0   -1.201016\n",
       "IC86.2012_120028_6303257_0   -1.071564\n",
       "IC86.2012_120028_6309551_0   -1.211362\n",
       "IC86.2012_120028_6320251_0   -1.278666\n",
       "                                ...   \n",
       "IC86.2012_122275_6600784_0   -1.195635\n",
       "IC86.2012_122275_6610664_0   -1.080858\n",
       "IC86.2012_122275_6627449_0   -1.284717\n",
       "IC86.2012_122275_6645840_0   -1.204346\n",
       "IC86.2012_122275_6647083_0   -1.316249\n",
       "IC86.2012_122275_6647884_0   -1.128618\n",
       "IC86.2012_122275_6654186_0   -1.302878\n",
       "IC86.2012_122275_6659269_0   -1.123004\n",
       "IC86.2012_122275_6666229_0   -1.110008\n",
       "IC86.2012_122275_6666789_0   -1.233943\n",
       "IC86.2012_122275_6672161_0   -1.265153\n",
       "IC86.2012_122275_6691187_0   -1.153299\n",
       "IC86.2012_122275_6698206_0   -1.048506\n",
       "IC86.2012_122275_6700212_0   -1.249526\n",
       "IC86.2012_122275_6728489_1   -1.221067\n",
       "IC86.2012_122275_6738643_0   -1.127894\n",
       "IC86.2012_122275_6744094_0   -1.156056\n",
       "IC86.2012_122275_6752005_0   -1.133663\n",
       "IC86.2012_122275_6771956_0   -1.195852\n",
       "IC86.2012_122275_6777575_0   -1.227309\n",
       "IC86.2012_122275_6798434_0   -1.100697\n",
       "IC86.2012_122275_6800575_0   -1.239781\n",
       "IC86.2012_122275_6824275_0   -1.144203\n",
       "IC86.2012_122275_6839164_0   -1.221343\n",
       "IC86.2012_122275_6880345_0   -1.277965\n",
       "IC86.2012_122275_6894617_0   -1.307080\n",
       "IC86.2012_122275_6904797_0   -1.176063\n",
       "IC86.2012_122275_6915241_0   -1.153582\n",
       "IC86.2012_122275_6927286_0   -1.284492\n",
       "IC86.2012_122275_6932394_0   -1.230614\n",
       "Name: lap_dec, Length: 7395021, dtype: float64"
      ]
     },
     "execution_count": 348,
     "metadata": {},
     "output_type": "execute_result"
    }
   ],
   "source": [
    "df_data.loc[df_data.lap_dec > dec_median, 'lap_dec']"
   ]
  },
  {
   "cell_type": "code",
   "execution_count": null,
   "metadata": {},
   "outputs": [],
   "source": []
  }
 ],
 "metadata": {
  "kernelspec": {
   "display_name": "Python 2",
   "language": "python",
   "name": "python2"
  },
  "language_info": {
   "codemirror_mode": {
    "name": "ipython",
    "version": 2
   },
   "file_extension": ".py",
   "mimetype": "text/x-python",
   "name": "python",
   "nbconvert_exporter": "python",
   "pygments_lexer": "ipython2",
   "version": "2.7.13"
  }
 },
 "nbformat": 4,
 "nbformat_minor": 2
}
