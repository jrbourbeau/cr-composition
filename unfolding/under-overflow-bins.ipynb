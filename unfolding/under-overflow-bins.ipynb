{
 "cells": [
  {
   "cell_type": "code",
   "execution_count": 1,
   "metadata": {},
   "outputs": [
    {
     "name": "stderr",
     "output_type": "stream",
     "text": [
      "/home/jbourbeau/.virtualenvs/composition/lib/python2.7/site-packages/sklearn/cross_validation.py:41: DeprecationWarning: This module was deprecated in version 0.18 in favor of the model_selection module into which all the refactored classes and functions are moved. Also note that the interface of the new CV iterators are different from that of this module. This module will be removed in 0.20.\n",
      "  \"This module will be removed in 0.20.\", DeprecationWarning)\n"
     ]
    }
   ],
   "source": [
    "from __future__ import division\n",
    "import os\n",
    "import numpy as np\n",
    "import matplotlib.pyplot as plt\n",
    "import seaborn.apionly as sns\n",
    "\n",
    "import comptools as comp\n",
    "\n",
    "%matplotlib inline"
   ]
  },
  {
   "cell_type": "code",
   "execution_count": 2,
   "metadata": {
    "collapsed": true
   },
   "outputs": [],
   "source": [
    "config = 'IC86.2012'\n",
    "num_groups = 2\n",
    "comp_list = comp.get_comp_list(num_groups=num_groups)"
   ]
  },
  {
   "cell_type": "code",
   "execution_count": 3,
   "metadata": {
    "collapsed": true
   },
   "outputs": [],
   "source": [
    "energybins = comp.analysis.get_energybins()"
   ]
  },
  {
   "cell_type": "code",
   "execution_count": 4,
   "metadata": {
    "scrolled": true
   },
   "outputs": [
    {
     "name": "stderr",
     "output_type": "stream",
     "text": [
      "/home/jbourbeau/cr-composition/comptools/dataframe_functions.py:138: SettingWithCopyWarning: \n",
      "A value is trying to be set on a copy of a slice from a DataFrame.\n",
      "Try using .loc[row_indexer,col_indexer] = value instead\n",
      "\n",
      "See the caveats in the documentation: http://pandas.pydata.org/pandas-docs/stable/indexing.html#indexing-view-versus-copy\n",
      "  df['MC_log_energy'] = np.nan_to_num(np.log10(df['MC_energy']))\n",
      "/home/jbourbeau/cr-composition/comptools/dataframe_functions.py:140: SettingWithCopyWarning: \n",
      "A value is trying to be set on a copy of a slice from a DataFrame.\n",
      "Try using .loc[row_indexer,col_indexer] = value instead\n",
      "\n",
      "See the caveats in the documentation: http://pandas.pydata.org/pandas-docs/stable/indexing.html#indexing-view-versus-copy\n",
      "  df['lap_log_energy'] = np.nan_to_num(np.log10(df['lap_energy']))\n",
      "/home/jbourbeau/cr-composition/comptools/dataframe_functions.py:145: SettingWithCopyWarning: \n",
      "A value is trying to be set on a copy of a slice from a DataFrame.\n",
      "Try using .loc[row_indexer,col_indexer] = value instead\n",
      "\n",
      "See the caveats in the documentation: http://pandas.pydata.org/pandas-docs/stable/indexing.html#indexing-view-versus-copy\n",
      "  df['InIce_log_charge_'+i] = np.log10(df['InIce_charge_'+i])\n",
      "/home/jbourbeau/cr-composition/comptools/dataframe_functions.py:146: SettingWithCopyWarning: \n",
      "A value is trying to be set on a copy of a slice from a DataFrame.\n",
      "Try using .loc[row_indexer,col_indexer] = value instead\n",
      "\n",
      "See the caveats in the documentation: http://pandas.pydata.org/pandas-docs/stable/indexing.html#indexing-view-versus-copy\n",
      "  df['log_NChannels_'+i] = np.log10(df['NChannels_'+i])\n",
      "/home/jbourbeau/cr-composition/comptools/dataframe_functions.py:147: SettingWithCopyWarning: \n",
      "A value is trying to be set on a copy of a slice from a DataFrame.\n",
      "Try using .loc[row_indexer,col_indexer] = value instead\n",
      "\n",
      "See the caveats in the documentation: http://pandas.pydata.org/pandas-docs/stable/indexing.html#indexing-view-versus-copy\n",
      "  df['log_NHits_'+i] = np.log10(df['NHits_'+i])\n",
      "/home/jbourbeau/cr-composition/comptools/dataframe_functions.py:148: SettingWithCopyWarning: \n",
      "A value is trying to be set on a copy of a slice from a DataFrame.\n",
      "Try using .loc[row_indexer,col_indexer] = value instead\n",
      "\n",
      "See the caveats in the documentation: http://pandas.pydata.org/pandas-docs/stable/indexing.html#indexing-view-versus-copy\n",
      "  df['lap_cos_zenith'] = np.cos(df['lap_zenith'])\n",
      "/home/jbourbeau/cr-composition/comptools/dataframe_functions.py:150: SettingWithCopyWarning: \n",
      "A value is trying to be set on a copy of a slice from a DataFrame.\n",
      "Try using .loc[row_indexer,col_indexer] = value instead\n",
      "\n",
      "See the caveats in the documentation: http://pandas.pydata.org/pandas-docs/stable/indexing.html#indexing-view-versus-copy\n",
      "  df['log_s'+dist] = np.log10(df['lap_s'+dist])\n",
      "/home/jbourbeau/cr-composition/comptools/dataframe_functions.py:151: SettingWithCopyWarning: \n",
      "A value is trying to be set on a copy of a slice from a DataFrame.\n",
      "Try using .loc[row_indexer,col_indexer] = value instead\n",
      "\n",
      "See the caveats in the documentation: http://pandas.pydata.org/pandas-docs/stable/indexing.html#indexing-view-versus-copy\n",
      "  df['log_dEdX'] = np.log10(df['eloss_1500_standard'])\n",
      "/home/jbourbeau/cr-composition/comptools/dataframe_functions.py:152: SettingWithCopyWarning: \n",
      "A value is trying to be set on a copy of a slice from a DataFrame.\n",
      "Try using .loc[row_indexer,col_indexer] = value instead\n",
      "\n",
      "See the caveats in the documentation: http://pandas.pydata.org/pandas-docs/stable/indexing.html#indexing-view-versus-copy\n",
      "  df['log_d4r_peak_energy'] = np.log10(df['d4r_peak_energy'])\n",
      "/home/jbourbeau/cr-composition/comptools/dataframe_functions.py:153: SettingWithCopyWarning: \n",
      "A value is trying to be set on a copy of a slice from a DataFrame.\n",
      "Try using .loc[row_indexer,col_indexer] = value instead\n",
      "\n",
      "See the caveats in the documentation: http://pandas.pydata.org/pandas-docs/stable/indexing.html#indexing-view-versus-copy\n",
      "  df['log_d4r_peak_sigma'] = np.log10(df['d4r_peak_sigma'])\n"
     ]
    }
   ],
   "source": [
    "df_sim = comp.load_sim(config=config, test_size=0, log_energy_min=6.0, log_energy_max=8.3)"
   ]
  },
  {
   "cell_type": "code",
   "execution_count": 5,
   "metadata": {
    "collapsed": true
   },
   "outputs": [],
   "source": [
    "reco_log_energy = df_sim.reco_log_energy.values\n",
    "MC_log_energy = df_sim.MC_log_energy.values"
   ]
  },
  {
   "cell_type": "code",
   "execution_count": 6,
   "metadata": {},
   "outputs": [
    {
     "data": {
      "text/plain": [
       "(5.8706997933867777, 7.9804107283376275)"
      ]
     },
     "execution_count": 6,
     "metadata": {},
     "output_type": "execute_result"
    }
   ],
   "source": [
    "reco_log_energy.min(), reco_log_energy.max()"
   ]
  },
  {
   "cell_type": "code",
   "execution_count": 7,
   "metadata": {},
   "outputs": [
    {
     "data": {
      "text/plain": [
       "(5.6953482374002959, 7.999821416140386)"
      ]
     },
     "execution_count": 7,
     "metadata": {},
     "output_type": "execute_result"
    }
   ],
   "source": [
    "MC_log_energy.min(), MC_log_energy.max()"
   ]
  },
  {
   "cell_type": "code",
   "execution_count": 8,
   "metadata": {
    "scrolled": false
   },
   "outputs": [
    {
     "name": "stdout",
     "output_type": "stream",
     "text": [
      "[[  1.41900000e+03   1.03500000e+03   1.68000000e+02   6.00000000e+00\n",
      "    0.00000000e+00   0.00000000e+00   0.00000000e+00   0.00000000e+00\n",
      "    0.00000000e+00   0.00000000e+00   0.00000000e+00   0.00000000e+00\n",
      "    0.00000000e+00   0.00000000e+00   0.00000000e+00   0.00000000e+00\n",
      "    0.00000000e+00   0.00000000e+00   0.00000000e+00]\n",
      " [  9.03000000e+02   2.15000000e+03   1.15200000e+03   9.70000000e+01\n",
      "    2.00000000e+00   0.00000000e+00   0.00000000e+00   0.00000000e+00\n",
      "    0.00000000e+00   0.00000000e+00   0.00000000e+00   0.00000000e+00\n",
      "    0.00000000e+00   0.00000000e+00   0.00000000e+00   0.00000000e+00\n",
      "    0.00000000e+00   0.00000000e+00   0.00000000e+00]\n",
      " [  2.13000000e+02   1.21300000e+03   2.49600000e+03   1.13200000e+03\n",
      "    1.03000000e+02   0.00000000e+00   0.00000000e+00   0.00000000e+00\n",
      "    0.00000000e+00   0.00000000e+00   0.00000000e+00   0.00000000e+00\n",
      "    0.00000000e+00   0.00000000e+00   0.00000000e+00   0.00000000e+00\n",
      "    0.00000000e+00   0.00000000e+00   0.00000000e+00]\n",
      " [  1.90000000e+01   1.74000000e+02   1.26600000e+03   2.69000000e+03\n",
      "    1.11000000e+03   5.20000000e+01   0.00000000e+00   0.00000000e+00\n",
      "    0.00000000e+00   0.00000000e+00   0.00000000e+00   0.00000000e+00\n",
      "    0.00000000e+00   0.00000000e+00   0.00000000e+00   0.00000000e+00\n",
      "    0.00000000e+00   0.00000000e+00   0.00000000e+00]\n",
      " [  0.00000000e+00   1.10000000e+01   1.33000000e+02   1.18500000e+03\n",
      "    2.87600000e+03   9.55000000e+02   4.20000000e+01   0.00000000e+00\n",
      "    0.00000000e+00   0.00000000e+00   0.00000000e+00   0.00000000e+00\n",
      "    0.00000000e+00   0.00000000e+00   0.00000000e+00   0.00000000e+00\n",
      "    0.00000000e+00   0.00000000e+00   0.00000000e+00]\n",
      " [  0.00000000e+00   1.00000000e+00   9.00000000e+00   1.04000000e+02\n",
      "    1.14000000e+03   3.19000000e+03   1.11700000e+03   3.40000000e+01\n",
      "    0.00000000e+00   0.00000000e+00   0.00000000e+00   0.00000000e+00\n",
      "    0.00000000e+00   0.00000000e+00   0.00000000e+00   0.00000000e+00\n",
      "    0.00000000e+00   0.00000000e+00   0.00000000e+00]\n",
      " [  7.00000000e+00   4.00000000e+00   1.30000000e+01   1.30000000e+01\n",
      "    1.36000000e+02   1.14900000e+03   3.51000000e+03   1.03900000e+03\n",
      "    2.20000000e+01   0.00000000e+00   0.00000000e+00   0.00000000e+00\n",
      "    0.00000000e+00   0.00000000e+00   0.00000000e+00   0.00000000e+00\n",
      "    0.00000000e+00   0.00000000e+00   0.00000000e+00]\n",
      " [  0.00000000e+00   0.00000000e+00   0.00000000e+00   2.00000000e+00\n",
      "    1.40000000e+01   7.70000000e+01   1.24200000e+03   3.36400000e+03\n",
      "    8.02000000e+02   7.00000000e+00   0.00000000e+00   0.00000000e+00\n",
      "    0.00000000e+00   0.00000000e+00   0.00000000e+00   0.00000000e+00\n",
      "    0.00000000e+00   0.00000000e+00   0.00000000e+00]\n",
      " [  0.00000000e+00   0.00000000e+00   2.00000000e+00   3.00000000e+00\n",
      "    3.00000000e+00   5.00000000e+00   8.60000000e+01   1.09700000e+03\n",
      "    3.84600000e+03   4.65000000e+02   1.10000000e+01   0.00000000e+00\n",
      "    0.00000000e+00   0.00000000e+00   0.00000000e+00   0.00000000e+00\n",
      "    0.00000000e+00   0.00000000e+00   0.00000000e+00]\n",
      " [  0.00000000e+00   0.00000000e+00   0.00000000e+00   0.00000000e+00\n",
      "    3.00000000e+00   2.00000000e+00   7.00000000e+00   4.20000000e+01\n",
      "    6.53000000e+02   1.33500000e+03   3.09000000e+02   2.00000000e+00\n",
      "    0.00000000e+00   0.00000000e+00   0.00000000e+00   0.00000000e+00\n",
      "    0.00000000e+00   0.00000000e+00   0.00000000e+00]\n",
      " [  0.00000000e+00   0.00000000e+00   0.00000000e+00   0.00000000e+00\n",
      "    0.00000000e+00   0.00000000e+00   0.00000000e+00   3.00000000e+00\n",
      "    3.50000000e+01   4.07000000e+02   1.55500000e+03   3.12000000e+02\n",
      "    7.00000000e+00   0.00000000e+00   0.00000000e+00   0.00000000e+00\n",
      "    0.00000000e+00   0.00000000e+00   0.00000000e+00]\n",
      " [  0.00000000e+00   0.00000000e+00   0.00000000e+00   0.00000000e+00\n",
      "    4.00000000e+00   3.00000000e+00   0.00000000e+00   0.00000000e+00\n",
      "    1.00000000e+00   1.20000000e+01   4.78000000e+02   1.35500000e+03\n",
      "    4.32000000e+02   2.00000000e+00   0.00000000e+00   0.00000000e+00\n",
      "    0.00000000e+00   0.00000000e+00   0.00000000e+00]\n",
      " [  0.00000000e+00   0.00000000e+00   0.00000000e+00   0.00000000e+00\n",
      "    0.00000000e+00   0.00000000e+00   0.00000000e+00   0.00000000e+00\n",
      "    2.00000000e+00   1.00000000e+00   1.60000000e+01   3.83000000e+02\n",
      "    1.64900000e+03   3.32000000e+02   2.00000000e+00   0.00000000e+00\n",
      "    0.00000000e+00   0.00000000e+00   0.00000000e+00]\n",
      " [  0.00000000e+00   0.00000000e+00   0.00000000e+00   0.00000000e+00\n",
      "    0.00000000e+00   0.00000000e+00   0.00000000e+00   1.00000000e+00\n",
      "    3.00000000e+00   1.00000000e+00   0.00000000e+00   2.00000000e+01\n",
      "    3.75000000e+02   1.46900000e+03   3.91000000e+02   1.00000000e+00\n",
      "    0.00000000e+00   0.00000000e+00   0.00000000e+00]\n",
      " [  0.00000000e+00   0.00000000e+00   0.00000000e+00   0.00000000e+00\n",
      "    0.00000000e+00   0.00000000e+00   0.00000000e+00   0.00000000e+00\n",
      "    0.00000000e+00   0.00000000e+00   0.00000000e+00   1.00000000e+00\n",
      "    3.20000000e+01   3.41000000e+02   1.77700000e+03   3.39000000e+02\n",
      "    0.00000000e+00   0.00000000e+00   0.00000000e+00]\n",
      " [  0.00000000e+00   0.00000000e+00   0.00000000e+00   0.00000000e+00\n",
      "    0.00000000e+00   0.00000000e+00   0.00000000e+00   0.00000000e+00\n",
      "    0.00000000e+00   0.00000000e+00   0.00000000e+00   0.00000000e+00\n",
      "    9.00000000e+00   3.10000000e+01   3.43000000e+02   1.69700000e+03\n",
      "    3.88000000e+02   1.00000000e+00   0.00000000e+00]\n",
      " [  0.00000000e+00   0.00000000e+00   0.00000000e+00   0.00000000e+00\n",
      "    0.00000000e+00   0.00000000e+00   0.00000000e+00   0.00000000e+00\n",
      "    0.00000000e+00   0.00000000e+00   0.00000000e+00   1.00000000e+00\n",
      "    0.00000000e+00   5.00000000e+00   1.60000000e+01   3.68000000e+02\n",
      "    1.76900000e+03   2.64000000e+02   0.00000000e+00]\n",
      " [  0.00000000e+00   0.00000000e+00   0.00000000e+00   0.00000000e+00\n",
      "    0.00000000e+00   0.00000000e+00   0.00000000e+00   0.00000000e+00\n",
      "    0.00000000e+00   0.00000000e+00   0.00000000e+00   0.00000000e+00\n",
      "    0.00000000e+00   3.00000000e+00   6.00000000e+00   2.50000000e+01\n",
      "    5.61000000e+02   1.82500000e+03   2.57000000e+02]\n",
      " [  0.00000000e+00   0.00000000e+00   0.00000000e+00   0.00000000e+00\n",
      "    0.00000000e+00   0.00000000e+00   0.00000000e+00   0.00000000e+00\n",
      "    0.00000000e+00   0.00000000e+00   0.00000000e+00   1.00000000e+00\n",
      "    2.00000000e+00   0.00000000e+00   0.00000000e+00   6.00000000e+00\n",
      "    2.00000000e+01   4.18000000e+02   1.94900000e+03]]\n"
     ]
    }
   ],
   "source": [
    "h, xedges, yedges = np.histogram2d(MC_log_energy, reco_log_energy, bins=energybins.log_energy_bins)\n",
    "extent = [xedges[0], xedges[-1], yedges[0], yedges[-1]]\n",
    "h = h / h.sum(axis=0)\n",
    "h = h.T"
   ]
  },
  {
   "cell_type": "code",
   "execution_count": 17,
   "metadata": {
    "scrolled": false
   },
   "outputs": [
    {
     "data": {
      "image/png": "[encoded data removed]",
      "text/plain": [
       "<matplotlib.figure.Figure at 0x7f04850ab910>"
      ]
     },
     "metadata": {},
     "output_type": "display_data"
    }
   ],
   "source": [
    "bins = energybins.log_energy_bins\n",
    "bin_midpoints = energybins.log_energy_midpoints\n",
    "\n",
    "fig, ax = plt.subplots(figsize=(10, 8))\n",
    "im = ax.imshow(h, origin='lower', extent=extent)\n",
    "# Current analysis range\n",
    "# ax.axvline(6.4, marker='None', ls='-.', color='w')\n",
    "# ax.axhline(6.4, marker='None', ls='-.', color='w')\n",
    "# ax.axvline(7.9, marker='None', ls='-.', color='w')\n",
    "# ax.axhline(7.9, marker='None', ls='-.', color='w')\n",
    "\n",
    "# for i in bins:\n",
    "#     ax.axvline(i, marker='None', ls=':', color='w')\n",
    "#     ax.axhline(i, marker='None', ls=':', color='w')\n",
    "\n",
    "ax.axvline(6.4, marker='None', ls='-.', color='C1')\n",
    "ax.axhline(6.4, marker='None', ls='-.', color='C1')\n",
    "# ax.axvline(7.8, marker='None', ls='-.', color='C1')\n",
    "# ax.axhline(7.8, marker='None', ls='-.', color='C1')\n",
    "\n",
    "# Add histogram value annotations\n",
    "for i in range(len(xedges)-1):\n",
    "    for j in range(len(yedges)-1):\n",
    "        if h[j, i] != 0 and ~np.isnan(h)[j, i]:\n",
    "            ax.text(bin_midpoints[i], bin_midpoints[j], '{:0.2f}'.format(h[j, i]), \n",
    "                    color='w', ha=\"center\", va=\"center\")\n",
    "        \n",
    "ax.set_xlabel('$\\mathrm{\\log_{10}(E_{true}/GeV)}$')\n",
    "ax.set_ylabel('$\\mathrm{\\log_{10}(E_{reco}/GeV)}$')\n",
    "ax.set_xlim(6.1, 8)\n",
    "ax.set_ylim(6.1, 8)\n",
    "# ax.text(6.375, 5.935, '6.4')\n",
    "# ax.text(5.925, 6.375, '6.4')\n",
    "plt.colorbar(im, label='$\\mathrm{P(E_{true}|E_{reco})}$')\n",
    "outfile = os.path.join(comp.paths.figures_dir, 'unfolding', 'analysis-bins.png')\n",
    "plt.savefig(outfile)\n",
    "plt.show()"
   ]
  },
  {
   "cell_type": "code",
   "execution_count": null,
   "metadata": {
    "collapsed": true
   },
   "outputs": [],
   "source": []
  }
 ],
 "metadata": {
  "kernelspec": {
   "display_name": "Python 2",
   "language": "python",
   "name": "python2"
  },
  "language_info": {
   "codemirror_mode": {
    "name": "ipython",
    "version": 2
   },
   "file_extension": ".py",
   "mimetype": "text/x-python",
   "name": "python",
   "nbconvert_exporter": "python",
   "pygments_lexer": "ipython2",
   "version": "2.7.13"
  }
 },
 "nbformat": 4,
 "nbformat_minor": 2
}
