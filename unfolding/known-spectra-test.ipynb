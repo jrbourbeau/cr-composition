{
 "cells": [
  {
   "cell_type": "code",
   "execution_count": 1,
   "metadata": {},
   "outputs": [
    {
     "name": "stderr",
     "output_type": "stream",
     "text": [
      "/home/jbourbeau/.virtualenvs/composition/lib/python2.7/site-packages/sklearn/cross_validation.py:41: DeprecationWarning: This module was deprecated in version 0.18 in favor of the model_selection module into which all the refactored classes and functions are moved. Also note that the interface of the new CV iterators are different from that of this module. This module will be removed in 0.20.\n",
      "  \"This module will be removed in 0.20.\", DeprecationWarning)\n"
     ]
    }
   ],
   "source": [
    "from __future__ import division\n",
    "import os\n",
    "from collections import defaultdict\n",
    "import itertools\n",
    "import subprocess\n",
    "import numpy as np\n",
    "import pandas as pd\n",
    "import seaborn as sns\n",
    "import matplotlib.pyplot as plt\n",
    "import pyprind\n",
    "\n",
    "import comptools as comp\n",
    "import comptools.analysis.plotting as plotting\n",
    "\n",
    "from save_pyunfold_format import save_pyunfold_root_file\n",
    "from run_unfolding import unfold\n",
    "    \n",
    "# color_dict allows for a consistent color-coding for each composition\n",
    "color_dict = comp.analysis.get_color_dict()\n",
    "\n",
    "%matplotlib inline"
   ]
  },
  {
   "cell_type": "code",
   "execution_count": 2,
   "metadata": {
    "collapsed": true
   },
   "outputs": [],
   "source": [
    "# config = 'IC79.2010'\n",
    "config = 'IC86.2012'\n",
    "num_groups = 4\n",
    "comp_list = comp.get_comp_list(num_groups=num_groups)"
   ]
  },
  {
   "cell_type": "code",
   "execution_count": 3,
   "metadata": {
    "collapsed": true
   },
   "outputs": [],
   "source": [
    "energybins = comp.analysis.get_energybins(config)"
   ]
  },
  {
   "cell_type": "code",
   "execution_count": 4,
   "metadata": {
    "collapsed": true
   },
   "outputs": [],
   "source": [
    "feature_list, feature_labels = comp.analysis.get_training_features()\n",
    "pipeline_str = 'BDT_comp_{}_{}-groups'.format(config, num_groups)"
   ]
  },
  {
   "cell_type": "code",
   "execution_count": 5,
   "metadata": {
    "collapsed": true
   },
   "outputs": [],
   "source": [
    "unfolding_dir  = os.path.join(comp.paths.comp_data_dir, config,\n",
    "                              'unfolding')\n",
    "figures_dir  = os.path.join(comp.paths.figures_dir, 'unfolding', config,\n",
    "                            'datachallenge')"
   ]
  },
  {
   "cell_type": "code",
   "execution_count": 6,
   "metadata": {},
   "outputs": [
    {
     "name": "stdout",
     "output_type": "stream",
     "text": [
      "[########################################] | 100% Completed |  7min 54.4s\n"
     ]
    }
   ],
   "source": [
    "df_data = comp.load_data(config=config,\n",
    "                         log_energy_min=energybins.log_energy_min,\n",
    "                         log_energy_max=energybins.log_energy_max,\n",
    "                         columns=feature_list,\n",
    "                         n_jobs=10, verbose=True)"
   ]
  },
  {
   "cell_type": "code",
   "execution_count": 7,
   "metadata": {},
   "outputs": [
    {
     "name": "stderr",
     "output_type": "stream",
     "text": [
      "/home/jbourbeau/.virtualenvs/composition/lib/python2.7/site-packages/matplotlib/figure.py:1743: UserWarning: This figure includes Axes that are not compatible with tight_layout, so its results might be incorrect.\n",
      "  warnings.warn(\"This figure includes Axes that are not \"\n"
     ]
    },
    {
     "data": {
      "image/png": "[encoded data removed]",
      "text/plain": [
       "<matplotlib.figure.Figure at 0x7febb41fe410>"
      ]
     },
     "metadata": {},
     "output_type": "display_data"
    }
   ],
   "source": [
    "fig, ax = plt.subplots()\n",
    "df_data.reco_log_energy.plot(kind='hist', histtype='step', bins=energybins.log_energy_bins,\n",
    "                             color=color_dict['data'], logy=True, ax=ax)\n",
    "ax.grid()\n",
    "plt.show()"
   ]
  },
  {
   "cell_type": "markdown",
   "metadata": {},
   "source": [
    "## Load simulation & train BDT"
   ]
  },
  {
   "cell_type": "code",
   "execution_count": 6,
   "metadata": {},
   "outputs": [
    {
     "name": "stdout",
     "output_type": "stream",
     "text": [
      "[########################################] | 100% Completed |  1.1s\n"
     ]
    }
   ],
   "source": [
    "df_sim_train, df_sim_test = comp.load_sim(config=config,\n",
    "                                          log_energy_min=energybins.log_energy_min,\n",
    "                                          log_energy_max=energybins.log_energy_max,\n",
    "                                          test_size=0.5, verbose=True)"
   ]
  },
  {
   "cell_type": "code",
   "execution_count": 7,
   "metadata": {},
   "outputs": [
    {
     "name": "stdout",
     "output_type": "stream",
     "text": [
      "Fitting composition classifier...\n"
     ]
    }
   ],
   "source": [
    "pipeline = comp.get_pipeline(pipeline_str)\n",
    "\n",
    "# Fit composition classifier\n",
    "print('Fitting composition classifier...')\n",
    "pipeline = pipeline.fit(df_sim_train[feature_list],\n",
    "                        df_sim_train['comp_target_{}'.format(num_groups)])"
   ]
  },
  {
   "cell_type": "code",
   "execution_count": 8,
   "metadata": {},
   "outputs": [
    {
     "name": "stderr",
     "output_type": "stream",
     "text": [
      "/home/jbourbeau/.virtualenvs/composition/lib/python2.7/site-packages/matplotlib/figure.py:2022: UserWarning: This figure includes Axes that are not compatible with tight_layout, so results might be incorrect.\n",
      "  warnings.warn(\"This figure includes Axes that are not compatible \"\n"
     ]
    },
    {
     "data": {
      "image/png": "[encoded data removed]",
      "text/plain": [
       "<matplotlib.figure.Figure at 0x7ff0043998d0>"
      ]
     },
     "metadata": {},
     "output_type": "display_data"
    }
   ],
   "source": [
    "fig, ax = plt.subplots()\n",
    "for composition in comp_list:\n",
    "    comp_mask = df_sim_test['comp_group_{}'.format(num_groups)] == composition\n",
    "    counts = np.histogram(df_sim_test.loc[comp_mask, 'MC_log_energy'], bins=energybins.log_energy_bins)[0]\n",
    "    plotting.plot_steps(energybins.log_energy_bins, counts, label=composition,\n",
    "                        color=color_dict[composition], ax=ax)\n",
    "\n",
    "ax.set_xlim(energybins.log_energy_min, energybins.log_energy_max)\n",
    "ax.set_xlabel('$\\mathrm{\\log_{10}(E/GeV)}$')\n",
    "ax.set_ylabel('Counts')\n",
    "ax.grid()\n",
    "\n",
    "leg = plt.legend(\n",
    "                 loc='upper center', frameon=False,\n",
    "                 bbox_to_anchor=(0.5,  # horizontal\n",
    "                                 1.2),# vertical \n",
    "                 ncol=len(comp_list)//2, fancybox=False)\n",
    "nevents_outfile = os.path.join(figures_dir, 'num_testing_sim_events.png'.format(config))\n",
    "comp.check_output_dir(nevents_outfile)\n",
    "plt.savefig(nevents_outfile)\n",
    "plt.show()"
   ]
  },
  {
   "cell_type": "markdown",
   "metadata": {},
   "source": [
    "Plot true flux"
   ]
  },
  {
   "cell_type": "code",
   "execution_count": 9,
   "metadata": {},
   "outputs": [
    {
     "data": {
      "text/plain": [
       "2.5804847429997841"
      ]
     },
     "execution_count": 9,
     "metadata": {},
     "output_type": "execute_result"
    }
   ],
   "source": [
    "# Solid angle\n",
    "theta_max = 40 if config == 'IC79.2010' else 65\n",
    "# solid_angle = 2*np.pi*(np.cos(df_sim_train['lap_zenith'].min())-np.cos(df_sim_train['lap_zenith'].max()))\n",
    "solid_angle = np.pi*np.sin(np.deg2rad(theta_max))**2\n",
    "solid_angle"
   ]
  },
  {
   "cell_type": "code",
   "execution_count": 10,
   "metadata": {},
   "outputs": [
    {
     "data": {
      "text/plain": [
       "(28442248.921, 2699.1328177300002)"
      ]
     },
     "execution_count": 10,
     "metadata": {},
     "output_type": "execute_result"
    }
   ],
   "source": [
    "livetime, livetime_err = comp.get_detector_livetime(config=config)\n",
    "livetime, livetime_err"
   ]
  },
  {
   "cell_type": "code",
   "execution_count": 11,
   "metadata": {},
   "outputs": [
    {
     "name": "stdout",
     "output_type": "stream",
     "text": [
      "thrown_area = 9079202.76887\n"
     ]
    }
   ],
   "source": [
    "# Get simulation thrown areas for each energy bin\n",
    "thrown_radii = comp.simfunctions.get_sim_thrown_radius(energybins.log_energy_midpoints)\n",
    "thrown_areas = np.pi * thrown_radii**2\n",
    "thrown_area = thrown_areas.max()\n",
    "print('thrown_area = {}'.format(thrown_area))"
   ]
  },
  {
   "cell_type": "code",
   "execution_count": 12,
   "metadata": {},
   "outputs": [
    {
     "name": "stdout",
     "output_type": "stream",
     "text": [
      "Loading detection efficiencies...\n"
     ]
    }
   ],
   "source": [
    "# Load fitted effective area\n",
    "print('Loading detection efficiencies...')\n",
    "eff_path = os.path.join(\n",
    "                comp.paths.comp_data_dir, config, 'efficiencies',\n",
    "                'efficiency_fit_num_groups_{}.hdf'.format(num_groups))\n",
    "df_eff = pd.read_hdf(eff_path)"
   ]
  },
  {
   "cell_type": "code",
   "execution_count": 13,
   "metadata": {},
   "outputs": [
    {
     "data": {
      "text/html": [
       "<div>\n",
       "<style>\n",
       "    .dataframe thead tr:only-child th {\n",
       "        text-align: right;\n",
       "    }\n",
       "\n",
       "    .dataframe thead th {\n",
       "        text-align: left;\n",
       "    }\n",
       "\n",
       "    .dataframe tbody tr th {\n",
       "        vertical-align: top;\n",
       "    }\n",
       "</style>\n",
       "<table border=\"1\" class=\"dataframe\">\n",
       "  <thead>\n",
       "    <tr style=\"text-align: right;\">\n",
       "      <th></th>\n",
       "      <th>eff_median_PPlus</th>\n",
       "      <th>eff_err_low_PPlus</th>\n",
       "      <th>eff_err_high_PPlus</th>\n",
       "      <th>eff_median_He4Nucleus</th>\n",
       "      <th>eff_err_low_He4Nucleus</th>\n",
       "      <th>eff_err_high_He4Nucleus</th>\n",
       "      <th>eff_median_O16Nucleus</th>\n",
       "      <th>eff_err_low_O16Nucleus</th>\n",
       "      <th>eff_err_high_O16Nucleus</th>\n",
       "      <th>eff_median_Fe56Nucleus</th>\n",
       "      <th>eff_err_low_Fe56Nucleus</th>\n",
       "      <th>eff_err_high_Fe56Nucleus</th>\n",
       "    </tr>\n",
       "  </thead>\n",
       "  <tbody>\n",
       "    <tr>\n",
       "      <th>0</th>\n",
       "      <td>0.006948</td>\n",
       "      <td>0.000107</td>\n",
       "      <td>0.000114</td>\n",
       "      <td>0.007265</td>\n",
       "      <td>0.000114</td>\n",
       "      <td>0.000122</td>\n",
       "      <td>0.006650</td>\n",
       "      <td>0.000111</td>\n",
       "      <td>0.000106</td>\n",
       "      <td>0.006148</td>\n",
       "      <td>0.000120</td>\n",
       "      <td>0.000123</td>\n",
       "    </tr>\n",
       "    <tr>\n",
       "      <th>1</th>\n",
       "      <td>0.007616</td>\n",
       "      <td>0.000090</td>\n",
       "      <td>0.000093</td>\n",
       "      <td>0.008219</td>\n",
       "      <td>0.000094</td>\n",
       "      <td>0.000098</td>\n",
       "      <td>0.007516</td>\n",
       "      <td>0.000085</td>\n",
       "      <td>0.000087</td>\n",
       "      <td>0.007408</td>\n",
       "      <td>0.000098</td>\n",
       "      <td>0.000098</td>\n",
       "    </tr>\n",
       "    <tr>\n",
       "      <th>2</th>\n",
       "      <td>0.008009</td>\n",
       "      <td>0.000088</td>\n",
       "      <td>0.000088</td>\n",
       "      <td>0.008716</td>\n",
       "      <td>0.000092</td>\n",
       "      <td>0.000081</td>\n",
       "      <td>0.007946</td>\n",
       "      <td>0.000088</td>\n",
       "      <td>0.000092</td>\n",
       "      <td>0.008033</td>\n",
       "      <td>0.000097</td>\n",
       "      <td>0.000089</td>\n",
       "    </tr>\n",
       "    <tr>\n",
       "      <th>3</th>\n",
       "      <td>0.008248</td>\n",
       "      <td>0.000095</td>\n",
       "      <td>0.000090</td>\n",
       "      <td>0.008936</td>\n",
       "      <td>0.000087</td>\n",
       "      <td>0.000086</td>\n",
       "      <td>0.008174</td>\n",
       "      <td>0.000091</td>\n",
       "      <td>0.000092</td>\n",
       "      <td>0.008316</td>\n",
       "      <td>0.000098</td>\n",
       "      <td>0.000093</td>\n",
       "    </tr>\n",
       "    <tr>\n",
       "      <th>4</th>\n",
       "      <td>0.008406</td>\n",
       "      <td>0.000096</td>\n",
       "      <td>0.000091</td>\n",
       "      <td>0.009025</td>\n",
       "      <td>0.000086</td>\n",
       "      <td>0.000088</td>\n",
       "      <td>0.008328</td>\n",
       "      <td>0.000086</td>\n",
       "      <td>0.000085</td>\n",
       "      <td>0.008461</td>\n",
       "      <td>0.000092</td>\n",
       "      <td>0.000094</td>\n",
       "    </tr>\n",
       "  </tbody>\n",
       "</table>\n",
       "</div>"
      ],
      "text/plain": [
       "   eff_median_PPlus  eff_err_low_PPlus  eff_err_high_PPlus  \\\n",
       "0          0.006948           0.000107            0.000114   \n",
       "1          0.007616           0.000090            0.000093   \n",
       "2          0.008009           0.000088            0.000088   \n",
       "3          0.008248           0.000095            0.000090   \n",
       "4          0.008406           0.000096            0.000091   \n",
       "\n",
       "   eff_median_He4Nucleus  eff_err_low_He4Nucleus  eff_err_high_He4Nucleus  \\\n",
       "0               0.007265                0.000114                 0.000122   \n",
       "1               0.008219                0.000094                 0.000098   \n",
       "2               0.008716                0.000092                 0.000081   \n",
       "3               0.008936                0.000087                 0.000086   \n",
       "4               0.009025                0.000086                 0.000088   \n",
       "\n",
       "   eff_median_O16Nucleus  eff_err_low_O16Nucleus  eff_err_high_O16Nucleus  \\\n",
       "0               0.006650                0.000111                 0.000106   \n",
       "1               0.007516                0.000085                 0.000087   \n",
       "2               0.007946                0.000088                 0.000092   \n",
       "3               0.008174                0.000091                 0.000092   \n",
       "4               0.008328                0.000086                 0.000085   \n",
       "\n",
       "   eff_median_Fe56Nucleus  eff_err_low_Fe56Nucleus  eff_err_high_Fe56Nucleus  \n",
       "0                0.006148                 0.000120                  0.000123  \n",
       "1                0.007408                 0.000098                  0.000098  \n",
       "2                0.008033                 0.000097                  0.000089  \n",
       "3                0.008316                 0.000098                  0.000093  \n",
       "4                0.008461                 0.000092                  0.000094  "
      ]
     },
     "execution_count": 13,
     "metadata": {},
     "output_type": "execute_result"
    }
   ],
   "source": [
    "df_eff.head()"
   ]
  },
  {
   "cell_type": "code",
   "execution_count": 14,
   "metadata": {},
   "outputs": [
    {
     "data": {
      "image/png": "[encoded data removed]",
      "text/plain": [
       "<matplotlib.figure.Figure at 0x7fefa6a5ca10>"
      ]
     },
     "metadata": {},
     "output_type": "display_data"
    }
   ],
   "source": [
    "eff_area, eff_area_err = {}, {}\n",
    "fig, ax = plt.subplots()\n",
    "for composition in comp_list:\n",
    "    eff_area[composition] = df_eff['eff_median_{}'.format(composition)]*thrown_area\n",
    "    eff_area_err[composition] = df_eff['eff_err_low_{}'.format(composition)]*thrown_area\n",
    "    plotting.plot_steps(energybins.log_energy_bins, eff_area[composition], eff_area_err[composition], \n",
    "                        color=color_dict[composition], label=composition, ax=ax)\n",
    "ax.set_ylim(0)\n",
    "ax.grid()\n",
    "plt.show()"
   ]
  },
  {
   "cell_type": "markdown",
   "metadata": {},
   "source": [
    "Generate fake counts distribution for each composition\n",
    "\n",
    "(In the future, this will be specified by Josh/Zach)"
   ]
  },
  {
   "cell_type": "code",
   "execution_count": 30,
   "metadata": {
    "collapsed": true
   },
   "outputs": [],
   "source": [
    "random_state = 2\n",
    "np.random.seed(random_state)"
   ]
  },
  {
   "cell_type": "code",
   "execution_count": 17,
   "metadata": {
    "collapsed": true
   },
   "outputs": [],
   "source": [
    "counts_true = pd.DataFrame(index=energybins.log_energy_midpoints,\n",
    "                      columns=comp_list)\n",
    "\n",
    "# for composition in comp_list:\n",
    "#     counts_true[composition] = np.random.randint(100, 1e4,\n",
    "#                                             size=len(energybins.log_energy_midpoints),\n",
    "#                                             dtype=int)\n",
    "\n",
    "for composition, value in zip(comp_list, [1000, 800, 700, 600]):\n",
    "    counts_true[composition] = np.array([value]*len(energybins.log_energy_midpoints))\n",
    "\n",
    "# n_energy_bins = len(energybins.log_energy_midpoints)\n",
    "# for composition in comp_list:\n",
    "#     if composition == 'PPlus':\n",
    "#         n_min = 10000\n",
    "#         n_max = 10\n",
    "#         counts_true[composition] = [int(n_min + i*((n_max-n_min) / n_energy_bins)) for i in range(n_energy_bins)]\n",
    "#     elif composition == 'He4Nucleus':\n",
    "#         n_min = 5000\n",
    "#         n_max = 500\n",
    "#         counts_true[composition] = [int(n_min + i*((n_max-n_min) / n_energy_bins)) for i in range(n_energy_bins)]\n",
    "#     elif composition == 'O16Nucleus':\n",
    "#         n_min = 1000\n",
    "#         n_max = 2000\n",
    "#         counts_true[composition] = [int(n_min + i*((n_max-n_min) / n_energy_bins)) for i in range(n_energy_bins)]\n",
    "#     elif composition == 'Fe56Nucleus':\n",
    "#         counts_true[composition] = [3000]*n_energy_bins"
   ]
  },
  {
   "cell_type": "code",
   "execution_count": 101,
   "metadata": {
    "collapsed": true
   },
   "outputs": [],
   "source": [
    "model_flux = comp.analysis.get_model_flux(model='H3a',\n",
    "                                          energy=energybins.energy_midpoints,\n",
    "                                          num_groups=num_groups)"
   ]
  },
  {
   "cell_type": "code",
   "execution_count": 102,
   "metadata": {},
   "outputs": [
    {
     "data": {
      "text/html": [
       "<div>\n",
       "<style>\n",
       "    .dataframe thead tr:only-child th {\n",
       "        text-align: right;\n",
       "    }\n",
       "\n",
       "    .dataframe thead th {\n",
       "        text-align: left;\n",
       "    }\n",
       "\n",
       "    .dataframe tbody tr th {\n",
       "        vertical-align: top;\n",
       "    }\n",
       "</style>\n",
       "<table border=\"1\" class=\"dataframe\">\n",
       "  <thead>\n",
       "    <tr style=\"text-align: right;\">\n",
       "      <th></th>\n",
       "      <th>flux_PPlus</th>\n",
       "      <th>flux_He4Nucleus</th>\n",
       "      <th>flux_O16Nucleus</th>\n",
       "      <th>flux_Fe56Nucleus</th>\n",
       "      <th>flux_total</th>\n",
       "    </tr>\n",
       "  </thead>\n",
       "  <tbody>\n",
       "    <tr>\n",
       "      <th>0</th>\n",
       "      <td>2.776881e-13</td>\n",
       "      <td>4.410539e-13</td>\n",
       "      <td>2.431070e-13</td>\n",
       "      <td>1.651639e-13</td>\n",
       "      <td>1.127013e-12</td>\n",
       "    </tr>\n",
       "    <tr>\n",
       "      <th>1</th>\n",
       "      <td>1.400420e-13</td>\n",
       "      <td>2.342681e-13</td>\n",
       "      <td>1.326787e-13</td>\n",
       "      <td>9.061387e-14</td>\n",
       "      <td>5.976026e-13</td>\n",
       "    </tr>\n",
       "    <tr>\n",
       "      <th>2</th>\n",
       "      <td>6.938239e-14</td>\n",
       "      <td>1.231602e-13</td>\n",
       "      <td>7.229419e-14</td>\n",
       "      <td>4.969588e-14</td>\n",
       "      <td>3.145327e-13</td>\n",
       "    </tr>\n",
       "    <tr>\n",
       "      <th>3</th>\n",
       "      <td>3.365669e-14</td>\n",
       "      <td>6.392754e-14</td>\n",
       "      <td>3.930950e-14</td>\n",
       "      <td>2.724088e-14</td>\n",
       "      <td>1.641346e-13</td>\n",
       "    </tr>\n",
       "    <tr>\n",
       "      <th>4</th>\n",
       "      <td>1.593250e-14</td>\n",
       "      <td>3.266399e-14</td>\n",
       "      <td>2.131730e-14</td>\n",
       "      <td>1.492133e-14</td>\n",
       "      <td>8.483512e-14</td>\n",
       "    </tr>\n",
       "  </tbody>\n",
       "</table>\n",
       "</div>"
      ],
      "text/plain": [
       "     flux_PPlus  flux_He4Nucleus  flux_O16Nucleus  flux_Fe56Nucleus  \\\n",
       "0  2.776881e-13     4.410539e-13     2.431070e-13      1.651639e-13   \n",
       "1  1.400420e-13     2.342681e-13     1.326787e-13      9.061387e-14   \n",
       "2  6.938239e-14     1.231602e-13     7.229419e-14      4.969588e-14   \n",
       "3  3.365669e-14     6.392754e-14     3.930950e-14      2.724088e-14   \n",
       "4  1.593250e-14     3.266399e-14     2.131730e-14      1.492133e-14   \n",
       "\n",
       "     flux_total  \n",
       "0  1.127013e-12  \n",
       "1  5.976026e-13  \n",
       "2  3.145327e-13  \n",
       "3  1.641346e-13  \n",
       "4  8.483512e-14  "
      ]
     },
     "execution_count": 102,
     "metadata": {},
     "output_type": "execute_result"
    }
   ],
   "source": [
    "model_flux.head()"
   ]
  },
  {
   "cell_type": "code",
   "execution_count": 16,
   "metadata": {
    "scrolled": true
   },
   "outputs": [
    {
     "name": "stderr",
     "output_type": "stream",
     "text": [
      "ERROR:root:Internal Python error in the inspect module.\n",
      "Below is the traceback from this internal error.\n",
      "\n"
     ]
    },
    {
     "name": "stdout",
     "output_type": "stream",
     "text": [
      "Traceback (most recent call last):\n",
      "  File \"/home/jbourbeau/.virtualenvs/composition/lib/python2.7/site-packages/IPython/core/ultratb.py\", line 1132, in get_records\n",
      "    return _fixed_getinnerframes(etb, number_of_lines_of_context, tb_offset)\n",
      "  File \"/home/jbourbeau/.virtualenvs/composition/lib/python2.7/site-packages/IPython/core/ultratb.py\", line 313, in wrapped\n",
      "    return f(*args, **kwargs)\n",
      "  File \"/home/jbourbeau/.virtualenvs/composition/lib/python2.7/site-packages/IPython/core/ultratb.py\", line 358, in _fixed_getinnerframes\n",
      "    records = fix_frame_records_filenames(inspect.getinnerframes(etb, context))\n",
      "  File \"/cvmfs/icecube.opensciencegrid.org/py2-v3/RHEL_6_x86_64/lib64/python2.7/inspect.py\", line 1048, in getinnerframes\n",
      "    framelist.append((tb.tb_frame,) + getframeinfo(tb, context))\n",
      "  File \"/cvmfs/icecube.opensciencegrid.org/py2-v3/RHEL_6_x86_64/lib64/python2.7/inspect.py\", line 1008, in getframeinfo\n",
      "    filename = getsourcefile(frame) or getfile(frame)\n",
      "  File \"/cvmfs/icecube.opensciencegrid.org/py2-v3/RHEL_6_x86_64/lib64/python2.7/inspect.py\", line 453, in getsourcefile\n",
      "    if hasattr(getmodule(object, filename), '__loader__'):\n",
      "  File \"/cvmfs/icecube.opensciencegrid.org/py2-v3/RHEL_6_x86_64/lib64/python2.7/inspect.py\", line 496, in getmodule\n",
      "    f = getabsfile(module)\n",
      "  File \"/cvmfs/icecube.opensciencegrid.org/py2-v3/RHEL_6_x86_64/lib64/python2.7/inspect.py\", line 465, in getabsfile\n",
      "    _filename = getsourcefile(object) or getfile(object)\n",
      "  File \"/cvmfs/icecube.opensciencegrid.org/py2-v3/RHEL_6_x86_64/lib64/python2.7/inspect.py\", line 450, in getsourcefile\n",
      "    if os.path.exists(filename):\n",
      "  File \"/home/jbourbeau/.virtualenvs/composition/lib/python2.7/genericpath.py\", line 26, in exists\n",
      "    os.stat(path)\n",
      "KeyboardInterrupt\n"
     ]
    },
    {
     "ename": "IndexError",
     "evalue": "string index out of range",
     "output_type": "error",
     "traceback": [
      "\u001b[0;31m\u001b[0m",
      "\u001b[0;31mIndexError\u001b[0mTraceback (most recent call last)",
      "\u001b[0;32m/home/jbourbeau/.virtualenvs/composition/lib/python2.7/site-packages/IPython/core/interactiveshell.pyc\u001b[0m in \u001b[0;36mrun_code\u001b[0;34m(self, code_obj, result)\u001b[0m\n\u001b[1;32m   2896\u001b[0m             \u001b[0;32mif\u001b[0m \u001b[0mresult\u001b[0m \u001b[0;32mis\u001b[0m \u001b[0;32mnot\u001b[0m \u001b[0mNone\u001b[0m\u001b[0;34m:\u001b[0m\u001b[0;34m\u001b[0m\u001b[0m\n\u001b[1;32m   2897\u001b[0m                 \u001b[0mresult\u001b[0m\u001b[0;34m.\u001b[0m\u001b[0merror_in_exec\u001b[0m \u001b[0;34m=\u001b[0m \u001b[0msys\u001b[0m\u001b[0;34m.\u001b[0m\u001b[0mexc_info\u001b[0m\u001b[0;34m(\u001b[0m\u001b[0;34m)\u001b[0m\u001b[0;34m[\u001b[0m\u001b[0;36m1\u001b[0m\u001b[0;34m]\u001b[0m\u001b[0;34m\u001b[0m\u001b[0m\n\u001b[0;32m-> 2898\u001b[0;31m             \u001b[0mself\u001b[0m\u001b[0;34m.\u001b[0m\u001b[0mshowtraceback\u001b[0m\u001b[0;34m(\u001b[0m\u001b[0;34m)\u001b[0m\u001b[0;34m\u001b[0m\u001b[0m\n\u001b[0m\u001b[1;32m   2899\u001b[0m         \u001b[0;32melse\u001b[0m\u001b[0;34m:\u001b[0m\u001b[0;34m\u001b[0m\u001b[0m\n\u001b[1;32m   2900\u001b[0m             \u001b[0moutflag\u001b[0m \u001b[0;34m=\u001b[0m \u001b[0;36m0\u001b[0m\u001b[0;34m\u001b[0m\u001b[0m\n",
      "\u001b[0;32m/home/jbourbeau/.virtualenvs/composition/lib/python2.7/site-packages/IPython/core/interactiveshell.pyc\u001b[0m in \u001b[0;36mshowtraceback\u001b[0;34m(self, exc_tuple, filename, tb_offset, exception_only)\u001b[0m\n\u001b[1;32m   1822\u001b[0m                     \u001b[0;32mexcept\u001b[0m \u001b[0mException\u001b[0m\u001b[0;34m:\u001b[0m\u001b[0;34m\u001b[0m\u001b[0m\n\u001b[1;32m   1823\u001b[0m                         stb = self.InteractiveTB.structured_traceback(etype,\n\u001b[0;32m-> 1824\u001b[0;31m                                             value, tb, tb_offset=tb_offset)\n\u001b[0m\u001b[1;32m   1825\u001b[0m \u001b[0;34m\u001b[0m\u001b[0m\n\u001b[1;32m   1826\u001b[0m                     \u001b[0mself\u001b[0m\u001b[0;34m.\u001b[0m\u001b[0m_showtraceback\u001b[0m\u001b[0;34m(\u001b[0m\u001b[0metype\u001b[0m\u001b[0;34m,\u001b[0m \u001b[0mvalue\u001b[0m\u001b[0;34m,\u001b[0m \u001b[0mstb\u001b[0m\u001b[0;34m)\u001b[0m\u001b[0;34m\u001b[0m\u001b[0m\n",
      "\u001b[0;32m/home/jbourbeau/.virtualenvs/composition/lib/python2.7/site-packages/IPython/core/ultratb.pyc\u001b[0m in \u001b[0;36mstructured_traceback\u001b[0;34m(self, etype, value, tb, tb_offset, number_of_lines_of_context)\u001b[0m\n\u001b[1;32m   1410\u001b[0m         \u001b[0mself\u001b[0m\u001b[0;34m.\u001b[0m\u001b[0mtb\u001b[0m \u001b[0;34m=\u001b[0m \u001b[0mtb\u001b[0m\u001b[0;34m\u001b[0m\u001b[0m\n\u001b[1;32m   1411\u001b[0m         return FormattedTB.structured_traceback(\n\u001b[0;32m-> 1412\u001b[0;31m             self, etype, value, tb, tb_offset, number_of_lines_of_context)\n\u001b[0m\u001b[1;32m   1413\u001b[0m \u001b[0;34m\u001b[0m\u001b[0m\n\u001b[1;32m   1414\u001b[0m \u001b[0;34m\u001b[0m\u001b[0m\n",
      "\u001b[0;32m/home/jbourbeau/.virtualenvs/composition/lib/python2.7/site-packages/IPython/core/ultratb.pyc\u001b[0m in \u001b[0;36mstructured_traceback\u001b[0;34m(self, etype, value, tb, tb_offset, number_of_lines_of_context)\u001b[0m\n\u001b[1;32m   1318\u001b[0m             \u001b[0;31m# Verbose modes need a full traceback\u001b[0m\u001b[0;34m\u001b[0m\u001b[0;34m\u001b[0m\u001b[0m\n\u001b[1;32m   1319\u001b[0m             return VerboseTB.structured_traceback(\n\u001b[0;32m-> 1320\u001b[0;31m                 \u001b[0mself\u001b[0m\u001b[0;34m,\u001b[0m \u001b[0metype\u001b[0m\u001b[0;34m,\u001b[0m \u001b[0mvalue\u001b[0m\u001b[0;34m,\u001b[0m \u001b[0mtb\u001b[0m\u001b[0;34m,\u001b[0m \u001b[0mtb_offset\u001b[0m\u001b[0;34m,\u001b[0m \u001b[0mnumber_of_lines_of_context\u001b[0m\u001b[0;34m\u001b[0m\u001b[0m\n\u001b[0m\u001b[1;32m   1321\u001b[0m             )\n\u001b[1;32m   1322\u001b[0m         \u001b[0;32melse\u001b[0m\u001b[0;34m:\u001b[0m\u001b[0;34m\u001b[0m\u001b[0m\n",
      "\u001b[0;32m/home/jbourbeau/.virtualenvs/composition/lib/python2.7/site-packages/IPython/core/ultratb.pyc\u001b[0m in \u001b[0;36mstructured_traceback\u001b[0;34m(self, etype, evalue, etb, tb_offset, number_of_lines_of_context)\u001b[0m\n\u001b[1;32m   1202\u001b[0m                 \u001b[0mstructured_traceback_parts\u001b[0m \u001b[0;34m+=\u001b[0m \u001b[0mformatted_exception\u001b[0m\u001b[0;34m\u001b[0m\u001b[0m\n\u001b[1;32m   1203\u001b[0m         \u001b[0;32melse\u001b[0m\u001b[0;34m:\u001b[0m\u001b[0;34m\u001b[0m\u001b[0m\n\u001b[0;32m-> 1204\u001b[0;31m             \u001b[0mstructured_traceback_parts\u001b[0m \u001b[0;34m+=\u001b[0m \u001b[0mformatted_exception\u001b[0m\u001b[0;34m[\u001b[0m\u001b[0;36m0\u001b[0m\u001b[0;34m]\u001b[0m\u001b[0;34m\u001b[0m\u001b[0m\n\u001b[0m\u001b[1;32m   1205\u001b[0m \u001b[0;34m\u001b[0m\u001b[0m\n\u001b[1;32m   1206\u001b[0m         \u001b[0;32mreturn\u001b[0m \u001b[0mstructured_traceback_parts\u001b[0m\u001b[0;34m\u001b[0m\u001b[0m\n",
      "\u001b[0;31mIndexError\u001b[0m: string index out of range"
     ]
    }
   ],
   "source": [
    "counts_true = pd.DataFrame(index=energybins.log_energy_midpoints,\n",
    "                           columns=comp_list)\n",
    "for composition in comp_list:\n",
    "    flux_to_counts_scaling = eff_area[composition] * livetime * solid_angle * energybins.energy_bin_widths\n",
    "    counts_true[composition] = model_flux['flux_{}'.format(composition)].values * flux_to_counts_scaling.values\n",
    "counts_true"
   ]
  },
  {
   "cell_type": "code",
   "execution_count": 18,
   "metadata": {},
   "outputs": [
    {
     "data": {
      "image/png": "[encoded data removed]",
      "text/plain": [
       "<matplotlib.figure.Figure at 0x7fefadc77e10>"
      ]
     },
     "metadata": {},
     "output_type": "display_data"
    }
   ],
   "source": [
    "fig, ax = plt.subplots()\n",
    "for composition in counts_true:\n",
    "    plotting.plot_steps(energybins.log_energy_bins, counts_true[composition],\n",
    "                        color=color_dict[composition], label=composition,\n",
    "                        ax=ax)\n",
    "ax.set_yscale(\"log\", nonposy='clip')\n",
    "ax.grid()\n",
    "ax.legend()\n",
    "plt.show()"
   ]
  },
  {
   "cell_type": "markdown",
   "metadata": {},
   "source": [
    "Calculate (testing set) simulation event weights"
   ]
  },
  {
   "cell_type": "code",
   "execution_count": 19,
   "metadata": {
    "collapsed": true
   },
   "outputs": [],
   "source": [
    "counts_sim = pd.DataFrame(index=energybins.log_energy_midpoints,\n",
    "                          columns=comp_list)\n",
    "for composition in comp_list:\n",
    "    comp_mask = df_sim_test['comp_group_{}'.format(num_groups)] == composition\n",
    "    comp_counts, _ = np.histogram(df_sim_test.loc[comp_mask, 'reco_log_energy'],\n",
    "                                  bins=energybins.log_energy_bins)\n",
    "    counts_sim[composition] = comp_counts"
   ]
  },
  {
   "cell_type": "code",
   "execution_count": 20,
   "metadata": {},
   "outputs": [
    {
     "data": {
      "image/png": "[encoded data removed]",
      "text/plain": [
       "<matplotlib.figure.Figure at 0x7fefadc93510>"
      ]
     },
     "metadata": {},
     "output_type": "display_data"
    }
   ],
   "source": [
    "fig, ax = plt.subplots()\n",
    "for composition in counts_sim:\n",
    "    plotting.plot_steps(energybins.log_energy_bins, counts_sim[composition],\n",
    "                        color=color_dict[composition], label=composition)\n",
    "ax.grid()\n",
    "ax.legend()\n",
    "plt.show()"
   ]
  },
  {
   "cell_type": "markdown",
   "metadata": {
    "collapsed": true
   },
   "source": [
    "## Run analysis pipeline on simulation"
   ]
  },
  {
   "cell_type": "code",
   "execution_count": 21,
   "metadata": {
    "scrolled": false
   },
   "outputs": [
    {
     "data": {
      "text/html": [
       "<div>\n",
       "<style>\n",
       "    .dataframe thead tr:only-child th {\n",
       "        text-align: right;\n",
       "    }\n",
       "\n",
       "    .dataframe thead th {\n",
       "        text-align: left;\n",
       "    }\n",
       "\n",
       "    .dataframe tbody tr th {\n",
       "        vertical-align: top;\n",
       "    }\n",
       "</style>\n",
       "<table border=\"1\" class=\"dataframe\">\n",
       "  <thead>\n",
       "    <tr style=\"text-align: right;\">\n",
       "      <th></th>\n",
       "      <th>PPlus</th>\n",
       "      <th>He4Nucleus</th>\n",
       "      <th>O16Nucleus</th>\n",
       "      <th>Fe56Nucleus</th>\n",
       "    </tr>\n",
       "  </thead>\n",
       "  <tbody>\n",
       "    <tr>\n",
       "      <th>6.15</th>\n",
       "      <td>996.234061</td>\n",
       "      <td>728.140755</td>\n",
       "      <td>380.212200</td>\n",
       "      <td>387.410067</td>\n",
       "    </tr>\n",
       "    <tr>\n",
       "      <th>6.25</th>\n",
       "      <td>1081.708916</td>\n",
       "      <td>985.165394</td>\n",
       "      <td>500.797536</td>\n",
       "      <td>958.297645</td>\n",
       "    </tr>\n",
       "    <tr>\n",
       "      <th>6.35</th>\n",
       "      <td>854.622190</td>\n",
       "      <td>926.371257</td>\n",
       "      <td>487.326736</td>\n",
       "      <td>1043.921096</td>\n",
       "    </tr>\n",
       "    <tr>\n",
       "      <th>6.45</th>\n",
       "      <td>650.923246</td>\n",
       "      <td>1165.227723</td>\n",
       "      <td>352.443581</td>\n",
       "      <td>863.607420</td>\n",
       "    </tr>\n",
       "    <tr>\n",
       "      <th>6.55</th>\n",
       "      <td>1021.681825</td>\n",
       "      <td>808.238943</td>\n",
       "      <td>443.429080</td>\n",
       "      <td>909.225549</td>\n",
       "    </tr>\n",
       "    <tr>\n",
       "      <th>6.65</th>\n",
       "      <td>1128.240413</td>\n",
       "      <td>664.492884</td>\n",
       "      <td>631.660042</td>\n",
       "      <td>727.810783</td>\n",
       "    </tr>\n",
       "    <tr>\n",
       "      <th>6.75</th>\n",
       "      <td>571.132488</td>\n",
       "      <td>689.358547</td>\n",
       "      <td>749.121608</td>\n",
       "      <td>1048.320714</td>\n",
       "    </tr>\n",
       "    <tr>\n",
       "      <th>6.85</th>\n",
       "      <td>1037.461183</td>\n",
       "      <td>897.202747</td>\n",
       "      <td>682.056107</td>\n",
       "      <td>575.335364</td>\n",
       "    </tr>\n",
       "    <tr>\n",
       "      <th>6.95</th>\n",
       "      <td>1021.742135</td>\n",
       "      <td>792.166282</td>\n",
       "      <td>632.123877</td>\n",
       "      <td>1139.941978</td>\n",
       "    </tr>\n",
       "    <tr>\n",
       "      <th>7.05</th>\n",
       "      <td>709.268347</td>\n",
       "      <td>366.813298</td>\n",
       "      <td>566.775542</td>\n",
       "      <td>900.402569</td>\n",
       "    </tr>\n",
       "    <tr>\n",
       "      <th>7.15</th>\n",
       "      <td>1147.494880</td>\n",
       "      <td>493.064849</td>\n",
       "      <td>532.896134</td>\n",
       "      <td>1023.101464</td>\n",
       "    </tr>\n",
       "    <tr>\n",
       "      <th>7.25</th>\n",
       "      <td>1104.844630</td>\n",
       "      <td>197.834198</td>\n",
       "      <td>762.092745</td>\n",
       "      <td>731.476592</td>\n",
       "    </tr>\n",
       "    <tr>\n",
       "      <th>7.35</th>\n",
       "      <td>1108.065024</td>\n",
       "      <td>552.018527</td>\n",
       "      <td>1011.114198</td>\n",
       "      <td>594.180134</td>\n",
       "    </tr>\n",
       "    <tr>\n",
       "      <th>7.45</th>\n",
       "      <td>946.531553</td>\n",
       "      <td>637.005093</td>\n",
       "      <td>787.144218</td>\n",
       "      <td>636.516458</td>\n",
       "    </tr>\n",
       "    <tr>\n",
       "      <th>7.55</th>\n",
       "      <td>778.439815</td>\n",
       "      <td>764.814041</td>\n",
       "      <td>1038.057508</td>\n",
       "      <td>693.991110</td>\n",
       "    </tr>\n",
       "    <tr>\n",
       "      <th>7.65</th>\n",
       "      <td>1486.638026</td>\n",
       "      <td>36.963278</td>\n",
       "      <td>646.238242</td>\n",
       "      <td>854.049690</td>\n",
       "    </tr>\n",
       "    <tr>\n",
       "      <th>7.75</th>\n",
       "      <td>1184.200293</td>\n",
       "      <td>821.553215</td>\n",
       "      <td>542.140369</td>\n",
       "      <td>923.309875</td>\n",
       "    </tr>\n",
       "    <tr>\n",
       "      <th>7.85</th>\n",
       "      <td>1136.505401</td>\n",
       "      <td>420.491440</td>\n",
       "      <td>626.963722</td>\n",
       "      <td>770.234777</td>\n",
       "    </tr>\n",
       "    <tr>\n",
       "      <th>7.95</th>\n",
       "      <td>826.387227</td>\n",
       "      <td>275.421359</td>\n",
       "      <td>778.422046</td>\n",
       "      <td>953.385743</td>\n",
       "    </tr>\n",
       "  </tbody>\n",
       "</table>\n",
       "</div>"
      ],
      "text/plain": [
       "            PPlus   He4Nucleus   O16Nucleus  Fe56Nucleus\n",
       "6.15   996.234061   728.140755   380.212200   387.410067\n",
       "6.25  1081.708916   985.165394   500.797536   958.297645\n",
       "6.35   854.622190   926.371257   487.326736  1043.921096\n",
       "6.45   650.923246  1165.227723   352.443581   863.607420\n",
       "6.55  1021.681825   808.238943   443.429080   909.225549\n",
       "6.65  1128.240413   664.492884   631.660042   727.810783\n",
       "6.75   571.132488   689.358547   749.121608  1048.320714\n",
       "6.85  1037.461183   897.202747   682.056107   575.335364\n",
       "6.95  1021.742135   792.166282   632.123877  1139.941978\n",
       "7.05   709.268347   366.813298   566.775542   900.402569\n",
       "7.15  1147.494880   493.064849   532.896134  1023.101464\n",
       "7.25  1104.844630   197.834198   762.092745   731.476592\n",
       "7.35  1108.065024   552.018527  1011.114198   594.180134\n",
       "7.45   946.531553   637.005093   787.144218   636.516458\n",
       "7.55   778.439815   764.814041  1038.057508   693.991110\n",
       "7.65  1486.638026    36.963278   646.238242   854.049690\n",
       "7.75  1184.200293   821.553215   542.140369   923.309875\n",
       "7.85  1136.505401   420.491440   626.963722   770.234777\n",
       "7.95   826.387227   275.421359   778.422046   953.385743"
      ]
     },
     "execution_count": 21,
     "metadata": {},
     "output_type": "execute_result"
    }
   ],
   "source": [
    "counts_observed = pd.DataFrame(0, index=energybins.log_energy_midpoints, columns=comp_list)\n",
    "weights = pd.DataFrame(0, index=energybins.log_energy_midpoints, columns=comp_list)\n",
    "for idx_log_energy, composition in itertools.product(range(len(energybins.log_energy_midpoints)),\n",
    "                                                     comp_list):\n",
    "    \n",
    "    log_energy = energybins.log_energy_midpoints[idx_log_energy]\n",
    "    \n",
    "    # Construct composition mask\n",
    "    comp_mask = df_sim_test['comp_group_{}'.format(num_groups)] == composition\n",
    "    # Construct mask for energy bin\n",
    "    energy_bins = np.digitize(df_sim_test['MC_log_energy'], bins=energybins.log_energy_bins) - 1\n",
    "    energy_mask = energy_bins == idx_log_energy\n",
    "    # Filter out events that don't pass composition + energy  mask\n",
    "    df_sim_bin = df_sim_test.loc[comp_mask & energy_mask, :]\n",
    "    \n",
    "    # Reweight simulation events to get desired number of events\n",
    "    weight = counts_true.loc[log_energy, composition] / df_sim_bin.shape[0]\n",
    "    weights.loc[log_energy, composition] = weight\n",
    "    \n",
    "    # Get predicted composition \n",
    "    pred_target = pipeline.predict(df_sim_bin[feature_list])\n",
    "    pred_comp = np.array(comp.decode_composition_groups(pred_target, num_groups=num_groups))\n",
    "    assert len(pred_comp) == df_sim_bin.shape[0]\n",
    "    for p_comp in np.unique(pred_comp):\n",
    "        pred_comp_mask = pred_comp == p_comp\n",
    "        comp_counts, _ = np.histogram(df_sim_bin.loc[pred_comp_mask, 'reco_log_energy'],\n",
    "                                      bins=energybins.log_energy_bins)\n",
    "        comp_counts = weight * comp_counts\n",
    "        counts_observed[p_comp] += comp_counts\n",
    "\n",
    "counts_observed"
   ]
  },
  {
   "cell_type": "code",
   "execution_count": 22,
   "metadata": {},
   "outputs": [
    {
     "data": {
      "image/png": "[encoded data removed]",
      "text/plain": [
       "<matplotlib.figure.Figure at 0x7ff0043997d0>"
      ]
     },
     "metadata": {},
     "output_type": "display_data"
    }
   ],
   "source": [
    "fig, ax = plt.subplots()\n",
    "for composition in comp_list:\n",
    "    weights[composition].plot(ls=':', label=composition,\n",
    "                              color=color_dict[composition], ax=ax)\n",
    "ax.set_xlabel('$\\mathrm{\\log_{10}(E/GeV)}$')\n",
    "ax.set_ylabel('Weights')\n",
    "ax.set_yscale(\"log\", nonposy='clip')\n",
    "ax.grid(lw=1)\n",
    "ax.legend()\n",
    "plt.show()"
   ]
  },
  {
   "cell_type": "markdown",
   "metadata": {},
   "source": [
    "Format observed counts and detection efficiencies for use with PyUnfold"
   ]
  },
  {
   "cell_type": "code",
   "execution_count": 23,
   "metadata": {
    "collapsed": true
   },
   "outputs": [],
   "source": [
    "counts_pyunfold = []\n",
    "for idx, row in counts_observed.iterrows():\n",
    "    for composition in comp_list:\n",
    "        counts_pyunfold.append(row[composition])\n",
    "        \n",
    "efficiencies = []\n",
    "efficiencies_err = []     \n",
    "for idx, row in df_eff.iterrows():\n",
    "    for composition in comp_list:\n",
    "        efficiencies.append(row['eff_median_{}'.format(composition)])\n",
    "        efficiencies_err.append(row['eff_err_low_{}'.format(composition)])"
   ]
  },
  {
   "cell_type": "code",
   "execution_count": 24,
   "metadata": {},
   "outputs": [],
   "source": [
    "formatted_df = pd.DataFrame()\n",
    "formatted_df['counts'] = counts_pyunfold\n",
    "formatted_df['efficiencies'] = efficiencies\n",
    "formatted_df['efficiencies_err'] = efficiencies_err"
   ]
  },
  {
   "cell_type": "code",
   "execution_count": 25,
   "metadata": {},
   "outputs": [
    {
     "data": {
      "text/html": [
       "<div>\n",
       "<style>\n",
       "    .dataframe thead tr:only-child th {\n",
       "        text-align: right;\n",
       "    }\n",
       "\n",
       "    .dataframe thead th {\n",
       "        text-align: left;\n",
       "    }\n",
       "\n",
       "    .dataframe tbody tr th {\n",
       "        vertical-align: top;\n",
       "    }\n",
       "</style>\n",
       "<table border=\"1\" class=\"dataframe\">\n",
       "  <thead>\n",
       "    <tr style=\"text-align: right;\">\n",
       "      <th></th>\n",
       "      <th>counts</th>\n",
       "      <th>efficiencies</th>\n",
       "      <th>efficiencies_err</th>\n",
       "    </tr>\n",
       "  </thead>\n",
       "  <tbody>\n",
       "    <tr>\n",
       "      <th>0</th>\n",
       "      <td>996.234061</td>\n",
       "      <td>0.006948</td>\n",
       "      <td>0.000107</td>\n",
       "    </tr>\n",
       "    <tr>\n",
       "      <th>1</th>\n",
       "      <td>728.140755</td>\n",
       "      <td>0.007265</td>\n",
       "      <td>0.000114</td>\n",
       "    </tr>\n",
       "    <tr>\n",
       "      <th>2</th>\n",
       "      <td>380.212200</td>\n",
       "      <td>0.006650</td>\n",
       "      <td>0.000111</td>\n",
       "    </tr>\n",
       "    <tr>\n",
       "      <th>3</th>\n",
       "      <td>387.410067</td>\n",
       "      <td>0.006148</td>\n",
       "      <td>0.000120</td>\n",
       "    </tr>\n",
       "    <tr>\n",
       "      <th>4</th>\n",
       "      <td>1081.708916</td>\n",
       "      <td>0.007616</td>\n",
       "      <td>0.000090</td>\n",
       "    </tr>\n",
       "  </tbody>\n",
       "</table>\n",
       "</div>"
      ],
      "text/plain": [
       "        counts  efficiencies  efficiencies_err\n",
       "0   996.234061      0.006948          0.000107\n",
       "1   728.140755      0.007265          0.000114\n",
       "2   380.212200      0.006650          0.000111\n",
       "3   387.410067      0.006148          0.000120\n",
       "4  1081.708916      0.007616          0.000090"
      ]
     },
     "execution_count": 25,
     "metadata": {},
     "output_type": "execute_result"
    }
   ],
   "source": [
    "formatted_df.head()"
   ]
  },
  {
   "cell_type": "code",
   "execution_count": 26,
   "metadata": {
    "collapsed": true
   },
   "outputs": [],
   "source": [
    "formatted_file = os.path.join(os.getcwd(),'test.hdf')\n",
    "formatted_df.to_hdf(formatted_file, 'dataframe', mode='w')"
   ]
  },
  {
   "cell_type": "code",
   "execution_count": 27,
   "metadata": {
    "scrolled": false
   },
   "outputs": [
    {
     "name": "stdout",
     "output_type": "stream",
     "text": [
      "Saving output file /home/jbourbeau/cr-composition/unfolding/test.root\n"
     ]
    }
   ],
   "source": [
    "root_file = os.path.join(os.getcwd(),'test.root')\n",
    "save_pyunfold_root_file(config=config, num_groups=num_groups,\n",
    "                        outfile=root_file, formatted_df_file=formatted_file)"
   ]
  },
  {
   "cell_type": "code",
   "execution_count": 28,
   "metadata": {
    "collapsed": true
   },
   "outputs": [],
   "source": [
    "df_unfolding_iter = unfold(config_name=os.path.join(config, 'config.cfg'),\n",
    "                           priors='Jeffreys',\n",
    "                           input_file=root_file,\n",
    "                           ts_stopping=0.005)"
   ]
  },
  {
   "cell_type": "code",
   "execution_count": 29,
   "metadata": {},
   "outputs": [
    {
     "data": {
      "text/html": [
       "<div>\n",
       "<style>\n",
       "    .dataframe thead tr:only-child th {\n",
       "        text-align: right;\n",
       "    }\n",
       "\n",
       "    .dataframe thead th {\n",
       "        text-align: left;\n",
       "    }\n",
       "\n",
       "    .dataframe tbody tr th {\n",
       "        vertical-align: top;\n",
       "    }\n",
       "</style>\n",
       "<table border=\"1\" class=\"dataframe\">\n",
       "  <thead>\n",
       "    <tr style=\"text-align: right;\">\n",
       "      <th></th>\n",
       "      <th>sys_err</th>\n",
       "      <th>stat_err</th>\n",
       "      <th>n_c</th>\n",
       "    </tr>\n",
       "  </thead>\n",
       "  <tbody>\n",
       "    <tr>\n",
       "      <th>0</th>\n",
       "      <td>[62868.1987477, 21758.9128621, 15053.5325937, ...</td>\n",
       "      <td>[5487.96587427, 1960.68359489, 1407.42146778, ...</td>\n",
       "      <td>[458926.2098, 173742.593814, 112432.394769, 76...</td>\n",
       "    </tr>\n",
       "    <tr>\n",
       "      <th>1</th>\n",
       "      <td>[63264.0352387, 24092.0376163, 17582.7115696, ...</td>\n",
       "      <td>[5348.1341668, 1980.53737577, 1658.1704651, 17...</td>\n",
       "      <td>[346413.135776, 143525.04309, 96903.8479718, 6...</td>\n",
       "    </tr>\n",
       "    <tr>\n",
       "      <th>2</th>\n",
       "      <td>[64937.1540684, 27256.2236351, 20590.8925122, ...</td>\n",
       "      <td>[5874.57895925, 2192.23135609, 1966.35845761, ...</td>\n",
       "      <td>[303966.938203, 135057.000098, 93669.0111991, ...</td>\n",
       "    </tr>\n",
       "    <tr>\n",
       "      <th>3</th>\n",
       "      <td>[66409.4014902, 30455.2741699, 23498.9293065, ...</td>\n",
       "      <td>[6266.55088303, 2394.64484682, 2232.303634, 28...</td>\n",
       "      <td>[278902.549653, 131209.130693, 92500.7821728, ...</td>\n",
       "    </tr>\n",
       "  </tbody>\n",
       "</table>\n",
       "</div>"
      ],
      "text/plain": [
       "                                             sys_err  \\\n",
       "0  [62868.1987477, 21758.9128621, 15053.5325937, ...   \n",
       "1  [63264.0352387, 24092.0376163, 17582.7115696, ...   \n",
       "2  [64937.1540684, 27256.2236351, 20590.8925122, ...   \n",
       "3  [66409.4014902, 30455.2741699, 23498.9293065, ...   \n",
       "\n",
       "                                            stat_err  \\\n",
       "0  [5487.96587427, 1960.68359489, 1407.42146778, ...   \n",
       "1  [5348.1341668, 1980.53737577, 1658.1704651, 17...   \n",
       "2  [5874.57895925, 2192.23135609, 1966.35845761, ...   \n",
       "3  [6266.55088303, 2394.64484682, 2232.303634, 28...   \n",
       "\n",
       "                                                 n_c  \n",
       "0  [458926.2098, 173742.593814, 112432.394769, 76...  \n",
       "1  [346413.135776, 143525.04309, 96903.8479718, 6...  \n",
       "2  [303966.938203, 135057.000098, 93669.0111991, ...  \n",
       "3  [278902.549653, 131209.130693, 92500.7821728, ...  "
      ]
     },
     "execution_count": 29,
     "metadata": {},
     "output_type": "execute_result"
    }
   ],
   "source": [
    "df_unfolding_iter"
   ]
  },
  {
   "cell_type": "code",
   "execution_count": 116,
   "metadata": {},
   "outputs": [
    {
     "name": "stdout",
     "output_type": "stream",
     "text": [
      "Jeffreys: 8 iterations\n"
     ]
    },
    {
     "data": {
      "image/png": "[encoded data removed]",
      "text/plain": [
       "<matplotlib.figure.Figure at 0x7febddc2a650>"
      ]
     },
     "metadata": {},
     "output_type": "display_data"
    }
   ],
   "source": [
    "for model_name in ['Jeffreys']:\n",
    "    fig, axarr = plt.subplots(2, 2, sharex=True, sharey=True)\n",
    "    print('{}: {} iterations'.format(model_name, df_unfolding_iter.shape[0]))\n",
    "    df_final_iter = df_unfolding_iter.iloc[-1]\n",
    "\n",
    "    counts, counts_sys_err, counts_stat_err = {}, {}, {}\n",
    "    for idx, composition in enumerate(comp_list):\n",
    "        counts[composition] = df_final_iter['n_c'][idx::num_groups]\n",
    "        counts_sys_err[composition] = df_final_iter['sys_err'][idx::num_groups]\n",
    "        counts_stat_err[composition] = df_final_iter['stat_err'][idx::num_groups]\n",
    "\n",
    "    for idx, composition in enumerate(comp_list):\n",
    "        if idx == 0:\n",
    "            counts['total'] = np.zeros_like(counts[composition])\n",
    "            counts_sys_err['total'] = np.zeros_like(counts[composition])\n",
    "            counts_stat_err['total'] = np.zeros_like(counts[composition])\n",
    "        counts['total'] += counts[composition]\n",
    "        counts_sys_err['total'] += counts_sys_err[composition]**2\n",
    "        counts_stat_err['total'] += counts_stat_err[composition]**2\n",
    "    counts_sys_err['total'] = np.sqrt(counts_sys_err['total'])\n",
    "    counts_stat_err['total'] = np.sqrt(counts_stat_err['total'])\n",
    "\n",
    "\n",
    "    flux_total, flux_total_err_sys = comp.analysis.get_flux(counts['total'], counts_sys_err['total'],\n",
    "                                                     energybins=energybins.energy_bins,\n",
    "                                                     eff_area=thrown_area,\n",
    "                                                     livetime=livetime, livetime_err=livetime_err, \n",
    "                                                     solid_angle=solid_angle)\n",
    "    flux_total, flux_total_err_stat = comp.analysis.get_flux(counts['total'], counts_stat_err['total'],\n",
    "                                                 energybins=energybins.energy_bins,\n",
    "                                                 eff_area=thrown_area,\n",
    "                                                 livetime=livetime, livetime_err=livetime_err, \n",
    "                                                 solid_angle=solid_angle)\n",
    "\n",
    "\n",
    "    for composition, ax in zip(comp_list, axarr.flatten()):\n",
    "\n",
    "        flux, flux_err_sys = comp.analysis.get_flux(\n",
    "                                        counts[composition], counts_sys_err[composition],\n",
    "                                        energybins=energybins.energy_bins,\n",
    "                                        eff_area=thrown_area,\n",
    "                                        livetime=livetime,\n",
    "                                        livetime_err=livetime_err, \n",
    "                                        solid_angle=solid_angle)\n",
    "        flux, flux_err_stat = comp.analysis.get_flux(\n",
    "                                        counts[composition], counts_stat_err[composition],\n",
    "                                        energybins=energybins.energy_bins,\n",
    "                                        eff_area=thrown_area,\n",
    "                                        livetime=livetime,\n",
    "                                        livetime_err=livetime_err, \n",
    "                                        solid_angle=solid_angle)\n",
    "\n",
    "        plotting.plot_steps(energybins.log_energy_bins, flux, yerr=flux_err_sys,\n",
    "                            ax=ax, alpha=0.4, fillalpha=0.4,  \n",
    "                            color=color_dict[composition])\n",
    "\n",
    "        ax.errorbar(energybins.log_energy_midpoints, flux, yerr=flux_err_stat,  \n",
    "                    color=color_dict[composition], ls='None', marker='.', \n",
    "                    label=composition + ' unfolded', alpha=0.8)\n",
    "\n",
    "        # True flux\n",
    "        true_counts = counts_true[composition].values\n",
    "        true_counts_err = np.sqrt(true_counts)\n",
    "\n",
    "        true_flux, true_flux_err = comp.analysis.get_flux(\n",
    "                                                true_counts, true_counts_err,\n",
    "                                                energybins=energybins.energy_bins,\n",
    "                                                eff_area=eff_area[composition],\n",
    "                                                eff_area_err=eff_area_err[composition],\n",
    "                                                livetime=livetime, livetime_err=livetime_err, \n",
    "                                                solid_angle=solid_angle)\n",
    "\n",
    "        ax.errorbar(energybins.log_energy_midpoints, true_flux, yerr=true_flux_err,  \n",
    "                    color=color_dict[composition], ls='None', marker='^', \n",
    "                    label=composition + ' true', alpha=0.8)\n",
    "\n",
    "        ax.set_yscale(\"log\", nonposy='clip')\n",
    "        ax.set_xlim(6.4, 7.8)\n",
    "#         ax.set_ylim([1e0, 7e3])\n",
    "\n",
    "        ax.grid(linestyle='dotted', which=\"both\", lw=1)\n",
    "        ax.legend(loc='upper right', ncol=1, fontsize=10)\n",
    "\n",
    "    fig.text(0.5, -0.01, '$\\mathrm{\\log_{10}(E/GeV)}$', ha='center')\n",
    "    fig.text(-0.01, 0.5, '$\\mathrm{ E^{2.7} \\ J(E) \\ [GeV^{1.7} m^{-2} sr^{-1} s^{-1}]}$',\n",
    "             va='center', rotation='vertical')\n",
    "\n",
    "#     flux_outfile = os.path.join(figures_dir, \n",
    "#                                 'flux_grid_{}-groups_{}-prior.png'.format(num_groups, model_name))\n",
    "#     comp.check_output_dir(flux_outfile)\n",
    "#     plt.savefig(flux_outfile)\n",
    "    plt.show()"
   ]
  },
  {
   "cell_type": "code",
   "execution_count": 117,
   "metadata": {},
   "outputs": [
    {
     "name": "stdout",
     "output_type": "stream",
     "text": [
      "Jeffreys: 8 iterations\n"
     ]
    },
    {
     "data": {
      "image/png": "[encoded data removed]",
      "text/plain": [
       "<matplotlib.figure.Figure at 0x7febdd9ca490>"
      ]
     },
     "metadata": {},
     "output_type": "display_data"
    }
   ],
   "source": [
    "for model_name in ['Jeffreys']:\n",
    "    fig, axarr = plt.subplots(2, 2, sharex=True, sharey=True)\n",
    "    print('{}: {} iterations'.format(model_name, df_unfolding_iter.shape[0]))\n",
    "    df_final_iter = df_unfolding_iter.iloc[-1]\n",
    "\n",
    "    counts, counts_sys_err, counts_stat_err = {}, {}, {}\n",
    "    for idx, composition in enumerate(comp_list):\n",
    "        counts[composition] = df_final_iter['n_c'][idx::num_groups]\n",
    "        counts_sys_err[composition] = df_final_iter['sys_err'][idx::num_groups]\n",
    "        counts_stat_err[composition] = df_final_iter['stat_err'][idx::num_groups]\n",
    "\n",
    "    for idx, composition in enumerate(comp_list):\n",
    "        if idx == 0:\n",
    "            counts['total'] = np.zeros_like(counts[composition])\n",
    "            counts_sys_err['total'] = np.zeros_like(counts[composition])\n",
    "            counts_stat_err['total'] = np.zeros_like(counts[composition])\n",
    "        counts['total'] += counts[composition]\n",
    "        counts_sys_err['total'] += counts_sys_err[composition]**2\n",
    "        counts_stat_err['total'] += counts_stat_err[composition]**2\n",
    "    counts_sys_err['total'] = np.sqrt(counts_sys_err['total'])\n",
    "    counts_stat_err['total'] = np.sqrt(counts_stat_err['total'])\n",
    "\n",
    "    for composition, ax in zip(comp_list, axarr.flatten()):\n",
    "\n",
    "        flux, flux_err_sys = comp.analysis.get_flux(counts[composition], counts_sys_err[composition],\n",
    "                                                     energybins=energybins.energy_bins,\n",
    "                                                     eff_area=thrown_area,\n",
    "                                                     livetime=livetime, livetime_err=livetime_err, \n",
    "                                                     solid_angle=solid_angle,\n",
    "                                                     scalingindex=1)\n",
    "        flux, flux_err_stat = comp.analysis.get_flux(counts[composition], counts_stat_err[composition],\n",
    "                                                     energybins=energybins.energy_bins,\n",
    "                                                     eff_area=thrown_area,\n",
    "                                                     livetime=livetime, livetime_err=livetime_err, \n",
    "                                                     solid_angle=solid_angle,\n",
    "                                                     scalingindex=1)\n",
    "\n",
    "        # True flux\n",
    "        true_counts = counts_true[composition].values\n",
    "        true_counts_err = np.sqrt(true_counts)\n",
    "\n",
    "        true_flux, true_flux_err = comp.analysis.get_flux(true_counts, true_counts_err,\n",
    "                                                energybins=energybins.energy_bins,\n",
    "                                                eff_area=eff_area[composition],\n",
    "                                                eff_area_err=eff_area_err[composition],\n",
    "                                                livetime=livetime, livetime_err=livetime_err, \n",
    "                                                solid_angle=solid_angle,\n",
    "                                                scalingindex=1)\n",
    "        \n",
    "        diff = flux - true_flux\n",
    "        # Error bar calculation\n",
    "        diff_err_sys = flux_err_sys\n",
    "        diff_err_stat = np.sqrt(flux_err_stat**2 + true_flux_err**2)\n",
    "        \n",
    "        frac_diff, frac_diff_sys = comp.ratio_error(diff, diff_err_sys, true_flux, true_flux_err)\n",
    "        frac_diff, frac_diff_stat = comp.ratio_error(diff, diff_err_stat, true_flux, true_flux_err)\n",
    "        \n",
    "#         plotting.plot_steps(energybins.log_energy_bins, frac_diff, \n",
    "#                             ax=ax, alpha=0.4, fillalpha=0.4,  \n",
    "#                             color=color_dict[composition])\n",
    "        ax.errorbar(energybins.log_energy_midpoints, frac_diff, yerr=frac_diff_stat,  \n",
    "                    color=color_dict[composition], ls=':', marker='^', \n",
    "                    label=composition, alpha=0.8)\n",
    "        ax.axhline(0, ls='-.', lw=1, marker='None', color='k')\n",
    "\n",
    "        ax.grid(linestyle='dotted', which=\"both\", lw=1)\n",
    "        ax.legend(loc='lower left', ncol=1, fontsize=10)\n",
    "        extraticks = np.arange(-1, 1.25, 0.25)\n",
    "        ax.set_yticks(extraticks)\n",
    "    \n",
    "    ax.set_xlim(6.4, 7.8)\n",
    "    ax.set_ylim(-1, 1)\n",
    "    fig.text(0.5, -0.01, '$\\mathrm{\\log_{10}(E/GeV)}$', ha='center',\n",
    "             fontsize=16)\n",
    "    fig.text(-0.02, 0.5, '(Unfolded flux - true flux) / true flux',\n",
    "             va='center', rotation='vertical', fontsize=16)\n",
    "\n",
    "#     flux_outfile = os.path.join(figures_dir, \n",
    "#                                 'flux_diff_grid_{}-groups_{}-prior.png'.format(num_groups, model_name))\n",
    "#     comp.check_output_dir(flux_outfile)\n",
    "#     plt.savefig(flux_outfile)\n",
    "    plt.show()"
   ]
  },
  {
   "cell_type": "code",
   "execution_count": null,
   "metadata": {
    "collapsed": true
   },
   "outputs": [],
   "source": []
  },
  {
   "cell_type": "code",
   "execution_count": null,
   "metadata": {
    "collapsed": true
   },
   "outputs": [],
   "source": []
  },
  {
   "cell_type": "code",
   "execution_count": null,
   "metadata": {
    "collapsed": true
   },
   "outputs": [],
   "source": []
  },
  {
   "cell_type": "code",
   "execution_count": 30,
   "metadata": {},
   "outputs": [
    {
     "name": "stderr",
     "output_type": "stream",
     "text": [
      "0% [##########] 100% | ETA: 00:00:00\n",
      "Total time elapsed: 00:01:12\n"
     ]
    }
   ],
   "source": [
    "frac_flux_diff, frac_flux_diff_stat = defaultdict(list), defaultdict(list)\n",
    "# ts_stopping_list = [0.01, 0.005, 0.001]\n",
    "ts_stopping_list = np.linspace(0.01, 0.001, 10)\n",
    "for ts_stopping in pyprind.prog_bar(ts_stopping_list):\n",
    "    df_unfolding_iter = unfold(config_name=os.path.join(config, 'config.cfg'),\n",
    "                               priors='Jeffreys',\n",
    "                               input_file=root_file,\n",
    "                               ts_stopping=ts_stopping)\n",
    "\n",
    "    df_final_iter = df_unfolding_iter.iloc[-1]\n",
    "\n",
    "    counts, counts_sys_err, counts_stat_err = {}, {}, {}\n",
    "    for idx, composition in enumerate(comp_list):\n",
    "        counts[composition] = df_final_iter['n_c'][idx::num_groups]\n",
    "        counts_sys_err[composition] = df_final_iter['sys_err'][idx::num_groups]\n",
    "        counts_stat_err[composition] = df_final_iter['stat_err'][idx::num_groups]\n",
    "\n",
    "    for idx, composition in enumerate(comp_list):\n",
    "        if idx == 0:\n",
    "            counts['total'] = np.zeros_like(counts[composition])\n",
    "            counts_sys_err['total'] = np.zeros_like(counts[composition])\n",
    "            counts_stat_err['total'] = np.zeros_like(counts[composition])\n",
    "        counts['total'] += counts[composition]\n",
    "        counts_sys_err['total'] += counts_sys_err[composition]**2\n",
    "        counts_stat_err['total'] += counts_stat_err[composition]**2\n",
    "    counts_sys_err['total'] = np.sqrt(counts_sys_err['total'])\n",
    "    counts_stat_err['total'] = np.sqrt(counts_stat_err['total'])\n",
    "\n",
    "    for composition in comp_list:\n",
    "\n",
    "        flux, flux_err_sys = comp.analysis.get_flux(counts[composition], counts_sys_err[composition],\n",
    "                                                     energybins=energybins.energy_bins,\n",
    "                                                     eff_area=thrown_area,\n",
    "                                                     livetime=livetime, livetime_err=livetime_err, \n",
    "                                                     solid_angle=solid_angle,\n",
    "                                                     scalingindex=1)\n",
    "        flux, flux_err_stat = comp.analysis.get_flux(counts[composition], counts_stat_err[composition],\n",
    "                                                     energybins=energybins.energy_bins,\n",
    "                                                     eff_area=thrown_area,\n",
    "                                                     livetime=livetime, livetime_err=livetime_err, \n",
    "                                                     solid_angle=solid_angle,\n",
    "                                                     scalingindex=1)\n",
    "\n",
    "        # True flux\n",
    "        true_counts = counts_true[composition].values\n",
    "        true_counts_err = np.sqrt(true_counts)\n",
    "\n",
    "        true_flux, true_flux_err = comp.analysis.get_flux(true_counts, true_counts_err,\n",
    "                                                energybins=energybins.energy_bins,\n",
    "                                                eff_area=eff_area[composition],\n",
    "                                                eff_area_err=eff_area_err[composition],\n",
    "                                                livetime=livetime, livetime_err=livetime_err, \n",
    "                                                solid_angle=solid_angle,\n",
    "                                                scalingindex=1)\n",
    "\n",
    "        diff = flux - true_flux\n",
    "        # Error bar calculation\n",
    "        diff_err_sys = flux_err_sys\n",
    "        diff_err_stat = np.sqrt(flux_err_stat**2 + true_flux_err**2)\n",
    "\n",
    "        frac_diff, frac_diff_sys = comp.ratio_error(diff, diff_err_sys, true_flux, true_flux_err)\n",
    "        frac_diff, frac_diff_stat = comp.ratio_error(diff, diff_err_stat, true_flux, true_flux_err)\n",
    "        \n",
    "        frac_flux_diff[composition].append(frac_diff)\n",
    "        frac_flux_diff_stat[composition].append(frac_diff_stat)"
   ]
  },
  {
   "cell_type": "code",
   "execution_count": 32,
   "metadata": {
    "scrolled": false
   },
   "outputs": [
    {
     "name": "stderr",
     "output_type": "stream",
     "text": [
      "WARNING:matplotlib.legend:No handles with labels found to put in legend.\n",
      "WARNING:matplotlib.legend:No handles with labels found to put in legend.\n",
      "WARNING:matplotlib.legend:No handles with labels found to put in legend.\n",
      "WARNING:matplotlib.legend:No handles with labels found to put in legend.\n",
      "WARNING:matplotlib.legend:No handles with labels found to put in legend.\n",
      "WARNING:matplotlib.legend:No handles with labels found to put in legend.\n",
      "WARNING:matplotlib.legend:No handles with labels found to put in legend.\n",
      "WARNING:matplotlib.legend:No handles with labels found to put in legend.\n",
      "WARNING:matplotlib.legend:No handles with labels found to put in legend.\n",
      "WARNING:matplotlib.legend:No handles with labels found to put in legend.\n",
      "WARNING:matplotlib.legend:No handles with labels found to put in legend.\n",
      "WARNING:matplotlib.legend:No handles with labels found to put in legend.\n",
      "WARNING:matplotlib.legend:No handles with labels found to put in legend.\n",
      "WARNING:matplotlib.legend:No handles with labels found to put in legend.\n",
      "WARNING:matplotlib.legend:No handles with labels found to put in legend.\n",
      "WARNING:matplotlib.legend:No handles with labels found to put in legend.\n",
      "WARNING:matplotlib.legend:No handles with labels found to put in legend.\n",
      "WARNING:matplotlib.legend:No handles with labels found to put in legend.\n",
      "WARNING:matplotlib.legend:No handles with labels found to put in legend.\n",
      "WARNING:matplotlib.legend:No handles with labels found to put in legend.\n"
     ]
    },
    {
     "data": {
      "image/png": "[encoded data removed]",
      "text/plain": [
       "<matplotlib.figure.Figure at 0x7fefadd00050>"
      ]
     },
     "metadata": {},
     "output_type": "display_data"
    }
   ],
   "source": [
    "fig, axarr = plt.subplots(2, 2, sharex=True, sharey=True)\n",
    "\n",
    "color_dict_model = {}\n",
    "color_dict_model['PPlus'] = sns.color_palette('Blues', len(ts_stopping_list)+5).as_hex()[::-1]\n",
    "color_dict_model['O16Nucleus'] = sns.color_palette('Reds', len(ts_stopping_list)+5).as_hex()[::-1]\n",
    "color_dict_model['He4Nucleus'] = sns.color_palette('Purples', len(ts_stopping_list)+5).as_hex()[::-1]\n",
    "color_dict_model['Fe56Nucleus'] = sns.color_palette('Oranges', len(ts_stopping_list)+5).as_hex()[::-1]\n",
    "\n",
    "for composition, ax in zip(comp_list, axarr.flatten()):\n",
    "    for idx, (frac_diff, frac_diff_stat) in enumerate(zip(frac_flux_diff[composition],\n",
    "                                                          frac_flux_diff_stat[composition])):\n",
    "\n",
    "        ax.errorbar(energybins.log_energy_midpoints, frac_diff,\n",
    "                    yerr=frac_diff_stat, color=color_dict_model[composition][idx],\n",
    "                    ls=':', marker='.', \n",
    "                    label=composition if idx == len(ts_stopping_list)//2 else '',\n",
    "                    alpha=0.75)\n",
    "        ax.axhline(0, ls='-.', lw=1, marker='None', color='k')\n",
    "\n",
    "        ax.grid(linestyle='dotted', which=\"both\", lw=1)\n",
    "        ax.legend(loc='lower left', ncol=1, fontsize=10)\n",
    "        \n",
    "        extraticks = np.arange(-1, 1.25, 0.25)\n",
    "        ax.set_yticks(extraticks)\n",
    "\n",
    "    ax.set_xlim(6.4, 7.8)\n",
    "    ax.set_ylim(-1, 1)\n",
    "fig.text(0.5, -0.01, '$\\mathrm{\\log_{10}(E/GeV)}$', ha='center',\n",
    "         fontsize=14)\n",
    "fig.text(-0.02, 0.5, '(Unfolded flux - true flux) / true flux',\n",
    "         va='center', rotation='vertical', fontsize=14)\n",
    "plt.tight_layout()\n",
    "\n",
    "flux_compare_outfile = os.path.join(\n",
    "                        figures_dir, \n",
    "                        'flux_compare_grid_{}-groups_Jeffreys-prior.png'.format(num_groups))\n",
    "comp.check_output_dir(flux_compare_outfile)\n",
    "plt.savefig(flux_compare_outfile)\n",
    "plt.show()"
   ]
  },
  {
   "cell_type": "code",
   "execution_count": null,
   "metadata": {
    "collapsed": true
   },
   "outputs": [],
   "source": []
  },
  {
   "cell_type": "code",
   "execution_count": null,
   "metadata": {
    "collapsed": true
   },
   "outputs": [],
   "source": []
  },
  {
   "cell_type": "code",
   "execution_count": null,
   "metadata": {
    "collapsed": true
   },
   "outputs": [],
   "source": []
  },
  {
   "cell_type": "code",
   "execution_count": null,
   "metadata": {
    "collapsed": true
   },
   "outputs": [],
   "source": []
  }
 ],
 "metadata": {
  "kernelspec": {
   "display_name": "Python 2",
   "language": "python",
   "name": "python2"
  },
  "language_info": {
   "codemirror_mode": {
    "name": "ipython",
    "version": 2
   },
   "file_extension": ".py",
   "mimetype": "text/x-python",
   "name": "python",
   "nbconvert_exporter": "python",
   "pygments_lexer": "ipython2",
   "version": "2.7.13"
  }
 },
 "nbformat": 4,
 "nbformat_minor": 2
}
