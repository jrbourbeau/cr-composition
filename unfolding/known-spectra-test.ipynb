{
 "cells": [
  {
   "cell_type": "code",
   "execution_count": 2,
   "metadata": {},
   "outputs": [],
   "source": [
    "from __future__ import division\n",
    "import os\n",
    "from collections import defaultdict\n",
    "import itertools\n",
    "import subprocess\n",
    "import numpy as np\n",
    "import pandas as pd\n",
    "import seaborn as sns\n",
    "import matplotlib.pyplot as plt\n",
    "import matplotlib.gridspec as gridspec\n",
    "import pyprind\n",
    "\n",
    "import comptools as comp\n",
    "import comptools.analysis.plotting as plotting\n",
    "\n",
    "from save_pyunfold_format import save_pyunfold_root_file\n",
    "from run_unfolding import unfold\n",
    "    \n",
    "# color_dict allows for a consistent color-coding for each composition\n",
    "color_dict = comp.analysis.get_color_dict()\n",
    "\n",
    "%matplotlib inline"
   ]
  },
  {
   "cell_type": "code",
   "execution_count": 3,
   "metadata": {
    "collapsed": true
   },
   "outputs": [],
   "source": [
    "# config = 'IC79.2010'\n",
    "config = 'IC86.2012'\n",
    "num_groups = 4\n",
    "comp_list = comp.get_comp_list(num_groups=num_groups)"
   ]
  },
  {
   "cell_type": "code",
   "execution_count": 4,
   "metadata": {
    "collapsed": true
   },
   "outputs": [],
   "source": [
    "energybins = comp.analysis.get_energybins(config)"
   ]
  },
  {
   "cell_type": "code",
   "execution_count": 5,
   "metadata": {
    "collapsed": true
   },
   "outputs": [],
   "source": [
    "feature_list, feature_labels = comp.analysis.get_training_features()\n",
    "pipeline_str = 'BDT_comp_{}_{}-groups'.format(config, num_groups)"
   ]
  },
  {
   "cell_type": "code",
   "execution_count": 6,
   "metadata": {
    "collapsed": true
   },
   "outputs": [],
   "source": [
    "unfolding_dir  = os.path.join(comp.paths.comp_data_dir, config,\n",
    "                              'unfolding')\n",
    "figures_dir  = os.path.join(comp.paths.figures_dir, 'unfolding', config,\n",
    "                            'datachallenge')"
   ]
  },
  {
   "cell_type": "code",
   "execution_count": 6,
   "metadata": {},
   "outputs": [
    {
     "name": "stdout",
     "output_type": "stream",
     "text": [
      "[########################################] | 100% Completed |  7min 54.4s\n"
     ]
    }
   ],
   "source": [
    "df_data = comp.load_data(config=config,\n",
    "                         log_energy_min=energybins.log_energy_min,\n",
    "                         log_energy_max=energybins.log_energy_max,\n",
    "                         columns=feature_list,\n",
    "                         n_jobs=10, verbose=True)"
   ]
  },
  {
   "cell_type": "code",
   "execution_count": 7,
   "metadata": {},
   "outputs": [
    {
     "name": "stderr",
     "output_type": "stream",
     "text": [
      "/home/jbourbeau/.virtualenvs/composition/lib/python2.7/site-packages/matplotlib/figure.py:1743: UserWarning: This figure includes Axes that are not compatible with tight_layout, so its results might be incorrect.\n",
      "  warnings.warn(\"This figure includes Axes that are not \"\n"
     ]
    },
    {
     "data": {
      "image/png": "[encoded data removed]",
      "text/plain": [
       "<matplotlib.figure.Figure at 0x7febb41fe410>"
      ]
     },
     "metadata": {},
     "output_type": "display_data"
    }
   ],
   "source": [
    "fig, ax = plt.subplots()\n",
    "df_data.reco_log_energy.plot(kind='hist', histtype='step', bins=energybins.log_energy_bins,\n",
    "                             color=color_dict['data'], logy=True, ax=ax)\n",
    "ax.grid()\n",
    "plt.show()"
   ]
  },
  {
   "cell_type": "markdown",
   "metadata": {},
   "source": [
    "## Load simulation & train BDT"
   ]
  },
  {
   "cell_type": "code",
   "execution_count": 7,
   "metadata": {},
   "outputs": [
    {
     "name": "stdout",
     "output_type": "stream",
     "text": [
      "[########################################] | 100% Completed |  1.9s\n"
     ]
    }
   ],
   "source": [
    "df_sim_train, df_sim_test = comp.load_sim(config=config,\n",
    "                                          log_energy_min=energybins.log_energy_min,\n",
    "                                          log_energy_max=energybins.log_energy_max,\n",
    "                                          test_size=0.5, verbose=True)"
   ]
  },
  {
   "cell_type": "code",
   "execution_count": 8,
   "metadata": {},
   "outputs": [
    {
     "name": "stdout",
     "output_type": "stream",
     "text": [
      "Fitting composition classifier...\n"
     ]
    }
   ],
   "source": [
    "pipeline = comp.get_pipeline(pipeline_str)\n",
    "\n",
    "# Fit composition classifier\n",
    "print('Fitting composition classifier...')\n",
    "pipeline = pipeline.fit(df_sim_train[feature_list],\n",
    "                        df_sim_train['comp_target_{}'.format(num_groups)])"
   ]
  },
  {
   "cell_type": "code",
   "execution_count": 9,
   "metadata": {},
   "outputs": [
    {
     "name": "stderr",
     "output_type": "stream",
     "text": [
      "/home/jbourbeau/.virtualenvs/composition/lib/python2.7/site-packages/matplotlib/figure.py:2022: UserWarning: This figure includes Axes that are not compatible with tight_layout, so results might be incorrect.\n",
      "  warnings.warn(\"This figure includes Axes that are not compatible \"\n"
     ]
    },
    {
     "data": {
      "image/png": "[encoded data removed]",
      "text/plain": [
       "<matplotlib.figure.Figure at 0x7ff604a58f90>"
      ]
     },
     "metadata": {},
     "output_type": "display_data"
    }
   ],
   "source": [
    "fig, ax = plt.subplots()\n",
    "for composition in comp_list:\n",
    "    comp_mask = df_sim_test['comp_group_{}'.format(num_groups)] == composition\n",
    "    counts = np.histogram(df_sim_test.loc[comp_mask, 'MC_log_energy'], bins=energybins.log_energy_bins)[0]\n",
    "    plotting.plot_steps(energybins.log_energy_bins, counts, label=composition,\n",
    "                        color=color_dict[composition], ax=ax)\n",
    "\n",
    "ax.set_xlim(energybins.log_energy_min, energybins.log_energy_max)\n",
    "ax.set_xlabel('$\\mathrm{\\log_{10}(E/GeV)}$')\n",
    "ax.set_ylabel('Counts')\n",
    "ax.grid()\n",
    "\n",
    "leg = plt.legend(\n",
    "                 loc='upper center', frameon=False,\n",
    "                 bbox_to_anchor=(0.5,  # horizontal\n",
    "                                 1.2),# vertical \n",
    "                 ncol=len(comp_list)//2, fancybox=False)\n",
    "nevents_outfile = os.path.join(figures_dir, 'num_testing_sim_events.png'.format(config))\n",
    "comp.check_output_dir(nevents_outfile)\n",
    "plt.savefig(nevents_outfile)\n",
    "plt.show()"
   ]
  },
  {
   "cell_type": "markdown",
   "metadata": {},
   "source": [
    "Plot true flux"
   ]
  },
  {
   "cell_type": "code",
   "execution_count": 10,
   "metadata": {},
   "outputs": [
    {
     "data": {
      "text/plain": [
       "2.5804847429997841"
      ]
     },
     "execution_count": 10,
     "metadata": {},
     "output_type": "execute_result"
    }
   ],
   "source": [
    "# Solid angle\n",
    "theta_max = 40 if config == 'IC79.2010' else 65\n",
    "# solid_angle = 2*np.pi*(np.cos(df_sim_train['lap_zenith'].min())-np.cos(df_sim_train['lap_zenith'].max()))\n",
    "solid_angle = np.pi*np.sin(np.deg2rad(theta_max))**2\n",
    "solid_angle"
   ]
  },
  {
   "cell_type": "code",
   "execution_count": 11,
   "metadata": {},
   "outputs": [
    {
     "data": {
      "text/plain": [
       "(28442248.921, 2699.1328177300002)"
      ]
     },
     "execution_count": 11,
     "metadata": {},
     "output_type": "execute_result"
    }
   ],
   "source": [
    "livetime, livetime_err = comp.get_detector_livetime(config=config)\n",
    "livetime, livetime_err"
   ]
  },
  {
   "cell_type": "code",
   "execution_count": 12,
   "metadata": {},
   "outputs": [
    {
     "name": "stdout",
     "output_type": "stream",
     "text": [
      "thrown_area = 9079202.76887\n"
     ]
    }
   ],
   "source": [
    "# Get simulation thrown areas for each energy bin\n",
    "thrown_radii = comp.simfunctions.get_sim_thrown_radius(energybins.log_energy_midpoints)\n",
    "thrown_areas = np.pi * thrown_radii**2\n",
    "thrown_area = thrown_areas.max()\n",
    "print('thrown_area = {}'.format(thrown_area))"
   ]
  },
  {
   "cell_type": "code",
   "execution_count": 100,
   "metadata": {},
   "outputs": [
    {
     "name": "stdout",
     "output_type": "stream",
     "text": [
      "Loading detection efficiencies...\n"
     ]
    }
   ],
   "source": [
    "# Load fitted effective area\n",
    "print('Loading detection efficiencies...')\n",
    "eff_path = os.path.join(\n",
    "                comp.paths.comp_data_dir, config, 'efficiencies',\n",
    "                'efficiency_fit_num_groups_{}.hdf'.format(num_groups))\n",
    "df_eff = pd.read_hdf(eff_path)"
   ]
  },
  {
   "cell_type": "code",
   "execution_count": 101,
   "metadata": {},
   "outputs": [
    {
     "data": {
      "text/html": [
       "<div>\n",
       "<style>\n",
       "    .dataframe thead tr:only-child th {\n",
       "        text-align: right;\n",
       "    }\n",
       "\n",
       "    .dataframe thead th {\n",
       "        text-align: left;\n",
       "    }\n",
       "\n",
       "    .dataframe tbody tr th {\n",
       "        vertical-align: top;\n",
       "    }\n",
       "</style>\n",
       "<table border=\"1\" class=\"dataframe\">\n",
       "  <thead>\n",
       "    <tr style=\"text-align: right;\">\n",
       "      <th></th>\n",
       "      <th>eff_median_PPlus</th>\n",
       "      <th>eff_err_low_PPlus</th>\n",
       "      <th>eff_err_high_PPlus</th>\n",
       "      <th>eff_median_He4Nucleus</th>\n",
       "      <th>eff_err_low_He4Nucleus</th>\n",
       "      <th>eff_err_high_He4Nucleus</th>\n",
       "      <th>eff_median_O16Nucleus</th>\n",
       "      <th>eff_err_low_O16Nucleus</th>\n",
       "      <th>eff_err_high_O16Nucleus</th>\n",
       "      <th>eff_median_Fe56Nucleus</th>\n",
       "      <th>eff_err_low_Fe56Nucleus</th>\n",
       "      <th>eff_err_high_Fe56Nucleus</th>\n",
       "      <th>eff_median_total</th>\n",
       "      <th>eff_err_low_total</th>\n",
       "      <th>eff_err_high_total</th>\n",
       "    </tr>\n",
       "  </thead>\n",
       "  <tbody>\n",
       "    <tr>\n",
       "      <th>0</th>\n",
       "      <td>0.006817</td>\n",
       "      <td>0.000106</td>\n",
       "      <td>0.000107</td>\n",
       "      <td>0.007282</td>\n",
       "      <td>0.000117</td>\n",
       "      <td>0.000119</td>\n",
       "      <td>0.006521</td>\n",
       "      <td>0.000114</td>\n",
       "      <td>0.000114</td>\n",
       "      <td>0.006122</td>\n",
       "      <td>0.000109</td>\n",
       "      <td>0.000127</td>\n",
       "      <td>0.006692</td>\n",
       "      <td>0.000061</td>\n",
       "      <td>0.000057</td>\n",
       "    </tr>\n",
       "    <tr>\n",
       "      <th>1</th>\n",
       "      <td>0.007648</td>\n",
       "      <td>0.000097</td>\n",
       "      <td>0.000095</td>\n",
       "      <td>0.008172</td>\n",
       "      <td>0.000088</td>\n",
       "      <td>0.000094</td>\n",
       "      <td>0.007695</td>\n",
       "      <td>0.000100</td>\n",
       "      <td>0.000091</td>\n",
       "      <td>0.007538</td>\n",
       "      <td>0.000100</td>\n",
       "      <td>0.000102</td>\n",
       "      <td>0.007761</td>\n",
       "      <td>0.000050</td>\n",
       "      <td>0.000048</td>\n",
       "    </tr>\n",
       "    <tr>\n",
       "      <th>2</th>\n",
       "      <td>0.008185</td>\n",
       "      <td>0.000078</td>\n",
       "      <td>0.000079</td>\n",
       "      <td>0.008623</td>\n",
       "      <td>0.000068</td>\n",
       "      <td>0.000068</td>\n",
       "      <td>0.008327</td>\n",
       "      <td>0.000073</td>\n",
       "      <td>0.000069</td>\n",
       "      <td>0.008266</td>\n",
       "      <td>0.000081</td>\n",
       "      <td>0.000066</td>\n",
       "      <td>0.008363</td>\n",
       "      <td>0.000037</td>\n",
       "      <td>0.000039</td>\n",
       "    </tr>\n",
       "    <tr>\n",
       "      <th>3</th>\n",
       "      <td>0.008507</td>\n",
       "      <td>0.000061</td>\n",
       "      <td>0.000070</td>\n",
       "      <td>0.008833</td>\n",
       "      <td>0.000068</td>\n",
       "      <td>0.000063</td>\n",
       "      <td>0.008625</td>\n",
       "      <td>0.000066</td>\n",
       "      <td>0.000063</td>\n",
       "      <td>0.008574</td>\n",
       "      <td>0.000067</td>\n",
       "      <td>0.000066</td>\n",
       "      <td>0.008669</td>\n",
       "      <td>0.000033</td>\n",
       "      <td>0.000035</td>\n",
       "    </tr>\n",
       "    <tr>\n",
       "      <th>4</th>\n",
       "      <td>0.008694</td>\n",
       "      <td>0.000064</td>\n",
       "      <td>0.000068</td>\n",
       "      <td>0.008924</td>\n",
       "      <td>0.000070</td>\n",
       "      <td>0.000062</td>\n",
       "      <td>0.008759</td>\n",
       "      <td>0.000065</td>\n",
       "      <td>0.000067</td>\n",
       "      <td>0.008699</td>\n",
       "      <td>0.000065</td>\n",
       "      <td>0.000072</td>\n",
       "      <td>0.008815</td>\n",
       "      <td>0.000036</td>\n",
       "      <td>0.000034</td>\n",
       "    </tr>\n",
       "  </tbody>\n",
       "</table>\n",
       "</div>"
      ],
      "text/plain": [
       "   eff_median_PPlus  eff_err_low_PPlus  eff_err_high_PPlus  \\\n",
       "0          0.006817           0.000106            0.000107   \n",
       "1          0.007648           0.000097            0.000095   \n",
       "2          0.008185           0.000078            0.000079   \n",
       "3          0.008507           0.000061            0.000070   \n",
       "4          0.008694           0.000064            0.000068   \n",
       "\n",
       "   eff_median_He4Nucleus  eff_err_low_He4Nucleus  eff_err_high_He4Nucleus  \\\n",
       "0               0.007282                0.000117                 0.000119   \n",
       "1               0.008172                0.000088                 0.000094   \n",
       "2               0.008623                0.000068                 0.000068   \n",
       "3               0.008833                0.000068                 0.000063   \n",
       "4               0.008924                0.000070                 0.000062   \n",
       "\n",
       "   eff_median_O16Nucleus  eff_err_low_O16Nucleus  eff_err_high_O16Nucleus  \\\n",
       "0               0.006521                0.000114                 0.000114   \n",
       "1               0.007695                0.000100                 0.000091   \n",
       "2               0.008327                0.000073                 0.000069   \n",
       "3               0.008625                0.000066                 0.000063   \n",
       "4               0.008759                0.000065                 0.000067   \n",
       "\n",
       "   eff_median_Fe56Nucleus  eff_err_low_Fe56Nucleus  eff_err_high_Fe56Nucleus  \\\n",
       "0                0.006122                 0.000109                  0.000127   \n",
       "1                0.007538                 0.000100                  0.000102   \n",
       "2                0.008266                 0.000081                  0.000066   \n",
       "3                0.008574                 0.000067                  0.000066   \n",
       "4                0.008699                 0.000065                  0.000072   \n",
       "\n",
       "   eff_median_total  eff_err_low_total  eff_err_high_total  \n",
       "0          0.006692           0.000061            0.000057  \n",
       "1          0.007761           0.000050            0.000048  \n",
       "2          0.008363           0.000037            0.000039  \n",
       "3          0.008669           0.000033            0.000035  \n",
       "4          0.008815           0.000036            0.000034  "
      ]
     },
     "execution_count": 101,
     "metadata": {},
     "output_type": "execute_result"
    }
   ],
   "source": [
    "df_eff.head()"
   ]
  },
  {
   "cell_type": "code",
   "execution_count": 102,
   "metadata": {},
   "outputs": [
    {
     "data": {
      "image/png": "[encoded data removed]",
      "text/plain": [
       "<matplotlib.figure.Figure at 0x7ff5fe9c3190>"
      ]
     },
     "metadata": {},
     "output_type": "display_data"
    }
   ],
   "source": [
    "eff_area, eff_area_err = {}, {}\n",
    "fig, ax = plt.subplots()\n",
    "for composition in comp_list+['total']:\n",
    "    eff_area[composition] = df_eff['eff_median_{}'.format(composition)]*thrown_area\n",
    "    eff_area_err[composition] = df_eff['eff_err_low_{}'.format(composition)]*thrown_area\n",
    "    plotting.plot_steps(energybins.log_energy_bins, eff_area[composition], eff_area_err[composition], \n",
    "                        color=color_dict[composition], label=composition, ax=ax)\n",
    "ax.set_ylim(0)\n",
    "ax.grid()\n",
    "plt.show()"
   ]
  },
  {
   "cell_type": "markdown",
   "metadata": {},
   "source": [
    "Generate fake counts distribution for each composition\n",
    "\n",
    "(In the future, this will be specified by Josh/Zach)"
   ]
  },
  {
   "cell_type": "code",
   "execution_count": 16,
   "metadata": {
    "collapsed": true
   },
   "outputs": [],
   "source": [
    "random_state = 2\n",
    "np.random.seed(random_state)"
   ]
  },
  {
   "cell_type": "code",
   "execution_count": 126,
   "metadata": {
    "collapsed": true
   },
   "outputs": [],
   "source": [
    "case = 4"
   ]
  },
  {
   "cell_type": "code",
   "execution_count": 127,
   "metadata": {},
   "outputs": [
    {
     "data": {
      "text/html": [
       "<div>\n",
       "<style>\n",
       "    .dataframe thead tr:only-child th {\n",
       "        text-align: right;\n",
       "    }\n",
       "\n",
       "    .dataframe thead th {\n",
       "        text-align: left;\n",
       "    }\n",
       "\n",
       "    .dataframe tbody tr th {\n",
       "        vertical-align: top;\n",
       "    }\n",
       "</style>\n",
       "<table border=\"1\" class=\"dataframe\">\n",
       "  <thead>\n",
       "    <tr style=\"text-align: right;\">\n",
       "      <th></th>\n",
       "      <th>PPlus</th>\n",
       "      <th>He4Nucleus</th>\n",
       "      <th>O16Nucleus</th>\n",
       "      <th>Fe56Nucleus</th>\n",
       "      <th>total</th>\n",
       "    </tr>\n",
       "  </thead>\n",
       "  <tbody>\n",
       "    <tr>\n",
       "      <th>6.15</th>\n",
       "      <td>437092.996868</td>\n",
       "      <td>692956.823890</td>\n",
       "      <td>338712.908154</td>\n",
       "      <td>217004.008170</td>\n",
       "      <td>1.685767e+06</td>\n",
       "    </tr>\n",
       "    <tr>\n",
       "      <th>6.25</th>\n",
       "      <td>312855.700602</td>\n",
       "      <td>519704.646952</td>\n",
       "      <td>274407.474634</td>\n",
       "      <td>184423.856805</td>\n",
       "      <td>1.291392e+06</td>\n",
       "    </tr>\n",
       "    <tr>\n",
       "      <th>6.35</th>\n",
       "      <td>210172.105358</td>\n",
       "      <td>362697.995522</td>\n",
       "      <td>203489.893637</td>\n",
       "      <td>139547.310201</td>\n",
       "      <td>9.159073e+05</td>\n",
       "    </tr>\n",
       "    <tr>\n",
       "      <th>6.45</th>\n",
       "      <td>134540.072873</td>\n",
       "      <td>242577.784858</td>\n",
       "      <td>144120.498129</td>\n",
       "      <td>99828.779922</td>\n",
       "      <td>6.210671e+05</td>\n",
       "    </tr>\n",
       "    <tr>\n",
       "      <th>6.55</th>\n",
       "      <td>82898.110950</td>\n",
       "      <td>157471.109925</td>\n",
       "      <td>99804.810677</td>\n",
       "      <td>69791.369479</td>\n",
       "      <td>4.099654e+05</td>\n",
       "    </tr>\n",
       "    <tr>\n",
       "      <th>6.65</th>\n",
       "      <td>49452.130734</td>\n",
       "      <td>99631.296472</td>\n",
       "      <td>68249.202557</td>\n",
       "      <td>48309.066716</td>\n",
       "      <td>2.656417e+05</td>\n",
       "    </tr>\n",
       "    <tr>\n",
       "      <th>6.75</th>\n",
       "      <td>28700.244984</td>\n",
       "      <td>61410.091947</td>\n",
       "      <td>46308.934463</td>\n",
       "      <td>33278.150044</td>\n",
       "      <td>1.696974e+05</td>\n",
       "    </tr>\n",
       "    <tr>\n",
       "      <th>6.85</th>\n",
       "      <td>16338.054091</td>\n",
       "      <td>36748.564614</td>\n",
       "      <td>31196.537664</td>\n",
       "      <td>22854.385508</td>\n",
       "      <td>1.071375e+05</td>\n",
       "    </tr>\n",
       "    <tr>\n",
       "      <th>6.95</th>\n",
       "      <td>9235.213206</td>\n",
       "      <td>21264.785272</td>\n",
       "      <td>20864.722007</td>\n",
       "      <td>15652.923462</td>\n",
       "      <td>6.701764e+04</td>\n",
       "    </tr>\n",
       "    <tr>\n",
       "      <th>7.05</th>\n",
       "      <td>5275.247503</td>\n",
       "      <td>11859.601690</td>\n",
       "      <td>13843.240219</td>\n",
       "      <td>10687.428074</td>\n",
       "      <td>4.166552e+04</td>\n",
       "    </tr>\n",
       "    <tr>\n",
       "      <th>7.15</th>\n",
       "      <td>3096.577174</td>\n",
       "      <td>6372.957554</td>\n",
       "      <td>9099.905255</td>\n",
       "      <td>7269.951290</td>\n",
       "      <td>2.583939e+04</td>\n",
       "    </tr>\n",
       "    <tr>\n",
       "      <th>7.25</th>\n",
       "      <td>1879.776983</td>\n",
       "      <td>3320.102290</td>\n",
       "      <td>5919.839851</td>\n",
       "      <td>4922.619436</td>\n",
       "      <td>1.604234e+04</td>\n",
       "    </tr>\n",
       "    <tr>\n",
       "      <th>7.35</th>\n",
       "      <td>1169.411728</td>\n",
       "      <td>1705.385863</td>\n",
       "      <td>3807.768223</td>\n",
       "      <td>3314.393420</td>\n",
       "      <td>9.996959e+03</td>\n",
       "    </tr>\n",
       "    <tr>\n",
       "      <th>7.45</th>\n",
       "      <td>732.485303</td>\n",
       "      <td>887.750924</td>\n",
       "      <td>2421.022634</td>\n",
       "      <td>2216.183578</td>\n",
       "      <td>6.257442e+03</td>\n",
       "    </tr>\n",
       "    <tr>\n",
       "      <th>7.55</th>\n",
       "      <td>455.046157</td>\n",
       "      <td>480.542836</td>\n",
       "      <td>1522.804823</td>\n",
       "      <td>1469.509650</td>\n",
       "      <td>3.927903e+03</td>\n",
       "    </tr>\n",
       "    <tr>\n",
       "      <th>7.65</th>\n",
       "      <td>278.635172</td>\n",
       "      <td>271.214364</td>\n",
       "      <td>949.753265</td>\n",
       "      <td>964.745188</td>\n",
       "      <td>2.464348e+03</td>\n",
       "    </tr>\n",
       "    <tr>\n",
       "      <th>7.75</th>\n",
       "      <td>168.680626</td>\n",
       "      <td>155.480716</td>\n",
       "      <td>589.666291</td>\n",
       "      <td>626.056716</td>\n",
       "      <td>1.539884e+03</td>\n",
       "    </tr>\n",
       "    <tr>\n",
       "      <th>7.85</th>\n",
       "      <td>102.046666</td>\n",
       "      <td>87.238958</td>\n",
       "      <td>366.223392</td>\n",
       "      <td>400.981168</td>\n",
       "      <td>9.564902e+02</td>\n",
       "    </tr>\n",
       "    <tr>\n",
       "      <th>7.95</th>\n",
       "      <td>62.661710</td>\n",
       "      <td>46.432762</td>\n",
       "      <td>228.438017</td>\n",
       "      <td>253.218180</td>\n",
       "      <td>5.907507e+02</td>\n",
       "    </tr>\n",
       "  </tbody>\n",
       "</table>\n",
       "</div>"
      ],
      "text/plain": [
       "              PPlus     He4Nucleus     O16Nucleus    Fe56Nucleus         total\n",
       "6.15  437092.996868  692956.823890  338712.908154  217004.008170  1.685767e+06\n",
       "6.25  312855.700602  519704.646952  274407.474634  184423.856805  1.291392e+06\n",
       "6.35  210172.105358  362697.995522  203489.893637  139547.310201  9.159073e+05\n",
       "6.45  134540.072873  242577.784858  144120.498129   99828.779922  6.210671e+05\n",
       "6.55   82898.110950  157471.109925   99804.810677   69791.369479  4.099654e+05\n",
       "6.65   49452.130734   99631.296472   68249.202557   48309.066716  2.656417e+05\n",
       "6.75   28700.244984   61410.091947   46308.934463   33278.150044  1.696974e+05\n",
       "6.85   16338.054091   36748.564614   31196.537664   22854.385508  1.071375e+05\n",
       "6.95    9235.213206   21264.785272   20864.722007   15652.923462  6.701764e+04\n",
       "7.05    5275.247503   11859.601690   13843.240219   10687.428074  4.166552e+04\n",
       "7.15    3096.577174    6372.957554    9099.905255    7269.951290  2.583939e+04\n",
       "7.25    1879.776983    3320.102290    5919.839851    4922.619436  1.604234e+04\n",
       "7.35    1169.411728    1705.385863    3807.768223    3314.393420  9.996959e+03\n",
       "7.45     732.485303     887.750924    2421.022634    2216.183578  6.257442e+03\n",
       "7.55     455.046157     480.542836    1522.804823    1469.509650  3.927903e+03\n",
       "7.65     278.635172     271.214364     949.753265     964.745188  2.464348e+03\n",
       "7.75     168.680626     155.480716     589.666291     626.056716  1.539884e+03\n",
       "7.85     102.046666      87.238958     366.223392     400.981168  9.564902e+02\n",
       "7.95      62.661710      46.432762     228.438017     253.218180  5.907507e+02"
      ]
     },
     "execution_count": 127,
     "metadata": {},
     "output_type": "execute_result"
    }
   ],
   "source": [
    "counts_true = pd.DataFrame(index=energybins.log_energy_midpoints,\n",
    "                           columns=comp_list)\n",
    "\n",
    "# for composition in comp_list:\n",
    "#     counts_true[composition] = np.random.randint(100, 1e4,\n",
    "#                                             size=len(energybins.log_energy_midpoints),\n",
    "#                                             dtype=int)\n",
    "\n",
    "\n",
    "if case == 1:\n",
    "    for composition in comp_list:\n",
    "        counts_true[composition] = np.array([1000]*len(energybins.log_energy_midpoints))\n",
    "\n",
    "elif case == 2:\n",
    "    for composition, value in zip(comp_list, [1000, 800, 700, 600]):\n",
    "        counts_true[composition] = np.array([value]*len(energybins.log_energy_midpoints))\n",
    "        \n",
    "elif case == 3:\n",
    "    n_energy_bins = len(energybins.log_energy_midpoints)\n",
    "    for composition in comp_list:\n",
    "        if composition == 'PPlus':\n",
    "            n_min = 10000\n",
    "            n_max = 10\n",
    "            counts_true[composition] = [int(n_min + i*((n_max-n_min) / n_energy_bins)) for i in range(n_energy_bins)]\n",
    "        elif composition == 'He4Nucleus':\n",
    "            n_min = 5000\n",
    "            n_max = 500\n",
    "            counts_true[composition] = [int(n_min + i*((n_max-n_min) / n_energy_bins)) for i in range(n_energy_bins)]\n",
    "        elif composition == 'O16Nucleus':\n",
    "            n_min = 1000\n",
    "            n_max = 2000\n",
    "            counts_true[composition] = [int(n_min + i*((n_max-n_min) / n_energy_bins)) for i in range(n_energy_bins)]\n",
    "        elif composition == 'Fe56Nucleus':\n",
    "            counts_true[composition] = [3000]*n_energy_bins\n",
    "\n",
    "\n",
    "elif case == 4:\n",
    "    model_flux = comp.analysis.get_model_flux(model='H4a',\n",
    "                                              energy=energybins.energy_midpoints,\n",
    "                                              num_groups=num_groups)\n",
    "    for composition in comp_list:\n",
    "        flux_to_counts_scaling = eff_area[composition] * livetime * solid_angle * energybins.energy_bin_widths\n",
    "        counts_true[composition] = model_flux['flux_{}'.format(composition)].values * flux_to_counts_scaling.values\n",
    "\n",
    "else:\n",
    "    raise ValueError('Invalid case, {}, entered'.format(case))\n",
    "\n",
    "\n",
    "# Calculate total counts\n",
    "counts_true['total'] = counts_true.sum(axis=1)\n",
    "\n",
    "counts_true"
   ]
  },
  {
   "cell_type": "code",
   "execution_count": 128,
   "metadata": {},
   "outputs": [
    {
     "data": {
      "image/png": "[encoded data removed]",
      "text/plain": [
       "<matplotlib.figure.Figure at 0x7ff5fe5f3550>"
      ]
     },
     "metadata": {},
     "output_type": "display_data"
    }
   ],
   "source": [
    "fig, ax = plt.subplots()\n",
    "for composition in counts_true:\n",
    "    plotting.plot_steps(energybins.log_energy_bins, counts_true[composition],\n",
    "                        color=color_dict[composition], label=composition,\n",
    "                        ax=ax)\n",
    "ax.set_yscale(\"log\", nonposy='clip')\n",
    "ax.grid()\n",
    "ax.legend()\n",
    "plt.show()"
   ]
  },
  {
   "cell_type": "markdown",
   "metadata": {},
   "source": [
    "Calculate (testing set) simulation event weights"
   ]
  },
  {
   "cell_type": "code",
   "execution_count": 129,
   "metadata": {
    "collapsed": true
   },
   "outputs": [],
   "source": [
    "counts_sim = pd.DataFrame(index=energybins.log_energy_midpoints,\n",
    "                          columns=comp_list)\n",
    "for composition in comp_list:\n",
    "    comp_mask = df_sim_test['comp_group_{}'.format(num_groups)] == composition\n",
    "    comp_counts, _ = np.histogram(df_sim_test.loc[comp_mask, 'reco_log_energy'],\n",
    "                                  bins=energybins.log_energy_bins)\n",
    "    counts_sim[composition] = comp_counts"
   ]
  },
  {
   "cell_type": "code",
   "execution_count": 130,
   "metadata": {},
   "outputs": [
    {
     "data": {
      "image/png": "[encoded data removed]",
      "text/plain": [
       "<matplotlib.figure.Figure at 0x7ff5fc15cdd0>"
      ]
     },
     "metadata": {},
     "output_type": "display_data"
    }
   ],
   "source": [
    "fig, ax = plt.subplots()\n",
    "for composition in counts_sim:\n",
    "    plotting.plot_steps(energybins.log_energy_bins, counts_sim[composition],\n",
    "                        color=color_dict[composition], label=composition)\n",
    "ax.grid()\n",
    "ax.legend()\n",
    "plt.show()"
   ]
  },
  {
   "cell_type": "markdown",
   "metadata": {
    "collapsed": true
   },
   "source": [
    "## Run analysis pipeline on simulation"
   ]
  },
  {
   "cell_type": "code",
   "execution_count": 131,
   "metadata": {
    "scrolled": false
   },
   "outputs": [
    {
     "data": {
      "text/html": [
       "<div>\n",
       "<style>\n",
       "    .dataframe thead tr:only-child th {\n",
       "        text-align: right;\n",
       "    }\n",
       "\n",
       "    .dataframe thead th {\n",
       "        text-align: left;\n",
       "    }\n",
       "\n",
       "    .dataframe tbody tr th {\n",
       "        vertical-align: top;\n",
       "    }\n",
       "</style>\n",
       "<table border=\"1\" class=\"dataframe\">\n",
       "  <thead>\n",
       "    <tr style=\"text-align: right;\">\n",
       "      <th></th>\n",
       "      <th>PPlus</th>\n",
       "      <th>He4Nucleus</th>\n",
       "      <th>O16Nucleus</th>\n",
       "      <th>Fe56Nucleus</th>\n",
       "    </tr>\n",
       "  </thead>\n",
       "  <tbody>\n",
       "    <tr>\n",
       "      <th>6.15</th>\n",
       "      <td>505800.188523</td>\n",
       "      <td>286093.474624</td>\n",
       "      <td>291406.256091</td>\n",
       "      <td>160754.617743</td>\n",
       "    </tr>\n",
       "    <tr>\n",
       "      <th>6.25</th>\n",
       "      <td>475680.618000</td>\n",
       "      <td>457063.465367</td>\n",
       "      <td>153948.468698</td>\n",
       "      <td>395739.107098</td>\n",
       "    </tr>\n",
       "    <tr>\n",
       "      <th>6.35</th>\n",
       "      <td>297422.354700</td>\n",
       "      <td>318714.745935</td>\n",
       "      <td>126266.375939</td>\n",
       "      <td>312373.511149</td>\n",
       "    </tr>\n",
       "    <tr>\n",
       "      <th>6.45</th>\n",
       "      <td>155283.369237</td>\n",
       "      <td>212043.444865</td>\n",
       "      <td>95999.801375</td>\n",
       "      <td>194873.141864</td>\n",
       "    </tr>\n",
       "    <tr>\n",
       "      <th>6.55</th>\n",
       "      <td>137324.676815</td>\n",
       "      <td>107643.410405</td>\n",
       "      <td>71040.931657</td>\n",
       "      <td>129747.765912</td>\n",
       "    </tr>\n",
       "    <tr>\n",
       "      <th>6.65</th>\n",
       "      <td>92373.744859</td>\n",
       "      <td>78729.187718</td>\n",
       "      <td>50459.273078</td>\n",
       "      <td>59318.145314</td>\n",
       "    </tr>\n",
       "    <tr>\n",
       "      <th>6.75</th>\n",
       "      <td>26952.400513</td>\n",
       "      <td>46162.929302</td>\n",
       "      <td>40387.216624</td>\n",
       "      <td>64034.704160</td>\n",
       "    </tr>\n",
       "    <tr>\n",
       "      <th>6.85</th>\n",
       "      <td>37795.622584</td>\n",
       "      <td>31043.582643</td>\n",
       "      <td>22915.218154</td>\n",
       "      <td>25131.671860</td>\n",
       "    </tr>\n",
       "    <tr>\n",
       "      <th>6.95</th>\n",
       "      <td>16734.900431</td>\n",
       "      <td>16604.765134</td>\n",
       "      <td>14249.891718</td>\n",
       "      <td>30714.496845</td>\n",
       "    </tr>\n",
       "    <tr>\n",
       "      <th>7.05</th>\n",
       "      <td>6813.859392</td>\n",
       "      <td>4913.609408</td>\n",
       "      <td>9444.841557</td>\n",
       "      <td>12976.600924</td>\n",
       "    </tr>\n",
       "    <tr>\n",
       "      <th>7.15</th>\n",
       "      <td>7381.021435</td>\n",
       "      <td>3077.419186</td>\n",
       "      <td>5715.915872</td>\n",
       "      <td>11405.492359</td>\n",
       "    </tr>\n",
       "    <tr>\n",
       "      <th>7.25</th>\n",
       "      <td>4094.642972</td>\n",
       "      <td>262.934843</td>\n",
       "      <td>4997.042079</td>\n",
       "      <td>5185.597726</td>\n",
       "    </tr>\n",
       "    <tr>\n",
       "      <th>7.35</th>\n",
       "      <td>2633.350289</td>\n",
       "      <td>658.967529</td>\n",
       "      <td>5348.452136</td>\n",
       "      <td>2532.794857</td>\n",
       "    </tr>\n",
       "    <tr>\n",
       "      <th>7.45</th>\n",
       "      <td>1122.339648</td>\n",
       "      <td>1100.997250</td>\n",
       "      <td>2160.971332</td>\n",
       "      <td>2016.524249</td>\n",
       "    </tr>\n",
       "    <tr>\n",
       "      <th>7.55</th>\n",
       "      <td>462.024131</td>\n",
       "      <td>807.817370</td>\n",
       "      <td>1583.644987</td>\n",
       "      <td>1474.245414</td>\n",
       "    </tr>\n",
       "    <tr>\n",
       "      <th>7.65</th>\n",
       "      <td>607.187866</td>\n",
       "      <td>160.947901</td>\n",
       "      <td>508.043463</td>\n",
       "      <td>1218.349088</td>\n",
       "    </tr>\n",
       "    <tr>\n",
       "      <th>7.75</th>\n",
       "      <td>273.191025</td>\n",
       "      <td>463.460245</td>\n",
       "      <td>249.335630</td>\n",
       "      <td>795.499316</td>\n",
       "    </tr>\n",
       "    <tr>\n",
       "      <th>7.85</th>\n",
       "      <td>155.584080</td>\n",
       "      <td>133.241407</td>\n",
       "      <td>275.063423</td>\n",
       "      <td>407.901933</td>\n",
       "    </tr>\n",
       "    <tr>\n",
       "      <th>7.95</th>\n",
       "      <td>86.504974</td>\n",
       "      <td>25.535008</td>\n",
       "      <td>173.763981</td>\n",
       "      <td>341.393780</td>\n",
       "    </tr>\n",
       "  </tbody>\n",
       "</table>\n",
       "</div>"
      ],
      "text/plain": [
       "              PPlus     He4Nucleus     O16Nucleus    Fe56Nucleus\n",
       "6.15  505800.188523  286093.474624  291406.256091  160754.617743\n",
       "6.25  475680.618000  457063.465367  153948.468698  395739.107098\n",
       "6.35  297422.354700  318714.745935  126266.375939  312373.511149\n",
       "6.45  155283.369237  212043.444865   95999.801375  194873.141864\n",
       "6.55  137324.676815  107643.410405   71040.931657  129747.765912\n",
       "6.65   92373.744859   78729.187718   50459.273078   59318.145314\n",
       "6.75   26952.400513   46162.929302   40387.216624   64034.704160\n",
       "6.85   37795.622584   31043.582643   22915.218154   25131.671860\n",
       "6.95   16734.900431   16604.765134   14249.891718   30714.496845\n",
       "7.05    6813.859392    4913.609408    9444.841557   12976.600924\n",
       "7.15    7381.021435    3077.419186    5715.915872   11405.492359\n",
       "7.25    4094.642972     262.934843    4997.042079    5185.597726\n",
       "7.35    2633.350289     658.967529    5348.452136    2532.794857\n",
       "7.45    1122.339648    1100.997250    2160.971332    2016.524249\n",
       "7.55     462.024131     807.817370    1583.644987    1474.245414\n",
       "7.65     607.187866     160.947901     508.043463    1218.349088\n",
       "7.75     273.191025     463.460245     249.335630     795.499316\n",
       "7.85     155.584080     133.241407     275.063423     407.901933\n",
       "7.95      86.504974      25.535008     173.763981     341.393780"
      ]
     },
     "execution_count": 131,
     "metadata": {},
     "output_type": "execute_result"
    }
   ],
   "source": [
    "counts_observed = pd.DataFrame(0, index=energybins.log_energy_midpoints, columns=comp_list)\n",
    "weights = pd.DataFrame(0, index=energybins.log_energy_midpoints, columns=comp_list)\n",
    "for idx_log_energy, composition in itertools.product(range(len(energybins.log_energy_midpoints)),\n",
    "                                                     comp_list):\n",
    "    \n",
    "    log_energy = energybins.log_energy_midpoints[idx_log_energy]\n",
    "    \n",
    "    # Construct composition mask\n",
    "    comp_mask = df_sim_test['comp_group_{}'.format(num_groups)] == composition\n",
    "    # Construct mask for energy bin\n",
    "    energy_bins = np.digitize(df_sim_test['MC_log_energy'], bins=energybins.log_energy_bins) - 1\n",
    "    energy_mask = energy_bins == idx_log_energy\n",
    "    # Filter out events that don't pass composition + energy  mask\n",
    "    df_sim_bin = df_sim_test.loc[comp_mask & energy_mask, :]\n",
    "    \n",
    "    # Reweight simulation events to get desired number of events\n",
    "    weight = counts_true.loc[log_energy, composition] / df_sim_bin.shape[0]\n",
    "    weights.loc[log_energy, composition] = weight\n",
    "    \n",
    "    # Get predicted composition \n",
    "    pred_target = pipeline.predict(df_sim_bin[feature_list])\n",
    "    pred_comp = np.array(comp.decode_composition_groups(pred_target, num_groups=num_groups))\n",
    "    assert len(pred_comp) == df_sim_bin.shape[0]\n",
    "    for p_comp in np.unique(pred_comp):\n",
    "        pred_comp_mask = pred_comp == p_comp\n",
    "        comp_counts, _ = np.histogram(df_sim_bin.loc[pred_comp_mask, 'reco_log_energy'],\n",
    "                                      bins=energybins.log_energy_bins)\n",
    "        comp_counts = weight * comp_counts\n",
    "        counts_observed[p_comp] += comp_counts\n",
    "\n",
    "counts_observed"
   ]
  },
  {
   "cell_type": "code",
   "execution_count": 132,
   "metadata": {},
   "outputs": [
    {
     "data": {
      "image/png": "[encoded data removed]",
      "text/plain": [
       "<matplotlib.figure.Figure at 0x7ff5fc070d90>"
      ]
     },
     "metadata": {},
     "output_type": "display_data"
    }
   ],
   "source": [
    "fig, ax = plt.subplots()\n",
    "for composition in comp_list:\n",
    "    weights[composition].plot(ls=':', label=composition,\n",
    "                              color=color_dict[composition], ax=ax)\n",
    "ax.set_xlabel('$\\mathrm{\\log_{10}(E/GeV)}$')\n",
    "ax.set_ylabel('Weights')\n",
    "# ax.set_yscale(\"log\", nonposy='clip')\n",
    "ax.grid(lw=1)\n",
    "ax.legend()\n",
    "weights_outfile = os.path.join(\n",
    "                        figures_dir, \n",
    "                        'weights.png'.format(num_groups))\n",
    "comp.check_output_dir(weights_outfile)\n",
    "plt.savefig(weights_outfile)\n",
    "plt.show()"
   ]
  },
  {
   "cell_type": "markdown",
   "metadata": {},
   "source": [
    "Format observed counts and detection efficiencies for use with PyUnfold"
   ]
  },
  {
   "cell_type": "code",
   "execution_count": 133,
   "metadata": {
    "collapsed": true
   },
   "outputs": [],
   "source": [
    "counts_pyunfold = []\n",
    "for idx, row in counts_observed.iterrows():\n",
    "    for composition in comp_list:\n",
    "        counts_pyunfold.append(row[composition])\n",
    "        \n",
    "efficiencies = []\n",
    "efficiencies_err = []     \n",
    "for idx, row in df_eff.iterrows():\n",
    "    for composition in comp_list:\n",
    "        efficiencies.append(row['eff_median_{}'.format(composition)])\n",
    "        efficiencies_err.append(row['eff_err_low_{}'.format(composition)])"
   ]
  },
  {
   "cell_type": "code",
   "execution_count": 134,
   "metadata": {
    "collapsed": true
   },
   "outputs": [],
   "source": [
    "formatted_df = pd.DataFrame()\n",
    "formatted_df['counts'] = counts_pyunfold\n",
    "formatted_df['efficiencies'] = efficiencies\n",
    "formatted_df['efficiencies_err'] = efficiencies_err"
   ]
  },
  {
   "cell_type": "code",
   "execution_count": 135,
   "metadata": {},
   "outputs": [
    {
     "data": {
      "text/html": [
       "<div>\n",
       "<style>\n",
       "    .dataframe thead tr:only-child th {\n",
       "        text-align: right;\n",
       "    }\n",
       "\n",
       "    .dataframe thead th {\n",
       "        text-align: left;\n",
       "    }\n",
       "\n",
       "    .dataframe tbody tr th {\n",
       "        vertical-align: top;\n",
       "    }\n",
       "</style>\n",
       "<table border=\"1\" class=\"dataframe\">\n",
       "  <thead>\n",
       "    <tr style=\"text-align: right;\">\n",
       "      <th></th>\n",
       "      <th>counts</th>\n",
       "      <th>efficiencies</th>\n",
       "      <th>efficiencies_err</th>\n",
       "    </tr>\n",
       "  </thead>\n",
       "  <tbody>\n",
       "    <tr>\n",
       "      <th>0</th>\n",
       "      <td>505800.188523</td>\n",
       "      <td>0.006817</td>\n",
       "      <td>0.000106</td>\n",
       "    </tr>\n",
       "    <tr>\n",
       "      <th>1</th>\n",
       "      <td>286093.474624</td>\n",
       "      <td>0.007282</td>\n",
       "      <td>0.000117</td>\n",
       "    </tr>\n",
       "    <tr>\n",
       "      <th>2</th>\n",
       "      <td>291406.256091</td>\n",
       "      <td>0.006521</td>\n",
       "      <td>0.000114</td>\n",
       "    </tr>\n",
       "    <tr>\n",
       "      <th>3</th>\n",
       "      <td>160754.617743</td>\n",
       "      <td>0.006122</td>\n",
       "      <td>0.000109</td>\n",
       "    </tr>\n",
       "    <tr>\n",
       "      <th>4</th>\n",
       "      <td>475680.618000</td>\n",
       "      <td>0.007648</td>\n",
       "      <td>0.000097</td>\n",
       "    </tr>\n",
       "  </tbody>\n",
       "</table>\n",
       "</div>"
      ],
      "text/plain": [
       "          counts  efficiencies  efficiencies_err\n",
       "0  505800.188523      0.006817          0.000106\n",
       "1  286093.474624      0.007282          0.000117\n",
       "2  291406.256091      0.006521          0.000114\n",
       "3  160754.617743      0.006122          0.000109\n",
       "4  475680.618000      0.007648          0.000097"
      ]
     },
     "execution_count": 135,
     "metadata": {},
     "output_type": "execute_result"
    }
   ],
   "source": [
    "formatted_df.head()"
   ]
  },
  {
   "cell_type": "code",
   "execution_count": 136,
   "metadata": {
    "collapsed": true
   },
   "outputs": [],
   "source": [
    "formatted_file = os.path.join(os.getcwd(),'test.hdf')\n",
    "formatted_df.to_hdf(formatted_file, 'dataframe', mode='w')"
   ]
  },
  {
   "cell_type": "code",
   "execution_count": 137,
   "metadata": {
    "scrolled": false
   },
   "outputs": [
    {
     "name": "stdout",
     "output_type": "stream",
     "text": [
      "Saving output file /home/jbourbeau/cr-composition/unfolding/test.root\n"
     ]
    }
   ],
   "source": [
    "root_file = os.path.join(os.getcwd(),'test.root')\n",
    "save_pyunfold_root_file(config=config, num_groups=num_groups,\n",
    "                        outfile=root_file, formatted_df_file=formatted_file)"
   ]
  },
  {
   "cell_type": "code",
   "execution_count": null,
   "metadata": {
    "collapsed": true
   },
   "outputs": [],
   "source": []
  },
  {
   "cell_type": "code",
   "execution_count": null,
   "metadata": {
    "collapsed": true
   },
   "outputs": [],
   "source": []
  },
  {
   "cell_type": "code",
   "execution_count": null,
   "metadata": {
    "collapsed": true
   },
   "outputs": [],
   "source": []
  },
  {
   "cell_type": "code",
   "execution_count": 142,
   "metadata": {
    "collapsed": true
   },
   "outputs": [],
   "source": [
    "df_unfolding_iter = unfold(config_name=os.path.join(config, 'config.cfg'),\n",
    "                           priors='Jeffreys',\n",
    "                           input_file=root_file,\n",
    "                           ts_stopping=0.005)"
   ]
  },
  {
   "cell_type": "code",
   "execution_count": 143,
   "metadata": {},
   "outputs": [
    {
     "data": {
      "text/html": [
       "<div>\n",
       "<style>\n",
       "    .dataframe thead tr:only-child th {\n",
       "        text-align: right;\n",
       "    }\n",
       "\n",
       "    .dataframe thead th {\n",
       "        text-align: left;\n",
       "    }\n",
       "\n",
       "    .dataframe tbody tr th {\n",
       "        vertical-align: top;\n",
       "    }\n",
       "</style>\n",
       "<table border=\"1\" class=\"dataframe\">\n",
       "  <thead>\n",
       "    <tr style=\"text-align: right;\">\n",
       "      <th></th>\n",
       "      <th>sys_err</th>\n",
       "      <th>stat_err</th>\n",
       "      <th>n_c</th>\n",
       "    </tr>\n",
       "  </thead>\n",
       "  <tbody>\n",
       "    <tr>\n",
       "      <th>0</th>\n",
       "      <td>[25237947.8185, 8226089.05725, 6117172.16581, ...</td>\n",
       "      <td>[119443.282142, 41548.0599441, 31064.8158615, ...</td>\n",
       "      <td>[203333373.636, 74487408.8024, 49379512.2914, ...</td>\n",
       "    </tr>\n",
       "    <tr>\n",
       "      <th>1</th>\n",
       "      <td>[28945807.8221, 9976206.34815, 8723512.97361, ...</td>\n",
       "      <td>[125994.834451, 45209.2395355, 42450.5959767, ...</td>\n",
       "      <td>[174174547.49, 68418452.9453, 49020437.0754, 3...</td>\n",
       "    </tr>\n",
       "    <tr>\n",
       "      <th>2</th>\n",
       "      <td>[31130793.1694, 11563804.6499, 11149691.0965, ...</td>\n",
       "      <td>[139637.402447, 50413.4292469, 53733.2619797, ...</td>\n",
       "      <td>[158040819.716, 65521916.0251, 50049948.2443, ...</td>\n",
       "    </tr>\n",
       "    <tr>\n",
       "      <th>3</th>\n",
       "      <td>[32608540.3459, 13054221.8802, 13453701.077, 9...</td>\n",
       "      <td>[149928.193675, 55368.2386274, 64784.6353637, ...</td>\n",
       "      <td>[147600472.395, 63895782.8561, 51554776.1819, ...</td>\n",
       "    </tr>\n",
       "    <tr>\n",
       "      <th>4</th>\n",
       "      <td>[33705046.7104, 14475031.2471, 15670093.5659, ...</td>\n",
       "      <td>[158936.694914, 60496.0299013, 75665.0900791, ...</td>\n",
       "      <td>[140161459.633, 62871957.6632, 53227647.1049, ...</td>\n",
       "    </tr>\n",
       "    <tr>\n",
       "      <th>5</th>\n",
       "      <td>[34579927.4202, 15844995.1051, 17822160.0985, ...</td>\n",
       "      <td>[166857.830369, 65761.0114363, 86358.9182144, ...</td>\n",
       "      <td>[134526756.864, 62175013.5802, 54957113.3542, ...</td>\n",
       "    </tr>\n",
       "    <tr>\n",
       "      <th>6</th>\n",
       "      <td>[35319370.6594, 17176815.6666, 19925572.6062, ...</td>\n",
       "      <td>[173937.604144, 71127.5253247, 96876.0776903, ...</td>\n",
       "      <td>[130072319.288, 61671698.0679, 56698600.6932, ...</td>\n",
       "    </tr>\n",
       "    <tr>\n",
       "      <th>7</th>\n",
       "      <td>[35972734.8307, 18478813.8254, 21990539.5, 148...</td>\n",
       "      <td>[180350.132186, 76563.6359833, 107241.610776, ...</td>\n",
       "      <td>[126435483.738, 61289585.776, 58433341.5558, 2...</td>\n",
       "    </tr>\n",
       "    <tr>\n",
       "      <th>8</th>\n",
       "      <td>[36569448.8148, 19756307.5011, 24023372.096, 1...</td>\n",
       "      <td>[186225.067684, 82043.1939006, 117484.867843, ...</td>\n",
       "      <td>[123389153.24, 60985969.5837, 60153496.6327, 2...</td>\n",
       "    </tr>\n",
       "  </tbody>\n",
       "</table>\n",
       "</div>"
      ],
      "text/plain": [
       "                                             sys_err  \\\n",
       "0  [25237947.8185, 8226089.05725, 6117172.16581, ...   \n",
       "1  [28945807.8221, 9976206.34815, 8723512.97361, ...   \n",
       "2  [31130793.1694, 11563804.6499, 11149691.0965, ...   \n",
       "3  [32608540.3459, 13054221.8802, 13453701.077, 9...   \n",
       "4  [33705046.7104, 14475031.2471, 15670093.5659, ...   \n",
       "5  [34579927.4202, 15844995.1051, 17822160.0985, ...   \n",
       "6  [35319370.6594, 17176815.6666, 19925572.6062, ...   \n",
       "7  [35972734.8307, 18478813.8254, 21990539.5, 148...   \n",
       "8  [36569448.8148, 19756307.5011, 24023372.096, 1...   \n",
       "\n",
       "                                            stat_err  \\\n",
       "0  [119443.282142, 41548.0599441, 31064.8158615, ...   \n",
       "1  [125994.834451, 45209.2395355, 42450.5959767, ...   \n",
       "2  [139637.402447, 50413.4292469, 53733.2619797, ...   \n",
       "3  [149928.193675, 55368.2386274, 64784.6353637, ...   \n",
       "4  [158936.694914, 60496.0299013, 75665.0900791, ...   \n",
       "5  [166857.830369, 65761.0114363, 86358.9182144, ...   \n",
       "6  [173937.604144, 71127.5253247, 96876.0776903, ...   \n",
       "7  [180350.132186, 76563.6359833, 107241.610776, ...   \n",
       "8  [186225.067684, 82043.1939006, 117484.867843, ...   \n",
       "\n",
       "                                                 n_c  \n",
       "0  [203333373.636, 74487408.8024, 49379512.2914, ...  \n",
       "1  [174174547.49, 68418452.9453, 49020437.0754, 3...  \n",
       "2  [158040819.716, 65521916.0251, 50049948.2443, ...  \n",
       "3  [147600472.395, 63895782.8561, 51554776.1819, ...  \n",
       "4  [140161459.633, 62871957.6632, 53227647.1049, ...  \n",
       "5  [134526756.864, 62175013.5802, 54957113.3542, ...  \n",
       "6  [130072319.288, 61671698.0679, 56698600.6932, ...  \n",
       "7  [126435483.738, 61289585.776, 58433341.5558, 2...  \n",
       "8  [123389153.24, 60985969.5837, 60153496.6327, 2...  "
      ]
     },
     "execution_count": 143,
     "metadata": {},
     "output_type": "execute_result"
    }
   ],
   "source": [
    "df_unfolding_iter"
   ]
  },
  {
   "cell_type": "code",
   "execution_count": 144,
   "metadata": {
    "collapsed": true
   },
   "outputs": [],
   "source": [
    "def unfolded_counts_dist(unfolding_df, iteration=-1, num_groups=4):\n",
    "    \"\"\"\n",
    "    Convert unfolded distributions DataFrame from PyUnfold counts arrays \n",
    "    to a dictionary containing a counts array for each composition. \n",
    "    \n",
    "    Parameters\n",
    "    ----------\n",
    "    unfolding_df : pandas.DataFrame\n",
    "        Unfolding DataFrame returned from PyUnfold. \n",
    "    iteration : int, optional\n",
    "        Specific unfolding iteration to retrieve unfolded counts \n",
    "        (default is -1, the last iteration). \n",
    "    num_groups : int, optional\n",
    "        Number of composition groups (default is 4). \n",
    "        \n",
    "    Returns\n",
    "    -------\n",
    "    counts : dict\n",
    "        Dictionary with composition-counts key-value pairs.\n",
    "    counts_sys_err : dict\n",
    "        Dictionary with composition-systematic error key-value pairs.\n",
    "    counts_stat_err : dict\n",
    "        Dictionary with composition-statistical error key-value pairs.\n",
    "    \"\"\"\n",
    "    comp_list = comp.get_comp_list(num_groups=num_groups)\n",
    "    \n",
    "    df_iter = unfolding_df.iloc[iteration]\n",
    "    \n",
    "    counts, counts_sys_err, counts_stat_err = {}, {}, {}\n",
    "    for idx, composition in enumerate(comp_list):\n",
    "        counts[composition] = df_iter['n_c'][idx::num_groups]\n",
    "        counts_sys_err[composition] = df_iter['sys_err'][idx::num_groups]\n",
    "        counts_stat_err[composition] = df_iter['stat_err'][idx::num_groups]\n",
    "        \n",
    "    counts['total'] = np.sum([counts[composition] for composition in comp_list], axis=0)\n",
    "    counts_sys_err['total'] = np.sqrt(np.sum([counts_sys_err[composition]**2 for composition in comp_list], axis=0))\n",
    "    counts_stat_err['total'] = np.sqrt(np.sum([counts_stat_err[composition]**2 for composition in comp_list], axis=0))\n",
    "    \n",
    "    return counts, counts_sys_err, counts_stat_err"
   ]
  },
  {
   "cell_type": "code",
   "execution_count": 145,
   "metadata": {},
   "outputs": [
    {
     "name": "stdout",
     "output_type": "stream",
     "text": [
      "Jeffreys: 9 iterations\n"
     ]
    },
    {
     "data": {
      "image/png": "[encoded data removed]",
      "text/plain": [
       "<matplotlib.figure.Figure at 0x7ff5f4549510>"
      ]
     },
     "metadata": {},
     "output_type": "display_data"
    }
   ],
   "source": [
    "for model_name in ['Jeffreys']:\n",
    "    \n",
    "    # Get plotting axis\n",
    "    fig = plt.figure(figsize=(12, 5))\n",
    "    gs = gridspec.GridSpec(nrows=2, ncols=len(comp_list)+1,\n",
    "                           hspace=0.075)\n",
    "    axs_flux, axs_ratio = {}, {}\n",
    "    for idx, composition in enumerate(comp_list + ['total']):\n",
    "        if idx == 0:\n",
    "            axs_flux[composition] = fig.add_subplot(gs[0, idx])\n",
    "        else:\n",
    "            axs_flux[composition] = fig.add_subplot(gs[0, idx], sharey=axs_flux[comp_list[0]])\n",
    "        axs_ratio[composition] = fig.add_subplot(gs[1, idx], sharex=axs_flux[composition])\n",
    "        \n",
    "\n",
    "    print('{}: {} iterations'.format(model_name, df_unfolding_iter.shape[0]))\n",
    "\n",
    "    counts, counts_sys_err, counts_stat_err = unfolded_counts_dist(\n",
    "                                                    df_unfolding_iter,\n",
    "                                                    num_groups=num_groups)\n",
    "    for idx, composition in enumerate(comp_list + ['total']):\n",
    "        \n",
    "        ax_flux = axs_flux[composition]\n",
    "        ax_ratio = axs_ratio[composition]\n",
    "        \n",
    "        # Flux plot\n",
    "        flux, flux_err_sys = comp.analysis.get_flux(counts[composition], counts_sys_err[composition],\n",
    "                                                    energybins=energybins.energy_bins,\n",
    "                                                    eff_area=thrown_area,\n",
    "                                                    livetime=livetime, livetime_err=livetime_err, \n",
    "                                                    solid_angle=solid_angle,\n",
    "                                                    scalingindex=2.7)\n",
    "        flux, flux_err_stat = comp.analysis.get_flux(counts[composition], counts_stat_err[composition],\n",
    "                                                     energybins=energybins.energy_bins,\n",
    "                                                     eff_area=thrown_area,\n",
    "                                                     livetime=livetime, livetime_err=livetime_err, \n",
    "                                                     solid_angle=solid_angle,\n",
    "                                                     scalingindex=2.7)\n",
    "        \n",
    "        plotting.plot_steps(energybins.log_energy_bins, flux, yerr=flux_err_sys,\n",
    "                            ax=ax_flux, alpha=0.4, fillalpha=0.4,  \n",
    "                            color=color_dict[composition])\n",
    "\n",
    "        ax_flux.errorbar(energybins.log_energy_midpoints, flux, yerr=flux_err_stat,  \n",
    "                         color=color_dict[composition], ls='None', marker='.', \n",
    "                         label='Unfolded flux', alpha=0.8)\n",
    "\n",
    "        # True flux\n",
    "        true_counts = counts_true[composition].values\n",
    "        true_counts_err = np.sqrt(true_counts)\n",
    "\n",
    "        true_flux, true_flux_err = comp.analysis.get_flux(true_counts, true_counts_err,\n",
    "                                                energybins=energybins.energy_bins,\n",
    "                                                eff_area=eff_area[composition],\n",
    "                                                eff_area_err=eff_area_err[composition],\n",
    "                                                livetime=livetime, livetime_err=livetime_err, \n",
    "                                                solid_angle=solid_angle,\n",
    "                                                scalingindex=2.7)\n",
    "        \n",
    "        \n",
    "        ax_flux.errorbar(energybins.log_energy_midpoints, true_flux, yerr=true_flux_err,  \n",
    "                         color=color_dict[composition], ls='None', marker='*', \n",
    "                         label='True flux', alpha=0.8)\n",
    "\n",
    "        ax_flux.set_yscale(\"log\", nonposy='clip')\n",
    "        ax_flux.set_xlim(6.4, 7.8)\n",
    "        ax_flux.grid(linestyle='dotted', which=\"both\", lw=1)\n",
    "        ax_flux.legend(fontsize=8)\n",
    "        ax_flux.set_title(composition, fontsize=10)\n",
    "        if idx == 0:\n",
    "            ax_flux.set_ylabel('$\\mathrm{ E^{2.7} \\ J(E) \\ [GeV^{1.7} m^{-2} sr^{-1} s^{-1}]}$',\n",
    "                               fontsize=10)\n",
    "        else:\n",
    "            plt.setp(ax_flux.get_yticklabels(), visible=False)\n",
    "        plt.setp(ax_flux.get_xticklabels(), visible=False)\n",
    "        ax_flux.tick_params(axis='both', which='major', labelsize=10)\n",
    "        \n",
    "        \n",
    "        # Ratio plot\n",
    "        diff = flux - true_flux\n",
    "        # Error bar calculation\n",
    "        diff_err_sys = flux_err_sys\n",
    "        diff_err_stat = np.sqrt(flux_err_stat**2 + true_flux_err**2)\n",
    "        \n",
    "        frac_diff, frac_diff_sys = comp.ratio_error(diff, diff_err_sys, true_flux, np.zeros_like(true_flux))\n",
    "        frac_diff, frac_diff_stat = comp.ratio_error(diff, diff_err_stat, true_flux, true_flux_err)\n",
    "        \n",
    "        plotting.plot_steps(energybins.log_energy_bins, frac_diff, yerr=frac_diff_sys,\n",
    "                            ax=ax_ratio, alpha=0.4, fillalpha=0.4,  \n",
    "                            color=color_dict[composition])\n",
    "        ax_ratio.errorbar(energybins.log_energy_midpoints, frac_diff, yerr=frac_diff_stat,  \n",
    "                          color=color_dict[composition], ls=':', marker='.', \n",
    "                          label=composition, alpha=0.8)\n",
    "        ax_ratio.axhline(0, ls='-.', lw=1, marker='None', color='k')\n",
    "\n",
    "        ax_ratio.grid(linestyle='dotted', which=\"both\", lw=1)\n",
    "        extraticks = np.arange(-1, 1.5, 0.25)\n",
    "        ax_ratio.set_yticks(extraticks)\n",
    "        ax_ratio.set_ylim(-1, 1)\n",
    "        if idx == 0:\n",
    "            ax_ratio.set_ylabel('$\\mathrm{(J_{unfolded} - J_{true}) / J_{true}}$',\n",
    "                                fontsize=10)\n",
    "        else:\n",
    "            plt.setp(ax_ratio.get_yticklabels(), visible=False)\n",
    "        ax_ratio.set_xlabel('$\\mathrm{\\log_{10}(E/GeV)}$', fontsize=10)\n",
    "        ax_ratio.tick_params(axis='both', which='major', labelsize=10)\n",
    "        \n",
    "    \n",
    "    plt.tight_layout()\n",
    "    flux_outfile = os.path.join(figures_dir, \n",
    "                                'flux_diff_grid_{}-groups_{}-prior.png'.format(num_groups, model_name))\n",
    "    comp.check_output_dir(flux_outfile)\n",
    "    plt.savefig(flux_outfile)\n",
    "    plt.show()"
   ]
  },
  {
   "cell_type": "code",
   "execution_count": null,
   "metadata": {
    "collapsed": true
   },
   "outputs": [],
   "source": []
  },
  {
   "cell_type": "code",
   "execution_count": null,
   "metadata": {
    "collapsed": true
   },
   "outputs": [],
   "source": []
  },
  {
   "cell_type": "code",
   "execution_count": null,
   "metadata": {
    "collapsed": true
   },
   "outputs": [],
   "source": []
  },
  {
   "cell_type": "code",
   "execution_count": null,
   "metadata": {
    "collapsed": true
   },
   "outputs": [],
   "source": []
  },
  {
   "cell_type": "code",
   "execution_count": 98,
   "metadata": {},
   "outputs": [
    {
     "name": "stdout",
     "output_type": "stream",
     "text": [
      "Jeffreys: 3 iterations\n"
     ]
    },
    {
     "data": {
      "image/png": "[encoded data removed]",
      "text/plain": [
       "<matplotlib.figure.Figure at 0x7ff5fe6c1f50>"
      ]
     },
     "metadata": {},
     "output_type": "display_data"
    }
   ],
   "source": [
    "for model_name in ['Jeffreys']:\n",
    "    fig, axarr = plt.subplots(2, 2, sharex=True, sharey=True)\n",
    "    print('{}: {} iterations'.format(model_name, df_unfolding_iter.shape[0]))\n",
    "\n",
    "    counts, counts_sys_err, counts_stat_err = unfolded_counts_dist(\n",
    "                                                df_unfolding_iter,\n",
    "                                                num_groups=num_groups)\n",
    "\n",
    "\n",
    "    flux_total, flux_total_err_sys = comp.analysis.get_flux(counts['total'], counts_sys_err['total'],\n",
    "                                                     energybins=energybins.energy_bins,\n",
    "                                                     eff_area=thrown_area,\n",
    "                                                     livetime=livetime, livetime_err=livetime_err, \n",
    "                                                     solid_angle=solid_angle)\n",
    "    flux_total, flux_total_err_stat = comp.analysis.get_flux(counts['total'], counts_stat_err['total'],\n",
    "                                                 energybins=energybins.energy_bins,\n",
    "                                                 eff_area=thrown_area,\n",
    "                                                 livetime=livetime, livetime_err=livetime_err, \n",
    "                                                 solid_angle=solid_angle)\n",
    "\n",
    "\n",
    "    for composition, ax in zip(comp_list, axarr.flatten()):\n",
    "\n",
    "        flux, flux_err_sys = comp.analysis.get_flux(\n",
    "                                        counts[composition], counts_sys_err[composition],\n",
    "                                        energybins=energybins.energy_bins,\n",
    "                                        eff_area=thrown_area,\n",
    "                                        livetime=livetime,\n",
    "                                        livetime_err=livetime_err, \n",
    "                                        solid_angle=solid_angle)\n",
    "        flux, flux_err_stat = comp.analysis.get_flux(\n",
    "                                        counts[composition], counts_stat_err[composition],\n",
    "                                        energybins=energybins.energy_bins,\n",
    "                                        eff_area=thrown_area,\n",
    "                                        livetime=livetime,\n",
    "                                        livetime_err=livetime_err, \n",
    "                                        solid_angle=solid_angle)\n",
    "\n",
    "        plotting.plot_steps(energybins.log_energy_bins, flux, yerr=flux_err_sys,\n",
    "                            ax=ax, alpha=0.4, fillalpha=0.4,  \n",
    "                            color=color_dict[composition])\n",
    "\n",
    "        ax.errorbar(energybins.log_energy_midpoints, flux, yerr=flux_err_stat,  \n",
    "                    color=color_dict[composition], ls='None', marker='.', \n",
    "                    label=composition + ' unfolded', alpha=0.8)\n",
    "\n",
    "        # True flux\n",
    "        true_counts = counts_true[composition].values\n",
    "        true_counts_err = np.sqrt(true_counts)\n",
    "\n",
    "        true_flux, true_flux_err = comp.analysis.get_flux(\n",
    "                                                true_counts, true_counts_err,\n",
    "                                                energybins=energybins.energy_bins,\n",
    "                                                eff_area=eff_area[composition],\n",
    "                                                eff_area_err=eff_area_err[composition],\n",
    "                                                livetime=livetime, livetime_err=livetime_err, \n",
    "                                                solid_angle=solid_angle)\n",
    "\n",
    "        ax.errorbar(energybins.log_energy_midpoints, true_flux, yerr=true_flux_err,  \n",
    "                    color=color_dict[composition], ls='None', marker='^', \n",
    "                    label=composition + ' true', alpha=0.8)\n",
    "\n",
    "        ax.set_yscale(\"log\", nonposy='clip')\n",
    "        ax.set_xlim(6.4, 7.8)\n",
    "#         ax.set_ylim([1e0, 7e3])\n",
    "\n",
    "        ax.grid(linestyle='dotted', which=\"both\", lw=1)\n",
    "        ax.legend(loc='upper right', ncol=1, fontsize=10)\n",
    "\n",
    "    fig.text(0.5, -0.01, '$\\mathrm{\\log_{10}(E/GeV)}$', ha='center')\n",
    "    fig.text(-0.01, 0.5, '$\\mathrm{ E^{2.7} \\ J(E) \\ [GeV^{1.7} m^{-2} sr^{-1} s^{-1}]}$',\n",
    "             va='center', rotation='vertical')\n",
    "\n",
    "    flux_outfile = os.path.join(figures_dir, \n",
    "                                'flux_grid_{}-groups_{}-prior.png'.format(num_groups, model_name))\n",
    "    comp.check_output_dir(flux_outfile)\n",
    "    plt.savefig(flux_outfile)\n",
    "    plt.show()"
   ]
  },
  {
   "cell_type": "code",
   "execution_count": 33,
   "metadata": {},
   "outputs": [
    {
     "name": "stdout",
     "output_type": "stream",
     "text": [
      "Jeffreys: 3 iterations\n"
     ]
    },
    {
     "data": {
      "image/png": "[encoded data removed]",
      "text/plain": [
       "<matplotlib.figure.Figure at 0x7ff5fc373e10>"
      ]
     },
     "metadata": {},
     "output_type": "display_data"
    }
   ],
   "source": [
    "for model_name in ['Jeffreys']:\n",
    "    fig, axarr = plt.subplots(2, 2, sharex=True, sharey=True)\n",
    "    print('{}: {} iterations'.format(model_name, df_unfolding_iter.shape[0]))\n",
    "\n",
    "    counts, counts_sys_err, counts_stat_err = unfolded_counts_dist(\n",
    "                                                df_unfolding_iter,\n",
    "                                                num_groups=num_groups)\n",
    "    for composition, ax in zip(comp_list, axarr.flatten()):\n",
    "\n",
    "        flux, flux_err_sys = comp.analysis.get_flux(counts[composition], counts_sys_err[composition],\n",
    "                                                     energybins=energybins.energy_bins,\n",
    "                                                     eff_area=thrown_area,\n",
    "                                                     livetime=livetime, livetime_err=livetime_err, \n",
    "                                                     solid_angle=solid_angle,\n",
    "                                                     scalingindex=1)\n",
    "        flux, flux_err_stat = comp.analysis.get_flux(counts[composition], counts_stat_err[composition],\n",
    "                                                     energybins=energybins.energy_bins,\n",
    "                                                     eff_area=thrown_area,\n",
    "                                                     livetime=livetime, livetime_err=livetime_err, \n",
    "                                                     solid_angle=solid_angle,\n",
    "                                                     scalingindex=1)\n",
    "\n",
    "        # True flux\n",
    "        true_counts = counts_true[composition].values\n",
    "        true_counts_err = np.sqrt(true_counts)\n",
    "\n",
    "        true_flux, true_flux_err = comp.analysis.get_flux(true_counts, true_counts_err,\n",
    "                                                energybins=energybins.energy_bins,\n",
    "                                                eff_area=eff_area[composition],\n",
    "                                                eff_area_err=eff_area_err[composition],\n",
    "                                                livetime=livetime, livetime_err=livetime_err, \n",
    "                                                solid_angle=solid_angle,\n",
    "                                                scalingindex=1)\n",
    "        \n",
    "        diff = flux - true_flux\n",
    "        # Error bar calculation\n",
    "        diff_err_sys = flux_err_sys\n",
    "        diff_err_stat = np.sqrt(flux_err_stat**2 + true_flux_err**2)\n",
    "        \n",
    "        frac_diff, frac_diff_sys = comp.ratio_error(diff, diff_err_sys, true_flux, np.zeros_like(true_flux))\n",
    "        frac_diff, frac_diff_stat = comp.ratio_error(diff, diff_err_stat, true_flux, true_flux_err)\n",
    "        \n",
    "        plotting.plot_steps(energybins.log_energy_bins, frac_diff, yerr=frac_diff_sys,\n",
    "                            ax=ax, alpha=0.4, fillalpha=0.4,  \n",
    "                            color=color_dict[composition])\n",
    "        ax.errorbar(energybins.log_energy_midpoints, frac_diff, yerr=frac_diff_stat,  \n",
    "                    color=color_dict[composition], ls=':', marker='^', \n",
    "                    label=composition, alpha=0.8)\n",
    "        ax.axhline(0, ls='-.', lw=1, marker='None', color='k')\n",
    "\n",
    "        ax.grid(linestyle='dotted', which=\"both\", lw=1)\n",
    "        ax.legend(loc='lower left', ncol=1, fontsize=10)\n",
    "        extraticks = np.arange(-1, 1.5, 0.5)\n",
    "        ax.set_yticks(extraticks)\n",
    "    \n",
    "    ax.set_xlim(6.4, 7.8)\n",
    "    ax.set_ylim(-1, 1)\n",
    "    fig.text(0.5, -0.01, '$\\mathrm{\\log_{10}(E/GeV)}$', ha='center',\n",
    "             fontsize=14)\n",
    "    fig.text(-0.02, 0.5, '(Unfolded flux - true flux) / true flux',\n",
    "             va='center', rotation='vertical', fontsize=14)\n",
    "    plt.tight_layout()\n",
    "\n",
    "#     flux_outfile = os.path.join(figures_dir, \n",
    "#                                 'flux_diff_grid_{}-groups_{}-prior.png'.format(num_groups, model_name))\n",
    "#     comp.check_output_dir(flux_outfile)\n",
    "#     plt.savefig(flux_outfile)\n",
    "    plt.show()"
   ]
  },
  {
   "cell_type": "code",
   "execution_count": null,
   "metadata": {
    "collapsed": true
   },
   "outputs": [],
   "source": []
  },
  {
   "cell_type": "code",
   "execution_count": null,
   "metadata": {
    "collapsed": true
   },
   "outputs": [],
   "source": []
  },
  {
   "cell_type": "code",
   "execution_count": null,
   "metadata": {
    "collapsed": true
   },
   "outputs": [],
   "source": []
  },
  {
   "cell_type": "code",
   "execution_count": null,
   "metadata": {
    "collapsed": true
   },
   "outputs": [],
   "source": []
  },
  {
   "cell_type": "code",
   "execution_count": null,
   "metadata": {
    "collapsed": true
   },
   "outputs": [],
   "source": []
  },
  {
   "cell_type": "code",
   "execution_count": 58,
   "metadata": {},
   "outputs": [
    {
     "name": "stderr",
     "output_type": "stream",
     "text": [
      "0% [##########] 100% | ETA: 00:00:00\n",
      "Total time elapsed: 00:01:12\n"
     ]
    }
   ],
   "source": [
    "frac_flux_diff, frac_flux_diff_stat, frac_flux_diff_sys = defaultdict(list), defaultdict(list), defaultdict(list)\n",
    "ts_stopping_list = np.linspace(0.01, 0.001, 10)\n",
    "for ts_stopping in pyprind.prog_bar(ts_stopping_list):\n",
    "    df_unfolding_iter = unfold(config_name=os.path.join(config, 'config.cfg'),\n",
    "                               priors='Jeffreys',\n",
    "                               input_file=root_file,\n",
    "                               ts_stopping=ts_stopping)\n",
    "    \n",
    "    counts, counts_sys_err, counts_stat_err = unfolded_counts_dist(\n",
    "                                                df_unfolding_iter,\n",
    "                                                num_groups=num_groups)\n",
    "\n",
    "    for composition in comp_list:\n",
    "\n",
    "        flux, flux_err_sys = comp.analysis.get_flux(counts[composition], counts_sys_err[composition],\n",
    "                                                     energybins=energybins.energy_bins,\n",
    "                                                     eff_area=thrown_area,\n",
    "                                                     livetime=livetime, livetime_err=livetime_err, \n",
    "                                                     solid_angle=solid_angle,\n",
    "                                                     scalingindex=1)\n",
    "        flux, flux_err_stat = comp.analysis.get_flux(counts[composition], counts_stat_err[composition],\n",
    "                                                     energybins=energybins.energy_bins,\n",
    "                                                     eff_area=thrown_area,\n",
    "                                                     livetime=livetime, livetime_err=livetime_err, \n",
    "                                                     solid_angle=solid_angle,\n",
    "                                                     scalingindex=1)\n",
    "\n",
    "        # True flux\n",
    "        true_counts = counts_true[composition].values\n",
    "        true_counts_err = np.sqrt(true_counts)\n",
    "\n",
    "        true_flux, true_flux_err = comp.analysis.get_flux(true_counts, true_counts_err,\n",
    "                                                energybins=energybins.energy_bins,\n",
    "                                                eff_area=eff_area[composition],\n",
    "                                                eff_area_err=eff_area_err[composition],\n",
    "                                                livetime=livetime, livetime_err=livetime_err, \n",
    "                                                solid_angle=solid_angle,\n",
    "                                                scalingindex=1)\n",
    "\n",
    "        diff = flux - true_flux\n",
    "        # Error bar calculation\n",
    "        diff_err_sys = flux_err_sys\n",
    "        diff_err_stat = np.sqrt(flux_err_stat**2 + true_flux_err**2)\n",
    "\n",
    "        frac_diff, frac_diff_sys = comp.ratio_error(diff, diff_err_sys, true_flux, np.zeros_like(true_flux))\n",
    "        frac_diff, frac_diff_stat = comp.ratio_error(diff, diff_err_stat, true_flux, true_flux_err)\n",
    "        \n",
    "        frac_flux_diff[composition].append(frac_diff)\n",
    "        frac_flux_diff_stat[composition].append(frac_diff_stat)\n",
    "        frac_flux_diff_sys[composition].append(frac_diff_sys)"
   ]
  },
  {
   "cell_type": "code",
   "execution_count": 59,
   "metadata": {
    "scrolled": false
   },
   "outputs": [
    {
     "data": {
      "image/png": "[encoded data removed]",
      "text/plain": [
       "<matplotlib.figure.Figure at 0x7fc72fbc2f10>"
      ]
     },
     "metadata": {},
     "output_type": "display_data"
    }
   ],
   "source": [
    "fig, axarr = plt.subplots(2, 2, sharex=True, sharey=True)\n",
    "\n",
    "color_dict_model = {}\n",
    "color_dict_model['PPlus'] = sns.color_palette('Blues', len(ts_stopping_list)+5).as_hex()[::-1]\n",
    "color_dict_model['O16Nucleus'] = sns.color_palette('Reds', len(ts_stopping_list)+5).as_hex()[::-1]\n",
    "color_dict_model['He4Nucleus'] = sns.color_palette('Purples', len(ts_stopping_list)+5).as_hex()[::-1]\n",
    "color_dict_model['Fe56Nucleus'] = sns.color_palette('Oranges', len(ts_stopping_list)+5).as_hex()[::-1]\n",
    "\n",
    "for composition, ax in zip(comp_list, axarr.flatten()):\n",
    "    for idx, (frac_diff, frac_diff_stat, frac_diff_sys) in enumerate(zip(frac_flux_diff[composition],\n",
    "                                                                         frac_flux_diff_stat[composition],\n",
    "                                                                         frac_flux_diff_sys[composition])):\n",
    "\n",
    "        ax.errorbar(energybins.log_energy_midpoints, frac_diff,\n",
    "                    yerr=frac_diff_stat, color=color_dict_model[composition][idx],\n",
    "                    ls=':', marker='.', \n",
    "                    label=composition if idx == len(ts_stopping_list)//2 else '',\n",
    "                    alpha=0.75)\n",
    "        plotting.plot_steps(energybins.log_energy_bins, frac_diff, yerr=frac_diff_sys,\n",
    "                            ax=ax, alpha=0.4, fillalpha=0.4,  \n",
    "                            color=color_dict_model[composition][idx])\n",
    "        ax.axhline(0, ls='-.', lw=1, marker='None', color='k')\n",
    "\n",
    "        ax.grid(linestyle='dotted', which=\"both\", lw=1)\n",
    "        ax.legend(loc='lower left', ncol=1, fontsize=10)\n",
    "        \n",
    "        extraticks = np.arange(-1, 1.25, 0.25)\n",
    "        ax.set_yticks(extraticks)\n",
    "\n",
    "    ax.set_xlim(6.4, 7.8)\n",
    "    ax.set_ylim(-1, 1)\n",
    "fig.text(0.5, -0.01, '$\\mathrm{\\log_{10}(E/GeV)}$',\n",
    "         ha='center', fontsize=14)\n",
    "fig.text(-0.02, 0.5, '(Unfolded flux - true flux) / true flux',\n",
    "         va='center', rotation='vertical', fontsize=14)\n",
    "plt.tight_layout()\n",
    "\n",
    "flux_compare_outfile = os.path.join(\n",
    "                        figures_dir, \n",
    "                        'flux_compare_grid_{}-groups_Jeffreys-prior.png'.format(num_groups))\n",
    "comp.check_output_dir(flux_compare_outfile)\n",
    "plt.savefig(flux_compare_outfile)\n",
    "plt.show()"
   ]
  },
  {
   "cell_type": "code",
   "execution_count": null,
   "metadata": {
    "collapsed": true
   },
   "outputs": [],
   "source": []
  },
  {
   "cell_type": "code",
   "execution_count": null,
   "metadata": {
    "collapsed": true
   },
   "outputs": [],
   "source": []
  },
  {
   "cell_type": "code",
   "execution_count": null,
   "metadata": {
    "collapsed": true
   },
   "outputs": [],
   "source": []
  },
  {
   "cell_type": "code",
   "execution_count": null,
   "metadata": {
    "collapsed": true
   },
   "outputs": [],
   "source": []
  }
 ],
 "metadata": {
  "kernelspec": {
   "display_name": "Python 2",
   "language": "python",
   "name": "python2"
  },
  "language_info": {
   "codemirror_mode": {
    "name": "ipython",
    "version": 2
   },
   "file_extension": ".py",
   "mimetype": "text/x-python",
   "name": "python",
   "nbconvert_exporter": "python",
   "pygments_lexer": "ipython2",
   "version": "2.7.13"
  }
 },
 "nbformat": 4,
 "nbformat_minor": 2
}
