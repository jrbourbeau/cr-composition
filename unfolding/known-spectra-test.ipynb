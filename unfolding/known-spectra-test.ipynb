{
 "cells": [
  {
   "cell_type": "code",
   "execution_count": 1,
   "metadata": {},
   "outputs": [
    {
     "name": "stderr",
     "output_type": "stream",
     "text": [
      "/home/jbourbeau/.virtualenvs/composition/lib/python2.7/site-packages/sklearn/cross_validation.py:41: DeprecationWarning: This module was deprecated in version 0.18 in favor of the model_selection module into which all the refactored classes and functions are moved. Also note that the interface of the new CV iterators are different from that of this module. This module will be removed in 0.20.\n",
      "  \"This module will be removed in 0.20.\", DeprecationWarning)\n"
     ]
    }
   ],
   "source": [
    "from __future__ import division\n",
    "import os\n",
    "from collections import defaultdict\n",
    "import itertools\n",
    "import subprocess\n",
    "import numpy as np\n",
    "import pandas as pd\n",
    "import seaborn as sns\n",
    "import matplotlib.pyplot as plt\n",
    "import matplotlib.gridspec as gridspec\n",
    "import pyprind\n",
    "\n",
    "import comptools as comp\n",
    "\n",
    "from save_pyunfold_format import save_pyunfold_root_file\n",
    "from run_unfolding import unfold\n",
    "    \n",
    "# color_dict allows for a consistent color-coding for each composition\n",
    "color_dict = comp.get_color_dict()\n",
    "\n",
    "%matplotlib inline"
   ]
  },
  {
   "cell_type": "code",
   "execution_count": 2,
   "metadata": {
    "collapsed": true
   },
   "outputs": [],
   "source": [
    "# config = 'IC79.2010'\n",
    "config = 'IC86.2012'\n",
    "num_groups = 4\n",
    "comp_list = comp.get_comp_list(num_groups=num_groups)"
   ]
  },
  {
   "cell_type": "code",
   "execution_count": 3,
   "metadata": {
    "collapsed": true
   },
   "outputs": [],
   "source": [
    "energybins = comp.get_energybins(config)"
   ]
  },
  {
   "cell_type": "code",
   "execution_count": 4,
   "metadata": {
    "collapsed": true
   },
   "outputs": [],
   "source": [
    "feature_list, feature_labels = comp.get_training_features()\n",
    "pipeline_str = 'BDT_comp_{}_{}-groups'.format(config, num_groups)"
   ]
  },
  {
   "cell_type": "code",
   "execution_count": 5,
   "metadata": {
    "collapsed": true
   },
   "outputs": [],
   "source": [
    "unfolding_dir  = os.path.join(comp.paths.comp_data_dir, config,\n",
    "                              'unfolding')\n",
    "figures_dir  = os.path.join(comp.paths.figures_dir, 'unfolding', config,\n",
    "                            'datachallenge')"
   ]
  },
  {
   "cell_type": "code",
   "execution_count": 6,
   "metadata": {},
   "outputs": [
    {
     "name": "stdout",
     "output_type": "stream",
     "text": [
      "[########################################] | 100% Completed |  7min 54.4s\n"
     ]
    }
   ],
   "source": [
    "df_data = comp.load_data(config=config,\n",
    "                         log_energy_min=energybins.log_energy_min,\n",
    "                         log_energy_max=energybins.log_energy_max,\n",
    "                         columns=feature_list,\n",
    "                         n_jobs=10, verbose=True)"
   ]
  },
  {
   "cell_type": "code",
   "execution_count": 7,
   "metadata": {},
   "outputs": [
    {
     "name": "stderr",
     "output_type": "stream",
     "text": [
      "/home/jbourbeau/.virtualenvs/composition/lib/python2.7/site-packages/matplotlib/figure.py:1743: UserWarning: This figure includes Axes that are not compatible with tight_layout, so its results might be incorrect.\n",
      "  warnings.warn(\"This figure includes Axes that are not \"\n"
     ]
    },
    {
     "data": {
      "image/png": "[encoded data removed]",
      "text/plain": [
       "<matplotlib.figure.Figure at 0x7febb41fe410>"
      ]
     },
     "metadata": {},
     "output_type": "display_data"
    }
   ],
   "source": [
    "fig, ax = plt.subplots()\n",
    "df_data.reco_log_energy.plot(kind='hist', histtype='step', bins=energybins.log_energy_bins,\n",
    "                             color=color_dict['data'], logy=True, ax=ax)\n",
    "ax.grid()\n",
    "plt.show()"
   ]
  },
  {
   "cell_type": "markdown",
   "metadata": {},
   "source": [
    "## Load simulation & train BDT"
   ]
  },
  {
   "cell_type": "code",
   "execution_count": 6,
   "metadata": {},
   "outputs": [
    {
     "name": "stdout",
     "output_type": "stream",
     "text": [
      "[########################################] | 100% Completed |  1.0s\n"
     ]
    }
   ],
   "source": [
    "df_sim_train, df_sim_test = comp.load_sim(config=config,\n",
    "                                          log_energy_min=energybins.log_energy_min,\n",
    "                                          log_energy_max=energybins.log_energy_max,\n",
    "                                          test_size=0.5,\n",
    "                                          verbose=True)"
   ]
  },
  {
   "cell_type": "code",
   "execution_count": 7,
   "metadata": {},
   "outputs": [
    {
     "name": "stdout",
     "output_type": "stream",
     "text": [
      "Fitting composition classifier...\n"
     ]
    }
   ],
   "source": [
    "pipeline = comp.get_pipeline(pipeline_str)\n",
    "\n",
    "# Fit composition classifier\n",
    "print('Fitting composition classifier...')\n",
    "pipeline = pipeline.fit(df_sim_train[feature_list],\n",
    "                        df_sim_train['comp_target_{}'.format(num_groups)])"
   ]
  },
  {
   "cell_type": "code",
   "execution_count": 8,
   "metadata": {},
   "outputs": [
    {
     "name": "stderr",
     "output_type": "stream",
     "text": [
      "/home/jbourbeau/.virtualenvs/composition/lib/python2.7/site-packages/matplotlib/figure.py:2022: UserWarning: This figure includes Axes that are not compatible with tight_layout, so results might be incorrect.\n",
      "  warnings.warn(\"This figure includes Axes that are not compatible \"\n"
     ]
    },
    {
     "data": {
      "image/png": "[encoded data removed]",
      "text/plain": [
       "<matplotlib.figure.Figure at 0x7fbc4b7e08d0>"
      ]
     },
     "metadata": {},
     "output_type": "display_data"
    }
   ],
   "source": [
    "fig, ax = plt.subplots()\n",
    "for composition in comp_list:\n",
    "    comp_mask = df_sim_test['comp_group_{}'.format(num_groups)] == composition\n",
    "    counts = np.histogram(df_sim_test.loc[comp_mask, 'MC_log_energy'], bins=energybins.log_energy_bins)[0]\n",
    "    comp.plot_steps(energybins.log_energy_bins, counts, label=composition,\n",
    "                    color=color_dict[composition], ax=ax)\n",
    "\n",
    "ax.set_xlim(energybins.log_energy_min, energybins.log_energy_max)\n",
    "ax.set_xlabel('$\\mathrm{\\log_{10}(E/GeV)}$')\n",
    "ax.set_ylabel('Counts')\n",
    "ax.grid()\n",
    "\n",
    "leg = plt.legend(\n",
    "                 loc='upper center', frameon=False,\n",
    "                 bbox_to_anchor=(0.5,  # horizontal\n",
    "                                 1.25),# vertical \n",
    "                 ncol=len(comp_list)//2, fancybox=False)\n",
    "nevents_outfile = os.path.join(figures_dir, 'num_testing_sim_events.png'.format(config))\n",
    "comp.check_output_dir(nevents_outfile)\n",
    "plt.savefig(nevents_outfile)\n",
    "plt.show()"
   ]
  },
  {
   "cell_type": "markdown",
   "metadata": {},
   "source": [
    "Plot true flux"
   ]
  },
  {
   "cell_type": "code",
   "execution_count": 9,
   "metadata": {},
   "outputs": [
    {
     "data": {
      "text/plain": [
       "2.5804847429997841"
      ]
     },
     "execution_count": 9,
     "metadata": {},
     "output_type": "execute_result"
    }
   ],
   "source": [
    "# Solid angle\n",
    "theta_max = 40 if config == 'IC79.2010' else 65\n",
    "# solid_angle = 2*np.pi*(np.cos(df_sim_train['lap_zenith'].min())-np.cos(df_sim_train['lap_zenith'].max()))\n",
    "solid_angle = np.pi*np.sin(np.deg2rad(theta_max))**2\n",
    "solid_angle"
   ]
  },
  {
   "cell_type": "code",
   "execution_count": 10,
   "metadata": {},
   "outputs": [
    {
     "data": {
      "text/plain": [
       "(28442248.921, 2699.1328177300002)"
      ]
     },
     "execution_count": 10,
     "metadata": {},
     "output_type": "execute_result"
    }
   ],
   "source": [
    "livetime, livetime_err = comp.get_detector_livetime(config=config)\n",
    "livetime, livetime_err"
   ]
  },
  {
   "cell_type": "code",
   "execution_count": 11,
   "metadata": {},
   "outputs": [
    {
     "name": "stdout",
     "output_type": "stream",
     "text": [
      "thrown_area = 9079202.76887\n"
     ]
    }
   ],
   "source": [
    "# Get simulation thrown areas for each energy bin\n",
    "thrown_radii = comp.simfunctions.get_sim_thrown_radius(energybins.log_energy_midpoints)\n",
    "thrown_areas = np.pi * thrown_radii**2\n",
    "thrown_area = thrown_areas.max()\n",
    "print('thrown_area = {}'.format(thrown_area))"
   ]
  },
  {
   "cell_type": "code",
   "execution_count": 12,
   "metadata": {},
   "outputs": [
    {
     "name": "stdout",
     "output_type": "stream",
     "text": [
      "Loading detection efficiencies...\n"
     ]
    }
   ],
   "source": [
    "# Load fitted effective area\n",
    "print('Loading detection efficiencies...')\n",
    "eff_path = os.path.join(\n",
    "                comp.paths.comp_data_dir, config, 'efficiencies',\n",
    "                'efficiency_fit_num_groups_{}.hdf'.format(num_groups))\n",
    "df_eff = pd.read_hdf(eff_path)"
   ]
  },
  {
   "cell_type": "code",
   "execution_count": 13,
   "metadata": {},
   "outputs": [
    {
     "data": {
      "text/html": [
       "<div>\n",
       "<style>\n",
       "    .dataframe thead tr:only-child th {\n",
       "        text-align: right;\n",
       "    }\n",
       "\n",
       "    .dataframe thead th {\n",
       "        text-align: left;\n",
       "    }\n",
       "\n",
       "    .dataframe tbody tr th {\n",
       "        vertical-align: top;\n",
       "    }\n",
       "</style>\n",
       "<table border=\"1\" class=\"dataframe\">\n",
       "  <thead>\n",
       "    <tr style=\"text-align: right;\">\n",
       "      <th></th>\n",
       "      <th>eff_median_PPlus</th>\n",
       "      <th>eff_err_low_PPlus</th>\n",
       "      <th>eff_err_high_PPlus</th>\n",
       "      <th>eff_median_He4Nucleus</th>\n",
       "      <th>eff_err_low_He4Nucleus</th>\n",
       "      <th>eff_err_high_He4Nucleus</th>\n",
       "      <th>eff_median_O16Nucleus</th>\n",
       "      <th>eff_err_low_O16Nucleus</th>\n",
       "      <th>eff_err_high_O16Nucleus</th>\n",
       "      <th>eff_median_Fe56Nucleus</th>\n",
       "      <th>eff_err_low_Fe56Nucleus</th>\n",
       "      <th>eff_err_high_Fe56Nucleus</th>\n",
       "      <th>eff_median_total</th>\n",
       "      <th>eff_err_low_total</th>\n",
       "      <th>eff_err_high_total</th>\n",
       "    </tr>\n",
       "  </thead>\n",
       "  <tbody>\n",
       "    <tr>\n",
       "      <th>0</th>\n",
       "      <td>0.006811</td>\n",
       "      <td>0.000106</td>\n",
       "      <td>0.000107</td>\n",
       "      <td>0.007278</td>\n",
       "      <td>0.000120</td>\n",
       "      <td>0.000113</td>\n",
       "      <td>0.006527</td>\n",
       "      <td>0.000120</td>\n",
       "      <td>0.000106</td>\n",
       "      <td>0.006132</td>\n",
       "      <td>0.000123</td>\n",
       "      <td>0.000116</td>\n",
       "      <td>0.006691</td>\n",
       "      <td>0.000056</td>\n",
       "      <td>0.000059</td>\n",
       "    </tr>\n",
       "    <tr>\n",
       "      <th>1</th>\n",
       "      <td>0.007645</td>\n",
       "      <td>0.000097</td>\n",
       "      <td>0.000102</td>\n",
       "      <td>0.008170</td>\n",
       "      <td>0.000093</td>\n",
       "      <td>0.000089</td>\n",
       "      <td>0.007697</td>\n",
       "      <td>0.000102</td>\n",
       "      <td>0.000090</td>\n",
       "      <td>0.007539</td>\n",
       "      <td>0.000102</td>\n",
       "      <td>0.000101</td>\n",
       "      <td>0.007762</td>\n",
       "      <td>0.000047</td>\n",
       "      <td>0.000049</td>\n",
       "    </tr>\n",
       "    <tr>\n",
       "      <th>2</th>\n",
       "      <td>0.008183</td>\n",
       "      <td>0.000079</td>\n",
       "      <td>0.000090</td>\n",
       "      <td>0.008620</td>\n",
       "      <td>0.000071</td>\n",
       "      <td>0.000072</td>\n",
       "      <td>0.008328</td>\n",
       "      <td>0.000075</td>\n",
       "      <td>0.000068</td>\n",
       "      <td>0.008263</td>\n",
       "      <td>0.000073</td>\n",
       "      <td>0.000069</td>\n",
       "      <td>0.008365</td>\n",
       "      <td>0.000037</td>\n",
       "      <td>0.000036</td>\n",
       "    </tr>\n",
       "    <tr>\n",
       "      <th>3</th>\n",
       "      <td>0.008509</td>\n",
       "      <td>0.000068</td>\n",
       "      <td>0.000073</td>\n",
       "      <td>0.008828</td>\n",
       "      <td>0.000067</td>\n",
       "      <td>0.000068</td>\n",
       "      <td>0.008626</td>\n",
       "      <td>0.000068</td>\n",
       "      <td>0.000065</td>\n",
       "      <td>0.008573</td>\n",
       "      <td>0.000066</td>\n",
       "      <td>0.000063</td>\n",
       "      <td>0.008668</td>\n",
       "      <td>0.000033</td>\n",
       "      <td>0.000032</td>\n",
       "    </tr>\n",
       "    <tr>\n",
       "      <th>4</th>\n",
       "      <td>0.008697</td>\n",
       "      <td>0.000067</td>\n",
       "      <td>0.000069</td>\n",
       "      <td>0.008921</td>\n",
       "      <td>0.000072</td>\n",
       "      <td>0.000070</td>\n",
       "      <td>0.008759</td>\n",
       "      <td>0.000071</td>\n",
       "      <td>0.000067</td>\n",
       "      <td>0.008697</td>\n",
       "      <td>0.000067</td>\n",
       "      <td>0.000069</td>\n",
       "      <td>0.008812</td>\n",
       "      <td>0.000034</td>\n",
       "      <td>0.000034</td>\n",
       "    </tr>\n",
       "  </tbody>\n",
       "</table>\n",
       "</div>"
      ],
      "text/plain": [
       "   eff_median_PPlus  eff_err_low_PPlus  eff_err_high_PPlus  \\\n",
       "0          0.006811           0.000106            0.000107   \n",
       "1          0.007645           0.000097            0.000102   \n",
       "2          0.008183           0.000079            0.000090   \n",
       "3          0.008509           0.000068            0.000073   \n",
       "4          0.008697           0.000067            0.000069   \n",
       "\n",
       "   eff_median_He4Nucleus  eff_err_low_He4Nucleus  eff_err_high_He4Nucleus  \\\n",
       "0               0.007278                0.000120                 0.000113   \n",
       "1               0.008170                0.000093                 0.000089   \n",
       "2               0.008620                0.000071                 0.000072   \n",
       "3               0.008828                0.000067                 0.000068   \n",
       "4               0.008921                0.000072                 0.000070   \n",
       "\n",
       "   eff_median_O16Nucleus  eff_err_low_O16Nucleus  eff_err_high_O16Nucleus  \\\n",
       "0               0.006527                0.000120                 0.000106   \n",
       "1               0.007697                0.000102                 0.000090   \n",
       "2               0.008328                0.000075                 0.000068   \n",
       "3               0.008626                0.000068                 0.000065   \n",
       "4               0.008759                0.000071                 0.000067   \n",
       "\n",
       "   eff_median_Fe56Nucleus  eff_err_low_Fe56Nucleus  eff_err_high_Fe56Nucleus  \\\n",
       "0                0.006132                 0.000123                  0.000116   \n",
       "1                0.007539                 0.000102                  0.000101   \n",
       "2                0.008263                 0.000073                  0.000069   \n",
       "3                0.008573                 0.000066                  0.000063   \n",
       "4                0.008697                 0.000067                  0.000069   \n",
       "\n",
       "   eff_median_total  eff_err_low_total  eff_err_high_total  \n",
       "0          0.006691           0.000056            0.000059  \n",
       "1          0.007762           0.000047            0.000049  \n",
       "2          0.008365           0.000037            0.000036  \n",
       "3          0.008668           0.000033            0.000032  \n",
       "4          0.008812           0.000034            0.000034  "
      ]
     },
     "execution_count": 13,
     "metadata": {},
     "output_type": "execute_result"
    }
   ],
   "source": [
    "df_eff.head()"
   ]
  },
  {
   "cell_type": "code",
   "execution_count": 14,
   "metadata": {},
   "outputs": [
    {
     "data": {
      "image/png": "[encoded data removed]",
      "text/plain": [
       "<matplotlib.figure.Figure at 0x7fbc49713f90>"
      ]
     },
     "metadata": {},
     "output_type": "display_data"
    }
   ],
   "source": [
    "eff_area, eff_area_err = {}, {}\n",
    "fig, ax = plt.subplots()\n",
    "for composition in comp_list+['total']:\n",
    "    eff_area[composition] = df_eff['eff_median_{}'.format(composition)]*thrown_area\n",
    "    eff_area_err[composition] = df_eff['eff_err_low_{}'.format(composition)]*thrown_area\n",
    "    comp.plot_steps(energybins.log_energy_bins, eff_area[composition], eff_area_err[composition], \n",
    "                    color=color_dict[composition], label=composition, ax=ax)\n",
    "ax.set_ylim(0)\n",
    "ax.grid()\n",
    "plt.show()"
   ]
  },
  {
   "cell_type": "markdown",
   "metadata": {},
   "source": [
    "Generate fake counts distribution for each composition\n",
    "\n",
    "(In the future, this will be specified by Josh/Zach)"
   ]
  },
  {
   "cell_type": "code",
   "execution_count": 15,
   "metadata": {
    "collapsed": true
   },
   "outputs": [],
   "source": [
    "def broken_power_law_flux(energy, gamma_before=-2.7, gamma_after=-3.1, energy_break=3e6):\n",
    "    \"\"\"Broken power law flux\n",
    "\n",
    "    This is a \"realistic\" flux (simple broken power law with a knee @ 3PeV)\n",
    "    to weight simulation to. More information can be found on the\n",
    "    IT73-IC79 data-MC comparison wiki page\n",
    "    https://wiki.icecube.wisc.edu/index.php/IT73-IC79_Data-MC_Comparison\n",
    "    \n",
    "    Parameters\n",
    "    ----------\n",
    "    energy : array_like\n",
    "        Energy values (in GeV) to calculate the flux for. \n",
    "    gamma_before : float, optional\n",
    "        Spectral index before break point (default is -2.7). \n",
    "    gamma_after : float, optional\n",
    "        Spectral index after break point (default is -3.1). \n",
    "    energy_break : float, optional\n",
    "        Energy (in GeV) at which the spectral index break occurs\n",
    "        (default is 3e6, or 3 PeV).\n",
    "        \n",
    "    Returns\n",
    "    -------\n",
    "    flux : array_like \n",
    "        Broken power law evaluated at energy points. \n",
    "    \"\"\"\n",
    "    phi_0 = 3.6e-6\n",
    "    # phi_0 = 3.1e-6\n",
    "    # phi_0 = 2.95e-6\n",
    "    eps = 100\n",
    "    if isinstance(energy, (int, float)):\n",
    "        energy = [energy]\n",
    "    energy = np.asarray(energy) * 1e-6\n",
    "    energy_break = energy_break * 1e-6\n",
    "    \n",
    "    flux = (1e-6) * phi_0 * energy**gamma_before *(1+(energy/energy_break)**eps)**((gamma_after-gamma_before)/eps)\n",
    "\n",
    "    return flux"
   ]
  },
  {
   "cell_type": "code",
   "execution_count": 16,
   "metadata": {
    "collapsed": true
   },
   "outputs": [],
   "source": [
    "random_state = 2\n",
    "np.random.seed(random_state)"
   ]
  },
  {
   "cell_type": "code",
   "execution_count": 85,
   "metadata": {
    "collapsed": true
   },
   "outputs": [],
   "source": [
    "case = 'broken_power_law_3'"
   ]
  },
  {
   "cell_type": "code",
   "execution_count": 88,
   "metadata": {
    "scrolled": false
   },
   "outputs": [
    {
     "data": {
      "text/html": [
       "<div>\n",
       "<style>\n",
       "    .dataframe thead tr:only-child th {\n",
       "        text-align: right;\n",
       "    }\n",
       "\n",
       "    .dataframe thead th {\n",
       "        text-align: left;\n",
       "    }\n",
       "\n",
       "    .dataframe tbody tr th {\n",
       "        vertical-align: top;\n",
       "    }\n",
       "</style>\n",
       "<table border=\"1\" class=\"dataframe\">\n",
       "  <thead>\n",
       "    <tr style=\"text-align: right;\">\n",
       "      <th></th>\n",
       "      <th>PPlus</th>\n",
       "      <th>He4Nucleus</th>\n",
       "      <th>O16Nucleus</th>\n",
       "      <th>Fe56Nucleus</th>\n",
       "      <th>total</th>\n",
       "    </tr>\n",
       "  </thead>\n",
       "  <tbody>\n",
       "    <tr>\n",
       "      <th>6.15</th>\n",
       "      <td>524044.524018</td>\n",
       "      <td>223968.530017</td>\n",
       "      <td>502160.796436</td>\n",
       "      <td>754798.635862</td>\n",
       "      <td>2.004972e+06</td>\n",
       "    </tr>\n",
       "    <tr>\n",
       "      <th>6.25</th>\n",
       "      <td>397637.534997</td>\n",
       "      <td>169992.853711</td>\n",
       "      <td>400376.213004</td>\n",
       "      <td>627406.015034</td>\n",
       "      <td>1.595413e+06</td>\n",
       "    </tr>\n",
       "    <tr>\n",
       "      <th>6.35</th>\n",
       "      <td>287754.553435</td>\n",
       "      <td>121255.332912</td>\n",
       "      <td>292855.998536</td>\n",
       "      <td>464926.934800</td>\n",
       "      <td>1.166793e+06</td>\n",
       "    </tr>\n",
       "    <tr>\n",
       "      <th>6.45</th>\n",
       "      <td>202296.444063</td>\n",
       "      <td>83957.530886</td>\n",
       "      <td>205094.252168</td>\n",
       "      <td>326104.652542</td>\n",
       "      <td>8.174529e+05</td>\n",
       "    </tr>\n",
       "    <tr>\n",
       "      <th>6.55</th>\n",
       "      <td>130721.683350</td>\n",
       "      <td>53635.405626</td>\n",
       "      <td>131657.895000</td>\n",
       "      <td>209162.666846</td>\n",
       "      <td>5.251777e+05</td>\n",
       "    </tr>\n",
       "    <tr>\n",
       "      <th>6.65</th>\n",
       "      <td>81568.721795</td>\n",
       "      <td>33214.544532</td>\n",
       "      <td>81707.808880</td>\n",
       "      <td>129698.826679</td>\n",
       "      <td>3.261899e+05</td>\n",
       "    </tr>\n",
       "    <tr>\n",
       "      <th>6.75</th>\n",
       "      <td>50636.182314</td>\n",
       "      <td>20518.482382</td>\n",
       "      <td>50513.352982</td>\n",
       "      <td>80149.510828</td>\n",
       "      <td>2.018175e+05</td>\n",
       "    </tr>\n",
       "    <tr>\n",
       "      <th>6.85</th>\n",
       "      <td>31332.160688</td>\n",
       "      <td>12662.134981</td>\n",
       "      <td>31184.587281</td>\n",
       "      <td>49459.164349</td>\n",
       "      <td>1.246380e+05</td>\n",
       "    </tr>\n",
       "    <tr>\n",
       "      <th>6.95</th>\n",
       "      <td>19358.483398</td>\n",
       "      <td>7810.566542</td>\n",
       "      <td>19237.981330</td>\n",
       "      <td>30506.417277</td>\n",
       "      <td>7.691345e+04</td>\n",
       "    </tr>\n",
       "    <tr>\n",
       "      <th>7.05</th>\n",
       "      <td>11949.537107</td>\n",
       "      <td>4816.719709</td>\n",
       "      <td>11864.992786</td>\n",
       "      <td>18811.953073</td>\n",
       "      <td>4.744320e+04</td>\n",
       "    </tr>\n",
       "    <tr>\n",
       "      <th>7.15</th>\n",
       "      <td>7372.852642</td>\n",
       "      <td>2970.120510</td>\n",
       "      <td>7316.738364</td>\n",
       "      <td>11599.752673</td>\n",
       "      <td>2.925946e+04</td>\n",
       "    </tr>\n",
       "    <tr>\n",
       "      <th>7.25</th>\n",
       "      <td>4547.547381</td>\n",
       "      <td>1831.395441</td>\n",
       "      <td>4511.680087</td>\n",
       "      <td>7152.465325</td>\n",
       "      <td>1.804309e+04</td>\n",
       "    </tr>\n",
       "    <tr>\n",
       "      <th>7.35</th>\n",
       "      <td>2804.425274</td>\n",
       "      <td>1129.241132</td>\n",
       "      <td>2781.918382</td>\n",
       "      <td>4410.205272</td>\n",
       "      <td>1.112579e+04</td>\n",
       "    </tr>\n",
       "    <tr>\n",
       "      <th>7.45</th>\n",
       "      <td>1729.382948</td>\n",
       "      <td>696.288737</td>\n",
       "      <td>1715.326522</td>\n",
       "      <td>2719.317834</td>\n",
       "      <td>6.860316e+03</td>\n",
       "    </tr>\n",
       "    <tr>\n",
       "      <th>7.55</th>\n",
       "      <td>1066.382029</td>\n",
       "      <td>429.329311</td>\n",
       "      <td>1057.664213</td>\n",
       "      <td>1676.719513</td>\n",
       "      <td>4.230095e+03</td>\n",
       "    </tr>\n",
       "    <tr>\n",
       "      <th>7.65</th>\n",
       "      <td>657.541303</td>\n",
       "      <td>264.722618</td>\n",
       "      <td>652.151097</td>\n",
       "      <td>1033.857280</td>\n",
       "      <td>2.608272e+03</td>\n",
       "    </tr>\n",
       "    <tr>\n",
       "      <th>7.75</th>\n",
       "      <td>405.442861</td>\n",
       "      <td>163.226726</td>\n",
       "      <td>402.113269</td>\n",
       "      <td>637.471328</td>\n",
       "      <td>1.608254e+03</td>\n",
       "    </tr>\n",
       "    <tr>\n",
       "      <th>7.85</th>\n",
       "      <td>249.996151</td>\n",
       "      <td>100.644806</td>\n",
       "      <td>247.941073</td>\n",
       "      <td>393.061658</td>\n",
       "      <td>9.916437e+02</td>\n",
       "    </tr>\n",
       "    <tr>\n",
       "      <th>7.95</th>\n",
       "      <td>154.147085</td>\n",
       "      <td>62.057090</td>\n",
       "      <td>152.879237</td>\n",
       "      <td>242.359859</td>\n",
       "      <td>6.114433e+02</td>\n",
       "    </tr>\n",
       "  </tbody>\n",
       "</table>\n",
       "</div>"
      ],
      "text/plain": [
       "              PPlus     He4Nucleus     O16Nucleus    Fe56Nucleus         total\n",
       "6.15  524044.524018  223968.530017  502160.796436  754798.635862  2.004972e+06\n",
       "6.25  397637.534997  169992.853711  400376.213004  627406.015034  1.595413e+06\n",
       "6.35  287754.553435  121255.332912  292855.998536  464926.934800  1.166793e+06\n",
       "6.45  202296.444063   83957.530886  205094.252168  326104.652542  8.174529e+05\n",
       "6.55  130721.683350   53635.405626  131657.895000  209162.666846  5.251777e+05\n",
       "6.65   81568.721795   33214.544532   81707.808880  129698.826679  3.261899e+05\n",
       "6.75   50636.182314   20518.482382   50513.352982   80149.510828  2.018175e+05\n",
       "6.85   31332.160688   12662.134981   31184.587281   49459.164349  1.246380e+05\n",
       "6.95   19358.483398    7810.566542   19237.981330   30506.417277  7.691345e+04\n",
       "7.05   11949.537107    4816.719709   11864.992786   18811.953073  4.744320e+04\n",
       "7.15    7372.852642    2970.120510    7316.738364   11599.752673  2.925946e+04\n",
       "7.25    4547.547381    1831.395441    4511.680087    7152.465325  1.804309e+04\n",
       "7.35    2804.425274    1129.241132    2781.918382    4410.205272  1.112579e+04\n",
       "7.45    1729.382948     696.288737    1715.326522    2719.317834  6.860316e+03\n",
       "7.55    1066.382029     429.329311    1057.664213    1676.719513  4.230095e+03\n",
       "7.65     657.541303     264.722618     652.151097    1033.857280  2.608272e+03\n",
       "7.75     405.442861     163.226726     402.113269     637.471328  1.608254e+03\n",
       "7.85     249.996151     100.644806     247.941073     393.061658  9.916437e+02\n",
       "7.95     154.147085      62.057090     152.879237     242.359859  6.114433e+02"
      ]
     },
     "execution_count": 88,
     "metadata": {},
     "output_type": "execute_result"
    }
   ],
   "source": [
    "counts_true = pd.DataFrame(index=energybins.log_energy_midpoints,\n",
    "                           columns=comp_list)\n",
    "\n",
    "flux_to_counts_scaling = {}\n",
    "for composition in comp_list:\n",
    "    flux_to_counts_scaling[composition] = eff_area[composition].values * livetime * solid_angle * energybins.energy_bin_widths\n",
    "\n",
    "if case == 'constant':\n",
    "    for composition in comp_list:\n",
    "        counts_true[composition] = np.array([1000]*len(energybins.log_energy_midpoints))\n",
    "\n",
    "elif case == 'constants':\n",
    "    for composition, value in zip(comp_list, [1000, 800, 700, 600]):\n",
    "        counts_true[composition] = np.array([value]*len(energybins.log_energy_midpoints))\n",
    "\n",
    "elif case == 'broken_power_law_0':\n",
    "    for composition in comp_list:\n",
    "        scale = 1.0 / len(comp_list)\n",
    "        comp_flux = comp.broken_power_law_flux(energybins.energy_midpoints,\n",
    "                                               energy_break=3e12)\n",
    "        comp_flux *= scale\n",
    "        counts_true[composition] = flux_to_counts_scaling[composition] * comp_flux\n",
    "\n",
    "elif case == 'broken_power_law_1':\n",
    "    for composition in comp_list:\n",
    "        scale = 1.0 / len(comp_list)\n",
    "        comp_flux = scale * comp.broken_power_law_flux(energybins.energy_midpoints, energy_break=10**7.0)\n",
    "        counts_true[composition] = flux_to_counts_scaling[composition] * comp_flux\n",
    "\n",
    "elif case == 'broken_power_law_2':\n",
    "    for composition in comp_list:\n",
    "        high_energy_mask = energybins.log_energy_midpoints >= 7.0\n",
    "        comp_flux = comp.broken_power_law_flux(energybins.energy_midpoints, energy_break=12e6)\n",
    "        counts_true[composition] = flux_to_counts_scaling[composition] * comp_flux\n",
    "        if composition in ['PPlus', 'He4Nucleus']:\n",
    "            counts_true.loc[high_energy_mask, composition] *= 0.25\n",
    "        else:\n",
    "            counts_true.loc[~high_energy_mask, composition] *= 0.25\n",
    "\n",
    "elif case == 'broken_power_law_3':\n",
    "    scales = [0.25, 0.1, 0.25, 0.4]\n",
    "    assert sum(scales) == 1\n",
    "    for composition, scale in zip(comp_list, scales):\n",
    "        high_energy_mask = energybins.log_energy_midpoints >= 6.5\n",
    "        comp_flux = scale * comp.broken_power_law_flux(energybins.energy_midpoints)\n",
    "        counts_true[composition] = flux_to_counts_scaling[composition] * comp_flux\n",
    "\n",
    "elif case == 'H4a':\n",
    "    model_flux = comp.model_flux(model='H4a',\n",
    "                                 energy=energybins.energy_midpoints,\n",
    "                                 num_groups=num_groups)\n",
    "    for composition in comp_list:\n",
    "        counts_true[composition] = model_flux['flux_{}'.format(composition)].values * flux_to_counts_scaling[composition]\n",
    "\n",
    "else:\n",
    "    raise ValueError('Invalid case, {}, entered'.format(case))\n",
    "\n",
    "\n",
    "# Calculate total counts\n",
    "counts_true['total'] = counts_true.sum(axis=1)\n",
    "\n",
    "counts_true"
   ]
  },
  {
   "cell_type": "code",
   "execution_count": 89,
   "metadata": {},
   "outputs": [
    {
     "data": {
      "image/png": "[encoded data removed]",
      "text/plain": [
       "<matplotlib.figure.Figure at 0x7fbc43260f90>"
      ]
     },
     "metadata": {},
     "output_type": "display_data"
    }
   ],
   "source": [
    "fig, ax = plt.subplots()\n",
    "for composition in counts_true:\n",
    "    comp.plot_steps(energybins.log_energy_bins, counts_true[composition],\n",
    "                    color=color_dict[composition], label=composition,\n",
    "                    ax=ax)\n",
    "ax.set_yscale(\"log\", nonposy='clip')\n",
    "ax.grid()\n",
    "ax.legend()\n",
    "plt.show()"
   ]
  },
  {
   "cell_type": "code",
   "execution_count": 90,
   "metadata": {},
   "outputs": [
    {
     "data": {
      "image/png": "[encoded data removed]",
      "text/plain": [
       "<matplotlib.figure.Figure at 0x7fbc43260e10>"
      ]
     },
     "metadata": {},
     "output_type": "display_data"
    }
   ],
   "source": [
    "fig, axarr = plt.subplots(2, 2, sharex=True, sharey=True, figsize=(10, 8))\n",
    "for composition, ax in zip(comp_list, axarr.flat):\n",
    "    model_flux = comp.model_flux(model='H4a',\n",
    "                                 energy=energybins.energy_midpoints,\n",
    "                                 num_groups=num_groups)\n",
    "    ax.plot(energybins.log_energy_midpoints,\n",
    "            energybins.energy_midpoints**2.7*model_flux['flux_{}'.format(composition)].values,\n",
    "            color=color_dict[composition], ls=':', marker='*',\n",
    "            label='H4a')\n",
    "    \n",
    "    comp_flux = counts_true[composition] / flux_to_counts_scaling[composition]\n",
    "    ax.plot(energybins.log_energy_midpoints,\n",
    "            energybins.energy_midpoints**2.7*comp_flux,\n",
    "            color=color_dict[composition],\n",
    "            label='Test case',\n",
    "            marker='.')\n",
    "    ax.set_yscale(\"log\", nonposy='clip')\n",
    "    ax.set_title(composition)\n",
    "    ax.grid(lw=0.8, which='both')\n",
    "    ax.legend()\n",
    "plt.show()"
   ]
  },
  {
   "cell_type": "markdown",
   "metadata": {},
   "source": [
    "Calculate (testing set) simulation event weights"
   ]
  },
  {
   "cell_type": "code",
   "execution_count": 91,
   "metadata": {
    "collapsed": true
   },
   "outputs": [],
   "source": [
    "counts_sim = pd.DataFrame(index=energybins.log_energy_midpoints,\n",
    "                          columns=comp_list)\n",
    "for composition in comp_list:\n",
    "    comp_mask = df_sim_test['comp_group_{}'.format(num_groups)] == composition\n",
    "    comp_counts, _ = np.histogram(df_sim_test.loc[comp_mask, 'reco_log_energy'],\n",
    "                                  bins=energybins.log_energy_bins)\n",
    "    counts_sim[composition] = comp_counts"
   ]
  },
  {
   "cell_type": "code",
   "execution_count": 92,
   "metadata": {},
   "outputs": [
    {
     "data": {
      "image/png": "[encoded data removed]",
      "text/plain": [
       "<matplotlib.figure.Figure at 0x7fbc48e42550>"
      ]
     },
     "metadata": {},
     "output_type": "display_data"
    }
   ],
   "source": [
    "fig, ax = plt.subplots()\n",
    "for composition in counts_sim:\n",
    "    comp.plot_steps(energybins.log_energy_bins, counts_sim[composition],\n",
    "                    color=color_dict[composition], label=composition)\n",
    "ax.grid()\n",
    "ax.legend()\n",
    "plt.show()"
   ]
  },
  {
   "cell_type": "markdown",
   "metadata": {
    "collapsed": true
   },
   "source": [
    "## Run analysis pipeline on simulation"
   ]
  },
  {
   "cell_type": "code",
   "execution_count": 93,
   "metadata": {
    "scrolled": false
   },
   "outputs": [
    {
     "data": {
      "text/html": [
       "<div>\n",
       "<style>\n",
       "    .dataframe thead tr:only-child th {\n",
       "        text-align: right;\n",
       "    }\n",
       "\n",
       "    .dataframe thead th {\n",
       "        text-align: left;\n",
       "    }\n",
       "\n",
       "    .dataframe tbody tr th {\n",
       "        vertical-align: top;\n",
       "    }\n",
       "</style>\n",
       "<table border=\"1\" class=\"dataframe\">\n",
       "  <thead>\n",
       "    <tr style=\"text-align: right;\">\n",
       "      <th></th>\n",
       "      <th>PPlus</th>\n",
       "      <th>He4Nucleus</th>\n",
       "      <th>O16Nucleus</th>\n",
       "      <th>Fe56Nucleus</th>\n",
       "    </tr>\n",
       "  </thead>\n",
       "  <tbody>\n",
       "    <tr>\n",
       "      <th>6.15</th>\n",
       "      <td>448470.697288</td>\n",
       "      <td>558708.028255</td>\n",
       "      <td>61553.669808</td>\n",
       "      <td>457597.477438</td>\n",
       "    </tr>\n",
       "    <tr>\n",
       "      <th>6.25</th>\n",
       "      <td>427392.360601</td>\n",
       "      <td>506010.333059</td>\n",
       "      <td>101575.191688</td>\n",
       "      <td>812860.867915</td>\n",
       "    </tr>\n",
       "    <tr>\n",
       "      <th>6.35</th>\n",
       "      <td>252150.662515</td>\n",
       "      <td>386208.748319</td>\n",
       "      <td>92743.879145</td>\n",
       "      <td>580312.258955</td>\n",
       "    </tr>\n",
       "    <tr>\n",
       "      <th>6.45</th>\n",
       "      <td>142369.251000</td>\n",
       "      <td>276002.149682</td>\n",
       "      <td>80052.314976</td>\n",
       "      <td>313334.978728</td>\n",
       "    </tr>\n",
       "    <tr>\n",
       "      <th>6.55</th>\n",
       "      <td>133460.857811</td>\n",
       "      <td>133049.535105</td>\n",
       "      <td>95735.160529</td>\n",
       "      <td>213504.458641</td>\n",
       "    </tr>\n",
       "    <tr>\n",
       "      <th>6.65</th>\n",
       "      <td>83376.010735</td>\n",
       "      <td>75875.898698</td>\n",
       "      <td>58160.413714</td>\n",
       "      <td>106996.788235</td>\n",
       "    </tr>\n",
       "    <tr>\n",
       "      <th>6.75</th>\n",
       "      <td>34462.117200</td>\n",
       "      <td>31866.906484</td>\n",
       "      <td>58290.156902</td>\n",
       "      <td>99715.117607</td>\n",
       "    </tr>\n",
       "    <tr>\n",
       "      <th>6.85</th>\n",
       "      <td>35283.446909</td>\n",
       "      <td>36356.733839</td>\n",
       "      <td>23134.933716</td>\n",
       "      <td>39156.472249</td>\n",
       "    </tr>\n",
       "    <tr>\n",
       "      <th>6.95</th>\n",
       "      <td>16521.814168</td>\n",
       "      <td>18516.644737</td>\n",
       "      <td>11872.678809</td>\n",
       "      <td>42945.073518</td>\n",
       "    </tr>\n",
       "    <tr>\n",
       "      <th>7.05</th>\n",
       "      <td>9254.816895</td>\n",
       "      <td>3030.297653</td>\n",
       "      <td>9593.263916</td>\n",
       "      <td>17140.732063</td>\n",
       "    </tr>\n",
       "    <tr>\n",
       "      <th>7.15</th>\n",
       "      <td>7569.084547</td>\n",
       "      <td>5273.925726</td>\n",
       "      <td>5085.355849</td>\n",
       "      <td>12861.713432</td>\n",
       "    </tr>\n",
       "    <tr>\n",
       "      <th>7.25</th>\n",
       "      <td>3809.535124</td>\n",
       "      <td>2147.377384</td>\n",
       "      <td>5786.493968</td>\n",
       "      <td>5136.329048</td>\n",
       "    </tr>\n",
       "    <tr>\n",
       "      <th>7.35</th>\n",
       "      <td>3381.386295</td>\n",
       "      <td>1074.495814</td>\n",
       "      <td>4944.115189</td>\n",
       "      <td>3042.650143</td>\n",
       "    </tr>\n",
       "    <tr>\n",
       "      <th>7.45</th>\n",
       "      <td>1659.407380</td>\n",
       "      <td>1410.442299</td>\n",
       "      <td>1443.664549</td>\n",
       "      <td>2073.980836</td>\n",
       "    </tr>\n",
       "    <tr>\n",
       "      <th>7.55</th>\n",
       "      <td>793.130770</td>\n",
       "      <td>916.053870</td>\n",
       "      <td>1382.216434</td>\n",
       "      <td>1498.137791</td>\n",
       "    </tr>\n",
       "    <tr>\n",
       "      <th>7.65</th>\n",
       "      <td>786.689342</td>\n",
       "      <td>125.880619</td>\n",
       "      <td>879.974487</td>\n",
       "      <td>945.802103</td>\n",
       "    </tr>\n",
       "    <tr>\n",
       "      <th>7.75</th>\n",
       "      <td>448.939246</td>\n",
       "      <td>63.586977</td>\n",
       "      <td>652.973803</td>\n",
       "      <td>656.855514</td>\n",
       "    </tr>\n",
       "    <tr>\n",
       "      <th>7.85</th>\n",
       "      <td>224.400577</td>\n",
       "      <td>119.362445</td>\n",
       "      <td>307.963835</td>\n",
       "      <td>357.294323</td>\n",
       "    </tr>\n",
       "    <tr>\n",
       "      <th>7.95</th>\n",
       "      <td>124.345488</td>\n",
       "      <td>68.906079</td>\n",
       "      <td>121.544569</td>\n",
       "      <td>331.733825</td>\n",
       "    </tr>\n",
       "  </tbody>\n",
       "</table>\n",
       "</div>"
      ],
      "text/plain": [
       "              PPlus     He4Nucleus     O16Nucleus    Fe56Nucleus\n",
       "6.15  448470.697288  558708.028255   61553.669808  457597.477438\n",
       "6.25  427392.360601  506010.333059  101575.191688  812860.867915\n",
       "6.35  252150.662515  386208.748319   92743.879145  580312.258955\n",
       "6.45  142369.251000  276002.149682   80052.314976  313334.978728\n",
       "6.55  133460.857811  133049.535105   95735.160529  213504.458641\n",
       "6.65   83376.010735   75875.898698   58160.413714  106996.788235\n",
       "6.75   34462.117200   31866.906484   58290.156902   99715.117607\n",
       "6.85   35283.446909   36356.733839   23134.933716   39156.472249\n",
       "6.95   16521.814168   18516.644737   11872.678809   42945.073518\n",
       "7.05    9254.816895    3030.297653    9593.263916   17140.732063\n",
       "7.15    7569.084547    5273.925726    5085.355849   12861.713432\n",
       "7.25    3809.535124    2147.377384    5786.493968    5136.329048\n",
       "7.35    3381.386295    1074.495814    4944.115189    3042.650143\n",
       "7.45    1659.407380    1410.442299    1443.664549    2073.980836\n",
       "7.55     793.130770     916.053870    1382.216434    1498.137791\n",
       "7.65     786.689342     125.880619     879.974487     945.802103\n",
       "7.75     448.939246      63.586977     652.973803     656.855514\n",
       "7.85     224.400577     119.362445     307.963835     357.294323\n",
       "7.95     124.345488      68.906079     121.544569     331.733825"
      ]
     },
     "execution_count": 93,
     "metadata": {},
     "output_type": "execute_result"
    }
   ],
   "source": [
    "counts_observed = pd.DataFrame(0, index=energybins.log_energy_midpoints, columns=comp_list)\n",
    "weights = pd.DataFrame(0, index=energybins.log_energy_midpoints, columns=comp_list)\n",
    "for idx_log_energy, composition in itertools.product(range(len(energybins.log_energy_midpoints)),\n",
    "                                                     comp_list):\n",
    "    \n",
    "    log_energy = energybins.log_energy_midpoints[idx_log_energy]\n",
    "    \n",
    "    # Construct composition mask\n",
    "    comp_mask = df_sim_test['comp_group_{}'.format(num_groups)] == composition\n",
    "    # Construct mask for energy bin\n",
    "    energy_bins = np.digitize(df_sim_test['MC_log_energy'], bins=energybins.log_energy_bins) - 1\n",
    "    energy_mask = energy_bins == idx_log_energy\n",
    "    # Filter out events that don't pass composition + energy  mask\n",
    "    df_sim_bin = df_sim_test.loc[comp_mask & energy_mask, :]\n",
    "    \n",
    "    # Reweight simulation events to get desired number of events\n",
    "    weight = counts_true.loc[log_energy, composition] / df_sim_bin.shape[0]\n",
    "    weights.loc[log_energy, composition] = weight\n",
    "    \n",
    "    # Get predicted composition \n",
    "    pred_target = pipeline.predict(df_sim_bin[feature_list])\n",
    "    pred_comp = np.array(comp.decode_composition_groups(pred_target, num_groups=num_groups))\n",
    "    assert len(pred_comp) == df_sim_bin.shape[0]\n",
    "    for p_comp in np.unique(pred_comp):\n",
    "        pred_comp_mask = pred_comp == p_comp\n",
    "        comp_counts, _ = np.histogram(df_sim_bin.loc[pred_comp_mask, 'reco_log_energy'],\n",
    "                                      bins=energybins.log_energy_bins)\n",
    "        comp_counts = weight * comp_counts\n",
    "        counts_observed[p_comp] += comp_counts\n",
    "\n",
    "counts_observed"
   ]
  },
  {
   "cell_type": "code",
   "execution_count": 94,
   "metadata": {},
   "outputs": [
    {
     "data": {
      "image/png": "[encoded data removed]",
      "text/plain": [
       "<matplotlib.figure.Figure at 0x7fbc48fcbf90>"
      ]
     },
     "metadata": {},
     "output_type": "display_data"
    }
   ],
   "source": [
    "fig, ax = plt.subplots()\n",
    "for composition in comp_list:\n",
    "    weights[composition].plot(ls=':', label=composition,\n",
    "                              color=color_dict[composition], ax=ax)\n",
    "ax.set_xlabel('$\\mathrm{\\log_{10}(E/GeV)}$')\n",
    "ax.set_ylabel('Weights')\n",
    "ax.set_yscale(\"log\", nonposy='clip')\n",
    "ax.grid(lw=1)\n",
    "ax.legend()\n",
    "weights_outfile = os.path.join(figures_dir, \n",
    "                               'weights.png'.format(num_groups))\n",
    "comp.check_output_dir(weights_outfile)\n",
    "plt.savefig(weights_outfile)\n",
    "plt.show()"
   ]
  },
  {
   "cell_type": "markdown",
   "metadata": {},
   "source": [
    "Format observed counts and detection efficiencies for use with PyUnfold"
   ]
  },
  {
   "cell_type": "code",
   "execution_count": 95,
   "metadata": {
    "collapsed": true
   },
   "outputs": [],
   "source": [
    "counts_pyunfold = []\n",
    "for idx, row in counts_observed.iterrows():\n",
    "    for composition in comp_list:\n",
    "        counts_pyunfold.append(row[composition])\n",
    "        \n",
    "efficiencies = []\n",
    "efficiencies_err = []     \n",
    "for idx, row in df_eff.iterrows():\n",
    "    for composition in comp_list:\n",
    "        efficiencies.append(row['eff_median_{}'.format(composition)])\n",
    "        efficiencies_err.append(row['eff_err_low_{}'.format(composition)])"
   ]
  },
  {
   "cell_type": "code",
   "execution_count": 96,
   "metadata": {
    "collapsed": true
   },
   "outputs": [],
   "source": [
    "formatted_df = pd.DataFrame()\n",
    "formatted_df['counts'] = counts_pyunfold\n",
    "formatted_df['efficiencies'] = efficiencies\n",
    "formatted_df['efficiencies_err'] = efficiencies_err"
   ]
  },
  {
   "cell_type": "code",
   "execution_count": 97,
   "metadata": {},
   "outputs": [
    {
     "data": {
      "text/html": [
       "<div>\n",
       "<style>\n",
       "    .dataframe thead tr:only-child th {\n",
       "        text-align: right;\n",
       "    }\n",
       "\n",
       "    .dataframe thead th {\n",
       "        text-align: left;\n",
       "    }\n",
       "\n",
       "    .dataframe tbody tr th {\n",
       "        vertical-align: top;\n",
       "    }\n",
       "</style>\n",
       "<table border=\"1\" class=\"dataframe\">\n",
       "  <thead>\n",
       "    <tr style=\"text-align: right;\">\n",
       "      <th></th>\n",
       "      <th>counts</th>\n",
       "      <th>efficiencies</th>\n",
       "      <th>efficiencies_err</th>\n",
       "    </tr>\n",
       "  </thead>\n",
       "  <tbody>\n",
       "    <tr>\n",
       "      <th>0</th>\n",
       "      <td>448470.697288</td>\n",
       "      <td>0.006811</td>\n",
       "      <td>0.000106</td>\n",
       "    </tr>\n",
       "    <tr>\n",
       "      <th>1</th>\n",
       "      <td>558708.028255</td>\n",
       "      <td>0.007278</td>\n",
       "      <td>0.000120</td>\n",
       "    </tr>\n",
       "    <tr>\n",
       "      <th>2</th>\n",
       "      <td>61553.669808</td>\n",
       "      <td>0.006527</td>\n",
       "      <td>0.000120</td>\n",
       "    </tr>\n",
       "    <tr>\n",
       "      <th>3</th>\n",
       "      <td>457597.477438</td>\n",
       "      <td>0.006132</td>\n",
       "      <td>0.000123</td>\n",
       "    </tr>\n",
       "    <tr>\n",
       "      <th>4</th>\n",
       "      <td>427392.360601</td>\n",
       "      <td>0.007645</td>\n",
       "      <td>0.000097</td>\n",
       "    </tr>\n",
       "  </tbody>\n",
       "</table>\n",
       "</div>"
      ],
      "text/plain": [
       "          counts  efficiencies  efficiencies_err\n",
       "0  448470.697288      0.006811          0.000106\n",
       "1  558708.028255      0.007278          0.000120\n",
       "2   61553.669808      0.006527          0.000120\n",
       "3  457597.477438      0.006132          0.000123\n",
       "4  427392.360601      0.007645          0.000097"
      ]
     },
     "execution_count": 97,
     "metadata": {},
     "output_type": "execute_result"
    }
   ],
   "source": [
    "formatted_df.head()"
   ]
  },
  {
   "cell_type": "code",
   "execution_count": 98,
   "metadata": {
    "collapsed": true
   },
   "outputs": [],
   "source": [
    "formatted_file = os.path.join(os.getcwd(),'test.hdf')\n",
    "formatted_df.to_hdf(formatted_file, 'dataframe', mode='w')"
   ]
  },
  {
   "cell_type": "code",
   "execution_count": 99,
   "metadata": {
    "scrolled": false
   },
   "outputs": [
    {
     "name": "stdout",
     "output_type": "stream",
     "text": [
      "Saving output file /home/jbourbeau/cr-composition/unfolding/test.root\n"
     ]
    }
   ],
   "source": [
    "root_file = os.path.join(os.getcwd(),'test.root')\n",
    "save_pyunfold_root_file(config=config, num_groups=num_groups,\n",
    "                        outfile=root_file, formatted_df_file=formatted_file)"
   ]
  },
  {
   "cell_type": "code",
   "execution_count": null,
   "metadata": {
    "collapsed": true
   },
   "outputs": [],
   "source": []
  },
  {
   "cell_type": "code",
   "execution_count": null,
   "metadata": {
    "collapsed": true
   },
   "outputs": [],
   "source": []
  },
  {
   "cell_type": "code",
   "execution_count": null,
   "metadata": {
    "collapsed": true
   },
   "outputs": [],
   "source": []
  },
  {
   "cell_type": "code",
   "execution_count": 100,
   "metadata": {
    "collapsed": true
   },
   "outputs": [],
   "source": [
    "df_unfolding_iter = unfold(config_name=os.path.join(config, 'config.cfg'),\n",
    "                           priors='Jeffreys',\n",
    "                           input_file=root_file,\n",
    "                           ts_stopping=0.01)"
   ]
  },
  {
   "cell_type": "code",
   "execution_count": 101,
   "metadata": {},
   "outputs": [
    {
     "data": {
      "text/html": [
       "<div>\n",
       "<style>\n",
       "    .dataframe thead tr:only-child th {\n",
       "        text-align: right;\n",
       "    }\n",
       "\n",
       "    .dataframe thead th {\n",
       "        text-align: left;\n",
       "    }\n",
       "\n",
       "    .dataframe tbody tr th {\n",
       "        vertical-align: top;\n",
       "    }\n",
       "</style>\n",
       "<table border=\"1\" class=\"dataframe\">\n",
       "  <thead>\n",
       "    <tr style=\"text-align: right;\">\n",
       "      <th></th>\n",
       "      <th>sys_err</th>\n",
       "      <th>stat_err</th>\n",
       "      <th>n_c</th>\n",
       "    </tr>\n",
       "  </thead>\n",
       "  <tbody>\n",
       "    <tr>\n",
       "      <th>0</th>\n",
       "      <td>[30935201.7749, 11344662.6106, 9235548.08932, ...</td>\n",
       "      <td>[122184.008615, 46610.4280331, 37728.3658056, ...</td>\n",
       "      <td>[226633519.476, 91231840.8719, 67295004.0953, ...</td>\n",
       "    </tr>\n",
       "    <tr>\n",
       "      <th>1</th>\n",
       "      <td>[34461344.924, 14225219.9294, 13754581.0252, 1...</td>\n",
       "      <td>[118640.243957, 50345.6997184, 53530.3499832, ...</td>\n",
       "      <td>[176191611.269, 81761596.2179, 71227463.8037, ...</td>\n",
       "    </tr>\n",
       "    <tr>\n",
       "      <th>2</th>\n",
       "      <td>[35226502.7542, 16255371.9133, 17448098.7779, ...</td>\n",
       "      <td>[129629.034574, 56711.1813067, 66470.4197135, ...</td>\n",
       "      <td>[147261343.808, 76136300.8899, 75621157.8449, ...</td>\n",
       "    </tr>\n",
       "    <tr>\n",
       "      <th>3</th>\n",
       "      <td>[34807668.5331, 17709227.8952, 20480735.676, 2...</td>\n",
       "      <td>[135797.488551, 62398.5226621, 77357.6900892, ...</td>\n",
       "      <td>[128575400.55, 72211935.1651, 79487075.4852, 6...</td>\n",
       "    </tr>\n",
       "    <tr>\n",
       "      <th>4</th>\n",
       "      <td>[33974539.1907, 18768212.2251, 22996578.9484, ...</td>\n",
       "      <td>[141354.651993, 68013.3915995, 86513.3238882, ...</td>\n",
       "      <td>[115689996.49, 69257499.95, 82641656.8536, 717...</td>\n",
       "    </tr>\n",
       "    <tr>\n",
       "      <th>5</th>\n",
       "      <td>[33099185.233, 19566405.2562, 25111389.131, 25...</td>\n",
       "      <td>[146304.979461, 73512.1696956, 94189.4948535, ...</td>\n",
       "      <td>[106438630.594, 66955873.6017, 85150968.8911, ...</td>\n",
       "    </tr>\n",
       "    <tr>\n",
       "      <th>6</th>\n",
       "      <td>[32341859.5987, 20198020.4907, 26913461.1106, ...</td>\n",
       "      <td>[150991.143711, 78903.6662298, 100678.932813, ...</td>\n",
       "      <td>[99601721.8874, 65127773.5014, 87133192.3424, ...</td>\n",
       "    </tr>\n",
       "  </tbody>\n",
       "</table>\n",
       "</div>"
      ],
      "text/plain": [
       "                                             sys_err  \\\n",
       "0  [30935201.7749, 11344662.6106, 9235548.08932, ...   \n",
       "1  [34461344.924, 14225219.9294, 13754581.0252, 1...   \n",
       "2  [35226502.7542, 16255371.9133, 17448098.7779, ...   \n",
       "3  [34807668.5331, 17709227.8952, 20480735.676, 2...   \n",
       "4  [33974539.1907, 18768212.2251, 22996578.9484, ...   \n",
       "5  [33099185.233, 19566405.2562, 25111389.131, 25...   \n",
       "6  [32341859.5987, 20198020.4907, 26913461.1106, ...   \n",
       "\n",
       "                                            stat_err  \\\n",
       "0  [122184.008615, 46610.4280331, 37728.3658056, ...   \n",
       "1  [118640.243957, 50345.6997184, 53530.3499832, ...   \n",
       "2  [129629.034574, 56711.1813067, 66470.4197135, ...   \n",
       "3  [135797.488551, 62398.5226621, 77357.6900892, ...   \n",
       "4  [141354.651993, 68013.3915995, 86513.3238882, ...   \n",
       "5  [146304.979461, 73512.1696956, 94189.4948535, ...   \n",
       "6  [150991.143711, 78903.6662298, 100678.932813, ...   \n",
       "\n",
       "                                                 n_c  \n",
       "0  [226633519.476, 91231840.8719, 67295004.0953, ...  \n",
       "1  [176191611.269, 81761596.2179, 71227463.8037, ...  \n",
       "2  [147261343.808, 76136300.8899, 75621157.8449, ...  \n",
       "3  [128575400.55, 72211935.1651, 79487075.4852, 6...  \n",
       "4  [115689996.49, 69257499.95, 82641656.8536, 717...  \n",
       "5  [106438630.594, 66955873.6017, 85150968.8911, ...  \n",
       "6  [99601721.8874, 65127773.5014, 87133192.3424, ...  "
      ]
     },
     "execution_count": 101,
     "metadata": {},
     "output_type": "execute_result"
    }
   ],
   "source": [
    "df_unfolding_iter"
   ]
  },
  {
   "cell_type": "code",
   "execution_count": 102,
   "metadata": {
    "collapsed": true
   },
   "outputs": [],
   "source": [
    "def unfolded_counts_dist(unfolding_df, iteration=-1, num_groups=4):\n",
    "    \"\"\"\n",
    "    Convert unfolded distributions DataFrame from PyUnfold counts arrays \n",
    "    to a dictionary containing a counts array for each composition. \n",
    "    \n",
    "    Parameters\n",
    "    ----------\n",
    "    unfolding_df : pandas.DataFrame\n",
    "        Unfolding DataFrame returned from PyUnfold. \n",
    "    iteration : int, optional\n",
    "        Specific unfolding iteration to retrieve unfolded counts \n",
    "        (default is -1, the last iteration). \n",
    "    num_groups : int, optional\n",
    "        Number of composition groups (default is 4). \n",
    "        \n",
    "    Returns\n",
    "    -------\n",
    "    counts : dict\n",
    "        Dictionary with composition-counts key-value pairs.\n",
    "    counts_sys_err : dict\n",
    "        Dictionary with composition-systematic error key-value pairs.\n",
    "    counts_stat_err : dict\n",
    "        Dictionary with composition-statistical error key-value pairs.\n",
    "    \"\"\"\n",
    "    comp_list = comp.get_comp_list(num_groups=num_groups)\n",
    "    \n",
    "    df_iter = unfolding_df.iloc[iteration]\n",
    "    \n",
    "    counts, counts_sys_err, counts_stat_err = {}, {}, {}\n",
    "    for idx, composition in enumerate(comp_list):\n",
    "        counts[composition] = df_iter['n_c'][idx::num_groups]\n",
    "        counts_sys_err[composition] = df_iter['sys_err'][idx::num_groups]\n",
    "        counts_stat_err[composition] = df_iter['stat_err'][idx::num_groups]\n",
    "        \n",
    "    counts['total'] = np.sum([counts[composition] for composition in comp_list], axis=0)\n",
    "    counts_sys_err['total'] = np.sqrt(np.sum([counts_sys_err[composition]**2 for composition in comp_list], axis=0))\n",
    "    counts_stat_err['total'] = np.sqrt(np.sum([counts_stat_err[composition]**2 for composition in comp_list], axis=0))\n",
    "    \n",
    "    return counts, counts_sys_err, counts_stat_err"
   ]
  },
  {
   "cell_type": "code",
   "execution_count": 103,
   "metadata": {
    "scrolled": false
   },
   "outputs": [
    {
     "name": "stdout",
     "output_type": "stream",
     "text": [
      "Jeffreys: 7 iterations\n"
     ]
    },
    {
     "data": {
      "image/png": "[encoded data removed]",
      "text/plain": [
       "<matplotlib.figure.Figure at 0x7fbc427c72d0>"
      ]
     },
     "metadata": {},
     "output_type": "display_data"
    }
   ],
   "source": [
    "for model_name in ['Jeffreys']:\n",
    "    \n",
    "    # Get plotting axis\n",
    "    fig = plt.figure(figsize=(12, 5))\n",
    "    gs = gridspec.GridSpec(nrows=2, ncols=len(comp_list)+1,\n",
    "                           hspace=0.075)\n",
    "    axs_flux, axs_ratio = {}, {}\n",
    "    for idx, composition in enumerate(comp_list + ['total']):\n",
    "        if idx == 0:\n",
    "            axs_flux[composition] = fig.add_subplot(gs[0, idx])\n",
    "        else:\n",
    "            axs_flux[composition] = fig.add_subplot(gs[0, idx], sharey=axs_flux[comp_list[0]])\n",
    "        axs_ratio[composition] = fig.add_subplot(gs[1, idx], sharex=axs_flux[composition])\n",
    "        \n",
    "\n",
    "    print('{}: {} iterations'.format(model_name, df_unfolding_iter.shape[0]))\n",
    "\n",
    "    counts, counts_sys_err, counts_stat_err = unfolded_counts_dist(\n",
    "                                                    df_unfolding_iter,\n",
    "                                                    num_groups=num_groups)\n",
    "    for idx, composition in enumerate(comp_list + ['total']):\n",
    "        \n",
    "        ax_flux = axs_flux[composition]\n",
    "        ax_ratio = axs_ratio[composition]\n",
    "        \n",
    "        # Flux plot\n",
    "        flux, flux_err_sys = comp.get_flux(counts[composition], counts_sys_err[composition],\n",
    "                                                    energybins=energybins.energy_bins,\n",
    "                                                    eff_area=thrown_area,\n",
    "                                                    livetime=livetime, livetime_err=livetime_err, \n",
    "                                                    solid_angle=solid_angle,\n",
    "                                                    scalingindex=2.7)\n",
    "        flux, flux_err_stat = comp.get_flux(counts[composition], counts_stat_err[composition],\n",
    "                                                     energybins=energybins.energy_bins,\n",
    "                                                     eff_area=thrown_area,\n",
    "                                                     livetime=livetime, livetime_err=livetime_err, \n",
    "                                                     solid_angle=solid_angle,\n",
    "                                                     scalingindex=2.7)\n",
    "        \n",
    "        comp.plot_steps(energybins.log_energy_bins, flux, yerr=flux_err_sys,\n",
    "                            ax=ax_flux, alpha=0.4, fillalpha=0.4,  \n",
    "                            color=color_dict[composition])\n",
    "\n",
    "        ax_flux.errorbar(energybins.log_energy_midpoints, flux, yerr=flux_err_stat,  \n",
    "                         color=color_dict[composition], ls='None', marker='.', \n",
    "                         label='Unfolded flux', alpha=0.8)\n",
    "\n",
    "        # True flux\n",
    "        true_counts = counts_true[composition].values\n",
    "        true_counts_err = np.sqrt(true_counts)\n",
    "\n",
    "        true_flux, true_flux_err = comp.get_flux(true_counts, true_counts_err,\n",
    "                                                energybins=energybins.energy_bins,\n",
    "                                                eff_area=eff_area[composition],\n",
    "                                                eff_area_err=eff_area_err[composition],\n",
    "                                                livetime=livetime, livetime_err=livetime_err, \n",
    "                                                solid_angle=solid_angle,\n",
    "                                                scalingindex=2.7)\n",
    "        \n",
    "        \n",
    "        ax_flux.errorbar(energybins.log_energy_midpoints, true_flux, yerr=true_flux_err,  \n",
    "                         color=color_dict[composition], ls='None', marker='*', \n",
    "                         label='True flux', alpha=0.8)\n",
    "\n",
    "        ax_flux.set_yscale(\"log\", nonposy='clip')\n",
    "        ax_flux.set_xlim(6.4, 7.8)\n",
    "        ax_flux.grid(linestyle='dotted', which=\"both\", lw=1)\n",
    "        ax_flux.legend(fontsize=8)\n",
    "        ax_flux.set_title(composition, fontsize=10)\n",
    "        if idx == 0:\n",
    "            ax_flux.set_ylabel('$\\mathrm{ E^{2.7} \\ J(E) \\ [GeV^{1.7} m^{-2} sr^{-1} s^{-1}]}$',\n",
    "                               fontsize=10)\n",
    "        else:\n",
    "            plt.setp(ax_flux.get_yticklabels(), visible=False)\n",
    "        plt.setp(ax_flux.get_xticklabels(), visible=False)\n",
    "        ax_flux.tick_params(axis='both', which='major', labelsize=10)\n",
    "        \n",
    "        \n",
    "        # Ratio plot\n",
    "        diff = flux - true_flux\n",
    "        # Error bar calculation\n",
    "        diff_err_sys = flux_err_sys\n",
    "        diff_err_stat = np.sqrt(flux_err_stat**2 + true_flux_err**2)\n",
    "        \n",
    "        frac_diff, frac_diff_sys = comp.ratio_error(diff, diff_err_sys, true_flux, np.zeros_like(true_flux))\n",
    "        frac_diff, frac_diff_stat = comp.ratio_error(diff, diff_err_stat, true_flux, true_flux_err)\n",
    "        \n",
    "        comp.plot_steps(energybins.log_energy_bins, frac_diff, yerr=frac_diff_sys,\n",
    "                            ax=ax_ratio, alpha=0.4, fillalpha=0.4,  \n",
    "                            color=color_dict[composition])\n",
    "        ax_ratio.errorbar(energybins.log_energy_midpoints, frac_diff, yerr=frac_diff_stat,  \n",
    "                          color=color_dict[composition], ls=':', marker='.', \n",
    "                          label=composition, alpha=0.8)\n",
    "        ax_ratio.axhline(0, ls='-.', lw=1, marker='None', color='k')\n",
    "\n",
    "        ax_ratio.grid(linestyle='dotted', which=\"both\", lw=1)\n",
    "        extraticks = np.arange(-1, 1.5, 0.25)\n",
    "        ax_ratio.set_yticks(extraticks)\n",
    "        ax_ratio.set_ylim(-1, 1)\n",
    "        if idx == 0:\n",
    "            ax_ratio.set_ylabel('$\\mathrm{(J_{unfolded} - J_{true}) / J_{true}}$',\n",
    "                                fontsize=10)\n",
    "        else:\n",
    "            plt.setp(ax_ratio.get_yticklabels(), visible=False)\n",
    "        ax_ratio.set_xlabel('$\\mathrm{\\log_{10}(E/GeV)}$', fontsize=10)\n",
    "        ax_ratio.tick_params(axis='both', which='major', labelsize=10)\n",
    "        \n",
    "    \n",
    "    plt.tight_layout()\n",
    "    flux_outfile = os.path.join(figures_dir, \n",
    "                                'flux_diff_grid_{}-groups_{}-prior.png'.format(num_groups, model_name))\n",
    "    comp.check_output_dir(flux_outfile)\n",
    "    plt.savefig(flux_outfile)\n",
    "    plt.show()"
   ]
  },
  {
   "cell_type": "code",
   "execution_count": null,
   "metadata": {
    "collapsed": true
   },
   "outputs": [],
   "source": []
  },
  {
   "cell_type": "code",
   "execution_count": null,
   "metadata": {
    "collapsed": true
   },
   "outputs": [],
   "source": []
  },
  {
   "cell_type": "code",
   "execution_count": null,
   "metadata": {
    "collapsed": true
   },
   "outputs": [],
   "source": []
  },
  {
   "cell_type": "code",
   "execution_count": null,
   "metadata": {
    "collapsed": true
   },
   "outputs": [],
   "source": []
  },
  {
   "cell_type": "code",
   "execution_count": 98,
   "metadata": {},
   "outputs": [
    {
     "name": "stdout",
     "output_type": "stream",
     "text": [
      "Jeffreys: 3 iterations\n"
     ]
    },
    {
     "data": {
      "image/png": "[encoded data removed]",
      "text/plain": [
       "<matplotlib.figure.Figure at 0x7ff5fe6c1f50>"
      ]
     },
     "metadata": {},
     "output_type": "display_data"
    }
   ],
   "source": [
    "for model_name in ['Jeffreys']:\n",
    "    fig, axarr = plt.subplots(2, 2, sharex=True, sharey=True)\n",
    "    print('{}: {} iterations'.format(model_name, df_unfolding_iter.shape[0]))\n",
    "\n",
    "    counts, counts_sys_err, counts_stat_err = unfolded_counts_dist(\n",
    "                                                df_unfolding_iter,\n",
    "                                                num_groups=num_groups)\n",
    "\n",
    "\n",
    "    flux_total, flux_total_err_sys = comp.analysis.get_flux(counts['total'], counts_sys_err['total'],\n",
    "                                                     energybins=energybins.energy_bins,\n",
    "                                                     eff_area=thrown_area,\n",
    "                                                     livetime=livetime, livetime_err=livetime_err, \n",
    "                                                     solid_angle=solid_angle)\n",
    "    flux_total, flux_total_err_stat = comp.analysis.get_flux(counts['total'], counts_stat_err['total'],\n",
    "                                                 energybins=energybins.energy_bins,\n",
    "                                                 eff_area=thrown_area,\n",
    "                                                 livetime=livetime, livetime_err=livetime_err, \n",
    "                                                 solid_angle=solid_angle)\n",
    "\n",
    "\n",
    "    for composition, ax in zip(comp_list, axarr.flatten()):\n",
    "\n",
    "        flux, flux_err_sys = comp.analysis.get_flux(\n",
    "                                        counts[composition], counts_sys_err[composition],\n",
    "                                        energybins=energybins.energy_bins,\n",
    "                                        eff_area=thrown_area,\n",
    "                                        livetime=livetime,\n",
    "                                        livetime_err=livetime_err, \n",
    "                                        solid_angle=solid_angle)\n",
    "        flux, flux_err_stat = comp.analysis.get_flux(\n",
    "                                        counts[composition], counts_stat_err[composition],\n",
    "                                        energybins=energybins.energy_bins,\n",
    "                                        eff_area=thrown_area,\n",
    "                                        livetime=livetime,\n",
    "                                        livetime_err=livetime_err, \n",
    "                                        solid_angle=solid_angle)\n",
    "\n",
    "        plotting.plot_steps(energybins.log_energy_bins, flux, yerr=flux_err_sys,\n",
    "                            ax=ax, alpha=0.4, fillalpha=0.4,  \n",
    "                            color=color_dict[composition])\n",
    "\n",
    "        ax.errorbar(energybins.log_energy_midpoints, flux, yerr=flux_err_stat,  \n",
    "                    color=color_dict[composition], ls='None', marker='.', \n",
    "                    label=composition + ' unfolded', alpha=0.8)\n",
    "\n",
    "        # True flux\n",
    "        true_counts = counts_true[composition].values\n",
    "        true_counts_err = np.sqrt(true_counts)\n",
    "\n",
    "        true_flux, true_flux_err = comp.analysis.get_flux(\n",
    "                                                true_counts, true_counts_err,\n",
    "                                                energybins=energybins.energy_bins,\n",
    "                                                eff_area=eff_area[composition],\n",
    "                                                eff_area_err=eff_area_err[composition],\n",
    "                                                livetime=livetime, livetime_err=livetime_err, \n",
    "                                                solid_angle=solid_angle)\n",
    "\n",
    "        ax.errorbar(energybins.log_energy_midpoints, true_flux, yerr=true_flux_err,  \n",
    "                    color=color_dict[composition], ls='None', marker='^', \n",
    "                    label=composition + ' true', alpha=0.8)\n",
    "\n",
    "        ax.set_yscale(\"log\", nonposy='clip')\n",
    "        ax.set_xlim(6.4, 7.8)\n",
    "#         ax.set_ylim([1e0, 7e3])\n",
    "\n",
    "        ax.grid(linestyle='dotted', which=\"both\", lw=1)\n",
    "        ax.legend(loc='upper right', ncol=1, fontsize=10)\n",
    "\n",
    "    fig.text(0.5, -0.01, '$\\mathrm{\\log_{10}(E/GeV)}$', ha='center')\n",
    "    fig.text(-0.01, 0.5, '$\\mathrm{ E^{2.7} \\ J(E) \\ [GeV^{1.7} m^{-2} sr^{-1} s^{-1}]}$',\n",
    "             va='center', rotation='vertical')\n",
    "\n",
    "    flux_outfile = os.path.join(figures_dir, \n",
    "                                'flux_grid_{}-groups_{}-prior.png'.format(num_groups, model_name))\n",
    "    comp.check_output_dir(flux_outfile)\n",
    "    plt.savefig(flux_outfile)\n",
    "    plt.show()"
   ]
  },
  {
   "cell_type": "code",
   "execution_count": 33,
   "metadata": {},
   "outputs": [
    {
     "name": "stdout",
     "output_type": "stream",
     "text": [
      "Jeffreys: 3 iterations\n"
     ]
    },
    {
     "data": {
      "image/png": "[encoded data removed]",
      "text/plain": [
       "<matplotlib.figure.Figure at 0x7ff5fc373e10>"
      ]
     },
     "metadata": {},
     "output_type": "display_data"
    }
   ],
   "source": [
    "for model_name in ['Jeffreys']:\n",
    "    fig, axarr = plt.subplots(2, 2, sharex=True, sharey=True)\n",
    "    print('{}: {} iterations'.format(model_name, df_unfolding_iter.shape[0]))\n",
    "\n",
    "    counts, counts_sys_err, counts_stat_err = unfolded_counts_dist(\n",
    "                                                df_unfolding_iter,\n",
    "                                                num_groups=num_groups)\n",
    "    for composition, ax in zip(comp_list, axarr.flatten()):\n",
    "\n",
    "        flux, flux_err_sys = comp.analysis.get_flux(counts[composition], counts_sys_err[composition],\n",
    "                                                     energybins=energybins.energy_bins,\n",
    "                                                     eff_area=thrown_area,\n",
    "                                                     livetime=livetime, livetime_err=livetime_err, \n",
    "                                                     solid_angle=solid_angle,\n",
    "                                                     scalingindex=1)\n",
    "        flux, flux_err_stat = comp.analysis.get_flux(counts[composition], counts_stat_err[composition],\n",
    "                                                     energybins=energybins.energy_bins,\n",
    "                                                     eff_area=thrown_area,\n",
    "                                                     livetime=livetime, livetime_err=livetime_err, \n",
    "                                                     solid_angle=solid_angle,\n",
    "                                                     scalingindex=1)\n",
    "\n",
    "        # True flux\n",
    "        true_counts = counts_true[composition].values\n",
    "        true_counts_err = np.sqrt(true_counts)\n",
    "\n",
    "        true_flux, true_flux_err = comp.analysis.get_flux(true_counts, true_counts_err,\n",
    "                                                energybins=energybins.energy_bins,\n",
    "                                                eff_area=eff_area[composition],\n",
    "                                                eff_area_err=eff_area_err[composition],\n",
    "                                                livetime=livetime, livetime_err=livetime_err, \n",
    "                                                solid_angle=solid_angle,\n",
    "                                                scalingindex=1)\n",
    "        \n",
    "        diff = flux - true_flux\n",
    "        # Error bar calculation\n",
    "        diff_err_sys = flux_err_sys\n",
    "        diff_err_stat = np.sqrt(flux_err_stat**2 + true_flux_err**2)\n",
    "        \n",
    "        frac_diff, frac_diff_sys = comp.ratio_error(diff, diff_err_sys, true_flux, np.zeros_like(true_flux))\n",
    "        frac_diff, frac_diff_stat = comp.ratio_error(diff, diff_err_stat, true_flux, true_flux_err)\n",
    "        \n",
    "        plotting.plot_steps(energybins.log_energy_bins, frac_diff, yerr=frac_diff_sys,\n",
    "                            ax=ax, alpha=0.4, fillalpha=0.4,  \n",
    "                            color=color_dict[composition])\n",
    "        ax.errorbar(energybins.log_energy_midpoints, frac_diff, yerr=frac_diff_stat,  \n",
    "                    color=color_dict[composition], ls=':', marker='^', \n",
    "                    label=composition, alpha=0.8)\n",
    "        ax.axhline(0, ls='-.', lw=1, marker='None', color='k')\n",
    "\n",
    "        ax.grid(linestyle='dotted', which=\"both\", lw=1)\n",
    "        ax.legend(loc='lower left', ncol=1, fontsize=10)\n",
    "        extraticks = np.arange(-1, 1.5, 0.5)\n",
    "        ax.set_yticks(extraticks)\n",
    "    \n",
    "    ax.set_xlim(6.4, 7.8)\n",
    "    ax.set_ylim(-1, 1)\n",
    "    fig.text(0.5, -0.01, '$\\mathrm{\\log_{10}(E/GeV)}$', ha='center',\n",
    "             fontsize=14)\n",
    "    fig.text(-0.02, 0.5, '(Unfolded flux - true flux) / true flux',\n",
    "             va='center', rotation='vertical', fontsize=14)\n",
    "    plt.tight_layout()\n",
    "\n",
    "#     flux_outfile = os.path.join(figures_dir, \n",
    "#                                 'flux_diff_grid_{}-groups_{}-prior.png'.format(num_groups, model_name))\n",
    "#     comp.check_output_dir(flux_outfile)\n",
    "#     plt.savefig(flux_outfile)\n",
    "    plt.show()"
   ]
  },
  {
   "cell_type": "code",
   "execution_count": null,
   "metadata": {
    "collapsed": true
   },
   "outputs": [],
   "source": []
  },
  {
   "cell_type": "code",
   "execution_count": null,
   "metadata": {
    "collapsed": true
   },
   "outputs": [],
   "source": []
  },
  {
   "cell_type": "code",
   "execution_count": null,
   "metadata": {
    "collapsed": true
   },
   "outputs": [],
   "source": []
  },
  {
   "cell_type": "code",
   "execution_count": null,
   "metadata": {
    "collapsed": true
   },
   "outputs": [],
   "source": []
  },
  {
   "cell_type": "code",
   "execution_count": null,
   "metadata": {
    "collapsed": true
   },
   "outputs": [],
   "source": []
  },
  {
   "cell_type": "code",
   "execution_count": 58,
   "metadata": {},
   "outputs": [
    {
     "name": "stderr",
     "output_type": "stream",
     "text": [
      "0% [##########] 100% | ETA: 00:00:00\n",
      "Total time elapsed: 00:01:12\n"
     ]
    }
   ],
   "source": [
    "frac_flux_diff, frac_flux_diff_stat, frac_flux_diff_sys = defaultdict(list), defaultdict(list), defaultdict(list)\n",
    "ts_stopping_list = np.linspace(0.01, 0.001, 10)\n",
    "for ts_stopping in pyprind.prog_bar(ts_stopping_list):\n",
    "    df_unfolding_iter = unfold(config_name=os.path.join(config, 'config.cfg'),\n",
    "                               priors='Jeffreys',\n",
    "                               input_file=root_file,\n",
    "                               ts_stopping=ts_stopping)\n",
    "    \n",
    "    counts, counts_sys_err, counts_stat_err = unfolded_counts_dist(\n",
    "                                                df_unfolding_iter,\n",
    "                                                num_groups=num_groups)\n",
    "\n",
    "    for composition in comp_list:\n",
    "\n",
    "        flux, flux_err_sys = comp.analysis.get_flux(counts[composition], counts_sys_err[composition],\n",
    "                                                     energybins=energybins.energy_bins,\n",
    "                                                     eff_area=thrown_area,\n",
    "                                                     livetime=livetime, livetime_err=livetime_err, \n",
    "                                                     solid_angle=solid_angle,\n",
    "                                                     scalingindex=1)\n",
    "        flux, flux_err_stat = comp.analysis.get_flux(counts[composition], counts_stat_err[composition],\n",
    "                                                     energybins=energybins.energy_bins,\n",
    "                                                     eff_area=thrown_area,\n",
    "                                                     livetime=livetime, livetime_err=livetime_err, \n",
    "                                                     solid_angle=solid_angle,\n",
    "                                                     scalingindex=1)\n",
    "\n",
    "        # True flux\n",
    "        true_counts = counts_true[composition].values\n",
    "        true_counts_err = np.sqrt(true_counts)\n",
    "\n",
    "        true_flux, true_flux_err = comp.analysis.get_flux(true_counts, true_counts_err,\n",
    "                                                energybins=energybins.energy_bins,\n",
    "                                                eff_area=eff_area[composition],\n",
    "                                                eff_area_err=eff_area_err[composition],\n",
    "                                                livetime=livetime, livetime_err=livetime_err, \n",
    "                                                solid_angle=solid_angle,\n",
    "                                                scalingindex=1)\n",
    "\n",
    "        diff = flux - true_flux\n",
    "        # Error bar calculation\n",
    "        diff_err_sys = flux_err_sys\n",
    "        diff_err_stat = np.sqrt(flux_err_stat**2 + true_flux_err**2)\n",
    "\n",
    "        frac_diff, frac_diff_sys = comp.ratio_error(diff, diff_err_sys, true_flux, np.zeros_like(true_flux))\n",
    "        frac_diff, frac_diff_stat = comp.ratio_error(diff, diff_err_stat, true_flux, true_flux_err)\n",
    "        \n",
    "        frac_flux_diff[composition].append(frac_diff)\n",
    "        frac_flux_diff_stat[composition].append(frac_diff_stat)\n",
    "        frac_flux_diff_sys[composition].append(frac_diff_sys)"
   ]
  },
  {
   "cell_type": "code",
   "execution_count": 59,
   "metadata": {
    "scrolled": false
   },
   "outputs": [
    {
     "data": {
      "image/png": "[encoded data removed]",
      "text/plain": [
       "<matplotlib.figure.Figure at 0x7fc72fbc2f10>"
      ]
     },
     "metadata": {},
     "output_type": "display_data"
    }
   ],
   "source": [
    "fig, axarr = plt.subplots(2, 2, sharex=True, sharey=True)\n",
    "\n",
    "color_dict_model = {}\n",
    "color_dict_model['PPlus'] = sns.color_palette('Blues', len(ts_stopping_list)+5).as_hex()[::-1]\n",
    "color_dict_model['O16Nucleus'] = sns.color_palette('Reds', len(ts_stopping_list)+5).as_hex()[::-1]\n",
    "color_dict_model['He4Nucleus'] = sns.color_palette('Purples', len(ts_stopping_list)+5).as_hex()[::-1]\n",
    "color_dict_model['Fe56Nucleus'] = sns.color_palette('Oranges', len(ts_stopping_list)+5).as_hex()[::-1]\n",
    "\n",
    "for composition, ax in zip(comp_list, axarr.flatten()):\n",
    "    for idx, (frac_diff, frac_diff_stat, frac_diff_sys) in enumerate(zip(frac_flux_diff[composition],\n",
    "                                                                         frac_flux_diff_stat[composition],\n",
    "                                                                         frac_flux_diff_sys[composition])):\n",
    "\n",
    "        ax.errorbar(energybins.log_energy_midpoints, frac_diff,\n",
    "                    yerr=frac_diff_stat, color=color_dict_model[composition][idx],\n",
    "                    ls=':', marker='.', \n",
    "                    label=composition if idx == len(ts_stopping_list)//2 else '',\n",
    "                    alpha=0.75)\n",
    "        plotting.plot_steps(energybins.log_energy_bins, frac_diff, yerr=frac_diff_sys,\n",
    "                            ax=ax, alpha=0.4, fillalpha=0.4,  \n",
    "                            color=color_dict_model[composition][idx])\n",
    "        ax.axhline(0, ls='-.', lw=1, marker='None', color='k')\n",
    "\n",
    "        ax.grid(linestyle='dotted', which=\"both\", lw=1)\n",
    "        ax.legend(loc='lower left', ncol=1, fontsize=10)\n",
    "        \n",
    "        extraticks = np.arange(-1, 1.25, 0.25)\n",
    "        ax.set_yticks(extraticks)\n",
    "\n",
    "    ax.set_xlim(6.4, 7.8)\n",
    "    ax.set_ylim(-1, 1)\n",
    "fig.text(0.5, -0.01, '$\\mathrm{\\log_{10}(E/GeV)}$',\n",
    "         ha='center', fontsize=14)\n",
    "fig.text(-0.02, 0.5, '(Unfolded flux - true flux) / true flux',\n",
    "         va='center', rotation='vertical', fontsize=14)\n",
    "plt.tight_layout()\n",
    "\n",
    "flux_compare_outfile = os.path.join(\n",
    "                        figures_dir, \n",
    "                        'flux_compare_grid_{}-groups_Jeffreys-prior.png'.format(num_groups))\n",
    "comp.check_output_dir(flux_compare_outfile)\n",
    "plt.savefig(flux_compare_outfile)\n",
    "plt.show()"
   ]
  },
  {
   "cell_type": "code",
   "execution_count": null,
   "metadata": {
    "collapsed": true
   },
   "outputs": [],
   "source": []
  },
  {
   "cell_type": "code",
   "execution_count": null,
   "metadata": {
    "collapsed": true
   },
   "outputs": [],
   "source": []
  },
  {
   "cell_type": "code",
   "execution_count": null,
   "metadata": {
    "collapsed": true
   },
   "outputs": [],
   "source": []
  },
  {
   "cell_type": "code",
   "execution_count": null,
   "metadata": {
    "collapsed": true
   },
   "outputs": [],
   "source": []
  }
 ],
 "metadata": {
  "kernelspec": {
   "display_name": "Python 2",
   "language": "python",
   "name": "python2"
  },
  "language_info": {
   "codemirror_mode": {
    "name": "ipython",
    "version": 2
   },
   "file_extension": ".py",
   "mimetype": "text/x-python",
   "name": "python",
   "nbconvert_exporter": "python",
   "pygments_lexer": "ipython2",
   "version": "2.7.13"
  }
 },
 "nbformat": 4,
 "nbformat_minor": 2
}
