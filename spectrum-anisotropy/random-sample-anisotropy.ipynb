{
 "cells": [
  {
   "cell_type": "markdown",
   "metadata": {},
   "source": [
    "# Cosmic-ray flux vs. sky position"
   ]
  },
  {
   "cell_type": "code",
   "execution_count": 1,
   "metadata": {},
   "outputs": [
    {
     "name": "stdout",
     "output_type": "stream",
     "text": [
      "last updated: 2018-08-22 \n",
      "\n",
      "CPython 2.7.13\n",
      "IPython 5.7.0\n",
      "\n",
      "numpy 1.14.5\n",
      "scipy 1.1.0\n",
      "pandas 0.23.1\n",
      "sklearn 0.19.1\n",
      "mlxtend 0.12.0\n"
     ]
    }
   ],
   "source": [
    "%load_ext watermark\n",
    "%watermark -u -d -v -p numpy,scipy,pandas,sklearn,mlxtend"
   ]
  },
  {
   "cell_type": "code",
   "execution_count": 2,
   "metadata": {},
   "outputs": [],
   "source": [
    "%load_ext autoreload\n",
    "%autoreload 2"
   ]
  },
  {
   "cell_type": "code",
   "execution_count": 3,
   "metadata": {},
   "outputs": [],
   "source": [
    "from __future__ import division, print_function\n",
    "import os\n",
    "import sys\n",
    "from numbers import Number\n",
    "import numpy as np\n",
    "import pandas as pd\n",
    "import healpy as hp\n",
    "import matplotlib.pyplot as plt\n",
    "from matplotlib.ticker import FormatStrFormatter\n",
    "import seaborn as sns\n",
    "import dask\n",
    "from dask import delayed, compute\n",
    "from dask.diagnostics import ProgressBar\n",
    "import dask.array as da\n",
    "import pyunfold\n",
    "\n",
    "import comptools as comp\n",
    "import sky_anisotropy as sa\n",
    "\n",
    "color_dict = comp.color_dict\n",
    "\n",
    "sns.set_context(context='paper', font_scale=1.5)\n",
    "\n",
    "%matplotlib inline"
   ]
  },
  {
   "cell_type": "code",
   "execution_count": 4,
   "metadata": {},
   "outputs": [],
   "source": [
    "config = 'IC86.2012'\n",
    "num_groups = 2\n",
    "\n",
    "comp_list = comp.get_comp_list(num_groups=num_groups)\n",
    "analysis_bins = comp.get_bins(config=config, num_groups=num_groups)\n",
    "energybins = comp.get_energybins(config)\n",
    "num_ebins = len(energybins.log_energy_midpoints)\n",
    "\n",
    "unfolding_dir  = os.path.join(comp.paths.comp_data_dir,\n",
    "                              config,\n",
    "                              'unfolding')"
   ]
  },
  {
   "cell_type": "code",
   "execution_count": 5,
   "metadata": {},
   "outputs": [],
   "source": [
    "feature_list, feature_labels = comp.get_training_features()"
   ]
  },
  {
   "cell_type": "code",
   "execution_count": 6,
   "metadata": {},
   "outputs": [],
   "source": [
    "energy_pipeline_name = 'linearregression'\n",
    "# energy_pipeline_name = 'RF'\n",
    "energy_pipeline = comp.load_trained_model('{}_energy_{}'.format(energy_pipeline_name, config))"
   ]
  },
  {
   "cell_type": "code",
   "execution_count": 7,
   "metadata": {},
   "outputs": [],
   "source": [
    "# pipeline_str = 'SGD_comp_{}_{}-groups'.format(config, num_groups)\n",
    "pipeline_str = 'xgboost_comp_{}_{}-groups'.format(config, num_groups)\n",
    "comp_pipeline = comp.load_trained_model(pipeline_str)"
   ]
  },
  {
   "cell_type": "code",
   "execution_count": 8,
   "metadata": {},
   "outputs": [],
   "source": [
    "# print('Loading data into memory...')\n",
    "# df_data = comp.load_data(config=config,\n",
    "#                          energy_reco=True,\n",
    "#                          log_energy_min=6.1,\n",
    "#                          log_energy_max=8.0,\n",
    "#                          columns=feature_list + ['lap_ra', 'lap_dec'],\n",
    "#                          n_jobs=20,\n",
    "#                          verbose=True)"
   ]
  },
  {
   "cell_type": "code",
   "execution_count": 9,
   "metadata": {},
   "outputs": [],
   "source": [
    "# df_data.to_hdf('data_dataframe.hdf', 'dataframe', format='table')"
   ]
  },
  {
   "cell_type": "code",
   "execution_count": 10,
   "metadata": {},
   "outputs": [],
   "source": [
    "df_data = pd.read_hdf('data_dataframe.hdf', 'dataframe', mode='r')"
   ]
  },
  {
   "cell_type": "code",
   "execution_count": 11,
   "metadata": {},
   "outputs": [
    {
     "name": "stdout",
     "output_type": "stream",
     "text": [
      "Running energy reconstruction...\n"
     ]
    }
   ],
   "source": [
    "print('Running energy reconstruction...')\n",
    "df_data['reco_log_energy'] = energy_pipeline.predict(df_data[feature_list].values)\n",
    "df_data['reco_energy'] = 10**df_data['reco_log_energy']"
   ]
  },
  {
   "cell_type": "code",
   "execution_count": 12,
   "metadata": {},
   "outputs": [
    {
     "data": {
      "text/plain": [
       "dask.array<array, shape=(6960257, 3), dtype=float64, chunksize=(10000, 3)>"
      ]
     },
     "execution_count": 12,
     "metadata": {},
     "output_type": "execute_result"
    }
   ],
   "source": [
    "import dask.array as da\n",
    "\n",
    "X_data = da.from_array(df_data[feature_list].values, chunks=int(1e4))\n",
    "X_data"
   ]
  },
  {
   "cell_type": "code",
   "execution_count": 13,
   "metadata": {},
   "outputs": [],
   "source": [
    "from dask_ml.wrappers import ParallelPostFit\n",
    "from dask.diagnostics import ProgressBar\n",
    "\n",
    "pred_comp_target = ParallelPostFit(comp_pipeline).predict(X_data)\n",
    "reco_log_energy = ParallelPostFit(energy_pipeline).predict(X_data)"
   ]
  },
  {
   "cell_type": "code",
   "execution_count": 14,
   "metadata": {},
   "outputs": [
    {
     "name": "stdout",
     "output_type": "stream",
     "text": [
      "Running composition classifications...\n",
      "[########################################] | 100% Completed | 28.3s\n",
      "[########################################] | 100% Completed |  0.1s\n"
     ]
    }
   ],
   "source": [
    "import warnings\n",
    "\n",
    "with ProgressBar() as _, warnings.catch_warnings() as _:\n",
    "    warnings.simplefilter(\"ignore\") # Wan to ignore xgboost DeprecationWarning\n",
    "    print('Running composition classifications...')\n",
    "#     df_data['pred_comp_target'] = pred_comp_target.compute(scheduler='threads', \n",
    "#                                                            num_workers=20)\n",
    "    df_data['pred_comp_target'] = pred_comp_target.compute(scheduler='sync', num_workers=1)"
   ]
  },
  {
   "cell_type": "markdown",
   "metadata": {},
   "source": [
    "## Cosmic-ray flux vs. sky position"
   ]
  },
  {
   "cell_type": "markdown",
   "metadata": {},
   "source": [
    "### Sample on/off regions"
   ]
  },
  {
   "cell_type": "code",
   "execution_count": 15,
   "metadata": {},
   "outputs": [],
   "source": [
    "import sky_anisotropy as sa\n",
    "from scipy import stats\n",
    "from scipy.special import erfcinv"
   ]
  },
  {
   "cell_type": "code",
   "execution_count": 16,
   "metadata": {},
   "outputs": [],
   "source": [
    "nside = 64\n",
    "npix = hp.nside2npix(nside)"
   ]
  },
  {
   "cell_type": "markdown",
   "metadata": {},
   "source": [
    "### Spectrum anisotropy skymap"
   ]
  },
  {
   "cell_type": "code",
   "execution_count": 19,
   "metadata": {},
   "outputs": [],
   "source": [
    "def unfolding_func(counts, composition='total'):\n",
    "    original_shape = counts.shape\n",
    "    counts_err = np.sqrt(counts)\n",
    "\n",
    "    counts_total = counts.sum(axis=1)\n",
    "    counts_err_total = np.sqrt(np.sum(counts_err**2, axis=1))\n",
    "\n",
    "    unfolding_energy_range_mask = np.logical_and(energybins.log_energy_midpoints >= 6.4,\n",
    "                                                 energybins.log_energy_midpoints <= 7.8)\n",
    "\n",
    "\n",
    "    return counts_total[unfolding_energy_range_mask], counts_err_total[unfolding_energy_range_mask]"
   ]
  },
  {
   "cell_type": "code",
   "execution_count": 20,
   "metadata": {},
   "outputs": [],
   "source": [
    "import pyprind"
   ]
  },
  {
   "cell_type": "code",
   "execution_count": 22,
   "metadata": {},
   "outputs": [
    {
     "name": "stderr",
     "output_type": "stream",
     "text": [
      "0% [####################] 100% | ETA: 00:00:00\n",
      "Total time elapsed: 00:06:53\n"
     ]
    }
   ],
   "source": [
    "sig_max = []\n",
    "n_samples = 20\n",
    "for idx in pyprind.prog_bar(range(n_samples)):\n",
    "    random_state = idx\n",
    "    ra = df_data.loc[:, 'lap_ra'].sample(frac=1.0, random_state=random_state).values\n",
    "    dec = df_data.loc[:, 'lap_dec'].values\n",
    "\n",
    "    theta, phi = comp.equatorial_to_healpy(ra, dec)\n",
    "\n",
    "    pix_array = hp.ang2pix(nside, theta, phi)\n",
    "    df_data['pix'] = pix_array\n",
    "\n",
    "    theta, phi = hp.pix2ang(nside, list(range(npix)))\n",
    "    ra, dec = sa.healpy_to_equatorial(theta, phi)\n",
    "\n",
    "    dec_max_deg = -65\n",
    "    size = np.deg2rad(5)\n",
    "    on_region = 'disc'\n",
    "    off_region = 'theta_band'\n",
    "    with_unfolding = False\n",
    "\n",
    "    has_data = dec < np.deg2rad(dec_max_deg)\n",
    "    if off_region == 'theta_band':\n",
    "        has_data = has_data & (dec > np.deg2rad(-90) + size)\n",
    "\n",
    "    pix_disc = np.arange(npix)[has_data]\n",
    "\n",
    "    data = df_data.loc[:, ['reco_log_energy', 'pred_comp_target']].values\n",
    "    pix = df_data.loc[:, 'pix'].values\n",
    "\n",
    "    binned_skymaps = sa.binned_skymaps(data=data,\n",
    "                                       pix=pix,\n",
    "                                       bins=analysis_bins,\n",
    "                                       nside=nside)\n",
    "\n",
    "    with dask.config.set(scheduler='sync', num_workers=1):   \n",
    "        results = sa.on_off_chi_squared(binned_maps=binned_skymaps,\n",
    "                                        pix_center=pix_disc,\n",
    "                                        on_region=on_region,\n",
    "                                        size=size,\n",
    "                                        off_region=off_region,\n",
    "                                        nside=nside,\n",
    "                                        hist_func=unfolding_func,\n",
    "                                        )\n",
    "    \n",
    "    dof = 13\n",
    "    pval = stats.chi2.sf(results['chi2'], dof)\n",
    "    sig = erfcinv(2 * pval) * np.sqrt(2)\n",
    "    sig_max.append(sig.max())"
   ]
  },
  {
   "cell_type": "code",
   "execution_count": 23,
   "metadata": {},
   "outputs": [
    {
     "data": {
      "text/plain": [
       "[3.829216883459315,\n",
       " 3.2139315434755837,\n",
       " 4.795585355272075,\n",
       " 3.575490052790196,\n",
       " 4.112490934464494,\n",
       " 3.6194334010442084,\n",
       " 4.019609610687242,\n",
       " 3.4147847006173735,\n",
       " 4.1031648482459415,\n",
       " 3.280313229534489,\n",
       " 4.017651885414452,\n",
       " 3.7290561287029416,\n",
       " 3.630777053945339,\n",
       " 4.5771151205854155,\n",
       " 6.244553706498697,\n",
       " 3.76678918664466,\n",
       " 3.695129605106175,\n",
       " 3.2147816760650576,\n",
       " 3.769250686723711,\n",
       " 3.7661486902705428]"
      ]
     },
     "execution_count": 23,
     "metadata": {},
     "output_type": "execute_result"
    }
   ],
   "source": [
    "sig_max"
   ]
  },
  {
   "cell_type": "code",
   "execution_count": 24,
   "metadata": {},
   "outputs": [],
   "source": [
    "sig_max = np.array(sig_max)"
   ]
  },
  {
   "cell_type": "code",
   "execution_count": 25,
   "metadata": {},
   "outputs": [
    {
     "data": {
      "text/plain": [
       "array([3.82921688, 3.21393154, 4.79558536, 3.57549005, 4.11249093,\n",
       "       3.6194334 , 4.01960961, 3.4147847 , 4.10316485, 3.28031323,\n",
       "       4.01765189, 3.72905613, 3.63077705, 4.57711512, 6.24455371,\n",
       "       3.76678919, 3.69512961, 3.21478168, 3.76925069, 3.76614869])"
      ]
     },
     "execution_count": 25,
     "metadata": {},
     "output_type": "execute_result"
    }
   ],
   "source": [
    "sig_max"
   ]
  },
  {
   "cell_type": "code",
   "execution_count": 77,
   "metadata": {},
   "outputs": [
    {
     "name": "stdout",
     "output_type": "stream",
     "text": [
      "outdir = /home/jbourbeau/cr-composition/spectrum-anisotropy/results/pre-unfolding\n"
     ]
    }
   ],
   "source": [
    "outdir = os.path.join(os.getcwd(),\n",
    "                      'results',\n",
    "                      'unfolded' if with_unfolding else 'pre-unfolding')\n",
    "print('outdir = {}'.format(outdir))"
   ]
  },
  {
   "cell_type": "code",
   "execution_count": null,
   "metadata": {},
   "outputs": [],
   "source": []
  },
  {
   "cell_type": "code",
   "execution_count": null,
   "metadata": {},
   "outputs": [],
   "source": []
  },
  {
   "cell_type": "code",
   "execution_count": null,
   "metadata": {},
   "outputs": [],
   "source": []
  },
  {
   "cell_type": "code",
   "execution_count": null,
   "metadata": {},
   "outputs": [],
   "source": []
  },
  {
   "cell_type": "code",
   "execution_count": null,
   "metadata": {},
   "outputs": [],
   "source": []
  },
  {
   "cell_type": "code",
   "execution_count": 33,
   "metadata": {},
   "outputs": [],
   "source": [
    "def calculate_local_sigma(df, nside=64, bins=None, random_state=None):\n",
    "    \n",
    "    if bins is None:\n",
    "        raise ValueError('bins cannot be None')\n",
    "        \n",
    "    if random_state is None:\n",
    "        ra = df.loc[:, 'lap_ra'].values\n",
    "    else:\n",
    "        ra = df.loc[:, 'lap_ra'].sample(frac=1.0, random_state=random_state).values\n",
    "    dec = df.loc[:, 'lap_dec'].values\n",
    "\n",
    "    theta, phi = comp.equatorial_to_healpy(ra, dec)\n",
    "    pix_array = hp.ang2pix(nside, theta, phi)\n",
    "    df['pix'] = pix_array\n",
    "    \n",
    "    npix = hp.nside2npix(nside)\n",
    "    map_pix = np.arange(npix)\n",
    "    theta, phi = hp.pix2ang(nside, map_pix)\n",
    "    ra, dec = sa.healpy_to_equatorial(theta, phi)\n",
    "\n",
    "    dec_max_deg = -65\n",
    "    size = np.deg2rad(5)\n",
    "    on_region = 'disc'\n",
    "    off_region = 'theta_band'\n",
    "    with_unfolding = False\n",
    "\n",
    "    has_data = dec < np.deg2rad(dec_max_deg)\n",
    "    if off_region == 'theta_band':\n",
    "        has_data = has_data & (dec > np.deg2rad(-90) + size)\n",
    "\n",
    "    pix_disc = map_pix[has_data]\n",
    "\n",
    "    data = df.loc[:, ['reco_log_energy', 'pred_comp_target']].values\n",
    "    pix = df.loc[:, 'pix'].values\n",
    "\n",
    "    binned_skymaps = sa.binned_skymaps(data=data,\n",
    "                                       pix=pix,\n",
    "                                       bins=bins,\n",
    "                                       nside=nside)\n",
    "\n",
    "    with dask.config.set(scheduler='sync', num_workers=1):   \n",
    "        results = sa.on_off_chi_squared(binned_maps=binned_skymaps,\n",
    "                                        pix_center=pix_disc,\n",
    "                                        on_region=on_region,\n",
    "                                        size=size,\n",
    "                                        off_region=off_region,\n",
    "                                        nside=nside,\n",
    "                                        hist_func=unfolding_func,\n",
    "                                        )\n",
    "    \n",
    "    dof = 13\n",
    "    pval = stats.chi2.sf(results['chi2'], dof)\n",
    "    sig = erfcinv(2 * pval) * np.sqrt(2)\n",
    "    \n",
    "    return sig.max()"
   ]
  },
  {
   "cell_type": "code",
   "execution_count": 34,
   "metadata": {},
   "outputs": [
    {
     "data": {
      "text/plain": [
       "3.575490052790196"
      ]
     },
     "execution_count": 34,
     "metadata": {},
     "output_type": "execute_result"
    }
   ],
   "source": [
    "calculate_local_sigma(df=df_data, nside=nside, bins=analysis_bins, random_state=3)"
   ]
  },
  {
   "cell_type": "code",
   "execution_count": 31,
   "metadata": {},
   "outputs": [],
   "source": [
    "sig_max = np.array([calculate_local_sigma(df=df_data, nside=nside, bins=analysis_bins, random_state=i) for i in range(2)])"
   ]
  },
  {
   "cell_type": "code",
   "execution_count": 32,
   "metadata": {},
   "outputs": [
    {
     "data": {
      "text/plain": [
       "array([3.82921688, 3.21393154])"
      ]
     },
     "execution_count": 32,
     "metadata": {},
     "output_type": "execute_result"
    }
   ],
   "source": [
    "sig_max"
   ]
  },
  {
   "cell_type": "code",
   "execution_count": null,
   "metadata": {},
   "outputs": [],
   "source": []
  }
 ],
 "metadata": {
  "kernelspec": {
   "display_name": "Python 2",
   "language": "python",
   "name": "python2"
  },
  "language_info": {
   "codemirror_mode": {
    "name": "ipython",
    "version": 2
   },
   "file_extension": ".py",
   "mimetype": "text/x-python",
   "name": "python",
   "nbconvert_exporter": "python",
   "pygments_lexer": "ipython2",
   "version": "2.7.13"
  }
 },
 "nbformat": 4,
 "nbformat_minor": 2
}
