{
 "cells": [
  {
   "cell_type": "code",
   "execution_count": 1,
   "metadata": {},
   "outputs": [
    {
     "name": "stderr",
     "output_type": "stream",
     "text": [
      "/data/user/jbourbeau/virtualenv/cr-composition_el7/lib/python2.7/site-packages/seaborn/apionly.py:6: UserWarning: As seaborn no longer sets a default style on import, the seaborn.apionly module is deprecated. It will be removed in a future version.\n",
      "  warnings.warn(msg, UserWarning)\n"
     ]
    }
   ],
   "source": [
    "from __future__ import division, print_function\n",
    "import os\n",
    "import sys\n",
    "from numbers import Number\n",
    "import numpy as np\n",
    "import pandas as pd\n",
    "import healpy as hp\n",
    "import matplotlib.pyplot as plt\n",
    "from matplotlib.ticker import FormatStrFormatter\n",
    "import seaborn as sns\n",
    "from dask import delayed, compute\n",
    "from dask.diagnostics import ProgressBar\n",
    "import dask.array as da\n",
    "import pyunfold\n",
    "\n",
    "from icecube import astro\n",
    "\n",
    "import comptools as comp\n",
    "import sky_anisotropy as sa\n",
    "\n",
    "color_dict = comp.color_dict\n",
    "\n",
    "%matplotlib inline"
   ]
  },
  {
   "cell_type": "code",
   "execution_count": 2,
   "metadata": {},
   "outputs": [],
   "source": [
    "%load_ext line_profiler"
   ]
  },
  {
   "cell_type": "code",
   "execution_count": 3,
   "metadata": {},
   "outputs": [],
   "source": [
    "from dask.distributed import Client, LocalCluster"
   ]
  },
  {
   "cell_type": "code",
   "execution_count": 4,
   "metadata": {},
   "outputs": [],
   "source": [
    "cluster = LocalCluster(n_workers=5, threads_per_worker=5, diagnostics_port=8787)\n",
    "client = Client(cluster)"
   ]
  },
  {
   "cell_type": "code",
   "execution_count": 5,
   "metadata": {},
   "outputs": [
    {
     "data": {
      "text/html": [
       "<table style=\"border: 2px solid white;\">\n",
       "<tr>\n",
       "<td style=\"vertical-align: top; border: 0px solid white\">\n",
       "<h3>Client</h3>\n",
       "<ul>\n",
       "  <li><b>Scheduler: </b>tcp://127.0.0.1:45813\n",
       "  <li><b>Dashboard: </b><a href='http://127.0.0.1:45446/status' target='_blank'>http://127.0.0.1:45446/status</a>\n",
       "</ul>\n",
       "</td>\n",
       "<td style=\"vertical-align: top; border: 0px solid white\">\n",
       "<h3>Cluster</h3>\n",
       "<ul>\n",
       "  <li><b>Workers: </b>5</li>\n",
       "  <li><b>Cores: </b>25</li>\n",
       "  <li><b>Memory: </b>26.14 GB</li>\n",
       "</ul>\n",
       "</td>\n",
       "</tr>\n",
       "</table>"
      ],
      "text/plain": [
       "<Client: scheduler='tcp://127.0.0.1:45813' processes=5 cores=25>"
      ]
     },
     "execution_count": 5,
     "metadata": {},
     "output_type": "execute_result"
    }
   ],
   "source": [
    "client"
   ]
  },
  {
   "cell_type": "code",
   "execution_count": 7,
   "metadata": {},
   "outputs": [],
   "source": [
    "config = 'IC86.2012'\n",
    "num_groups = 2\n",
    "\n",
    "comp_list = comp.get_comp_list(num_groups=num_groups)\n",
    "energybins = comp.get_energybins(config)\n",
    "num_ebins = len(energybins.log_energy_midpoints)"
   ]
  },
  {
   "cell_type": "code",
   "execution_count": 8,
   "metadata": {},
   "outputs": [],
   "source": [
    "feature_list, feature_labels = comp.get_training_features()"
   ]
  },
  {
   "cell_type": "code",
   "execution_count": null,
   "metadata": {},
   "outputs": [
    {
     "name": "stdout",
     "output_type": "stream",
     "text": [
      "Loading data into memory...\n"
     ]
    }
   ],
   "source": [
    "print('Loading data into memory...')\n",
    "df_data = comp.load_data(config=config,\n",
    "                         energy_reco=True,\n",
    "                         log_energy_min=6.1,\n",
    "                         log_energy_max=8.0,\n",
    "#                          columns=['start_time_mjd', 'lap_ra', 'lap_dec'],\n",
    "                         columns=feature_list + ['start_time_mjd', 'lap_ra', 'lap_dec'],\n",
    "                         n_jobs=None,\n",
    "                         verbose=True)"
   ]
  },
  {
   "cell_type": "code",
   "execution_count": 103,
   "metadata": {},
   "outputs": [
    {
     "data": {
      "text/plain": [
       "array([[ 1.99483155, -1.32342388],\n",
       "       [ 2.36813548, -1.08170764],\n",
       "       [ 3.78556748, -1.17676562],\n",
       "       [ 5.90600101, -1.27144041],\n",
       "       [ 4.71149746, -1.23404052],\n",
       "       [ 5.16640096, -1.22737469],\n",
       "       [ 2.37528744, -1.42057519],\n",
       "       [ 5.36860618, -1.29641703],\n",
       "       [ 0.53741855, -1.54191018],\n",
       "       [ 5.01993018, -1.40907366]])"
      ]
     },
     "execution_count": 103,
     "metadata": {},
     "output_type": "execute_result"
    }
   ],
   "source": [
    "stacked = np.hstack((zenith[:10, None], azimuth[:10, None]))\n",
    "stacked"
   ]
  },
  {
   "cell_type": "code",
   "execution_count": 113,
   "metadata": {},
   "outputs": [
    {
     "name": "stdout",
     "output_type": "stream",
     "text": [
      "[1.99483155 2.36813548 3.78556748] [-1.32342388 -1.08170764 -1.17676562]\n",
      "[5.90600101 4.71149746 5.16640096] [-1.27144041 -1.23404052 -1.22737469]\n",
      "[2.37528744 5.36860618] [-1.42057519 -1.29641703]\n",
      "[0.53741855 5.01993018] [-1.54191018 -1.40907366]\n"
     ]
    }
   ],
   "source": [
    "for i in np.array_split(stacked, 4):\n",
    "    print(i[:, 0], i[:, 1])"
   ]
  },
  {
   "cell_type": "code",
   "execution_count": 133,
   "metadata": {},
   "outputs": [],
   "source": [
    "def make_reference_skymap(zenith, azimuth, time, num_resamples=20, nside=64, random_state=2, verbose=False):\n",
    "    \n",
    "    np.random.seed(random_state)\n",
    "    \n",
    "#     assert len(set([zenith.shape, azimuth.shape, time.shape])) == 1\n",
    "    \n",
    "    stacked = np.hstack((zenith[:, None], azimuth[:, None]))\n",
    "    print(stacked.shape)\n",
    "    \n",
    "    batches = min(1000, len(stacked) / 10)\n",
    "    pix_indices = [delayed(get_pixel_values)(i[:, 0], i[:, 1], time, num_resamples=num_resamples, nside=nside, random_state=random_state, verbose=verbose)\n",
    "                   for i in np.array_split(stacked, 50)]\n",
    "    with ProgressBar():\n",
    "        pix_indices = compute(*pix_indices)\n",
    "    pix_indices = np.asarray(pix_indices).flatten()\n",
    "\n",
    "    npix = hp.nside2npix(nside)\n",
    "    reference_map = np.zeros(npix, dtype=float)\n",
    "    print(pix_indices.shape)\n",
    "    reference_map[pix_indices] += 1\n",
    "\n",
    "    return reference_map\n",
    "\n",
    "\n",
    "def get_pixel_values(zenith, azimuth, time, num_resamples=20, nside=64, random_state=2, verbose=False):\n",
    "    npix = hp.nside2npix(nside)\n",
    "    reference_map = np.zeros(npix, dtype=float)\n",
    "    pix_indices = []\n",
    "    for local_zenith, local_azimuth in zip(zenith, azimuth):\n",
    "        # Reference skymap\n",
    "        rand_times = np.random.choice(time, size=num_resamples)\n",
    "\n",
    "        ra, dec = astro.dir_to_equa(local_zenith, local_azimuth, rand_times)\n",
    "        theta, phi = sa.equatorial_to_healpy(ra, dec)\n",
    "        pix = hp.ang2pix(nside, theta, phi)\n",
    "        pix_indices.append(pix)\n",
    "        \n",
    "    return np.array(pix_indices).flatten()"
   ]
  },
  {
   "cell_type": "code",
   "execution_count": 134,
   "metadata": {},
   "outputs": [],
   "source": [
    "zenith = df_data['lap_ra'].values\n",
    "azimuth = df_data['lap_dec'].values\n",
    "time = df_data['start_time_mjd'].values"
   ]
  },
  {
   "cell_type": "code",
   "execution_count": 142,
   "metadata": {},
   "outputs": [
    {
     "name": "stdout",
     "output_type": "stream",
     "text": [
      "(1000, 2)\n",
      "(1000,)\n"
     ]
    }
   ],
   "source": [
    "time_future = client.scatter(time)\n",
    "reference_map = make_reference_skymap(zenith[:1000], azimuth[:1000], time_future,\n",
    "                                      num_resamples=1,\n",
    "                                      random_state=4)"
   ]
  },
  {
   "cell_type": "code",
   "execution_count": 143,
   "metadata": {},
   "outputs": [
    {
     "data": {
      "text/plain": [
       "975.0"
      ]
     },
     "execution_count": 143,
     "metadata": {},
     "output_type": "execute_result"
    }
   ],
   "source": [
    "reference_map.sum()"
   ]
  },
  {
   "cell_type": "code",
   "execution_count": 121,
   "metadata": {},
   "outputs": [
    {
     "data": {
      "text/plain": [
       "array([[ 1.99483155, -1.32342388],\n",
       "       [ 2.36813548, -1.08170764],\n",
       "       [ 3.78556748, -1.17676562],\n",
       "       ...,\n",
       "       [ 6.01759998, -1.36413852],\n",
       "       [ 1.35561904, -1.18228258],\n",
       "       [ 5.32648   , -1.30117913]])"
      ]
     },
     "execution_count": 121,
     "metadata": {},
     "output_type": "execute_result"
    }
   ],
   "source": [
    "stacked = np.hstack((zenith[:1000000, None], azimuth[:1000000, None]))\n",
    "stacked"
   ]
  },
  {
   "cell_type": "code",
   "execution_count": 75,
   "metadata": {},
   "outputs": [],
   "source": [
    "time_future = client.scatter(time)\n",
    "futures = []\n",
    "for i in np.array_split(stacked, 1000):\n",
    "    z = i[:, 0]\n",
    "    a = i[:, 1]\n",
    "    f = client.submit(get_pixel_values, z, a, time_future,\n",
    "                      num_resamples=1,\n",
    "                      random_state=idx)\n",
    "    futures.append(f)"
   ]
  },
  {
   "cell_type": "code",
   "execution_count": 44,
   "metadata": {},
   "outputs": [],
   "source": [
    "time_future = client.scatter(time)\n",
    "pixels_future = client.submit(get_pixel_values, zenith[:1000], azimuth[:1000], time_future,\n",
    "                              num_resamples=1,\n",
    "                              random_state=2000)"
   ]
  },
  {
   "cell_type": "code",
   "execution_count": 73,
   "metadata": {},
   "outputs": [
    {
     "data": {
      "text/plain": [
       "array([14218,  7299,  5011, ...,  7077, 39430,  2512])"
      ]
     },
     "execution_count": 73,
     "metadata": {},
     "output_type": "execute_result"
    }
   ],
   "source": [
    "np.array(client.gather(futures)).flatten()"
   ]
  },
  {
   "cell_type": "code",
   "execution_count": 37,
   "metadata": {},
   "outputs": [],
   "source": [
    "del p"
   ]
  },
  {
   "cell_type": "code",
   "execution_count": 52,
   "metadata": {},
   "outputs": [
    {
     "data": {
      "text/plain": [
       "Timer unit: 1e-06 s\n",
       "\n",
       "Total time: 0.114654 s\n",
       "File: <ipython-input-48-7ad2cd282a81>\n",
       "Function: make_reference_skymap at line 1\n",
       "\n",
       "Line #      Hits         Time  Per Hit   % Time  Line Contents\n",
       "==============================================================\n",
       "     1                                           def make_reference_skymap(zenith, azimuth, time, num_resamples=20, nside=64, random_state=2, verbose=False):\n",
       "     2                                               \n",
       "     3         1         10.0     10.0      0.0      np.random.seed(random_state)\n",
       "     4                                               \n",
       "     5                                           #     assert len(set([zenith.shape, azimuth.shape, time.shape])) == 1\n",
       "     6                                               \n",
       "     7                                               \n",
       "     8         1     114519.0 114519.0     99.9      pix_indices = get_pixel_values(zenith, azimuth, time, num_resamples=num_resamples, nside=nside, random_state=random_state, verbose=verbose)\n",
       "     9         1          3.0      3.0      0.0      npix = hp.nside2npix(nside)\n",
       "    10         1         36.0     36.0      0.0      reference_map = np.zeros(npix, dtype=float)\n",
       "    11         1         85.0     85.0      0.1      reference_map[pix_indices] += 1\n",
       "    12                                           \n",
       "    13         1          1.0      1.0      0.0      return reference_map\n",
       "\n",
       "Total time: 0.113824 s\n",
       "File: <ipython-input-48-7ad2cd282a81>\n",
       "Function: get_pixel_values at line 16\n",
       "\n",
       "Line #      Hits         Time  Per Hit   % Time  Line Contents\n",
       "==============================================================\n",
       "    16                                           def get_pixel_values(zenith, azimuth, time, num_resamples=20, nside=64, random_state=2, verbose=False):\n",
       "    17         1          4.0      4.0      0.0      npix = hp.nside2npix(nside)\n",
       "    18         1         46.0     46.0      0.0      reference_map = np.zeros(npix, dtype=float)\n",
       "    19         1          1.0      1.0      0.0      pix_indices = []\n",
       "    20       101        127.0      1.3      0.1      for local_zenith, local_azimuth in zip(zenith, azimuth):\n",
       "    21                                                   # Reference skymap\n",
       "    22       100       4104.0     41.0      3.6          rand_times = np.random.choice(time, size=num_resamples)\n",
       "    23                                           \n",
       "    24       100     102705.0   1027.0     90.2          ra, dec = astro.dir_to_equa(local_zenith, local_azimuth, rand_times)\n",
       "    25       100        982.0      9.8      0.9          theta, phi = sa.equatorial_to_healpy(ra, dec)\n",
       "    26       100       5667.0     56.7      5.0          pix = hp.ang2pix(nside, theta, phi)\n",
       "    27       100        188.0      1.9      0.2          pix_indices.append(pix)\n",
       "    28         1          0.0      0.0      0.0      return pix_indices"
      ]
     },
     "metadata": {},
     "output_type": "display_data"
    }
   ],
   "source": [
    "%lprun -f make_reference_skymap -f get_pixel_values make_reference_skymap(zenith[:100], azimuth[:100], time, num_resamples=1, random_state=2)"
   ]
  },
  {
   "cell_type": "code",
   "execution_count": 53,
   "metadata": {},
   "outputs": [
    {
     "data": {
      "text/plain": [
       "1850.0"
      ]
     },
     "execution_count": 53,
     "metadata": {},
     "output_type": "execute_result"
    }
   ],
   "source": [
    "reference_map.sum()"
   ]
  },
  {
   "cell_type": "code",
   "execution_count": null,
   "metadata": {},
   "outputs": [],
   "source": []
  },
  {
   "cell_type": "code",
   "execution_count": null,
   "metadata": {},
   "outputs": [],
   "source": []
  },
  {
   "cell_type": "code",
   "execution_count": null,
   "metadata": {},
   "outputs": [],
   "source": []
  },
  {
   "cell_type": "code",
   "execution_count": null,
   "metadata": {},
   "outputs": [],
   "source": []
  },
  {
   "cell_type": "code",
   "execution_count": 79,
   "metadata": {},
   "outputs": [],
   "source": [
    "from time import sleep\n",
    "import random"
   ]
  },
  {
   "cell_type": "code",
   "execution_count": 80,
   "metadata": {},
   "outputs": [],
   "source": [
    "@delayed\n",
    "def inc(x):\n",
    "    return x + 1\n",
    "\n",
    "@delayed\n",
    "def double(x):\n",
    "    return x + 2\n",
    "\n",
    "@delayed\n",
    "def add(x, y):\n",
    "    return x + y"
   ]
  },
  {
   "cell_type": "code",
   "execution_count": 81,
   "metadata": {},
   "outputs": [],
   "source": [
    "data = [1, 2, 3, 4, 5]"
   ]
  },
  {
   "cell_type": "code",
   "execution_count": 83,
   "metadata": {},
   "outputs": [],
   "source": [
    "output = []\n",
    "for x in data:\n",
    "    a = inc(x)\n",
    "    b = double(x)\n",
    "    c = add(a, b)\n",
    "    output.append(c)\n",
    "\n",
    "total = delayed(sum)(output)"
   ]
  },
  {
   "cell_type": "code",
   "execution_count": 84,
   "metadata": {},
   "outputs": [
    {
     "data": {
      "text/plain": [
       "Delayed('sum-0cb8f1a4-41be-49ac-9689-998e609ce4b2')"
      ]
     },
     "execution_count": 84,
     "metadata": {},
     "output_type": "execute_result"
    }
   ],
   "source": [
    "total"
   ]
  },
  {
   "cell_type": "code",
   "execution_count": 85,
   "metadata": {},
   "outputs": [
    {
     "data": {
      "text/plain": [
       "45"
      ]
     },
     "execution_count": 85,
     "metadata": {},
     "output_type": "execute_result"
    }
   ],
   "source": [
    "total.compute()"
   ]
  },
  {
   "cell_type": "code",
   "execution_count": null,
   "metadata": {},
   "outputs": [],
   "source": []
  }
 ],
 "metadata": {
  "kernelspec": {
   "display_name": "Python 2",
   "language": "python",
   "name": "python2"
  },
  "language_info": {
   "codemirror_mode": {
    "name": "ipython",
    "version": 2
   },
   "file_extension": ".py",
   "mimetype": "text/x-python",
   "name": "python",
   "nbconvert_exporter": "python",
   "pygments_lexer": "ipython2",
   "version": "2.7.13"
  }
 },
 "nbformat": 4,
 "nbformat_minor": 2
}
