{
 "cells": [
  {
   "cell_type": "code",
   "execution_count": 1,
   "metadata": {},
   "outputs": [],
   "source": [
    "%load_ext autoreload"
   ]
  },
  {
   "cell_type": "code",
   "execution_count": 2,
   "metadata": {},
   "outputs": [],
   "source": [
    "%autoreload 2"
   ]
  },
  {
   "cell_type": "code",
   "execution_count": 3,
   "metadata": {},
   "outputs": [],
   "source": [
    "from __future__ import division\n",
    "from collections import defaultdict\n",
    "import os\n",
    "import argparse\n",
    "import numpy as np\n",
    "import pandas as pd\n",
    "# import xarray as xr\n",
    "import matplotlib.pyplot as plt\n",
    "from scipy.optimize import curve_fit\n",
    "\n",
    "import comptools as comp\n",
    "\n",
    "color_dict = comp.get_color_dict()\n",
    "\n",
    "%matplotlib inline"
   ]
  },
  {
   "cell_type": "code",
   "execution_count": 4,
   "metadata": {},
   "outputs": [],
   "source": [
    "config = 'IC86.2012'\n",
    "sims = comp.simfunctions.config_to_sim(config)\n",
    "sigmoid = 'slant'\n",
    "num_groups = 2\n",
    "comp_list = comp.get_comp_list(num_groups=num_groups)"
   ]
  },
  {
   "cell_type": "code",
   "execution_count": 5,
   "metadata": {},
   "outputs": [
    {
     "data": {
      "text/plain": [
       "[array([6.1, 6.2, 6.3, 6.4, 6.5, 6.6, 6.7, 6.8, 6.9, 7. , 7.1, 7.2, 7.3,\n",
       "        7.4, 7.5, 7.6, 7.7, 7.8, 7.9, 8. ]), array([0, 1, 2])]"
      ]
     },
     "execution_count": 5,
     "metadata": {},
     "output_type": "execute_result"
    }
   ],
   "source": [
    "energybins = comp.get_energybins(config=config)\n",
    "energy_comp_bins = comp.get_bins(config=config, num_groups=num_groups)\n",
    "energy_comp_bins"
   ]
  },
  {
   "cell_type": "code",
   "execution_count": 6,
   "metadata": {},
   "outputs": [],
   "source": [
    "# Want to include energy bins for energies below the normal analysis energy\n",
    "# range so we can get a better estimate of how the detector efficiencies turn on\n",
    "low_energy_bins = np.arange(5.0, energybins.log_energy_min, 0.1)\n",
    "ebins = np.concatenate((low_energy_bins, energybins.log_energy_bins))\n",
    "ebin_midpoints = (ebins[1:] + ebins[:-1]) / 2"
   ]
  },
  {
   "cell_type": "code",
   "execution_count": 7,
   "metadata": {},
   "outputs": [
    {
     "data": {
      "text/plain": [
       "array([0, 1, 2])"
      ]
     },
     "execution_count": 7,
     "metadata": {},
     "output_type": "execute_result"
    }
   ],
   "source": [
    "comp_bins = np.arange(num_groups + 1)\n",
    "comp_bins"
   ]
  },
  {
   "cell_type": "code",
   "execution_count": 8,
   "metadata": {},
   "outputs": [
    {
     "data": {
      "text/plain": [
       "[array([5. , 5.1, 5.2, 5.3, 5.4, 5.5, 5.6, 5.7, 5.8, 5.9, 6. , 6.1, 6.2,\n",
       "        6.3, 6.4, 6.5, 6.6, 6.7, 6.8, 6.9, 7. , 7.1, 7.2, 7.3, 7.4, 7.5,\n",
       "        7.6, 7.7, 7.8, 7.9, 8. ]), array([0, 1, 2])]"
      ]
     },
     "execution_count": 8,
     "metadata": {},
     "output_type": "execute_result"
    }
   ],
   "source": [
    "bins = [ebins, comp_bins]\n",
    "bins"
   ]
  },
  {
   "cell_type": "code",
   "execution_count": 9,
   "metadata": {},
   "outputs": [
    {
     "name": "stdout",
     "output_type": "stream",
     "text": [
      "[#                                       ] | 3% Completed |  0.1s"
     ]
    },
    {
     "name": "stderr",
     "output_type": "stream",
     "text": [
      "/home/jbourbeau/cr-composition/.virtualenv/lib/python2.7/site-packages/dask/base.py:835: UserWarning: The get= keyword has been deprecated. Please use the scheduler= keyword instead with the name of the desired scheduler like 'threads' or 'processes'\n",
      "  warnings.warn(\"The get= keyword has been deprecated. \"\n"
     ]
    },
    {
     "name": "stdout",
     "output_type": "stream",
     "text": [
      "[########################################] | 100% Completed |  2.8s\n",
      "[########################################] | 100% Completed |  0.1s\n"
     ]
    }
   ],
   "source": [
    "df_sim = comp.load_sim(config=config,\n",
    "                       test_size=0,\n",
    "                       log_energy_min=None,\n",
    "                       log_energy_max=None,\n",
    "                       verbose=True)"
   ]
  },
  {
   "cell_type": "code",
   "execution_count": 10,
   "metadata": {},
   "outputs": [
    {
     "data": {
      "text/plain": [
       "9079202.768874502"
      ]
     },
     "execution_count": 10,
     "metadata": {},
     "output_type": "execute_result"
    }
   ],
   "source": [
    "# Thrown areas are different for different energy bin\n",
    "thrown_radii = comp.simfunctions.get_sim_thrown_radius(ebin_midpoints)\n",
    "thrown_areas = np.pi * thrown_radii**2\n",
    "thrown_areas_max = thrown_areas.max()\n",
    "thrown_areas_max"
   ]
  },
  {
   "cell_type": "code",
   "execution_count": 11,
   "metadata": {},
   "outputs": [],
   "source": [
    "columns = ['MC_log_energy', 'comp_target_{}'.format(num_groups)]\n",
    "passed_showers, _ = np.histogramdd(df_sim.loc[:, columns].values, bins=bins)"
   ]
  },
  {
   "cell_type": "code",
   "execution_count": 13,
   "metadata": {},
   "outputs": [],
   "source": [
    "# coords = [ebin_midpoints, np.arange(num_groups)]\n",
    "# dims = ['MC_log_energy', 'composition']"
   ]
  },
  {
   "cell_type": "code",
   "execution_count": 14,
   "metadata": {},
   "outputs": [],
   "source": [
    "# passed_showers = xr.DataArray(passed_showers, coords=coords, dims=dims)\n",
    "# passed_showers"
   ]
  },
  {
   "cell_type": "code",
   "execution_count": 12,
   "metadata": {},
   "outputs": [],
   "source": [
    "def thrown_showers_per_ebin(sim_list, log_energy_bins=None):\n",
    "    \"\"\"Calculate the number of thrown showers in each energy bin\n",
    "\n",
    "    Parameters\n",
    "    ----------\n",
    "    sim_list : array_like\n",
    "        Sequence of simulation dataset numbers.\n",
    "    log_energy_bins : array_like or None, optional\n",
    "        Log energy bins to use (defaults to np.arange(5, 8.1, 0.1)).\n",
    "\n",
    "    Returns\n",
    "    -------\n",
    "    thrown_showers : np.ndarray\n",
    "        Array containing the number of thrown showers in each energy bin.\n",
    "    \"\"\"\n",
    "    if isinstance(sim_list, int):\n",
    "        sim_list = [sim_list]\n",
    "    e_bins = []\n",
    "    for sim in sim_list:\n",
    "        file_iter = comp.simfunctions.get_level3_sim_files_iterator(sim)\n",
    "        runs = (sim_file_to_run(f) for f in file_iter)\n",
    "        for run in runs:\n",
    "            e_bin = comp.simfunctions.run_to_energy_bin(run, sim)\n",
    "            e_bins.append(e_bin)\n",
    "\n",
    "    if log_energy_bins is None:\n",
    "        log_energy_bins = np.arange(5, 8.1, 0.1)\n",
    "    vals, _ = np.histogram(e_bins, bins=log_energy_bins)\n",
    "\n",
    "    n_resamples = 100\n",
    "    n_showers_per_file = n_resamples\n",
    "    thrown_showers = vals * n_showers_per_file\n",
    "\n",
    "    return thrown_showers"
   ]
  },
  {
   "cell_type": "code",
   "execution_count": 13,
   "metadata": {},
   "outputs": [],
   "source": [
    "def sim_file_to_run(file):\n",
    "    \"\"\"Extracts run number from a simulation file path\n",
    "\n",
    "    Parameters\n",
    "    ----------\n",
    "    file : str\n",
    "        Simulation file path.\n",
    "\n",
    "    Returns\n",
    "    -------\n",
    "    run : int\n",
    "        Run number for simulation file\n",
    "\n",
    "    Examples\n",
    "    --------\n",
    "    >>> file = '/data/ana/CosmicRay/IceTop_level3/sim/IC79/7241/Level3_IC79_7241_Run005347.i3.gz'\n",
    "    >>> sim_file_to_run(file)\n",
    "    5347\n",
    "    \"\"\"\n",
    "    start_idx = file.find('Run')\n",
    "    run = int(file[start_idx+3: start_idx+9])\n",
    "    return run"
   ]
  },
  {
   "cell_type": "code",
   "execution_count": 14,
   "metadata": {},
   "outputs": [
    {
     "data": {
      "text/plain": [
       "array([[132900., 132900.],\n",
       "       [132900., 132800.],\n",
       "       [132700., 133000.],\n",
       "       [132100., 132400.],\n",
       "       [132900., 132600.],\n",
       "       [132900., 132800.],\n",
       "       [132600., 132700.],\n",
       "       [131900., 132800.],\n",
       "       [132300., 132300.],\n",
       "       [131500., 132100.],\n",
       "       [132300., 132600.],\n",
       "       [132600., 132100.],\n",
       "       [132600., 131300.],\n",
       "       [132200., 132000.],\n",
       "       [131900., 132400.],\n",
       "       [131600., 131300.],\n",
       "       [130900., 132200.],\n",
       "       [131100., 132000.],\n",
       "       [131700., 132200.],\n",
       "       [131500., 132000.],\n",
       "       [130600., 132000.],\n",
       "       [131400., 132300.],\n",
       "       [132200., 132000.],\n",
       "       [131800., 131400.],\n",
       "       [131600., 131600.],\n",
       "       [131400., 132100.],\n",
       "       [131900., 132000.],\n",
       "       [130300., 131000.],\n",
       "       [131300., 132100.],\n",
       "       [131200., 131200.]])"
      ]
     },
     "execution_count": 14,
     "metadata": {},
     "output_type": "execute_result"
    }
   ],
   "source": [
    "# Calculate efficiencies and effective areas for each composition group\n",
    "thrown_showers = np.zeros_like(passed_showers)   \n",
    "for idx, composition in enumerate(comp_list):\n",
    "# for composition in comp_list + ['total']:\n",
    "    compositions = df_sim['comp_group_{}'.format(num_groups)]\n",
    "    # Need list of simulation sets for composition to get number of thrown showers\n",
    "    comp_mask = compositions == composition\n",
    "    sim_list = df_sim.loc[comp_mask, 'sim'].unique()\n",
    "    thrown_showers[:, idx] = thrown_showers_per_ebin(sim_list, log_energy_bins=ebins)\n",
    "thrown_showers"
   ]
  },
  {
   "cell_type": "code",
   "execution_count": 15,
   "metadata": {},
   "outputs": [],
   "source": [
    "# thrown_showers = xr.DataArray(thrown_showers, coords=coords, dims=dims)\n",
    "# thrown_showers"
   ]
  },
  {
   "cell_type": "code",
   "execution_count": 16,
   "metadata": {},
   "outputs": [
    {
     "data": {
      "text/plain": [
       "array([0.22145329, 0.22145329, 0.22145329, 0.22145329, 0.22145329,\n",
       "       0.22145329, 0.22145329, 0.22145329, 0.22145329, 0.22145329,\n",
       "       0.41868512, 0.41868512, 0.41868512, 0.41868512, 0.41868512,\n",
       "       0.41868512, 0.41868512, 0.41868512, 0.41868512, 0.41868512,\n",
       "       1.        , 1.        , 1.        , 1.        , 1.        ,\n",
       "       1.        , 1.        , 1.        , 1.        , 1.        ])"
      ]
     },
     "execution_count": 16,
     "metadata": {},
     "output_type": "execute_result"
    }
   ],
   "source": [
    "thrown_radius_factor = thrown_areas / thrown_areas_max\n",
    "thrown_radius_factor"
   ]
  },
  {
   "cell_type": "code",
   "execution_count": 17,
   "metadata": {},
   "outputs": [
    {
     "name": "stderr",
     "output_type": "stream",
     "text": [
      "/home/jbourbeau/cr-composition/comptools/data_functions.py:25: RuntimeWarning: invalid value encountered in true_divide\n",
      "  ratio_err = np.abs(ratio) * np.sqrt((num_err / num)**2 + (den_err / den)**2)\n"
     ]
    }
   ],
   "source": [
    "efficiency, efficiency_err = comp.ratio_error(num=passed_showers,\n",
    "                                              num_err=np.sqrt(passed_showers),\n",
    "                                              den=thrown_showers,\n",
    "                                              den_err=np.sqrt(thrown_showers),\n",
    "                                              nan_to_num=True)\n",
    "\n",
    "# efficiency_err = xr.DataArray(efficiency_err, coords=coords, dims=dims)\n",
    "\n",
    "efficiency = efficiency * thrown_radius_factor.reshape(-1, 1)\n",
    "efficiency_err = efficiency_err * thrown_radius_factor.reshape(-1, 1)"
   ]
  },
  {
   "cell_type": "code",
   "execution_count": 18,
   "metadata": {},
   "outputs": [
    {
     "data": {
      "text/plain": [
       "array([[0.00000000e+00, 0.00000000e+00],\n",
       "       [0.00000000e+00, 0.00000000e+00],\n",
       "       [0.00000000e+00, 0.00000000e+00],\n",
       "       [3.35281283e-06, 1.67260791e-06],\n",
       "       [4.99894553e-05, 6.68034049e-06],\n",
       "       [1.16642062e-04, 3.16838287e-05],\n",
       "       [4.12511025e-04, 1.25161994e-04],\n",
       "       [1.06109536e-03, 4.18560053e-04],\n",
       "       [2.47230919e-03, 1.15162405e-03],\n",
       "       [4.43411791e-03, 2.80798074e-03],\n",
       "       [5.48436368e-03, 4.36051397e-03],\n",
       "       [7.18016565e-03, 6.47836781e-03],\n",
       "       [7.92533676e-03, 7.29908791e-03],\n",
       "       [8.49721770e-03, 8.08189158e-03],\n",
       "       [7.90708595e-03, 8.93342498e-03],\n",
       "       [8.66321873e-03, 7.90495366e-03],\n",
       "       [9.56674711e-03, 8.24702009e-03],\n",
       "       [9.39566458e-03, 9.37283737e-03],\n",
       "       [9.09535407e-03, 8.38320360e-03],\n",
       "       [8.70482982e-03, 8.83044983e-03],\n",
       "       [8.57580398e-03, 9.34090909e-03],\n",
       "       [9.33789954e-03, 8.25396825e-03],\n",
       "       [8.27534039e-03, 9.03787879e-03],\n",
       "       [9.28679818e-03, 8.83561644e-03],\n",
       "       [8.10790274e-03, 9.07294833e-03],\n",
       "       [9.47488584e-03, 9.42467827e-03],\n",
       "       [8.74147081e-03, 9.96969697e-03],\n",
       "       [9.00230238e-03, 9.54198473e-03],\n",
       "       [1.06778370e-02, 9.65177896e-03],\n",
       "       [8.95579268e-03, 9.30640244e-03]])"
      ]
     },
     "execution_count": 18,
     "metadata": {},
     "output_type": "execute_result"
    }
   ],
   "source": [
    "efficiency"
   ]
  },
  {
   "cell_type": "code",
   "execution_count": 19,
   "metadata": {},
   "outputs": [
    {
     "data": {
      "text/plain": [
       "array([[0.00000000e+00, 0.00000000e+00],\n",
       "       [0.00000000e+00, 0.00000000e+00],\n",
       "       [0.00000000e+00, 0.00000000e+00],\n",
       "       [2.37081463e-06, 1.67261423e-06],\n",
       "       [9.12781416e-06, 3.34022062e-06],\n",
       "       [1.39450641e-05, 7.26928878e-06],\n",
       "       [2.62718828e-05, 1.44565457e-05],\n",
       "       [4.23091064e-05, 2.64442315e-05],\n",
       "       [6.46879426e-05, 4.40192675e-05],\n",
       "       [8.72743756e-05, 6.90434986e-05],\n",
       "       [1.32602866e-04, 1.17948029e-04],\n",
       "       [1.51855872e-04, 1.44397400e-04],\n",
       "       [1.59680855e-04, 1.53885849e-04],\n",
       "       [1.65702587e-04, 1.61646001e-04],\n",
       "       [1.59916137e-04, 1.69860841e-04],\n",
       "       [1.67726894e-04, 1.60259091e-04],\n",
       "       [1.76913900e-04, 1.63197020e-04],\n",
       "       [1.75156103e-04, 1.74341133e-04],\n",
       "       [1.71880812e-04, 1.64565184e-04],\n",
       "       [1.68201328e-04, 1.69114333e-04],\n",
       "       [2.57347591e-04, 2.67255434e-04],\n",
       "       [2.67821357e-04, 2.50805147e-04],\n",
       "       [2.51227270e-04, 2.62845185e-04],\n",
       "       [2.66675179e-04, 2.60453950e-04],\n",
       "       [2.49218243e-04, 2.63759163e-04],\n",
       "       [2.69796971e-04, 2.68360639e-04],\n",
       "       [2.58559081e-04, 2.76190150e-04],\n",
       "       [2.64028415e-04, 2.71172661e-04],\n",
       "       [2.86692051e-04, 2.71605201e-04],\n",
       "       [2.62434645e-04, 2.67568825e-04]])"
      ]
     },
     "execution_count": 19,
     "metadata": {},
     "output_type": "execute_result"
    }
   ],
   "source": [
    "efficiency_err"
   ]
  },
  {
   "cell_type": "code",
   "execution_count": 20,
   "metadata": {},
   "outputs": [
    {
     "name": "stderr",
     "output_type": "stream",
     "text": [
      "/home/jbourbeau/cr-composition/.virtualenv/lib/python2.7/site-packages/matplotlib/figure.py:2267: UserWarning: This figure includes Axes that are not compatible with tight_layout, so results might be incorrect.\n",
      "  warnings.warn(\"This figure includes Axes that are not compatible \"\n"
     ]
    },
    {
     "data": {
      "image/png": "[encoded data removed]",
      "text/plain": [
       "<Figure size 432x288 with 1 Axes>"
      ]
     },
     "metadata": {},
     "output_type": "display_data"
    }
   ],
   "source": [
    "fig, ax = plt.subplots()\n",
    "for idx, composition in enumerate(comp_list):\n",
    "    eff = efficiency[:, idx]\n",
    "    eff_err = efficiency_err[:, idx]\n",
    "    ax.errorbar(ebin_midpoints, eff, yerr=eff_err, color=color_dict[composition], label=composition)\n",
    "ax.set_xlabel('$\\mathrm{\\log_{10}(E_{true}/GeV)}$')\n",
    "ax.set_ylabel('Effective area [$\\mathrm{m^2}$]')\n",
    "ax.grid()\n",
    "plt.show()"
   ]
  },
  {
   "cell_type": "markdown",
   "metadata": {},
   "source": [
    "## Fit efficieny curves"
   ]
  },
  {
   "cell_type": "code",
   "execution_count": 21,
   "metadata": {},
   "outputs": [],
   "source": [
    "def sigmoid_flat(log_energy, p0, p1, p2):\n",
    "    return p0 / (1 + np.exp(-p1*log_energy + p2))\n",
    "\n",
    "\n",
    "def sigmoid_slant(log_energy, p0, p1, p2, p3):\n",
    "    '''Fit function for effective area vs. energy\n",
    "\n",
    "    Parameters\n",
    "    ----------\n",
    "    log_energy : numpy.ndarray\n",
    "        Log energy values\n",
    "\n",
    "    '''\n",
    "    return (p0 + p3*log_energy) / (1 + np.exp(-p1*log_energy + p2))"
   ]
  },
  {
   "cell_type": "code",
   "execution_count": 22,
   "metadata": {},
   "outputs": [],
   "source": [
    "# Fit sigmoid function to efficiency vs. energy distribution\n",
    "fit_func = sigmoid_flat if sigmoid == 'flat' else sigmoid_slant\n",
    "p0 = [7e4, 8.0, 50.0] if sigmoid == 'flat' else [7e4, 8.5, 50.0, 800]"
   ]
  },
  {
   "cell_type": "code",
   "execution_count": 23,
   "metadata": {},
   "outputs": [
    {
     "data": {
      "text/plain": [
       "array([False, False, False, False, False, False, False, False,  True,\n",
       "        True,  True,  True,  True,  True,  True,  True,  True,  True,\n",
       "        True,  True,  True,  True,  True,  True,  True,  True,  True,\n",
       "        True,  True,  True])"
      ]
     },
     "execution_count": 23,
     "metadata": {},
     "output_type": "execute_result"
    }
   ],
   "source": [
    "energy_min_fit, energy_max_fit = 5.8, energybins.log_energy_max\n",
    "\n",
    "fit_energy_range_mask = (ebin_midpoints < energy_max_fit) & (ebin_midpoints > energy_min_fit)\n",
    "fit_energy_range_mask"
   ]
  },
  {
   "cell_type": "code",
   "execution_count": 24,
   "metadata": {},
   "outputs": [],
   "source": [
    "# # Fit sigmoid function to efficiency vs. energy distribution\n",
    "# fit_func = sigmoid_flat if sigmoid == 'flat' else sigmoid_slant\n",
    "# p0 = [7e4, 8.0, 50.0] if sigmoid == 'flat' else [7e4, 8.5, 50.0, 800]\n",
    "# efficiencies_fit = {}\n",
    "# energy_min_fit, energy_max_fit = 5.8, energybins.log_energy_max\n",
    "# emidpoints_fitmask = np.logical_and(ebin_midpoints > energy_min_fit,\n",
    "#                                     ebin_midpoints < energy_max_fit)\n",
    "# ebin_midpoints_fit = ebin_midpoints[emidpoints_fitmask]\n",
    "# ebin_midpoints_fit"
   ]
  },
  {
   "cell_type": "code",
   "execution_count": 25,
   "metadata": {},
   "outputs": [
    {
     "data": {
      "text/plain": [
       "array([[0.00256468, 0.00120883],\n",
       "       [0.004168  , 0.00263449],\n",
       "       [0.00582488, 0.00462157],\n",
       "       [0.00711697, 0.0063948 ],\n",
       "       [0.00792644, 0.00747196],\n",
       "       [0.00837232, 0.00800669],\n",
       "       [0.00860699, 0.00827068],\n",
       "       [0.00873362, 0.00842221],\n",
       "       [0.00880826, 0.00853026],\n",
       "       [0.00885857, 0.00862197],\n",
       "       [0.00889765, 0.00870759],\n",
       "       [0.00893158, 0.00879095],\n",
       "       [0.00896315, 0.00887348],\n",
       "       [0.00899363, 0.0089557 ],\n",
       "       [0.00902363, 0.0090378 ],\n",
       "       [0.0090534 , 0.00911986],\n",
       "       [0.00908307, 0.0092019 ],\n",
       "       [0.00911269, 0.00928394],\n",
       "       [0.00914229, 0.00936597],\n",
       "       [0.00917188, 0.00944801],\n",
       "       [0.00920146, 0.00953004],\n",
       "       [0.00923104, 0.00961208]])"
      ]
     },
     "execution_count": 25,
     "metadata": {},
     "output_type": "execute_result"
    }
   ],
   "source": [
    "# Find best-fit sigmoid function\n",
    "# efficiency_fit = {}\n",
    "efficiency_fit = np.empty_like(efficiency[fit_energy_range_mask])\n",
    "# efficiency_fit = xr.zeros_like(efficiency[fit_energy_range_mask])\n",
    "for idx, composition in enumerate(comp_list):\n",
    "    popt, pcov = curve_fit(fit_func,\n",
    "                           ebin_midpoints[fit_energy_range_mask],\n",
    "                           efficiency[fit_energy_range_mask, idx],\n",
    "                           sigma=efficiency_err[fit_energy_range_mask, idx],\n",
    "                           p0=p0)\n",
    "    eff_fit = fit_func(ebin_midpoints[fit_energy_range_mask], *popt)\n",
    "#     eff_fit = fit_func(ebin_midpoints[emidpoints_fitmask], *popt)\n",
    "    efficiency_fit[:, idx] = eff_fit\n",
    "\n",
    "    chi2 = np.nansum((efficiency[fit_energy_range_mask, idx] - eff_fit)**2 / (efficiency_err[fit_energy_range_mask, idx]) ** 2)\n",
    "    ndof = len(eff_fit) - len(p0)\n",
    "#     print('({}) chi2 / ndof = {} / {} = {}'.format(composition,\n",
    "#                                                    chi2,\n",
    "#                                                    ndof,\n",
    "#                                                    chi2 / ndof))\n",
    "efficiency_fit"
   ]
  },
  {
   "cell_type": "code",
   "execution_count": 50,
   "metadata": {},
   "outputs": [],
   "source": [
    "# Perform many fits to random statistical fluxuations of the best fit efficiency\n",
    "# This will be used to estimate the uncertainty in the best fit efficiency\n",
    "eff_fit = np.empty_like(efficiency_fit)\n",
    "eff_fit_err = np.empty_like(eff_fit)\n",
    "# efficiencies_fit_samples = defaultdict(list)\n",
    "n_samples = 1000\n",
    "for comp_idx, composition in enumerate(comp_list):\n",
    "    eff_fit_samples = []\n",
    "    for _ in range(n_samples):\n",
    "\n",
    "        # Get new random sample to fit\n",
    "        eff_sample = np.random.normal(efficiency_fit[:, comp_idx],\n",
    "#                                       efficiency_err[bin_midpoints_mask, idx])\n",
    "                                      efficiency_err[fit_energy_range_mask, comp_idx])\n",
    "        # Fit with error bars\n",
    "        popt, pcov = curve_fit(fit_func,\n",
    "                               ebin_midpoints[fit_energy_range_mask],\n",
    "                               eff_sample,\n",
    "                               p0=p0,\n",
    "#                                sigma=efficiency_err[bin_midpoints_mask, idx])\n",
    "                               sigma=efficiency_err[fit_energy_range_mask, comp_idx])\n",
    "\n",
    "        eff_fit_samples.append(fit_func(ebin_midpoints[fit_energy_range_mask], *popt))\n",
    "#     efficiencies_fit_samples[composition].append(eff_fit_sample)\n",
    "    eff_fit[:, comp_idx] = np.mean(eff_fit_samples, axis=0)\n",
    "    eff_fit_err[:, comp_idx] = np.std(eff_fit_samples, axis=0)"
   ]
  },
  {
   "cell_type": "code",
   "execution_count": 51,
   "metadata": {},
   "outputs": [
    {
     "data": {
      "text/plain": [
       "array([[0.00256387, 0.00120655],\n",
       "       [0.00416869, 0.00263227],\n",
       "       [0.00582595, 0.00462067],\n",
       "       [0.00711648, 0.00639353],\n",
       "       [0.00792472, 0.00747015],\n",
       "       [0.00837055, 0.00800534],\n",
       "       [0.00860573, 0.00827011],\n",
       "       [0.00873291, 0.00842231],\n",
       "       [0.00880792, 0.00853085],\n",
       "       [0.0088584 , 0.00862292],\n",
       "       [0.00889751, 0.00870882],\n",
       "       [0.00893136, 0.00879243],\n",
       "       [0.00896279, 0.00887518],\n",
       "       [0.0089931 , 0.00895761],\n",
       "       [0.00902289, 0.00903992],\n",
       "       [0.00905245, 0.00912219],\n",
       "       [0.0090819 , 0.00920444],\n",
       "       [0.0091113 , 0.00928668],\n",
       "       [0.00914067, 0.00936892],\n",
       "       [0.00917003, 0.00945116],\n",
       "       [0.00919939, 0.0095334 ],\n",
       "       [0.00922875, 0.00961564]])"
      ]
     },
     "execution_count": 51,
     "metadata": {},
     "output_type": "execute_result"
    }
   ],
   "source": [
    "eff_fit"
   ]
  },
  {
   "cell_type": "code",
   "execution_count": 52,
   "metadata": {},
   "outputs": [
    {
     "data": {
      "text/plain": [
       "array([[5.71184062e-05, 3.88955627e-05],\n",
       "       [5.71966524e-05, 4.52035918e-05],\n",
       "       [8.12542450e-05, 7.52086734e-05],\n",
       "       [8.13397477e-05, 8.01800489e-05],\n",
       "       [6.91328387e-05, 6.62611722e-05],\n",
       "       [6.56935808e-05, 6.51612713e-05],\n",
       "       [6.74865410e-05, 6.72383658e-05],\n",
       "       [6.75351289e-05, 6.58559069e-05],\n",
       "       [6.48642076e-05, 6.21733524e-05],\n",
       "       [6.07538957e-05, 5.80999127e-05],\n",
       "       [5.66647155e-05, 5.49414541e-05],\n",
       "       [5.37924639e-05, 5.34869241e-05],\n",
       "       [5.29820066e-05, 5.41167565e-05],\n",
       "       [5.46297589e-05, 5.68468659e-05],\n",
       "       [5.86585567e-05, 6.14256342e-05],\n",
       "       [6.46763936e-05, 6.74864008e-05],\n",
       "       [7.22070069e-05, 7.46716770e-05],\n",
       "       [8.08356068e-05, 8.26895213e-05],\n",
       "       [9.02501055e-05, 9.13210670e-05],\n",
       "       [1.00229965e-04, 1.00408199e-04],\n",
       "       [1.10622424e-04, 1.09837902e-04],\n",
       "       [1.21321494e-04, 1.19529121e-04]])"
      ]
     },
     "execution_count": 52,
     "metadata": {},
     "output_type": "execute_result"
    }
   ],
   "source": [
    "eff_fit_err"
   ]
  },
  {
   "cell_type": "code",
   "execution_count": 53,
   "metadata": {},
   "outputs": [],
   "source": [
    "# # Calculate median and error of efficiency fits\n",
    "# eff_fit = pd.DataFrame()\n",
    "# # eff_fit = xr.zeros_like(efficiency_fit)\n",
    "# for composition in comp_list:\n",
    "# #     comp_mask = eff_fit.coords['composition'] == 1\n",
    "# #     fit_median, fit_err_low, fit_err_high = np.percentile(efficiencies_fit_samples[composition],\n",
    "# #                                                           (50, 16, 84),\n",
    "# #                                                           axis=0)\n",
    "#     fit_mean = np.mean(efficiencies_fit_samples[composition], axis=0)\n",
    "#     fit_err = np.std(efficiencies_fit_samples[composition], axis=0)\n",
    "        \n",
    "# #     fit_err_low = np.abs(fit_err_low - fit_median)\n",
    "# #     fit_err_high = np.abs(fit_err_high - fit_median)\n",
    "\n",
    "#     eff_fit['eff_mean_{}'.format(composition)] = fit_mean\n",
    "#     eff_fit['eff_err_{}'.format(composition)] = fit_err\n",
    "\n",
    "# #     eff_fit['eff_median_{}'.format(composition)] = fit_median\n",
    "# #     eff_fit['eff_err_low_{}'.format(composition)] = fit_err_low\n",
    "# #     eff_fit['eff_err_high_{}'.format(composition)] = fit_err_high\n",
    "\n",
    "# eff_fit['ebin_midpoints'] = ebin_midpoints[fit_energy_range_mask]"
   ]
  },
  {
   "cell_type": "code",
   "execution_count": 54,
   "metadata": {},
   "outputs": [
    {
     "data": {
      "image/png": "[encoded data removed]",
      "text/plain": [
       "<Figure size 432x288 with 1 Axes>"
      ]
     },
     "metadata": {},
     "output_type": "display_data"
    }
   ],
   "source": [
    "fig, ax = plt.subplots()\n",
    "for idx, composition in enumerate(comp_list):\n",
    "    eff = efficiency[:, idx]\n",
    "    eff_err = efficiency_err[:, idx]\n",
    "    ax.errorbar(ebin_midpoints, eff, yerr=eff_err, ls='None', color=color_dict[composition], label=composition)\n",
    "#     ax.plot(ebin_midpoints[emidpoints_fitmask], efficiency_fit[:, idx], marker='None', color=color_dict[composition], label=composition)\n",
    "\n",
    "#     ax.fill_between(eff_fit['ebin_midpoints'],\n",
    "#                     eff_fit['eff_mean_{}'.format(composition)] + eff_fit['eff_err_{}'.format(composition)],\n",
    "#                     eff_fit['eff_mean_{}'.format(composition)] - eff_fit['eff_err_{}'.format(composition)],\n",
    "# #                 yerr=[eff_fit['eff_err_low_{}'.format(composition)], eff_fit['eff_err_high_{}'.format(composition)]],\n",
    "# #                     marker='None',\n",
    "#                     alpha=0.7,\n",
    "#                     color=color_dict[composition])\n",
    "    \n",
    "    ax.fill_between(ebin_midpoints[fit_energy_range_mask],\n",
    "                    eff_fit[:, idx] + eff_fit_err[:, idx],\n",
    "                    eff_fit[:, idx] - eff_fit_err[:, idx],\n",
    "#                 yerr=[eff_fit['eff_err_low_{}'.format(composition)], eff_fit['eff_err_high_{}'.format(composition)]],\n",
    "#                     marker='None',\n",
    "                    alpha=0.7,\n",
    "                    color=color_dict[composition])\n",
    "ax.set_xlabel('$\\mathrm{\\log_{10}(E_{true}/GeV)}$')\n",
    "ax.set_ylabel('Effective area [$\\mathrm{m^2}$]')\n",
    "ax.grid()\n",
    "plt.show()"
   ]
  },
  {
   "cell_type": "code",
   "execution_count": 55,
   "metadata": {},
   "outputs": [
    {
     "data": {
      "text/plain": [
       "array([False, False, False,  True,  True,  True,  True,  True,  True,\n",
       "        True,  True,  True,  True,  True,  True,  True,  True,  True,\n",
       "        True,  True,  True,  True])"
      ]
     },
     "execution_count": 55,
     "metadata": {},
     "output_type": "execute_result"
    }
   ],
   "source": [
    "unfolding_energy_range_mask = np.logical_and(ebin_midpoints[fit_energy_range_mask] >= energybins.log_energy_min,\n",
    "                                             ebin_midpoints[fit_energy_range_mask] <= energybins.log_energy_max)\n",
    "unfolding_energy_range_mask"
   ]
  },
  {
   "cell_type": "code",
   "execution_count": 56,
   "metadata": {},
   "outputs": [
    {
     "data": {
      "text/plain": [
       "array([[0.00711648, 0.00639353],\n",
       "       [0.00792472, 0.00747015],\n",
       "       [0.00837055, 0.00800534],\n",
       "       [0.00860573, 0.00827011],\n",
       "       [0.00873291, 0.00842231],\n",
       "       [0.00880792, 0.00853085],\n",
       "       [0.0088584 , 0.00862292],\n",
       "       [0.00889751, 0.00870882],\n",
       "       [0.00893136, 0.00879243],\n",
       "       [0.00896279, 0.00887518],\n",
       "       [0.0089931 , 0.00895761],\n",
       "       [0.00902289, 0.00903992],\n",
       "       [0.00905245, 0.00912219],\n",
       "       [0.0090819 , 0.00920444],\n",
       "       [0.0091113 , 0.00928668],\n",
       "       [0.00914067, 0.00936892],\n",
       "       [0.00917003, 0.00945116],\n",
       "       [0.00919939, 0.0095334 ],\n",
       "       [0.00922875, 0.00961564]])"
      ]
     },
     "execution_count": 56,
     "metadata": {},
     "output_type": "execute_result"
    }
   ],
   "source": [
    "eff_fit[unfolding_energy_range_mask]"
   ]
  },
  {
   "cell_type": "code",
   "execution_count": 57,
   "metadata": {},
   "outputs": [
    {
     "data": {
      "text/plain": [
       "array([[8.13397477e-05, 8.01800489e-05],\n",
       "       [6.91328387e-05, 6.62611722e-05],\n",
       "       [6.56935808e-05, 6.51612713e-05],\n",
       "       [6.74865410e-05, 6.72383658e-05],\n",
       "       [6.75351289e-05, 6.58559069e-05],\n",
       "       [6.48642076e-05, 6.21733524e-05],\n",
       "       [6.07538957e-05, 5.80999127e-05],\n",
       "       [5.66647155e-05, 5.49414541e-05],\n",
       "       [5.37924639e-05, 5.34869241e-05],\n",
       "       [5.29820066e-05, 5.41167565e-05],\n",
       "       [5.46297589e-05, 5.68468659e-05],\n",
       "       [5.86585567e-05, 6.14256342e-05],\n",
       "       [6.46763936e-05, 6.74864008e-05],\n",
       "       [7.22070069e-05, 7.46716770e-05],\n",
       "       [8.08356068e-05, 8.26895213e-05],\n",
       "       [9.02501055e-05, 9.13210670e-05],\n",
       "       [1.00229965e-04, 1.00408199e-04],\n",
       "       [1.10622424e-04, 1.09837902e-04],\n",
       "       [1.21321494e-04, 1.19529121e-04]])"
      ]
     },
     "execution_count": 57,
     "metadata": {},
     "output_type": "execute_result"
    }
   ],
   "source": [
    "eff_fit_err[unfolding_energy_range_mask]"
   ]
  },
  {
   "cell_type": "code",
   "execution_count": 58,
   "metadata": {},
   "outputs": [
    {
     "data": {
      "text/plain": [
       "(38,)"
      ]
     },
     "execution_count": 58,
     "metadata": {},
     "output_type": "execute_result"
    }
   ],
   "source": [
    "eff_fit_err[unfolding_energy_range_mask].reshape(-1).shape"
   ]
  },
  {
   "cell_type": "code",
   "execution_count": 59,
   "metadata": {},
   "outputs": [],
   "source": [
    "outfile = os.path.join(os.getcwd(), 'efficienies.npy')\n",
    "comp.check_output_dir(outfile)\n",
    "np.save(outfile, eff_fit[unfolding_energy_range_mask])\n",
    "\n",
    "outfile = os.path.join(os.getcwd(), 'efficienies_err.npy')\n",
    "comp.check_output_dir(outfile)\n",
    "np.save(outfile, eff_fit_err[unfolding_energy_range_mask])"
   ]
  },
  {
   "cell_type": "code",
   "execution_count": null,
   "metadata": {},
   "outputs": [],
   "source": []
  },
  {
   "cell_type": "code",
   "execution_count": null,
   "metadata": {},
   "outputs": [],
   "source": []
  },
  {
   "cell_type": "code",
   "execution_count": null,
   "metadata": {},
   "outputs": [],
   "source": []
  },
  {
   "cell_type": "code",
   "execution_count": null,
   "metadata": {},
   "outputs": [],
   "source": []
  },
  {
   "cell_type": "code",
   "execution_count": null,
   "metadata": {},
   "outputs": [],
   "source": []
  },
  {
   "cell_type": "code",
   "execution_count": 58,
   "metadata": {},
   "outputs": [],
   "source": [
    "# .reset_index(drop=True).to_hdf(eff_outfile, 'dataframe')"
   ]
  },
  {
   "cell_type": "code",
   "execution_count": 61,
   "metadata": {},
   "outputs": [],
   "source": [
    "import xarray as xr"
   ]
  },
  {
   "cell_type": "code",
   "execution_count": 88,
   "metadata": {},
   "outputs": [
    {
     "data": {
      "text/plain": [
       "<xarray.DataArray 'efficiency' (reco_log_energy: 30, composition: 2)>\n",
       "array([[0.000000e+00, 0.000000e+00],\n",
       "       [0.000000e+00, 0.000000e+00],\n",
       "       [0.000000e+00, 0.000000e+00],\n",
       "       [3.352813e-06, 1.672608e-06],\n",
       "       [4.998946e-05, 6.680340e-06],\n",
       "       [1.166421e-04, 3.168383e-05],\n",
       "       [4.125110e-04, 1.251620e-04],\n",
       "       [1.061095e-03, 4.185601e-04],\n",
       "       [2.472309e-03, 1.151624e-03],\n",
       "       [4.434118e-03, 2.807981e-03],\n",
       "       [5.484364e-03, 4.360514e-03],\n",
       "       [7.180166e-03, 6.478368e-03],\n",
       "       [7.925337e-03, 7.299088e-03],\n",
       "       [8.497218e-03, 8.081892e-03],\n",
       "       [7.907086e-03, 8.933425e-03],\n",
       "       [8.663219e-03, 7.904954e-03],\n",
       "       [9.566747e-03, 8.247020e-03],\n",
       "       [9.395665e-03, 9.372837e-03],\n",
       "       [9.095354e-03, 8.383204e-03],\n",
       "       [8.704830e-03, 8.830450e-03],\n",
       "       [8.575804e-03, 9.340909e-03],\n",
       "       [9.337900e-03, 8.253968e-03],\n",
       "       [8.275340e-03, 9.037879e-03],\n",
       "       [9.286798e-03, 8.835616e-03],\n",
       "       [8.107903e-03, 9.072948e-03],\n",
       "       [9.474886e-03, 9.424678e-03],\n",
       "       [8.741471e-03, 9.969697e-03],\n",
       "       [9.002302e-03, 9.541985e-03],\n",
       "       [1.067784e-02, 9.651779e-03],\n",
       "       [8.955793e-03, 9.306402e-03]])\n",
       "Coordinates:\n",
       "  * reco_log_energy  (reco_log_energy) float64 5.05 5.15 5.25 5.35 5.45 5.55 ...\n",
       "  * composition      (composition) int64 0 1\n",
       "Attributes:\n",
       "    units:    log10(E/GeV)"
      ]
     },
     "execution_count": 88,
     "metadata": {},
     "output_type": "execute_result"
    }
   ],
   "source": [
    "efficiency_xr = xr.DataArray(efficiency,\n",
    "                             coords=[ebin_midpoints, np.arange(num_groups)], dims=['reco_log_energy', 'composition'],\n",
    "                             name='efficiency',\n",
    "                             attrs={'units': 'log10(E/GeV)'})\n",
    "efficiency_xr"
   ]
  },
  {
   "cell_type": "code",
   "execution_count": 89,
   "metadata": {},
   "outputs": [
    {
     "data": {
      "text/plain": [
       "array([[0.00000000e+00, 0.00000000e+00],\n",
       "       [0.00000000e+00, 0.00000000e+00],\n",
       "       [0.00000000e+00, 0.00000000e+00],\n",
       "       [3.35281283e-06, 1.67260791e-06],\n",
       "       [4.99894553e-05, 6.68034049e-06],\n",
       "       [1.16642062e-04, 3.16838287e-05],\n",
       "       [4.12511025e-04, 1.25161994e-04],\n",
       "       [1.06109536e-03, 4.18560053e-04],\n",
       "       [2.47230919e-03, 1.15162405e-03],\n",
       "       [4.43411791e-03, 2.80798074e-03],\n",
       "       [5.48436368e-03, 4.36051397e-03],\n",
       "       [7.18016565e-03, 6.47836781e-03],\n",
       "       [7.92533676e-03, 7.29908791e-03],\n",
       "       [8.49721770e-03, 8.08189158e-03],\n",
       "       [7.90708595e-03, 8.93342498e-03],\n",
       "       [8.66321873e-03, 7.90495366e-03],\n",
       "       [9.56674711e-03, 8.24702009e-03],\n",
       "       [9.39566458e-03, 9.37283737e-03],\n",
       "       [9.09535407e-03, 8.38320360e-03],\n",
       "       [8.70482982e-03, 8.83044983e-03],\n",
       "       [8.57580398e-03, 9.34090909e-03],\n",
       "       [9.33789954e-03, 8.25396825e-03],\n",
       "       [8.27534039e-03, 9.03787879e-03],\n",
       "       [9.28679818e-03, 8.83561644e-03],\n",
       "       [8.10790274e-03, 9.07294833e-03],\n",
       "       [9.47488584e-03, 9.42467827e-03],\n",
       "       [8.74147081e-03, 9.96969697e-03],\n",
       "       [9.00230238e-03, 9.54198473e-03],\n",
       "       [1.06778370e-02, 9.65177896e-03],\n",
       "       [8.95579268e-03, 9.30640244e-03]])"
      ]
     },
     "execution_count": 89,
     "metadata": {},
     "output_type": "execute_result"
    }
   ],
   "source": [
    "efficiency_xr.values"
   ]
  },
  {
   "cell_type": "code",
   "execution_count": 90,
   "metadata": {},
   "outputs": [
    {
     "data": {
      "text/plain": [
       "'efficiency'"
      ]
     },
     "execution_count": 90,
     "metadata": {},
     "output_type": "execute_result"
    }
   ],
   "source": [
    "efficiency_xr.name"
   ]
  },
  {
   "cell_type": "code",
   "execution_count": 91,
   "metadata": {},
   "outputs": [
    {
     "data": {
      "text/plain": [
       "<xarray.DataArray 'efficiency' (reco_log_energy: 10, composition: 2)>\n",
       "array([[0.000000e+00, 0.000000e+00],\n",
       "       [0.000000e+00, 0.000000e+00],\n",
       "       [0.000000e+00, 0.000000e+00],\n",
       "       [3.352813e-06, 1.672608e-06],\n",
       "       [4.998946e-05, 6.680340e-06],\n",
       "       [1.166421e-04, 3.168383e-05],\n",
       "       [4.125110e-04, 1.251620e-04],\n",
       "       [1.061095e-03, 4.185601e-04],\n",
       "       [2.472309e-03, 1.151624e-03],\n",
       "       [4.434118e-03, 2.807981e-03]])\n",
       "Coordinates:\n",
       "  * reco_log_energy  (reco_log_energy) float64 5.05 5.15 5.25 5.35 5.45 5.55 ...\n",
       "  * composition      (composition) int64 0 1\n",
       "Attributes:\n",
       "    units:    log10(E/GeV)"
      ]
     },
     "execution_count": 91,
     "metadata": {},
     "output_type": "execute_result"
    }
   ],
   "source": [
    "efficiency_xr[:10, :]"
   ]
  },
  {
   "cell_type": "code",
   "execution_count": 94,
   "metadata": {},
   "outputs": [
    {
     "data": {
      "text/plain": [
       "<xarray.DataArray 'reco_log_energy' (reco_log_energy: 30)>\n",
       "array([False, False, False, False, False, False, False, False,  True,  True,\n",
       "        True,  True,  True,  True,  True,  True,  True,  True,  True,  True,\n",
       "        True,  True,  True,  True,  True,  True,  True,  True,  True,  True])\n",
       "Coordinates:\n",
       "  * reco_log_energy  (reco_log_energy) float64 5.05 5.15 5.25 5.35 5.45 5.55 ..."
      ]
     },
     "execution_count": 94,
     "metadata": {},
     "output_type": "execute_result"
    }
   ],
   "source": [
    "efficiency_xr.coords['reco_log_energy'] > 5.8"
   ]
  },
  {
   "cell_type": "code",
   "execution_count": 96,
   "metadata": {},
   "outputs": [
    {
     "data": {
      "text/plain": [
       "<xarray.DataArray 'efficiency' (reco_log_energy: 22, composition: 2)>\n",
       "array([[0.002472, 0.001152],\n",
       "       [0.004434, 0.002808],\n",
       "       [0.005484, 0.004361],\n",
       "       [0.00718 , 0.006478],\n",
       "       [0.007925, 0.007299],\n",
       "       [0.008497, 0.008082],\n",
       "       [0.007907, 0.008933],\n",
       "       [0.008663, 0.007905],\n",
       "       [0.009567, 0.008247],\n",
       "       [0.009396, 0.009373],\n",
       "       [0.009095, 0.008383],\n",
       "       [0.008705, 0.00883 ],\n",
       "       [0.008576, 0.009341],\n",
       "       [0.009338, 0.008254],\n",
       "       [0.008275, 0.009038],\n",
       "       [0.009287, 0.008836],\n",
       "       [0.008108, 0.009073],\n",
       "       [0.009475, 0.009425],\n",
       "       [0.008741, 0.00997 ],\n",
       "       [0.009002, 0.009542],\n",
       "       [0.010678, 0.009652],\n",
       "       [0.008956, 0.009306]])\n",
       "Coordinates:\n",
       "  * reco_log_energy  (reco_log_energy) float64 5.85 5.95 6.05 6.15 6.25 6.35 ...\n",
       "  * composition      (composition) int64 0 1\n",
       "Attributes:\n",
       "    units:    log10(E/GeV)"
      ]
     },
     "execution_count": 96,
     "metadata": {},
     "output_type": "execute_result"
    }
   ],
   "source": [
    "efficiency_xr[efficiency_xr.coords['reco_log_energy'] > 5.8]"
   ]
  },
  {
   "cell_type": "code",
   "execution_count": null,
   "metadata": {},
   "outputs": [],
   "source": []
  },
  {
   "cell_type": "code",
   "execution_count": null,
   "metadata": {},
   "outputs": [],
   "source": []
  }
 ],
 "metadata": {
  "kernelspec": {
   "display_name": "Python 2",
   "language": "python",
   "name": "python2"
  },
  "language_info": {
   "codemirror_mode": {
    "name": "ipython",
    "version": 2
   },
   "file_extension": ".py",
   "mimetype": "text/x-python",
   "name": "python",
   "nbconvert_exporter": "python",
   "pygments_lexer": "ipython2",
   "version": "2.7.13"
  }
 },
 "nbformat": 4,
 "nbformat_minor": 2
}
