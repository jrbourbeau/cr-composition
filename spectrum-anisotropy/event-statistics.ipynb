{
 "cells": [
  {
   "cell_type": "code",
   "execution_count": 1,
   "metadata": {},
   "outputs": [],
   "source": [
    "import numpy as np\n",
    "import matplotlib.pyplot as plt\n",
    "from matplotlib.colors import LogNorm\n",
    "import seaborn as sns\n",
    "\n",
    "import comptools as comp\n",
    "\n",
    "%matplotlib inline"
   ]
  },
  {
   "cell_type": "code",
   "execution_count": 2,
   "metadata": {},
   "outputs": [],
   "source": [
    "sns.set_context(context='paper', font_scale=1.75)"
   ]
  },
  {
   "cell_type": "code",
   "execution_count": 3,
   "metadata": {},
   "outputs": [
    {
     "name": "stdout",
     "output_type": "stream",
     "text": [
      "[#                                       ] | 3% Completed |  0.1s"
     ]
    },
    {
     "name": "stderr",
     "output_type": "stream",
     "text": [
      "/home/jbourbeau/cr-composition/.virtualenv/lib/python2.7/site-packages/dask/base.py:835: UserWarning: The get= keyword has been deprecated. Please use the scheduler= keyword instead with the name of the desired scheduler like 'threads' or 'processes'\n",
      "  warnings.warn(\"The get= keyword has been deprecated. \"\n"
     ]
    },
    {
     "name": "stdout",
     "output_type": "stream",
     "text": [
      "[########################################] | 100% Completed |  2.3s\n",
      "[########################################] | 100% Completed |  0.1s\n"
     ]
    }
   ],
   "source": [
    "df_sim_train, df_sim_test = comp.load_sim(config='IC86.2012', test_size=0.5, verbose=True)"
   ]
  },
  {
   "cell_type": "code",
   "execution_count": 4,
   "metadata": {},
   "outputs": [
    {
     "data": {
      "text/html": [
       "<div>\n",
       "<style scoped>\n",
       "    .dataframe tbody tr th:only-of-type {\n",
       "        vertical-align: middle;\n",
       "    }\n",
       "\n",
       "    .dataframe tbody tr th {\n",
       "        vertical-align: top;\n",
       "    }\n",
       "\n",
       "    .dataframe thead th {\n",
       "        text-align: right;\n",
       "    }\n",
       "</style>\n",
       "<table border=\"1\" class=\"dataframe\">\n",
       "  <thead>\n",
       "    <tr style=\"text-align: right;\">\n",
       "      <th></th>\n",
       "      <th>FractionContainment_Laputop_IceTop</th>\n",
       "      <th>FractionContainment_Laputop_InIce</th>\n",
       "      <th>FractionContainment_MCPrimary_IceTop</th>\n",
       "      <th>FractionContainment_MCPrimary_InIce</th>\n",
       "      <th>IceTopLLHRatio</th>\n",
       "      <th>IceTopMaxSignal</th>\n",
       "      <th>IceTopMaxSignalInEdge</th>\n",
       "      <th>IceTopMaxSignalString</th>\n",
       "      <th>IceTopNeighbourMaxSignal</th>\n",
       "      <th>IceTop_charge_beyond_0m</th>\n",
       "      <th>...</th>\n",
       "      <th>lap_cos_zenith</th>\n",
       "      <th>log_s50</th>\n",
       "      <th>log_s80</th>\n",
       "      <th>log_s125</th>\n",
       "      <th>log_s180</th>\n",
       "      <th>log_s250</th>\n",
       "      <th>log_s500</th>\n",
       "      <th>log_dEdX</th>\n",
       "      <th>reco_log_energy</th>\n",
       "      <th>reco_energy</th>\n",
       "    </tr>\n",
       "  </thead>\n",
       "  <tbody>\n",
       "    <tr>\n",
       "      <th>12360_18613_52_0</th>\n",
       "      <td>0.379626</td>\n",
       "      <td>0.249300</td>\n",
       "      <td>0.374419</td>\n",
       "      <td>0.258233</td>\n",
       "      <td>10.412583</td>\n",
       "      <td>188.481140</td>\n",
       "      <td>0</td>\n",
       "      <td>27</td>\n",
       "      <td>72.263519</td>\n",
       "      <td>283.066990</td>\n",
       "      <td>...</td>\n",
       "      <td>0.984633</td>\n",
       "      <td>1.370017</td>\n",
       "      <td>0.804903</td>\n",
       "      <td>0.244963</td>\n",
       "      <td>-0.229421</td>\n",
       "      <td>-0.669786</td>\n",
       "      <td>-1.639385</td>\n",
       "      <td>1.018793</td>\n",
       "      <td>6.290687</td>\n",
       "      <td>1.952932e+06</td>\n",
       "    </tr>\n",
       "    <tr>\n",
       "      <th>12631_2243_86_0</th>\n",
       "      <td>0.695386</td>\n",
       "      <td>0.731950</td>\n",
       "      <td>0.703351</td>\n",
       "      <td>0.715170</td>\n",
       "      <td>22.240263</td>\n",
       "      <td>79.426804</td>\n",
       "      <td>0</td>\n",
       "      <td>39</td>\n",
       "      <td>79.426804</td>\n",
       "      <td>235.309669</td>\n",
       "      <td>...</td>\n",
       "      <td>0.893669</td>\n",
       "      <td>2.510796</td>\n",
       "      <td>1.879095</td>\n",
       "      <td>1.255928</td>\n",
       "      <td>0.729885</td>\n",
       "      <td>0.242979</td>\n",
       "      <td>-0.824820</td>\n",
       "      <td>1.917759</td>\n",
       "      <td>7.261951</td>\n",
       "      <td>1.827894e+07</td>\n",
       "    </tr>\n",
       "    <tr>\n",
       "      <th>12362_922_23_0</th>\n",
       "      <td>0.674846</td>\n",
       "      <td>0.839638</td>\n",
       "      <td>0.676209</td>\n",
       "      <td>0.840778</td>\n",
       "      <td>30.341618</td>\n",
       "      <td>112.659660</td>\n",
       "      <td>0</td>\n",
       "      <td>39</td>\n",
       "      <td>112.659660</td>\n",
       "      <td>240.849009</td>\n",
       "      <td>...</td>\n",
       "      <td>0.983260</td>\n",
       "      <td>2.357847</td>\n",
       "      <td>1.778757</td>\n",
       "      <td>1.205547</td>\n",
       "      <td>0.720321</td>\n",
       "      <td>0.270187</td>\n",
       "      <td>-0.720023</td>\n",
       "      <td>2.010233</td>\n",
       "      <td>7.173221</td>\n",
       "      <td>1.490121e+07</td>\n",
       "    </tr>\n",
       "    <tr>\n",
       "      <th>12630_12973_7_0</th>\n",
       "      <td>0.699867</td>\n",
       "      <td>0.444447</td>\n",
       "      <td>0.691566</td>\n",
       "      <td>0.462568</td>\n",
       "      <td>10.726188</td>\n",
       "      <td>34.660755</td>\n",
       "      <td>0</td>\n",
       "      <td>64</td>\n",
       "      <td>20.567366</td>\n",
       "      <td>62.875596</td>\n",
       "      <td>...</td>\n",
       "      <td>0.992275</td>\n",
       "      <td>1.693047</td>\n",
       "      <td>0.970657</td>\n",
       "      <td>0.261376</td>\n",
       "      <td>-0.335027</td>\n",
       "      <td>-0.885320</td>\n",
       "      <td>-2.086865</td>\n",
       "      <td>0.422414</td>\n",
       "      <td>6.291234</td>\n",
       "      <td>1.955391e+06</td>\n",
       "    </tr>\n",
       "    <tr>\n",
       "      <th>12362_2358_29_0</th>\n",
       "      <td>0.494816</td>\n",
       "      <td>0.606553</td>\n",
       "      <td>0.502146</td>\n",
       "      <td>0.607387</td>\n",
       "      <td>15.752631</td>\n",
       "      <td>23.606428</td>\n",
       "      <td>0</td>\n",
       "      <td>48</td>\n",
       "      <td>17.062416</td>\n",
       "      <td>87.071176</td>\n",
       "      <td>...</td>\n",
       "      <td>0.965630</td>\n",
       "      <td>2.163673</td>\n",
       "      <td>1.480833</td>\n",
       "      <td>0.809108</td>\n",
       "      <td>0.243389</td>\n",
       "      <td>-0.279260</td>\n",
       "      <td>-1.422478</td>\n",
       "      <td>1.552130</td>\n",
       "      <td>6.797043</td>\n",
       "      <td>6.266752e+06</td>\n",
       "    </tr>\n",
       "  </tbody>\n",
       "</table>\n",
       "<p>5 rows × 102 columns</p>\n",
       "</div>"
      ],
      "text/plain": [
       "                  FractionContainment_Laputop_IceTop  \\\n",
       "12360_18613_52_0                            0.379626   \n",
       "12631_2243_86_0                             0.695386   \n",
       "12362_922_23_0                              0.674846   \n",
       "12630_12973_7_0                             0.699867   \n",
       "12362_2358_29_0                             0.494816   \n",
       "\n",
       "                  FractionContainment_Laputop_InIce  \\\n",
       "12360_18613_52_0                           0.249300   \n",
       "12631_2243_86_0                            0.731950   \n",
       "12362_922_23_0                             0.839638   \n",
       "12630_12973_7_0                            0.444447   \n",
       "12362_2358_29_0                            0.606553   \n",
       "\n",
       "                  FractionContainment_MCPrimary_IceTop  \\\n",
       "12360_18613_52_0                              0.374419   \n",
       "12631_2243_86_0                               0.703351   \n",
       "12362_922_23_0                                0.676209   \n",
       "12630_12973_7_0                               0.691566   \n",
       "12362_2358_29_0                               0.502146   \n",
       "\n",
       "                  FractionContainment_MCPrimary_InIce  IceTopLLHRatio  \\\n",
       "12360_18613_52_0                             0.258233       10.412583   \n",
       "12631_2243_86_0                              0.715170       22.240263   \n",
       "12362_922_23_0                               0.840778       30.341618   \n",
       "12630_12973_7_0                              0.462568       10.726188   \n",
       "12362_2358_29_0                              0.607387       15.752631   \n",
       "\n",
       "                  IceTopMaxSignal  IceTopMaxSignalInEdge  \\\n",
       "12360_18613_52_0       188.481140                      0   \n",
       "12631_2243_86_0         79.426804                      0   \n",
       "12362_922_23_0         112.659660                      0   \n",
       "12630_12973_7_0         34.660755                      0   \n",
       "12362_2358_29_0         23.606428                      0   \n",
       "\n",
       "                  IceTopMaxSignalString  IceTopNeighbourMaxSignal  \\\n",
       "12360_18613_52_0                     27                 72.263519   \n",
       "12631_2243_86_0                      39                 79.426804   \n",
       "12362_922_23_0                       39                112.659660   \n",
       "12630_12973_7_0                      64                 20.567366   \n",
       "12362_2358_29_0                      48                 17.062416   \n",
       "\n",
       "                  IceTop_charge_beyond_0m      ...       lap_cos_zenith  \\\n",
       "12360_18613_52_0               283.066990      ...             0.984633   \n",
       "12631_2243_86_0                235.309669      ...             0.893669   \n",
       "12362_922_23_0                 240.849009      ...             0.983260   \n",
       "12630_12973_7_0                 62.875596      ...             0.992275   \n",
       "12362_2358_29_0                 87.071176      ...             0.965630   \n",
       "\n",
       "                   log_s50   log_s80  log_s125  log_s180  log_s250  log_s500  \\\n",
       "12360_18613_52_0  1.370017  0.804903  0.244963 -0.229421 -0.669786 -1.639385   \n",
       "12631_2243_86_0   2.510796  1.879095  1.255928  0.729885  0.242979 -0.824820   \n",
       "12362_922_23_0    2.357847  1.778757  1.205547  0.720321  0.270187 -0.720023   \n",
       "12630_12973_7_0   1.693047  0.970657  0.261376 -0.335027 -0.885320 -2.086865   \n",
       "12362_2358_29_0   2.163673  1.480833  0.809108  0.243389 -0.279260 -1.422478   \n",
       "\n",
       "                  log_dEdX  reco_log_energy   reco_energy  \n",
       "12360_18613_52_0  1.018793         6.290687  1.952932e+06  \n",
       "12631_2243_86_0   1.917759         7.261951  1.827894e+07  \n",
       "12362_922_23_0    2.010233         7.173221  1.490121e+07  \n",
       "12630_12973_7_0   0.422414         6.291234  1.955391e+06  \n",
       "12362_2358_29_0   1.552130         6.797043  6.266752e+06  \n",
       "\n",
       "[5 rows x 102 columns]"
      ]
     },
     "execution_count": 4,
     "metadata": {},
     "output_type": "execute_result"
    }
   ],
   "source": [
    "df_sim_test.head()"
   ]
  },
  {
   "cell_type": "code",
   "execution_count": 5,
   "metadata": {},
   "outputs": [
    {
     "data": {
      "text/plain": [
       "[array([6.1, 6.2, 6.3, 6.4, 6.5, 6.6, 6.7, 6.8, 6.9, 7. , 7.1, 7.2, 7.3,\n",
       "        7.4, 7.5, 7.6, 7.7, 7.8, 7.9, 8. ]), array([0, 1, 2])]"
      ]
     },
     "execution_count": 5,
     "metadata": {},
     "output_type": "execute_result"
    }
   ],
   "source": [
    "energybins = comp.get_bins()\n",
    "energybins"
   ]
  },
  {
   "cell_type": "code",
   "execution_count": 6,
   "metadata": {},
   "outputs": [
    {
     "name": "stderr",
     "output_type": "stream",
     "text": [
      "/home/jbourbeau/cr-composition/.virtualenv/lib/python2.7/site-packages/matplotlib/figure.py:2267: UserWarning: This figure includes Axes that are not compatible with tight_layout, so results might be incorrect.\n",
      "  warnings.warn(\"This figure includes Axes that are not compatible \"\n"
     ]
    },
    {
     "data": {
      "image/png": "[encoded data removed]",
      "text/plain": [
       "<Figure size 432x288 with 2 Axes>"
      ]
     },
     "metadata": {},
     "output_type": "display_data"
    }
   ],
   "source": [
    "plt.hist2d(df_sim_test['reco_log_energy'],\n",
    "           np.rad2deg(df_sim_test['lap_zenith']),\n",
    "           bins=[energybins[0], 4])\n",
    "#            norm=LogNorm())\n",
    "plt.colorbar(label='Counts')\n",
    "plt.xlabel('$\\mathrm{\\log_{10}(E_{reco}/GeV)}$')\n",
    "plt.ylabel('$\\mathrm{\\\\theta_{lap} [^{\\circ}]}$')\n",
    "# plt.ylabel('$\\mathrm{\\cos(\\\\theta)}$')\n",
    "plt.show()"
   ]
  },
  {
   "cell_type": "code",
   "execution_count": 7,
   "metadata": {},
   "outputs": [],
   "source": [
    "h, _, _ = np.histogram2d(df_sim_test['reco_log_energy'],\n",
    "                         np.rad2deg(df_sim_test['lap_zenith']),\n",
    "                         bins=[energybins[0], 4])"
   ]
  },
  {
   "cell_type": "code",
   "execution_count": 15,
   "metadata": {},
   "outputs": [
    {
     "name": "stderr",
     "output_type": "stream",
     "text": [
      "ERROR:root:Internal Python error in the inspect module.\n",
      "Below is the traceback from this internal error.\n",
      "\n"
     ]
    },
    {
     "name": "stdout",
     "output_type": "stream",
     "text": [
      "Traceback (most recent call last):\n",
      "  File \"/home/jbourbeau/cr-composition/.virtualenv/lib/python2.7/site-packages/IPython/core/ultratb.py\", line 1132, in get_records\n",
      "    return _fixed_getinnerframes(etb, number_of_lines_of_context, tb_offset)\n",
      "  File \"/home/jbourbeau/cr-composition/.virtualenv/lib/python2.7/site-packages/IPython/core/ultratb.py\", line 313, in wrapped\n",
      "    return f(*args, **kwargs)\n",
      "  File \"/home/jbourbeau/cr-composition/.virtualenv/lib/python2.7/site-packages/IPython/core/ultratb.py\", line 358, in _fixed_getinnerframes\n",
      "    records = fix_frame_records_filenames(inspect.getinnerframes(etb, context))\n",
      "  File \"/cvmfs/icecube.opensciencegrid.org/py2-v3/RHEL_7_x86_64/lib64/python2.7/inspect.py\", line 1048, in getinnerframes\n",
      "    framelist.append((tb.tb_frame,) + getframeinfo(tb, context))\n",
      "  File \"/cvmfs/icecube.opensciencegrid.org/py2-v3/RHEL_7_x86_64/lib64/python2.7/inspect.py\", line 1008, in getframeinfo\n",
      "    filename = getsourcefile(frame) or getfile(frame)\n",
      "  File \"/cvmfs/icecube.opensciencegrid.org/py2-v3/RHEL_7_x86_64/lib64/python2.7/inspect.py\", line 450, in getsourcefile\n",
      "    if os.path.exists(filename):\n",
      "  File \"/home/jbourbeau/cr-composition/.virtualenv/lib/python2.7/genericpath.py\", line 26, in exists\n",
      "    os.stat(path)\n",
      "KeyboardInterrupt\n"
     ]
    },
    {
     "ename": "IndexError",
     "evalue": "string index out of range",
     "output_type": "error",
     "traceback": [
      "\u001b[0;31m\u001b[0m",
      "\u001b[0;31mIndexError\u001b[0mTraceback (most recent call last)",
      "\u001b[0;32m/home/jbourbeau/cr-composition/.virtualenv/lib/python2.7/site-packages/IPython/core/interactiveshell.pyc\u001b[0m in \u001b[0;36mrun_code\u001b[0;34m(self, code_obj, result)\u001b[0m\n\u001b[1;32m   2893\u001b[0m             \u001b[0;32mif\u001b[0m \u001b[0mresult\u001b[0m \u001b[0;32mis\u001b[0m \u001b[0;32mnot\u001b[0m \u001b[0mNone\u001b[0m\u001b[0;34m:\u001b[0m\u001b[0;34m\u001b[0m\u001b[0m\n\u001b[1;32m   2894\u001b[0m                 \u001b[0mresult\u001b[0m\u001b[0;34m.\u001b[0m\u001b[0merror_in_exec\u001b[0m \u001b[0;34m=\u001b[0m \u001b[0msys\u001b[0m\u001b[0;34m.\u001b[0m\u001b[0mexc_info\u001b[0m\u001b[0;34m(\u001b[0m\u001b[0;34m)\u001b[0m\u001b[0;34m[\u001b[0m\u001b[0;36m1\u001b[0m\u001b[0;34m]\u001b[0m\u001b[0;34m\u001b[0m\u001b[0m\n\u001b[0;32m-> 2895\u001b[0;31m             \u001b[0mself\u001b[0m\u001b[0;34m.\u001b[0m\u001b[0mshowtraceback\u001b[0m\u001b[0;34m(\u001b[0m\u001b[0;34m)\u001b[0m\u001b[0;34m\u001b[0m\u001b[0m\n\u001b[0m\u001b[1;32m   2896\u001b[0m         \u001b[0;32melse\u001b[0m\u001b[0;34m:\u001b[0m\u001b[0;34m\u001b[0m\u001b[0m\n\u001b[1;32m   2897\u001b[0m             \u001b[0moutflag\u001b[0m \u001b[0;34m=\u001b[0m \u001b[0;36m0\u001b[0m\u001b[0;34m\u001b[0m\u001b[0m\n",
      "\u001b[0;32m/home/jbourbeau/cr-composition/.virtualenv/lib/python2.7/site-packages/IPython/core/interactiveshell.pyc\u001b[0m in \u001b[0;36mshowtraceback\u001b[0;34m(self, exc_tuple, filename, tb_offset, exception_only)\u001b[0m\n\u001b[1;32m   1824\u001b[0m                     \u001b[0;32mexcept\u001b[0m \u001b[0mException\u001b[0m\u001b[0;34m:\u001b[0m\u001b[0;34m\u001b[0m\u001b[0m\n\u001b[1;32m   1825\u001b[0m                         stb = self.InteractiveTB.structured_traceback(etype,\n\u001b[0;32m-> 1826\u001b[0;31m                                             value, tb, tb_offset=tb_offset)\n\u001b[0m\u001b[1;32m   1827\u001b[0m \u001b[0;34m\u001b[0m\u001b[0m\n\u001b[1;32m   1828\u001b[0m                     \u001b[0mself\u001b[0m\u001b[0;34m.\u001b[0m\u001b[0m_showtraceback\u001b[0m\u001b[0;34m(\u001b[0m\u001b[0metype\u001b[0m\u001b[0;34m,\u001b[0m \u001b[0mvalue\u001b[0m\u001b[0;34m,\u001b[0m \u001b[0mstb\u001b[0m\u001b[0;34m)\u001b[0m\u001b[0;34m\u001b[0m\u001b[0m\n",
      "\u001b[0;32m/home/jbourbeau/cr-composition/.virtualenv/lib/python2.7/site-packages/IPython/core/ultratb.pyc\u001b[0m in \u001b[0;36mstructured_traceback\u001b[0;34m(self, etype, value, tb, tb_offset, number_of_lines_of_context)\u001b[0m\n\u001b[1;32m   1409\u001b[0m         \u001b[0mself\u001b[0m\u001b[0;34m.\u001b[0m\u001b[0mtb\u001b[0m \u001b[0;34m=\u001b[0m \u001b[0mtb\u001b[0m\u001b[0;34m\u001b[0m\u001b[0m\n\u001b[1;32m   1410\u001b[0m         return FormattedTB.structured_traceback(\n\u001b[0;32m-> 1411\u001b[0;31m             self, etype, value, tb, tb_offset, number_of_lines_of_context)\n\u001b[0m\u001b[1;32m   1412\u001b[0m \u001b[0;34m\u001b[0m\u001b[0m\n\u001b[1;32m   1413\u001b[0m \u001b[0;34m\u001b[0m\u001b[0m\n",
      "\u001b[0;32m/home/jbourbeau/cr-composition/.virtualenv/lib/python2.7/site-packages/IPython/core/ultratb.pyc\u001b[0m in \u001b[0;36mstructured_traceback\u001b[0;34m(self, etype, value, tb, tb_offset, number_of_lines_of_context)\u001b[0m\n\u001b[1;32m   1317\u001b[0m             \u001b[0;31m# Verbose modes need a full traceback\u001b[0m\u001b[0;34m\u001b[0m\u001b[0;34m\u001b[0m\u001b[0m\n\u001b[1;32m   1318\u001b[0m             return VerboseTB.structured_traceback(\n\u001b[0;32m-> 1319\u001b[0;31m                 \u001b[0mself\u001b[0m\u001b[0;34m,\u001b[0m \u001b[0metype\u001b[0m\u001b[0;34m,\u001b[0m \u001b[0mvalue\u001b[0m\u001b[0;34m,\u001b[0m \u001b[0mtb\u001b[0m\u001b[0;34m,\u001b[0m \u001b[0mtb_offset\u001b[0m\u001b[0;34m,\u001b[0m \u001b[0mnumber_of_lines_of_context\u001b[0m\u001b[0;34m\u001b[0m\u001b[0m\n\u001b[0m\u001b[1;32m   1320\u001b[0m             )\n\u001b[1;32m   1321\u001b[0m         \u001b[0;32melse\u001b[0m\u001b[0;34m:\u001b[0m\u001b[0;34m\u001b[0m\u001b[0m\n",
      "\u001b[0;32m/home/jbourbeau/cr-composition/.virtualenv/lib/python2.7/site-packages/IPython/core/ultratb.pyc\u001b[0m in \u001b[0;36mstructured_traceback\u001b[0;34m(self, etype, evalue, etb, tb_offset, number_of_lines_of_context)\u001b[0m\n\u001b[1;32m   1202\u001b[0m                 \u001b[0mstructured_traceback_parts\u001b[0m \u001b[0;34m+=\u001b[0m \u001b[0mformatted_exception\u001b[0m\u001b[0;34m\u001b[0m\u001b[0m\n\u001b[1;32m   1203\u001b[0m         \u001b[0;32melse\u001b[0m\u001b[0;34m:\u001b[0m\u001b[0;34m\u001b[0m\u001b[0m\n\u001b[0;32m-> 1204\u001b[0;31m             \u001b[0mstructured_traceback_parts\u001b[0m \u001b[0;34m+=\u001b[0m \u001b[0mformatted_exception\u001b[0m\u001b[0;34m[\u001b[0m\u001b[0;36m0\u001b[0m\u001b[0;34m]\u001b[0m\u001b[0;34m\u001b[0m\u001b[0m\n\u001b[0m\u001b[1;32m   1205\u001b[0m \u001b[0;34m\u001b[0m\u001b[0m\n\u001b[1;32m   1206\u001b[0m         \u001b[0;32mreturn\u001b[0m \u001b[0mstructured_traceback_parts\u001b[0m\u001b[0;34m\u001b[0m\u001b[0m\n",
      "\u001b[0;31mIndexError\u001b[0m: string index out of range"
     ]
    }
   ],
   "source": [
    "sns.heatmap(h.T)\n",
    "# sns.heatmap(h.T, annot=True, fmt='0.0f', square=True, robust=True)\n",
    "plt.gca().invert_yaxis()\n",
    "plt.xlabel('$\\mathrm{\\log_{10}(E_{reco}/GeV)}$')\n",
    "plt.ylabel('$\\mathrm{\\\\theta_{lap} [^{\\circ}]}$')\n",
    "plt.show()"
   ]
  },
  {
   "cell_type": "code",
   "execution_count": null,
   "metadata": {},
   "outputs": [],
   "source": []
  }
 ],
 "metadata": {
  "kernelspec": {
   "display_name": "Python 2",
   "language": "python",
   "name": "python2"
  },
  "language_info": {
   "codemirror_mode": {
    "name": "ipython",
    "version": 2
   },
   "file_extension": ".py",
   "mimetype": "text/x-python",
   "name": "python",
   "nbconvert_exporter": "python",
   "pygments_lexer": "ipython2",
   "version": "2.7.13"
  }
 },
 "nbformat": 4,
 "nbformat_minor": 2
}
